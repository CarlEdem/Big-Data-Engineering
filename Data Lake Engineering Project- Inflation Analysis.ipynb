{
 "cells": [
  {
   "cell_type": "markdown",
   "metadata": {
    "application/vnd.databricks.v1+cell": {
     "cellMetadata": {
      "byteLimit": 2048000,
      "rowLimit": 10000
     },
     "inputWidgets": {},
     "nuid": "d317d8cd-e28b-4b29-9115-f36c8a147f31",
     "showTitle": false,
     "title": ""
    }
   },
   "source": [
    "#### Install libraries"
   ]
  },
  {
   "cell_type": "code",
   "execution_count": 0,
   "metadata": {
    "application/vnd.databricks.v1+cell": {
     "cellMetadata": {
      "byteLimit": 2048000,
      "rowLimit": 10000
     },
     "inputWidgets": {},
     "nuid": "f9493445-46eb-416e-b7a6-d25526a3f6d3",
     "showTitle": false,
     "title": ""
    }
   },
   "outputs": [
    {
     "output_type": "stream",
     "name": "stdout",
     "output_type": "stream",
     "text": [
      "Python interpreter will be restarted.\nCollecting https://pypi.python.org/packages/source/P/PrettyTable/prettytable-0.7.2.tar.bz2\n  Downloading https://pypi.python.org/packages/source/P/PrettyTable/prettytable-0.7.2.tar.bz2 (21 kB)\nBuilding wheels for collected packages: prettytable\n  Building wheel for prettytable (setup.py): started\n  Building wheel for prettytable (setup.py): finished with status 'done'\n  Created wheel for prettytable: filename=prettytable-0.7.2-py3-none-any.whl size=13714 sha256=7e5a557853b6de44b8a49aaa37292426da90385a9003ef13e321eccfb65dc6bc\n  Stored in directory: /root/.cache/pip/wheels/68/b2/17/757db5c683b62306d0fce26eed8bcffbceb464c5f099555f4b\nSuccessfully built prettytable\nInstalling collected packages: prettytable\nSuccessfully installed prettytable-0.7.2\nPython interpreter will be restarted.\nPython interpreter will be restarted.\nCollecting yfinance\n  Downloading yfinance-0.2.33-py2.py3-none-any.whl (69 kB)\nCollecting appdirs>=1.4.4\n  Downloading appdirs-1.4.4-py2.py3-none-any.whl (9.6 kB)\nCollecting lxml>=4.9.1\n  Downloading lxml-4.9.3-cp39-cp39-manylinux_2_28_x86_64.whl (8.0 MB)\nRequirement already satisfied: beautifulsoup4>=4.11.1 in /databricks/python3/lib/python3.9/site-packages (from yfinance) (4.11.1)\nCollecting pytz>=2022.5\n  Downloading pytz-2023.3.post1-py2.py3-none-any.whl (502 kB)\nCollecting peewee>=3.16.2\n  Downloading peewee-3.17.0.tar.gz (2.9 MB)\n  Installing build dependencies: started\n  Installing build dependencies: finished with status 'done'\n  Getting requirements to build wheel: started\n  Getting requirements to build wheel: finished with status 'error'\n  ERROR: Command errored out with exit status 1:\n   command: /local_disk0/.ephemeral_nfs/envs/pythonEnv-5d699d0c-64e0-4fe1-a149-7eb85fd5a195/bin/python /local_disk0/.ephemeral_nfs/envs/pythonEnv-5d699d0c-64e0-4fe1-a149-7eb85fd5a195/lib/python3.9/site-packages/pip/_vendor/pep517/in_process/_in_process.py get_requires_for_build_wheel /tmp/tmp02265e_a\n       cwd: /tmp/pip-install-j6tomq2o/peewee_ecc52a4deeff423ebaa136f9fa848d41\n  Complete output (40 lines):\n  \n  Error compiling Cython file:\n  ------------------------------------------------------------\n  ...\n  \n  \n  # We define an xConnect function, but leave xCreate NULL so that the\n  # table-function can be called eponymously.\n  cdef int pwConnect(sqlite3 *db, void *pAux, int argc, const char *const*argv,\n                     sqlite3_vtab **ppVtab, char **pzErr) noexcept with gil:\n                                                         ^\n  ------------------------------------------------------------\n  \n  playhouse/_sqlite_ext.pyx:389:56: Syntax error in C variable declaration\n  Compiling playhouse/_sqlite_ext.pyx because it depends on /databricks/python/lib/python3.9/site-packages/Cython/Includes/libc/string.pxd.\n  [1/1] Cythonizing playhouse/_sqlite_ext.pyx\n  Traceback (most recent call last):\n    File \"/local_disk0/.ephemeral_nfs/envs/pythonEnv-5d699d0c-64e0-4fe1-a149-7eb85fd5a195/lib/python3.9/site-packages/pip/_vendor/pep517/in_process/_in_process.py\", line 349, in <module>\n      main()\n    File \"/local_disk0/.ephemeral_nfs/envs/pythonEnv-5d699d0c-64e0-4fe1-a149-7eb85fd5a195/lib/python3.9/site-packages/pip/_vendor/pep517/in_process/_in_process.py\", line 331, in main\n      json_out['return_val'] = hook(**hook_input['kwargs'])\n    File \"/local_disk0/.ephemeral_nfs/envs/pythonEnv-5d699d0c-64e0-4fe1-a149-7eb85fd5a195/lib/python3.9/site-packages/pip/_vendor/pep517/in_process/_in_process.py\", line 117, in get_requires_for_build_wheel\n      return hook(config_settings)\n    File \"/databricks/python/lib/python3.9/site-packages/setuptools/build_meta.py\", line 177, in get_requires_for_build_wheel\n      return self._get_build_requires(\n    File \"/databricks/python/lib/python3.9/site-packages/setuptools/build_meta.py\", line 159, in _get_build_requires\n      self.run_setup()\n    File \"/databricks/python/lib/python3.9/site-packages/setuptools/build_meta.py\", line 281, in run_setup\n      super(_BuildMetaLegacyBackend,\n    File \"/databricks/python/lib/python3.9/site-packages/setuptools/build_meta.py\", line 174, in run_setup\n      exec(compile(code, __file__, 'exec'), locals())\n    File \"setup.py\", line 196, in <module>\n      _do_setup(extension_support, sqlite_extension_support)\n    File \"setup.py\", line 191, in _do_setup\n      ext_modules=cythonize(ext_modules))\n    File \"/databricks/python/lib/python3.9/site-packages/Cython/Build/Dependencies.py\", line 1127, in cythonize\n      cythonize_one(*args)\n    File \"/databricks/python/lib/python3.9/site-packages/Cython/Build/Dependencies.py\", line 1250, in cythonize_one\n      raise CompileError(None, pyx_file)\n  Cython.Compiler.Errors.CompileError: playhouse/_sqlite_ext.pyx\n  ----------------------------------------\nWARNING: Discarding https://files.pythonhosted.org/packages/6a/30/a727bb1420076b3c14b60911d111f0fc0449d31a1123a1ad18878a7a4e40/peewee-3.17.0.tar.gz#sha256=3a56967f28a43ca7a4287f4803752aeeb1a57a08dee2e839b99868181dfb5df8 (from https://pypi.org/simple/peewee/). Command errored out with exit status 1: /local_disk0/.ephemeral_nfs/envs/pythonEnv-5d699d0c-64e0-4fe1-a149-7eb85fd5a195/bin/python /local_disk0/.ephemeral_nfs/envs/pythonEnv-5d699d0c-64e0-4fe1-a149-7eb85fd5a195/lib/python3.9/site-packages/pip/_vendor/pep517/in_process/_in_process.py get_requires_for_build_wheel /tmp/tmp02265e_a Check the logs for full command output.\n  Downloading peewee-3.16.3.tar.gz (928 kB)\n  Installing build dependencies: started\n  Installing build dependencies: finished with status 'done'\n  Getting requirements to build wheel: started\n  Getting requirements to build wheel: finished with status 'error'\n  ERROR: Command errored out with exit status 1:\n   command: /local_disk0/.ephemeral_nfs/envs/pythonEnv-5d699d0c-64e0-4fe1-a149-7eb85fd5a195/bin/python /local_disk0/.ephemeral_nfs/envs/pythonEnv-5d699d0c-64e0-4fe1-a149-7eb85fd5a195/lib/python3.9/site-packages/pip/_vendor/pep517/in_process/_in_process.py get_requires_for_build_wheel /tmp/tmpbg29_h_f\n       cwd: /tmp/pip-install-j6tomq2o/peewee_2af86bf4207447f882737e4bcefb6118\n  Complete output (40 lines):\n  \n  Error compiling Cython file:\n  ------------------------------------------------------------\n  ...\n  \n  \n  # We define an xConnect function, but leave xCreate NULL so that the\n  # table-function can be called eponymously.\n  cdef int pwConnect(sqlite3 *db, void *pAux, int argc, const char *const*argv,\n                     sqlite3_vtab **ppVtab, char **pzErr) noexcept with gil:\n                                                         ^\n  ------------------------------------------------------------\n  \n  playhouse/_sqlite_ext.pyx:389:56: Syntax error in C variable declaration\n  Compiling playhouse/_sqlite_ext.pyx because it depends on /databricks/python/lib/python3.9/site-packages/Cython/Includes/libc/string.pxd.\n  [1/1] Cythonizing playhouse/_sqlite_ext.pyx\n  Traceback (most recent call last):\n    File \"/local_disk0/.ephemeral_nfs/envs/pythonEnv-5d699d0c-64e0-4fe1-a149-7eb85fd5a195/lib/python3.9/site-packages/pip/_vendor/pep517/in_process/_in_process.py\", line 349, in <module>\n      main()\n    File \"/local_disk0/.ephemeral_nfs/envs/pythonEnv-5d699d0c-64e0-4fe1-a149-7eb85fd5a195/lib/python3.9/site-packages/pip/_vendor/pep517/in_process/_in_process.py\", line 331, in main\n      json_out['return_val'] = hook(**hook_input['kwargs'])\n    File \"/local_disk0/.ephemeral_nfs/envs/pythonEnv-5d699d0c-64e0-4fe1-a149-7eb85fd5a195/lib/python3.9/site-packages/pip/_vendor/pep517/in_process/_in_process.py\", line 117, in get_requires_for_build_wheel\n      return hook(config_settings)\n    File \"/databricks/python/lib/python3.9/site-packages/setuptools/build_meta.py\", line 177, in get_requires_for_build_wheel\n      return self._get_build_requires(\n    File \"/databricks/python/lib/python3.9/site-packages/setuptools/build_meta.py\", line 159, in _get_build_requires\n      self.run_setup()\n    File \"/databricks/python/lib/python3.9/site-packages/setuptools/build_meta.py\", line 281, in run_setup\n      super(_BuildMetaLegacyBackend,\n    File \"/databricks/python/lib/python3.9/site-packages/setuptools/build_meta.py\", line 174, in run_setup\n      exec(compile(code, __file__, 'exec'), locals())\n    File \"setup.py\", line 196, in <module>\n      _do_setup(extension_support, sqlite_extension_support)\n    File \"setup.py\", line 191, in _do_setup\n      ext_modules=cythonize(ext_modules))\n    File \"/databricks/python/lib/python3.9/site-packages/Cython/Build/Dependencies.py\", line 1127, in cythonize\n      cythonize_one(*args)\n    File \"/databricks/python/lib/python3.9/site-packages/Cython/Build/Dependencies.py\", line 1250, in cythonize_one\n      raise CompileError(None, pyx_file)\n  Cython.Compiler.Errors.CompileError: playhouse/_sqlite_ext.pyx\n  ----------------------------------------\nWARNING: Discarding https://files.pythonhosted.org/packages/e2/1e/6455dc3c759af3e565414985c5c6f845d3e5f83bbf4a24cdd0aef9cc3f83/peewee-3.16.3.tar.gz#sha256=12b30e931193bc37b11f7c2ac646e3f67125a8b1a543ad6ab37ad124c8df7d16 (from https://pypi.org/simple/peewee/). Command errored out with exit status 1: /local_disk0/.ephemeral_nfs/envs/pythonEnv-5d699d0c-64e0-4fe1-a149-7eb85fd5a195/bin/python /local_disk0/.ephemeral_nfs/envs/pythonEnv-5d699d0c-64e0-4fe1-a149-7eb85fd5a195/lib/python3.9/site-packages/pip/_vendor/pep517/in_process/_in_process.py get_requires_for_build_wheel /tmp/tmpbg29_h_f Check the logs for full command output.\n  Downloading peewee-3.16.2.tar.gz (2.9 MB)\n  Installing build dependencies: started\n  Installing build dependencies: finished with status 'done'\n  Getting requirements to build wheel: started\n  Getting requirements to build wheel: finished with status 'error'\n  ERROR: Command errored out with exit status 1:\n   command: /local_disk0/.ephemeral_nfs/envs/pythonEnv-5d699d0c-64e0-4fe1-a149-7eb85fd5a195/bin/python /local_disk0/.ephemeral_nfs/envs/pythonEnv-5d699d0c-64e0-4fe1-a149-7eb85fd5a195/lib/python3.9/site-packages/pip/_vendor/pep517/in_process/_in_process.py get_requires_for_build_wheel /tmp/tmp0j3d4ysx\n       cwd: /tmp/pip-install-j6tomq2o/peewee_d7112a2b214940a1920c636e07023f6d\n  Complete output (40 lines):\n  \n  Error compiling Cython file:\n  ------------------------------------------------------------\n  ...\n      def autocommit(self):\n          if self.conn.initialized and self.conn.db:\n              return sqlite3_get_autocommit(self.conn.db) != 0\n  \n  \n  cdef int _commit_callback(void *userData) noexcept with gil:\n                                           ^\n  ------------------------------------------------------------\n  \n  playhouse/_sqlite_ext.pyx:1511:42: Syntax error in C variable declaration\n  Compiling playhouse/_sqlite_ext.pyx because it depends on /databricks/python/lib/python3.9/site-packages/Cython/Includes/libc/string.pxd.\n  [1/1] Cythonizing playhouse/_sqlite_ext.pyx\n  Traceback (most recent call last):\n    File \"/local_disk0/.ephemeral_nfs/envs/pythonEnv-5d699d0c-64e0-4fe1-a149-7eb85fd5a195/lib/python3.9/site-packages/pip/_vendor/pep517/in_process/_in_process.py\", line 349, in <module>\n      main()\n    File \"/local_disk0/.ephemeral_nfs/envs/pythonEnv-5d699d0c-64e0-4fe1-a149-7eb85fd5a195/lib/python3.9/site-packages/pip/_vendor/pep517/in_process/_in_process.py\", line 331, in main\n      json_out['return_val'] = hook(**hook_input['kwargs'])\n    File \"/local_disk0/.ephemeral_nfs/envs/pythonEnv-5d699d0c-64e0-4fe1-a149-7eb85fd5a195/lib/python3.9/site-packages/pip/_vendor/pep517/in_process/_in_process.py\", line 117, in get_requires_for_build_wheel\n      return hook(config_settings)\n    File \"/databricks/python/lib/python3.9/site-packages/setuptools/build_meta.py\", line 177, in get_requires_for_build_wheel\n      return self._get_build_requires(\n    File \"/databricks/python/lib/python3.9/site-packages/setuptools/build_meta.py\", line 159, in _get_build_requires\n      self.run_setup()\n    File \"/databricks/python/lib/python3.9/site-packages/setuptools/build_meta.py\", line 281, in run_setup\n      super(_BuildMetaLegacyBackend,\n    File \"/databricks/python/lib/python3.9/site-packages/setuptools/build_meta.py\", line 174, in run_setup\n      exec(compile(code, __file__, 'exec'), locals())\n    File \"setup.py\", line 196, in <module>\n      _do_setup(extension_support, sqlite_extension_support)\n    File \"setup.py\", line 191, in _do_setup\n      ext_modules=cythonize(ext_modules))\n    File \"/databricks/python/lib/python3.9/site-packages/Cython/Build/Dependencies.py\", line 1127, in cythonize\n      cythonize_one(*args)\n    File \"/databricks/python/lib/python3.9/site-packages/Cython/Build/Dependencies.py\", line 1250, in cythonize_one\n      raise CompileError(None, pyx_file)\n  Cython.Compiler.Errors.CompileError: playhouse/_sqlite_ext.pyx\n  ----------------------------------------\nWARNING: Discarding https://files.pythonhosted.org/packages/a9/50/1dd5ea74c559df4afb8391f8d05f0fec685dbe8effba13bb9072901eb288/peewee-3.16.2.tar.gz#sha256=10769981198c7311f84a0ca8db892fa213303a8eb1305deb795a71e7bd606a91 (from https://pypi.org/simple/peewee/). Command errored out with exit status 1: /local_disk0/.ephemeral_nfs/envs/pythonEnv-5d699d0c-64e0-4fe1-a149-7eb85fd5a195/bin/python /local_disk0/.ephemeral_nfs/envs/pythonEnv-5d699d0c-64e0-4fe1-a149-7eb85fd5a195/lib/python3.9/site-packages/pip/_vendor/pep517/in_process/_in_process.py get_requires_for_build_wheel /tmp/tmp0j3d4ysx Check the logs for full command output.\nCollecting yfinance\n  Downloading yfinance-0.2.32-py2.py3-none-any.whl (68 kB)\n  Downloading yfinance-0.2.31-py2.py3-none-any.whl (65 kB)\n  Downloading yfinance-0.2.30-py2.py3-none-any.whl (65 kB)\n  Downloading yfinance-0.2.29-py2.py3-none-any.whl (65 kB)\n  Downloading yfinance-0.2.28-py2.py3-none-any.whl (65 kB)\nRequirement already satisfied: numpy>=1.16.5 in /databricks/python3/lib/python3.9/site-packages (from yfinance) (1.21.5)\nCollecting html5lib>=1.1\n  Downloading html5lib-1.1-py2.py3-none-any.whl (112 kB)\nRequirement already satisfied: pandas>=1.3.0 in /databricks/python3/lib/python3.9/site-packages (from yfinance) (1.4.2)\nCollecting multitasking>=0.0.7\n  Downloading multitasking-0.0.11-py3-none-any.whl (8.5 kB)\nCollecting frozendict>=2.3.4\n  Downloading frozendict-2.3.10-cp39-cp39-manylinux_2_17_x86_64.manylinux2014_x86_64.whl (115 kB)\nCollecting requests>=2.31\n  Downloading requests-2.31.0-py3-none-any.whl (62 kB)\nRequirement already satisfied: soupsieve>1.2 in /databricks/python3/lib/python3.9/site-packages (from beautifulsoup4>=4.11.1->yfinance) (2.3.1)\nRequirement already satisfied: webencodings in /databricks/python3/lib/python3.9/site-packages (from html5lib>=1.1->yfinance) (0.5.1)\nRequirement already satisfied: six>=1.9 in /databricks/python3/lib/python3.9/site-packages (from html5lib>=1.1->yfinance) (1.16.0)\nRequirement already satisfied: python-dateutil>=2.8.1 in /databricks/python3/lib/python3.9/site-packages (from pandas>=1.3.0->yfinance) (2.8.2)\nRequirement already satisfied: idna<4,>=2.5 in /databricks/python3/lib/python3.9/site-packages (from requests>=2.31->yfinance) (3.3)\nRequirement already satisfied: charset-normalizer<4,>=2 in /databricks/python3/lib/python3.9/site-packages (from requests>=2.31->yfinance) (2.0.4)\nRequirement already satisfied: urllib3<3,>=1.21.1 in /databricks/python3/lib/python3.9/site-packages (from requests>=2.31->yfinance) (1.26.9)\nRequirement already satisfied: certifi>=2017.4.17 in /databricks/python3/lib/python3.9/site-packages (from requests>=2.31->yfinance) (2021.10.8)\nInstalling collected packages: pytz, requests, multitasking, lxml, html5lib, frozendict, appdirs, yfinance\n  Attempting uninstall: pytz\n    Found existing installation: pytz 2021.3\n    Not uninstalling pytz at /databricks/python3/lib/python3.9/site-packages, outside environment /local_disk0/.ephemeral_nfs/envs/pythonEnv-5d699d0c-64e0-4fe1-a149-7eb85fd5a195\n    Can't uninstall 'pytz'. No files were found to uninstall.\n  Attempting uninstall: requests\n    Found existing installation: requests 2.27.1\n    Not uninstalling requests at /databricks/python3/lib/python3.9/site-packages, outside environment /local_disk0/.ephemeral_nfs/envs/pythonEnv-5d699d0c-64e0-4fe1-a149-7eb85fd5a195\n    Can't uninstall 'requests'. No files were found to uninstall.\nSuccessfully installed appdirs-1.4.4 frozendict-2.3.10 html5lib-1.1 lxml-4.9.3 multitasking-0.0.11 pytz-2023.3.post1 requests-2.31.0 yfinance-0.2.28\nPython interpreter will be restarted.\n"
     ]
    }
   ],
   "source": [
    "%pip install https://pypi.python.org/packages/source/P/PrettyTable/prettytable-0.7.2.tar.bz2\n",
    "%pip install yfinance"
   ]
  },
  {
   "cell_type": "code",
   "execution_count": 0,
   "metadata": {
    "application/vnd.databricks.v1+cell": {
     "cellMetadata": {
      "byteLimit": 2048000,
      "rowLimit": 10000
     },
     "inputWidgets": {},
     "nuid": "7ef9d444-7538-4554-bb8f-663ab6bf17dc",
     "showTitle": false,
     "title": ""
    }
   },
   "outputs": [
    {
     "output_type": "display_data",
     "data": {
      "text/html": [
       "<div class = \"ansiout\">/**<br /> * Writes the given String out to a file, encoded in UTF-8.<br /> * <br /> * Example: put(\"/mnt/my-folder/my-file\", \"Hello world!\", true)<br /> * <br /> * @param file FileSystem URI<br /> * @param contents Contents of file to write, encoded in System default charset.<br /> * @param overwrite If set to true, the file will be overwritten if it existed already.<br /> *                  Note that if overwrite is true and the the write fails, the original file<br /> *                  may still be deleted.<br /> */<br /><b>put(file: java.lang.String, contents: java.lang.String, overwrite: boolean = false): boolean</b></div><br />"
      ]
     },
     "metadata": {
      "application/vnd.databricks.v1+output": {
       "addedWidgets": {},
       "arguments": {},
       "data": "<div class = \"ansiout\">/**<br /> * Writes the given String out to a file, encoded in UTF-8.<br /> * <br /> * Example: put(\"/mnt/my-folder/my-file\", \"Hello world!\", true)<br /> * <br /> * @param file FileSystem URI<br /> * @param contents Contents of file to write, encoded in System default charset.<br /> * @param overwrite If set to true, the file will be overwritten if it existed already.<br /> *                  Note that if overwrite is true and the the write fails, the original file<br /> *                  may still be deleted.<br /> */<br /><b>put(file: java.lang.String, contents: java.lang.String, overwrite: boolean = false): boolean</b></div><br />",
       "datasetInfos": [],
       "metadata": {},
       "removedWidgets": [],
       "textData": null,
       "type": "htmlSandbox"
      }
     },
     "output_type": "display_data"
    },
    {
     "output_type": "stream",
     "name": "stdout",
     "output_type": "stream",
     "text": [
      "Out[1]: False"
     ]
    }
   ],
   "source": [
    "dbutils.fs.help(\"put\")\n",
    "dbutils.fs.rm(\"dbfs:/FileStore/my-stuff/CUSR0000SA05.txt\")"
   ]
  },
  {
   "cell_type": "markdown",
   "metadata": {
    "application/vnd.databricks.v1+cell": {
     "cellMetadata": {
      "byteLimit": 2048000,
      "rowLimit": 10000
     },
     "inputWidgets": {},
     "nuid": "08193f6c-7228-4a1a-9d70-a998dc38376b",
     "showTitle": false,
     "title": ""
    }
   },
   "source": [
    "#### This is our reference for the sourcing of U.S. Bureau of Labor Statistics data\n",
    "#### U.S. Bureau of Labor Statistics. (March 2, 2021). API version 2.0 Python sample code. U.S. Bureau of Labor Statistics. Retrieved  December 14, 2023, from  https://www.bls.gov/developers/api_python.htm#python2\n"
   ]
  },
  {
   "cell_type": "markdown",
   "metadata": {
    "application/vnd.databricks.v1+cell": {
     "cellMetadata": {
      "byteLimit": 2048000,
      "rowLimit": 10000
     },
     "inputWidgets": {},
     "nuid": "b9a02d77-413e-45e7-88e0-0c57be79fc65",
     "showTitle": false,
     "title": ""
    }
   },
   "source": [
    "#### Source the Gasoline data based on the series id using the data tool API provided by US department of Labor. More information on the series ids https://download.bls.gov/pub/time.series/ap/ap.series\n",
    "#### APU000074714  - Gasoline, unleaded regular, per gallon/3.785 liters in U.S. city average, average price, not seasonally adjusted\t\t1976\tM01\t2023\tM11  https://download.bls.gov/pub/time.series/ap/ap.data.2.Gasoline"
   ]
  },
  {
   "cell_type": "code",
   "execution_count": 0,
   "metadata": {
    "application/vnd.databricks.v1+cell": {
     "cellMetadata": {
      "byteLimit": 2048000,
      "rowLimit": 10000
     },
     "inputWidgets": {},
     "nuid": "5bee54eb-a77d-425c-8be0-5d200904970a",
     "showTitle": false,
     "title": ""
    }
   },
   "outputs": [
    {
     "output_type": "stream",
     "name": "stdout",
     "output_type": "stream",
     "text": [
      "1\n1976\n1986\n{\"seriesid\": [\"APU000074714\", \"APU000074714\"], \"startyear\": \"1976\", \"endyear\": \"1986\"}\n{\"status\":\"REQUEST_SUCCEEDED\",\"responseTime\":309,\"message\":[\"Year range has been reduced to the system-allowed limit of 10 years.\"],\"Results\":{\n\"series\":\n[{\"seriesID\":\"APU000074714\",\"data\":[{\"year\":\"1985\",\"period\":\"M12\",\"periodName\":\"December\",\"value\":\"1.208\",\"footnotes\":[{}]},{\"year\":\"1985\",\"period\":\"M11\",\"periodName\":\"November\",\"value\":\"1.207\",\"footnotes\":[{}]},{\"year\":\"1985\",\"period\":\"M10\",\"periodName\":\"October\",\"value\":\"1.204\",\"footnotes\":[{}]},{\"year\":\"1985\",\"period\":\"M09\",\"periodName\":\"September\",\"value\":\"1.216\",\"footnotes\":[{}]},{\"year\":\"1985\",\"period\":\"M08\",\"periodName\":\"August\",\"value\":\"1.229\",\"footnotes\":[{}]},{\"year\":\"1985\",\"period\":\"M07\",\"periodName\":\"July\",\"value\":\"1.242\",\"footnotes\":[{}]},{\"year\":\"1985\",\"period\":\"M06\",\"periodName\":\"June\",\"value\":\"1.241\",\"footnotes\":[{}]},{\"year\":\"1985\",\"period\":\"M05\",\"periodName\":\"May\",\"value\":\"1.231\",\"footnotes\":[{}]},{\"year\":\"1985\",\"period\":\"M04\",\"periodName\":\"April\",\"value\":\"1.205\",\"footnotes\":[{}]},{\"year\":\"1985\",\"period\":\"M03\",\"periodName\":\"March\",\"value\":\"1.159\",\"footnotes\":[{}]},{\"year\":\"1985\",\"period\":\"M02\",\"periodName\":\"February\",\"value\":\"1.131\",\"footnotes\":[{}]},{\"year\":\"1985\",\"period\":\"M01\",\"periodName\":\"January\",\"value\":\"1.148\",\"footnotes\":[{}]},{\"year\":\"1984\",\"period\":\"M12\",\"periodName\":\"December\",\"value\":\"1.193\",\"footnotes\":[{}]},{\"year\":\"1984\",\"period\":\"M11\",\"periodName\":\"November\",\"value\":\"1.207\",\"footnotes\":[{}]},{\"year\":\"1984\",\"period\":\"M10\",\"periodName\":\"October\",\"value\":\"1.209\",\"footnotes\":[{}]},{\"year\":\"1984\",\"period\":\"M09\",\"periodName\":\"September\",\"value\":\"1.203\",\"footnotes\":[{}]},{\"year\":\"1984\",\"period\":\"M08\",\"periodName\":\"August\",\"value\":\"1.196\",\"footnotes\":[{}]},{\"year\":\"1984\",\"period\":\"M07\",\"periodName\":\"July\",\"value\":\"1.212\",\"footnotes\":[{}]},{\"year\":\"1984\",\"period\":\"M06\",\"periodName\":\"June\",\"value\":\"1.229\",\"footnotes\":[{}]},{\"year\":\"1984\",\"period\":\"M05\",\"periodName\":\"May\",\"value\":\"1.236\",\"footnotes\":[{}]},{\"year\":\"1984\",\"period\":\"M04\",\"periodName\":\"April\",\"value\":\"1.227\",\"footnotes\":[{}]},{\"year\":\"1984\",\"period\":\"M03\",\"periodName\":\"March\",\"value\":\"1.210\",\"footnotes\":[{}]},{\"year\":\"1984\",\"period\":\"M02\",\"periodName\":\"February\",\"value\":\"1.209\",\"footnotes\":[{}]},{\"year\":\"1984\",\"period\":\"M01\",\"periodName\":\"January\",\"value\":\"1.216\",\"footnotes\":[{}]},{\"year\":\"1983\",\"period\":\"M12\",\"periodName\":\"December\",\"value\":\"1.231\",\"footnotes\":[{}]},{\"year\":\"1983\",\"period\":\"M11\",\"periodName\":\"November\",\"value\":\"1.241\",\"footnotes\":[{}]},{\"year\":\"1983\",\"period\":\"M10\",\"periodName\":\"October\",\"value\":\"1.255\",\"footnotes\":[{}]},{\"year\":\"1983\",\"period\":\"M09\",\"periodName\":\"September\",\"value\":\"1.274\",\"footnotes\":[{}]},{\"year\":\"1983\",\"period\":\"M08\",\"periodName\":\"August\",\"value\":\"1.285\",\"footnotes\":[{}]},{\"year\":\"1983\",\"period\":\"M07\",\"periodName\":\"July\",\"value\":\"1.288\",\"footnotes\":[{}]},{\"year\":\"1983\",\"period\":\"M06\",\"periodName\":\"June\",\"value\":\"1.277\",\"footnotes\":[{}]},{\"year\":\"1983\",\"period\":\"M05\",\"periodName\":\"May\",\"value\":\"1.259\",\"footnotes\":[{}]},{\"year\":\"1983\",\"period\":\"M04\",\"periodName\":\"April\",\"value\":\"1.215\",\"footnotes\":[{}]},{\"year\":\"1983\",\"period\":\"M03\",\"periodName\":\"March\",\"value\":\"1.152\",\"footnotes\":[{}]},{\"year\":\"1983\",\"period\":\"M02\",\"periodName\":\"February\",\"value\":\"1.187\",\"footnotes\":[{}]},{\"year\":\"1983\",\"period\":\"M01\",\"periodName\":\"January\",\"value\":\"1.230\",\"footnotes\":[{}]},{\"year\":\"1982\",\"period\":\"M12\",\"periodName\":\"December\",\"value\":\"1.260\",\"footnotes\":[{}]},{\"year\":\"1982\",\"period\":\"M11\",\"periodName\":\"November\",\"value\":\"1.283\",\"footnotes\":[{}]},{\"year\":\"1982\",\"period\":\"M10\",\"periodName\":\"October\",\"value\":\"1.295\",\"footnotes\":[{}]},{\"year\":\"1982\",\"period\":\"M09\",\"periodName\":\"September\",\"value\":\"1.307\",\"footnotes\":[{}]},{\"year\":\"1982\",\"period\":\"M08\",\"periodName\":\"August\",\"value\":\"1.323\",\"footnotes\":[{}]},{\"year\":\"1982\",\"period\":\"M07\",\"periodName\":\"July\",\"value\":\"1.331\",\"footnotes\":[{}]},{\"year\":\"1982\",\"period\":\"M06\",\"periodName\":\"June\",\"value\":\"1.309\",\"footnotes\":[{}]},{\"year\":\"1982\",\"period\":\"M05\",\"periodName\":\"May\",\"value\":\"1.237\",\"footnotes\":[{}]},{\"year\":\"1982\",\"period\":\"M04\",\"periodName\":\"April\",\"value\":\"1.225\",\"footnotes\":[{}]},{\"year\":\"1982\",\"period\":\"M03\",\"periodName\":\"March\",\"value\":\"1.284\",\"footnotes\":[{}]},{\"year\":\"1982\",\"period\":\"M02\",\"periodName\":\"February\",\"value\":\"1.334\",\"footnotes\":[{}]},{\"year\":\"1982\",\"period\":\"M01\",\"periodName\":\"January\",\"value\":\"1.358\",\"footnotes\":[{}]},{\"year\":\"1981\",\"period\":\"M12\",\"periodName\":\"December\",\"value\":\"1.365\",\"footnotes\":[{}]},{\"year\":\"1981\",\"period\":\"M11\",\"periodName\":\"November\",\"value\":\"1.369\",\"footnotes\":[{}]},{\"year\":\"1981\",\"period\":\"M10\",\"periodName\":\"October\",\"value\":\"1.371\",\"footnotes\":[{}]},{\"year\":\"1981\",\"period\":\"M09\",\"periodName\":\"September\",\"value\":\"1.376\",\"footnotes\":[{}]},{\"year\":\"1981\",\"period\":\"M08\",\"periodName\":\"August\",\"value\":\"1.376\",\"footnotes\":[{}]},{\"year\":\"1981\",\"period\":\"M07\",\"periodName\":\"July\",\"value\":\"1.382\",\"footnotes\":[{}]},{\"year\":\"1981\",\"period\":\"M06\",\"periodName\":\"June\",\"value\":\"1.391\",\"footnotes\":[{}]},{\"year\":\"1981\",\"period\":\"M05\",\"periodName\":\"May\",\"value\":\"1.400\",\"footnotes\":[{}]},{\"year\":\"1981\",\"period\":\"M04\",\"periodName\":\"April\",\"value\":\"1.412\",\"footnotes\":[{}]},{\"year\":\"1981\",\"period\":\"M03\",\"periodName\":\"March\",\"value\":\"1.417\",\"footnotes\":[{}]},{\"year\":\"1981\",\"period\":\"M02\",\"periodName\":\"February\",\"value\":\"1.382\",\"footnotes\":[{}]},{\"year\":\"1981\",\"period\":\"M01\",\"periodName\":\"January\",\"value\":\"1.298\",\"footnotes\":[{}]},{\"year\":\"1980\",\"period\":\"M12\",\"periodName\":\"December\",\"value\":\"1.258\",\"footnotes\":[{}]},{\"year\":\"1980\",\"period\":\"M11\",\"periodName\":\"November\",\"value\":\"1.250\",\"footnotes\":[{}]},{\"year\":\"1980\",\"period\":\"M10\",\"periodName\":\"October\",\"value\":\"1.250\",\"footnotes\":[{}]},{\"year\":\"1980\",\"period\":\"M09\",\"periodName\":\"September\",\"value\":\"1.257\",\"footnotes\":[{}]},{\"year\":\"1980\",\"period\":\"M08\",\"periodName\":\"August\",\"value\":\"1.267\",\"footnotes\":[{}]},{\"year\":\"1980\",\"period\":\"M07\",\"periodName\":\"July\",\"value\":\"1.271\",\"footnotes\":[{}]},{\"year\":\"1980\",\"period\":\"M06\",\"periodName\":\"June\",\"value\":\"1.269\",\"footnotes\":[{}]},{\"year\":\"1980\",\"period\":\"M05\",\"periodName\":\"May\",\"value\":\"1.266\",\"footnotes\":[{}]},{\"year\":\"1980\",\"period\":\"M04\",\"periodName\":\"April\",\"value\":\"1.264\",\"footnotes\":[{}]},{\"year\":\"1980\",\"period\":\"M03\",\"periodName\":\"March\",\"value\":\"1.252\",\"footnotes\":[{}]},{\"year\":\"1980\",\"period\":\"M02\",\"periodName\":\"February\",\"value\":\"1.207\",\"footnotes\":[{}]},{\"year\":\"1980\",\"period\":\"M01\",\"periodName\":\"January\",\"value\":\"1.131\",\"footnotes\":[{}]},{\"year\":\"1979\",\"period\":\"M12\",\"periodName\":\"December\",\"value\":\"1.065\",\"footnotes\":[{}]},{\"year\":\"1979\",\"period\":\"M11\",\"periodName\":\"November\",\"value\":\"1.041\",\"footnotes\":[{}]},{\"year\":\"1979\",\"period\":\"M10\",\"periodName\":\"October\",\"value\":\"1.028\",\"footnotes\":[{}]},{\"year\":\"1979\",\"period\":\"M09\",\"periodName\":\"September\",\"value\":\"1.020\",\"footnotes\":[{}]},{\"year\":\"1979\",\"period\":\"M08\",\"periodName\":\"August\",\"value\":\"0.988\",\"footnotes\":[{}]},{\"year\":\"1979\",\"period\":\"M07\",\"periodName\":\"July\",\"value\":\"0.949\",\"footnotes\":[{}]},{\"year\":\"1979\",\"period\":\"M06\",\"periodName\":\"June\",\"value\":\"0.901\",\"footnotes\":[{}]},{\"year\":\"1979\",\"period\":\"M05\",\"periodName\":\"May\",\"value\":\"0.844\",\"footnotes\":[{}]},{\"year\":\"1979\",\"period\":\"M04\",\"periodName\":\"April\",\"value\":\"0.802\",\"footnotes\":[{}]},{\"year\":\"1979\",\"period\":\"M03\",\"periodName\":\"March\",\"value\":\"0.755\",\"footnotes\":[{}]},{\"year\":\"1979\",\"period\":\"M02\",\"periodName\":\"February\",\"value\":\"0.730\",\"footnotes\":[{}]},{\"year\":\"1979\",\"period\":\"M01\",\"periodName\":\"January\",\"value\":\"0.716\",\"footnotes\":[{}]},{\"year\":\"1978\",\"period\":\"M12\",\"periodName\":\"December\",\"value\":\"0.705\",\"footnotes\":[{}]},{\"year\":\"1978\",\"period\":\"M11\",\"periodName\":\"November\",\"value\":\"0.695\",\"footnotes\":[{}]},{\"year\":\"1978\",\"period\":\"M10\",\"periodName\":\"October\",\"value\":\"0.690\",\"footnotes\":[{}]},{\"year\":\"1978\",\"period\":\"M09\",\"periodName\":\"September\",\"value\":\"0.688\",\"footnotes\":[{}]},{\"year\":\"1978\",\"period\":\"M08\",\"periodName\":\"August\",\"value\":\"0.682\",\"footnotes\":[{}]},{\"year\":\"1978\",\"period\":\"M07\",\"periodName\":\"July\",\"value\":\"0.674\",\"footnotes\":[{}]},{\"year\":\"1978\",\"period\":\"M06\",\"periodName\":\"June\",\"value\":\"0.663\",\"footnotes\":[{}]},{\"year\":\"1978\",\"period\":\"M05\",\"periodName\":\"May\",\"value\":\"0.655\",\"footnotes\":[{}]},{\"year\":\"1978\",\"period\":\"M04\",\"periodName\":\"April\",\"value\":\"0.649\",\"footnotes\":[{}]},{\"year\":\"1978\",\"period\":\"M03\",\"periodName\":\"March\",\"value\":\"0.647\",\"footnotes\":[{}]},{\"year\":\"1978\",\"period\":\"M02\",\"periodName\":\"February\",\"value\":\"0.647\",\"footnotes\":[{}]},{\"year\":\"1978\",\"period\":\"M01\",\"periodName\":\"January\",\"value\":\"0.648\",\"footnotes\":[{}]},{\"year\":\"1977\",\"period\":\"M12\",\"periodName\":\"December\",\"value\":\"0.665\",\"footnotes\":[{}]},{\"year\":\"1977\",\"period\":\"M11\",\"periodName\":\"November\",\"value\":\"0.664\",\"footnotes\":[{}]},{\"year\":\"1977\",\"period\":\"M10\",\"periodName\":\"October\",\"value\":\"0.665\",\"footnotes\":[{}]},{\"year\":\"1977\",\"period\":\"M09\",\"periodName\":\"September\",\"value\":\"0.666\",\"footnotes\":[{}]},{\"year\":\"1977\",\"period\":\"M08\",\"periodName\":\"August\",\"value\":\"0.667\",\"footnotes\":[{}]},{\"year\":\"1977\",\"period\":\"M07\",\"periodName\":\"July\",\"value\":\"0.667\",\"footnotes\":[{}]},{\"year\":\"1977\",\"period\":\"M06\",\"periodName\":\"June\",\"value\":\"0.665\",\"footnotes\":[{}]},{\"year\":\"1977\",\"period\":\"M05\",\"periodName\":\"May\",\"value\":\"0.659\",\"footnotes\":[{}]},{\"year\":\"1977\",\"period\":\"M04\",\"periodName\":\"April\",\"value\":\"0.651\",\"footnotes\":[{}]},{\"year\":\"1977\",\"period\":\"M03\",\"periodName\":\"March\",\"value\":\"0.643\",\"footnotes\":[{}]},{\"year\":\"1977\",\"period\":\"M02\",\"periodName\":\"February\",\"value\":\"0.637\",\"footnotes\":[{}]},{\"year\":\"1977\",\"period\":\"M01\",\"periodName\":\"January\",\"value\":\"0.627\",\"footnotes\":[{}]},{\"year\":\"1976\",\"period\":\"M12\",\"periodName\":\"December\",\"value\":\"0.626\",\"footnotes\":[{}]},{\"year\":\"1976\",\"period\":\"M11\",\"periodName\":\"November\",\"value\":\"0.629\",\"footnotes\":[{}]},{\"year\":\"1976\",\"period\":\"M10\",\"periodName\":\"October\",\"value\":\"0.629\",\"footnotes\":[{}]},{\"year\":\"1976\",\"period\":\"M09\",\"periodName\":\"September\",\"value\":\"0.630\",\"footnotes\":[{}]},{\"year\":\"1976\",\"period\":\"M08\",\"periodName\":\"August\",\"value\":\"0.628\",\"footnotes\":[{}]},{\"year\":\"1976\",\"period\":\"M07\",\"periodName\":\"July\",\"value\":\"0.623\",\"footnotes\":[{}]},{\"year\":\"1976\",\"period\":\"M06\",\"periodName\":\"June\",\"value\":\"0.616\",\"footnotes\":[{}]},{\"year\":\"1976\",\"period\":\"M05\",\"periodName\":\"May\",\"value\":\"0.600\",\"footnotes\":[{}]},{\"year\":\"1976\",\"period\":\"M04\",\"periodName\":\"April\",\"value\":\"0.592\",\"footnotes\":[{}]},{\"year\":\"1976\",\"period\":\"M03\",\"periodName\":\"March\",\"value\":\"0.594\",\"footnotes\":[{}]},{\"year\":\"1976\",\"period\":\"M02\",\"periodName\":\"February\",\"value\":\"0.600\",\"footnotes\":[{}]},{\"year\":\"1976\",\"period\":\"M01\",\"periodName\":\"January\",\"value\":\"0.605\",\"footnotes\":[{}]}]}]\n}}\n/databricks/driver\n1\n2\n1986\n1996\n{\"seriesid\": [\"APU000074714\", \"APU000074714\"], \"startyear\": \"1986\", \"endyear\": \"1996\"}\n{\"status\":\"REQUEST_SUCCEEDED\",\"responseTime\":190,\"message\":[\"Year range has been reduced to the system-allowed limit of 10 years.\"],\"Results\":{\n\"series\":\n[{\"seriesID\":\"APU000074714\",\"data\":[{\"year\":\"1995\",\"period\":\"M12\",\"periodName\":\"December\",\"value\":\"1.101\",\"footnotes\":[{}]},{\"year\":\"1995\",\"period\":\"M11\",\"periodName\":\"November\",\"value\":\"1.101\",\"footnotes\":[{}]},{\"year\":\"1995\",\"period\":\"M10\",\"periodName\":\"October\",\"value\":\"1.127\",\"footnotes\":[{}]},{\"year\":\"1995\",\"period\":\"M09\",\"periodName\":\"September\",\"value\":\"1.148\",\"footnotes\":[{}]},{\"year\":\"1995\",\"period\":\"M08\",\"periodName\":\"August\",\"value\":\"1.164\",\"footnotes\":[{}]},{\"year\":\"1995\",\"period\":\"M07\",\"periodName\":\"July\",\"value\":\"1.195\",\"footnotes\":[{}]},{\"year\":\"1995\",\"period\":\"M06\",\"periodName\":\"June\",\"value\":\"1.226\",\"footnotes\":[{}]},{\"year\":\"1995\",\"period\":\"M05\",\"periodName\":\"May\",\"value\":\"1.200\",\"footnotes\":[{}]},{\"year\":\"1995\",\"period\":\"M04\",\"periodName\":\"April\",\"value\":\"1.140\",\"footnotes\":[{}]},{\"year\":\"1995\",\"period\":\"M03\",\"periodName\":\"March\",\"value\":\"1.115\",\"footnotes\":[{}]},{\"year\":\"1995\",\"period\":\"M02\",\"periodName\":\"February\",\"value\":\"1.120\",\"footnotes\":[{}]},{\"year\":\"1995\",\"period\":\"M01\",\"periodName\":\"January\",\"value\":\"1.129\",\"footnotes\":[{}]},{\"year\":\"1994\",\"period\":\"M12\",\"periodName\":\"December\",\"value\":\"1.143\",\"footnotes\":[{}]},{\"year\":\"1994\",\"period\":\"M11\",\"periodName\":\"November\",\"value\":\"1.163\",\"footnotes\":[{}]},{\"year\":\"1994\",\"period\":\"M10\",\"periodName\":\"October\",\"value\":\"1.152\",\"footnotes\":[{}]},{\"year\":\"1994\",\"period\":\"M09\",\"periodName\":\"September\",\"value\":\"1.177\",\"footnotes\":[{}]},{\"year\":\"1994\",\"period\":\"M08\",\"periodName\":\"August\",\"value\":\"1.182\",\"footnotes\":[{}]},{\"year\":\"1994\",\"period\":\"M07\",\"periodName\":\"July\",\"value\":\"1.136\",\"footnotes\":[{}]},{\"year\":\"1994\",\"period\":\"M06\",\"periodName\":\"June\",\"value\":\"1.106\",\"footnotes\":[{}]},{\"year\":\"1994\",\"period\":\"M05\",\"periodName\":\"May\",\"value\":\"1.080\",\"footnotes\":[{}]},{\"year\":\"1994\",\"period\":\"M04\",\"periodName\":\"April\",\"value\":\"1.064\",\"footnotes\":[{}]},{\"year\":\"1994\",\"period\":\"M03\",\"periodName\":\"March\",\"value\":\"1.045\",\"footnotes\":[{}]},{\"year\":\"1994\",\"period\":\"M02\",\"periodName\":\"February\",\"value\":\"1.051\",\"footnotes\":[{}]},{\"year\":\"1994\",\"period\":\"M01\",\"periodName\":\"January\",\"value\":\"1.043\",\"footnotes\":[{}]},{\"year\":\"1993\",\"period\":\"M12\",\"periodName\":\"December\",\"value\":\"1.070\",\"footnotes\":[{}]},{\"year\":\"1993\",\"period\":\"M11\",\"periodName\":\"November\",\"value\":\"1.113\",\"footnotes\":[{}]},{\"year\":\"1993\",\"period\":\"M10\",\"periodName\":\"October\",\"value\":\"1.127\",\"footnotes\":[{}]},{\"year\":\"1993\",\"period\":\"M09\",\"periodName\":\"September\",\"value\":\"1.085\",\"footnotes\":[{}]},{\"year\":\"1993\",\"period\":\"M08\",\"periodName\":\"August\",\"value\":\"1.097\",\"footnotes\":[{}]},{\"year\":\"1993\",\"period\":\"M07\",\"periodName\":\"July\",\"value\":\"1.109\",\"footnotes\":[{}]},{\"year\":\"1993\",\"period\":\"M06\",\"periodName\":\"June\",\"value\":\"1.130\",\"footnotes\":[{}]},{\"year\":\"1993\",\"period\":\"M05\",\"periodName\":\"May\",\"value\":\"1.129\",\"footnotes\":[{}]},{\"year\":\"1993\",\"period\":\"M04\",\"periodName\":\"April\",\"value\":\"1.112\",\"footnotes\":[{}]},{\"year\":\"1993\",\"period\":\"M03\",\"periodName\":\"March\",\"value\":\"1.098\",\"footnotes\":[{}]},{\"year\":\"1993\",\"period\":\"M02\",\"periodName\":\"February\",\"value\":\"1.108\",\"footnotes\":[{}]},{\"year\":\"1993\",\"period\":\"M01\",\"periodName\":\"January\",\"value\":\"1.117\",\"footnotes\":[{}]},{\"year\":\"1992\",\"period\":\"M12\",\"periodName\":\"December\",\"value\":\"1.136\",\"footnotes\":[{}]},{\"year\":\"1992\",\"period\":\"M11\",\"periodName\":\"November\",\"value\":\"1.159\",\"footnotes\":[{}]},{\"year\":\"1992\",\"period\":\"M10\",\"periodName\":\"October\",\"value\":\"1.154\",\"footnotes\":[{}]},{\"year\":\"1992\",\"period\":\"M09\",\"periodName\":\"September\",\"value\":\"1.158\",\"footnotes\":[{}]},{\"year\":\"1992\",\"period\":\"M08\",\"periodName\":\"August\",\"value\":\"1.158\",\"footnotes\":[{}]},{\"year\":\"1992\",\"period\":\"M07\",\"periodName\":\"July\",\"value\":\"1.174\",\"footnotes\":[{}]},{\"year\":\"1992\",\"period\":\"M06\",\"periodName\":\"June\",\"value\":\"1.179\",\"footnotes\":[{}]},{\"year\":\"1992\",\"period\":\"M05\",\"periodName\":\"May\",\"value\":\"1.136\",\"footnotes\":[{}]},{\"year\":\"1992\",\"period\":\"M04\",\"periodName\":\"April\",\"value\":\"1.079\",\"footnotes\":[{}]},{\"year\":\"1992\",\"period\":\"M03\",\"periodName\":\"March\",\"value\":\"1.058\",\"footnotes\":[{}]},{\"year\":\"1992\",\"period\":\"M02\",\"periodName\":\"February\",\"value\":\"1.054\",\"footnotes\":[{}]},{\"year\":\"1992\",\"period\":\"M01\",\"periodName\":\"January\",\"value\":\"1.073\",\"footnotes\":[{}]},{\"year\":\"1991\",\"period\":\"M12\",\"periodName\":\"December\",\"value\":\"1.123\",\"footnotes\":[{}]},{\"year\":\"1991\",\"period\":\"M11\",\"periodName\":\"November\",\"value\":\"1.134\",\"footnotes\":[{}]},{\"year\":\"1991\",\"period\":\"M10\",\"periodName\":\"October\",\"value\":\"1.122\",\"footnotes\":[{}]},{\"year\":\"1991\",\"period\":\"M09\",\"periodName\":\"September\",\"value\":\"1.143\",\"footnotes\":[{}]},{\"year\":\"1991\",\"period\":\"M08\",\"periodName\":\"August\",\"value\":\"1.140\",\"footnotes\":[{}]},{\"year\":\"1991\",\"period\":\"M07\",\"periodName\":\"July\",\"value\":\"1.127\",\"footnotes\":[{}]},{\"year\":\"1991\",\"period\":\"M06\",\"periodName\":\"June\",\"value\":\"1.160\",\"footnotes\":[{}]},{\"year\":\"1991\",\"period\":\"M05\",\"periodName\":\"May\",\"value\":\"1.156\",\"footnotes\":[{}]},{\"year\":\"1991\",\"period\":\"M04\",\"periodName\":\"April\",\"value\":\"1.104\",\"footnotes\":[{}]},{\"year\":\"1991\",\"period\":\"M03\",\"periodName\":\"March\",\"value\":\"1.082\",\"footnotes\":[{}]},{\"year\":\"1991\",\"period\":\"M02\",\"periodName\":\"February\",\"value\":\"1.143\",\"footnotes\":[{}]},{\"year\":\"1991\",\"period\":\"M01\",\"periodName\":\"January\",\"value\":\"1.247\",\"footnotes\":[{}]},{\"year\":\"1990\",\"period\":\"M12\",\"periodName\":\"December\",\"value\":\"1.354\",\"footnotes\":[{}]},{\"year\":\"1990\",\"period\":\"M11\",\"periodName\":\"November\",\"value\":\"1.377\",\"footnotes\":[{}]},{\"year\":\"1990\",\"period\":\"M10\",\"periodName\":\"October\",\"value\":\"1.378\",\"footnotes\":[{}]},{\"year\":\"1990\",\"period\":\"M09\",\"periodName\":\"September\",\"value\":\"1.294\",\"footnotes\":[{}]},{\"year\":\"1990\",\"period\":\"M08\",\"periodName\":\"August\",\"value\":\"1.190\",\"footnotes\":[{}]},{\"year\":\"1990\",\"period\":\"M07\",\"periodName\":\"July\",\"value\":\"1.084\",\"footnotes\":[{}]},{\"year\":\"1990\",\"period\":\"M06\",\"periodName\":\"June\",\"value\":\"1.088\",\"footnotes\":[{}]},{\"year\":\"1990\",\"period\":\"M05\",\"periodName\":\"May\",\"value\":\"1.061\",\"footnotes\":[{}]},{\"year\":\"1990\",\"period\":\"M04\",\"periodName\":\"April\",\"value\":\"1.044\",\"footnotes\":[{}]},{\"year\":\"1990\",\"period\":\"M03\",\"periodName\":\"March\",\"value\":\"1.023\",\"footnotes\":[{}]},{\"year\":\"1990\",\"period\":\"M02\",\"periodName\":\"February\",\"value\":\"1.037\",\"footnotes\":[{}]},{\"year\":\"1990\",\"period\":\"M01\",\"periodName\":\"January\",\"value\":\"1.042\",\"footnotes\":[{}]},{\"year\":\"1989\",\"period\":\"M12\",\"periodName\":\"December\",\"value\":\"0.980\",\"footnotes\":[{}]},{\"year\":\"1989\",\"period\":\"M11\",\"periodName\":\"November\",\"value\":\"0.999\",\"footnotes\":[{}]},{\"year\":\"1989\",\"period\":\"M10\",\"periodName\":\"October\",\"value\":\"1.027\",\"footnotes\":[{}]},{\"year\":\"1989\",\"period\":\"M09\",\"periodName\":\"September\",\"value\":\"1.029\",\"footnotes\":[{}]},{\"year\":\"1989\",\"period\":\"M08\",\"periodName\":\"August\",\"value\":\"1.057\",\"footnotes\":[{}]},{\"year\":\"1989\",\"period\":\"M07\",\"periodName\":\"July\",\"value\":\"1.092\",\"footnotes\":[{}]},{\"year\":\"1989\",\"period\":\"M06\",\"periodName\":\"June\",\"value\":\"1.114\",\"footnotes\":[{}]},{\"year\":\"1989\",\"period\":\"M05\",\"periodName\":\"May\",\"value\":\"1.119\",\"footnotes\":[{}]},{\"year\":\"1989\",\"period\":\"M04\",\"periodName\":\"April\",\"value\":\"1.065\",\"footnotes\":[{}]},{\"year\":\"1989\",\"period\":\"M03\",\"periodName\":\"March\",\"value\":\"0.940\",\"footnotes\":[{}]},{\"year\":\"1989\",\"period\":\"M02\",\"periodName\":\"February\",\"value\":\"0.926\",\"footnotes\":[{}]},{\"year\":\"1989\",\"period\":\"M01\",\"periodName\":\"January\",\"value\":\"0.918\",\"footnotes\":[{}]},{\"year\":\"1988\",\"period\":\"M12\",\"periodName\":\"December\",\"value\":\"0.930\",\"footnotes\":[{}]},{\"year\":\"1988\",\"period\":\"M11\",\"periodName\":\"November\",\"value\":\"0.949\",\"footnotes\":[{}]},{\"year\":\"1988\",\"period\":\"M10\",\"periodName\":\"October\",\"value\":\"0.957\",\"footnotes\":[{}]},{\"year\":\"1988\",\"period\":\"M09\",\"periodName\":\"September\",\"value\":\"0.974\",\"footnotes\":[{}]},{\"year\":\"1988\",\"period\":\"M08\",\"periodName\":\"August\",\"value\":\"0.987\",\"footnotes\":[{}]},{\"year\":\"1988\",\"period\":\"M07\",\"periodName\":\"July\",\"value\":\"0.967\",\"footnotes\":[{}]},{\"year\":\"1988\",\"period\":\"M06\",\"periodName\":\"June\",\"value\":\"0.955\",\"footnotes\":[{}]},{\"year\":\"1988\",\"period\":\"M05\",\"periodName\":\"May\",\"value\":\"0.955\",\"footnotes\":[{}]},{\"year\":\"1988\",\"period\":\"M04\",\"periodName\":\"April\",\"value\":\"0.930\",\"footnotes\":[{}]},{\"year\":\"1988\",\"period\":\"M03\",\"periodName\":\"March\",\"value\":\"0.904\",\"footnotes\":[{}]},{\"year\":\"1988\",\"period\":\"M02\",\"periodName\":\"February\",\"value\":\"0.913\",\"footnotes\":[{}]},{\"year\":\"1988\",\"period\":\"M01\",\"periodName\":\"January\",\"value\":\"0.933\",\"footnotes\":[{}]},{\"year\":\"1987\",\"period\":\"M12\",\"periodName\":\"December\",\"value\":\"0.961\",\"footnotes\":[{}]},{\"year\":\"1987\",\"period\":\"M11\",\"periodName\":\"November\",\"value\":\"0.976\",\"footnotes\":[{}]},{\"year\":\"1987\",\"period\":\"M10\",\"periodName\":\"October\",\"value\":\"0.976\",\"footnotes\":[{}]},{\"year\":\"1987\",\"period\":\"M09\",\"periodName\":\"September\",\"value\":\"0.990\",\"footnotes\":[{}]},{\"year\":\"1987\",\"period\":\"M08\",\"periodName\":\"August\",\"value\":\"0.995\",\"footnotes\":[{}]},{\"year\":\"1987\",\"period\":\"M07\",\"periodName\":\"July\",\"value\":\"0.971\",\"footnotes\":[{}]},{\"year\":\"1987\",\"period\":\"M06\",\"periodName\":\"June\",\"value\":\"0.958\",\"footnotes\":[{}]},{\"year\":\"1987\",\"period\":\"M05\",\"periodName\":\"May\",\"value\":\"0.941\",\"footnotes\":[{}]},{\"year\":\"1987\",\"period\":\"M04\",\"periodName\":\"April\",\"value\":\"0.934\",\"footnotes\":[{}]},{\"year\":\"1987\",\"period\":\"M03\",\"periodName\":\"March\",\"value\":\"0.912\",\"footnotes\":[{}]},{\"year\":\"1987\",\"period\":\"M02\",\"periodName\":\"February\",\"value\":\"0.905\",\"footnotes\":[{}]},{\"year\":\"1987\",\"period\":\"M01\",\"periodName\":\"January\",\"value\":\"0.862\",\"footnotes\":[{}]},{\"year\":\"1986\",\"period\":\"M12\",\"periodName\":\"December\",\"value\":\"0.823\",\"footnotes\":[{}]},{\"year\":\"1986\",\"period\":\"M11\",\"periodName\":\"November\",\"value\":\"0.821\",\"footnotes\":[{}]},{\"year\":\"1986\",\"period\":\"M10\",\"periodName\":\"October\",\"value\":\"0.831\",\"footnotes\":[{}]},{\"year\":\"1986\",\"period\":\"M09\",\"periodName\":\"September\",\"value\":\"0.860\",\"footnotes\":[{}]},{\"year\":\"1986\",\"period\":\"M08\",\"periodName\":\"August\",\"value\":\"0.843\",\"footnotes\":[{}]},{\"year\":\"1986\",\"period\":\"M07\",\"periodName\":\"July\",\"value\":\"0.890\",\"footnotes\":[{}]},{\"year\":\"1986\",\"period\":\"M06\",\"periodName\":\"June\",\"value\":\"0.955\",\"footnotes\":[{}]},{\"year\":\"1986\",\"period\":\"M05\",\"periodName\":\"May\",\"value\":\"0.923\",\"footnotes\":[{}]},{\"year\":\"1986\",\"period\":\"M04\",\"periodName\":\"April\",\"value\":\"0.888\",\"footnotes\":[{}]},{\"year\":\"1986\",\"period\":\"M03\",\"periodName\":\"March\",\"value\":\"0.981\",\"footnotes\":[{}]},{\"year\":\"1986\",\"period\":\"M02\",\"periodName\":\"February\",\"value\":\"1.120\",\"footnotes\":[{}]},{\"year\":\"1986\",\"period\":\"M01\",\"periodName\":\"January\",\"value\":\"1.194\",\"footnotes\":[{}]}]}]\n}}\n/databricks/driver\n2\n3\n1996\n2006\n{\"seriesid\": [\"APU000074714\", \"APU000074714\"], \"startyear\": \"1996\", \"endyear\": \"2006\"}\n{\"status\":\"REQUEST_SUCCEEDED\",\"responseTime\":328,\"message\":[\"Year range has been reduced to the system-allowed limit of 10 years.\"],\"Results\":{\n\"series\":\n[{\"seriesID\":\"APU000074714\",\"data\":[{\"year\":\"2005\",\"period\":\"M12\",\"periodName\":\"December\",\"value\":\"2.186\",\"footnotes\":[{}]},{\"year\":\"2005\",\"period\":\"M11\",\"periodName\":\"November\",\"value\":\"2.343\",\"footnotes\":[{}]},{\"year\":\"2005\",\"period\":\"M10\",\"periodName\":\"October\",\"value\":\"2.785\",\"footnotes\":[{}]},{\"year\":\"2005\",\"period\":\"M09\",\"periodName\":\"September\",\"value\":\"2.927\",\"footnotes\":[{}]},{\"year\":\"2005\",\"period\":\"M08\",\"periodName\":\"August\",\"value\":\"2.506\",\"footnotes\":[{}]},{\"year\":\"2005\",\"period\":\"M07\",\"periodName\":\"July\",\"value\":\"2.316\",\"footnotes\":[{}]},{\"year\":\"2005\",\"period\":\"M06\",\"periodName\":\"June\",\"value\":\"2.176\",\"footnotes\":[{}]},{\"year\":\"2005\",\"period\":\"M05\",\"periodName\":\"May\",\"value\":\"2.216\",\"footnotes\":[{}]},{\"year\":\"2005\",\"period\":\"M04\",\"periodName\":\"April\",\"value\":\"2.283\",\"footnotes\":[{}]},{\"year\":\"2005\",\"period\":\"M03\",\"periodName\":\"March\",\"value\":\"2.065\",\"footnotes\":[{}]},{\"year\":\"2005\",\"period\":\"M02\",\"periodName\":\"February\",\"value\":\"1.918\",\"footnotes\":[{}]},{\"year\":\"2005\",\"period\":\"M01\",\"periodName\":\"January\",\"value\":\"1.823\",\"footnotes\":[{}]},{\"year\":\"2004\",\"period\":\"M12\",\"periodName\":\"December\",\"value\":\"1.882\",\"footnotes\":[{}]},{\"year\":\"2004\",\"period\":\"M11\",\"periodName\":\"November\",\"value\":\"2.010\",\"footnotes\":[{}]},{\"year\":\"2004\",\"period\":\"M10\",\"periodName\":\"October\",\"value\":\"2.029\",\"footnotes\":[{}]},{\"year\":\"2004\",\"period\":\"M09\",\"periodName\":\"September\",\"value\":\"1.891\",\"footnotes\":[{}]},{\"year\":\"2004\",\"period\":\"M08\",\"periodName\":\"August\",\"value\":\"1.898\",\"footnotes\":[{}]},{\"year\":\"2004\",\"period\":\"M07\",\"periodName\":\"July\",\"value\":\"1.939\",\"footnotes\":[{}]},{\"year\":\"2004\",\"period\":\"M06\",\"periodName\":\"June\",\"value\":\"2.041\",\"footnotes\":[{}]},{\"year\":\"2004\",\"period\":\"M05\",\"periodName\":\"May\",\"value\":\"2.009\",\"footnotes\":[{}]},{\"year\":\"2004\",\"period\":\"M04\",\"periodName\":\"April\",\"value\":\"1.833\",\"footnotes\":[{}]},{\"year\":\"2004\",\"period\":\"M03\",\"periodName\":\"March\",\"value\":\"1.766\",\"footnotes\":[{}]},{\"year\":\"2004\",\"period\":\"M02\",\"periodName\":\"February\",\"value\":\"1.672\",\"footnotes\":[{}]},{\"year\":\"2004\",\"period\":\"M01\",\"periodName\":\"January\",\"value\":\"1.592\",\"footnotes\":[{}]},{\"year\":\"2003\",\"period\":\"M12\",\"periodName\":\"December\",\"value\":\"1.494\",\"footnotes\":[{}]},{\"year\":\"2003\",\"period\":\"M11\",\"periodName\":\"November\",\"value\":\"1.535\",\"footnotes\":[{}]},{\"year\":\"2003\",\"period\":\"M10\",\"periodName\":\"October\",\"value\":\"1.603\",\"footnotes\":[{}]},{\"year\":\"2003\",\"period\":\"M09\",\"periodName\":\"September\",\"value\":\"1.728\",\"footnotes\":[{}]},{\"year\":\"2003\",\"period\":\"M08\",\"periodName\":\"August\",\"value\":\"1.628\",\"footnotes\":[{}]},{\"year\":\"2003\",\"period\":\"M07\",\"periodName\":\"July\",\"value\":\"1.524\",\"footnotes\":[{}]},{\"year\":\"2003\",\"period\":\"M06\",\"periodName\":\"June\",\"value\":\"1.514\",\"footnotes\":[{}]},{\"year\":\"2003\",\"period\":\"M05\",\"periodName\":\"May\",\"value\":\"1.542\",\"footnotes\":[{}]},{\"year\":\"2003\",\"period\":\"M04\",\"periodName\":\"April\",\"value\":\"1.659\",\"footnotes\":[{}]},{\"year\":\"2003\",\"period\":\"M03\",\"periodName\":\"March\",\"value\":\"1.748\",\"footnotes\":[{}]},{\"year\":\"2003\",\"period\":\"M02\",\"periodName\":\"February\",\"value\":\"1.641\",\"footnotes\":[{}]},{\"year\":\"2003\",\"period\":\"M01\",\"periodName\":\"January\",\"value\":\"1.473\",\"footnotes\":[{}]},{\"year\":\"2002\",\"period\":\"M12\",\"periodName\":\"December\",\"value\":\"1.394\",\"footnotes\":[{}]},{\"year\":\"2002\",\"period\":\"M11\",\"periodName\":\"November\",\"value\":\"1.448\",\"footnotes\":[{}]},{\"year\":\"2002\",\"period\":\"M10\",\"periodName\":\"October\",\"value\":\"1.449\",\"footnotes\":[{}]},{\"year\":\"2002\",\"period\":\"M09\",\"per\n\n*** WARNING: max output size exceeded, skipping output. ***\n\n\":\"M06\",\"periodName\":\"June\",\"value\":\"1.640\",\"footnotes\":[{}]},{\"year\":\"2001\",\"period\":\"M05\",\"periodName\":\"May\",\"value\":\"1.729\",\"footnotes\":[{}]},{\"year\":\"2001\",\"period\":\"M04\",\"periodName\":\"April\",\"value\":\"1.564\",\"footnotes\":[{}]},{\"year\":\"2001\",\"period\":\"M03\",\"periodName\":\"March\",\"value\":\"1.447\",\"footnotes\":[{}]},{\"year\":\"2001\",\"period\":\"M02\",\"periodName\":\"February\",\"value\":\"1.484\",\"footnotes\":[{}]},{\"year\":\"2001\",\"period\":\"M01\",\"periodName\":\"January\",\"value\":\"1.472\",\"footnotes\":[{}]},{\"year\":\"2000\",\"period\":\"M12\",\"periodName\":\"December\",\"value\":\"1.489\",\"footnotes\":[{}]},{\"year\":\"2000\",\"period\":\"M11\",\"periodName\":\"November\",\"value\":\"1.555\",\"footnotes\":[{}]},{\"year\":\"2000\",\"period\":\"M10\",\"periodName\":\"October\",\"value\":\"1.559\",\"footnotes\":[{}]},{\"year\":\"2000\",\"period\":\"M09\",\"periodName\":\"September\",\"value\":\"1.582\",\"footnotes\":[{}]},{\"year\":\"2000\",\"period\":\"M08\",\"periodName\":\"August\",\"value\":\"1.510\",\"footnotes\":[{}]},{\"year\":\"2000\",\"period\":\"M07\",\"periodName\":\"July\",\"value\":\"1.593\",\"footnotes\":[{}]},{\"year\":\"2000\",\"period\":\"M06\",\"periodName\":\"June\",\"value\":\"1.617\",\"footnotes\":[{}]},{\"year\":\"2000\",\"period\":\"M05\",\"periodName\":\"May\",\"value\":\"1.498\",\"footnotes\":[{}]},{\"year\":\"2000\",\"period\":\"M04\",\"periodName\":\"April\",\"value\":\"1.506\",\"footnotes\":[{}]},{\"year\":\"2000\",\"period\":\"M03\",\"periodName\":\"March\",\"value\":\"1.541\",\"footnotes\":[{}]},{\"year\":\"2000\",\"period\":\"M02\",\"periodName\":\"February\",\"value\":\"1.369\",\"footnotes\":[{}]},{\"year\":\"2000\",\"period\":\"M01\",\"periodName\":\"January\",\"value\":\"1.301\",\"footnotes\":[{}]},{\"year\":\"1999\",\"period\":\"M12\",\"periodName\":\"December\",\"value\":\"1.298\",\"footnotes\":[{}]},{\"year\":\"1999\",\"period\":\"M11\",\"periodName\":\"November\",\"value\":\"1.264\",\"footnotes\":[{}]},{\"year\":\"1999\",\"period\":\"M10\",\"periodName\":\"October\",\"value\":\"1.274\",\"footnotes\":[{}]},{\"year\":\"1999\",\"period\":\"M09\",\"periodName\":\"September\",\"value\":\"1.280\",\"footnotes\":[{}]},{\"year\":\"1999\",\"period\":\"M08\",\"periodName\":\"August\",\"value\":\"1.255\",\"footnotes\":[{}]},{\"year\":\"1999\",\"period\":\"M07\",\"periodName\":\"July\",\"value\":\"1.189\",\"footnotes\":[{}]},{\"year\":\"1999\",\"period\":\"M06\",\"periodName\":\"June\",\"value\":\"1.148\",\"footnotes\":[{}]},{\"year\":\"1999\",\"period\":\"M05\",\"periodName\":\"May\",\"value\":\"1.178\",\"footnotes\":[{}]},{\"year\":\"1999\",\"period\":\"M04\",\"periodName\":\"April\",\"value\":\"1.177\",\"footnotes\":[{}]},{\"year\":\"1999\",\"period\":\"M03\",\"periodName\":\"March\",\"value\":\"0.991\",\"footnotes\":[{}]},{\"year\":\"1999\",\"period\":\"M02\",\"periodName\":\"February\",\"value\":\"0.955\",\"footnotes\":[{}]},{\"year\":\"1999\",\"period\":\"M01\",\"periodName\":\"January\",\"value\":\"0.972\",\"footnotes\":[{}]},{\"year\":\"1998\",\"period\":\"M12\",\"periodName\":\"December\",\"value\":\"0.986\",\"footnotes\":[{}]},{\"year\":\"1998\",\"period\":\"M11\",\"periodName\":\"November\",\"value\":\"1.028\",\"footnotes\":[{}]},{\"year\":\"1998\",\"period\":\"M10\",\"periodName\":\"October\",\"value\":\"1.042\",\"footnotes\":[{}]},{\"year\":\"1998\",\"period\":\"M09\",\"periodName\":\"September\",\"value\":\"1.033\",\"footnotes\":[{}]},{\"year\":\"1998\",\"period\":\"M08\",\"periodName\":\"August\",\"value\":\"1.052\",\"footnotes\":[{}]},{\"year\":\"1998\",\"period\":\"M07\",\"periodName\":\"July\",\"value\":\"1.079\",\"footnotes\":[{}]},{\"year\":\"1998\",\"period\":\"M06\",\"periodName\":\"June\",\"value\":\"1.094\",\"footnotes\":[{}]},{\"year\":\"1998\",\"period\":\"M05\",\"periodName\":\"May\",\"value\":\"1.092\",\"footnotes\":[{}]},{\"year\":\"1998\",\"period\":\"M04\",\"periodName\":\"April\",\"value\":\"1.052\",\"footnotes\":[{}]},{\"year\":\"1998\",\"period\":\"M03\",\"periodName\":\"March\",\"value\":\"1.041\",\"footnotes\":[{}]},{\"year\":\"1998\",\"period\":\"M02\",\"periodName\":\"February\",\"value\":\"1.082\",\"footnotes\":[{}]},{\"year\":\"1998\",\"period\":\"M01\",\"periodName\":\"January\",\"value\":\"1.131\",\"footnotes\":[{}]},{\"year\":\"1997\",\"period\":\"M12\",\"periodName\":\"December\",\"value\":\"1.177\",\"footnotes\":[{}]},{\"year\":\"1997\",\"period\":\"M11\",\"periodName\":\"November\",\"value\":\"1.213\",\"footnotes\":[{}]},{\"year\":\"1997\",\"period\":\"M10\",\"periodName\":\"October\",\"value\":\"1.242\",\"footnotes\":[{}]},{\"year\":\"1997\",\"period\":\"M09\",\"periodName\":\"September\",\"value\":\"1.277\",\"footnotes\":[{}]},{\"year\":\"1997\",\"period\":\"M08\",\"periodName\":\"August\",\"value\":\"1.253\",\"footnotes\":[{}]},{\"year\":\"1997\",\"period\":\"M07\",\"periodName\":\"July\",\"value\":\"1.205\",\"footnotes\":[{}]},{\"year\":\"1997\",\"period\":\"M06\",\"periodName\":\"June\",\"value\":\"1.229\",\"footnotes\":[{}]},{\"year\":\"1997\",\"period\":\"M05\",\"periodName\":\"May\",\"value\":\"1.226\",\"footnotes\":[{}]},{\"year\":\"1997\",\"period\":\"M04\",\"periodName\":\"April\",\"value\":\"1.231\",\"footnotes\":[{}]},{\"year\":\"1997\",\"period\":\"M03\",\"periodName\":\"March\",\"value\":\"1.235\",\"footnotes\":[{}]},{\"year\":\"1997\",\"period\":\"M02\",\"periodName\":\"February\",\"value\":\"1.255\",\"footnotes\":[{}]},{\"year\":\"1997\",\"period\":\"M01\",\"periodName\":\"January\",\"value\":\"1.261\",\"footnotes\":[{}]},{\"year\":\"1996\",\"period\":\"M12\",\"periodName\":\"December\",\"value\":\"1.260\",\"footnotes\":[{}]},{\"year\":\"1996\",\"period\":\"M11\",\"periodName\":\"November\",\"value\":\"1.250\",\"footnotes\":[{}]},{\"year\":\"1996\",\"period\":\"M10\",\"periodName\":\"October\",\"value\":\"1.227\",\"footnotes\":[{}]},{\"year\":\"1996\",\"period\":\"M09\",\"periodName\":\"September\",\"value\":\"1.234\",\"footnotes\":[{}]},{\"year\":\"1996\",\"period\":\"M08\",\"periodName\":\"August\",\"value\":\"1.240\",\"footnotes\":[{}]},{\"year\":\"1996\",\"period\":\"M07\",\"periodName\":\"July\",\"value\":\"1.272\",\"footnotes\":[{}]},{\"year\":\"1996\",\"period\":\"M06\",\"periodName\":\"June\",\"value\":\"1.299\",\"footnotes\":[{}]},{\"year\":\"1996\",\"period\":\"M05\",\"periodName\":\"May\",\"value\":\"1.323\",\"footnotes\":[{}]},{\"year\":\"1996\",\"period\":\"M04\",\"periodName\":\"April\",\"value\":\"1.251\",\"footnotes\":[{}]},{\"year\":\"1996\",\"period\":\"M03\",\"periodName\":\"March\",\"value\":\"1.162\",\"footnotes\":[{}]},{\"year\":\"1996\",\"period\":\"M02\",\"periodName\":\"February\",\"value\":\"1.124\",\"footnotes\":[{}]},{\"year\":\"1996\",\"period\":\"M01\",\"periodName\":\"January\",\"value\":\"1.129\",\"footnotes\":[{}]}]}]\n}}\n/databricks/driver\n3\n4\n2006\n2016\n{\"seriesid\": [\"APU000074714\", \"APU000074714\"], \"startyear\": \"2006\", \"endyear\": \"2016\"}\n{\"status\":\"REQUEST_SUCCEEDED\",\"responseTime\":186,\"message\":[\"Year range has been reduced to the system-allowed limit of 10 years.\"],\"Results\":{\n\"series\":\n[{\"seriesID\":\"APU000074714\",\"data\":[{\"year\":\"2015\",\"period\":\"M12\",\"periodName\":\"December\",\"value\":\"2.060\",\"footnotes\":[{}]},{\"year\":\"2015\",\"period\":\"M11\",\"periodName\":\"November\",\"value\":\"2.185\",\"footnotes\":[{}]},{\"year\":\"2015\",\"period\":\"M10\",\"periodName\":\"October\",\"value\":\"2.289\",\"footnotes\":[{}]},{\"year\":\"2015\",\"period\":\"M09\",\"periodName\":\"September\",\"value\":\"2.394\",\"footnotes\":[{}]},{\"year\":\"2015\",\"period\":\"M08\",\"periodName\":\"August\",\"value\":\"2.679\",\"footnotes\":[{}]},{\"year\":\"2015\",\"period\":\"M07\",\"periodName\":\"July\",\"value\":\"2.832\",\"footnotes\":[{}]},{\"year\":\"2015\",\"period\":\"M06\",\"periodName\":\"June\",\"value\":\"2.832\",\"footnotes\":[{}]},{\"year\":\"2015\",\"period\":\"M05\",\"periodName\":\"May\",\"value\":\"2.775\",\"footnotes\":[{}]},{\"year\":\"2015\",\"period\":\"M04\",\"periodName\":\"April\",\"value\":\"2.485\",\"footnotes\":[{}]},{\"year\":\"2015\",\"period\":\"M03\",\"periodName\":\"March\",\"value\":\"2.483\",\"footnotes\":[{}]},{\"year\":\"2015\",\"period\":\"M02\",\"periodName\":\"February\",\"value\":\"2.249\",\"footnotes\":[{}]},{\"year\":\"2015\",\"period\":\"M01\",\"periodName\":\"January\",\"value\":\"2.110\",\"footnotes\":[{}]},{\"year\":\"2014\",\"period\":\"M12\",\"periodName\":\"December\",\"value\":\"2.560\",\"footnotes\":[{}]},{\"year\":\"2014\",\"period\":\"M11\",\"periodName\":\"November\",\"value\":\"2.887\",\"footnotes\":[{}]},{\"year\":\"2014\",\"period\":\"M10\",\"periodName\":\"October\",\"value\":\"3.182\",\"footnotes\":[{}]},{\"year\":\"2014\",\"period\":\"M09\",\"periodName\":\"September\",\"value\":\"3.403\",\"footnotes\":[{}]},{\"year\":\"2014\",\"period\":\"M08\",\"periodName\":\"August\",\"value\":\"3.481\",\"footnotes\":[{}]},{\"year\":\"2014\",\"period\":\"M07\",\"periodName\":\"July\",\"value\":\"3.633\",\"footnotes\":[{}]},{\"year\":\"2014\",\"period\":\"M06\",\"periodName\":\"June\",\"value\":\"3.695\",\"footnotes\":[{}]},{\"year\":\"2014\",\"period\":\"M05\",\"periodName\":\"May\",\"value\":\"3.691\",\"footnotes\":[{}]},{\"year\":\"2014\",\"period\":\"M04\",\"periodName\":\"April\",\"value\":\"3.659\",\"footnotes\":[{}]},{\"year\":\"2014\",\"period\":\"M03\",\"periodName\":\"March\",\"value\":\"3.532\",\"footnotes\":[{}]},{\"year\":\"2014\",\"period\":\"M02\",\"periodName\":\"February\",\"value\":\"3.364\",\"footnotes\":[{}]},{\"year\":\"2014\",\"period\":\"M01\",\"periodName\":\"January\",\"value\":\"3.320\",\"footnotes\":[{}]},{\"year\":\"2013\",\"period\":\"M12\",\"periodName\":\"December\",\"value\":\"3.277\",\"footnotes\":[{}]},{\"year\":\"2013\",\"period\":\"M11\",\"periodName\":\"November\",\"value\":\"3.251\",\"footnotes\":[{}]},{\"year\":\"2013\",\"period\":\"M10\",\"periodName\":\"October\",\"value\":\"3.375\",\"footnotes\":[{}]},{\"year\":\"2013\",\"period\":\"M09\",\"periodName\":\"September\",\"value\":\"3.556\",\"footnotes\":[{}]},{\"year\":\"2013\",\"period\":\"M08\",\"periodName\":\"August\",\"value\":\"3.600\",\"footnotes\":[{}]},{\"year\":\"2013\",\"period\":\"M07\",\"periodName\":\"July\",\"value\":\"3.628\",\"footnotes\":[{}]},{\"year\":\"2013\",\"period\":\"M06\",\"periodName\":\"June\",\"value\":\"3.633\",\"footnotes\":[{}]},{\"year\":\"2013\",\"period\":\"M05\",\"periodName\":\"May\",\"value\":\"3.623\",\"footnotes\":[{}]},{\"year\":\"2013\",\"period\":\"M04\",\"periodName\":\"April\",\"value\":\"3.590\",\"footnotes\":[{}]},{\"year\":\"2013\",\"period\":\"M03\",\"periodName\":\"March\",\"value\":\"3.735\",\"footnotes\":[{}]},{\"year\":\"2013\",\"period\":\"M02\",\"periodName\":\"February\",\"value\":\"3.693\",\"footnotes\":[{}]},{\"year\":\"2013\",\"period\":\"M01\",\"periodName\":\"January\",\"value\":\"3.351\",\"footnotes\":[{}]},{\"year\":\"2012\",\"period\":\"M12\",\"periodName\":\"December\",\"value\":\"3.331\",\"footnotes\":[{}]},{\"year\":\"2012\",\"period\":\"M11\",\"periodName\":\"November\",\"value\":\"3.488\",\"footnotes\":[{}]},{\"year\":\"2012\",\"period\":\"M10\",\"periodName\":\"October\",\"value\":\"3.786\",\"footnotes\":[{}]},{\"year\":\"2012\",\"period\":\"M09\",\"periodName\":\"September\",\"value\":\"3.856\",\"footnotes\":[{}]},{\"year\":\"2012\",\"period\":\"M08\",\"periodName\":\"August\",\"value\":\"3.707\",\"footnotes\":[{}]},{\"year\":\"2012\",\"period\":\"M07\",\"periodName\":\"July\",\"value\":\"3.451\",\"footnotes\":[{}]},{\"year\":\"2012\",\"period\":\"M06\",\"periodName\":\"June\",\"value\":\"3.552\",\"footnotes\":[{}]},{\"year\":\"2012\",\"period\":\"M05\",\"periodName\":\"May\",\"value\":\"3.792\",\"footnotes\":[{}]},{\"year\":\"2012\",\"period\":\"M04\",\"periodName\":\"April\",\"value\":\"3.927\",\"footnotes\":[{}]},{\"year\":\"2012\",\"period\":\"M03\",\"periodName\":\"March\",\"value\":\"3.868\",\"footnotes\":[{}]},{\"year\":\"2012\",\"period\":\"M02\",\"periodName\":\"February\",\"value\":\"3.572\",\"footnotes\":[{}]},{\"year\":\"2012\",\"period\":\"M01\",\"periodName\":\"January\",\"value\":\"3.399\",\"footnotes\":[{}]},{\"year\":\"2011\",\"period\":\"M12\",\"periodName\":\"December\",\"value\":\"3.278\",\"footnotes\":[{}]},{\"year\":\"2011\",\"period\":\"M11\",\"periodName\":\"November\",\"value\":\"3.423\",\"footnotes\":[{}]},{\"year\":\"2011\",\"period\":\"M10\",\"periodName\":\"October\",\"value\":\"3.468\",\"footnotes\":[{}]},{\"year\":\"2011\",\"period\":\"M09\",\"periodName\":\"September\",\"value\":\"3.612\",\"footnotes\":[{}]},{\"year\":\"2011\",\"period\":\"M08\",\"periodName\":\"August\",\"value\":\"3.630\",\"footnotes\":[{}]},{\"year\":\"2011\",\"period\":\"M07\",\"periodName\":\"July\",\"value\":\"3.654\",\"footnotes\":[{}]},{\"year\":\"2011\",\"period\":\"M06\",\"periodName\":\"June\",\"value\":\"3.702\",\"footnotes\":[{}]},{\"year\":\"2011\",\"period\":\"M05\",\"periodName\":\"May\",\"value\":\"3.933\",\"footnotes\":[{}]},{\"year\":\"2011\",\"period\":\"M04\",\"periodName\":\"April\",\"value\":\"3.816\",\"footnotes\":[{}]},{\"year\":\"2011\",\"period\":\"M03\",\"periodName\":\"March\",\"value\":\"3.546\",\"footnotes\":[{}]},{\"year\":\"2011\",\"period\":\"M02\",\"periodName\":\"February\",\"value\":\"3.167\",\"footnotes\":[{}]},{\"year\":\"2011\",\"period\":\"M01\",\"periodName\":\"January\",\"value\":\"3.091\",\"footnotes\":[{}]},{\"year\":\"2010\",\"period\":\"M12\",\"periodName\":\"December\",\"value\":\"2.985\",\"footnotes\":[{}]},{\"year\":\"2010\",\"period\":\"M11\",\"periodName\":\"November\",\"value\":\"2.852\",\"footnotes\":[{}]},{\"year\":\"2010\",\"period\":\"M10\",\"periodName\":\"October\",\"value\":\"2.795\",\"footnotes\":[{}]},{\"year\":\"2010\",\"period\":\"M09\",\"periodName\":\"September\",\"value\":\"2.704\",\"footnotes\":[{}]},{\"year\":\"2010\",\"period\":\"M08\",\"periodName\":\"August\",\"value\":\"2.745\",\"footnotes\":[{}]},{\"year\":\"2010\",\"period\":\"M07\",\"periodName\":\"July\",\"value\":\"2.736\",\"footnotes\":[{}]},{\"year\":\"2010\",\"period\":\"M06\",\"periodName\":\"June\",\"value\":\"2.736\",\"footnotes\":[{}]},{\"year\":\"2010\",\"period\":\"M05\",\"periodName\":\"May\",\"value\":\"2.869\",\"footnotes\":[{}]},{\"year\":\"2010\",\"period\":\"M04\",\"periodName\":\"April\",\"value\":\"2.858\",\"footnotes\":[{}]},{\"year\":\"2010\",\"period\":\"M03\",\"periodName\":\"March\",\"value\":\"2.780\",\"footnotes\":[{}]},{\"year\":\"2010\",\"period\":\"M02\",\"periodName\":\"February\",\"value\":\"2.659\",\"footnotes\":[{}]},{\"year\":\"2010\",\"period\":\"M01\",\"periodName\":\"January\",\"value\":\"2.731\",\"footnotes\":[{}]},{\"year\":\"2009\",\"period\":\"M12\",\"periodName\":\"December\",\"value\":\"2.621\",\"footnotes\":[{}]},{\"year\":\"2009\",\"period\":\"M11\",\"periodName\":\"November\",\"value\":\"2.660\",\"footnotes\":[{}]},{\"year\":\"2009\",\"period\":\"M10\",\"periodName\":\"October\",\"value\":\"2.561\",\"footnotes\":[{}]},{\"year\":\"2009\",\"period\":\"M09\",\"periodName\":\"September\",\"value\":\"2.574\",\"footnotes\":[{}]},{\"year\":\"2009\",\"period\":\"M08\",\"periodName\":\"August\",\"value\":\"2.627\",\"footnotes\":[{}]},{\"year\":\"2009\",\"period\":\"M07\",\"periodName\":\"July\",\"value\":\"2.543\",\"footnotes\":[{}]},{\"year\":\"2009\",\"period\":\"M06\",\"periodName\":\"June\",\"value\":\"2.631\",\"footnotes\":[{}]},{\"year\":\"2009\",\"period\":\"M05\",\"periodName\":\"May\",\"value\":\"2.265\",\"footnotes\":[{}]},{\"year\":\"2009\",\"period\":\"M04\",\"periodName\":\"April\",\"value\":\"2.056\",\"footnotes\":[{}]},{\"year\":\"2009\",\"period\":\"M03\",\"periodName\":\"March\",\"value\":\"1.949\",\"footnotes\":[{}]},{\"year\":\"2009\",\"period\":\"M02\",\"periodName\":\"February\",\"value\":\"1.928\",\"footnotes\":[{}]},{\"year\":\"2009\",\"period\":\"M01\",\"periodName\":\"January\",\"value\":\"1.787\",\"footnotes\":[{}]},{\"year\":\"2008\",\"period\":\"M12\",\"periodName\":\"December\",\"value\":\"1.689\",\"footnotes\":[{}]},{\"year\":\"2008\",\"period\":\"M11\",\"periodName\":\"November\",\"value\":\"2.151\",\"footnotes\":[{}]},{\"year\":\"2008\",\"period\":\"M10\",\"periodName\":\"October\",\"value\":\"3.173\",\"footnotes\":[{}]},{\"year\":\"2008\",\"period\":\"M09\",\"periodName\":\"September\",\"value\":\"3.698\",\"footnotes\":[{}]},{\"year\":\"2008\",\"period\":\"M08\",\"periodName\":\"August\",\"value\":\"3.786\",\"footnotes\":[{}]},{\"year\":\"2008\",\"period\":\"M07\",\"periodName\":\"July\",\"value\":\"4.090\",\"footnotes\":[{}]},{\"year\":\"2008\",\"period\":\"M06\",\"periodName\":\"June\",\"value\":\"4.065\",\"footnotes\":[{}]},{\"year\":\"2008\",\"period\":\"M05\",\"periodName\":\"May\",\"value\":\"3.764\",\"footnotes\":[{}]},{\"year\":\"2008\",\"period\":\"M04\",\"periodName\":\"April\",\"value\":\"3.441\",\"footnotes\":[{}]},{\"year\":\"2008\",\"period\":\"M03\",\"periodName\":\"March\",\"value\":\"3.258\",\"footnotes\":[{}]},{\"year\":\"2008\",\"period\":\"M02\",\"periodName\":\"February\",\"value\":\"3.033\",\"footnotes\":[{}]},{\"year\":\"2008\",\"period\":\"M01\",\"periodName\":\"January\",\"value\":\"3.047\",\"footnotes\":[{}]},{\"year\":\"2007\",\"period\":\"M12\",\"periodName\":\"December\",\"value\":\"3.020\",\"footnotes\":[{}]},{\"year\":\"2007\",\"period\":\"M11\",\"periodName\":\"November\",\"value\":\"3.069\",\"footnotes\":[{}]},{\"year\":\"2007\",\"period\":\"M10\",\"periodName\":\"October\",\"value\":\"2.793\",\"footnotes\":[{}]},{\"year\":\"2007\",\"period\":\"M09\",\"periodName\":\"September\",\"value\":\"2.789\",\"footnotes\":[{}]},{\"year\":\"2007\",\"period\":\"M08\",\"periodName\":\"August\",\"value\":\"2.782\",\"footnotes\":[{}]},{\"year\":\"2007\",\"period\":\"M07\",\"periodName\":\"July\",\"value\":\"2.961\",\"footnotes\":[{}]},{\"year\":\"2007\",\"period\":\"M06\",\"periodName\":\"June\",\"value\":\"3.052\",\"footnotes\":[{}]},{\"year\":\"2007\",\"period\":\"M05\",\"periodName\":\"May\",\"value\":\"3.130\",\"footnotes\":[{}]},{\"year\":\"2007\",\"period\":\"M04\",\"periodName\":\"April\",\"value\":\"2.860\",\"footnotes\":[{}]},{\"year\":\"2007\",\"period\":\"M03\",\"periodName\":\"March\",\"value\":\"2.592\",\"footnotes\":[{}]},{\"year\":\"2007\",\"period\":\"M02\",\"periodName\":\"February\",\"value\":\"2.285\",\"footnotes\":[{}]},{\"year\":\"2007\",\"period\":\"M01\",\"periodName\":\"January\",\"value\":\"2.274\",\"footnotes\":[{}]},{\"year\":\"2006\",\"period\":\"M12\",\"periodName\":\"December\",\"value\":\"2.334\",\"footnotes\":[{}]},{\"year\":\"2006\",\"period\":\"M11\",\"periodName\":\"November\",\"value\":\"2.241\",\"footnotes\":[{}]},{\"year\":\"2006\",\"period\":\"M10\",\"periodName\":\"October\",\"value\":\"2.272\",\"footnotes\":[{}]},{\"year\":\"2006\",\"period\":\"M09\",\"periodName\":\"September\",\"value\":\"2.589\",\"footnotes\":[{}]},{\"year\":\"2006\",\"period\":\"M08\",\"periodName\":\"August\",\"value\":\"2.985\",\"footnotes\":[{}]},{\"year\":\"2006\",\"period\":\"M07\",\"periodName\":\"July\",\"value\":\"2.999\",\"footnotes\":[{}]},{\"year\":\"2006\",\"period\":\"M06\",\"periodName\":\"June\",\"value\":\"2.917\",\"footnotes\":[{}]},{\"year\":\"2006\",\"period\":\"M05\",\"periodName\":\"May\",\"value\":\"2.947\",\"footnotes\":[{}]},{\"year\":\"2006\",\"period\":\"M04\",\"periodName\":\"April\",\"value\":\"2.757\",\"footnotes\":[{}]},{\"year\":\"2006\",\"period\":\"M03\",\"periodName\":\"March\",\"value\":\"2.401\",\"footnotes\":[{}]},{\"year\":\"2006\",\"period\":\"M02\",\"periodName\":\"February\",\"value\":\"2.310\",\"footnotes\":[{}]},{\"year\":\"2006\",\"period\":\"M01\",\"periodName\":\"January\",\"value\":\"2.315\",\"footnotes\":[{}]}]}]\n}}\n/databricks/driver\n4\n5\n2016\n2026\n{\"seriesid\": [\"APU000074714\", \"APU000074714\"], \"startyear\": \"2016\", \"endyear\": \"2026\"}\n{\"status\":\"REQUEST_SUCCEEDED\",\"responseTime\":201,\"message\":[\"Year range has been reduced to the system-allowed limit of 10 years.\",\"No Data Available for Series APU000074714 Year: 2024\",\"No Data Available for Series APU000074714 Year: 2025\"],\"Results\":{\n\"series\":\n[{\"seriesID\":\"APU000074714\",\"data\":[{\"year\":\"2023\",\"period\":\"M11\",\"periodName\":\"November\",\"latest\":\"true\",\"value\":\"3.500\",\"footnotes\":[{}]},{\"year\":\"2023\",\"period\":\"M10\",\"periodName\":\"October\",\"value\":\"3.782\",\"footnotes\":[{}]},{\"year\":\"2023\",\"period\":\"M09\",\"periodName\":\"September\",\"value\":\"3.988\",\"footnotes\":[{}]},{\"year\":\"2023\",\"period\":\"M08\",\"periodName\":\"August\",\"value\":\"3.955\",\"footnotes\":[{}]},{\"year\":\"2023\",\"period\":\"M07\",\"periodName\":\"July\",\"value\":\"3.732\",\"footnotes\":[{}]},{\"year\":\"2023\",\"period\":\"M06\",\"periodName\":\"June\",\"value\":\"3.712\",\"footnotes\":[{}]},{\"year\":\"2023\",\"period\":\"M05\",\"periodName\":\"May\",\"value\":\"3.685\",\"footnotes\":[{}]},{\"year\":\"2023\",\"period\":\"M04\",\"periodName\":\"April\",\"value\":\"3.735\",\"footnotes\":[{}]},{\"year\":\"2023\",\"period\":\"M03\",\"periodName\":\"March\",\"value\":\"3.551\",\"footnotes\":[{}]},{\"year\":\"2023\",\"period\":\"M02\",\"periodName\":\"February\",\"value\":\"3.514\",\"footnotes\":[{}]},{\"year\":\"2023\",\"period\":\"M01\",\"periodName\":\"January\",\"value\":\"3.452\",\"footnotes\":[{}]},{\"year\":\"2022\",\"period\":\"M12\",\"periodName\":\"December\",\"value\":\"3.356\",\"footnotes\":[{}]},{\"year\":\"2022\",\"period\":\"M11\",\"periodName\":\"November\",\"value\":\"3.853\",\"footnotes\":[{}]},{\"year\":\"2022\",\"period\":\"M10\",\"periodName\":\"October\",\"value\":\"4.016\",\"footnotes\":[{}]},{\"year\":\"2022\",\"period\":\"M09\",\"periodName\":\"September\",\"value\":\"3.881\",\"footnotes\":[{}]},{\"year\":\"2022\",\"period\":\"M08\",\"periodName\":\"August\",\"value\":\"4.101\",\"footnotes\":[{}]},{\"year\":\"2022\",\"period\":\"M07\",\"periodName\":\"July\",\"value\":\"4.667\",\"footnotes\":[{}]},{\"year\":\"2022\",\"period\":\"M06\",\"periodName\":\"June\",\"value\":\"5.058\",\"footnotes\":[{}]},{\"year\":\"2022\",\"period\":\"M05\",\"periodName\":\"May\",\"value\":\"4.604\",\"footnotes\":[{}]},{\"year\":\"2022\",\"period\":\"M04\",\"periodName\":\"April\",\"value\":\"4.271\",\"footnotes\":[{}]},{\"year\":\"2022\",\"period\":\"M03\",\"periodName\":\"March\",\"value\":\"4.312\",\"footnotes\":[{}]},{\"year\":\"2022\",\"period\":\"M02\",\"periodName\":\"February\",\"value\":\"3.592\",\"footnotes\":[{}]},{\"year\":\"2022\",\"period\":\"M01\",\"periodName\":\"January\",\"value\":\"3.413\",\"footnotes\":[{}]},{\"year\":\"2021\",\"period\":\"M12\",\"periodName\":\"December\",\"value\":\"3.408\",\"footnotes\":[{}]},{\"year\":\"2021\",\"period\":\"M11\",\"periodName\":\"November\",\"value\":\"3.482\",\"footnotes\":[{}]},{\"year\":\"2021\",\"period\":\"M10\",\"periodName\":\"October\",\"value\":\"3.385\",\"footnotes\":[{}]},{\"year\":\"2021\",\"period\":\"M09\",\"periodName\":\"September\",\"value\":\"3.265\",\"footnotes\":[{}]},{\"year\":\"2021\",\"period\":\"M08\",\"periodName\":\"August\",\"value\":\"3.255\",\"footnotes\":[{}]},{\"year\":\"2021\",\"period\":\"M07\",\"periodName\":\"July\",\"value\":\"3.233\",\"footnotes\":[{}]},{\"year\":\"2021\",\"period\":\"M06\",\"periodName\":\"June\",\"value\":\"3.154\",\"footnotes\":[{}]},{\"year\":\"2021\",\"period\":\"M05\",\"periodName\":\"May\",\"value\":\"2.972\",\"footnotes\":[{}]},{\"year\":\"2021\",\"period\":\"M04\",\"periodName\":\"April\",\"value\":\"2.839\",\"footnotes\":[{}]},{\"year\":\"2021\",\"period\":\"M03\",\"periodName\":\"March\",\"value\":\"2.791\",\"footnotes\":[{}]},{\"year\":\"2021\",\"period\":\"M02\",\"periodName\":\"February\",\"value\":\"2.496\",\"footnotes\":[{}]},{\"year\":\"2021\",\"period\":\"M01\",\"periodName\":\"January\",\"value\":\"2.326\",\"footnotes\":[{}]},{\"year\":\"2020\",\"period\":\"M12\",\"periodName\":\"December\",\"value\":\"2.168\",\"footnotes\":[{}]},{\"year\":\"2020\",\"period\":\"M11\",\"periodName\":\"November\",\"value\":\"2.090\",\"footnotes\":[{}]},{\"year\":\"2020\",\"period\":\"M10\",\"periodName\":\"October\",\"value\":\"2.159\",\"footnotes\":[{}]},{\"year\":\"2020\",\"period\":\"M09\",\"periodName\":\"September\",\"value\":\"2.193\",\"footnotes\":[{}]},{\"year\":\"2020\",\"period\":\"M08\",\"periodName\":\"August\",\"value\":\"2.177\",\"footnotes\":[{}]},{\"year\":\"2020\",\"period\":\"M07\",\"periodName\":\"July\",\"value\":\"2.176\",\"footnotes\":[{}]},{\"year\":\"2020\",\"period\":\"M06\",\"periodName\":\"June\",\"value\":\"2.076\",\"footnotes\":[{}]},{\"year\":\"2020\",\"period\":\"M05\",\"periodName\":\"May\",\"value\":\"1.879\",\"footnotes\":[{}]},{\"year\":\"2020\",\"period\":\"M04\",\"periodName\":\"April\",\"value\":\"1.876\",\"footnotes\":[{}]},{\"year\":\"2020\",\"period\":\"M03\",\"periodName\":\"March\",\"value\":\"2.267\",\"footnotes\":[{}]},{\"year\":\"2020\",\"period\":\"M02\",\"periodName\":\"February\",\"value\":\"2.465\",\"footnotes\":[{}]},{\"year\":\"2020\",\"period\":\"M01\",\"periodName\":\"January\",\"value\":\"2.567\",\"footnotes\":[{}]},{\"year\":\"2019\",\"period\":\"M12\",\"periodName\":\"December\",\"value\":\"2.587\",\"footnotes\":[{}]},{\"year\":\"2019\",\"period\":\"M11\",\"periodName\":\"November\",\"value\":\"2.620\",\"footnotes\":[{}]},{\"year\":\"2019\",\"period\":\"M10\",\"periodName\":\"October\",\"value\":\"2.673\",\"footnotes\":[{}]},{\"year\":\"2019\",\"period\":\"M09\",\"periodName\":\"September\",\"value\":\"2.630\",\"footnotes\":[{}]},{\"year\":\"2019\",\"period\":\"M08\",\"periodName\":\"August\",\"value\":\"2.655\",\"footnotes\":[{}]},{\"year\":\"2019\",\"period\":\"M07\",\"periodName\":\"July\",\"value\":\"2.776\",\"footnotes\":[{}]},{\"year\":\"2019\",\"period\":\"M06\",\"periodName\":\"June\",\"value\":\"2.752\",\"footnotes\":[{}]},{\"year\":\"2019\",\"period\":\"M05\",\"periodName\":\"May\",\"value\":\"2.901\",\"footnotes\":[{}]},{\"year\":\"2019\",\"period\":\"M04\",\"periodName\":\"April\",\"value\":\"2.835\",\"footnotes\":[{}]},{\"year\":\"2019\",\"period\":\"M03\",\"periodName\":\"March\",\"value\":\"2.564\",\"footnotes\":[{}]},{\"year\":\"2019\",\"period\":\"M02\",\"periodName\":\"February\",\"value\":\"2.353\",\"footnotes\":[{}]},{\"year\":\"2019\",\"period\":\"M01\",\"periodName\":\"January\",\"value\":\"2.289\",\"footnotes\":[{}]},{\"year\":\"2018\",\"period\":\"M12\",\"periodName\":\"December\",\"value\":\"2.414\",\"footnotes\":[{}]},{\"year\":\"2018\",\"period\":\"M11\",\"periodName\":\"November\",\"value\":\"2.671\",\"footnotes\":[{}]},{\"year\":\"2018\",\"period\":\"M10\",\"periodName\":\"October\",\"value\":\"2.887\",\"footnotes\":[{}]},{\"year\":\"2018\",\"period\":\"M09\",\"periodName\":\"September\",\"value\":\"2.873\",\"footnotes\":[{}]},{\"year\":\"2018\",\"period\":\"M08\",\"periodName\":\"August\",\"value\":\"2.862\",\"footnotes\":[{}]},{\"year\":\"2018\",\"period\":\"M07\",\"periodName\":\"July\",\"value\":\"2.873\",\"footnotes\":[{}]},{\"year\":\"2018\",\"period\":\"M06\",\"periodName\":\"June\",\"value\":\"2.914\",\"footnotes\":[{}]},{\"year\":\"2018\",\"period\":\"M05\",\"periodName\":\"May\",\"value\":\"2.907\",\"footnotes\":[{}]},{\"year\":\"2018\",\"period\":\"M04\",\"periodName\":\"April\",\"value\":\"2.737\",\"footnotes\":[{}]},{\"year\":\"2018\",\"period\":\"M03\",\"periodName\":\"March\",\"value\":\"2.572\",\"footnotes\":[{}]},{\"year\":\"2018\",\"period\":\"M02\",\"periodName\":\"February\",\"value\":\"2.575\",\"footnotes\":[{}]},{\"year\":\"2018\",\"period\":\"M01\",\"periodName\":\"January\",\"value\":\"2.539\",\"footnotes\":[{}]},{\"year\":\"2017\",\"period\":\"M12\",\"periodName\":\"December\",\"value\":\"2.459\",\"footnotes\":[{}]},{\"year\":\"2017\",\"period\":\"M11\",\"periodName\":\"November\",\"value\":\"2.548\",\"footnotes\":[{}]},{\"year\":\"2017\",\"period\":\"M10\",\"periodName\":\"October\",\"value\":\"2.484\",\"footnotes\":[{}]},{\"year\":\"2017\",\"period\":\"M09\",\"periodName\":\"September\",\"value\":\"2.630\",\"footnotes\":[{}]},{\"year\":\"2017\",\"period\":\"M08\",\"periodName\":\"August\",\"value\":\"2.374\",\"footnotes\":[{}]},{\"year\":\"2017\",\"period\":\"M07\",\"periodName\":\"July\",\"value\":\"2.281\",\"footnotes\":[{}]},{\"year\":\"2017\",\"period\":\"M06\",\"periodName\":\"June\",\"value\":\"2.337\",\"footnotes\":[{}]},{\"year\":\"2017\",\"period\":\"M05\",\"periodName\":\"May\",\"value\":\"2.386\",\"footnotes\":[{}]},{\"year\":\"2017\",\"period\":\"M04\",\"periodName\":\"April\",\"value\":\"2.418\",\"footnotes\":[{}]},{\"year\":\"2017\",\"period\":\"M03\",\"periodName\":\"March\",\"value\":\"2.323\",\"footnotes\":[{}]},{\"year\":\"2017\",\"period\":\"M02\",\"periodName\":\"February\",\"value\":\"2.299\",\"footnotes\":[{}]},{\"year\":\"2017\",\"period\":\"M01\",\"periodName\":\"January\",\"value\":\"2.351\",\"footnotes\":[{}]},{\"year\":\"2016\",\"period\":\"M12\",\"periodName\":\"December\",\"value\":\"2.230\",\"footnotes\":[{}]},{\"year\":\"2016\",\"period\":\"M11\",\"periodName\":\"November\",\"value\":\"2.187\",\"footnotes\":[{}]},{\"year\":\"2016\",\"period\":\"M10\",\"periodName\":\"October\",\"value\":\"2.243\",\"footnotes\":[{}]},{\"year\":\"2016\",\"period\":\"M09\",\"periodName\":\"September\",\"value\":\"2.208\",\"footnotes\":[{}]},{\"year\":\"2016\",\"period\":\"M08\",\"periodName\":\"August\",\"value\":\"2.155\",\"footnotes\":[{}]},{\"year\":\"2016\",\"period\":\"M07\",\"periodName\":\"July\",\"value\":\"2.225\",\"footnotes\":[{}]},{\"year\":\"2016\",\"period\":\"M06\",\"periodName\":\"June\",\"value\":\"2.363\",\"footnotes\":[{}]},{\"year\":\"2016\",\"period\":\"M05\",\"periodName\":\"May\",\"value\":\"2.264\",\"footnotes\":[{}]},{\"year\":\"2016\",\"period\":\"M04\",\"periodName\":\"April\",\"value\":\"2.134\",\"footnotes\":[{}]},{\"year\":\"2016\",\"period\":\"M03\",\"periodName\":\"March\",\"value\":\"1.958\",\"footnotes\":[{}]},{\"year\":\"2016\",\"period\":\"M02\",\"periodName\":\"February\",\"value\":\"1.767\",\"footnotes\":[{}]},{\"year\":\"2016\",\"period\":\"M01\",\"periodName\":\"January\",\"value\":\"1.967\",\"footnotes\":[{}]}]}]\n}}\n/databricks/driver\n5\nWrote 31530 bytes.\nOut[2]: True"
     ]
    }
   ],
   "source": [
    "from requests.auth import HTTPBasicAuth\n",
    "import requests\n",
    "import json\n",
    "import prettytable\n",
    "import os\n",
    "\n",
    "headers = {'Content-type': 'application/json'}\n",
    "auth = HTTPBasicAuth('apikey','bf323d2b0dff40a79cf1df469caec067')\n",
    "startyeardate = 1976\n",
    "endyeardate = 1986\n",
    "master_string = \"\"\n",
    "for i in range(0, 5):\n",
    "    i = i+1\n",
    "    print(i)\n",
    "    print(startyeardate)\n",
    "    print(endyeardate)\n",
    "    if startyeardate >= 1976 or endyeardate <= 2023:\n",
    "        data = json.dumps({\"seriesid\": ['APU000074714', 'APU000074714'],\"startyear\":str(startyeardate), \"endyear\":str(endyeardate)})\n",
    "        print(data)\n",
    "        p = requests.post('https://api.bls.gov/publicAPI/v1/timeseries/data/', data=data, headers=headers, auth = auth)\n",
    "        print(p.text)\n",
    "        json_data = json.loads(p.text)\n",
    "        startyeardate = startyeardate + 10;\n",
    "        endyeardate = endyeardate + 10;\n",
    "        \n",
    "        print(os.getcwd())\n",
    "        for series in json_data['Results']['series']:\n",
    "            x=prettytable.PrettyTable([\"series id\",\"year\",\"period\",\"value\",\"footnotes\"])\n",
    "            seriesId = series['seriesID']\n",
    "            for item in series['data']:\n",
    "                year = item['year']\n",
    "                period = item['period']\n",
    "                value = item['value']\n",
    "                footnotes=\"\"\n",
    "                for footnote in item['footnotes']:\n",
    "                    if footnote:\n",
    "                        footnotes = footnotes + footnote['text'] + ','\n",
    "                if 'M01' <= period <= 'M12':\n",
    "                    x.add_row([seriesId,year,period,value,footnotes[0:-1]])\n",
    "            output = open(seriesId + '.txt','w')\n",
    "            #print(seriesId)\n",
    "            output.write (x.get_string())\n",
    "            master_string = master_string + x.get_string()\n",
    "            print(i)\n",
    "            output.close()\n",
    "dbutils.fs.put(\"dbfs:/FileStore/my-stuff/\" + seriesId + str(i) + '.txt', master_string, overwrite=True) #save the gas price into a text file with the series id in its name\n"
   ]
  },
  {
   "cell_type": "markdown",
   "metadata": {
    "application/vnd.databricks.v1+cell": {
     "cellMetadata": {
      "byteLimit": 2048000,
      "rowLimit": 10000
     },
     "inputWidgets": {},
     "nuid": "8666837c-b6b7-44b4-ac63-78efde740c4e",
     "showTitle": false,
     "title": ""
    }
   },
   "source": [
    "#### Source the All Items data based on the series id using the data tool API provided by US department of Labor. More information on the series ids https://download.bls.gov/pub/time.series/cu/cu.series\n",
    "#### CUSR0000SA0      \t0000\tSA0\tS\tR\tS\t1982-84=100\tAll items in U.S. city average, all urban consumers, seasonally adjusted"
   ]
  },
  {
   "cell_type": "code",
   "execution_count": 0,
   "metadata": {
    "application/vnd.databricks.v1+cell": {
     "cellMetadata": {
      "byteLimit": 2048000,
      "rowLimit": 10000
     },
     "inputWidgets": {},
     "nuid": "fe3d2d08-af8e-4503-98db-b865ef816e47",
     "showTitle": false,
     "title": ""
    }
   },
   "outputs": [
    {
     "output_type": "stream",
     "name": "stdout",
     "output_type": "stream",
     "text": [
      "1\n1947\n1957\n{\"seriesid\": [\"CUSR0000SA0\", \"CUSR0000SA0\"], \"startyear\": \"1947\", \"endyear\": \"1957\"}\n{\"status\":\"REQUEST_SUCCEEDED\",\"responseTime\":192,\"message\":[\"Year range has been reduced to the system-allowed limit of 10 years.\"],\"Results\":{\n\"series\":\n[{\"seriesID\":\"CUSR0000SA0\",\"data\":[{\"year\":\"1956\",\"period\":\"M12\",\"periodName\":\"December\",\"value\":\"27.63\",\"footnotes\":[{}]},{\"year\":\"1956\",\"period\":\"M11\",\"periodName\":\"November\",\"value\":\"27.51\",\"footnotes\":[{}]},{\"year\":\"1956\",\"period\":\"M10\",\"periodName\":\"October\",\"value\":\"27.51\",\"footnotes\":[{}]},{\"year\":\"1956\",\"period\":\"M09\",\"periodName\":\"September\",\"value\":\"27.35\",\"footnotes\":[{}]},{\"year\":\"1956\",\"period\":\"M08\",\"periodName\":\"August\",\"value\":\"27.31\",\"footnotes\":[{}]},{\"year\":\"1956\",\"period\":\"M07\",\"periodName\":\"July\",\"value\":\"27.29\",\"footnotes\":[{}]},{\"year\":\"1956\",\"period\":\"M06\",\"periodName\":\"June\",\"value\":\"27.15\",\"footnotes\":[{}]},{\"year\":\"1956\",\"period\":\"M05\",\"periodName\":\"May\",\"value\":\"27.03\",\"footnotes\":[{}]},{\"year\":\"1956\",\"period\":\"M04\",\"periodName\":\"April\",\"value\":\"26.93\",\"footnotes\":[{}]},{\"year\":\"1956\",\"period\":\"M03\",\"periodName\":\"March\",\"value\":\"26.89\",\"footnotes\":[{}]},{\"year\":\"1956\",\"period\":\"M02\",\"periodName\":\"February\",\"value\":\"26.86\",\"footnotes\":[{}]},{\"year\":\"1956\",\"period\":\"M01\",\"periodName\":\"January\",\"value\":\"26.83\",\"footnotes\":[{}]},{\"year\":\"1955\",\"period\":\"M12\",\"periodName\":\"December\",\"value\":\"26.87\",\"footnotes\":[{}]},{\"year\":\"1955\",\"period\":\"M11\",\"periodName\":\"November\",\"value\":\"26.88\",\"footnotes\":[{}]},{\"year\":\"1955\",\"period\":\"M10\",\"periodName\":\"October\",\"value\":\"26.82\",\"footnotes\":[{}]},{\"year\":\"1955\",\"period\":\"M09\",\"periodName\":\"September\",\"value\":\"26.85\",\"footnotes\":[{}]},{\"year\":\"1955\",\"period\":\"M08\",\"periodName\":\"August\",\"value\":\"26.72\",\"footnotes\":[{}]},{\"year\":\"1955\",\"period\":\"M07\",\"periodName\":\"July\",\"value\":\"26.76\",\"footnotes\":[{}]},{\"year\":\"1955\",\"period\":\"M06\",\"periodName\":\"June\",\"value\":\"26.71\",\"footnotes\":[{}]},{\"year\":\"1955\",\"period\":\"M05\",\"periodName\":\"May\",\"value\":\"26.77\",\"footnotes\":[{}]},{\"year\":\"1955\",\"period\":\"M04\",\"periodName\":\"April\",\"value\":\"26.79\",\"footnotes\":[{}]},{\"year\":\"1955\",\"period\":\"M03\",\"periodName\":\"March\",\"value\":\"26.79\",\"footnotes\":[{}]},{\"year\":\"1955\",\"period\":\"M02\",\"periodName\":\"February\",\"value\":\"26.82\",\"footnotes\":[{}]},{\"year\":\"1955\",\"period\":\"M01\",\"periodName\":\"January\",\"value\":\"26.77\",\"footnotes\":[{}]},{\"year\":\"1954\",\"period\":\"M12\",\"periodName\":\"December\",\"value\":\"26.77\",\"footnotes\":[{}]},{\"year\":\"1954\",\"period\":\"M11\",\"periodName\":\"November\",\"value\":\"26.78\",\"footnotes\":[{}]},{\"year\":\"1954\",\"period\":\"M10\",\"periodName\":\"October\",\"value\":\"26.72\",\"footnotes\":[{}]},{\"year\":\"1954\",\"period\":\"M09\",\"periodName\":\"September\",\"value\":\"26.81\",\"footnotes\":[{}]},{\"year\":\"1954\",\"period\":\"M08\",\"periodName\":\"August\",\"value\":\"26.85\",\"footnotes\":[{}]},{\"year\":\"1954\",\"period\":\"M07\",\"periodName\":\"July\",\"value\":\"26.86\",\"footnotes\":[{}]},{\"year\":\"1954\",\"period\":\"M06\",\"periodName\":\"June\",\"value\":\"26.94\",\"footnotes\":[{}]},{\"year\":\"1954\",\"period\":\"M05\",\"periodName\":\"May\",\"value\":\"26.93\",\"footnotes\":[{}]},{\"year\":\"1954\",\"period\":\"M04\",\"periodName\":\"April\",\"value\":\"26.86\",\"footnotes\":[{}]},{\"year\":\"1954\",\"period\":\"M03\",\"periodName\":\"March\",\"value\":\"26.93\",\"footnotes\":[{}]},{\"year\":\"1954\",\"period\":\"M02\",\"periodName\":\"February\",\"value\":\"26.99\",\"footnotes\":[{}]},{\"year\":\"1954\",\"period\":\"M01\",\"periodName\":\"January\",\"value\":\"26.94\",\"footnotes\":[{}]},{\"year\":\"1953\",\"period\":\"M12\",\"periodName\":\"December\",\"value\":\"26.87\",\"footnotes\":[{}]},{\"year\":\"1953\",\"period\":\"M11\",\"periodName\":\"November\",\"value\":\"26.85\",\"footnotes\":[{}]},{\"year\":\"1953\",\"period\":\"M10\",\"periodName\":\"October\",\"value\":\"26.95\",\"footnotes\":[{}]},{\"year\":\"1953\",\"period\":\"M09\",\"periodName\":\"September\",\"value\":\"26.89\",\"footnotes\":[{}]},{\"year\":\"1953\",\"period\":\"M08\",\"periodName\":\"August\",\"value\":\"26.85\",\"footnotes\":[{}]},{\"year\":\"1953\",\"period\":\"M07\",\"periodName\":\"July\",\"value\":\"26.79\",\"footnotes\":[{}]},{\"year\":\"1953\",\"period\":\"M06\",\"periodName\":\"June\",\"value\":\"26.77\",\"footnotes\":[{}]},{\"year\":\"1953\",\"period\":\"M05\",\"periodName\":\"May\",\"value\":\"26.70\",\"footnotes\":[{}]},{\"year\":\"1953\",\"period\":\"M04\",\"periodName\":\"April\",\"value\":\"26.69\",\"footnotes\":[{}]},{\"year\":\"1953\",\"period\":\"M03\",\"periodName\":\"March\",\"value\":\"26.63\",\"footnotes\":[{}]},{\"year\":\"1953\",\"period\":\"M02\",\"periodName\":\"February\",\"value\":\"26.59\",\"footnotes\":[{}]},{\"year\":\"1953\",\"period\":\"M01\",\"periodName\":\"January\",\"value\":\"26.64\",\"footnotes\":[{}]},{\"year\":\"1952\",\"period\":\"M12\",\"periodName\":\"December\",\"value\":\"26.71\",\"footnotes\":[{}]},{\"year\":\"1952\",\"period\":\"M11\",\"periodName\":\"November\",\"value\":\"26.69\",\"footnotes\":[{}]},{\"year\":\"1952\",\"period\":\"M10\",\"periodName\":\"October\",\"value\":\"26.69\",\"footnotes\":[{}]},{\"year\":\"1952\",\"period\":\"M09\",\"periodName\":\"September\",\"value\":\"26.63\",\"footnotes\":[{}]},{\"year\":\"1952\",\"period\":\"M08\",\"periodName\":\"August\",\"value\":\"26.69\",\"footnotes\":[{}]},{\"year\":\"1952\",\"period\":\"M07\",\"periodName\":\"July\",\"value\":\"26.68\",\"footnotes\":[{}]},{\"year\":\"1952\",\"period\":\"M06\",\"periodName\":\"June\",\"value\":\"26.53\",\"footnotes\":[{}]},{\"year\":\"1952\",\"period\":\"M05\",\"periodName\":\"May\",\"value\":\"26.47\",\"footnotes\":[{}]},{\"year\":\"1952\",\"period\":\"M04\",\"periodName\":\"April\",\"value\":\"26.46\",\"footnotes\":[{}]},{\"year\":\"1952\",\"period\":\"M03\",\"periodName\":\"March\",\"value\":\"26.39\",\"footnotes\":[{}]},{\"year\":\"1952\",\"period\":\"M02\",\"periodName\":\"February\",\"value\":\"26.41\",\"footnotes\":[{}]},{\"year\":\"1952\",\"period\":\"M01\",\"periodName\":\"January\",\"value\":\"26.45\",\"footnotes\":[{}]},{\"year\":\"1951\",\"period\":\"M12\",\"periodName\":\"December\",\"value\":\"26.47\",\"footnotes\":[{}]},{\"year\":\"1951\",\"period\":\"M11\",\"periodName\":\"November\",\"value\":\"26.32\",\"footnotes\":[{}]},{\"year\":\"1951\",\"period\":\"M10\",\"periodName\":\"October\",\"value\":\"26.16\",\"footnotes\":[{}]},{\"year\":\"1951\",\"period\":\"M09\",\"periodName\":\"September\",\"value\":\"26.03\",\"footnotes\":[{}]},{\"year\":\"1951\",\"period\":\"M08\",\"periodName\":\"August\",\"value\":\"25.86\",\"footnotes\":[{}]},{\"year\":\"1951\",\"period\":\"M07\",\"periodName\":\"July\",\"value\":\"25.91\",\"footnotes\":[{}]},{\"year\":\"1951\",\"period\":\"M06\",\"periodName\":\"June\",\"value\":\"25.93\",\"footnotes\":[{}]},{\"year\":\"1951\",\"period\":\"M05\",\"periodName\":\"May\",\"value\":\"25.99\",\"footnotes\":[{}]},{\"year\":\"1951\",\"period\":\"M04\",\"periodName\":\"April\",\"value\":\"25.92\",\"footnotes\":[{}]},{\"year\":\"1951\",\"period\":\"M03\",\"periodName\":\"March\",\"value\":\"25.88\",\"footnotes\":[{}]},{\"year\":\"1951\",\"period\":\"M02\",\"periodName\":\"February\",\"value\":\"25.83\",\"footnotes\":[{}]},{\"year\":\"1951\",\"period\":\"M01\",\"periodName\":\"January\",\"value\":\"25.38\",\"footnotes\":[{}]},{\"year\":\"1950\",\"period\":\"M12\",\"periodName\":\"December\",\"value\":\"24.98\",\"footnotes\":[{}]},{\"year\":\"1950\",\"period\":\"M11\",\"periodName\":\"November\",\"value\":\"24.60\",\"footnotes\":[{}]},{\"year\":\"1950\",\"period\":\"M10\",\"periodName\":\"October\",\"value\":\"24.50\",\"footnotes\":[{}]},{\"year\":\"1950\",\"period\":\"M09\",\"periodName\":\"September\",\"value\":\"24.34\",\"footnotes\":[{}]},{\"year\":\"1950\",\"period\":\"M08\",\"periodName\":\"August\",\"value\":\"24.20\",\"footnotes\":[{}]},{\"year\":\"1950\",\"period\":\"M07\",\"periodName\":\"July\",\"value\":\"24.07\",\"footnotes\":[{}]},{\"year\":\"1950\",\"period\":\"M06\",\"periodName\":\"June\",\"value\":\"23.88\",\"footnotes\":[{}]},{\"year\":\"1950\",\"period\":\"M05\",\"periodName\":\"May\",\"value\":\"23.77\",\"footnotes\":[{}]},{\"year\":\"1950\",\"period\":\"M04\",\"periodName\":\"April\",\"value\":\"23.65\",\"footnotes\":[{}]},{\"year\":\"1950\",\"period\":\"M03\",\"periodName\":\"March\",\"value\":\"23.64\",\"footnotes\":[{}]},{\"year\":\"1950\",\"period\":\"M02\",\"periodName\":\"February\",\"value\":\"23.61\",\"footnotes\":[{}]},{\"year\":\"1950\",\"period\":\"M01\",\"periodName\":\"January\",\"value\":\"23.51\",\"footnotes\":[{}]},{\"year\":\"1949\",\"period\":\"M12\",\"periodName\":\"December\",\"value\":\"23.61\",\"footnotes\":[{}]},{\"year\":\"1949\",\"period\":\"M11\",\"periodName\":\"November\",\"value\":\"23.70\",\"footnotes\":[{}]},{\"year\":\"1949\",\"period\":\"M10\",\"periodName\":\"October\",\"value\":\"23.67\",\"footnotes\":[{}]},{\"year\":\"1949\",\"period\":\"M09\",\"periodName\":\"September\",\"value\":\"23.75\",\"footnotes\":[{}]},{\"year\":\"1949\",\"period\":\"M08\",\"periodName\":\"August\",\"value\":\"23.70\",\"footnotes\":[{}]},{\"year\":\"1949\",\"period\":\"M07\",\"periodName\":\"July\",\"value\":\"23.70\",\"footnotes\":[{}]},{\"year\":\"1949\",\"period\":\"M06\",\"periodName\":\"June\",\"value\":\"23.92\",\"footnotes\":[{}]},{\"year\":\"1949\",\"period\":\"M05\",\"periodName\":\"May\",\"value\":\"23.91\",\"footnotes\":[{}]},{\"year\":\"1949\",\"period\":\"M04\",\"periodName\":\"April\",\"value\":\"23.92\",\"footnotes\":[{}]},{\"year\":\"1949\",\"period\":\"M03\",\"periodName\":\"March\",\"value\":\"23.91\",\"footnotes\":[{}]},{\"year\":\"1949\",\"period\":\"M02\",\"periodName\":\"February\",\"value\":\"23.91\",\"footnotes\":[{}]},{\"year\":\"1949\",\"period\":\"M01\",\"periodName\":\"January\",\"value\":\"24.01\",\"footnotes\":[{}]},{\"year\":\"1948\",\"period\":\"M12\",\"periodName\":\"December\",\"value\":\"24.05\",\"footnotes\":[{}]},{\"year\":\"1948\",\"period\":\"M11\",\"periodName\":\"November\",\"value\":\"24.16\",\"footnotes\":[{}]},{\"year\":\"1948\",\"period\":\"M10\",\"periodName\":\"October\",\"value\":\"24.31\",\"footnotes\":[{}]},{\"year\":\"1948\",\"period\":\"M09\",\"periodName\":\"September\",\"value\":\"24.36\",\"footnotes\":[{}]},{\"year\":\"1948\",\"period\":\"M08\",\"periodName\":\"August\",\"value\":\"24.43\",\"footnotes\":[{}]},{\"year\":\"1948\",\"period\":\"M07\",\"periodName\":\"July\",\"value\":\"24.40\",\"footnotes\":[{}]},{\"year\":\"1948\",\"period\":\"M06\",\"periodName\":\"June\",\"value\":\"24.15\",\"footnotes\":[{}]},{\"year\":\"1948\",\"period\":\"M05\",\"periodName\":\"May\",\"value\":\"24.01\",\"footnotes\":[{}]},{\"year\":\"1948\",\"period\":\"M04\",\"periodName\":\"April\",\"value\":\"23.82\",\"footnotes\":[{}]},{\"year\":\"1948\",\"period\":\"M03\",\"periodName\":\"March\",\"value\":\"23.50\",\"footnotes\":[{}]},{\"year\":\"1948\",\"period\":\"M02\",\"periodName\":\"February\",\"value\":\"23.67\",\"footnotes\":[{}]},{\"year\":\"1948\",\"period\":\"M01\",\"periodName\":\"January\",\"value\":\"23.68\",\"footnotes\":[{}]},{\"year\":\"1947\",\"period\":\"M12\",\"periodName\":\"December\",\"value\":\"23.41\",\"footnotes\":[{}]},{\"year\":\"1947\",\"period\":\"M11\",\"periodName\":\"November\",\"value\":\"23.06\",\"footnotes\":[{}]},{\"year\":\"1947\",\"period\":\"M10\",\"periodName\":\"October\",\"value\":\"22.91\",\"footnotes\":[{}]},{\"year\":\"1947\",\"period\":\"M09\",\"periodName\":\"September\",\"value\":\"22.84\",\"footnotes\":[{}]},{\"year\":\"1947\",\"period\":\"M08\",\"periodName\":\"August\",\"value\":\"22.40\",\"footnotes\":[{}]},{\"year\":\"1947\",\"period\":\"M07\",\"periodName\":\"July\",\"value\":\"22.23\",\"footnotes\":[{}]},{\"year\":\"1947\",\"period\":\"M06\",\"periodName\":\"June\",\"value\":\"22.08\",\"footnotes\":[{}]},{\"year\":\"1947\",\"period\":\"M05\",\"periodName\":\"May\",\"value\":\"21.95\",\"footnotes\":[{}]},{\"year\":\"1947\",\"period\":\"M04\",\"periodName\":\"April\",\"value\":\"22.00\",\"footnotes\":[{}]},{\"year\":\"1947\",\"period\":\"M03\",\"periodName\":\"March\",\"value\":\"22.00\",\"footnotes\":[{}]},{\"year\":\"1947\",\"period\":\"M02\",\"periodName\":\"February\",\"value\":\"21.62\",\"footnotes\":[{}]},{\"year\":\"1947\",\"period\":\"M01\",\"periodName\":\"January\",\"value\":\"21.48\",\"footnotes\":[{}]}]}]\n}}\n1\n2\n1957\n1967\n{\"seriesid\": [\"CUSR0000SA0\", \"CUSR0000SA0\"], \"startyear\": \"1957\", \"endyear\": \"1967\"}\n{\"status\":\"REQUEST_SUCCEEDED\",\"responseTime\":299,\"message\":[\"Year range has been reduced to the system-allowed limit of 10 years.\"],\"Results\":{\n\"series\":\n[{\"seriesID\":\"CUSR0000SA0\",\"data\":[{\"year\":\"1966\",\"period\":\"M12\",\"periodName\":\"December\",\"value\":\"32.92\",\"footnotes\":[{}]},{\"year\":\"1966\",\"period\":\"M11\",\"periodName\":\"November\",\"value\":\"32.88\",\"footnotes\":[{}]},{\"year\":\"1966\",\"period\":\"M10\",\"periodName\":\"October\",\"value\":\"32.85\",\"footnotes\":[{}]},{\"year\":\"1966\",\"period\":\"M09\",\"periodName\":\"September\",\"value\":\"32.75\",\"footnotes\":[{}]},{\"year\":\"1966\",\"period\":\"M08\",\"periodName\":\"August\",\"value\":\"32.65\",\"footnotes\":[{}]},{\"year\":\"1966\",\"period\":\"M07\",\"periodName\":\"July\",\"value\":\"32.45\",\"footnotes\":[{}]},{\"year\":\"1966\",\"period\":\"M06\",\"periodName\":\"June\",\"value\":\"32.38\",\"footnotes\":[{}]},{\"year\":\"1966\",\"period\":\"M05\",\"periodName\":\"May\",\"value\":\"32.35\",\"footnotes\":[{}]},{\"year\":\"1966\",\"period\":\"M04\",\"periodName\":\"April\",\"value\":\"32.28\",\"footnotes\":[{}]},{\"year\":\"1966\",\"period\":\"M03\",\"periodName\":\"March\",\"value\":\"32.18\",\"footnotes\":[{}]},{\"year\":\"1966\",\"period\":\"M02\",\"periodName\":\"February\",\"value\":\"32.08\",\"footnotes\":[{}]},{\"year\":\"1966\",\"period\":\"M01\",\"periodName\":\"January\",\"value\":\"31.88\",\"footnotes\":[{}]},{\"year\":\"1965\",\"period\":\"M12\",\"periodName\":\"December\",\"value\":\"31.85\",\"footnotes\":[{}]},{\"year\":\"1965\",\"period\":\"M11\",\"periodName\":\"November\",\"value\":\"31.75\",\"footnotes\":[{}]},{\"year\":\"1965\",\"period\":\"M10\",\"periodName\":\"October\",\"value\":\"31.65\",\"footnotes\":[{}]},{\"year\":\"1965\",\"period\":\"M09\",\"periodName\":\"September\",\"value\":\"31.62\",\"footnotes\":[{}]},{\"year\":\"1965\",\"period\":\"M08\",\"periodName\":\"August\",\"value\":\"31.55\",\"footnotes\":[{}]},{\"year\":\"1965\",\"period\":\"M07\",\"periodName\":\"July\",\"value\":\"31.58\",\"footnotes\":[{}]},{\"year\":\"1965\",\"period\":\"M06\",\"periodName\":\"June\",\"value\":\"31.61\",\"footnotes\":[{}]},{\"year\":\"1965\",\"period\":\"M05\",\"periodName\":\"May\",\"value\":\"31.48\",\"footnotes\":[{}]},{\"year\":\"1965\",\"period\":\"M04\",\"periodName\":\"April\",\"value\":\"31.38\",\"footnotes\":[{}]},{\"year\":\"1965\",\"period\":\"M03\",\"periodName\":\"March\",\"value\":\"31.31\",\"footnotes\":[{}]},{\"year\":\"1965\",\"period\":\"M02\",\"periodName\":\"February\",\"value\":\"31.28\",\"footnotes\":[{}]},{\"year\":\"1965\",\"period\":\"M01\",\"periodName\":\"January\",\"value\":\"31.28\",\"footnotes\":[{}]},{\"year\":\"1964\",\"period\":\"M12\",\"periodName\":\"December\",\"value\":\"31.25\",\"footnotes\":[{}]},{\"year\":\"1964\",\"period\":\"M11\",\"periodName\":\"November\",\"value\":\"31.21\",\"footnotes\":[{}]},{\"year\":\"1964\",\"period\":\"M10\",\"periodName\":\"October\",\"value\":\"31.12\",\"footnotes\":[{}]},{\"year\":\"1964\",\"period\":\"M09\",\"periodName\":\"September\",\"value\":\"31.08\",\"footnotes\":[{}]},{\"year\":\"1964\",\"period\":\"M08\",\"periodName\":\"August\",\"value\":\"31.05\",\"footnotes\":[{}]},{\"year\":\"1964\",\"period\":\"M07\",\"periodName\":\"July\",\"value\":\"31.02\",\"footnotes\":[{}]},{\"year\":\"1964\",\"period\":\"M06\",\"periodName\":\"June\",\"value\":\"31.01\",\"footnotes\":[{}]},{\"year\":\"1964\",\"period\":\"M05\",\"periodName\":\"May\",\"value\":\"30.98\",\"footnotes\":[{}]},{\"year\":\"1964\",\"period\":\"M04\",\"periodName\":\"April\",\"value\":\"30.95\",\"footnotes\":[{}]},{\"year\":\"1964\",\"period\":\"M03\",\"periodName\":\"March\",\"value\":\"30.94\",\"footnotes\":[{}]},{\"year\":\"1964\",\"period\":\"M02\",\"periodName\":\"February\",\"value\":\"30.91\",\"footnotes\":[{}]},{\"year\":\"1964\",\"period\":\"M01\",\"periodName\":\"January\",\"value\":\"30.94\",\"footnotes\":[{}]},{\"year\":\"1963\",\"period\":\"M12\",\"periodName\":\"December\",\"value\":\"30.88\",\"footnotes\":[{}]},{\"year\":\"1963\",\"period\":\"M11\",\"periodName\":\"November\",\"value\":\"30.78\",\"footnotes\":[{}]},{\"year\":\"1963\",\"period\":\"M10\",\"periodName\":\"October\",\"value\":\"30.75\",\"footnotes\":[{}]},{\"year\":\"1963\",\"period\":\"M09\",\"periodName\":\"September\",\"value\":\"30.72\",\"footnotes\":[{}]},{\"year\":\"1963\",\"period\":\"M08\",\"periodName\":\"August\",\"value\":\"30.75\",\"footnotes\":[{}]},{\"year\":\"1963\",\"period\":\"M07\",\"periodName\":\"July\",\"value\":\"30.69\",\"footnotes\":[{}]},{\"year\":\"1963\",\"period\":\"M06\",\"periodName\":\"June\",\"value\":\"30.61\",\"footnotes\":[{}]},{\"year\":\"1963\",\"period\":\"M05\",\"periodName\":\"May\",\"value\":\"30.51\",\"footnotes\":[{}]},{\"year\":\"1963\",\"period\":\"M04\",\"periodName\":\"April\",\"value\":\"30.48\",\"footnotes\":[{}]},{\"year\":\"1963\",\"period\":\"M03\",\"periodName\":\"March\",\"value\":\"30.51\",\"footnotes\":[{}]},{\"year\":\"1963\",\"period\":\"M02\",\"periodName\":\"February\",\"value\":\"30.48\",\"footnotes\":[{}]},{\"year\":\"1963\",\"period\":\"M01\",\"periodName\":\"January\",\"value\":\"30.44\",\"footnotes\":[{}]},{\"year\":\"1962\",\"period\":\"M12\",\"periodName\":\"December\",\"value\":\"30.38\",\"footnotes\":[{}]},{\"year\":\"1962\",\"period\":\"M11\",\"periodName\":\"November\",\"value\":\"30.38\",\"footnotes\":[{}]},{\"year\":\"1962\",\"period\":\"M10\",\"periodName\":\"October\",\"value\":\"30.38\",\"footnotes\":[{}]},{\"year\":\"1962\",\"period\":\"M09\",\"periodName\":\"September\",\"value\":\"30.42\",\"footnotes\":[{}]},{\"year\":\"1962\",\"period\":\"M08\",\"periodName\":\"August\",\"value\":\"30.28\",\"footnotes\":[{}]},{\"year\":\"1962\",\"period\":\"M07\",\"periodName\":\"July\",\"value\":\"30.22\",\"footnotes\":[{}]},{\"year\":\"1962\",\"period\":\"M06\",\"periodName\":\"June\",\"value\":\"30.21\",\"footnotes\":[{}]},{\"year\":\"1962\",\"period\":\"M05\",\"periodName\":\"May\",\"value\":\"30.24\",\"footnotes\":[{}]},{\"year\":\"1962\",\"period\":\"M04\",\"periodName\":\"April\",\"value\":\"30.21\",\"footnotes\":[{}]},{\"year\":\"1962\",\"period\":\"M03\",\"periodName\":\"March\",\"value\":\"30.17\",\"footnotes\":[{}]},{\"year\":\"1962\",\"period\":\"M02\",\"periodName\":\"February\",\"value\":\"30.11\",\"footnotes\":[{}]},{\"year\":\"1962\",\"period\":\"M01\",\"periodName\":\"January\",\"value\":\"30.04\",\"footnotes\":[{}]},{\"year\":\"1961\",\"period\":\"M12\",\"periodName\":\"December\",\"value\":\"30.01\",\"footnotes\":[{}]},{\"year\":\"1961\",\"period\":\"M11\",\"periodName\":\"November\",\"value\":\"29.98\",\"footnotes\":[{}]},{\"year\":\"1961\",\"period\":\"M10\",\"periodName\":\"October\",\"value\":\"29.98\",\"footnotes\":[{}]},{\"year\":\"1961\",\"period\":\"M09\",\"periodName\":\"September\",\"value\":\"29.98\",\"footnotes\":[{}]},{\"year\":\"1961\",\"period\":\"M08\",\"periodName\":\"August\",\"value\":\"29.94\",\"footnotes\":[{}]},{\"year\":\"1961\",\"period\":\"M07\",\"periodName\":\"July\",\"value\":\"29.92\",\"footnotes\":[{}]},{\"year\":\"1961\",\"period\":\"M06\",\"periodName\":\"June\",\"value\":\"29.84\",\"footnotes\":[{}]},{\"year\":\"1961\",\"period\":\"M05\",\"periodName\":\"May\",\"value\":\"29.84\",\"footnotes\":[{}]},{\"year\":\"1961\",\"period\":\"M04\",\"periodName\":\"April\",\"value\":\"29.81\",\"footnotes\":[{}]},{\"year\":\"1961\",\"period\":\"M03\",\"periodName\":\"March\",\"value\":\"29.84\",\"footnotes\":[{}]},{\"year\":\"1961\",\"period\":\"M02\",\"periodName\":\"February\",\"value\":\"29.84\",\"footnotes\":[{}]},{\"year\":\"1961\",\"period\":\"M01\",\"periodName\":\"January\",\"value\":\"29.84\",\"footnotes\":[{}]},{\"year\":\"1960\",\"period\":\"M12\",\"periodName\":\"December\",\"value\":\"29.81\",\"footnotes\":[{}]},{\"year\":\"1960\",\"period\":\"M11\",\"periodName\":\"November\",\"value\":\"29.78\",\"footnotes\":[{}]},{\"year\":\"1960\",\"period\":\"M10\",\"periodName\":\"October\",\"value\":\"29.75\",\"footnotes\":[{}]},{\"year\":\"1960\",\"period\":\"M09\",\"periodName\":\"September\",\"value\":\"29.61\",\"footnotes\":[{}]},{\"year\":\"1960\",\"period\":\"M08\",\"periodName\":\"August\",\"value\":\"29.61\",\"footnotes\":[{}]},{\"year\":\"1960\",\"period\":\"M07\",\"periodName\":\"July\",\"value\":\"29.55\",\"footnotes\":[{}]},{\"year\":\"1960\",\"period\":\"M06\",\"periodName\":\"June\",\"value\":\"29.61\",\"footnotes\":[{}]},{\"year\":\"1960\",\"period\":\"M05\",\"periodName\":\"May\",\"value\":\"29.57\",\"footnotes\":[{}]},{\"year\":\"1960\",\"period\":\"M04\",\"periodName\":\"April\",\"value\":\"29.54\",\"footnotes\":[{}]},{\"year\":\"1960\",\"period\":\"M03\",\"periodName\":\"March\",\"value\":\"29.41\",\"footnotes\":[{}]},{\"year\":\"1960\",\"period\":\"M02\",\"periodName\":\"February\",\"value\":\"29.41\",\"footnotes\":[{}]},{\"year\":\"1960\",\"period\":\"M01\",\"periodName\":\"January\",\"value\":\"29.37\",\"footnotes\":[{}]},{\"year\":\"1959\",\"period\":\"M12\",\"periodName\":\"December\",\"value\":\"29.41\",\"footnotes\":[{}]},{\"year\":\"1959\",\"period\":\"M11\",\"periodName\":\"November\",\"value\":\"29.35\",\"footnotes\":[{}]},{\"year\":\"1959\",\"period\":\"M10\",\"periodName\":\"October\",\"value\":\"29.35\",\"footnotes\":[{}]},{\"year\":\"1959\",\"period\":\"M09\",\"periodName\":\"September\",\"value\":\"29.25\",\"footnotes\":[{}]},{\"year\":\"1959\",\"period\":\"M08\",\"periodName\":\"August\",\"value\":\"29.18\",\"footnotes\":[{}]},{\"year\":\"1959\",\"period\":\"M07\",\"periodName\":\"July\",\"value\":\"29.15\",\"footnotes\":[{}]},{\"year\":\"1959\",\"period\":\"M06\",\"periodName\":\"June\",\"value\":\"29.11\",\"footnotes\":[{}]},{\"year\":\"1959\",\"period\":\"M05\",\"periodName\":\"May\",\"value\":\"29.04\",\"footnotes\":[{}]},{\"year\":\"1959\",\"period\":\"M04\",\"periodName\":\"April\",\"value\":\"28.98\",\"footnotes\":[{}]},{\"year\":\"1959\",\"period\":\"M03\",\"periodName\":\"March\",\"value\":\"28.97\",\"footnotes\":[{}]},{\"year\":\"1959\",\"period\":\"M02\",\"periodName\":\"February\",\"value\":\"29.00\",\"footnotes\":[{}]},{\"year\":\"1959\",\"period\":\"M01\",\"periodName\":\"January\",\"value\":\"29.01\",\"footnotes\":[{}]},{\"year\":\"1958\",\"period\":\"M12\",\"periodName\":\"December\",\"value\":\"28.97\",\"footnotes\":[{}]},{\"year\":\"1958\",\"period\":\"M11\",\"periodName\":\"November\",\"value\":\"28.95\",\"footnotes\":[{}]},{\"year\":\"1958\",\"period\":\"M10\",\"periodName\":\"October\",\"value\":\"28.91\",\"footnotes\":[{}]},{\"year\":\"1958\",\"period\":\"M09\",\"periodName\":\"September\",\"value\":\"28.91\",\"footnotes\":[{}]},{\"year\":\"1958\",\"period\":\"M08\",\"periodName\":\"August\",\"value\":\"28.94\",\"footnotes\":[{}]},{\"year\":\"1958\",\"period\":\"M07\",\"periodName\":\"July\",\"value\":\"28.89\",\"footnotes\":[{}]},{\"year\":\"1958\",\"period\":\"M06\",\"periodName\":\"June\",\"value\":\"28.91\",\"footnotes\":[{}]},{\"year\":\"1958\",\"period\":\"M05\",\"periodName\":\"May\",\"value\":\"28.94\",\"footnotes\":[{}]},{\"year\":\"1958\",\"period\":\"M04\",\"periodName\":\"April\",\"value\":\"28.94\",\"footnotes\":[{}]},{\"year\":\"1958\",\"period\":\"M03\",\"periodName\":\"March\",\"value\":\"28.87\",\"footnotes\":[{}]},{\"year\":\"1958\",\"period\":\"M02\",\"periodName\":\"February\",\"value\":\"28.70\",\"footnotes\":[{}]},{\"year\":\"1958\",\"period\":\"M01\",\"periodName\":\"January\",\"value\":\"28.64\",\"footnotes\":[{}]},{\"year\":\"1957\",\"period\":\"M12\",\"periodName\":\"December\",\"value\":\"28.47\",\"footnotes\":[{}]},{\"year\":\"1957\",\"period\":\"M11\",\"periodName\":\"November\",\"value\":\"28.41\",\"footnotes\":[{}]},{\"year\":\"1957\",\"period\":\"M10\",\"periodName\":\"October\",\"value\":\"28.32\",\"footnotes\":[{}]},{\"year\":\"1957\",\"period\":\"M09\",\"periodName\":\"September\",\"value\":\"28.32\",\"footnotes\":[{}]},{\"year\":\"1957\",\"period\":\"M08\",\"periodName\":\"August\",\"value\":\"28.28\",\"footnotes\":[{}]},{\"year\":\"1957\",\"period\":\"M07\",\"periodName\":\"July\",\"value\":\"28.19\",\"footnotes\":[{}]},{\"year\":\"1957\",\"period\":\"M06\",\"periodName\":\"June\",\"value\":\"28.11\",\"footnotes\":[{}]},{\"year\":\"1957\",\"period\":\"M05\",\"periodName\":\"May\",\"value\":\"28.00\",\"footnotes\":[{}]},{\"year\":\"1957\",\"period\":\"M04\",\"periodName\":\"April\",\"value\":\"27.93\",\"footnotes\":[{}]},{\"year\":\"1957\",\"period\":\"M03\",\"periodName\":\"March\",\"value\":\"27.86\",\"footnotes\":[{}]},{\"year\":\"1957\",\"period\":\"M02\",\"periodName\":\"February\",\"value\":\"27.80\",\"footnotes\":[{}]},{\"year\":\"1957\",\"period\":\"M01\",\"periodName\":\"January\",\"value\":\"27.67\",\"footnotes\":[{}]}]}]\n}}\n2\n3\n1967\n1977\n{\"seriesid\": [\"CUSR0000SA0\", \"CUSR0000SA0\"], \"startyear\": \"1967\", \"endyear\": \"1977\"}\n{\"status\":\"REQUEST_SUCCEEDED\",\"responseTime\":193,\"message\":[\"Year range has been reduced to the system-allowed limit of 10 years.\"],\"Results\":{\n\"series\":\n[{\"seriesID\":\"CUSR0000SA0\",\"data\":[{\"year\":\"1976\",\"period\":\"M12\",\"periodName\":\"December\",\"value\":\"58.40\",\"footnotes\":[{}]},{\"year\":\"1976\",\"period\":\"M11\",\"periodName\":\"November\",\"value\":\"58.10\",\"footnotes\":[{}]},{\"year\":\"1976\",\"period\":\"M10\",\"periodName\":\"October\",\"value\":\"57.90\",\"footnotes\":[{}]},{\"year\":\"1976\",\"period\":\"M09\",\"periodName\":\"September\",\"value\":\"57.60\",\"footnotes\":[{}]},{\"year\":\"1976\",\"period\":\"M08\",\"periodName\":\"August\",\"value\":\"57.30\",\"footnotes\":[{}]},{\"year\":\"1976\",\"period\":\"M07\",\"periodName\":\"July\",\"value\":\"57.00\",\"footnotes\":[{}]},{\"year\":\"1976\",\"period\":\"M06\",\"periodName\":\"June\",\"value\":\"56.70\",\"footnotes\":[{}]},{\"year\":\"1976\",\"period\":\"M05\",\"periodName\":\"May\",\"value\":\"56.40\",\"footnotes\":[{}]},{\"year\":\"1976\",\"period\":\"M04\",\"periodName\":\"April\",\"value\":\"56.10\",\"footnotes\":[{}]},{\"year\":\"1976\",\"period\":\"M03\",\"periodName\":\"March\",\"value\":\"56.00\",\"footnotes\":[{}]},{\"year\":\"1976\",\"period\":\"M02\",\"periodName\":\"February\",\"value\":\"55.90\",\"footnotes\":[{}]},{\"year\":\"1976\",\"period\":\"M01\",\"periodName\":\"January\",\"value\":\"55.80\",\"footnotes\":[{}]},{\"year\":\"1975\",\"period\":\"M12\",\"periodName\":\"December\",\"value\":\"55.60\",\"footnotes\":[{}]},{\"year\":\"1975\",\"period\":\"M11\",\"periodName\":\"November\",\"value\":\"55.30\",\"footnotes\":[{}]},{\"year\":\"1975\",\"period\":\"M10\",\"periodName\":\"October\",\"value\":\"54.90\",\"footnotes\":[{}]},{\"year\":\"1975\",\"period\":\"M09\",\"periodName\":\"September\",\"value\":\"54.60\",\"footnotes\":[{}]},{\"year\":\"1975\",\"period\":\"M08\",\"periodName\":\"August\",\"value\":\"54.20\",\"footnotes\":[{}]},{\"year\":\"1975\",\"period\":\"M07\",\"periodName\":\"July\",\"value\":\"54.00\",\"footnotes\":[{}]},{\"year\":\"1975\",\"period\":\"M06\",\"periodName\":\"June\",\"value\":\"53.50\",\"footnotes\":[{}]},{\"year\":\"1975\",\"period\":\"M05\",\"periodName\":\"May\",\"value\":\"53.10\",\"footnotes\":[{}]},{\"year\":\"1975\",\"period\":\"M04\",\"periodName\":\"April\",\"value\":\"53.00\",\"footnotes\":[{}]},{\"year\":\"1975\",\"period\":\"M03\",\"periodName\":\"March\",\"value\":\"52.80\",\"footnotes\":[{}]},{\"year\":\"1975\",\"period\":\"M02\",\"periodName\":\"February\",\"value\":\"52.60\",\"footnotes\":[{}]},{\"year\":\"1975\",\"period\":\"M01\",\"periodName\":\"January\",\"value\":\"52.30\",\"footnotes\":[{}]},{\"year\":\"1974\",\"period\":\"M12\",\"periodName\":\"December\",\"value\":\"51.90\",\"footnotes\":[{}]},{\"year\":\"1974\",\"period\":\"M11\",\"periodName\":\"November\",\"value\":\"51.50\",\"footnotes\":[{}]},{\"year\":\"1974\",\"period\":\"M10\",\"periodName\":\"October\",\"value\":\"51.00\",\"footnotes\":[{}]},{\"year\":\"1974\",\"period\":\"M09\",\"periodName\":\"September\",\"value\":\"50.60\",\"footnotes\":[{}]},{\"year\":\"1974\",\"period\":\"M08\",\"periodName\":\"August\",\"value\":\"49.90\",\"footnotes\":[{}]},{\"year\":\"1974\",\"period\":\"M07\",\"periodName\":\"July\",\"value\":\"49.30\",\"footnotes\":[{}]},{\"year\":\"1974\",\"period\":\"M06\",\"periodName\":\"June\",\"value\":\"49.00\",\"footnotes\":[{}]},{\"year\":\"1974\",\"period\":\"M05\",\"periodName\":\"May\",\"value\":\"48.60\",\"footnotes\":[{}]},{\"year\":\"1974\",\"period\":\"M04\",\"periodName\":\"April\",\"value\":\"48.10\",\"footnotes\":[{}]},{\"year\":\"1974\",\"period\":\"M03\",\"periodName\":\"March\",\"value\":\"47.80\",\"footnotes\":[{}]},{\"year\":\"1974\",\"period\":\"M02\",\"periodName\":\"February\",\"value\":\"47.30\",\"footnotes\":[{}]},{\"year\":\"1974\",\"period\":\"M01\",\"periodName\":\"January\",\"value\":\"46.80\",\"footnotes\":[{}]},{\"year\":\"1973\",\"period\":\"M12\",\"periodName\":\"December\",\"value\":\"46.30\",\"footnotes\":[{}]},{\"year\":\"1973\",\"period\":\"M11\",\"periodName\":\"November\",\"value\":\"45.90\",\"footnotes\":[{}]},{\"year\":\"1973\",\"period\":\"M10\",\"periodName\":\"October\",\"value\":\"45.60\",\"footnotes\":[{}]},{\"year\":\"1973\",\"period\":\"M09\",\"periodName\":\"September\",\"value\":\"45.20\",\"footnotes\n\n*** WARNING: max output size exceeded, skipping output. ***\n\n,\"value\":\"182.6\",\"footnotes\":[{}]},{\"year\":\"2002\",\"period\":\"M12\",\"periodName\":\"December\",\"value\":\"181.8\",\"footnotes\":[{}]},{\"year\":\"2002\",\"period\":\"M11\",\"periodName\":\"November\",\"value\":\"181.5\",\"footnotes\":[{}]},{\"year\":\"2002\",\"period\":\"M10\",\"periodName\":\"October\",\"value\":\"181.2\",\"footnotes\":[{}]},{\"year\":\"2002\",\"period\":\"M09\",\"periodName\":\"September\",\"value\":\"180.8\",\"footnotes\":[{}]},{\"year\":\"2002\",\"period\":\"M08\",\"periodName\":\"August\",\"value\":\"180.5\",\"footnotes\":[{}]},{\"year\":\"2002\",\"period\":\"M07\",\"periodName\":\"July\",\"value\":\"180.0\",\"footnotes\":[{}]},{\"year\":\"2002\",\"period\":\"M06\",\"periodName\":\"June\",\"value\":\"179.6\",\"footnotes\":[{}]},{\"year\":\"2002\",\"period\":\"M05\",\"periodName\":\"May\",\"value\":\"179.5\",\"footnotes\":[{}]},{\"year\":\"2002\",\"period\":\"M04\",\"periodName\":\"April\",\"value\":\"179.3\",\"footnotes\":[{}]},{\"year\":\"2002\",\"period\":\"M03\",\"periodName\":\"March\",\"value\":\"178.5\",\"footnotes\":[{}]},{\"year\":\"2002\",\"period\":\"M02\",\"periodName\":\"February\",\"value\":\"178.0\",\"footnotes\":[{}]},{\"year\":\"2002\",\"period\":\"M01\",\"periodName\":\"January\",\"value\":\"177.7\",\"footnotes\":[{}]},{\"year\":\"2001\",\"period\":\"M12\",\"periodName\":\"December\",\"value\":\"177.40\",\"footnotes\":[{}]},{\"year\":\"2001\",\"period\":\"M11\",\"periodName\":\"November\",\"value\":\"177.50\",\"footnotes\":[{}]},{\"year\":\"2001\",\"period\":\"M10\",\"periodName\":\"October\",\"value\":\"177.60\",\"footnotes\":[{}]},{\"year\":\"2001\",\"period\":\"M09\",\"periodName\":\"September\",\"value\":\"178.10\",\"footnotes\":[{}]},{\"year\":\"2001\",\"period\":\"M08\",\"periodName\":\"August\",\"value\":\"177.40\",\"footnotes\":[{}]},{\"year\":\"2001\",\"period\":\"M07\",\"periodName\":\"July\",\"value\":\"177.40\",\"footnotes\":[{}]},{\"year\":\"2001\",\"period\":\"M06\",\"periodName\":\"June\",\"value\":\"177.70\",\"footnotes\":[{}]},{\"year\":\"2001\",\"period\":\"M05\",\"periodName\":\"May\",\"value\":\"177.30\",\"footnotes\":[{}]},{\"year\":\"2001\",\"period\":\"M04\",\"periodName\":\"April\",\"value\":\"176.40\",\"footnotes\":[{}]},{\"year\":\"2001\",\"period\":\"M03\",\"periodName\":\"March\",\"value\":\"176.10\",\"footnotes\":[{}]},{\"year\":\"2001\",\"period\":\"M02\",\"periodName\":\"February\",\"value\":\"176.00\",\"footnotes\":[{}]},{\"year\":\"2001\",\"period\":\"M01\",\"periodName\":\"January\",\"value\":\"175.60\",\"footnotes\":[{}]},{\"year\":\"2000\",\"period\":\"M12\",\"periodName\":\"December\",\"value\":\"174.60\",\"footnotes\":[{}]},{\"year\":\"2000\",\"period\":\"M11\",\"periodName\":\"November\",\"value\":\"174.20\",\"footnotes\":[{}]},{\"year\":\"2000\",\"period\":\"M10\",\"periodName\":\"October\",\"value\":\"173.90\",\"footnotes\":[{}]},{\"year\":\"2000\",\"period\":\"M09\",\"periodName\":\"September\",\"value\":\"173.60\",\"footnotes\":[{}]},{\"year\":\"2000\",\"period\":\"M08\",\"periodName\":\"August\",\"value\":\"172.70\",\"footnotes\":[{}]},{\"year\":\"2000\",\"period\":\"M07\",\"periodName\":\"July\",\"value\":\"172.70\",\"footnotes\":[{}]},{\"year\":\"2000\",\"period\":\"M06\",\"periodName\":\"June\",\"value\":\"172.20\",\"footnotes\":[{}]},{\"year\":\"2000\",\"period\":\"M05\",\"periodName\":\"May\",\"value\":\"171.20\",\"footnotes\":[{}]},{\"year\":\"2000\",\"period\":\"M04\",\"periodName\":\"April\",\"value\":\"170.90\",\"footnotes\":[{}]},{\"year\":\"2000\",\"period\":\"M03\",\"periodName\":\"March\",\"value\":\"171.00\",\"footnotes\":[{}]},{\"year\":\"2000\",\"period\":\"M02\",\"periodName\":\"February\",\"value\":\"170.00\",\"footnotes\":[{}]},{\"year\":\"2000\",\"period\":\"M01\",\"periodName\":\"January\",\"value\":\"169.30\",\"footnotes\":[{}]},{\"year\":\"1999\",\"period\":\"M12\",\"periodName\":\"December\",\"value\":\"168.80\",\"footnotes\":[{}]},{\"year\":\"1999\",\"period\":\"M11\",\"periodName\":\"November\",\"value\":\"168.40\",\"footnotes\":[{}]},{\"year\":\"1999\",\"period\":\"M10\",\"periodName\":\"October\",\"value\":\"168.10\",\"footnotes\":[{}]},{\"year\":\"1999\",\"period\":\"M09\",\"periodName\":\"September\",\"value\":\"167.80\",\"footnotes\":[{}]},{\"year\":\"1999\",\"period\":\"M08\",\"periodName\":\"August\",\"value\":\"167.10\",\"footnotes\":[{}]},{\"year\":\"1999\",\"period\":\"M07\",\"periodName\":\"July\",\"value\":\"166.70\",\"footnotes\":[{}]},{\"year\":\"1999\",\"period\":\"M06\",\"periodName\":\"June\",\"value\":\"166.00\",\"footnotes\":[{}]},{\"year\":\"1999\",\"period\":\"M05\",\"periodName\":\"May\",\"value\":\"166.00\",\"footnotes\":[{}]},{\"year\":\"1999\",\"period\":\"M04\",\"periodName\":\"April\",\"value\":\"165.90\",\"footnotes\":[{}]},{\"year\":\"1999\",\"period\":\"M03\",\"periodName\":\"March\",\"value\":\"164.80\",\"footnotes\":[{}]},{\"year\":\"1999\",\"period\":\"M02\",\"periodName\":\"February\",\"value\":\"164.70\",\"footnotes\":[{}]},{\"year\":\"1999\",\"period\":\"M01\",\"periodName\":\"January\",\"value\":\"164.70\",\"footnotes\":[{}]},{\"year\":\"1998\",\"period\":\"M12\",\"periodName\":\"December\",\"value\":\"164.40\",\"footnotes\":[{}]},{\"year\":\"1998\",\"period\":\"M11\",\"periodName\":\"November\",\"value\":\"164.10\",\"footnotes\":[{}]},{\"year\":\"1998\",\"period\":\"M10\",\"periodName\":\"October\",\"value\":\"163.90\",\"footnotes\":[{}]},{\"year\":\"1998\",\"period\":\"M09\",\"periodName\":\"September\",\"value\":\"163.50\",\"footnotes\":[{}]},{\"year\":\"1998\",\"period\":\"M08\",\"periodName\":\"August\",\"value\":\"163.40\",\"footnotes\":[{}]},{\"year\":\"1998\",\"period\":\"M07\",\"periodName\":\"July\",\"value\":\"163.20\",\"footnotes\":[{}]},{\"year\":\"1998\",\"period\":\"M06\",\"periodName\":\"June\",\"value\":\"162.80\",\"footnotes\":[{}]},{\"year\":\"1998\",\"period\":\"M05\",\"periodName\":\"May\",\"value\":\"162.60\",\"footnotes\":[{}]},{\"year\":\"1998\",\"period\":\"M04\",\"periodName\":\"April\",\"value\":\"162.20\",\"footnotes\":[{}]},{\"year\":\"1998\",\"period\":\"M03\",\"periodName\":\"March\",\"value\":\"162.00\",\"footnotes\":[{}]},{\"year\":\"1998\",\"period\":\"M02\",\"periodName\":\"February\",\"value\":\"162.00\",\"footnotes\":[{}]},{\"year\":\"1998\",\"period\":\"M01\",\"periodName\":\"January\",\"value\":\"162.00\",\"footnotes\":[{}]},{\"year\":\"1997\",\"period\":\"M12\",\"periodName\":\"December\",\"value\":\"161.80\",\"footnotes\":[{}]},{\"year\":\"1997\",\"period\":\"M11\",\"periodName\":\"November\",\"value\":\"161.70\",\"footnotes\":[{}]},{\"year\":\"1997\",\"period\":\"M10\",\"periodName\":\"October\",\"value\":\"161.50\",\"footnotes\":[{}]},{\"year\":\"1997\",\"period\":\"M09\",\"periodName\":\"September\",\"value\":\"161.20\",\"footnotes\":[{}]},{\"year\":\"1997\",\"period\":\"M08\",\"periodName\":\"August\",\"value\":\"160.80\",\"footnotes\":[{}]},{\"year\":\"1997\",\"period\":\"M07\",\"periodName\":\"July\",\"value\":\"160.40\",\"footnotes\":[{}]},{\"year\":\"1997\",\"period\":\"M06\",\"periodName\":\"June\",\"value\":\"160.20\",\"footnotes\":[{}]},{\"year\":\"1997\",\"period\":\"M05\",\"periodName\":\"May\",\"value\":\"159.90\",\"footnotes\":[{}]},{\"year\":\"1997\",\"period\":\"M04\",\"periodName\":\"April\",\"value\":\"159.90\",\"footnotes\":[{}]},{\"year\":\"1997\",\"period\":\"M03\",\"periodName\":\"March\",\"value\":\"159.80\",\"footnotes\":[{}]},{\"year\":\"1997\",\"period\":\"M02\",\"periodName\":\"February\",\"value\":\"159.70\",\"footnotes\":[{}]},{\"year\":\"1997\",\"period\":\"M01\",\"periodName\":\"January\",\"value\":\"159.40\",\"footnotes\":[{}]}]}]\n}}\n6\n7\n2007\n2017\n{\"seriesid\": [\"CUSR0000SA0\", \"CUSR0000SA0\"], \"startyear\": \"2007\", \"endyear\": \"2017\"}\n{\"status\":\"REQUEST_SUCCEEDED\",\"responseTime\":201,\"message\":[\"Year range has been reduced to the system-allowed limit of 10 years.\"],\"Results\":{\n\"series\":\n[{\"seriesID\":\"CUSR0000SA0\",\"data\":[{\"year\":\"2016\",\"period\":\"M12\",\"periodName\":\"December\",\"value\":\"242.637\",\"footnotes\":[{}]},{\"year\":\"2016\",\"period\":\"M11\",\"periodName\":\"November\",\"value\":\"242.026\",\"footnotes\":[{}]},{\"year\":\"2016\",\"period\":\"M10\",\"periodName\":\"October\",\"value\":\"241.741\",\"footnotes\":[{}]},{\"year\":\"2016\",\"period\":\"M09\",\"periodName\":\"September\",\"value\":\"241.176\",\"footnotes\":[{}]},{\"year\":\"2016\",\"period\":\"M08\",\"periodName\":\"August\",\"value\":\"240.545\",\"footnotes\":[{}]},{\"year\":\"2016\",\"period\":\"M07\",\"periodName\":\"July\",\"value\":\"240.101\",\"footnotes\":[{}]},{\"year\":\"2016\",\"period\":\"M06\",\"periodName\":\"June\",\"value\":\"240.222\",\"footnotes\":[{}]},{\"year\":\"2016\",\"period\":\"M05\",\"periodName\":\"May\",\"value\":\"239.557\",\"footnotes\":[{}]},{\"year\":\"2016\",\"period\":\"M04\",\"periodName\":\"April\",\"value\":\"238.992\",\"footnotes\":[{}]},{\"year\":\"2016\",\"period\":\"M03\",\"periodName\":\"March\",\"value\":\"238.080\",\"footnotes\":[{}]},{\"year\":\"2016\",\"period\":\"M02\",\"periodName\":\"February\",\"value\":\"237.336\",\"footnotes\":[{}]},{\"year\":\"2016\",\"period\":\"M01\",\"periodName\":\"January\",\"value\":\"237.652\",\"footnotes\":[{}]},{\"year\":\"2015\",\"period\":\"M12\",\"periodName\":\"December\",\"value\":\"237.761\",\"footnotes\":[{}]},{\"year\":\"2015\",\"period\":\"M11\",\"periodName\":\"November\",\"value\":\"238.017\",\"footnotes\":[{}]},{\"year\":\"2015\",\"period\":\"M10\",\"periodName\":\"October\",\"value\":\"237.733\",\"footnotes\":[{}]},{\"year\":\"2015\",\"period\":\"M09\",\"periodName\":\"September\",\"value\":\"237.498\",\"footnotes\":[{}]},{\"year\":\"2015\",\"period\":\"M08\",\"periodName\":\"August\",\"value\":\"238.033\",\"footnotes\":[{}]},{\"year\":\"2015\",\"period\":\"M07\",\"periodName\":\"July\",\"value\":\"238.034\",\"footnotes\":[{}]},{\"year\":\"2015\",\"period\":\"M06\",\"periodName\":\"June\",\"value\":\"237.657\",\"footnotes\":[{}]},{\"year\":\"2015\",\"period\":\"M05\",\"periodName\":\"May\",\"value\":\"237.001\",\"footnotes\":[{}]},{\"year\":\"2015\",\"period\":\"M04\",\"periodName\":\"April\",\"value\":\"236.222\",\"footnotes\":[{}]},{\"year\":\"2015\",\"period\":\"M03\",\"periodName\":\"March\",\"value\":\"235.976\",\"footnotes\":[{}]},{\"year\":\"2015\",\"period\":\"M02\",\"periodName\":\"February\",\"value\":\"235.342\",\"footnotes\":[{}]},{\"year\":\"2015\",\"period\":\"M01\",\"periodName\":\"January\",\"value\":\"234.747\",\"footnotes\":[{}]},{\"year\":\"2014\",\"period\":\"M12\",\"periodName\":\"December\",\"value\":\"236.252\",\"footnotes\":[{}]},{\"year\":\"2014\",\"period\":\"M11\",\"periodName\":\"November\",\"value\":\"236.983\",\"footnotes\":[{}]},{\"year\":\"2014\",\"period\":\"M10\",\"periodName\":\"October\",\"value\":\"237.430\",\"footnotes\":[{}]},{\"year\":\"2014\",\"period\":\"M09\",\"periodName\":\"September\",\"value\":\"237.477\",\"footnotes\":[{}]},{\"year\":\"2014\",\"period\":\"M08\",\"periodName\":\"August\",\"value\":\"237.460\",\"footnotes\":[{}]},{\"year\":\"2014\",\"period\":\"M07\",\"periodName\":\"July\",\"value\":\"237.498\",\"footnotes\":[{}]},{\"year\":\"2014\",\"period\":\"M06\",\"periodName\":\"June\",\"value\":\"237.231\",\"footnotes\":[{}]},{\"year\":\"2014\",\"period\":\"M05\",\"periodName\":\"May\",\"value\":\"236.918\",\"footnotes\":[{}]},{\"year\":\"2014\",\"period\":\"M04\",\"periodName\":\"April\",\"value\":\"236.468\",\"footnotes\":[{}]},{\"year\":\"2014\",\"period\":\"M03\",\"periodName\":\"March\",\"value\":\"236.028\",\"footnotes\":[{}]},{\"year\":\"2014\",\"period\":\"M02\",\"periodName\":\"February\",\"value\":\"235.547\",\"footnotes\":[{}]},{\"year\":\"2014\",\"period\":\"M01\",\"periodName\":\"January\",\"value\":\"235.288\",\"footnotes\":[{}]},{\"year\":\"2013\",\"period\":\"M12\",\"periodName\":\"December\",\"value\":\"234.719\",\"footnotes\":[{}]},{\"year\":\"2013\",\"period\":\"M11\",\"periodName\":\"November\",\"value\":\"234.100\",\"footnotes\":[{}]},{\"year\":\"2013\",\"period\":\"M10\",\"periodName\":\"October\",\"value\":\"233.669\",\"footnotes\":[{}]},{\"year\":\"2013\",\"period\":\"M09\",\"periodName\":\"September\",\"value\":\"233.544\",\"footnotes\":[{}]},{\"year\":\"2013\",\"period\":\"M08\",\"periodName\":\"August\",\"value\":\"233.456\",\"footnotes\":[{}]},{\"year\":\"2013\",\"period\":\"M07\",\"periodName\":\"July\",\"value\":\"232.900\",\"footnotes\":[{}]},{\"year\":\"2013\",\"period\":\"M06\",\"periodName\":\"June\",\"value\":\"232.445\",\"footnotes\":[{}]},{\"year\":\"2013\",\"period\":\"M05\",\"periodName\":\"May\",\"value\":\"231.893\",\"footnotes\":[{}]},{\"year\":\"2013\",\"period\":\"M04\",\"periodName\":\"April\",\"value\":\"231.797\",\"footnotes\":[{}]},{\"year\":\"2013\",\"period\":\"M03\",\"periodName\":\"March\",\"value\":\"232.282\",\"footnotes\":[{}]},{\"year\":\"2013\",\"period\":\"M02\",\"periodName\":\"February\",\"value\":\"232.937\",\"footnotes\":[{}]},{\"year\":\"2013\",\"period\":\"M01\",\"periodName\":\"January\",\"value\":\"231.679\",\"footnotes\":[{}]},{\"year\":\"2012\",\"period\":\"M12\",\"periodName\":\"December\",\"value\":\"231.221\",\"footnotes\":[{}]},{\"year\":\"2012\",\"period\":\"M11\",\"periodName\":\"November\",\"value\":\"231.249\",\"footnotes\":[{}]},{\"year\":\"2012\",\"period\":\"M10\",\"periodName\":\"October\",\"value\":\"231.638\",\"footnotes\":[{}]},{\"year\":\"2012\",\"period\":\"M09\",\"periodName\":\"September\",\"value\":\"231.015\",\"footnotes\":[{}]},{\"year\":\"2012\",\"period\":\"M08\",\"periodName\":\"August\",\"value\":\"229.918\",\"footnotes\":[{}]},{\"year\":\"2012\",\"period\":\"M07\",\"periodName\":\"July\",\"value\":\"228.590\",\"footnotes\":[{}]},{\"year\":\"2012\",\"period\":\"M06\",\"periodName\":\"June\",\"value\":\"228.524\",\"footnotes\":[{}]},{\"year\":\"2012\",\"period\":\"M05\",\"periodName\":\"May\",\"value\":\"228.713\",\"footnotes\":[{}]},{\"year\":\"2012\",\"period\":\"M04\",\"periodName\":\"April\",\"value\":\"229.187\",\"footnotes\":[{}]},{\"year\":\"2012\",\"period\":\"M03\",\"periodName\":\"March\",\"value\":\"228.807\",\"footnotes\":[{}]},{\"year\":\"2012\",\"period\":\"M02\",\"periodName\":\"February\",\"value\":\"228.329\",\"footnotes\":[{}]},{\"year\":\"2012\",\"period\":\"M01\",\"periodName\":\"January\",\"value\":\"227.842\",\"footnotes\":[{}]},{\"year\":\"2011\",\"period\":\"M12\",\"periodName\":\"December\",\"value\":\"227.223\",\"footnotes\":[{}]},{\"year\":\"2011\",\"period\":\"M11\",\"periodName\":\"November\",\"value\":\"227.169\",\"footnotes\":[{}]},{\"year\":\"2011\",\"period\":\"M10\",\"periodName\":\"October\",\"value\":\"226.750\",\"footnotes\":[{}]},{\"year\":\"2011\",\"period\":\"M09\",\"periodName\":\"September\",\"value\":\"226.597\",\"footnotes\":[{}]},{\"year\":\"2011\",\"period\":\"M08\",\"periodName\":\"August\",\"value\":\"226.106\",\"footnotes\":[{}]},{\"year\":\"2011\",\"period\":\"M07\",\"periodName\":\"July\",\"value\":\"225.395\",\"footnotes\":[{}]},{\"year\":\"2011\",\"period\":\"M06\",\"periodName\":\"June\",\"value\":\"224.806\",\"footnotes\":[{}]},{\"year\":\"2011\",\"period\":\"M05\",\"periodName\":\"May\",\"value\":\"224.806\",\"footnotes\":[{}]},{\"year\":\"2011\",\"period\":\"M04\",\"periodName\":\"April\",\"value\":\"224.093\",\"footnotes\":[{}]},{\"year\":\"2011\",\"period\":\"M03\",\"periodName\":\"March\",\"value\":\"223.046\",\"footnotes\":[{}]},{\"year\":\"2011\",\"period\":\"M02\",\"periodName\":\"February\",\"value\":\"221.898\",\"footnotes\":[{}]},{\"year\":\"2011\",\"period\":\"M01\",\"periodName\":\"January\",\"value\":\"221.187\",\"footnotes\":[{}]},{\"year\":\"2010\",\"period\":\"M12\",\"periodName\":\"December\",\"value\":\"220.472\",\"footnotes\":[{}]},{\"year\":\"2010\",\"period\":\"M11\",\"periodName\":\"November\",\"value\":\"219.590\",\"footnotes\":[{}]},{\"year\":\"2010\",\"period\":\"M10\",\"periodName\":\"October\",\"value\":\"219.035\",\"footnotes\":[{}]},{\"year\":\"2010\",\"period\":\"M09\",\"periodName\":\"September\",\"value\":\"218.275\",\"footnotes\":[{}]},{\"year\":\"2010\",\"period\":\"M08\",\"periodName\":\"August\",\"value\":\"217.923\",\"footnotes\":[{}]},{\"year\":\"2010\",\"period\":\"M07\",\"periodName\":\"July\",\"value\":\"217.605\",\"footnotes\":[{}]},{\"year\":\"2010\",\"period\":\"M06\",\"periodName\":\"June\",\"value\":\"217.199\",\"footnotes\":[{}]},{\"year\":\"2010\",\"period\":\"M05\",\"periodName\":\"May\",\"value\":\"217.290\",\"footnotes\":[{}]},{\"year\":\"2010\",\"period\":\"M04\",\"periodName\":\"April\",\"value\":\"217.403\",\"footnotes\":[{}]},{\"year\":\"2010\",\"period\":\"M03\",\"periodName\":\"March\",\"value\":\"217.353\",\"footnotes\":[{}]},{\"year\":\"2010\",\"period\":\"M02\",\"periodName\":\"February\",\"value\":\"217.281\",\"footnotes\":[{}]},{\"year\":\"2010\",\"period\":\"M01\",\"periodName\":\"January\",\"value\":\"217.488\",\"footnotes\":[{}]},{\"year\":\"2009\",\"period\":\"M12\",\"periodName\":\"December\",\"value\":\"217.347\",\"footnotes\":[{}]},{\"year\":\"2009\",\"period\":\"M11\",\"periodName\":\"November\",\"value\":\"217.234\",\"footnotes\":[{}]},{\"year\":\"2009\",\"period\":\"M10\",\"periodName\":\"October\",\"value\":\"216.509\",\"footnotes\":[{}]},{\"year\":\"2009\",\"period\":\"M09\",\"periodName\":\"September\",\"value\":\"215.861\",\"footnotes\":[{}]},{\"year\":\"2009\",\"period\":\"M08\",\"periodName\":\"August\",\"value\":\"215.445\",\"footnotes\":[{}]},{\"year\":\"2009\",\"period\":\"M07\",\"periodName\":\"July\",\"value\":\"214.726\",\"footnotes\":[{}]},{\"year\":\"2009\",\"period\":\"M06\",\"periodName\":\"June\",\"value\":\"214.790\",\"footnotes\":[{}]},{\"year\":\"2009\",\"period\":\"M05\",\"periodName\":\"May\",\"value\":\"213.022\",\"footnotes\":[{}]},{\"year\":\"2009\",\"period\":\"M04\",\"periodName\":\"April\",\"value\":\"212.709\",\"footnotes\":[{}]},{\"year\":\"2009\",\"period\":\"M03\",\"periodName\":\"March\",\"value\":\"212.495\",\"footnotes\":[{}]},{\"year\":\"2009\",\"period\":\"M02\",\"periodName\":\"February\",\"value\":\"212.705\",\"footnotes\":[{}]},{\"year\":\"2009\",\"period\":\"M01\",\"periodName\":\"January\",\"value\":\"211.933\",\"footnotes\":[{}]},{\"year\":\"2008\",\"period\":\"M12\",\"periodName\":\"December\",\"value\":\"211.398\",\"footnotes\":[{}]},{\"year\":\"2008\",\"period\":\"M11\",\"periodName\":\"November\",\"value\":\"213.153\",\"footnotes\":[{}]},{\"year\":\"2008\",\"period\":\"M10\",\"periodName\":\"October\",\"value\":\"216.995\",\"footnotes\":[{}]},{\"year\":\"2008\",\"period\":\"M09\",\"periodName\":\"September\",\"value\":\"218.877\",\"footnotes\":[{}]},{\"year\":\"2008\",\"period\":\"M08\",\"periodName\":\"August\",\"value\":\"218.690\",\"footnotes\":[{}]},{\"year\":\"2008\",\"period\":\"M07\",\"periodName\":\"July\",\"value\":\"219.016\",\"footnotes\":[{}]},{\"year\":\"2008\",\"period\":\"M06\",\"periodName\":\"June\",\"value\":\"217.463\",\"footnotes\":[{}]},{\"year\":\"2008\",\"period\":\"M05\",\"periodName\":\"May\",\"value\":\"215.208\",\"footnotes\":[{}]},{\"year\":\"2008\",\"period\":\"M04\",\"periodName\":\"April\",\"value\":\"213.942\",\"footnotes\":[{}]},{\"year\":\"2008\",\"period\":\"M03\",\"periodName\":\"March\",\"value\":\"213.448\",\"footnotes\":[{}]},{\"year\":\"2008\",\"period\":\"M02\",\"periodName\":\"February\",\"value\":\"212.687\",\"footnotes\":[{}]},{\"year\":\"2008\",\"period\":\"M01\",\"periodName\":\"January\",\"value\":\"212.174\",\"footnotes\":[{}]},{\"year\":\"2007\",\"period\":\"M12\",\"periodName\":\"December\",\"value\":\"211.445\",\"footnotes\":[{}]},{\"year\":\"2007\",\"period\":\"M11\",\"periodName\":\"November\",\"value\":\"210.834\",\"footnotes\":[{}]},{\"year\":\"2007\",\"period\":\"M10\",\"periodName\":\"October\",\"value\":\"209.190\",\"footnotes\":[{}]},{\"year\":\"2007\",\"period\":\"M09\",\"periodName\":\"September\",\"value\":\"208.547\",\"footnotes\":[{}]},{\"year\":\"2007\",\"period\":\"M08\",\"periodName\":\"August\",\"value\":\"207.667\",\"footnotes\":[{}]},{\"year\":\"2007\",\"period\":\"M07\",\"periodName\":\"July\",\"value\":\"207.603\",\"footnotes\":[{}]},{\"year\":\"2007\",\"period\":\"M06\",\"periodName\":\"June\",\"value\":\"207.234\",\"footnotes\":[{}]},{\"year\":\"2007\",\"period\":\"M05\",\"periodName\":\"May\",\"value\":\"206.755\",\"footnotes\":[{}]},{\"year\":\"2007\",\"period\":\"M04\",\"periodName\":\"April\",\"value\":\"205.904\",\"footnotes\":[{}]},{\"year\":\"2007\",\"period\":\"M03\",\"periodName\":\"March\",\"value\":\"205.288\",\"footnotes\":[{}]},{\"year\":\"2007\",\"period\":\"M02\",\"periodName\":\"February\",\"value\":\"204.226\",\"footnotes\":[{}]},{\"year\":\"2007\",\"period\":\"M01\",\"periodName\":\"January\",\"value\":\"203.437\",\"footnotes\":[{}]}]}]\n}}\n7\n8\n2017\n2027\n{\"seriesid\": [\"CUSR0000SA0\", \"CUSR0000SA0\"], \"startyear\": \"2017\", \"endyear\": \"2027\"}\n{\"status\":\"REQUEST_SUCCEEDED\",\"responseTime\":204,\"message\":[\"Year range has been reduced to the system-allowed limit of 10 years.\",\"No Data Available for Series CUSR0000SA0 Year: 2024\",\"No Data Available for Series CUSR0000SA0 Year: 2025\",\"No Data Available for Series CUSR0000SA0 Year: 2026\"],\"Results\":{\n\"series\":\n[{\"seriesID\":\"CUSR0000SA0\",\"data\":[{\"year\":\"2023\",\"period\":\"M11\",\"periodName\":\"November\",\"latest\":\"true\",\"value\":\"307.917\",\"footnotes\":[{}]},{\"year\":\"2023\",\"period\":\"M10\",\"periodName\":\"October\",\"value\":\"307.619\",\"footnotes\":[{}]},{\"year\":\"2023\",\"period\":\"M09\",\"periodName\":\"September\",\"value\":\"307.481\",\"footnotes\":[{}]},{\"year\":\"2023\",\"period\":\"M08\",\"periodName\":\"August\",\"value\":\"306.269\",\"footnotes\":[{}]},{\"year\":\"2023\",\"period\":\"M07\",\"periodName\":\"July\",\"value\":\"304.348\",\"footnotes\":[{}]},{\"year\":\"2023\",\"period\":\"M06\",\"periodName\":\"June\",\"value\":\"303.841\",\"footnotes\":[{}]},{\"year\":\"2023\",\"period\":\"M05\",\"periodName\":\"May\",\"value\":\"303.294\",\"footnotes\":[{}]},{\"year\":\"2023\",\"period\":\"M04\",\"periodName\":\"April\",\"value\":\"302.918\",\"footnotes\":[{}]},{\"year\":\"2023\",\"period\":\"M03\",\"periodName\":\"March\",\"value\":\"301.808\",\"footnotes\":[{}]},{\"year\":\"2023\",\"period\":\"M02\",\"periodName\":\"February\",\"value\":\"301.648\",\"footnotes\":[{}]},{\"year\":\"2023\",\"period\":\"M01\",\"periodName\":\"January\",\"value\":\"300.536\",\"footnotes\":[{}]},{\"year\":\"2022\",\"period\":\"M12\",\"periodName\":\"December\",\"value\":\"298.990\",\"footnotes\":[{}]},{\"year\":\"2022\",\"period\":\"M11\",\"periodName\":\"November\",\"value\":\"298.598\",\"footnotes\":[{}]},{\"year\":\"2022\",\"period\":\"M10\",\"periodName\":\"October\",\"value\":\"297.987\",\"footnotes\":[{}]},{\"year\":\"2022\",\"period\":\"M09\",\"periodName\":\"September\",\"value\":\"296.539\",\"footnotes\":[{}]},{\"year\":\"2022\",\"period\":\"M08\",\"periodName\":\"August\",\"value\":\"295.320\",\"footnotes\":[{}]},{\"year\":\"2022\",\"period\":\"M07\",\"periodName\":\"July\",\"value\":\"294.628\",\"footnotes\":[{}]},{\"year\":\"2022\",\"period\":\"M06\",\"periodName\":\"June\",\"value\":\"294.728\",\"footnotes\":[{}]},{\"year\":\"2022\",\"period\":\"M05\",\"periodName\":\"May\",\"value\":\"291.268\",\"footnotes\":[{}]},{\"year\":\"2022\",\"period\":\"M04\",\"periodName\":\"April\",\"value\":\"288.611\",\"footnotes\":[{}]},{\"year\":\"2022\",\"period\":\"M03\",\"periodName\":\"March\",\"value\":\"287.472\",\"footnotes\":[{}]},{\"year\":\"2022\",\"period\":\"M02\",\"periodName\":\"February\",\"value\":\"284.610\",\"footnotes\":[{}]},{\"year\":\"2022\",\"period\":\"M01\",\"periodName\":\"January\",\"value\":\"282.599\",\"footnotes\":[{}]},{\"year\":\"2021\",\"period\":\"M12\",\"periodName\":\"December\",\"value\":\"280.887\",\"footnotes\":[{}]},{\"year\":\"2021\",\"period\":\"M11\",\"periodName\":\"November\",\"value\":\"278.711\",\"footnotes\":[{}]},{\"year\":\"2021\",\"period\":\"M10\",\"periodName\":\"October\",\"value\":\"276.522\",\"footnotes\":[{}]},{\"year\":\"2021\",\"period\":\"M09\",\"periodName\":\"September\",\"value\":\"274.028\",\"footnotes\":[{}]},{\"year\":\"2021\",\"period\":\"M08\",\"periodName\":\"August\",\"value\":\"272.870\",\"footnotes\":[{}]},{\"year\":\"2021\",\"period\":\"M07\",\"periodName\":\"July\",\"value\":\"271.764\",\"footnotes\":[{}]},{\"year\":\"2021\",\"period\":\"M06\",\"periodName\":\"June\",\"value\":\"270.559\",\"footnotes\":[{}]},{\"year\":\"2021\",\"period\":\"M05\",\"periodName\":\"May\",\"value\":\"268.444\",\"footnotes\":[{}]},{\"year\":\"2021\",\"period\":\"M04\",\"periodName\":\"April\",\"value\":\"266.670\",\"footnotes\":[{}]},{\"year\":\"2021\",\"period\":\"M03\",\"periodName\":\"March\",\"value\":\"264.914\",\"footnotes\":[{}]},{\"year\":\"2021\",\"period\":\"M02\",\"periodName\":\"February\",\"value\":\"263.638\",\"footnotes\":[{}]},{\"year\":\"2021\",\"period\":\"M01\",\"periodName\":\"January\",\"value\":\"262.650\",\"footnotes\":[{}]},{\"year\":\"2020\",\"period\":\"M12\",\"periodName\":\"December\",\"value\":\"262.035\",\"footnotes\":[{}]},{\"year\":\"2020\",\"period\":\"M11\",\"periodName\":\"November\",\"value\":\"260.813\",\"footnotes\":[{}]},{\"year\":\"2020\",\"period\":\"M10\",\"periodName\":\"October\",\"value\":\"260.286\",\"footnotes\":[{}]},{\"year\":\"2020\",\"period\":\"M09\",\"periodName\":\"September\",\"value\":\"260.029\",\"footnotes\":[{}]},{\"year\":\"2020\",\"period\":\"M08\",\"periodName\":\"August\",\"value\":\"259.411\",\"footnotes\":[{}]},{\"year\":\"2020\",\"period\":\"M07\",\"periodName\":\"July\",\"value\":\"258.278\",\"footnotes\":[{}]},{\"year\":\"2020\",\"period\":\"M06\",\"periodName\":\"June\",\"value\":\"256.986\",\"footnotes\":[{}]},{\"year\":\"2020\",\"period\":\"M05\",\"periodName\":\"May\",\"value\":\"255.868\",\"footnotes\":[{}]},{\"year\":\"2020\",\"period\":\"M04\",\"periodName\":\"April\",\"value\":\"256.092\",\"footnotes\":[{}]},{\"year\":\"2020\",\"period\":\"M03\",\"periodName\":\"March\",\"value\":\"258.124\",\"footnotes\":[{}]},{\"year\":\"2020\",\"period\":\"M02\",\"periodName\":\"February\",\"value\":\"259.248\",\"footnotes\":[{}]},{\"year\":\"2020\",\"period\":\"M01\",\"periodName\":\"January\",\"value\":\"259.037\",\"footnotes\":[{}]},{\"year\":\"2019\",\"period\":\"M12\",\"periodName\":\"December\",\"value\":\"258.616\",\"footnotes\":[{}]},{\"year\":\"2019\",\"period\":\"M11\",\"periodName\":\"November\",\"value\":\"257.803\",\"footnotes\":[{}]},{\"year\":\"2019\",\"period\":\"M10\",\"periodName\":\"October\",\"value\":\"257.244\",\"footnotes\":[{}]},{\"year\":\"2019\",\"period\":\"M09\",\"periodName\":\"September\",\"value\":\"256.511\",\"footnotes\":[{}]},{\"year\":\"2019\",\"period\":\"M08\",\"periodName\":\"August\",\"value\":\"256.059\",\"footnotes\":[{}]},{\"year\":\"2019\",\"period\":\"M07\",\"periodName\":\"July\",\"value\":\"255.685\",\"footnotes\":[{}]},{\"year\":\"2019\",\"period\":\"M06\",\"periodName\":\"June\",\"value\":\"255.159\",\"footnotes\":[{}]},{\"year\":\"2019\",\"period\":\"M05\",\"periodName\":\"May\",\"value\":\"255.290\",\"footnotes\":[{}]},{\"year\":\"2019\",\"period\":\"M04\",\"periodName\":\"April\",\"value\":\"255.211\",\"footnotes\":[{}]},{\"year\":\"2019\",\"period\":\"M03\",\"periodName\":\"March\",\"value\":\"254.202\",\"footnotes\":[{}]},{\"year\":\"2019\",\"period\":\"M02\",\"periodName\":\"February\",\"value\":\"253.322\",\"footnotes\":[{}]},{\"year\":\"2019\",\"period\":\"M01\",\"periodName\":\"January\",\"value\":\"252.718\",\"footnotes\":[{}]},{\"year\":\"2018\",\"period\":\"M12\",\"periodName\":\"December\",\"value\":\"252.767\",\"footnotes\":[{}]},{\"year\":\"2018\",\"period\":\"M11\",\"periodName\":\"November\",\"value\":\"252.594\",\"footnotes\":[{}]},{\"year\":\"2018\",\"period\":\"M10\",\"periodName\":\"October\",\"value\":\"252.772\",\"footnotes\":[{}]},{\"year\":\"2018\",\"period\":\"M09\",\"periodName\":\"September\",\"value\":\"252.182\",\"footnotes\":[{}]},{\"year\":\"2018\",\"period\":\"M08\",\"periodName\":\"August\",\"value\":\"251.663\",\"footnotes\":[{}]},{\"year\":\"2018\",\"period\":\"M07\",\"periodName\":\"July\",\"value\":\"251.214\",\"footnotes\":[{}]},{\"year\":\"2018\",\"period\":\"M06\",\"periodName\":\"June\",\"value\":\"251.018\",\"footnotes\":[{}]},{\"year\":\"2018\",\"period\":\"M05\",\"periodName\":\"May\",\"value\":\"250.792\",\"footnotes\":[{}]},{\"year\":\"2018\",\"period\":\"M04\",\"periodName\":\"April\",\"value\":\"250.227\",\"footnotes\":[{}]},{\"year\":\"2018\",\"period\":\"M03\",\"periodName\":\"March\",\"value\":\"249.577\",\"footnotes\":[{}]},{\"year\":\"2018\",\"period\":\"M02\",\"periodName\":\"February\",\"value\":\"249.529\",\"footnotes\":[{}]},{\"year\":\"2018\",\"period\":\"M01\",\"periodName\":\"January\",\"value\":\"248.859\",\"footnotes\":[{}]},{\"year\":\"2017\",\"period\":\"M12\",\"periodName\":\"December\",\"value\":\"247.805\",\"footnotes\":[{}]},{\"year\":\"2017\",\"period\":\"M11\",\"periodName\":\"November\",\"value\":\"247.284\",\"footnotes\":[{}]},{\"year\":\"2017\",\"period\":\"M10\",\"periodName\":\"October\",\"value\":\"246.626\",\"footnotes\":[{}]},{\"year\":\"2017\",\"period\":\"M09\",\"periodName\":\"September\",\"value\":\"246.435\",\"footnotes\":[{}]},{\"year\":\"2017\",\"period\":\"M08\",\"periodName\":\"August\",\"value\":\"245.183\",\"footnotes\":[{}]},{\"year\":\"2017\",\"period\":\"M07\",\"periodName\":\"July\",\"value\":\"244.243\",\"footnotes\":[{}]},{\"year\":\"2017\",\"period\":\"M06\",\"periodName\":\"June\",\"value\":\"244.163\",\"footnotes\":[{}]},{\"year\":\"2017\",\"period\":\"M05\",\"periodName\":\"May\",\"value\":\"244.004\",\"footnotes\":[{}]},{\"year\":\"2017\",\"period\":\"M04\",\"periodName\":\"April\",\"value\":\"244.193\",\"footnotes\":[{}]},{\"year\":\"2017\",\"period\":\"M03\",\"periodName\":\"March\",\"value\":\"243.892\",\"footnotes\":[{}]},{\"year\":\"2017\",\"period\":\"M02\",\"periodName\":\"February\",\"value\":\"244.006\",\"footnotes\":[{}]},{\"year\":\"2017\",\"period\":\"M01\",\"periodName\":\"January\",\"value\":\"243.618\",\"footnotes\":[{}]}]}]\n}}\n8\nWrote 50446 bytes.\nOut[3]: True"
     ]
    }
   ],
   "source": [
    "headers = {'Content-type': 'application/json'}\n",
    "auth = HTTPBasicAuth('apikey','bf323d2b0dff40a79cf1df469caec067')\n",
    "startyeardate = 1947\n",
    "endyeardate = 1957\n",
    "master_string = \"\"\n",
    "for i in range(0, 8):\n",
    "    i = i+1\n",
    "    print(i)\n",
    "    print(startyeardate)\n",
    "    print(endyeardate)\n",
    "    if startyeardate >= 1947 or endyeardate <= 2023:\n",
    "        data = json.dumps({\"seriesid\": ['CUSR0000SA0', 'CUSR0000SA0'],\"startyear\":str(startyeardate), \"endyear\":str(endyeardate)})\n",
    "        print(data)\n",
    "        p = requests.post('https://api.bls.gov/publicAPI/v1/timeseries/data/', data=data, headers=headers, auth = auth)\n",
    "        print(p.text)\n",
    "        json_data = json.loads(p.text)\n",
    "        startyeardate = startyeardate + 10;\n",
    "        endyeardate = endyeardate + 10;\n",
    "        \n",
    "        #print(os.getcwd())\n",
    "        for series in json_data['Results']['series']:\n",
    "            x=prettytable.PrettyTable([\"series id\",\"year\",\"period\",\"value\",\"footnotes\"])\n",
    "            seriesId = series['seriesID']\n",
    "            for item in series['data']:\n",
    "                year = item['year']\n",
    "                period = item['period']\n",
    "                value = item['value']\n",
    "                footnotes=\"\"\n",
    "                for footnote in item['footnotes']:\n",
    "                    if footnote:\n",
    "                        footnotes = footnotes + footnote['text'] + ','\n",
    "                if 'M01' <= period <= 'M12':\n",
    "                    x.add_row([seriesId,year,period,value,footnotes[0:-1]])\n",
    "            output = open(seriesId + '.txt','w')\n",
    "            #print(seriesId)\n",
    "            output.write (x.get_string())\n",
    "            master_string = master_string + x.get_string()\n",
    "            print(i)\n",
    "            output.close()\n",
    "dbutils.fs.put(\"dbfs:/FileStore/my-stuff/\" + seriesId + str(i) + '.txt', master_string, overwrite=True) #save the all items price into a text file with the series id in its name\n"
   ]
  },
  {
   "cell_type": "markdown",
   "metadata": {
    "application/vnd.databricks.v1+cell": {
     "cellMetadata": {
      "byteLimit": 2048000,
      "rowLimit": 10000
     },
     "inputWidgets": {},
     "nuid": "00a57838-3aef-4a77-a743-5720c788a021",
     "showTitle": false,
     "title": ""
    }
   },
   "source": [
    "#### Source the the compensation data based on the series id using the data tool API provided by US department of Labor. \n",
    "#### LEU0252881500   Weekly and hourly earnings data from the Current Population Survey from\tQ1 1979 to Q3\t2023  https://beta.bls.gov/dataViewer/view/timeseries/LEU0252881500\n"
   ]
  },
  {
   "cell_type": "code",
   "execution_count": 0,
   "metadata": {
    "application/vnd.databricks.v1+cell": {
     "cellMetadata": {
      "byteLimit": 2048000,
      "rowLimit": 10000
     },
     "inputWidgets": {},
     "nuid": "db857126-4ec3-41c5-bd81-ee5b5761113d",
     "showTitle": false,
     "title": ""
    }
   },
   "outputs": [
    {
     "output_type": "stream",
     "name": "stdout",
     "output_type": "stream",
     "text": [
      "1\n1979\n1989\n{\"seriesid\": [\"LEU0252881500\", \"LEU0252881500\"], \"startyear\": \"1979\", \"endyear\": \"1989\"}\n{\"status\":\"REQUEST_SUCCEEDED\",\"responseTime\":329,\"message\":[\"Year range has been reduced to the system-allowed limit of 10 years.\"],\"Results\":{\n\"series\":\n[{\"seriesID\":\"LEU0252881500\",\"data\":[{\"year\":\"1988\",\"period\":\"Q04\",\"periodName\":\"4th Quarter\",\"value\":\"392\",\"footnotes\":[{}]},{\"year\":\"1988\",\"period\":\"Q03\",\"periodName\":\"3rd Quarter\",\"value\":\"381\",\"footnotes\":[{}]},{\"year\":\"1988\",\"period\":\"Q02\",\"periodName\":\"2nd Quarter\",\"value\":\"382\",\"footnotes\":[{}]},{\"year\":\"1988\",\"period\":\"Q01\",\"periodName\":\"1st Quarter\",\"value\":\"385\",\"footnotes\":[{}]},{\"year\":\"1987\",\"period\":\"Q04\",\"periodName\":\"4th Quarter\",\"value\":\"381\",\"footnotes\":[{}]},{\"year\":\"1987\",\"period\":\"Q03\",\"periodName\":\"3rd Quarter\",\"value\":\"371\",\"footnotes\":[{}]},{\"year\":\"1987\",\"period\":\"Q02\",\"periodName\":\"2nd Quarter\",\"value\":\"371\",\"footnotes\":[{}]},{\"year\":\"1987\",\"period\":\"Q01\",\"periodName\":\"1st Quarter\",\"value\":\"369\",\"footnotes\":[{}]},{\"year\":\"1986\",\"period\":\"Q04\",\"periodName\":\"4th Quarter\",\"value\":\"368\",\"footnotes\":[{}]},{\"year\":\"1986\",\"period\":\"Q03\",\"periodName\":\"3rd Quarter\",\"value\":\"354\",\"footnotes\":[{}]},{\"year\":\"1986\",\"period\":\"Q02\",\"periodName\":\"2nd Quarter\",\"value\":\"358\",\"footnotes\":[{}]},{\"year\":\"1986\",\"period\":\"Q01\",\"periodName\":\"1st Quarter\",\"value\":\"354\",\"footnotes\":[{}]},{\"year\":\"1985\",\"period\":\"Q04\",\"periodName\":\"4th Quarter\",\"value\":\"351\",\"footnotes\":[{}]},{\"year\":\"1985\",\"period\":\"Q03\",\"periodName\":\"3rd Quarter\",\"value\":\"340\",\"footnotes\":[{}]},{\"year\":\"1985\",\"period\":\"Q02\",\"periodName\":\"2nd Quarter\",\"value\":\"347\",\"footnotes\":[{}]},{\"year\":\"1985\",\"period\":\"Q01\",\"periodName\":\"1st Quarter\",\"value\":\"336\",\"footnotes\":[{}]},{\"year\":\"1984\",\"period\":\"Q04\",\"periodName\":\"4th Quarter\",\"value\":\"335\",\"footnotes\":[{}]},{\"year\":\"1984\",\"period\":\"Q03\",\"periodName\":\"3rd Quarter\",\"value\":\"322\",\"footnotes\":[{}]},{\"year\":\"1984\",\"period\":\"Q02\",\"periodName\":\"2nd Quarter\",\"value\":\"323\",\"footnotes\":[{}]},{\"year\":\"1984\",\"period\":\"Q01\",\"periodName\":\"1st Quarter\",\"value\":\"323\",\"footnotes\":[{}]},{\"year\":\"1983\",\"period\":\"Q04\",\"periodName\":\"4th Quarter\",\"value\":\"318\",\"footnotes\":[{}]},{\"year\":\"1983\",\"period\":\"Q03\",\"periodName\":\"3rd Quarter\",\"value\":\"311\",\"footnotes\":[{}]},{\"year\":\"1983\",\"period\":\"Q02\",\"periodName\":\"2nd Quarter\",\"value\":\"311\",\"footnotes\":[{}]},{\"year\":\"1983\",\"period\":\"Q01\",\"periodName\":\"1st Quarter\",\"value\":\"311\",\"footnotes\":[{}]},{\"year\":\"1982\",\"period\":\"Q04\",\"periodName\":\"4th Quarter\",\"value\":\"308\",\"footnotes\":[{}]},{\"year\":\"1982\",\"period\":\"Q03\",\"periodName\":\"3rd Quarter\",\"value\":\"299\",\"footnotes\":[{}]},{\"year\":\"1982\",\"period\":\"Q02\",\"periodName\":\"2nd Quarter\",\"value\":\"301\",\"footnotes\":[{}]},{\"year\":\"1982\",\"period\":\"Q01\",\"periodName\":\"1st Quarter\",\"value\":\"298\",\"footnotes\":[{}]},{\"year\":\"1981\",\"period\":\"Q04\",\"periodName\":\"4th Quarter\",\"value\":\"294\",\"footnotes\":[{}]},{\"year\":\"1981\",\"period\":\"Q03\",\"periodName\":\"3rd Quarter\",\"value\":\"281\",\"footnotes\":[{}]},{\"year\":\"1981\",\"period\":\"Q02\",\"periodName\":\"2nd Quarter\",\"value\":\"279\",\"footnotes\":[{}]},{\"year\":\"1981\",\"period\":\"Q01\",\"periodName\":\"1st Quarter\",\"value\":\"278\",\"footnotes\":[{}]},{\"year\":\"1980\",\"period\":\"Q04\",\"periodName\":\"4th Quarter\",\"value\":\"271\",\"footnotes\":[{}]},{\"year\":\"1980\",\"period\":\"Q03\",\"periodName\":\"3rd Quarter\",\"value\":\"262\",\"footnotes\":[{}]},{\"year\":\"1980\",\"period\":\"Q02\",\"periodName\":\"2nd Quarter\",\"value\":\"257\",\"footnotes\":[{}]},{\"year\":\"1980\",\"period\":\"Q01\",\"periodName\":\"1st Quarter\",\"value\":\"256\",\"footnotes\":[{}]},{\"year\":\"1979\",\"period\":\"Q04\",\"periodName\":\"4th Quarter\",\"value\":\"249\",\"footnotes\":[{}]},{\"year\":\"1979\",\"period\":\"Q03\",\"periodName\":\"3rd Quarter\",\"value\":\"240\",\"footnotes\":[{}]},{\"year\":\"1979\",\"period\":\"Q02\",\"periodName\":\"2nd Quarter\",\"value\":\"239\",\"footnotes\":[{}]},{\"year\":\"1979\",\"period\":\"Q01\",\"periodName\":\"1st Quarter\",\"value\":\"234\",\"footnotes\":[{}]}]}]\n}}\n1989\n1999\n1\n2\n1989\n1999\n{\"seriesid\": [\"LEU0252881500\", \"LEU0252881500\"], \"startyear\": \"1989\", \"endyear\": \"1999\"}\n{\"status\":\"REQUEST_SUCCEEDED\",\"responseTime\":196,\"message\":[\"Year range has been reduced to the system-allowed limit of 10 years.\"],\"Results\":{\n\"series\":\n[{\"seriesID\":\"LEU0252881500\",\"data\":[{\"year\":\"1998\",\"period\":\"Q04\",\"periodName\":\"4th Quarter\",\"value\":\"541\",\"footnotes\":[{}]},{\"year\":\"1998\",\"period\":\"Q03\",\"periodName\":\"3rd Quarter\",\"value\":\"520\",\"footnotes\":[{}]},{\"year\":\"1998\",\"period\":\"Q02\",\"periodName\":\"2nd Quarter\",\"value\":\"515\",\"footnotes\":[{}]},{\"year\":\"1998\",\"period\":\"Q01\",\"periodName\":\"1st Quarter\",\"value\":\"521\",\"footnotes\":[{}]},{\"year\":\"1997\",\"period\":\"Q04\",\"periodName\":\"4th Quarter\",\"value\":\"511\",\"footnotes\":[{}]},{\"year\":\"1997\",\"period\":\"Q03\",\"periodName\":\"3rd Quarter\",\"value\":\"499\",\"footnotes\":[{}]},{\"year\":\"1997\",\"period\":\"Q02\",\"periodName\":\"2nd Quarter\",\"value\":\"499\",\"footnotes\":[{}]},{\"year\":\"1997\",\"period\":\"Q01\",\"periodName\":\"1st Quarter\",\"value\":\"504\",\"footnotes\":[{}]},{\"year\":\"1996\",\"period\":\"Q04\",\"periodName\":\"4th Quarter\",\"value\":\"499\",\"footnotes\":[{}]},{\"year\":\"1996\",\"period\":\"Q03\",\"periodName\":\"3rd Quarter\",\"value\":\"488\",\"footnotes\":[{}]},{\"year\":\"1996\",\"period\":\"Q02\",\"periodName\":\"2nd Quarter\",\"value\":\"486\",\"footnotes\":[{}]},{\"year\":\"1996\",\"period\":\"Q01\",\"periodName\":\"1st Quarter\",\"value\":\"489\",\"footnotes\":[{}]},{\"year\":\"1995\",\"period\":\"Q04\",\"periodName\":\"4th Quarter\",\"value\":\"484\",\"footnotes\":[{}]},{\"year\":\"1995\",\"period\":\"Q03\",\"periodName\":\"3rd Quarter\",\"value\":\"479\",\"footnotes\":[{}]},{\"year\":\"1995\",\"period\":\"Q02\",\"periodName\":\"2nd Quarter\",\"value\":\"475\",\"footnotes\":[{}]},{\"year\":\"1995\",\"period\":\"Q01\",\"periodName\":\"1st Quarter\",\"value\":\"478\",\"footnotes\":[{}]},{\"year\":\"1994\",\"period\":\"Q04\",\"periodName\":\"4th Quarter\",\"value\":\"472\",\"footnotes\":[{}]},{\"year\":\"1994\",\"period\":\"Q03\",\"periodName\":\"3rd Quarter\",\"value\":\"462\",\"footnotes\":[{}]},{\"year\":\"1994\",\"period\":\"Q02\",\"periodName\":\"2nd Quarter\",\"value\":\"465\",\"footnotes\":[{}]},{\"year\":\"1994\",\"period\":\"Q01\",\"periodName\":\"1st Quarter\",\"value\":\"469\",\"footnotes\":[{}]},{\"year\":\"1993\",\"period\":\"Q04\",\"periodName\":\"4th Quarter\",\"value\":\"467\",\"footnotes\":[{}]},{\"year\":\"1993\",\"period\":\"Q03\",\"periodName\":\"3rd Quarter\",\"value\":\"456\",\"footnotes\":[{}]},{\"year\":\"1993\",\"period\":\"Q02\",\"periodName\":\"2nd Quarter\",\"value\":\"455\",\"footnotes\":[{}]},{\"year\":\"1993\",\"period\":\"Q01\",\"periodName\":\"1st Quarter\",\"value\":\"456\",\"footnotes\":[{}]},{\"year\":\"1992\",\"period\":\"Q04\",\"periodName\":\"4th Quarter\",\"value\":\"445\",\"footnotes\":[{}]},{\"year\":\"1992\",\"period\":\"Q03\",\"periodName\":\"3rd Quarter\",\"value\":\"437\",\"footnotes\":[{}]},{\"year\":\"1992\",\"period\":\"Q02\",\"periodName\":\"2nd Quarter\",\"value\":\"436\",\"footnotes\":[{}]},{\"year\":\"1992\",\"period\":\"Q01\",\"periodName\":\"1st Quarter\",\"value\":\"443\",\"footnotes\":[{}]},{\"year\":\"1991\",\"period\":\"Q04\",\"periodName\":\"4th Quarter\",\"value\":\"432\",\"footnotes\":[{}]},{\"year\":\"1991\",\"period\":\"Q03\",\"periodName\":\"3rd Quarter\",\"value\":\"421\",\"footnotes\":[{}]},{\"year\":\"1991\",\"period\":\"Q02\",\"periodName\":\"2nd Quarter\",\"value\":\"422\",\"footnotes\":[{}]},{\"year\":\"1991\",\"period\":\"Q01\",\"periodName\":\"1st Quarter\",\"value\":\"432\",\"footnotes\":[{}]},{\"year\":\"1990\",\"period\":\"Q04\",\"periodName\":\"4th Quarter\",\"value\":\"419\",\"footnotes\":[{}]},{\"year\":\"1990\",\"period\":\"Q03\",\"periodName\":\"3rd Quarter\",\"value\":\"406\",\"footnotes\":[{}]},{\"year\":\"1990\",\"period\":\"Q02\",\"periodName\":\"2nd Quarter\",\"value\":\"411\",\"footnotes\":[{}]},{\"year\":\"1990\",\"period\":\"Q01\",\"periodName\":\"1st Quarter\",\"value\":\"413\",\"footnotes\":[{}]},{\"year\":\"1989\",\"period\":\"Q04\",\"periodName\":\"4th Quarter\",\"value\":\"408\",\"footnotes\":[{}]},{\"year\":\"1989\",\"period\":\"Q03\",\"periodName\":\"3rd Quarter\",\"value\":\"395\",\"footnotes\":[{}]},{\"year\":\"1989\",\"period\":\"Q02\",\"periodName\":\"2nd Quarter\",\"value\":\"398\",\"footnotes\":[{}]},{\"year\":\"1989\",\"period\":\"Q01\",\"periodName\":\"1st Quarter\",\"value\":\"397\",\"footnotes\":[{}]}]}]\n}}\n1999\n2009\n2\n3\n1999\n2009\n{\"seriesid\": [\"LEU0252881500\", \"LEU0252881500\"], \"startyear\": \"1999\", \"endyear\": \"2009\"}\n{\"status\":\"REQUEST_SUCCEEDED\",\"responseTime\":189,\"message\":[\"Year range has been reduced to the system-allowed limit of 10 years.\"],\"Results\":{\n\"series\":\n[{\"seriesID\":\"LEU0252881500\",\"data\":[{\"year\":\"2008\",\"period\":\"Q04\",\"periodName\":\"4th Quarter\",\"value\":\"728\",\"footnotes\":[{}]},{\"year\":\"2008\",\"period\":\"Q03\",\"periodName\":\"3rd Quarter\",\"value\":\"720\",\"footnotes\":[{}]},{\"year\":\"2008\",\"period\":\"Q02\",\"periodName\":\"2nd Quarter\",\"value\":\"719\",\"footnotes\":[{}]},{\"year\":\"2008\",\"period\":\"Q01\",\"periodName\":\"1st Quarter\",\"value\":\"719\",\"footnotes\":[{}]},{\"year\":\"2007\",\"period\":\"Q04\",\"periodName\":\"4th Quarter\",\"value\":\"700\",\"footnotes\":[{}]},{\"year\":\"2007\",\"period\":\"Q03\",\"periodName\":\"3rd Quarter\",\"value\":\"695\",\"footnotes\":[{}]},{\"year\":\"2007\",\"period\":\"Q02\",\"periodName\":\"2nd Quarter\",\"value\":\"690\",\"footnotes\":[{}]},{\"year\":\"2007\",\"period\":\"Q01\",\"periodName\":\"1st Quarter\",\"value\":\"693\",\"footnotes\":[{}]},{\"year\":\"2006\",\"period\":\"Q04\",\"periodName\":\"4th Quarter\",\"value\":\"682\",\"footnotes\":[{}]},{\"year\":\"2006\",\"period\":\"Q03\",\"periodName\":\"3rd Quarter\",\"value\":\"675\",\"footnotes\":[{}]},{\"year\":\"2006\",\"period\":\"Q02\",\"periodName\":\"2nd Quarter\",\"value\":\"659\",\"footnotes\":[{}]},{\"year\":\"2006\",\"period\":\"Q01\",\"periodName\":\"1st Quarter\",\"value\":\"668\",\"footnotes\":[{}]},{\"year\":\"2005\",\"period\":\"Q04\",\"periodName\":\"4th Quarter\",\"value\":\"659\",\"footnotes\":[{}]},{\"year\":\"2005\",\"period\":\"Q03\",\"periodName\":\"3rd Quarter\",\"value\":\"649\",\"footnotes\":[{}]},{\"year\":\"2005\",\"period\":\"Q02\",\"periodName\":\"2nd Quarter\",\"value\":\"643\",\"footnotes\":[{}]},{\"year\":\"2005\",\"period\":\"Q01\",\"periodName\":\"1st Quarter\",\"value\":\"653\",\"footnotes\":[{}]},{\"year\":\"2004\",\"period\":\"Q04\",\"periodName\":\"4th Quarter\",\"value\":\"647\",\"footnotes\":[{}]},{\"year\":\"2004\",\"period\":\"Q03\",\"periodName\":\"3rd Quarter\",\"value\":\"632\",\"footnotes\":[{}]},{\"year\":\"2004\",\"period\":\"Q02\",\"periodName\":\"2nd Quarter\",\"value\":\"639\",\"footnotes\":[{}]},{\"year\":\"2004\",\"period\":\"Q01\",\"periodName\":\"1st Quarter\",\"value\":\"634\",\"footnotes\":[{}]},{\"year\":\"2003\",\"period\":\"Q04\",\"periodName\":\"4th Quarter\",\"value\":\"625\",\"footnotes\":[{}]},{\"year\":\"2003\",\"period\":\"Q03\",\"periodName\":\"3rd Quarter\",\"value\":\"618\",\"footnotes\":[{}]},{\"year\":\"2003\",\"period\":\"Q02\",\"periodName\":\"2nd Quarter\",\"value\":\"616\",\"footnotes\":[{}]},{\"year\":\"2003\",\"period\":\"Q01\",\"periodName\":\"1st Quarter\",\"value\":\"620\",\"footnotes\":[{}]},{\"year\":\"2002\",\"period\":\"Q04\",\"periodName\":\"4th Quarter\",\"value\":\"613\",\"footnotes\":[{}]},{\"year\":\"2002\",\"period\":\"Q03\",\"periodName\":\"3rd Quarter\",\"value\":\"603\",\"footnotes\":[{}]},{\"year\":\"2002\",\"period\":\"Q02\",\"periodName\":\"2nd Quarter\",\"value\":\"605\",\"footnotes\":[{}]},{\"year\":\"2002\",\"period\":\"Q01\",\"periodName\":\"1st Quarter\",\"value\":\"611\",\"footnotes\":[{}]},{\"year\":\"2001\",\"period\":\"Q04\",\"periodName\":\"4th Quarter\",\"value\":\"606\",\"footnotes\":[{}]},{\"year\":\"2001\",\"period\":\"Q03\",\"periodName\":\"3rd Quarter\",\"value\":\"596\",\"footnotes\":[{}]},{\"year\":\"2001\",\"period\":\"Q02\",\"periodName\":\"2nd Quarter\",\"value\":\"592\",\"footnotes\":[{}]},{\"year\":\"2001\",\"period\":\"Q01\",\"periodName\":\"1st Quarter\",\"value\":\"589\",\"footnotes\":[{}]},{\"year\":\"2000\",\"period\":\"Q04\",\"periodName\":\"4th Quarter\",\"value\":\"585\",\"footnotes\":[{}]},{\"year\":\"2000\",\"period\":\"Q03\",\"periodName\":\"3rd Quarter\",\"value\":\"574\",\"footnotes\":[{}]},{\"year\":\"2000\",\"period\":\"Q02\",\"periodName\":\"2nd Quarter\",\"value\":\"569\",\"footnotes\":[{}]},{\"year\":\"2000\",\"period\":\"Q01\",\"periodName\":\"1st Quarter\",\"value\":\"573\",\"footnotes\":[{}]},{\"year\":\"1999\",\"period\":\"Q04\",\"periodName\":\"4th Quarter\",\"value\":\"568\",\"footnotes\":[{}]},{\"year\":\"1999\",\"period\":\"Q03\",\"periodName\":\"3rd Quarter\",\"value\":\"546\",\"footnotes\":[{}]},{\"year\":\"1999\",\"period\":\"Q02\",\"periodName\":\"2nd Quarter\",\"value\":\"543\",\"footnotes\":[{}]},{\"year\":\"1999\",\"period\":\"Q01\",\"periodName\":\"1st Quarter\",\"value\":\"538\",\"footnotes\":[{}]}]}]\n}}\n2009\n2019\n3\n4\n2009\n2019\n{\"seriesid\": [\"LEU0252881500\", \"LEU0252881500\"], \"startyear\": \"2009\", \"endyear\": \"2019\"}\n{\"status\":\"REQUEST_SUCCEEDED\",\"responseTime\":503,\"message\":[\"Year range has been reduced to the system-allowed limit of 10 years.\"],\"Results\":{\n\"series\":\n[{\"seriesID\":\"LEU0252881500\",\"data\":[{\"year\":\"2018\",\"period\":\"Q04\",\"periodName\":\"4th Quarter\",\"value\":\"900\",\"footnotes\":[{}]},{\"year\":\"2018\",\"period\":\"Q03\",\"periodName\":\"3rd Quarter\",\"value\":\"887\",\"footnotes\":[{}]},{\"year\":\"2018\",\"period\":\"Q02\",\"periodName\":\"2nd Quarter\",\"value\":\"876\",\"footnotes\":[{}]},{\"year\":\"2018\",\"period\":\"Q01\",\"periodName\":\"1st Quarter\",\"value\":\"881\",\"footnotes\":[{}]},{\"year\":\"2017\",\"period\":\"Q04\",\"periodName\":\"4th Quarter\",\"value\":\"857\",\"footnotes\":[{}]},{\"year\":\"2017\",\"period\":\"Q03\",\"periodName\":\"3rd Quarter\",\"value\":\"859\",\"footnotes\":[{}]},{\"year\":\"2017\",\"period\":\"Q02\",\"periodName\":\"2nd Quarter\",\"value\":\"859\",\"footnotes\":[{}]},{\"year\":\"2017\",\"period\":\"Q01\",\"periodName\":\"1st Quarter\",\"value\":\"865\",\"footnotes\":[{}]},{\"year\":\"2016\",\"period\":\"Q04\",\"periodName\":\"4th Quarter\",\"value\":\"849\",\"footnotes\":[{}]},{\"year\":\"2016\",\"period\":\"Q03\",\"periodName\":\"3rd Quarter\",\"value\":\"827\",\"footnotes\":[{}]},{\"year\":\"2016\",\"period\":\"Q02\",\"periodName\":\"2nd Quarter\",\"value\":\"824\",\"footnotes\":[{}]},{\"year\":\"2016\",\"period\":\"Q01\",\"periodName\":\"1st Quarter\",\"value\":\"830\",\"footnotes\":[{}]},{\"year\":\"2015\",\"period\":\"Q04\",\"periodName\":\"4th Quarter\",\"value\":\"825\",\"footnotes\":[{}]},{\"year\":\"2015\",\"period\":\"Q03\",\"periodName\":\"3rd Quarter\",\"value\":\"803\",\"footnotes\":[{}]},{\"year\":\"2015\",\"period\":\"Q02\",\"periodName\":\"2nd Quarter\",\"value\":\"801\",\"footnotes\":[{}]},{\"year\":\"2015\",\"period\":\"Q01\",\"periodName\":\"1st Quarter\",\"value\":\"808\",\"footnotes\":[{}]},{\"year\":\"2014\",\"period\":\"Q04\",\"periodName\":\"4th Quarter\",\"value\":\"799\",\"footnotes\":[{}]},{\"year\":\"2014\",\"period\":\"Q03\",\"periodName\":\"3rd Quarter\",\"value\":\"790\",\"footnotes\":[{}]},{\"year\":\"2014\",\"period\":\"Q02\",\"periodName\":\"2nd Quarter\",\"value\":\"780\",\"footnotes\":[{}]},{\"year\":\"2014\",\"period\":\"Q01\",\"periodName\":\"1st Quarter\",\"value\":\"796\",\"footnotes\":[{}]},{\"year\":\"2013\",\"period\":\"Q04\",\"periodName\":\"4th Quarter\",\"value\":\"786\",\"footnotes\":[{}]},{\"year\":\"2013\",\"period\":\"Q03\",\"periodName\":\"3rd Quarter\",\"value\":\"771\",\"footnotes\":[{}]},{\"year\":\"2013\",\"period\":\"Q02\",\"periodName\":\"2nd Quarter\",\"value\":\"776\",\"footnotes\":[{}]},{\"year\":\"2013\",\"period\":\"Q01\",\"periodName\":\"1st Quarter\",\"value\":\"773\",\"footnotes\":[{}]},{\"year\":\"2012\",\"period\":\"Q04\",\"periodName\":\"4th Quarter\",\"value\":\"775\",\"footnotes\":[{}]},{\"year\":\"2012\",\"period\":\"Q03\",\"periodName\":\"3rd Quarter\",\"value\":\"758\",\"footnotes\":[{}]},{\"year\":\"2012\",\"period\":\"Q02\",\"periodName\":\"2nd Quarter\",\"value\":\"771\",\"footnotes\":[{}]},{\"year\":\"2012\",\"period\":\"Q01\",\"periodName\":\"1st Quarter\",\"value\":\"769\",\"footnotes\":[{}]},{\"year\":\"2011\",\"period\":\"Q04\",\"periodName\":\"4th Quarter\",\"value\":\"764\",\"footnotes\":[{}]},{\"year\":\"2011\",\"period\":\"Q03\",\"periodName\":\"3rd Quarter\",\"value\":\"753\",\"footnotes\":[{}]},{\"year\":\"2011\",\"period\":\"Q02\",\"periodName\":\"2nd Quarter\",\"value\":\"753\",\"footnotes\":[{}]},{\"year\":\"2011\",\"period\":\"Q01\",\"periodName\":\"1st Quarter\",\"value\":\"755\",\"footnotes\":[{}]},{\"year\":\"2010\",\"period\":\"Q04\",\"periodName\":\"4th Quarter\",\"value\":\"752\",\"footnotes\":[{}]},{\"year\":\"2010\",\"period\":\"Q03\",\"periodName\":\"3rd Quarter\",\"value\":\"740\",\"footnotes\":[{}]},{\"year\":\"2010\",\"period\":\"Q02\",\"periodName\":\"2nd Quarter\",\"value\":\"740\",\"footnotes\":[{}]},{\"year\":\"2010\",\"period\":\"Q01\",\"periodName\":\"1st Quarter\",\"value\":\"754\",\"footnotes\":[{}]},{\"year\":\"2009\",\"period\":\"Q04\",\"periodName\":\"4th Quarter\",\"value\":\"748\",\"footnotes\":[{}]},{\"year\":\"2009\",\"period\":\"Q03\",\"periodName\":\"3rd Quarter\",\"value\":\"738\",\"footnotes\":[{}]},{\"year\":\"2009\",\"period\":\"Q02\",\"periodName\":\"2nd Quarter\",\"value\":\"734\",\"footnotes\":[{}]},{\"year\":\"2009\",\"period\":\"Q01\",\"periodName\":\"1st Quarter\",\"value\":\"738\",\"footnotes\":[{}]}]}]\n}}\n2019\n2029\n4\n5\n2019\n2029\n{\"seriesid\": [\"LEU0252881500\", \"LEU0252881500\"], \"startyear\": \"2019\", \"endyear\": \"2029\"}\n{\"status\":\"REQUEST_SUCCEEDED\",\"responseTime\":280,\"message\":[\"Year range has been reduced to the system-allowed limit of 10 years.\",\"No Data Available for Series LEU0252881500 Year: 2024\",\"No Data Available for Series LEU0252881500 Year: 2025\",\"No Data Available for Series LEU0252881500 Year: 2026\",\"No Data Available for Series LEU0252881500 Year: 2027\",\"No Data Available for Series LEU0252881500 Year: 2028\"],\"Results\":{\n\"series\":\n[{\"seriesID\":\"LEU0252881500\",\"data\":[{\"year\":\"2023\",\"period\":\"Q03\",\"periodName\":\"3rd Quarter\",\"latest\":\"true\",\"value\":\"1118\",\"footnotes\":[{}]},{\"year\":\"2023\",\"period\":\"Q02\",\"periodName\":\"2nd Quarter\",\"value\":\"1100\",\"footnotes\":[{}]},{\"year\":\"2023\",\"period\":\"Q01\",\"periodName\":\"1st Quarter\",\"value\":\"1100\",\"footnotes\":[{}]},{\"year\":\"2022\",\"period\":\"Q04\",\"periodName\":\"4th Quarter\",\"value\":\"1085\",\"footnotes\":[{}]},{\"year\":\"2022\",\"period\":\"Q03\",\"periodName\":\"3rd Quarter\",\"value\":\"1070\",\"footnotes\":[{}]},{\"year\":\"2022\",\"period\":\"Q02\",\"periodName\":\"2nd Quarter\",\"value\":\"1041\",\"footnotes\":[{}]},{\"year\":\"2022\",\"period\":\"Q01\",\"periodName\":\"1st Quarter\",\"value\":\"1037\",\"footnotes\":[{}]},{\"year\":\"2021\",\"period\":\"Q04\",\"periodName\":\"4th Quarter\",\"value\":\"1010\",\"footnotes\":[{}]},{\"year\":\"2021\",\"period\":\"Q03\",\"periodName\":\"3rd Quarter\",\"value\":\"1001\",\"footnotes\":[{}]},{\"year\":\"2021\",\"period\":\"Q02\",\"periodName\":\"2nd Quarter\",\"value\":\"990\",\"footnotes\":[{}]},{\"year\":\"2021\",\"period\":\"Q01\",\"periodName\":\"1st Quarter\",\"value\":\"989\",\"footnotes\":[{}]},{\"year\":\"2020\",\"period\":\"Q04\",\"periodName\":\"4th Quarter\",\"value\":\"984\",\"footnotes\":[{}]},{\"year\":\"2020\",\"period\":\"Q03\",\"periodName\":\"3rd Quarter\",\"value\":\"994\",\"footnotes\":[{}]},{\"year\":\"2020\",\"period\":\"Q02\",\"periodName\":\"2nd Quarter\",\"value\":\"1002\",\"footnotes\":[{}]},{\"year\":\"2020\",\"period\":\"Q01\",\"periodName\":\"1st Quarter\",\"value\":\"957\",\"footnotes\":[{}]},{\"year\":\"2019\",\"period\":\"Q04\",\"periodName\":\"4th Quarter\",\"value\":\"936\",\"footnotes\":[{}]},{\"year\":\"2019\",\"period\":\"Q03\",\"periodName\":\"3rd Quarter\",\"value\":\"919\",\"footnotes\":[{}]},{\"year\":\"2019\",\"period\":\"Q02\",\"periodName\":\"2nd Quarter\",\"value\":\"908\",\"footnotes\":[{}]},{\"year\":\"2019\",\"period\":\"Q01\",\"periodName\":\"1st Quarter\",\"value\":\"905\",\"footnotes\":[{}]}]}]\n}}\n2029\n2039\n5\nWrote 10741 bytes.\nOut[4]: True"
     ]
    }
   ],
   "source": [
    "headers = {'Content-type': 'application/json'}\n",
    "auth = HTTPBasicAuth('apikey','bf323d2b0dff40a79cf1df469caec067')\n",
    "startyeardate = 1979\n",
    "endyeardate = 1989\n",
    "master_string = \"\"\n",
    "for i in range(0, 5):\n",
    "    i = i+1\n",
    "    print(i)\n",
    "    print(startyeardate)\n",
    "    print(endyeardate)\n",
    "    if startyeardate >= 1979 or endyeardate <= 2023:\n",
    "        data = json.dumps({\"seriesid\": ['LEU0252881500', 'LEU0252881500'],\"startyear\":str(startyeardate), \"endyear\":str(endyeardate)})\n",
    "        print(data)\n",
    "        p = requests.post('https://api.bls.gov/publicAPI/v1/timeseries/data/', data=data, headers=headers, auth = auth)\n",
    "        print(p.text)\n",
    "        json_data = json.loads(p.text)\n",
    "        #print(json_data)\n",
    "        #dbutils.fs.put(\"dbfs:/FileStore/my-stuff/\" + 'APU000074714' + '.txt', p.text, overwrite=True)\n",
    "        startyeardate = startyeardate + 10;\n",
    "        endyeardate = endyeardate + 10;\n",
    "        print(startyeardate)\n",
    "        print(endyeardate)\n",
    "        \n",
    "        #print(os.getcwd())\n",
    "        for series in json_data['Results']['series']:\n",
    "            x=prettytable.PrettyTable([\"series id\",\"year\",\"period\",\"value\",\"footnotes\"])\n",
    "            seriesId = series['seriesID']\n",
    "            for item in series['data']:\n",
    "                year = item['year']\n",
    "                period = item['period']\n",
    "                value = item['value']\n",
    "                footnotes=\"\"\n",
    "                for footnote in item['footnotes']:\n",
    "                    if footnote:\n",
    "                        footnotes = footnotes + footnote['text'] + ','\n",
    "                if 'Q01' <= period <= 'Q04':\n",
    "                    x.add_row([seriesId,year,period,value,footnotes[0:-1]])\n",
    "            output = open(seriesId + '.txt','w')\n",
    "            #print(seriesId)\n",
    "            output.write (x.get_string())\n",
    "            master_string = master_string + x.get_string()\n",
    "            print(i)\n",
    "            output.close()\n",
    "dbutils.fs.put(\"dbfs:/FileStore/my-stuff/\" + seriesId + str(i) + '.txt', master_string, overwrite=True) #save the all items price into a text file with the series id in its name\n"
   ]
  },
  {
   "cell_type": "code",
   "execution_count": 0,
   "metadata": {
    "application/vnd.databricks.v1+cell": {
     "cellMetadata": {
      "byteLimit": 2048000,
      "rowLimit": 10000
     },
     "inputWidgets": {},
     "nuid": "7f1fcdfa-808c-4e14-8744-eed428580adc",
     "showTitle": false,
     "title": ""
    }
   },
   "outputs": [
    {
     "output_type": "display_data",
     "data": {
      "text/html": [
       "<style scoped>\n",
       "  .table-result-container {\n",
       "    max-height: 300px;\n",
       "    overflow: auto;\n",
       "  }\n",
       "  table, th, td {\n",
       "    border: 1px solid black;\n",
       "    border-collapse: collapse;\n",
       "  }\n",
       "  th, td {\n",
       "    padding: 5px;\n",
       "  }\n",
       "  th {\n",
       "    text-align: left;\n",
       "  }\n",
       "</style><div class='table-result-container'><table class='table-result'><thead style='background-color: white'><tr><th>path</th><th>name</th><th>size</th><th>modificationTime</th></tr></thead><tbody><tr><td>dbfs:/FileStore/my-stuff/APU0000747145.txt</td><td>APU0000747145.txt</td><td>31530</td><td>1702920394000</td></tr><tr><td>dbfs:/FileStore/my-stuff/CUSR0000SA08.txt</td><td>CUSR0000SA08.txt</td><td>50446</td><td>1702920399000</td></tr><tr><td>dbfs:/FileStore/my-stuff/LEU02528815005.txt</td><td>LEU02528815005.txt</td><td>10741</td><td>1702920403000</td></tr></tbody></table></div>"
      ]
     },
     "metadata": {
      "application/vnd.databricks.v1+output": {
       "addedWidgets": {},
       "aggData": [],
       "aggError": "",
       "aggOverflow": false,
       "aggSchema": [],
       "aggSeriesLimitReached": false,
       "aggType": "",
       "arguments": {},
       "columnCustomDisplayInfos": {},
       "data": [
        [
         "dbfs:/FileStore/my-stuff/APU0000747145.txt",
         "APU0000747145.txt",
         31530,
         1702920394000
        ],
        [
         "dbfs:/FileStore/my-stuff/CUSR0000SA08.txt",
         "CUSR0000SA08.txt",
         50446,
         1702920399000
        ],
        [
         "dbfs:/FileStore/my-stuff/LEU02528815005.txt",
         "LEU02528815005.txt",
         10741,
         1702920403000
        ]
       ],
       "datasetInfos": [],
       "dbfsResultPath": null,
       "isJsonSchema": true,
       "metadata": {},
       "overflow": false,
       "plotOptions": {
        "customPlotOptions": {},
        "displayType": "table",
        "pivotAggregation": null,
        "pivotColumns": null,
        "xColumns": null,
        "yColumns": null
       },
       "removedWidgets": [],
       "schema": [
        {
         "metadata": "{}",
         "name": "path",
         "type": "\"string\""
        },
        {
         "metadata": "{}",
         "name": "name",
         "type": "\"string\""
        },
        {
         "metadata": "{}",
         "name": "size",
         "type": "\"long\""
        },
        {
         "metadata": "{}",
         "name": "modificationTime",
         "type": "\"long\""
        }
       ],
       "type": "table"
      }
     },
     "output_type": "display_data"
    }
   ],
   "source": [
    "#%sh ls /databricks/driver\n",
    "display(dbutils.fs.ls(\"dbfs:/FileStore/my-stuff\"))"
   ]
  },
  {
   "cell_type": "markdown",
   "metadata": {
    "application/vnd.databricks.v1+cell": {
     "cellMetadata": {
      "byteLimit": 2048000,
      "rowLimit": 10000
     },
     "inputWidgets": {},
     "nuid": "59a09400-30ea-4496-b5e0-3bf727b7fc20",
     "showTitle": false,
     "title": ""
    }
   },
   "source": [
    "##### Read & display the gas price from the text file"
   ]
  },
  {
   "cell_type": "code",
   "execution_count": 0,
   "metadata": {
    "application/vnd.databricks.v1+cell": {
     "cellMetadata": {
      "byteLimit": 2048000,
      "rowLimit": 10000
     },
     "inputWidgets": {},
     "nuid": "8a5228dc-faf4-4414-815f-971ba9b30344",
     "showTitle": false,
     "title": ""
    }
   },
   "outputs": [
    {
     "output_type": "stream",
     "name": "stdout",
     "output_type": "stream",
     "text": [
      "root\n |-- value: string (nullable = true)\n\n"
     ]
    },
    {
     "output_type": "display_data",
     "data": {
      "text/html": [
       "<style scoped>\n",
       "  .table-result-container {\n",
       "    max-height: 300px;\n",
       "    overflow: auto;\n",
       "  }\n",
       "  table, th, td {\n",
       "    border: 1px solid black;\n",
       "    border-collapse: collapse;\n",
       "  }\n",
       "  th, td {\n",
       "    padding: 5px;\n",
       "  }\n",
       "  th {\n",
       "    text-align: left;\n",
       "  }\n",
       "</style><div class='table-result-container'><table class='table-result'><thead style='background-color: white'><tr><th>value</th></tr></thead><tbody><tr><td>+--------------+------+--------+-------+-----------+</td></tr><tr><td>|  series id   | year | period | value | footnotes |</td></tr><tr><td>+--------------+------+--------+-------+-----------+</td></tr><tr><td>| APU000074714 | 1985 |  M12   | 1.208 |           |</td></tr><tr><td>| APU000074714 | 1985 |  M11   | 1.207 |           |</td></tr><tr><td>| APU000074714 | 1985 |  M10   | 1.204 |           |</td></tr><tr><td>| APU000074714 | 1985 |  M09   | 1.216 |           |</td></tr><tr><td>| APU000074714 | 1985 |  M08   | 1.229 |           |</td></tr><tr><td>| APU000074714 | 1985 |  M07   | 1.242 |           |</td></tr><tr><td>| APU000074714 | 1985 |  M06   | 1.241 |           |</td></tr><tr><td>| APU000074714 | 1985 |  M05   | 1.231 |           |</td></tr><tr><td>| APU000074714 | 1985 |  M04   | 1.205 |           |</td></tr><tr><td>| APU000074714 | 1985 |  M03   | 1.159 |           |</td></tr><tr><td>| APU000074714 | 1985 |  M02   | 1.131 |           |</td></tr><tr><td>| APU000074714 | 1985 |  M01   | 1.148 |           |</td></tr><tr><td>| APU000074714 | 1984 |  M12   | 1.193 |           |</td></tr><tr><td>| APU000074714 | 1984 |  M11   | 1.207 |           |</td></tr><tr><td>| APU000074714 | 1984 |  M10   | 1.209 |           |</td></tr><tr><td>| APU000074714 | 1984 |  M09   | 1.203 |           |</td></tr><tr><td>| APU000074714 | 1984 |  M08   | 1.196 |           |</td></tr><tr><td>| APU000074714 | 1984 |  M07   | 1.212 |           |</td></tr><tr><td>| APU000074714 | 1984 |  M06   | 1.229 |           |</td></tr><tr><td>| APU000074714 | 1984 |  M05   | 1.236 |           |</td></tr><tr><td>| APU000074714 | 1984 |  M04   | 1.227 |           |</td></tr><tr><td>| APU000074714 | 1984 |  M03   | 1.210 |           |</td></tr><tr><td>| APU000074714 | 1984 |  M02   | 1.209 |           |</td></tr><tr><td>| APU000074714 | 1984 |  M01   | 1.216 |           |</td></tr><tr><td>| APU000074714 | 1983 |  M12   | 1.231 |           |</td></tr><tr><td>| APU000074714 | 1983 |  M11   | 1.241 |           |</td></tr><tr><td>| APU000074714 | 1983 |  M10   | 1.255 |           |</td></tr><tr><td>| APU000074714 | 1983 |  M09   | 1.274 |           |</td></tr><tr><td>| APU000074714 | 1983 |  M08   | 1.285 |           |</td></tr><tr><td>| APU000074714 | 1983 |  M07   | 1.288 |           |</td></tr><tr><td>| APU000074714 | 1983 |  M06   | 1.277 |           |</td></tr><tr><td>| APU000074714 | 1983 |  M05   | 1.259 |           |</td></tr><tr><td>| APU000074714 | 1983 |  M04   | 1.215 |           |</td></tr><tr><td>| APU000074714 | 1983 |  M03   | 1.152 |           |</td></tr><tr><td>| APU000074714 | 1983 |  M02   | 1.187 |           |</td></tr><tr><td>| APU000074714 | 1983 |  M01   | 1.230 |           |</td></tr><tr><td>| APU000074714 | 1982 |  M12   | 1.260 |           |</td></tr><tr><td>| APU000074714 | 1982 |  M11   | 1.283 |           |</td></tr><tr><td>| APU000074714 | 1982 |  M10   | 1.295 |           |</td></tr><tr><td>| APU000074714 | 1982 |  M09   | 1.307 |           |</td></tr><tr><td>| APU000074714 | 1982 |  M08   | 1.323 |           |</td></tr><tr><td>| APU000074714 | 1982 |  M07   | 1.331 |           |</td></tr><tr><td>| APU000074714 | 1982 |  M06   | 1.309 |           |</td></tr><tr><td>| APU000074714 | 1982 |  M05   | 1.237 |           |</td></tr><tr><td>| APU000074714 | 1982 |  M04   | 1.225 |           |</td></tr><tr><td>| APU000074714 | 1982 |  M03   | 1.284 |           |</td></tr><tr><td>| APU000074714 | 1982 |  M02   | 1.334 |           |</td></tr><tr><td>| APU000074714 | 1982 |  M01   | 1.358 |           |</td></tr><tr><td>| APU000074714 | 1981 |  M12   | 1.365 |           |</td></tr><tr><td>| APU000074714 | 1981 |  M11   | 1.369 |           |</td></tr><tr><td>| APU000074714 | 1981 |  M10   | 1.371 |           |</td></tr><tr><td>| APU000074714 | 1981 |  M09   | 1.376 |           |</td></tr><tr><td>| APU000074714 | 1981 |  M08   | 1.376 |           |</td></tr><tr><td>| APU000074714 | 1981 |  M07   | 1.382 |           |</td></tr><tr><td>| APU000074714 | 1981 |  M06   | 1.391 |           |</td></tr><tr><td>| APU000074714 | 1981 |  M05   | 1.400 |           |</td></tr><tr><td>| APU000074714 | 1981 |  M04   | 1.412 |           |</td></tr><tr><td>| APU000074714 | 1981 |  M03   | 1.417 |           |</td></tr><tr><td>| APU000074714 | 1981 |  M02   | 1.382 |           |</td></tr><tr><td>| APU000074714 | 1981 |  M01   | 1.298 |           |</td></tr><tr><td>| APU000074714 | 1980 |  M12   | 1.258 |           |</td></tr><tr><td>| APU000074714 | 1980 |  M11   | 1.250 |           |</td></tr><tr><td>| APU000074714 | 1980 |  M10   | 1.250 |           |</td></tr><tr><td>| APU000074714 | 1980 |  M09   | 1.257 |           |</td></tr><tr><td>| APU000074714 | 1980 |  M08   | 1.267 |           |</td></tr><tr><td>| APU000074714 | 1980 |  M07   | 1.271 |           |</td></tr><tr><td>| APU000074714 | 1980 |  M06   | 1.269 |           |</td></tr><tr><td>| APU000074714 | 1980 |  M05   | 1.266 |           |</td></tr><tr><td>| APU000074714 | 1980 |  M04   | 1.264 |           |</td></tr><tr><td>| APU000074714 | 1980 |  M03   | 1.252 |           |</td></tr><tr><td>| APU000074714 | 1980 |  M02   | 1.207 |           |</td></tr><tr><td>| APU000074714 | 1980 |  M01   | 1.131 |           |</td></tr><tr><td>| APU000074714 | 1979 |  M12   | 1.065 |           |</td></tr><tr><td>| APU000074714 | 1979 |  M11   | 1.041 |           |</td></tr><tr><td>| APU000074714 | 1979 |  M10   | 1.028 |           |</td></tr><tr><td>| APU000074714 | 1979 |  M09   | 1.020 |           |</td></tr><tr><td>| APU000074714 | 1979 |  M08   | 0.988 |           |</td></tr><tr><td>| APU000074714 | 1979 |  M07   | 0.949 |           |</td></tr><tr><td>| APU000074714 | 1979 |  M06   | 0.901 |           |</td></tr><tr><td>| APU000074714 | 1979 |  M05   | 0.844 |           |</td></tr><tr><td>| APU000074714 | 1979 |  M04   | 0.802 |           |</td></tr><tr><td>| APU000074714 | 1979 |  M03   | 0.755 |           |</td></tr><tr><td>| APU000074714 | 1979 |  M02   | 0.730 |           |</td></tr><tr><td>| APU000074714 | 1979 |  M01   | 0.716 |           |</td></tr><tr><td>| APU000074714 | 1978 |  M12   | 0.705 |           |</td></tr><tr><td>| APU000074714 | 1978 |  M11   | 0.695 |           |</td></tr><tr><td>| APU000074714 | 1978 |  M10   | 0.690 |           |</td></tr><tr><td>| APU000074714 | 1978 |  M09   | 0.688 |           |</td></tr><tr><td>| APU000074714 | 1978 |  M08   | 0.682 |           |</td></tr><tr><td>| APU000074714 | 1978 |  M07   | 0.674 |           |</td></tr><tr><td>| APU000074714 | 1978 |  M06   | 0.663 |           |</td></tr><tr><td>| APU000074714 | 1978 |  M05   | 0.655 |           |</td></tr><tr><td>| APU000074714 | 1978 |  M04   | 0.649 |           |</td></tr><tr><td>| APU000074714 | 1978 |  M03   | 0.647 |           |</td></tr><tr><td>| APU000074714 | 1978 |  M02   | 0.647 |           |</td></tr><tr><td>| APU000074714 | 1978 |  M01   | 0.648 |           |</td></tr><tr><td>| APU000074714 | 1977 |  M12   | 0.665 |           |</td></tr><tr><td>| APU000074714 | 1977 |  M11   | 0.664 |           |</td></tr><tr><td>| APU000074714 | 1977 |  M10   | 0.665 |           |</td></tr><tr><td>| APU000074714 | 1977 |  M09   | 0.666 |           |</td></tr><tr><td>| APU000074714 | 1977 |  M08   | 0.667 |           |</td></tr><tr><td>| APU000074714 | 1977 |  M07   | 0.667 |           |</td></tr><tr><td>| APU000074714 | 1977 |  M06   | 0.665 |           |</td></tr><tr><td>| APU000074714 | 1977 |  M05   | 0.659 |           |</td></tr><tr><td>| APU000074714 | 1977 |  M04   | 0.651 |           |</td></tr><tr><td>| APU000074714 | 1977 |  M03   | 0.643 |           |</td></tr><tr><td>| APU000074714 | 1977 |  M02   | 0.637 |           |</td></tr><tr><td>| APU000074714 | 1977 |  M01   | 0.627 |           |</td></tr><tr><td>| APU000074714 | 1976 |  M12   | 0.626 |           |</td></tr><tr><td>| APU000074714 | 1976 |  M11   | 0.629 |           |</td></tr><tr><td>| APU000074714 | 1976 |  M10   | 0.629 |           |</td></tr><tr><td>| APU000074714 | 1976 |  M09   | 0.630 |           |</td></tr><tr><td>| APU000074714 | 1976 |  M08   | 0.628 |           |</td></tr><tr><td>| APU000074714 | 1976 |  M07   | 0.623 |           |</td></tr><tr><td>| APU000074714 | 1976 |  M06   | 0.616 |           |</td></tr><tr><td>| APU000074714 | 1976 |  M05   | 0.600 |           |</td></tr><tr><td>| APU000074714 | 1976 |  M04   | 0.592 |           |</td></tr><tr><td>| APU000074714 | 1976 |  M03   | 0.594 |           |</td></tr><tr><td>| APU000074714 | 1976 |  M02   | 0.600 |           |</td></tr><tr><td>| APU000074714 | 1976 |  M01   | 0.605 |           |</td></tr><tr><td>+--------------+------+--------+-------+-----------++--------------+------+--------+-------+-----------+</td></tr><tr><td>|  series id   | year | period | value | footnotes |</td></tr><tr><td>+--------------+------+--------+-------+-----------+</td></tr><tr><td>| APU000074714 | 1995 |  M12   | 1.101 |           |</td></tr><tr><td>| APU000074714 | 1995 |  M11   | 1.101 |           |</td></tr><tr><td>| APU000074714 | 1995 |  M10   | 1.127 |           |</td></tr><tr><td>| APU000074714 | 1995 |  M09   | 1.148 |           |</td></tr><tr><td>| APU000074714 | 1995 |  M08   | 1.164 |           |</td></tr><tr><td>| APU000074714 | 1995 |  M07   | 1.195 |           |</td></tr><tr><td>| APU000074714 | 1995 |  M06   | 1.226 |           |</td></tr><tr><td>| APU000074714 | 1995 |  M05   | 1.200 |           |</td></tr><tr><td>| APU000074714 | 1995 |  M04   | 1.140 |           |</td></tr><tr><td>| APU000074714 | 1995 |  M03   | 1.115 |           |</td></tr><tr><td>| APU000074714 | 1995 |  M02   | 1.120 |           |</td></tr><tr><td>| APU000074714 | 1995 |  M01   | 1.129 |           |</td></tr><tr><td>| APU000074714 | 1994 |  M12   | 1.143 |           |</td></tr><tr><td>| APU000074714 | 1994 |  M11   | 1.163 |           |</td></tr><tr><td>| APU000074714 | 1994 |  M10   | 1.152 |           |</td></tr><tr><td>| APU000074714 | 1994 |  M09   | 1.177 |           |</td></tr><tr><td>| APU000074714 | 1994 |  M08   | 1.182 |           |</td></tr><tr><td>| APU000074714 | 1994 |  M07   | 1.136 |           |</td></tr><tr><td>| APU000074714 | 1994 |  M06   | 1.106 |           |</td></tr><tr><td>| APU000074714 | 1994 |  M05   | 1.080 |           |</td></tr><tr><td>| APU000074714 | 1994 |  M04   | 1.064 |           |</td></tr><tr><td>| APU000074714 | 1994 |  M03   | 1.045 |           |</td></tr><tr><td>| APU000074714 | 1994 |  M02   | 1.051 |           |</td></tr><tr><td>| APU000074714 | 1994 |  M01   | 1.043 |           |</td></tr><tr><td>| APU000074714 | 1993 |  M12   | 1.070 |           |</td></tr><tr><td>| APU000074714 | 1993 |  M11   | 1.113 |           |</td></tr><tr><td>| APU000074714 | 1993 |  M10   | 1.127 |           |</td></tr><tr><td>| APU000074714 | 1993 |  M09   | 1.085 |           |</td></tr><tr><td>| APU000074714 | 1993 |  M08   | 1.097 |           |</td></tr><tr><td>| APU000074714 | 1993 |  M07   | 1.109 |           |</td></tr><tr><td>| APU000074714 | 1993 |  M06   | 1.130 |           |</td></tr><tr><td>| APU000074714 | 1993 |  M05   | 1.129 |           |</td></tr><tr><td>| APU000074714 | 1993 |  M04   | 1.112 |           |</td></tr><tr><td>| APU000074714 | 1993 |  M03   | 1.098 |           |</td></tr><tr><td>| APU000074714 | 1993 |  M02   | 1.108 |           |</td></tr><tr><td>| APU000074714 | 1993 |  M01   | 1.117 |           |</td></tr><tr><td>| APU000074714 | 1992 |  M12   | 1.136 |           |</td></tr><tr><td>| APU000074714 | 1992 |  M11   | 1.159 |           |</td></tr><tr><td>| APU000074714 | 1992 |  M10   | 1.154 |           |</td></tr><tr><td>| APU000074714 | 1992 |  M09   | 1.158 |           |</td></tr><tr><td>| APU000074714 | 1992 |  M08   | 1.158 |           |</td></tr><tr><td>| APU000074714 | 1992 |  M07   | 1.174 |           |</td></tr><tr><td>| APU000074714 | 1992 |  M06   | 1.179 |           |</td></tr><tr><td>| APU000074714 | 1992 |  M05   | 1.136 |           |</td></tr><tr><td>| APU000074714 | 1992 |  M04   | 1.079 |           |</td></tr><tr><td>| APU000074714 | 1992 |  M03   | 1.058 |           |</td></tr><tr><td>| APU000074714 | 1992 |  M02   | 1.054 |           |</td></tr><tr><td>| APU000074714 | 1992 |  M01   | 1.073 |           |</td></tr><tr><td>| APU000074714 | 1991 |  M12   | 1.123 |           |</td></tr><tr><td>| APU000074714 | 1991 |  M11   | 1.134 |           |</td></tr><tr><td>| APU000074714 | 1991 |  M10   | 1.122 |           |</td></tr><tr><td>| APU000074714 | 1991 |  M09   | 1.143 |           |</td></tr><tr><td>| APU000074714 | 1991 |  M08   | 1.140 |           |</td></tr><tr><td>| APU000074714 | 1991 |  M07   | 1.127 |           |</td></tr><tr><td>| APU000074714 | 1991 |  M06   | 1.160 |           |</td></tr><tr><td>| APU000074714 | 1991 |  M05   | 1.156 |           |</td></tr><tr><td>| APU000074714 | 1991 |  M04   | 1.104 |           |</td></tr><tr><td>| APU000074714 | 1991 |  M03   | 1.082 |           |</td></tr><tr><td>| APU000074714 | 1991 |  M02   | 1.143 |           |</td></tr><tr><td>| APU000074714 | 1991 |  M01   | 1.247 |           |</td></tr><tr><td>| APU000074714 | 1990 |  M12   | 1.354 |           |</td></tr><tr><td>| APU000074714 | 1990 |  M11   | 1.377 |           |</td></tr><tr><td>| APU000074714 | 1990 |  M10   | 1.378 |           |</td></tr><tr><td>| APU000074714 | 1990 |  M09   | 1.294 |           |</td></tr><tr><td>| APU000074714 | 1990 |  M08   | 1.190 |           |</td></tr><tr><td>| APU000074714 | 1990 |  M07   | 1.084 |           |</td></tr><tr><td>| APU000074714 | 1990 |  M06   | 1.088 |           |</td></tr><tr><td>| APU000074714 | 1990 |  M05   | 1.061 |           |</td></tr><tr><td>| APU000074714 | 1990 |  M04   | 1.044 |           |</td></tr><tr><td>| APU000074714 | 1990 |  M03   | 1.023 |           |</td></tr><tr><td>| APU000074714 | 1990 |  M02   | 1.037 |           |</td></tr><tr><td>| APU000074714 | 1990 |  M01   | 1.042 |           |</td></tr><tr><td>| APU000074714 | 1989 |  M12   | 0.980 |           |</td></tr><tr><td>| APU000074714 | 1989 |  M11   | 0.999 |           |</td></tr><tr><td>| APU000074714 | 1989 |  M10   | 1.027 |           |</td></tr><tr><td>| APU000074714 | 1989 |  M09   | 1.029 |           |</td></tr><tr><td>| APU000074714 | 1989 |  M08   | 1.057 |           |</td></tr><tr><td>| APU000074714 | 1989 |  M07   | 1.092 |           |</td></tr><tr><td>| APU000074714 | 1989 |  M06   | 1.114 |           |</td></tr><tr><td>| APU000074714 | 1989 |  M05   | 1.119 |           |</td></tr><tr><td>| APU000074714 | 1989 |  M04   | 1.065 |           |</td></tr><tr><td>| APU000074714 | 1989 |  M03   | 0.940 |           |</td></tr><tr><td>| APU000074714 | 1989 |  M02   | 0.926 |           |</td></tr><tr><td>| APU000074714 | 1989 |  M01   | 0.918 |           |</td></tr><tr><td>| APU000074714 | 1988 |  M12   | 0.930 |           |</td></tr><tr><td>| APU000074714 | 1988 |  M11   | 0.949 |           |</td></tr><tr><td>| APU000074714 | 1988 |  M10   | 0.957 |           |</td></tr><tr><td>| APU000074714 | 1988 |  M09   | 0.974 |           |</td></tr><tr><td>| APU000074714 | 1988 |  M08   | 0.987 |           |</td></tr><tr><td>| APU000074714 | 1988 |  M07   | 0.967 |           |</td></tr><tr><td>| APU000074714 | 1988 |  M06   | 0.955 |           |</td></tr><tr><td>| APU000074714 | 1988 |  M05   | 0.955 |           |</td></tr><tr><td>| APU000074714 | 1988 |  M04   | 0.930 |           |</td></tr><tr><td>| APU000074714 | 1988 |  M03   | 0.904 |           |</td></tr><tr><td>| APU000074714 | 1988 |  M02   | 0.913 |           |</td></tr><tr><td>| APU000074714 | 1988 |  M01   | 0.933 |           |</td></tr><tr><td>| APU000074714 | 1987 |  M12   | 0.961 |           |</td></tr><tr><td>| APU000074714 | 1987 |  M11   | 0.976 |           |</td></tr><tr><td>| APU000074714 | 1987 |  M10   | 0.976 |           |</td></tr><tr><td>| APU000074714 | 1987 |  M09   | 0.990 |           |</td></tr><tr><td>| APU000074714 | 1987 |  M08   | 0.995 |           |</td></tr><tr><td>| APU000074714 | 1987 |  M07   | 0.971 |           |</td></tr><tr><td>| APU000074714 | 1987 |  M06   | 0.958 |           |</td></tr><tr><td>| APU000074714 | 1987 |  M05   | 0.941 |           |</td></tr><tr><td>| APU000074714 | 1987 |  M04   | 0.934 |           |</td></tr><tr><td>| APU000074714 | 1987 |  M03   | 0.912 |           |</td></tr><tr><td>| APU000074714 | 1987 |  M02   | 0.905 |           |</td></tr><tr><td>| APU000074714 | 1987 |  M01   | 0.862 |           |</td></tr><tr><td>| APU000074714 | 1986 |  M12   | 0.823 |           |</td></tr><tr><td>| APU000074714 | 1986 |  M11   | 0.821 |           |</td></tr><tr><td>| APU000074714 | 1986 |  M10   | 0.831 |           |</td></tr><tr><td>| APU000074714 | 1986 |  M09   | 0.860 |           |</td></tr><tr><td>| APU000074714 | 1986 |  M08   | 0.843 |           |</td></tr><tr><td>| APU000074714 | 1986 |  M07   | 0.890 |           |</td></tr><tr><td>| APU000074714 | 1986 |  M06   | 0.955 |           |</td></tr><tr><td>| APU000074714 | 1986 |  M05   | 0.923 |           |</td></tr><tr><td>| APU000074714 | 1986 |  M04   | 0.888 |           |</td></tr><tr><td>| APU000074714 | 1986 |  M03   | 0.981 |           |</td></tr><tr><td>| APU000074714 | 1986 |  M02   | 1.120 |           |</td></tr><tr><td>| APU000074714 | 1986 |  M01   | 1.194 |           |</td></tr><tr><td>+--------------+------+--------+-------+-----------++--------------+------+--------+-------+-----------+</td></tr><tr><td>|  series id   | year | period | value | footnotes |</td></tr><tr><td>+--------------+------+--------+-------+-----------+</td></tr><tr><td>| APU000074714 | 2005 |  M12   | 2.186 |           |</td></tr><tr><td>| APU000074714 | 2005 |  M11   | 2.343 |           |</td></tr><tr><td>| APU000074714 | 2005 |  M10   | 2.785 |           |</td></tr><tr><td>| APU000074714 | 2005 |  M09   | 2.927 |           |</td></tr><tr><td>| APU000074714 | 2005 |  M08   | 2.506 |           |</td></tr><tr><td>| APU000074714 | 2005 |  M07   | 2.316 |           |</td></tr><tr><td>| APU000074714 | 2005 |  M06   | 2.176 |           |</td></tr><tr><td>| APU000074714 | 2005 |  M05   | 2.216 |           |</td></tr><tr><td>| APU000074714 | 2005 |  M04   | 2.283 |           |</td></tr><tr><td>| APU000074714 | 2005 |  M03   | 2.065 |           |</td></tr><tr><td>| APU000074714 | 2005 |  M02   | 1.918 |           |</td></tr><tr><td>| APU000074714 | 2005 |  M01   | 1.823 |           |</td></tr><tr><td>| APU000074714 | 2004 |  M12   | 1.882 |           |</td></tr><tr><td>| APU000074714 | 2004 |  M11   | 2.010 |           |</td></tr><tr><td>| APU000074714 | 2004 |  M10   | 2.029 |           |</td></tr><tr><td>| APU000074714 | 2004 |  M09   | 1.891 |           |</td></tr><tr><td>| APU000074714 | 2004 |  M08   | 1.898 |           |</td></tr><tr><td>| APU000074714 | 2004 |  M07   | 1.939 |           |</td></tr><tr><td>| APU000074714 | 2004 |  M06   | 2.041 |           |</td></tr><tr><td>| APU000074714 | 2004 |  M05   | 2.009 |           |</td></tr><tr><td>| APU000074714 | 2004 |  M04   | 1.833 |           |</td></tr><tr><td>| APU000074714 | 2004 |  M03   | 1.766 |           |</td></tr><tr><td>| APU000074714 | 2004 |  M02   | 1.672 |           |</td></tr><tr><td>| APU000074714 | 2004 |  M01   | 1.592 |           |</td></tr><tr><td>| APU000074714 | 2003 |  M12   | 1.494 |           |</td></tr><tr><td>| APU000074714 | 2003 |  M11   | 1.535 |           |</td></tr><tr><td>| APU000074714 | 2003 |  M10   | 1.603 |           |</td></tr><tr><td>| APU000074714 | 2003 |  M09   | 1.728 |           |</td></tr><tr><td>| APU000074714 | 2003 |  M08   | 1.628 |           |</td></tr><tr><td>| APU000074714 | 2003 |  M07   | 1.524 |           |</td></tr><tr><td>| APU000074714 | 2003 |  M06   | 1.514 |           |</td></tr><tr><td>| APU000074714 | 2003 |  M05   | 1.542 |           |</td></tr><tr><td>| APU000074714 | 2003 |  M04   | 1.659 |           |</td></tr><tr><td>| APU000074714 | 2003 |  M03   | 1.748 |           |</td></tr><tr><td>| APU000074714 | 2003 |  M02   | 1.641 |           |</td></tr><tr><td>| APU000074714 | 2003 |  M01   | 1.473 |           |</td></tr><tr><td>| APU000074714 | 2002 |  M12   | 1.394 |           |</td></tr><tr><td>| APU000074714 | 2002 |  M11   | 1.448 |           |</td></tr><tr><td>| APU000074714 | 2002 |  M10   | 1.449 |           |</td></tr><tr><td>| APU000074714 | 2002 |  M09   | 1.422 |           |</td></tr><tr><td>| APU000074714 | 2002 |  M08   | 1.423 |           |</td></tr><tr><td>| APU000074714 | 2002 |  M07   | 1.412 |           |</td></tr><tr><td>| APU000074714 | 2002 |  M06   | 1.404 |           |</td></tr><tr><td>| APU000074714 | 2002 |  M05   | 1.421 |           |</td></tr><tr><td>| APU000074714 | 2002 |  M04   | 1.407 |           |</td></tr><tr><td>| APU000074714 | 2002 |  M03   | 1.241 |           |</td></tr><tr><td>| APU000074714 | 2002 |  M02   | 1.130 |           |</td></tr><tr><td>| APU000074714 | 2002 |  M01   | 1.139 |           |</td></tr><tr><td>| APU000074714 | 2001 |  M12   | 1.131 |           |</td></tr><tr><td>| APU000074714 | 2001 |  M11   | 1.263 |           |</td></tr><tr><td>| APU000074714 | 2001 |  M10   | 1.362 |           |</td></tr><tr><td>| APU000074714 | 2001 |  M09   | 1.531 |           |</td></tr><tr><td>| APU000074714 | 2001 |  M08   | 1.427 |           |</td></tr><tr><td>| APU000074714 | 2001 |  M07   | 1.482 |           |</td></tr><tr><td>| APU000074714 | 2001 |  M06   | 1.640 |           |</td></tr><tr><td>| APU000074714 | 2001 |  M05   | 1.729 |           |</td></tr><tr><td>| APU000074714 | 2001 |  M04   | 1.564 |           |</td></tr><tr><td>| APU000074714 | 2001 |  M03   | 1.447 |           |</td></tr><tr><td>| APU000074714 | 2001 |  M02   | 1.484 |           |</td></tr><tr><td>| APU000074714 | 2001 |  M01   | 1.472 |           |</td></tr><tr><td>| APU000074714 | 2000 |  M12   | 1.489 |           |</td></tr><tr><td>| APU000074714 | 2000 |  M11   | 1.555 |           |</td></tr><tr><td>| APU000074714 | 2000 |  M10   | 1.559 |           |</td></tr><tr><td>| APU000074714 | 2000 |  M09   | 1.582 |           |</td></tr><tr><td>| APU000074714 | 2000 |  M08   | 1.510 |           |</td></tr><tr><td>| APU000074714 | 2000 |  M07   | 1.593 |           |</td></tr><tr><td>| APU000074714 | 2000 |  M06   | 1.617 |           |</td></tr><tr><td>| APU000074714 | 2000 |  M05   | 1.498 |           |</td></tr><tr><td>| APU000074714 | 2000 |  M04   | 1.506 |           |</td></tr><tr><td>| APU000074714 | 2000 |  M03   | 1.541 |           |</td></tr><tr><td>| APU000074714 | 2000 |  M02   | 1.369 |           |</td></tr><tr><td>| APU000074714 | 2000 |  M01   | 1.301 |           |</td></tr><tr><td>| APU000074714 | 1999 |  M12   | 1.298 |           |</td></tr><tr><td>| APU000074714 | 1999 |  M11   | 1.264 |           |</td></tr><tr><td>| APU000074714 | 1999 |  M10   | 1.274 |           |</td></tr><tr><td>| APU000074714 | 1999 |  M09   | 1.280 |           |</td></tr><tr><td>| APU000074714 | 1999 |  M08   | 1.255 |           |</td></tr><tr><td>| APU000074714 | 1999 |  M07   | 1.189 |           |</td></tr><tr><td>| APU000074714 | 1999 |  M06   | 1.148 |           |</td></tr><tr><td>| APU000074714 | 1999 |  M05   | 1.178 |           |</td></tr><tr><td>| APU000074714 | 1999 |  M04   | 1.177 |           |</td></tr><tr><td>| APU000074714 | 1999 |  M03   | 0.991 |           |</td></tr><tr><td>| APU000074714 | 1999 |  M02   | 0.955 |           |</td></tr><tr><td>| APU000074714 | 1999 |  M01   | 0.972 |           |</td></tr><tr><td>| APU000074714 | 1998 |  M12   | 0.986 |           |</td></tr><tr><td>| APU000074714 | 1998 |  M11   | 1.028 |           |</td></tr><tr><td>| APU000074714 | 1998 |  M10   | 1.042 |           |</td></tr><tr><td>| APU000074714 | 1998 |  M09   | 1.033 |           |</td></tr><tr><td>| APU000074714 | 1998 |  M08   | 1.052 |           |</td></tr><tr><td>| APU000074714 | 1998 |  M07   | 1.079 |           |</td></tr><tr><td>| APU000074714 | 1998 |  M06   | 1.094 |           |</td></tr><tr><td>| APU000074714 | 1998 |  M05   | 1.092 |           |</td></tr><tr><td>| APU000074714 | 1998 |  M04   | 1.052 |           |</td></tr><tr><td>| APU000074714 | 1998 |  M03   | 1.041 |           |</td></tr><tr><td>| APU000074714 | 1998 |  M02   | 1.082 |           |</td></tr><tr><td>| APU000074714 | 1998 |  M01   | 1.131 |           |</td></tr><tr><td>| APU000074714 | 1997 |  M12   | 1.177 |           |</td></tr><tr><td>| APU000074714 | 1997 |  M11   | 1.213 |           |</td></tr><tr><td>| APU000074714 | 1997 |  M10   | 1.242 |           |</td></tr><tr><td>| APU000074714 | 1997 |  M09   | 1.277 |           |</td></tr><tr><td>| APU000074714 | 1997 |  M08   | 1.253 |           |</td></tr><tr><td>| APU000074714 | 1997 |  M07   | 1.205 |           |</td></tr><tr><td>| APU000074714 | 1997 |  M06   | 1.229 |           |</td></tr><tr><td>| APU000074714 | 1997 |  M05   | 1.226 |           |</td></tr><tr><td>| APU000074714 | 1997 |  M04   | 1.231 |           |</td></tr><tr><td>| APU000074714 | 1997 |  M03   | 1.235 |           |</td></tr><tr><td>| APU000074714 | 1997 |  M02   | 1.255 |           |</td></tr><tr><td>| APU000074714 | 1997 |  M01   | 1.261 |           |</td></tr><tr><td>| APU000074714 | 1996 |  M12   | 1.260 |           |</td></tr><tr><td>| APU000074714 | 1996 |  M11   | 1.250 |           |</td></tr><tr><td>| APU000074714 | 1996 |  M10   | 1.227 |           |</td></tr><tr><td>| APU000074714 | 1996 |  M09   | 1.234 |           |</td></tr><tr><td>| APU000074714 | 1996 |  M08   | 1.240 |           |</td></tr><tr><td>| APU000074714 | 1996 |  M07   | 1.272 |           |</td></tr><tr><td>| APU000074714 | 1996 |  M06   | 1.299 |           |</td></tr><tr><td>| APU000074714 | 1996 |  M05   | 1.323 |           |</td></tr><tr><td>| APU000074714 | 1996 |  M04   | 1.251 |           |</td></tr><tr><td>| APU000074714 | 1996 |  M03   | 1.162 |           |</td></tr><tr><td>| APU000074714 | 1996 |  M02   | 1.124 |           |</td></tr><tr><td>| APU000074714 | 1996 |  M01   | 1.129 |           |</td></tr><tr><td>+--------------+------+--------+-------+-----------++--------------+------+--------+-------+-----------+</td></tr><tr><td>|  series id   | year | period | value | footnotes |</td></tr><tr><td>+--------------+------+--------+-------+-----------+</td></tr><tr><td>| APU000074714 | 2015 |  M12   | 2.060 |           |</td></tr><tr><td>| APU000074714 | 2015 |  M11   | 2.185 |           |</td></tr><tr><td>| APU000074714 | 2015 |  M10   | 2.289 |           |</td></tr><tr><td>| APU000074714 | 2015 |  M09   | 2.394 |           |</td></tr><tr><td>| APU000074714 | 2015 |  M08   | 2.679 |           |</td></tr><tr><td>| APU000074714 | 2015 |  M07   | 2.832 |           |</td></tr><tr><td>| APU000074714 | 2015 |  M06   | 2.832 |           |</td></tr><tr><td>| APU000074714 | 2015 |  M05   | 2.775 |           |</td></tr><tr><td>| APU000074714 | 2015 |  M04   | 2.485 |           |</td></tr><tr><td>| APU000074714 | 2015 |  M03   | 2.483 |           |</td></tr><tr><td>| APU000074714 | 2015 |  M02   | 2.249 |           |</td></tr><tr><td>| APU000074714 | 2015 |  M01   | 2.110 |           |</td></tr><tr><td>| APU000074714 | 2014 |  M12   | 2.560 |           |</td></tr><tr><td>| APU000074714 | 2014 |  M11   | 2.887 |           |</td></tr><tr><td>| APU000074714 | 2014 |  M10   | 3.182 |           |</td></tr><tr><td>| APU000074714 | 2014 |  M09   | 3.403 |           |</td></tr><tr><td>| APU000074714 | 2014 |  M08   | 3.481 |           |</td></tr><tr><td>| APU000074714 | 2014 |  M07   | 3.633 |           |</td></tr><tr><td>| APU000074714 | 2014 |  M06   | 3.695 |           |</td></tr><tr><td>| APU000074714 | 2014 |  M05   | 3.691 |           |</td></tr><tr><td>| APU000074714 | 2014 |  M04   | 3.659 |           |</td></tr><tr><td>| APU000074714 | 2014 |  M03   | 3.532 |           |</td></tr><tr><td>| APU000074714 | 2014 |  M02   | 3.364 |           |</td></tr><tr><td>| APU000074714 | 2014 |  M01   | 3.320 |           |</td></tr><tr><td>| APU000074714 | 2013 |  M12   | 3.277 |           |</td></tr><tr><td>| APU000074714 | 2013 |  M11   | 3.251 |           |</td></tr><tr><td>| APU000074714 | 2013 |  M10   | 3.375 |           |</td></tr><tr><td>| APU000074714 | 2013 |  M09   | 3.556 |           |</td></tr><tr><td>| APU000074714 | 2013 |  M08   | 3.600 |           |</td></tr><tr><td>| APU000074714 | 2013 |  M07   | 3.628 |           |</td></tr><tr><td>| APU000074714 | 2013 |  M06   | 3.633 |           |</td></tr><tr><td>| APU000074714 | 2013 |  M05   | 3.623 |           |</td></tr><tr><td>| APU000074714 | 2013 |  M04   | 3.590 |           |</td></tr><tr><td>| APU000074714 | 2013 |  M03   | 3.735 |           |</td></tr><tr><td>| APU000074714 | 2013 |  M02   | 3.693 |           |</td></tr><tr><td>| APU000074714 | 2013 |  M01   | 3.351 |           |</td></tr><tr><td>| APU000074714 | 2012 |  M12   | 3.331 |           |</td></tr><tr><td>| APU000074714 | 2012 |  M11   | 3.488 |           |</td></tr><tr><td>| APU000074714 | 2012 |  M10   | 3.786 |           |</td></tr><tr><td>| APU000074714 | 2012 |  M09   | 3.856 |           |</td></tr><tr><td>| APU000074714 | 2012 |  M08   | 3.707 |           |</td></tr><tr><td>| APU000074714 | 2012 |  M07   | 3.451 |           |</td></tr><tr><td>| APU000074714 | 2012 |  M06   | 3.552 |           |</td></tr><tr><td>| APU000074714 | 2012 |  M05   | 3.792 |           |</td></tr><tr><td>| APU000074714 | 2012 |  M04   | 3.927 |           |</td></tr><tr><td>| APU000074714 | 2012 |  M03   | 3.868 |           |</td></tr><tr><td>| APU000074714 | 2012 |  M02   | 3.572 |           |</td></tr><tr><td>| APU000074714 | 2012 |  M01   | 3.399 |           |</td></tr><tr><td>| APU000074714 | 2011 |  M12   | 3.278 |           |</td></tr><tr><td>| APU000074714 | 2011 |  M11   | 3.423 |           |</td></tr><tr><td>| APU000074714 | 2011 |  M10   | 3.468 |           |</td></tr><tr><td>| APU000074714 | 2011 |  M09   | 3.612 |           |</td></tr><tr><td>| APU000074714 | 2011 |  M08   | 3.630 |           |</td></tr><tr><td>| APU000074714 | 2011 |  M07   | 3.654 |           |</td></tr><tr><td>| APU000074714 | 2011 |  M06   | 3.702 |           |</td></tr><tr><td>| APU000074714 | 2011 |  M05   | 3.933 |           |</td></tr><tr><td>| APU000074714 | 2011 |  M04   | 3.816 |           |</td></tr><tr><td>| APU000074714 | 2011 |  M03   | 3.546 |           |</td></tr><tr><td>| APU000074714 | 2011 |  M02   | 3.167 |           |</td></tr><tr><td>| APU000074714 | 2011 |  M01   | 3.091 |           |</td></tr><tr><td>| APU000074714 | 2010 |  M12   | 2.985 |           |</td></tr><tr><td>| APU000074714 | 2010 |  M11   | 2.852 |           |</td></tr><tr><td>| APU000074714 | 2010 |  M10   | 2.795 |           |</td></tr><tr><td>| APU000074714 | 2010 |  M09   | 2.704 |           |</td></tr><tr><td>| APU000074714 | 2010 |  M08   | 2.745 |           |</td></tr><tr><td>| APU000074714 | 2010 |  M07   | 2.736 |           |</td></tr><tr><td>| APU000074714 | 2010 |  M06   | 2.736 |           |</td></tr><tr><td>| APU000074714 | 2010 |  M05   | 2.869 |           |</td></tr><tr><td>| APU000074714 | 2010 |  M04   | 2.858 |           |</td></tr><tr><td>| APU000074714 | 2010 |  M03   | 2.780 |           |</td></tr><tr><td>| APU000074714 | 2010 |  M02   | 2.659 |           |</td></tr><tr><td>| APU000074714 | 2010 |  M01   | 2.731 |           |</td></tr><tr><td>| APU000074714 | 2009 |  M12   | 2.621 |           |</td></tr><tr><td>| APU000074714 | 2009 |  M11   | 2.660 |           |</td></tr><tr><td>| APU000074714 | 2009 |  M10   | 2.561 |           |</td></tr><tr><td>| APU000074714 | 2009 |  M09   | 2.574 |           |</td></tr><tr><td>| APU000074714 | 2009 |  M08   | 2.627 |           |</td></tr><tr><td>| APU000074714 | 2009 |  M07   | 2.543 |           |</td></tr><tr><td>| APU000074714 | 2009 |  M06   | 2.631 |           |</td></tr><tr><td>| APU000074714 | 2009 |  M05   | 2.265 |           |</td></tr><tr><td>| APU000074714 | 2009 |  M04   | 2.056 |           |</td></tr><tr><td>| APU000074714 | 2009 |  M03   | 1.949 |           |</td></tr><tr><td>| APU000074714 | 2009 |  M02   | 1.928 |           |</td></tr><tr><td>| APU000074714 | 2009 |  M01   | 1.787 |           |</td></tr><tr><td>| APU000074714 | 2008 |  M12   | 1.689 |           |</td></tr><tr><td>| APU000074714 | 2008 |  M11   | 2.151 |           |</td></tr><tr><td>| APU000074714 | 2008 |  M10   | 3.173 |           |</td></tr><tr><td>| APU000074714 | 2008 |  M09   | 3.698 |           |</td></tr><tr><td>| APU000074714 | 2008 |  M08   | 3.786 |           |</td></tr><tr><td>| APU000074714 | 2008 |  M07   | 4.090 |           |</td></tr><tr><td>| APU000074714 | 2008 |  M06   | 4.065 |           |</td></tr><tr><td>| APU000074714 | 2008 |  M05   | 3.764 |           |</td></tr><tr><td>| APU000074714 | 2008 |  M04   | 3.441 |           |</td></tr><tr><td>| APU000074714 | 2008 |  M03   | 3.258 |           |</td></tr><tr><td>| APU000074714 | 2008 |  M02   | 3.033 |           |</td></tr><tr><td>| APU000074714 | 2008 |  M01   | 3.047 |           |</td></tr><tr><td>| APU000074714 | 2007 |  M12   | 3.020 |           |</td></tr><tr><td>| APU000074714 | 2007 |  M11   | 3.069 |           |</td></tr><tr><td>| APU000074714 | 2007 |  M10   | 2.793 |           |</td></tr><tr><td>| APU000074714 | 2007 |  M09   | 2.789 |           |</td></tr><tr><td>| APU000074714 | 2007 |  M08   | 2.782 |           |</td></tr><tr><td>| APU000074714 | 2007 |  M07   | 2.961 |           |</td></tr><tr><td>| APU000074714 | 2007 |  M06   | 3.052 |           |</td></tr><tr><td>| APU000074714 | 2007 |  M05   | 3.130 |           |</td></tr><tr><td>| APU000074714 | 2007 |  M04   | 2.860 |           |</td></tr><tr><td>| APU000074714 | 2007 |  M03   | 2.592 |           |</td></tr><tr><td>| APU000074714 | 2007 |  M02   | 2.285 |           |</td></tr><tr><td>| APU000074714 | 2007 |  M01   | 2.274 |           |</td></tr><tr><td>| APU000074714 | 2006 |  M12   | 2.334 |           |</td></tr><tr><td>| APU000074714 | 2006 |  M11   | 2.241 |           |</td></tr><tr><td>| APU000074714 | 2006 |  M10   | 2.272 |           |</td></tr><tr><td>| APU000074714 | 2006 |  M09   | 2.589 |           |</td></tr><tr><td>| APU000074714 | 2006 |  M08   | 2.985 |           |</td></tr><tr><td>| APU000074714 | 2006 |  M07   | 2.999 |           |</td></tr><tr><td>| APU000074714 | 2006 |  M06   | 2.917 |           |</td></tr><tr><td>| APU000074714 | 2006 |  M05   | 2.947 |           |</td></tr><tr><td>| APU000074714 | 2006 |  M04   | 2.757 |           |</td></tr><tr><td>| APU000074714 | 2006 |  M03   | 2.401 |           |</td></tr><tr><td>| APU000074714 | 2006 |  M02   | 2.310 |           |</td></tr><tr><td>| APU000074714 | 2006 |  M01   | 2.315 |           |</td></tr><tr><td>+--------------+------+--------+-------+-----------++--------------+------+--------+-------+-----------+</td></tr><tr><td>|  series id   | year | period | value | footnotes |</td></tr><tr><td>+--------------+------+--------+-------+-----------+</td></tr><tr><td>| APU000074714 | 2023 |  M11   | 3.500 |           |</td></tr><tr><td>| APU000074714 | 2023 |  M10   | 3.782 |           |</td></tr><tr><td>| APU000074714 | 2023 |  M09   | 3.988 |           |</td></tr><tr><td>| APU000074714 | 2023 |  M08   | 3.955 |           |</td></tr><tr><td>| APU000074714 | 2023 |  M07   | 3.732 |           |</td></tr><tr><td>| APU000074714 | 2023 |  M06   | 3.712 |           |</td></tr><tr><td>| APU000074714 | 2023 |  M05   | 3.685 |           |</td></tr><tr><td>| APU000074714 | 2023 |  M04   | 3.735 |           |</td></tr><tr><td>| APU000074714 | 2023 |  M03   | 3.551 |           |</td></tr><tr><td>| APU000074714 | 2023 |  M02   | 3.514 |           |</td></tr><tr><td>| APU000074714 | 2023 |  M01   | 3.452 |           |</td></tr><tr><td>| APU000074714 | 2022 |  M12   | 3.356 |           |</td></tr><tr><td>| APU000074714 | 2022 |  M11   | 3.853 |           |</td></tr><tr><td>| APU000074714 | 2022 |  M10   | 4.016 |           |</td></tr><tr><td>| APU000074714 | 2022 |  M09   | 3.881 |           |</td></tr><tr><td>| APU000074714 | 2022 |  M08   | 4.101 |           |</td></tr><tr><td>| APU000074714 | 2022 |  M07   | 4.667 |           |</td></tr><tr><td>| APU000074714 | 2022 |  M06   | 5.058 |           |</td></tr><tr><td>| APU000074714 | 2022 |  M05   | 4.604 |           |</td></tr><tr><td>| APU000074714 | 2022 |  M04   | 4.271 |           |</td></tr><tr><td>| APU000074714 | 2022 |  M03   | 4.312 |           |</td></tr><tr><td>| APU000074714 | 2022 |  M02   | 3.592 |           |</td></tr><tr><td>| APU000074714 | 2022 |  M01   | 3.413 |           |</td></tr><tr><td>| APU000074714 | 2021 |  M12   | 3.408 |           |</td></tr><tr><td>| APU000074714 | 2021 |  M11   | 3.482 |           |</td></tr><tr><td>| APU000074714 | 2021 |  M10   | 3.385 |           |</td></tr><tr><td>| APU000074714 | 2021 |  M09   | 3.265 |           |</td></tr><tr><td>| APU000074714 | 2021 |  M08   | 3.255 |           |</td></tr><tr><td>| APU000074714 | 2021 |  M07   | 3.233 |           |</td></tr><tr><td>| APU000074714 | 2021 |  M06   | 3.154 |           |</td></tr><tr><td>| APU000074714 | 2021 |  M05   | 2.972 |           |</td></tr><tr><td>| APU000074714 | 2021 |  M04   | 2.839 |           |</td></tr><tr><td>| APU000074714 | 2021 |  M03   | 2.791 |           |</td></tr><tr><td>| APU000074714 | 2021 |  M02   | 2.496 |           |</td></tr><tr><td>| APU000074714 | 2021 |  M01   | 2.326 |           |</td></tr><tr><td>| APU000074714 | 2020 |  M12   | 2.168 |           |</td></tr><tr><td>| APU000074714 | 2020 |  M11   | 2.090 |           |</td></tr><tr><td>| APU000074714 | 2020 |  M10   | 2.159 |           |</td></tr><tr><td>| APU000074714 | 2020 |  M09   | 2.193 |           |</td></tr><tr><td>| APU000074714 | 2020 |  M08   | 2.177 |           |</td></tr><tr><td>| APU000074714 | 2020 |  M07   | 2.176 |           |</td></tr><tr><td>| APU000074714 | 2020 |  M06   | 2.076 |           |</td></tr><tr><td>| APU000074714 | 2020 |  M05   | 1.879 |           |</td></tr><tr><td>| APU000074714 | 2020 |  M04   | 1.876 |           |</td></tr><tr><td>| APU000074714 | 2020 |  M03   | 2.267 |           |</td></tr><tr><td>| APU000074714 | 2020 |  M02   | 2.465 |           |</td></tr><tr><td>| APU000074714 | 2020 |  M01   | 2.567 |           |</td></tr><tr><td>| APU000074714 | 2019 |  M12   | 2.587 |           |</td></tr><tr><td>| APU000074714 | 2019 |  M11   | 2.620 |           |</td></tr><tr><td>| APU000074714 | 2019 |  M10   | 2.673 |           |</td></tr><tr><td>| APU000074714 | 2019 |  M09   | 2.630 |           |</td></tr><tr><td>| APU000074714 | 2019 |  M08   | 2.655 |           |</td></tr><tr><td>| APU000074714 | 2019 |  M07   | 2.776 |           |</td></tr><tr><td>| APU000074714 | 2019 |  M06   | 2.752 |           |</td></tr><tr><td>| APU000074714 | 2019 |  M05   | 2.901 |           |</td></tr><tr><td>| APU000074714 | 2019 |  M04   | 2.835 |           |</td></tr><tr><td>| APU000074714 | 2019 |  M03   | 2.564 |           |</td></tr><tr><td>| APU000074714 | 2019 |  M02   | 2.353 |           |</td></tr><tr><td>| APU000074714 | 2019 |  M01   | 2.289 |           |</td></tr><tr><td>| APU000074714 | 2018 |  M12   | 2.414 |           |</td></tr><tr><td>| APU000074714 | 2018 |  M11   | 2.671 |           |</td></tr><tr><td>| APU000074714 | 2018 |  M10   | 2.887 |           |</td></tr><tr><td>| APU000074714 | 2018 |  M09   | 2.873 |           |</td></tr><tr><td>| APU000074714 | 2018 |  M08   | 2.862 |           |</td></tr><tr><td>| APU000074714 | 2018 |  M07   | 2.873 |           |</td></tr><tr><td>| APU000074714 | 2018 |  M06   | 2.914 |           |</td></tr><tr><td>| APU000074714 | 2018 |  M05   | 2.907 |           |</td></tr><tr><td>| APU000074714 | 2018 |  M04   | 2.737 |           |</td></tr><tr><td>| APU000074714 | 2018 |  M03   | 2.572 |           |</td></tr><tr><td>| APU000074714 | 2018 |  M02   | 2.575 |           |</td></tr><tr><td>| APU000074714 | 2018 |  M01   | 2.539 |           |</td></tr><tr><td>| APU000074714 | 2017 |  M12   | 2.459 |           |</td></tr><tr><td>| APU000074714 | 2017 |  M11   | 2.548 |           |</td></tr><tr><td>| APU000074714 | 2017 |  M10   | 2.484 |           |</td></tr><tr><td>| APU000074714 | 2017 |  M09   | 2.630 |           |</td></tr><tr><td>| APU000074714 | 2017 |  M08   | 2.374 |           |</td></tr><tr><td>| APU000074714 | 2017 |  M07   | 2.281 |           |</td></tr><tr><td>| APU000074714 | 2017 |  M06   | 2.337 |           |</td></tr><tr><td>| APU000074714 | 2017 |  M05   | 2.386 |           |</td></tr><tr><td>| APU000074714 | 2017 |  M04   | 2.418 |           |</td></tr><tr><td>| APU000074714 | 2017 |  M03   | 2.323 |           |</td></tr><tr><td>| APU000074714 | 2017 |  M02   | 2.299 |           |</td></tr><tr><td>| APU000074714 | 2017 |  M01   | 2.351 |           |</td></tr><tr><td>| APU000074714 | 2016 |  M12   | 2.230 |           |</td></tr><tr><td>| APU000074714 | 2016 |  M11   | 2.187 |           |</td></tr><tr><td>| APU000074714 | 2016 |  M10   | 2.243 |           |</td></tr><tr><td>| APU000074714 | 2016 |  M09   | 2.208 |           |</td></tr><tr><td>| APU000074714 | 2016 |  M08   | 2.155 |           |</td></tr><tr><td>| APU000074714 | 2016 |  M07   | 2.225 |           |</td></tr><tr><td>| APU000074714 | 2016 |  M06   | 2.363 |           |</td></tr><tr><td>| APU000074714 | 2016 |  M05   | 2.264 |           |</td></tr><tr><td>| APU000074714 | 2016 |  M04   | 2.134 |           |</td></tr><tr><td>| APU000074714 | 2016 |  M03   | 1.958 |           |</td></tr><tr><td>| APU000074714 | 2016 |  M02   | 1.767 |           |</td></tr><tr><td>| APU000074714 | 2016 |  M01   | 1.967 |           |</td></tr><tr><td>+--------------+------+--------+-------+-----------+</td></tr></tbody></table></div>"
      ]
     },
     "metadata": {
      "application/vnd.databricks.v1+output": {
       "addedWidgets": {},
       "aggData": [],
       "aggError": "",
       "aggOverflow": false,
       "aggSchema": [],
       "aggSeriesLimitReached": false,
       "aggType": "",
       "arguments": {},
       "columnCustomDisplayInfos": {},
       "data": [
        [
         "+--------------+------+--------+-------+-----------+"
        ],
        [
         "|  series id   | year | period | value | footnotes |"
        ],
        [
         "+--------------+------+--------+-------+-----------+"
        ],
        [
         "| APU000074714 | 1985 |  M12   | 1.208 |           |"
        ],
        [
         "| APU000074714 | 1985 |  M11   | 1.207 |           |"
        ],
        [
         "| APU000074714 | 1985 |  M10   | 1.204 |           |"
        ],
        [
         "| APU000074714 | 1985 |  M09   | 1.216 |           |"
        ],
        [
         "| APU000074714 | 1985 |  M08   | 1.229 |           |"
        ],
        [
         "| APU000074714 | 1985 |  M07   | 1.242 |           |"
        ],
        [
         "| APU000074714 | 1985 |  M06   | 1.241 |           |"
        ],
        [
         "| APU000074714 | 1985 |  M05   | 1.231 |           |"
        ],
        [
         "| APU000074714 | 1985 |  M04   | 1.205 |           |"
        ],
        [
         "| APU000074714 | 1985 |  M03   | 1.159 |           |"
        ],
        [
         "| APU000074714 | 1985 |  M02   | 1.131 |           |"
        ],
        [
         "| APU000074714 | 1985 |  M01   | 1.148 |           |"
        ],
        [
         "| APU000074714 | 1984 |  M12   | 1.193 |           |"
        ],
        [
         "| APU000074714 | 1984 |  M11   | 1.207 |           |"
        ],
        [
         "| APU000074714 | 1984 |  M10   | 1.209 |           |"
        ],
        [
         "| APU000074714 | 1984 |  M09   | 1.203 |           |"
        ],
        [
         "| APU000074714 | 1984 |  M08   | 1.196 |           |"
        ],
        [
         "| APU000074714 | 1984 |  M07   | 1.212 |           |"
        ],
        [
         "| APU000074714 | 1984 |  M06   | 1.229 |           |"
        ],
        [
         "| APU000074714 | 1984 |  M05   | 1.236 |           |"
        ],
        [
         "| APU000074714 | 1984 |  M04   | 1.227 |           |"
        ],
        [
         "| APU000074714 | 1984 |  M03   | 1.210 |           |"
        ],
        [
         "| APU000074714 | 1984 |  M02   | 1.209 |           |"
        ],
        [
         "| APU000074714 | 1984 |  M01   | 1.216 |           |"
        ],
        [
         "| APU000074714 | 1983 |  M12   | 1.231 |           |"
        ],
        [
         "| APU000074714 | 1983 |  M11   | 1.241 |           |"
        ],
        [
         "| APU000074714 | 1983 |  M10   | 1.255 |           |"
        ],
        [
         "| APU000074714 | 1983 |  M09   | 1.274 |           |"
        ],
        [
         "| APU000074714 | 1983 |  M08   | 1.285 |           |"
        ],
        [
         "| APU000074714 | 1983 |  M07   | 1.288 |           |"
        ],
        [
         "| APU000074714 | 1983 |  M06   | 1.277 |           |"
        ],
        [
         "| APU000074714 | 1983 |  M05   | 1.259 |           |"
        ],
        [
         "| APU000074714 | 1983 |  M04   | 1.215 |           |"
        ],
        [
         "| APU000074714 | 1983 |  M03   | 1.152 |           |"
        ],
        [
         "| APU000074714 | 1983 |  M02   | 1.187 |           |"
        ],
        [
         "| APU000074714 | 1983 |  M01   | 1.230 |           |"
        ],
        [
         "| APU000074714 | 1982 |  M12   | 1.260 |           |"
        ],
        [
         "| APU000074714 | 1982 |  M11   | 1.283 |           |"
        ],
        [
         "| APU000074714 | 1982 |  M10   | 1.295 |           |"
        ],
        [
         "| APU000074714 | 1982 |  M09   | 1.307 |           |"
        ],
        [
         "| APU000074714 | 1982 |  M08   | 1.323 |           |"
        ],
        [
         "| APU000074714 | 1982 |  M07   | 1.331 |           |"
        ],
        [
         "| APU000074714 | 1982 |  M06   | 1.309 |           |"
        ],
        [
         "| APU000074714 | 1982 |  M05   | 1.237 |           |"
        ],
        [
         "| APU000074714 | 1982 |  M04   | 1.225 |           |"
        ],
        [
         "| APU000074714 | 1982 |  M03   | 1.284 |           |"
        ],
        [
         "| APU000074714 | 1982 |  M02   | 1.334 |           |"
        ],
        [
         "| APU000074714 | 1982 |  M01   | 1.358 |           |"
        ],
        [
         "| APU000074714 | 1981 |  M12   | 1.365 |           |"
        ],
        [
         "| APU000074714 | 1981 |  M11   | 1.369 |           |"
        ],
        [
         "| APU000074714 | 1981 |  M10   | 1.371 |           |"
        ],
        [
         "| APU000074714 | 1981 |  M09   | 1.376 |           |"
        ],
        [
         "| APU000074714 | 1981 |  M08   | 1.376 |           |"
        ],
        [
         "| APU000074714 | 1981 |  M07   | 1.382 |           |"
        ],
        [
         "| APU000074714 | 1981 |  M06   | 1.391 |           |"
        ],
        [
         "| APU000074714 | 1981 |  M05   | 1.400 |           |"
        ],
        [
         "| APU000074714 | 1981 |  M04   | 1.412 |           |"
        ],
        [
         "| APU000074714 | 1981 |  M03   | 1.417 |           |"
        ],
        [
         "| APU000074714 | 1981 |  M02   | 1.382 |           |"
        ],
        [
         "| APU000074714 | 1981 |  M01   | 1.298 |           |"
        ],
        [
         "| APU000074714 | 1980 |  M12   | 1.258 |           |"
        ],
        [
         "| APU000074714 | 1980 |  M11   | 1.250 |           |"
        ],
        [
         "| APU000074714 | 1980 |  M10   | 1.250 |           |"
        ],
        [
         "| APU000074714 | 1980 |  M09   | 1.257 |           |"
        ],
        [
         "| APU000074714 | 1980 |  M08   | 1.267 |           |"
        ],
        [
         "| APU000074714 | 1980 |  M07   | 1.271 |           |"
        ],
        [
         "| APU000074714 | 1980 |  M06   | 1.269 |           |"
        ],
        [
         "| APU000074714 | 1980 |  M05   | 1.266 |           |"
        ],
        [
         "| APU000074714 | 1980 |  M04   | 1.264 |           |"
        ],
        [
         "| APU000074714 | 1980 |  M03   | 1.252 |           |"
        ],
        [
         "| APU000074714 | 1980 |  M02   | 1.207 |           |"
        ],
        [
         "| APU000074714 | 1980 |  M01   | 1.131 |           |"
        ],
        [
         "| APU000074714 | 1979 |  M12   | 1.065 |           |"
        ],
        [
         "| APU000074714 | 1979 |  M11   | 1.041 |           |"
        ],
        [
         "| APU000074714 | 1979 |  M10   | 1.028 |           |"
        ],
        [
         "| APU000074714 | 1979 |  M09   | 1.020 |           |"
        ],
        [
         "| APU000074714 | 1979 |  M08   | 0.988 |           |"
        ],
        [
         "| APU000074714 | 1979 |  M07   | 0.949 |           |"
        ],
        [
         "| APU000074714 | 1979 |  M06   | 0.901 |           |"
        ],
        [
         "| APU000074714 | 1979 |  M05   | 0.844 |           |"
        ],
        [
         "| APU000074714 | 1979 |  M04   | 0.802 |           |"
        ],
        [
         "| APU000074714 | 1979 |  M03   | 0.755 |           |"
        ],
        [
         "| APU000074714 | 1979 |  M02   | 0.730 |           |"
        ],
        [
         "| APU000074714 | 1979 |  M01   | 0.716 |           |"
        ],
        [
         "| APU000074714 | 1978 |  M12   | 0.705 |           |"
        ],
        [
         "| APU000074714 | 1978 |  M11   | 0.695 |           |"
        ],
        [
         "| APU000074714 | 1978 |  M10   | 0.690 |           |"
        ],
        [
         "| APU000074714 | 1978 |  M09   | 0.688 |           |"
        ],
        [
         "| APU000074714 | 1978 |  M08   | 0.682 |           |"
        ],
        [
         "| APU000074714 | 1978 |  M07   | 0.674 |           |"
        ],
        [
         "| APU000074714 | 1978 |  M06   | 0.663 |           |"
        ],
        [
         "| APU000074714 | 1978 |  M05   | 0.655 |           |"
        ],
        [
         "| APU000074714 | 1978 |  M04   | 0.649 |           |"
        ],
        [
         "| APU000074714 | 1978 |  M03   | 0.647 |           |"
        ],
        [
         "| APU000074714 | 1978 |  M02   | 0.647 |           |"
        ],
        [
         "| APU000074714 | 1978 |  M01   | 0.648 |           |"
        ],
        [
         "| APU000074714 | 1977 |  M12   | 0.665 |           |"
        ],
        [
         "| APU000074714 | 1977 |  M11   | 0.664 |           |"
        ],
        [
         "| APU000074714 | 1977 |  M10   | 0.665 |           |"
        ],
        [
         "| APU000074714 | 1977 |  M09   | 0.666 |           |"
        ],
        [
         "| APU000074714 | 1977 |  M08   | 0.667 |           |"
        ],
        [
         "| APU000074714 | 1977 |  M07   | 0.667 |           |"
        ],
        [
         "| APU000074714 | 1977 |  M06   | 0.665 |           |"
        ],
        [
         "| APU000074714 | 1977 |  M05   | 0.659 |           |"
        ],
        [
         "| APU000074714 | 1977 |  M04   | 0.651 |           |"
        ],
        [
         "| APU000074714 | 1977 |  M03   | 0.643 |           |"
        ],
        [
         "| APU000074714 | 1977 |  M02   | 0.637 |           |"
        ],
        [
         "| APU000074714 | 1977 |  M01   | 0.627 |           |"
        ],
        [
         "| APU000074714 | 1976 |  M12   | 0.626 |           |"
        ],
        [
         "| APU000074714 | 1976 |  M11   | 0.629 |           |"
        ],
        [
         "| APU000074714 | 1976 |  M10   | 0.629 |           |"
        ],
        [
         "| APU000074714 | 1976 |  M09   | 0.630 |           |"
        ],
        [
         "| APU000074714 | 1976 |  M08   | 0.628 |           |"
        ],
        [
         "| APU000074714 | 1976 |  M07   | 0.623 |           |"
        ],
        [
         "| APU000074714 | 1976 |  M06   | 0.616 |           |"
        ],
        [
         "| APU000074714 | 1976 |  M05   | 0.600 |           |"
        ],
        [
         "| APU000074714 | 1976 |  M04   | 0.592 |           |"
        ],
        [
         "| APU000074714 | 1976 |  M03   | 0.594 |           |"
        ],
        [
         "| APU000074714 | 1976 |  M02   | 0.600 |           |"
        ],
        [
         "| APU000074714 | 1976 |  M01   | 0.605 |           |"
        ],
        [
         "+--------------+------+--------+-------+-----------++--------------+------+--------+-------+-----------+"
        ],
        [
         "|  series id   | year | period | value | footnotes |"
        ],
        [
         "+--------------+------+--------+-------+-----------+"
        ],
        [
         "| APU000074714 | 1995 |  M12   | 1.101 |           |"
        ],
        [
         "| APU000074714 | 1995 |  M11   | 1.101 |           |"
        ],
        [
         "| APU000074714 | 1995 |  M10   | 1.127 |           |"
        ],
        [
         "| APU000074714 | 1995 |  M09   | 1.148 |           |"
        ],
        [
         "| APU000074714 | 1995 |  M08   | 1.164 |           |"
        ],
        [
         "| APU000074714 | 1995 |  M07   | 1.195 |           |"
        ],
        [
         "| APU000074714 | 1995 |  M06   | 1.226 |           |"
        ],
        [
         "| APU000074714 | 1995 |  M05   | 1.200 |           |"
        ],
        [
         "| APU000074714 | 1995 |  M04   | 1.140 |           |"
        ],
        [
         "| APU000074714 | 1995 |  M03   | 1.115 |           |"
        ],
        [
         "| APU000074714 | 1995 |  M02   | 1.120 |           |"
        ],
        [
         "| APU000074714 | 1995 |  M01   | 1.129 |           |"
        ],
        [
         "| APU000074714 | 1994 |  M12   | 1.143 |           |"
        ],
        [
         "| APU000074714 | 1994 |  M11   | 1.163 |           |"
        ],
        [
         "| APU000074714 | 1994 |  M10   | 1.152 |           |"
        ],
        [
         "| APU000074714 | 1994 |  M09   | 1.177 |           |"
        ],
        [
         "| APU000074714 | 1994 |  M08   | 1.182 |           |"
        ],
        [
         "| APU000074714 | 1994 |  M07   | 1.136 |           |"
        ],
        [
         "| APU000074714 | 1994 |  M06   | 1.106 |           |"
        ],
        [
         "| APU000074714 | 1994 |  M05   | 1.080 |           |"
        ],
        [
         "| APU000074714 | 1994 |  M04   | 1.064 |           |"
        ],
        [
         "| APU000074714 | 1994 |  M03   | 1.045 |           |"
        ],
        [
         "| APU000074714 | 1994 |  M02   | 1.051 |           |"
        ],
        [
         "| APU000074714 | 1994 |  M01   | 1.043 |           |"
        ],
        [
         "| APU000074714 | 1993 |  M12   | 1.070 |           |"
        ],
        [
         "| APU000074714 | 1993 |  M11   | 1.113 |           |"
        ],
        [
         "| APU000074714 | 1993 |  M10   | 1.127 |           |"
        ],
        [
         "| APU000074714 | 1993 |  M09   | 1.085 |           |"
        ],
        [
         "| APU000074714 | 1993 |  M08   | 1.097 |           |"
        ],
        [
         "| APU000074714 | 1993 |  M07   | 1.109 |           |"
        ],
        [
         "| APU000074714 | 1993 |  M06   | 1.130 |           |"
        ],
        [
         "| APU000074714 | 1993 |  M05   | 1.129 |           |"
        ],
        [
         "| APU000074714 | 1993 |  M04   | 1.112 |           |"
        ],
        [
         "| APU000074714 | 1993 |  M03   | 1.098 |           |"
        ],
        [
         "| APU000074714 | 1993 |  M02   | 1.108 |           |"
        ],
        [
         "| APU000074714 | 1993 |  M01   | 1.117 |           |"
        ],
        [
         "| APU000074714 | 1992 |  M12   | 1.136 |           |"
        ],
        [
         "| APU000074714 | 1992 |  M11   | 1.159 |           |"
        ],
        [
         "| APU000074714 | 1992 |  M10   | 1.154 |           |"
        ],
        [
         "| APU000074714 | 1992 |  M09   | 1.158 |           |"
        ],
        [
         "| APU000074714 | 1992 |  M08   | 1.158 |           |"
        ],
        [
         "| APU000074714 | 1992 |  M07   | 1.174 |           |"
        ],
        [
         "| APU000074714 | 1992 |  M06   | 1.179 |           |"
        ],
        [
         "| APU000074714 | 1992 |  M05   | 1.136 |           |"
        ],
        [
         "| APU000074714 | 1992 |  M04   | 1.079 |           |"
        ],
        [
         "| APU000074714 | 1992 |  M03   | 1.058 |           |"
        ],
        [
         "| APU000074714 | 1992 |  M02   | 1.054 |           |"
        ],
        [
         "| APU000074714 | 1992 |  M01   | 1.073 |           |"
        ],
        [
         "| APU000074714 | 1991 |  M12   | 1.123 |           |"
        ],
        [
         "| APU000074714 | 1991 |  M11   | 1.134 |           |"
        ],
        [
         "| APU000074714 | 1991 |  M10   | 1.122 |           |"
        ],
        [
         "| APU000074714 | 1991 |  M09   | 1.143 |           |"
        ],
        [
         "| APU000074714 | 1991 |  M08   | 1.140 |           |"
        ],
        [
         "| APU000074714 | 1991 |  M07   | 1.127 |           |"
        ],
        [
         "| APU000074714 | 1991 |  M06   | 1.160 |           |"
        ],
        [
         "| APU000074714 | 1991 |  M05   | 1.156 |           |"
        ],
        [
         "| APU000074714 | 1991 |  M04   | 1.104 |           |"
        ],
        [
         "| APU000074714 | 1991 |  M03   | 1.082 |           |"
        ],
        [
         "| APU000074714 | 1991 |  M02   | 1.143 |           |"
        ],
        [
         "| APU000074714 | 1991 |  M01   | 1.247 |           |"
        ],
        [
         "| APU000074714 | 1990 |  M12   | 1.354 |           |"
        ],
        [
         "| APU000074714 | 1990 |  M11   | 1.377 |           |"
        ],
        [
         "| APU000074714 | 1990 |  M10   | 1.378 |           |"
        ],
        [
         "| APU000074714 | 1990 |  M09   | 1.294 |           |"
        ],
        [
         "| APU000074714 | 1990 |  M08   | 1.190 |           |"
        ],
        [
         "| APU000074714 | 1990 |  M07   | 1.084 |           |"
        ],
        [
         "| APU000074714 | 1990 |  M06   | 1.088 |           |"
        ],
        [
         "| APU000074714 | 1990 |  M05   | 1.061 |           |"
        ],
        [
         "| APU000074714 | 1990 |  M04   | 1.044 |           |"
        ],
        [
         "| APU000074714 | 1990 |  M03   | 1.023 |           |"
        ],
        [
         "| APU000074714 | 1990 |  M02   | 1.037 |           |"
        ],
        [
         "| APU000074714 | 1990 |  M01   | 1.042 |           |"
        ],
        [
         "| APU000074714 | 1989 |  M12   | 0.980 |           |"
        ],
        [
         "| APU000074714 | 1989 |  M11   | 0.999 |           |"
        ],
        [
         "| APU000074714 | 1989 |  M10   | 1.027 |           |"
        ],
        [
         "| APU000074714 | 1989 |  M09   | 1.029 |           |"
        ],
        [
         "| APU000074714 | 1989 |  M08   | 1.057 |           |"
        ],
        [
         "| APU000074714 | 1989 |  M07   | 1.092 |           |"
        ],
        [
         "| APU000074714 | 1989 |  M06   | 1.114 |           |"
        ],
        [
         "| APU000074714 | 1989 |  M05   | 1.119 |           |"
        ],
        [
         "| APU000074714 | 1989 |  M04   | 1.065 |           |"
        ],
        [
         "| APU000074714 | 1989 |  M03   | 0.940 |           |"
        ],
        [
         "| APU000074714 | 1989 |  M02   | 0.926 |           |"
        ],
        [
         "| APU000074714 | 1989 |  M01   | 0.918 |           |"
        ],
        [
         "| APU000074714 | 1988 |  M12   | 0.930 |           |"
        ],
        [
         "| APU000074714 | 1988 |  M11   | 0.949 |           |"
        ],
        [
         "| APU000074714 | 1988 |  M10   | 0.957 |           |"
        ],
        [
         "| APU000074714 | 1988 |  M09   | 0.974 |           |"
        ],
        [
         "| APU000074714 | 1988 |  M08   | 0.987 |           |"
        ],
        [
         "| APU000074714 | 1988 |  M07   | 0.967 |           |"
        ],
        [
         "| APU000074714 | 1988 |  M06   | 0.955 |           |"
        ],
        [
         "| APU000074714 | 1988 |  M05   | 0.955 |           |"
        ],
        [
         "| APU000074714 | 1988 |  M04   | 0.930 |           |"
        ],
        [
         "| APU000074714 | 1988 |  M03   | 0.904 |           |"
        ],
        [
         "| APU000074714 | 1988 |  M02   | 0.913 |           |"
        ],
        [
         "| APU000074714 | 1988 |  M01   | 0.933 |           |"
        ],
        [
         "| APU000074714 | 1987 |  M12   | 0.961 |           |"
        ],
        [
         "| APU000074714 | 1987 |  M11   | 0.976 |           |"
        ],
        [
         "| APU000074714 | 1987 |  M10   | 0.976 |           |"
        ],
        [
         "| APU000074714 | 1987 |  M09   | 0.990 |           |"
        ],
        [
         "| APU000074714 | 1987 |  M08   | 0.995 |           |"
        ],
        [
         "| APU000074714 | 1987 |  M07   | 0.971 |           |"
        ],
        [
         "| APU000074714 | 1987 |  M06   | 0.958 |           |"
        ],
        [
         "| APU000074714 | 1987 |  M05   | 0.941 |           |"
        ],
        [
         "| APU000074714 | 1987 |  M04   | 0.934 |           |"
        ],
        [
         "| APU000074714 | 1987 |  M03   | 0.912 |           |"
        ],
        [
         "| APU000074714 | 1987 |  M02   | 0.905 |           |"
        ],
        [
         "| APU000074714 | 1987 |  M01   | 0.862 |           |"
        ],
        [
         "| APU000074714 | 1986 |  M12   | 0.823 |           |"
        ],
        [
         "| APU000074714 | 1986 |  M11   | 0.821 |           |"
        ],
        [
         "| APU000074714 | 1986 |  M10   | 0.831 |           |"
        ],
        [
         "| APU000074714 | 1986 |  M09   | 0.860 |           |"
        ],
        [
         "| APU000074714 | 1986 |  M08   | 0.843 |           |"
        ],
        [
         "| APU000074714 | 1986 |  M07   | 0.890 |           |"
        ],
        [
         "| APU000074714 | 1986 |  M06   | 0.955 |           |"
        ],
        [
         "| APU000074714 | 1986 |  M05   | 0.923 |           |"
        ],
        [
         "| APU000074714 | 1986 |  M04   | 0.888 |           |"
        ],
        [
         "| APU000074714 | 1986 |  M03   | 0.981 |           |"
        ],
        [
         "| APU000074714 | 1986 |  M02   | 1.120 |           |"
        ],
        [
         "| APU000074714 | 1986 |  M01   | 1.194 |           |"
        ],
        [
         "+--------------+------+--------+-------+-----------++--------------+------+--------+-------+-----------+"
        ],
        [
         "|  series id   | year | period | value | footnotes |"
        ],
        [
         "+--------------+------+--------+-------+-----------+"
        ],
        [
         "| APU000074714 | 2005 |  M12   | 2.186 |           |"
        ],
        [
         "| APU000074714 | 2005 |  M11   | 2.343 |           |"
        ],
        [
         "| APU000074714 | 2005 |  M10   | 2.785 |           |"
        ],
        [
         "| APU000074714 | 2005 |  M09   | 2.927 |           |"
        ],
        [
         "| APU000074714 | 2005 |  M08   | 2.506 |           |"
        ],
        [
         "| APU000074714 | 2005 |  M07   | 2.316 |           |"
        ],
        [
         "| APU000074714 | 2005 |  M06   | 2.176 |           |"
        ],
        [
         "| APU000074714 | 2005 |  M05   | 2.216 |           |"
        ],
        [
         "| APU000074714 | 2005 |  M04   | 2.283 |           |"
        ],
        [
         "| APU000074714 | 2005 |  M03   | 2.065 |           |"
        ],
        [
         "| APU000074714 | 2005 |  M02   | 1.918 |           |"
        ],
        [
         "| APU000074714 | 2005 |  M01   | 1.823 |           |"
        ],
        [
         "| APU000074714 | 2004 |  M12   | 1.882 |           |"
        ],
        [
         "| APU000074714 | 2004 |  M11   | 2.010 |           |"
        ],
        [
         "| APU000074714 | 2004 |  M10   | 2.029 |           |"
        ],
        [
         "| APU000074714 | 2004 |  M09   | 1.891 |           |"
        ],
        [
         "| APU000074714 | 2004 |  M08   | 1.898 |           |"
        ],
        [
         "| APU000074714 | 2004 |  M07   | 1.939 |           |"
        ],
        [
         "| APU000074714 | 2004 |  M06   | 2.041 |           |"
        ],
        [
         "| APU000074714 | 2004 |  M05   | 2.009 |           |"
        ],
        [
         "| APU000074714 | 2004 |  M04   | 1.833 |           |"
        ],
        [
         "| APU000074714 | 2004 |  M03   | 1.766 |           |"
        ],
        [
         "| APU000074714 | 2004 |  M02   | 1.672 |           |"
        ],
        [
         "| APU000074714 | 2004 |  M01   | 1.592 |           |"
        ],
        [
         "| APU000074714 | 2003 |  M12   | 1.494 |           |"
        ],
        [
         "| APU000074714 | 2003 |  M11   | 1.535 |           |"
        ],
        [
         "| APU000074714 | 2003 |  M10   | 1.603 |           |"
        ],
        [
         "| APU000074714 | 2003 |  M09   | 1.728 |           |"
        ],
        [
         "| APU000074714 | 2003 |  M08   | 1.628 |           |"
        ],
        [
         "| APU000074714 | 2003 |  M07   | 1.524 |           |"
        ],
        [
         "| APU000074714 | 2003 |  M06   | 1.514 |           |"
        ],
        [
         "| APU000074714 | 2003 |  M05   | 1.542 |           |"
        ],
        [
         "| APU000074714 | 2003 |  M04   | 1.659 |           |"
        ],
        [
         "| APU000074714 | 2003 |  M03   | 1.748 |           |"
        ],
        [
         "| APU000074714 | 2003 |  M02   | 1.641 |           |"
        ],
        [
         "| APU000074714 | 2003 |  M01   | 1.473 |           |"
        ],
        [
         "| APU000074714 | 2002 |  M12   | 1.394 |           |"
        ],
        [
         "| APU000074714 | 2002 |  M11   | 1.448 |           |"
        ],
        [
         "| APU000074714 | 2002 |  M10   | 1.449 |           |"
        ],
        [
         "| APU000074714 | 2002 |  M09   | 1.422 |           |"
        ],
        [
         "| APU000074714 | 2002 |  M08   | 1.423 |           |"
        ],
        [
         "| APU000074714 | 2002 |  M07   | 1.412 |           |"
        ],
        [
         "| APU000074714 | 2002 |  M06   | 1.404 |           |"
        ],
        [
         "| APU000074714 | 2002 |  M05   | 1.421 |           |"
        ],
        [
         "| APU000074714 | 2002 |  M04   | 1.407 |           |"
        ],
        [
         "| APU000074714 | 2002 |  M03   | 1.241 |           |"
        ],
        [
         "| APU000074714 | 2002 |  M02   | 1.130 |           |"
        ],
        [
         "| APU000074714 | 2002 |  M01   | 1.139 |           |"
        ],
        [
         "| APU000074714 | 2001 |  M12   | 1.131 |           |"
        ],
        [
         "| APU000074714 | 2001 |  M11   | 1.263 |           |"
        ],
        [
         "| APU000074714 | 2001 |  M10   | 1.362 |           |"
        ],
        [
         "| APU000074714 | 2001 |  M09   | 1.531 |           |"
        ],
        [
         "| APU000074714 | 2001 |  M08   | 1.427 |           |"
        ],
        [
         "| APU000074714 | 2001 |  M07   | 1.482 |           |"
        ],
        [
         "| APU000074714 | 2001 |  M06   | 1.640 |           |"
        ],
        [
         "| APU000074714 | 2001 |  M05   | 1.729 |           |"
        ],
        [
         "| APU000074714 | 2001 |  M04   | 1.564 |           |"
        ],
        [
         "| APU000074714 | 2001 |  M03   | 1.447 |           |"
        ],
        [
         "| APU000074714 | 2001 |  M02   | 1.484 |           |"
        ],
        [
         "| APU000074714 | 2001 |  M01   | 1.472 |           |"
        ],
        [
         "| APU000074714 | 2000 |  M12   | 1.489 |           |"
        ],
        [
         "| APU000074714 | 2000 |  M11   | 1.555 |           |"
        ],
        [
         "| APU000074714 | 2000 |  M10   | 1.559 |           |"
        ],
        [
         "| APU000074714 | 2000 |  M09   | 1.582 |           |"
        ],
        [
         "| APU000074714 | 2000 |  M08   | 1.510 |           |"
        ],
        [
         "| APU000074714 | 2000 |  M07   | 1.593 |           |"
        ],
        [
         "| APU000074714 | 2000 |  M06   | 1.617 |           |"
        ],
        [
         "| APU000074714 | 2000 |  M05   | 1.498 |           |"
        ],
        [
         "| APU000074714 | 2000 |  M04   | 1.506 |           |"
        ],
        [
         "| APU000074714 | 2000 |  M03   | 1.541 |           |"
        ],
        [
         "| APU000074714 | 2000 |  M02   | 1.369 |           |"
        ],
        [
         "| APU000074714 | 2000 |  M01   | 1.301 |           |"
        ],
        [
         "| APU000074714 | 1999 |  M12   | 1.298 |           |"
        ],
        [
         "| APU000074714 | 1999 |  M11   | 1.264 |           |"
        ],
        [
         "| APU000074714 | 1999 |  M10   | 1.274 |           |"
        ],
        [
         "| APU000074714 | 1999 |  M09   | 1.280 |           |"
        ],
        [
         "| APU000074714 | 1999 |  M08   | 1.255 |           |"
        ],
        [
         "| APU000074714 | 1999 |  M07   | 1.189 |           |"
        ],
        [
         "| APU000074714 | 1999 |  M06   | 1.148 |           |"
        ],
        [
         "| APU000074714 | 1999 |  M05   | 1.178 |           |"
        ],
        [
         "| APU000074714 | 1999 |  M04   | 1.177 |           |"
        ],
        [
         "| APU000074714 | 1999 |  M03   | 0.991 |           |"
        ],
        [
         "| APU000074714 | 1999 |  M02   | 0.955 |           |"
        ],
        [
         "| APU000074714 | 1999 |  M01   | 0.972 |           |"
        ],
        [
         "| APU000074714 | 1998 |  M12   | 0.986 |           |"
        ],
        [
         "| APU000074714 | 1998 |  M11   | 1.028 |           |"
        ],
        [
         "| APU000074714 | 1998 |  M10   | 1.042 |           |"
        ],
        [
         "| APU000074714 | 1998 |  M09   | 1.033 |           |"
        ],
        [
         "| APU000074714 | 1998 |  M08   | 1.052 |           |"
        ],
        [
         "| APU000074714 | 1998 |  M07   | 1.079 |           |"
        ],
        [
         "| APU000074714 | 1998 |  M06   | 1.094 |           |"
        ],
        [
         "| APU000074714 | 1998 |  M05   | 1.092 |           |"
        ],
        [
         "| APU000074714 | 1998 |  M04   | 1.052 |           |"
        ],
        [
         "| APU000074714 | 1998 |  M03   | 1.041 |           |"
        ],
        [
         "| APU000074714 | 1998 |  M02   | 1.082 |           |"
        ],
        [
         "| APU000074714 | 1998 |  M01   | 1.131 |           |"
        ],
        [
         "| APU000074714 | 1997 |  M12   | 1.177 |           |"
        ],
        [
         "| APU000074714 | 1997 |  M11   | 1.213 |           |"
        ],
        [
         "| APU000074714 | 1997 |  M10   | 1.242 |           |"
        ],
        [
         "| APU000074714 | 1997 |  M09   | 1.277 |           |"
        ],
        [
         "| APU000074714 | 1997 |  M08   | 1.253 |           |"
        ],
        [
         "| APU000074714 | 1997 |  M07   | 1.205 |           |"
        ],
        [
         "| APU000074714 | 1997 |  M06   | 1.229 |           |"
        ],
        [
         "| APU000074714 | 1997 |  M05   | 1.226 |           |"
        ],
        [
         "| APU000074714 | 1997 |  M04   | 1.231 |           |"
        ],
        [
         "| APU000074714 | 1997 |  M03   | 1.235 |           |"
        ],
        [
         "| APU000074714 | 1997 |  M02   | 1.255 |           |"
        ],
        [
         "| APU000074714 | 1997 |  M01   | 1.261 |           |"
        ],
        [
         "| APU000074714 | 1996 |  M12   | 1.260 |           |"
        ],
        [
         "| APU000074714 | 1996 |  M11   | 1.250 |           |"
        ],
        [
         "| APU000074714 | 1996 |  M10   | 1.227 |           |"
        ],
        [
         "| APU000074714 | 1996 |  M09   | 1.234 |           |"
        ],
        [
         "| APU000074714 | 1996 |  M08   | 1.240 |           |"
        ],
        [
         "| APU000074714 | 1996 |  M07   | 1.272 |           |"
        ],
        [
         "| APU000074714 | 1996 |  M06   | 1.299 |           |"
        ],
        [
         "| APU000074714 | 1996 |  M05   | 1.323 |           |"
        ],
        [
         "| APU000074714 | 1996 |  M04   | 1.251 |           |"
        ],
        [
         "| APU000074714 | 1996 |  M03   | 1.162 |           |"
        ],
        [
         "| APU000074714 | 1996 |  M02   | 1.124 |           |"
        ],
        [
         "| APU000074714 | 1996 |  M01   | 1.129 |           |"
        ],
        [
         "+--------------+------+--------+-------+-----------++--------------+------+--------+-------+-----------+"
        ],
        [
         "|  series id   | year | period | value | footnotes |"
        ],
        [
         "+--------------+------+--------+-------+-----------+"
        ],
        [
         "| APU000074714 | 2015 |  M12   | 2.060 |           |"
        ],
        [
         "| APU000074714 | 2015 |  M11   | 2.185 |           |"
        ],
        [
         "| APU000074714 | 2015 |  M10   | 2.289 |           |"
        ],
        [
         "| APU000074714 | 2015 |  M09   | 2.394 |           |"
        ],
        [
         "| APU000074714 | 2015 |  M08   | 2.679 |           |"
        ],
        [
         "| APU000074714 | 2015 |  M07   | 2.832 |           |"
        ],
        [
         "| APU000074714 | 2015 |  M06   | 2.832 |           |"
        ],
        [
         "| APU000074714 | 2015 |  M05   | 2.775 |           |"
        ],
        [
         "| APU000074714 | 2015 |  M04   | 2.485 |           |"
        ],
        [
         "| APU000074714 | 2015 |  M03   | 2.483 |           |"
        ],
        [
         "| APU000074714 | 2015 |  M02   | 2.249 |           |"
        ],
        [
         "| APU000074714 | 2015 |  M01   | 2.110 |           |"
        ],
        [
         "| APU000074714 | 2014 |  M12   | 2.560 |           |"
        ],
        [
         "| APU000074714 | 2014 |  M11   | 2.887 |           |"
        ],
        [
         "| APU000074714 | 2014 |  M10   | 3.182 |           |"
        ],
        [
         "| APU000074714 | 2014 |  M09   | 3.403 |           |"
        ],
        [
         "| APU000074714 | 2014 |  M08   | 3.481 |           |"
        ],
        [
         "| APU000074714 | 2014 |  M07   | 3.633 |           |"
        ],
        [
         "| APU000074714 | 2014 |  M06   | 3.695 |           |"
        ],
        [
         "| APU000074714 | 2014 |  M05   | 3.691 |           |"
        ],
        [
         "| APU000074714 | 2014 |  M04   | 3.659 |           |"
        ],
        [
         "| APU000074714 | 2014 |  M03   | 3.532 |           |"
        ],
        [
         "| APU000074714 | 2014 |  M02   | 3.364 |           |"
        ],
        [
         "| APU000074714 | 2014 |  M01   | 3.320 |           |"
        ],
        [
         "| APU000074714 | 2013 |  M12   | 3.277 |           |"
        ],
        [
         "| APU000074714 | 2013 |  M11   | 3.251 |           |"
        ],
        [
         "| APU000074714 | 2013 |  M10   | 3.375 |           |"
        ],
        [
         "| APU000074714 | 2013 |  M09   | 3.556 |           |"
        ],
        [
         "| APU000074714 | 2013 |  M08   | 3.600 |           |"
        ],
        [
         "| APU000074714 | 2013 |  M07   | 3.628 |           |"
        ],
        [
         "| APU000074714 | 2013 |  M06   | 3.633 |           |"
        ],
        [
         "| APU000074714 | 2013 |  M05   | 3.623 |           |"
        ],
        [
         "| APU000074714 | 2013 |  M04   | 3.590 |           |"
        ],
        [
         "| APU000074714 | 2013 |  M03   | 3.735 |           |"
        ],
        [
         "| APU000074714 | 2013 |  M02   | 3.693 |           |"
        ],
        [
         "| APU000074714 | 2013 |  M01   | 3.351 |           |"
        ],
        [
         "| APU000074714 | 2012 |  M12   | 3.331 |           |"
        ],
        [
         "| APU000074714 | 2012 |  M11   | 3.488 |           |"
        ],
        [
         "| APU000074714 | 2012 |  M10   | 3.786 |           |"
        ],
        [
         "| APU000074714 | 2012 |  M09   | 3.856 |           |"
        ],
        [
         "| APU000074714 | 2012 |  M08   | 3.707 |           |"
        ],
        [
         "| APU000074714 | 2012 |  M07   | 3.451 |           |"
        ],
        [
         "| APU000074714 | 2012 |  M06   | 3.552 |           |"
        ],
        [
         "| APU000074714 | 2012 |  M05   | 3.792 |           |"
        ],
        [
         "| APU000074714 | 2012 |  M04   | 3.927 |           |"
        ],
        [
         "| APU000074714 | 2012 |  M03   | 3.868 |           |"
        ],
        [
         "| APU000074714 | 2012 |  M02   | 3.572 |           |"
        ],
        [
         "| APU000074714 | 2012 |  M01   | 3.399 |           |"
        ],
        [
         "| APU000074714 | 2011 |  M12   | 3.278 |           |"
        ],
        [
         "| APU000074714 | 2011 |  M11   | 3.423 |           |"
        ],
        [
         "| APU000074714 | 2011 |  M10   | 3.468 |           |"
        ],
        [
         "| APU000074714 | 2011 |  M09   | 3.612 |           |"
        ],
        [
         "| APU000074714 | 2011 |  M08   | 3.630 |           |"
        ],
        [
         "| APU000074714 | 2011 |  M07   | 3.654 |           |"
        ],
        [
         "| APU000074714 | 2011 |  M06   | 3.702 |           |"
        ],
        [
         "| APU000074714 | 2011 |  M05   | 3.933 |           |"
        ],
        [
         "| APU000074714 | 2011 |  M04   | 3.816 |           |"
        ],
        [
         "| APU000074714 | 2011 |  M03   | 3.546 |           |"
        ],
        [
         "| APU000074714 | 2011 |  M02   | 3.167 |           |"
        ],
        [
         "| APU000074714 | 2011 |  M01   | 3.091 |           |"
        ],
        [
         "| APU000074714 | 2010 |  M12   | 2.985 |           |"
        ],
        [
         "| APU000074714 | 2010 |  M11   | 2.852 |           |"
        ],
        [
         "| APU000074714 | 2010 |  M10   | 2.795 |           |"
        ],
        [
         "| APU000074714 | 2010 |  M09   | 2.704 |           |"
        ],
        [
         "| APU000074714 | 2010 |  M08   | 2.745 |           |"
        ],
        [
         "| APU000074714 | 2010 |  M07   | 2.736 |           |"
        ],
        [
         "| APU000074714 | 2010 |  M06   | 2.736 |           |"
        ],
        [
         "| APU000074714 | 2010 |  M05   | 2.869 |           |"
        ],
        [
         "| APU000074714 | 2010 |  M04   | 2.858 |           |"
        ],
        [
         "| APU000074714 | 2010 |  M03   | 2.780 |           |"
        ],
        [
         "| APU000074714 | 2010 |  M02   | 2.659 |           |"
        ],
        [
         "| APU000074714 | 2010 |  M01   | 2.731 |           |"
        ],
        [
         "| APU000074714 | 2009 |  M12   | 2.621 |           |"
        ],
        [
         "| APU000074714 | 2009 |  M11   | 2.660 |           |"
        ],
        [
         "| APU000074714 | 2009 |  M10   | 2.561 |           |"
        ],
        [
         "| APU000074714 | 2009 |  M09   | 2.574 |           |"
        ],
        [
         "| APU000074714 | 2009 |  M08   | 2.627 |           |"
        ],
        [
         "| APU000074714 | 2009 |  M07   | 2.543 |           |"
        ],
        [
         "| APU000074714 | 2009 |  M06   | 2.631 |           |"
        ],
        [
         "| APU000074714 | 2009 |  M05   | 2.265 |           |"
        ],
        [
         "| APU000074714 | 2009 |  M04   | 2.056 |           |"
        ],
        [
         "| APU000074714 | 2009 |  M03   | 1.949 |           |"
        ],
        [
         "| APU000074714 | 2009 |  M02   | 1.928 |           |"
        ],
        [
         "| APU000074714 | 2009 |  M01   | 1.787 |           |"
        ],
        [
         "| APU000074714 | 2008 |  M12   | 1.689 |           |"
        ],
        [
         "| APU000074714 | 2008 |  M11   | 2.151 |           |"
        ],
        [
         "| APU000074714 | 2008 |  M10   | 3.173 |           |"
        ],
        [
         "| APU000074714 | 2008 |  M09   | 3.698 |           |"
        ],
        [
         "| APU000074714 | 2008 |  M08   | 3.786 |           |"
        ],
        [
         "| APU000074714 | 2008 |  M07   | 4.090 |           |"
        ],
        [
         "| APU000074714 | 2008 |  M06   | 4.065 |           |"
        ],
        [
         "| APU000074714 | 2008 |  M05   | 3.764 |           |"
        ],
        [
         "| APU000074714 | 2008 |  M04   | 3.441 |           |"
        ],
        [
         "| APU000074714 | 2008 |  M03   | 3.258 |           |"
        ],
        [
         "| APU000074714 | 2008 |  M02   | 3.033 |           |"
        ],
        [
         "| APU000074714 | 2008 |  M01   | 3.047 |           |"
        ],
        [
         "| APU000074714 | 2007 |  M12   | 3.020 |           |"
        ],
        [
         "| APU000074714 | 2007 |  M11   | 3.069 |           |"
        ],
        [
         "| APU000074714 | 2007 |  M10   | 2.793 |           |"
        ],
        [
         "| APU000074714 | 2007 |  M09   | 2.789 |           |"
        ],
        [
         "| APU000074714 | 2007 |  M08   | 2.782 |           |"
        ],
        [
         "| APU000074714 | 2007 |  M07   | 2.961 |           |"
        ],
        [
         "| APU000074714 | 2007 |  M06   | 3.052 |           |"
        ],
        [
         "| APU000074714 | 2007 |  M05   | 3.130 |           |"
        ],
        [
         "| APU000074714 | 2007 |  M04   | 2.860 |           |"
        ],
        [
         "| APU000074714 | 2007 |  M03   | 2.592 |           |"
        ],
        [
         "| APU000074714 | 2007 |  M02   | 2.285 |           |"
        ],
        [
         "| APU000074714 | 2007 |  M01   | 2.274 |           |"
        ],
        [
         "| APU000074714 | 2006 |  M12   | 2.334 |           |"
        ],
        [
         "| APU000074714 | 2006 |  M11   | 2.241 |           |"
        ],
        [
         "| APU000074714 | 2006 |  M10   | 2.272 |           |"
        ],
        [
         "| APU000074714 | 2006 |  M09   | 2.589 |           |"
        ],
        [
         "| APU000074714 | 2006 |  M08   | 2.985 |           |"
        ],
        [
         "| APU000074714 | 2006 |  M07   | 2.999 |           |"
        ],
        [
         "| APU000074714 | 2006 |  M06   | 2.917 |           |"
        ],
        [
         "| APU000074714 | 2006 |  M05   | 2.947 |           |"
        ],
        [
         "| APU000074714 | 2006 |  M04   | 2.757 |           |"
        ],
        [
         "| APU000074714 | 2006 |  M03   | 2.401 |           |"
        ],
        [
         "| APU000074714 | 2006 |  M02   | 2.310 |           |"
        ],
        [
         "| APU000074714 | 2006 |  M01   | 2.315 |           |"
        ],
        [
         "+--------------+------+--------+-------+-----------++--------------+------+--------+-------+-----------+"
        ],
        [
         "|  series id   | year | period | value | footnotes |"
        ],
        [
         "+--------------+------+--------+-------+-----------+"
        ],
        [
         "| APU000074714 | 2023 |  M11   | 3.500 |           |"
        ],
        [
         "| APU000074714 | 2023 |  M10   | 3.782 |           |"
        ],
        [
         "| APU000074714 | 2023 |  M09   | 3.988 |           |"
        ],
        [
         "| APU000074714 | 2023 |  M08   | 3.955 |           |"
        ],
        [
         "| APU000074714 | 2023 |  M07   | 3.732 |           |"
        ],
        [
         "| APU000074714 | 2023 |  M06   | 3.712 |           |"
        ],
        [
         "| APU000074714 | 2023 |  M05   | 3.685 |           |"
        ],
        [
         "| APU000074714 | 2023 |  M04   | 3.735 |           |"
        ],
        [
         "| APU000074714 | 2023 |  M03   | 3.551 |           |"
        ],
        [
         "| APU000074714 | 2023 |  M02   | 3.514 |           |"
        ],
        [
         "| APU000074714 | 2023 |  M01   | 3.452 |           |"
        ],
        [
         "| APU000074714 | 2022 |  M12   | 3.356 |           |"
        ],
        [
         "| APU000074714 | 2022 |  M11   | 3.853 |           |"
        ],
        [
         "| APU000074714 | 2022 |  M10   | 4.016 |           |"
        ],
        [
         "| APU000074714 | 2022 |  M09   | 3.881 |           |"
        ],
        [
         "| APU000074714 | 2022 |  M08   | 4.101 |           |"
        ],
        [
         "| APU000074714 | 2022 |  M07   | 4.667 |           |"
        ],
        [
         "| APU000074714 | 2022 |  M06   | 5.058 |           |"
        ],
        [
         "| APU000074714 | 2022 |  M05   | 4.604 |           |"
        ],
        [
         "| APU000074714 | 2022 |  M04   | 4.271 |           |"
        ],
        [
         "| APU000074714 | 2022 |  M03   | 4.312 |           |"
        ],
        [
         "| APU000074714 | 2022 |  M02   | 3.592 |           |"
        ],
        [
         "| APU000074714 | 2022 |  M01   | 3.413 |           |"
        ],
        [
         "| APU000074714 | 2021 |  M12   | 3.408 |           |"
        ],
        [
         "| APU000074714 | 2021 |  M11   | 3.482 |           |"
        ],
        [
         "| APU000074714 | 2021 |  M10   | 3.385 |           |"
        ],
        [
         "| APU000074714 | 2021 |  M09   | 3.265 |           |"
        ],
        [
         "| APU000074714 | 2021 |  M08   | 3.255 |           |"
        ],
        [
         "| APU000074714 | 2021 |  M07   | 3.233 |           |"
        ],
        [
         "| APU000074714 | 2021 |  M06   | 3.154 |           |"
        ],
        [
         "| APU000074714 | 2021 |  M05   | 2.972 |           |"
        ],
        [
         "| APU000074714 | 2021 |  M04   | 2.839 |           |"
        ],
        [
         "| APU000074714 | 2021 |  M03   | 2.791 |           |"
        ],
        [
         "| APU000074714 | 2021 |  M02   | 2.496 |           |"
        ],
        [
         "| APU000074714 | 2021 |  M01   | 2.326 |           |"
        ],
        [
         "| APU000074714 | 2020 |  M12   | 2.168 |           |"
        ],
        [
         "| APU000074714 | 2020 |  M11   | 2.090 |           |"
        ],
        [
         "| APU000074714 | 2020 |  M10   | 2.159 |           |"
        ],
        [
         "| APU000074714 | 2020 |  M09   | 2.193 |           |"
        ],
        [
         "| APU000074714 | 2020 |  M08   | 2.177 |           |"
        ],
        [
         "| APU000074714 | 2020 |  M07   | 2.176 |           |"
        ],
        [
         "| APU000074714 | 2020 |  M06   | 2.076 |           |"
        ],
        [
         "| APU000074714 | 2020 |  M05   | 1.879 |           |"
        ],
        [
         "| APU000074714 | 2020 |  M04   | 1.876 |           |"
        ],
        [
         "| APU000074714 | 2020 |  M03   | 2.267 |           |"
        ],
        [
         "| APU000074714 | 2020 |  M02   | 2.465 |           |"
        ],
        [
         "| APU000074714 | 2020 |  M01   | 2.567 |           |"
        ],
        [
         "| APU000074714 | 2019 |  M12   | 2.587 |           |"
        ],
        [
         "| APU000074714 | 2019 |  M11   | 2.620 |           |"
        ],
        [
         "| APU000074714 | 2019 |  M10   | 2.673 |           |"
        ],
        [
         "| APU000074714 | 2019 |  M09   | 2.630 |           |"
        ],
        [
         "| APU000074714 | 2019 |  M08   | 2.655 |           |"
        ],
        [
         "| APU000074714 | 2019 |  M07   | 2.776 |           |"
        ],
        [
         "| APU000074714 | 2019 |  M06   | 2.752 |           |"
        ],
        [
         "| APU000074714 | 2019 |  M05   | 2.901 |           |"
        ],
        [
         "| APU000074714 | 2019 |  M04   | 2.835 |           |"
        ],
        [
         "| APU000074714 | 2019 |  M03   | 2.564 |           |"
        ],
        [
         "| APU000074714 | 2019 |  M02   | 2.353 |           |"
        ],
        [
         "| APU000074714 | 2019 |  M01   | 2.289 |           |"
        ],
        [
         "| APU000074714 | 2018 |  M12   | 2.414 |           |"
        ],
        [
         "| APU000074714 | 2018 |  M11   | 2.671 |           |"
        ],
        [
         "| APU000074714 | 2018 |  M10   | 2.887 |           |"
        ],
        [
         "| APU000074714 | 2018 |  M09   | 2.873 |           |"
        ],
        [
         "| APU000074714 | 2018 |  M08   | 2.862 |           |"
        ],
        [
         "| APU000074714 | 2018 |  M07   | 2.873 |           |"
        ],
        [
         "| APU000074714 | 2018 |  M06   | 2.914 |           |"
        ],
        [
         "| APU000074714 | 2018 |  M05   | 2.907 |           |"
        ],
        [
         "| APU000074714 | 2018 |  M04   | 2.737 |           |"
        ],
        [
         "| APU000074714 | 2018 |  M03   | 2.572 |           |"
        ],
        [
         "| APU000074714 | 2018 |  M02   | 2.575 |           |"
        ],
        [
         "| APU000074714 | 2018 |  M01   | 2.539 |           |"
        ],
        [
         "| APU000074714 | 2017 |  M12   | 2.459 |           |"
        ],
        [
         "| APU000074714 | 2017 |  M11   | 2.548 |           |"
        ],
        [
         "| APU000074714 | 2017 |  M10   | 2.484 |           |"
        ],
        [
         "| APU000074714 | 2017 |  M09   | 2.630 |           |"
        ],
        [
         "| APU000074714 | 2017 |  M08   | 2.374 |           |"
        ],
        [
         "| APU000074714 | 2017 |  M07   | 2.281 |           |"
        ],
        [
         "| APU000074714 | 2017 |  M06   | 2.337 |           |"
        ],
        [
         "| APU000074714 | 2017 |  M05   | 2.386 |           |"
        ],
        [
         "| APU000074714 | 2017 |  M04   | 2.418 |           |"
        ],
        [
         "| APU000074714 | 2017 |  M03   | 2.323 |           |"
        ],
        [
         "| APU000074714 | 2017 |  M02   | 2.299 |           |"
        ],
        [
         "| APU000074714 | 2017 |  M01   | 2.351 |           |"
        ],
        [
         "| APU000074714 | 2016 |  M12   | 2.230 |           |"
        ],
        [
         "| APU000074714 | 2016 |  M11   | 2.187 |           |"
        ],
        [
         "| APU000074714 | 2016 |  M10   | 2.243 |           |"
        ],
        [
         "| APU000074714 | 2016 |  M09   | 2.208 |           |"
        ],
        [
         "| APU000074714 | 2016 |  M08   | 2.155 |           |"
        ],
        [
         "| APU000074714 | 2016 |  M07   | 2.225 |           |"
        ],
        [
         "| APU000074714 | 2016 |  M06   | 2.363 |           |"
        ],
        [
         "| APU000074714 | 2016 |  M05   | 2.264 |           |"
        ],
        [
         "| APU000074714 | 2016 |  M04   | 2.134 |           |"
        ],
        [
         "| APU000074714 | 2016 |  M03   | 1.958 |           |"
        ],
        [
         "| APU000074714 | 2016 |  M02   | 1.767 |           |"
        ],
        [
         "| APU000074714 | 2016 |  M01   | 1.967 |           |"
        ],
        [
         "+--------------+------+--------+-------+-----------+"
        ]
       ],
       "datasetInfos": [],
       "dbfsResultPath": null,
       "isJsonSchema": true,
       "metadata": {},
       "overflow": false,
       "plotOptions": {
        "customPlotOptions": {},
        "displayType": "table",
        "pivotAggregation": null,
        "pivotColumns": null,
        "xColumns": null,
        "yColumns": null
       },
       "removedWidgets": [],
       "schema": [
        {
         "metadata": "{}",
         "name": "value",
         "type": "\"string\""
        }
       ],
       "type": "table"
      }
     },
     "output_type": "display_data"
    }
   ],
   "source": [
    "gas_price = spark.read.text(\n",
    "  'dbfs:/FileStore/my-stuff/APU0000747145.txt'\n",
    ")\n",
    "\n",
    "gas_price.printSchema()\n",
    "display(gas_price)"
   ]
  },
  {
   "cell_type": "markdown",
   "metadata": {
    "application/vnd.databricks.v1+cell": {
     "cellMetadata": {
      "byteLimit": 2048000,
      "rowLimit": 10000
     },
     "inputWidgets": {},
     "nuid": "e53ea624-358f-435f-9ddc-ced7f90c59e3",
     "showTitle": false,
     "title": ""
    }
   },
   "source": [
    "##### Read & display the all items price from the text "
   ]
  },
  {
   "cell_type": "code",
   "execution_count": 0,
   "metadata": {
    "application/vnd.databricks.v1+cell": {
     "cellMetadata": {
      "byteLimit": 2048000,
      "rowLimit": 10000
     },
     "inputWidgets": {},
     "nuid": "eb684f85-9504-4fa6-98e2-7b84a6fd4893",
     "showTitle": false,
     "title": ""
    }
   },
   "outputs": [
    {
     "output_type": "stream",
     "name": "stdout",
     "output_type": "stream",
     "text": [
      "root\n |-- value: string (nullable = true)\n\n"
     ]
    },
    {
     "output_type": "display_data",
     "data": {
      "text/html": [
       "<style scoped>\n",
       "  .table-result-container {\n",
       "    max-height: 300px;\n",
       "    overflow: auto;\n",
       "  }\n",
       "  table, th, td {\n",
       "    border: 1px solid black;\n",
       "    border-collapse: collapse;\n",
       "  }\n",
       "  th, td {\n",
       "    padding: 5px;\n",
       "  }\n",
       "  th {\n",
       "    text-align: left;\n",
       "  }\n",
       "</style><div class='table-result-container'><table class='table-result'><thead style='background-color: white'><tr><th>value</th></tr></thead><tbody><tr><td>+-------------+------+--------+-------+-----------+</td></tr><tr><td>|  series id  | year | period | value | footnotes |</td></tr><tr><td>+-------------+------+--------+-------+-----------+</td></tr><tr><td>| CUSR0000SA0 | 1956 |  M12   | 27.63 |           |</td></tr><tr><td>| CUSR0000SA0 | 1956 |  M11   | 27.51 |           |</td></tr><tr><td>| CUSR0000SA0 | 1956 |  M10   | 27.51 |           |</td></tr><tr><td>| CUSR0000SA0 | 1956 |  M09   | 27.35 |           |</td></tr><tr><td>| CUSR0000SA0 | 1956 |  M08   | 27.31 |           |</td></tr><tr><td>| CUSR0000SA0 | 1956 |  M07   | 27.29 |           |</td></tr><tr><td>| CUSR0000SA0 | 1956 |  M06   | 27.15 |           |</td></tr><tr><td>| CUSR0000SA0 | 1956 |  M05   | 27.03 |           |</td></tr><tr><td>| CUSR0000SA0 | 1956 |  M04   | 26.93 |           |</td></tr><tr><td>| CUSR0000SA0 | 1956 |  M03   | 26.89 |           |</td></tr><tr><td>| CUSR0000SA0 | 1956 |  M02   | 26.86 |           |</td></tr><tr><td>| CUSR0000SA0 | 1956 |  M01   | 26.83 |           |</td></tr><tr><td>| CUSR0000SA0 | 1955 |  M12   | 26.87 |           |</td></tr><tr><td>| CUSR0000SA0 | 1955 |  M11   | 26.88 |           |</td></tr><tr><td>| CUSR0000SA0 | 1955 |  M10   | 26.82 |           |</td></tr><tr><td>| CUSR0000SA0 | 1955 |  M09   | 26.85 |           |</td></tr><tr><td>| CUSR0000SA0 | 1955 |  M08   | 26.72 |           |</td></tr><tr><td>| CUSR0000SA0 | 1955 |  M07   | 26.76 |           |</td></tr><tr><td>| CUSR0000SA0 | 1955 |  M06   | 26.71 |           |</td></tr><tr><td>| CUSR0000SA0 | 1955 |  M05   | 26.77 |           |</td></tr><tr><td>| CUSR0000SA0 | 1955 |  M04   | 26.79 |           |</td></tr><tr><td>| CUSR0000SA0 | 1955 |  M03   | 26.79 |           |</td></tr><tr><td>| CUSR0000SA0 | 1955 |  M02   | 26.82 |           |</td></tr><tr><td>| CUSR0000SA0 | 1955 |  M01   | 26.77 |           |</td></tr><tr><td>| CUSR0000SA0 | 1954 |  M12   | 26.77 |           |</td></tr><tr><td>| CUSR0000SA0 | 1954 |  M11   | 26.78 |           |</td></tr><tr><td>| CUSR0000SA0 | 1954 |  M10   | 26.72 |           |</td></tr><tr><td>| CUSR0000SA0 | 1954 |  M09   | 26.81 |           |</td></tr><tr><td>| CUSR0000SA0 | 1954 |  M08   | 26.85 |           |</td></tr><tr><td>| CUSR0000SA0 | 1954 |  M07   | 26.86 |           |</td></tr><tr><td>| CUSR0000SA0 | 1954 |  M06   | 26.94 |           |</td></tr><tr><td>| CUSR0000SA0 | 1954 |  M05   | 26.93 |           |</td></tr><tr><td>| CUSR0000SA0 | 1954 |  M04   | 26.86 |           |</td></tr><tr><td>| CUSR0000SA0 | 1954 |  M03   | 26.93 |           |</td></tr><tr><td>| CUSR0000SA0 | 1954 |  M02   | 26.99 |           |</td></tr><tr><td>| CUSR0000SA0 | 1954 |  M01   | 26.94 |           |</td></tr><tr><td>| CUSR0000SA0 | 1953 |  M12   | 26.87 |           |</td></tr><tr><td>| CUSR0000SA0 | 1953 |  M11   | 26.85 |           |</td></tr><tr><td>| CUSR0000SA0 | 1953 |  M10   | 26.95 |           |</td></tr><tr><td>| CUSR0000SA0 | 1953 |  M09   | 26.89 |           |</td></tr><tr><td>| CUSR0000SA0 | 1953 |  M08   | 26.85 |           |</td></tr><tr><td>| CUSR0000SA0 | 1953 |  M07   | 26.79 |           |</td></tr><tr><td>| CUSR0000SA0 | 1953 |  M06   | 26.77 |           |</td></tr><tr><td>| CUSR0000SA0 | 1953 |  M05   | 26.70 |           |</td></tr><tr><td>| CUSR0000SA0 | 1953 |  M04   | 26.69 |           |</td></tr><tr><td>| CUSR0000SA0 | 1953 |  M03   | 26.63 |           |</td></tr><tr><td>| CUSR0000SA0 | 1953 |  M02   | 26.59 |           |</td></tr><tr><td>| CUSR0000SA0 | 1953 |  M01   | 26.64 |           |</td></tr><tr><td>| CUSR0000SA0 | 1952 |  M12   | 26.71 |           |</td></tr><tr><td>| CUSR0000SA0 | 1952 |  M11   | 26.69 |           |</td></tr><tr><td>| CUSR0000SA0 | 1952 |  M10   | 26.69 |           |</td></tr><tr><td>| CUSR0000SA0 | 1952 |  M09   | 26.63 |           |</td></tr><tr><td>| CUSR0000SA0 | 1952 |  M08   | 26.69 |           |</td></tr><tr><td>| CUSR0000SA0 | 1952 |  M07   | 26.68 |           |</td></tr><tr><td>| CUSR0000SA0 | 1952 |  M06   | 26.53 |           |</td></tr><tr><td>| CUSR0000SA0 | 1952 |  M05   | 26.47 |           |</td></tr><tr><td>| CUSR0000SA0 | 1952 |  M04   | 26.46 |           |</td></tr><tr><td>| CUSR0000SA0 | 1952 |  M03   | 26.39 |           |</td></tr><tr><td>| CUSR0000SA0 | 1952 |  M02   | 26.41 |           |</td></tr><tr><td>| CUSR0000SA0 | 1952 |  M01   | 26.45 |           |</td></tr><tr><td>| CUSR0000SA0 | 1951 |  M12   | 26.47 |           |</td></tr><tr><td>| CUSR0000SA0 | 1951 |  M11   | 26.32 |           |</td></tr><tr><td>| CUSR0000SA0 | 1951 |  M10   | 26.16 |           |</td></tr><tr><td>| CUSR0000SA0 | 1951 |  M09   | 26.03 |           |</td></tr><tr><td>| CUSR0000SA0 | 1951 |  M08   | 25.86 |           |</td></tr><tr><td>| CUSR0000SA0 | 1951 |  M07   | 25.91 |           |</td></tr><tr><td>| CUSR0000SA0 | 1951 |  M06   | 25.93 |           |</td></tr><tr><td>| CUSR0000SA0 | 1951 |  M05   | 25.99 |           |</td></tr><tr><td>| CUSR0000SA0 | 1951 |  M04   | 25.92 |           |</td></tr><tr><td>| CUSR0000SA0 | 1951 |  M03   | 25.88 |           |</td></tr><tr><td>| CUSR0000SA0 | 1951 |  M02   | 25.83 |           |</td></tr><tr><td>| CUSR0000SA0 | 1951 |  M01   | 25.38 |           |</td></tr><tr><td>| CUSR0000SA0 | 1950 |  M12   | 24.98 |           |</td></tr><tr><td>| CUSR0000SA0 | 1950 |  M11   | 24.60 |           |</td></tr><tr><td>| CUSR0000SA0 | 1950 |  M10   | 24.50 |           |</td></tr><tr><td>| CUSR0000SA0 | 1950 |  M09   | 24.34 |           |</td></tr><tr><td>| CUSR0000SA0 | 1950 |  M08   | 24.20 |           |</td></tr><tr><td>| CUSR0000SA0 | 1950 |  M07   | 24.07 |           |</td></tr><tr><td>| CUSR0000SA0 | 1950 |  M06   | 23.88 |           |</td></tr><tr><td>| CUSR0000SA0 | 1950 |  M05   | 23.77 |           |</td></tr><tr><td>| CUSR0000SA0 | 1950 |  M04   | 23.65 |           |</td></tr><tr><td>| CUSR0000SA0 | 1950 |  M03   | 23.64 |           |</td></tr><tr><td>| CUSR0000SA0 | 1950 |  M02   | 23.61 |           |</td></tr><tr><td>| CUSR0000SA0 | 1950 |  M01   | 23.51 |           |</td></tr><tr><td>| CUSR0000SA0 | 1949 |  M12   | 23.61 |           |</td></tr><tr><td>| CUSR0000SA0 | 1949 |  M11   | 23.70 |           |</td></tr><tr><td>| CUSR0000SA0 | 1949 |  M10   | 23.67 |           |</td></tr><tr><td>| CUSR0000SA0 | 1949 |  M09   | 23.75 |           |</td></tr><tr><td>| CUSR0000SA0 | 1949 |  M08   | 23.70 |           |</td></tr><tr><td>| CUSR0000SA0 | 1949 |  M07   | 23.70 |           |</td></tr><tr><td>| CUSR0000SA0 | 1949 |  M06   | 23.92 |           |</td></tr><tr><td>| CUSR0000SA0 | 1949 |  M05   | 23.91 |           |</td></tr><tr><td>| CUSR0000SA0 | 1949 |  M04   | 23.92 |           |</td></tr><tr><td>| CUSR0000SA0 | 1949 |  M03   | 23.91 |           |</td></tr><tr><td>| CUSR0000SA0 | 1949 |  M02   | 23.91 |           |</td></tr><tr><td>| CUSR0000SA0 | 1949 |  M01   | 24.01 |           |</td></tr><tr><td>| CUSR0000SA0 | 1948 |  M12   | 24.05 |           |</td></tr><tr><td>| CUSR0000SA0 | 1948 |  M11   | 24.16 |           |</td></tr><tr><td>| CUSR0000SA0 | 1948 |  M10   | 24.31 |           |</td></tr><tr><td>| CUSR0000SA0 | 1948 |  M09   | 24.36 |           |</td></tr><tr><td>| CUSR0000SA0 | 1948 |  M08   | 24.43 |           |</td></tr><tr><td>| CUSR0000SA0 | 1948 |  M07   | 24.40 |           |</td></tr><tr><td>| CUSR0000SA0 | 1948 |  M06   | 24.15 |           |</td></tr><tr><td>| CUSR0000SA0 | 1948 |  M05   | 24.01 |           |</td></tr><tr><td>| CUSR0000SA0 | 1948 |  M04   | 23.82 |           |</td></tr><tr><td>| CUSR0000SA0 | 1948 |  M03   | 23.50 |           |</td></tr><tr><td>| CUSR0000SA0 | 1948 |  M02   | 23.67 |           |</td></tr><tr><td>| CUSR0000SA0 | 1948 |  M01   | 23.68 |           |</td></tr><tr><td>| CUSR0000SA0 | 1947 |  M12   | 23.41 |           |</td></tr><tr><td>| CUSR0000SA0 | 1947 |  M11   | 23.06 |           |</td></tr><tr><td>| CUSR0000SA0 | 1947 |  M10   | 22.91 |           |</td></tr><tr><td>| CUSR0000SA0 | 1947 |  M09   | 22.84 |           |</td></tr><tr><td>| CUSR0000SA0 | 1947 |  M08   | 22.40 |           |</td></tr><tr><td>| CUSR0000SA0 | 1947 |  M07   | 22.23 |           |</td></tr><tr><td>| CUSR0000SA0 | 1947 |  M06   | 22.08 |           |</td></tr><tr><td>| CUSR0000SA0 | 1947 |  M05   | 21.95 |           |</td></tr><tr><td>| CUSR0000SA0 | 1947 |  M04   | 22.00 |           |</td></tr><tr><td>| CUSR0000SA0 | 1947 |  M03   | 22.00 |           |</td></tr><tr><td>| CUSR0000SA0 | 1947 |  M02   | 21.62 |           |</td></tr><tr><td>| CUSR0000SA0 | 1947 |  M01   | 21.48 |           |</td></tr><tr><td>+-------------+------+--------+-------+-----------++-------------+------+--------+-------+-----------+</td></tr><tr><td>|  series id  | year | period | value | footnotes |</td></tr><tr><td>+-------------+------+--------+-------+-----------+</td></tr><tr><td>| CUSR0000SA0 | 1966 |  M12   | 32.92 |           |</td></tr><tr><td>| CUSR0000SA0 | 1966 |  M11   | 32.88 |           |</td></tr><tr><td>| CUSR0000SA0 | 1966 |  M10   | 32.85 |           |</td></tr><tr><td>| CUSR0000SA0 | 1966 |  M09   | 32.75 |           |</td></tr><tr><td>| CUSR0000SA0 | 1966 |  M08   | 32.65 |           |</td></tr><tr><td>| CUSR0000SA0 | 1966 |  M07   | 32.45 |           |</td></tr><tr><td>| CUSR0000SA0 | 1966 |  M06   | 32.38 |           |</td></tr><tr><td>| CUSR0000SA0 | 1966 |  M05   | 32.35 |           |</td></tr><tr><td>| CUSR0000SA0 | 1966 |  M04   | 32.28 |           |</td></tr><tr><td>| CUSR0000SA0 | 1966 |  M03   | 32.18 |           |</td></tr><tr><td>| CUSR0000SA0 | 1966 |  M02   | 32.08 |           |</td></tr><tr><td>| CUSR0000SA0 | 1966 |  M01   | 31.88 |           |</td></tr><tr><td>| CUSR0000SA0 | 1965 |  M12   | 31.85 |           |</td></tr><tr><td>| CUSR0000SA0 | 1965 |  M11   | 31.75 |           |</td></tr><tr><td>| CUSR0000SA0 | 1965 |  M10   | 31.65 |           |</td></tr><tr><td>| CUSR0000SA0 | 1965 |  M09   | 31.62 |           |</td></tr><tr><td>| CUSR0000SA0 | 1965 |  M08   | 31.55 |           |</td></tr><tr><td>| CUSR0000SA0 | 1965 |  M07   | 31.58 |           |</td></tr><tr><td>| CUSR0000SA0 | 1965 |  M06   | 31.61 |           |</td></tr><tr><td>| CUSR0000SA0 | 1965 |  M05   | 31.48 |           |</td></tr><tr><td>| CUSR0000SA0 | 1965 |  M04   | 31.38 |           |</td></tr><tr><td>| CUSR0000SA0 | 1965 |  M03   | 31.31 |           |</td></tr><tr><td>| CUSR0000SA0 | 1965 |  M02   | 31.28 |           |</td></tr><tr><td>| CUSR0000SA0 | 1965 |  M01   | 31.28 |           |</td></tr><tr><td>| CUSR0000SA0 | 1964 |  M12   | 31.25 |           |</td></tr><tr><td>| CUSR0000SA0 | 1964 |  M11   | 31.21 |           |</td></tr><tr><td>| CUSR0000SA0 | 1964 |  M10   | 31.12 |           |</td></tr><tr><td>| CUSR0000SA0 | 1964 |  M09   | 31.08 |           |</td></tr><tr><td>| CUSR0000SA0 | 1964 |  M08   | 31.05 |           |</td></tr><tr><td>| CUSR0000SA0 | 1964 |  M07   | 31.02 |           |</td></tr><tr><td>| CUSR0000SA0 | 1964 |  M06   | 31.01 |           |</td></tr><tr><td>| CUSR0000SA0 | 1964 |  M05   | 30.98 |           |</td></tr><tr><td>| CUSR0000SA0 | 1964 |  M04   | 30.95 |           |</td></tr><tr><td>| CUSR0000SA0 | 1964 |  M03   | 30.94 |           |</td></tr><tr><td>| CUSR0000SA0 | 1964 |  M02   | 30.91 |           |</td></tr><tr><td>| CUSR0000SA0 | 1964 |  M01   | 30.94 |           |</td></tr><tr><td>| CUSR0000SA0 | 1963 |  M12   | 30.88 |           |</td></tr><tr><td>| CUSR0000SA0 | 1963 |  M11   | 30.78 |           |</td></tr><tr><td>| CUSR0000SA0 | 1963 |  M10   | 30.75 |           |</td></tr><tr><td>| CUSR0000SA0 | 1963 |  M09   | 30.72 |           |</td></tr><tr><td>| CUSR0000SA0 | 1963 |  M08   | 30.75 |           |</td></tr><tr><td>| CUSR0000SA0 | 1963 |  M07   | 30.69 |           |</td></tr><tr><td>| CUSR0000SA0 | 1963 |  M06   | 30.61 |           |</td></tr><tr><td>| CUSR0000SA0 | 1963 |  M05   | 30.51 |           |</td></tr><tr><td>| CUSR0000SA0 | 1963 |  M04   | 30.48 |           |</td></tr><tr><td>| CUSR0000SA0 | 1963 |  M03   | 30.51 |           |</td></tr><tr><td>| CUSR0000SA0 | 1963 |  M02   | 30.48 |           |</td></tr><tr><td>| CUSR0000SA0 | 1963 |  M01   | 30.44 |           |</td></tr><tr><td>| CUSR0000SA0 | 1962 |  M12   | 30.38 |           |</td></tr><tr><td>| CUSR0000SA0 | 1962 |  M11   | 30.38 |           |</td></tr><tr><td>| CUSR0000SA0 | 1962 |  M10   | 30.38 |           |</td></tr><tr><td>| CUSR0000SA0 | 1962 |  M09   | 30.42 |           |</td></tr><tr><td>| CUSR0000SA0 | 1962 |  M08   | 30.28 |           |</td></tr><tr><td>| CUSR0000SA0 | 1962 |  M07   | 30.22 |           |</td></tr><tr><td>| CUSR0000SA0 | 1962 |  M06   | 30.21 |           |</td></tr><tr><td>| CUSR0000SA0 | 1962 |  M05   | 30.24 |           |</td></tr><tr><td>| CUSR0000SA0 | 1962 |  M04   | 30.21 |           |</td></tr><tr><td>| CUSR0000SA0 | 1962 |  M03   | 30.17 |           |</td></tr><tr><td>| CUSR0000SA0 | 1962 |  M02   | 30.11 |           |</td></tr><tr><td>| CUSR0000SA0 | 1962 |  M01   | 30.04 |           |</td></tr><tr><td>| CUSR0000SA0 | 1961 |  M12   | 30.01 |           |</td></tr><tr><td>| CUSR0000SA0 | 1961 |  M11   | 29.98 |           |</td></tr><tr><td>| CUSR0000SA0 | 1961 |  M10   | 29.98 |           |</td></tr><tr><td>| CUSR0000SA0 | 1961 |  M09   | 29.98 |           |</td></tr><tr><td>| CUSR0000SA0 | 1961 |  M08   | 29.94 |           |</td></tr><tr><td>| CUSR0000SA0 | 1961 |  M07   | 29.92 |           |</td></tr><tr><td>| CUSR0000SA0 | 1961 |  M06   | 29.84 |           |</td></tr><tr><td>| CUSR0000SA0 | 1961 |  M05   | 29.84 |           |</td></tr><tr><td>| CUSR0000SA0 | 1961 |  M04   | 29.81 |           |</td></tr><tr><td>| CUSR0000SA0 | 1961 |  M03   | 29.84 |           |</td></tr><tr><td>| CUSR0000SA0 | 1961 |  M02   | 29.84 |           |</td></tr><tr><td>| CUSR0000SA0 | 1961 |  M01   | 29.84 |           |</td></tr><tr><td>| CUSR0000SA0 | 1960 |  M12   | 29.81 |           |</td></tr><tr><td>| CUSR0000SA0 | 1960 |  M11   | 29.78 |           |</td></tr><tr><td>| CUSR0000SA0 | 1960 |  M10   | 29.75 |           |</td></tr><tr><td>| CUSR0000SA0 | 1960 |  M09   | 29.61 |           |</td></tr><tr><td>| CUSR0000SA0 | 1960 |  M08   | 29.61 |           |</td></tr><tr><td>| CUSR0000SA0 | 1960 |  M07   | 29.55 |           |</td></tr><tr><td>| CUSR0000SA0 | 1960 |  M06   | 29.61 |           |</td></tr><tr><td>| CUSR0000SA0 | 1960 |  M05   | 29.57 |           |</td></tr><tr><td>| CUSR0000SA0 | 1960 |  M04   | 29.54 |           |</td></tr><tr><td>| CUSR0000SA0 | 1960 |  M03   | 29.41 |           |</td></tr><tr><td>| CUSR0000SA0 | 1960 |  M02   | 29.41 |           |</td></tr><tr><td>| CUSR0000SA0 | 1960 |  M01   | 29.37 |           |</td></tr><tr><td>| CUSR0000SA0 | 1959 |  M12   | 29.41 |           |</td></tr><tr><td>| CUSR0000SA0 | 1959 |  M11   | 29.35 |           |</td></tr><tr><td>| CUSR0000SA0 | 1959 |  M10   | 29.35 |           |</td></tr><tr><td>| CUSR0000SA0 | 1959 |  M09   | 29.25 |           |</td></tr><tr><td>| CUSR0000SA0 | 1959 |  M08   | 29.18 |           |</td></tr><tr><td>| CUSR0000SA0 | 1959 |  M07   | 29.15 |           |</td></tr><tr><td>| CUSR0000SA0 | 1959 |  M06   | 29.11 |           |</td></tr><tr><td>| CUSR0000SA0 | 1959 |  M05   | 29.04 |           |</td></tr><tr><td>| CUSR0000SA0 | 1959 |  M04   | 28.98 |           |</td></tr><tr><td>| CUSR0000SA0 | 1959 |  M03   | 28.97 |           |</td></tr><tr><td>| CUSR0000SA0 | 1959 |  M02   | 29.00 |           |</td></tr><tr><td>| CUSR0000SA0 | 1959 |  M01   | 29.01 |           |</td></tr><tr><td>| CUSR0000SA0 | 1958 |  M12   | 28.97 |           |</td></tr><tr><td>| CUSR0000SA0 | 1958 |  M11   | 28.95 |           |</td></tr><tr><td>| CUSR0000SA0 | 1958 |  M10   | 28.91 |           |</td></tr><tr><td>| CUSR0000SA0 | 1958 |  M09   | 28.91 |           |</td></tr><tr><td>| CUSR0000SA0 | 1958 |  M08   | 28.94 |           |</td></tr><tr><td>| CUSR0000SA0 | 1958 |  M07   | 28.89 |           |</td></tr><tr><td>| CUSR0000SA0 | 1958 |  M06   | 28.91 |           |</td></tr><tr><td>| CUSR0000SA0 | 1958 |  M05   | 28.94 |           |</td></tr><tr><td>| CUSR0000SA0 | 1958 |  M04   | 28.94 |           |</td></tr><tr><td>| CUSR0000SA0 | 1958 |  M03   | 28.87 |           |</td></tr><tr><td>| CUSR0000SA0 | 1958 |  M02   | 28.70 |           |</td></tr><tr><td>| CUSR0000SA0 | 1958 |  M01   | 28.64 |           |</td></tr><tr><td>| CUSR0000SA0 | 1957 |  M12   | 28.47 |           |</td></tr><tr><td>| CUSR0000SA0 | 1957 |  M11   | 28.41 |           |</td></tr><tr><td>| CUSR0000SA0 | 1957 |  M10   | 28.32 |           |</td></tr><tr><td>| CUSR0000SA0 | 1957 |  M09   | 28.32 |           |</td></tr><tr><td>| CUSR0000SA0 | 1957 |  M08   | 28.28 |           |</td></tr><tr><td>| CUSR0000SA0 | 1957 |  M07   | 28.19 |           |</td></tr><tr><td>| CUSR0000SA0 | 1957 |  M06   | 28.11 |           |</td></tr><tr><td>| CUSR0000SA0 | 1957 |  M05   | 28.00 |           |</td></tr><tr><td>| CUSR0000SA0 | 1957 |  M04   | 27.93 |           |</td></tr><tr><td>| CUSR0000SA0 | 1957 |  M03   | 27.86 |           |</td></tr><tr><td>| CUSR0000SA0 | 1957 |  M02   | 27.80 |           |</td></tr><tr><td>| CUSR0000SA0 | 1957 |  M01   | 27.67 |           |</td></tr><tr><td>+-------------+------+--------+-------+-----------++-------------+------+--------+-------+-----------+</td></tr><tr><td>|  series id  | year | period | value | footnotes |</td></tr><tr><td>+-------------+------+--------+-------+-----------+</td></tr><tr><td>| CUSR0000SA0 | 1976 |  M12   | 58.40 |           |</td></tr><tr><td>| CUSR0000SA0 | 1976 |  M11   | 58.10 |           |</td></tr><tr><td>| CUSR0000SA0 | 1976 |  M10   | 57.90 |           |</td></tr><tr><td>| CUSR0000SA0 | 1976 |  M09   | 57.60 |           |</td></tr><tr><td>| CUSR0000SA0 | 1976 |  M08   | 57.30 |           |</td></tr><tr><td>| CUSR0000SA0 | 1976 |  M07   | 57.00 |           |</td></tr><tr><td>| CUSR0000SA0 | 1976 |  M06   | 56.70 |           |</td></tr><tr><td>| CUSR0000SA0 | 1976 |  M05   | 56.40 |           |</td></tr><tr><td>| CUSR0000SA0 | 1976 |  M04   | 56.10 |           |</td></tr><tr><td>| CUSR0000SA0 | 1976 |  M03   | 56.00 |           |</td></tr><tr><td>| CUSR0000SA0 | 1976 |  M02   | 55.90 |           |</td></tr><tr><td>| CUSR0000SA0 | 1976 |  M01   | 55.80 |           |</td></tr><tr><td>| CUSR0000SA0 | 1975 |  M12   | 55.60 |           |</td></tr><tr><td>| CUSR0000SA0 | 1975 |  M11   | 55.30 |           |</td></tr><tr><td>| CUSR0000SA0 | 1975 |  M10   | 54.90 |           |</td></tr><tr><td>| CUSR0000SA0 | 1975 |  M09   | 54.60 |           |</td></tr><tr><td>| CUSR0000SA0 | 1975 |  M08   | 54.20 |           |</td></tr><tr><td>| CUSR0000SA0 | 1975 |  M07   | 54.00 |           |</td></tr><tr><td>| CUSR0000SA0 | 1975 |  M06   | 53.50 |           |</td></tr><tr><td>| CUSR0000SA0 | 1975 |  M05   | 53.10 |           |</td></tr><tr><td>| CUSR0000SA0 | 1975 |  M04   | 53.00 |           |</td></tr><tr><td>| CUSR0000SA0 | 1975 |  M03   | 52.80 |           |</td></tr><tr><td>| CUSR0000SA0 | 1975 |  M02   | 52.60 |           |</td></tr><tr><td>| CUSR0000SA0 | 1975 |  M01   | 52.30 |           |</td></tr><tr><td>| CUSR0000SA0 | 1974 |  M12   | 51.90 |           |</td></tr><tr><td>| CUSR0000SA0 | 1974 |  M11   | 51.50 |           |</td></tr><tr><td>| CUSR0000SA0 | 1974 |  M10   | 51.00 |           |</td></tr><tr><td>| CUSR0000SA0 | 1974 |  M09   | 50.60 |           |</td></tr><tr><td>| CUSR0000SA0 | 1974 |  M08   | 49.90 |           |</td></tr><tr><td>| CUSR0000SA0 | 1974 |  M07   | 49.30 |           |</td></tr><tr><td>| CUSR0000SA0 | 1974 |  M06   | 49.00 |           |</td></tr><tr><td>| CUSR0000SA0 | 1974 |  M05   | 48.60 |           |</td></tr><tr><td>| CUSR0000SA0 | 1974 |  M04   | 48.10 |           |</td></tr><tr><td>| CUSR0000SA0 | 1974 |  M03   | 47.80 |           |</td></tr><tr><td>| CUSR0000SA0 | 1974 |  M02   | 47.30 |           |</td></tr><tr><td>| CUSR0000SA0 | 1974 |  M01   | 46.80 |           |</td></tr><tr><td>| CUSR0000SA0 | 1973 |  M12   | 46.30 |           |</td></tr><tr><td>| CUSR0000SA0 | 1973 |  M11   | 45.90 |           |</td></tr><tr><td>| CUSR0000SA0 | 1973 |  M10   | 45.60 |           |</td></tr><tr><td>| CUSR0000SA0 | 1973 |  M09   | 45.20 |           |</td></tr><tr><td>| CUSR0000SA0 | 1973 |  M08   | 45.00 |           |</td></tr><tr><td>| CUSR0000SA0 | 1973 |  M07   | 44.20 |           |</td></tr><tr><td>| CUSR0000SA0 | 1973 |  M06   | 44.20 |           |</td></tr><tr><td>| CUSR0000SA0 | 1973 |  M05   | 43.90 |           |</td></tr><tr><td>| CUSR0000SA0 | 1973 |  M04   | 43.70 |           |</td></tr><tr><td>| CUSR0000SA0 | 1973 |  M03   | 43.40 |           |</td></tr><tr><td>| CUSR0000SA0 | 1973 |  M02   | 43.00 |           |</td></tr><tr><td>| CUSR0000SA0 | 1973 |  M01   | 42.70 |           |</td></tr><tr><td>| CUSR0000SA0 | 1972 |  M12   | 42.50 |           |</td></tr><tr><td>| CUSR0000SA0 | 1972 |  M11   | 42.40 |           |</td></tr><tr><td>| CUSR0000SA0 | 1972 |  M10   | 42.20 |           |</td></tr><tr><td>| CUSR0000SA0 | 1972 |  M09   | 42.10 |           |</td></tr><tr><td>| CUSR0000SA0 | 1972 |  M08   | 41.90 |           |</td></tr><tr><td>| CUSR0000SA0 | 1972 |  M07   | 41.80 |           |</td></tr><tr><td>| CUSR0000SA0 | 1972 |  M06   | 41.70 |           |</td></tr><tr><td>| CUSR0000SA0 | 1972 |  M05   | 41.60 |           |</td></tr><tr><td>| CUSR0000SA0 | 1972 |  M04   | 41.50 |           |</td></tr><tr><td>| CUSR0000SA0 | 1972 |  M03   | 41.40 |           |</td></tr><tr><td>| CUSR0000SA0 | 1972 |  M02   | 41.40 |           |</td></tr><tr><td>| CUSR0000SA0 | 1972 |  M01   | 41.20 |           |</td></tr><tr><td>| CUSR0000SA0 | 1971 |  M12   | 41.10 |           |</td></tr><tr><td>| CUSR0000SA0 | 1971 |  M11   | 41.00 |           |</td></tr><tr><td>| CUSR0000SA0 | 1971 |  M10   | 40.90 |           |</td></tr><tr><td>| CUSR0000SA0 | 1971 |  M09   | 40.80 |           |</td></tr><tr><td>| CUSR0000SA0 | 1971 |  M08   | 40.70 |           |</td></tr><tr><td>| CUSR0000SA0 | 1971 |  M07   | 40.60 |           |</td></tr><tr><td>| CUSR0000SA0 | 1971 |  M06   | 40.50 |           |</td></tr><tr><td>| CUSR0000SA0 | 1971 |  M05   | 40.30 |           |</td></tr><tr><td>| CUSR0000SA0 | 1971 |  M04   | 40.10 |           |</td></tr><tr><td>| CUSR0000SA0 | 1971 |  M03   | 40.00 |           |</td></tr><tr><td>| CUSR0000SA0 | 1971 |  M02   | 39.90 |           |</td></tr><tr><td>| CUSR0000SA0 | 1971 |  M01   | 39.90 |           |</td></tr><tr><td>| CUSR0000SA0 | 1970 |  M12   | 39.80 |           |</td></tr><tr><td>| CUSR0000SA0 | 1970 |  M11   | 39.60 |           |</td></tr><tr><td>| CUSR0000SA0 | 1970 |  M10   | 39.40 |           |</td></tr><tr><td>| CUSR0000SA0 | 1970 |  M09   | 39.20 |           |</td></tr><tr><td>| CUSR0000SA0 | 1970 |  M08   | 39.00 |           |</td></tr><tr><td>| CUSR0000SA0 | 1970 |  M07   | 38.90 |           |</td></tr><tr><td>| CUSR0000SA0 | 1970 |  M06   | 38.80 |           |</td></tr><tr><td>| CUSR0000SA0 | 1970 |  M05   | 38.60 |           |</td></tr><tr><td>| CUSR0000SA0 | 1970 |  M04   | 38.50 |           |</td></tr><tr><td>| CUSR0000SA0 | 1970 |  M03   | 38.30 |           |</td></tr><tr><td>| CUSR0000SA0 | 1970 |  M02   | 38.10 |           |</td></tr><tr><td>| CUSR0000SA0 | 1970 |  M01   | 37.90 |           |</td></tr><tr><td>| CUSR0000SA0 | 1969 |  M12   | 37.70 |           |</td></tr><tr><td>| CUSR0000SA0 | 1969 |  M11   | 37.50 |           |</td></tr><tr><td>| CUSR0000SA0 | 1969 |  M10   | 37.30 |           |</td></tr><tr><td>| CUSR0000SA0 | 1969 |  M09   | 37.10 |           |</td></tr><tr><td>| CUSR0000SA0 | 1969 |  M08   | 36.90 |           |</td></tr><tr><td>| CUSR0000SA0 | 1969 |  M07   | 36.80 |           |</td></tr><tr><td>| CUSR0000SA0 | 1969 |  M06   | 36.60 |           |</td></tr><tr><td>| CUSR0000SA0 | 1969 |  M05   | 36.40 |           |</td></tr><tr><td>| CUSR0000SA0 | 1969 |  M04   | 36.30 |           |</td></tr><tr><td>| CUSR0000SA0 | 1969 |  M03   | 36.10 |           |</td></tr><tr><td>| CUSR0000SA0 | 1969 |  M02   | 35.80 |           |</td></tr><tr><td>| CUSR0000SA0 | 1969 |  M01   | 35.70 |           |</td></tr><tr><td>| CUSR0000SA0 | 1968 |  M12   | 35.60 |           |</td></tr><tr><td>| CUSR0000SA0 | 1968 |  M11   | 35.40 |           |</td></tr><tr><td>| CUSR0000SA0 | 1968 |  M10   | 35.30 |           |</td></tr><tr><td>| CUSR0000SA0 | 1968 |  M09   | 35.10 |           |</td></tr><tr><td>| CUSR0000SA0 | 1968 |  M08   | 35.00 |           |</td></tr><tr><td>| CUSR0000SA0 | 1968 |  M07   | 34.90 |           |</td></tr><tr><td>| CUSR0000SA0 | 1968 |  M06   | 34.70 |           |</td></tr><tr><td>| CUSR0000SA0 | 1968 |  M05   | 34.50 |           |</td></tr><tr><td>| CUSR0000SA0 | 1968 |  M04   | 34.40 |           |</td></tr><tr><td>| CUSR0000SA0 | 1968 |  M03   | 34.30 |           |</td></tr><tr><td>| CUSR0000SA0 | 1968 |  M02   | 34.20 |           |</td></tr><tr><td>| CUSR0000SA0 | 1968 |  M01   | 34.10 |           |</td></tr><tr><td>| CUSR0000SA0 | 1967 |  M12   | 34.00 |           |</td></tr><tr><td>| CUSR0000SA0 | 1967 |  M11   | 33.90 |           |</td></tr><tr><td>| CUSR0000SA0 | 1967 |  M10   | 33.70 |           |</td></tr><tr><td>| CUSR0000SA0 | 1967 |  M09   | 33.60 |           |</td></tr><tr><td>| CUSR0000SA0 | 1967 |  M08   | 33.50 |           |</td></tr><tr><td>| CUSR0000SA0 | 1967 |  M07   | 33.40 |           |</td></tr><tr><td>| CUSR0000SA0 | 1967 |  M06   | 33.30 |           |</td></tr><tr><td>| CUSR0000SA0 | 1967 |  M05   | 33.10 |           |</td></tr><tr><td>| CUSR0000SA0 | 1967 |  M04   | 33.10 |           |</td></tr><tr><td>| CUSR0000SA0 | 1967 |  M03   | 33.00 |           |</td></tr><tr><td>| CUSR0000SA0 | 1967 |  M02   | 33.00 |           |</td></tr><tr><td>| CUSR0000SA0 | 1967 |  M01   | 32.90 |           |</td></tr><tr><td>+-------------+------+--------+-------+-----------++-------------+------+--------+--------+-----------+</td></tr><tr><td>|  series id  | year | period | value  | footnotes |</td></tr><tr><td>+-------------+------+--------+--------+-----------+</td></tr><tr><td>| CUSR0000SA0 | 1986 |  M12   | 110.80 |           |</td></tr><tr><td>| CUSR0000SA0 | 1986 |  M11   | 110.40 |           |</td></tr><tr><td>| CUSR0000SA0 | 1986 |  M10   | 110.20 |           |</td></tr><tr><td>| CUSR0000SA0 | 1986 |  M09   | 110.00 |           |</td></tr><tr><td>| CUSR0000SA0 | 1986 |  M08   | 109.60 |           |</td></tr><tr><td>| CUSR0000SA0 | 1986 |  M07   | 109.50 |           |</td></tr><tr><td>| CUSR0000SA0 | 1986 |  M06   | 109.40 |           |</td></tr><tr><td>| CUSR0000SA0 | 1986 |  M05   | 109.00 |           |</td></tr><tr><td>| CUSR0000SA0 | 1986 |  M04   | 108.70 |           |</td></tr><tr><td>| CUSR0000SA0 | 1986 |  M03   | 109.10 |           |</td></tr><tr><td>| CUSR0000SA0 | 1986 |  M02   | 109.70 |           |</td></tr><tr><td>| CUSR0000SA0 | 1986 |  M01   | 109.90 |           |</td></tr><tr><td>| CUSR0000SA0 | 1985 |  M12   | 109.50 |           |</td></tr><tr><td>| CUSR0000SA0 | 1985 |  M11   | 109.00 |           |</td></tr><tr><td>| CUSR0000SA0 | 1985 |  M10   | 108.50 |           |</td></tr><tr><td>| CUSR0000SA0 | 1985 |  M09   | 108.10 |           |</td></tr><tr><td>| CUSR0000SA0 | 1985 |  M08   | 107.90 |           |</td></tr><tr><td>| CUSR0000SA0 | 1985 |  M07   | 107.70 |           |</td></tr><tr><td>| CUSR0000SA0 | 1985 |  M06   | 107.50 |           |</td></tr><tr><td>| CUSR0000SA0 | 1985 |  M05   | 107.20 |           |</td></tr><tr><td>| CUSR0000SA0 | 1985 |  M04   | 107.00 |           |</td></tr><tr><td>| CUSR0000SA0 | 1985 |  M03   | 106.80 |           |</td></tr><tr><td>| CUSR0000SA0 | 1985 |  M02   | 106.30 |           |</td></tr><tr><td>| CUSR0000SA0 | 1985 |  M01   | 105.70 |           |</td></tr><tr><td>| CUSR0000SA0 | 1984 |  M12   | 105.50 |           |</td></tr><tr><td>| CUSR0000SA0 | 1984 |  M11   | 105.30 |           |</td></tr><tr><td>| CUSR0000SA0 | 1984 |  M10   | 105.10 |           |</td></tr><tr><td>| CUSR0000SA0 | 1984 |  M09   | 104.70 |           |</td></tr><tr><td>| CUSR0000SA0 | 1984 |  M08   | 104.40 |           |</td></tr><tr><td>| CUSR0000SA0 | 1984 |  M07   | 104.10 |           |</td></tr><tr><td>| CUSR0000SA0 | 1984 |  M06   | 103.70 |           |</td></tr><tr><td>| CUSR0000SA0 | 1984 |  M05   | 103.50 |           |</td></tr><tr><td>| CUSR0000SA0 | 1984 |  M04   | 103.30 |           |</td></tr><tr><td>| CUSR0000SA0 | 1984 |  M03   | 102.90 |           |</td></tr><tr><td>| CUSR0000SA0 | 1984 |  M02   | 102.60 |           |</td></tr><tr><td>| CUSR0000SA0 | 1984 |  M01   | 102.10 |           |</td></tr><tr><td>| CUSR0000SA0 | 1983 |  M12   | 101.40 |           |</td></tr><tr><td>| CUSR0000SA0 | 1983 |  M11   | 101.10 |           |</td></tr><tr><td>| CUSR0000SA0 | 1983 |  M10   | 100.80 |           |</td></tr><tr><td>| CUSR0000SA0 | 1983 |  M09   | 100.40 |           |</td></tr><tr><td>| CUSR0000SA0 | 1983 |  M08   | 100.10 |           |</td></tr><tr><td>| CUSR0000SA0 | 1983 |  M07   | 99.80  |           |</td></tr><tr><td>| CUSR0000SA0 | 1983 |  M06   | 99.40  |           |</td></tr><tr><td>| CUSR0000SA0 | 1983 |  M05   | 99.20  |           |</td></tr><tr><td>| CUSR0000SA0 | 1983 |  M04   | 98.80  |           |</td></tr><tr><td>| CUSR0000SA0 | 1983 |  M03   | 98.10  |           |</td></tr><tr><td>| CUSR0000SA0 | 1983 |  M02   | 98.00  |           |</td></tr><tr><td>| CUSR0000SA0 | 1983 |  M01   | 97.90  |           |</td></tr><tr><td>| CUSR0000SA0 | 1982 |  M12   | 97.70  |           |</td></tr><tr><td>| CUSR0000SA0 | 1982 |  M11   | 98.00  |           |</td></tr><tr><td>| CUSR0000SA0 | 1982 |  M10   | 98.10  |           |</td></tr><tr><td>| CUSR0000SA0 | 1982 |  M09   | 97.70  |           |</td></tr><tr><td>| CUSR0000SA0 | 1982 |  M08   | 97.70  |           |</td></tr><tr><td>| CUSR0000SA0 | 1982 |  M07   | 97.50  |           |</td></tr><tr><td>| CUSR0000SA0 | 1982 |  M06   | 97.00  |           |</td></tr><tr><td>| CUSR0000SA0 | 1982 |  M05   | 95.90  |           |</td></tr><tr><td>| CUSR0000SA0 | 1982 |  M04   | 95.00  |           |</td></tr><tr><td>| CUSR0000SA0 | 1982 |  M03   | 94.70  |           |</td></tr><tr><td>| CUSR0000SA0 | 1982 |  M02   | 94.70  |           |</td></tr><tr><td>| CUSR0000SA0 | 1982 |  M01   | 94.40  |           |</td></tr><tr><td>| CUSR0000SA0 | 1981 |  M12   | 94.10  |           |</td></tr><tr><td>| CUSR0000SA0 | 1981 |  M11   | 93.80  |           |</td></tr><tr><td>| CUSR0000SA0 | 1981 |  M10   | 93.40  |           |</td></tr><tr><td>| CUSR0000SA0 | 1981 |  M09   | 93.10  |           |</td></tr><tr><td>| CUSR0000SA0 | 1981 |  M08   | 92.20  |           |</td></tr><tr><td>| CUSR0000SA0 | 1981 |  M07   | 91.50  |           |</td></tr><tr><td>| CUSR0000SA0 | 1981 |  M06   | 90.50  |           |</td></tr><tr><td>| CUSR0000SA0 | 1981 |  M05   | 89.70  |           |</td></tr><tr><td>| CUSR0000SA0 | 1981 |  M04   | 89.10  |           |</td></tr><tr><td>| CUSR0000SA0 | 1981 |  M03   | 88.60  |           |</td></tr><tr><td>| CUSR0000SA0 | 1981 |  M02   | 88.00  |           |</td></tr><tr><td>| CUSR0000SA0 | 1981 |  M01   | 87.20  |           |</td></tr><tr><td>| CUSR0000SA0 | 1980 |  M12   | 86.40  |           |</td></tr><tr><td>| CUSR0000SA0 | 1980 |  M11   | 85.60  |           |</td></tr><tr><td>| CUSR0000SA0 | 1980 |  M10   | 84.70  |           |</td></tr><tr><td>| CUSR0000SA0 | 1980 |  M09   | 83.90  |           |</td></tr><tr><td>| CUSR0000SA0 | 1980 |  M08   | 83.20  |           |</td></tr><tr><td>| CUSR0000SA0 | 1980 |  M07   | 82.60  |           |</td></tr><tr><td>| CUSR0000SA0 | 1980 |  M06   | 82.50  |           |</td></tr><tr><td>| CUSR0000SA0 | 1980 |  M05   | 81.70  |           |</td></tr><tr><td>| CUSR0000SA0 | 1980 |  M04   | 80.90  |           |</td></tr><tr><td>| CUSR0000SA0 | 1980 |  M03   | 80.10  |           |</td></tr><tr><td>| CUSR0000SA0 | 1980 |  M02   | 79.00  |           |</td></tr><tr><td>| CUSR0000SA0 | 1980 |  M01   | 78.00  |           |</td></tr><tr><td>| CUSR0000SA0 | 1979 |  M12   | 76.90  |           |</td></tr><tr><td>| CUSR0000SA0 | 1979 |  M11   | 76.00  |           |</td></tr><tr><td>| CUSR0000SA0 | 1979 |  M10   | 75.20  |           |</td></tr><tr><td>| CUSR0000SA0 | 1979 |  M09   | 74.40  |           |</td></tr><tr><td>| CUSR0000SA0 | 1979 |  M08   | 73.70  |           |</td></tr><tr><td>| CUSR0000SA0 | 1979 |  M07   | 73.00  |           |</td></tr><tr><td>| CUSR0000SA0 | 1979 |  M06   | 72.20  |           |</td></tr><tr><td>| CUSR0000SA0 | 1979 |  M05   | 71.40  |           |</td></tr><tr><td>| CUSR0000SA0 | 1979 |  M04   | 70.60  |           |</td></tr><tr><td>| CUSR0000SA0 | 1979 |  M03   | 69.90  |           |</td></tr><tr><td>| CUSR0000SA0 | 1979 |  M02   | 69.20  |           |</td></tr><tr><td>| CUSR0000SA0 | 1979 |  M01   | 68.50  |           |</td></tr><tr><td>| CUSR0000SA0 | 1978 |  M12   | 67.90  |           |</td></tr><tr><td>| CUSR0000SA0 | 1978 |  M11   | 67.50  |           |</td></tr><tr><td>| CUSR0000SA0 | 1978 |  M10   | 67.10  |           |</td></tr><tr><td>| CUSR0000SA0 | 1978 |  M09   | 66.50  |           |</td></tr><tr><td>| CUSR0000SA0 | 1978 |  M08   | 65.90  |           |</td></tr><tr><td>| CUSR0000SA0 | 1978 |  M07   | 65.50  |           |</td></tr><tr><td>| CUSR0000SA0 | 1978 |  M06   | 65.00  |           |</td></tr><tr><td>| CUSR0000SA0 | 1978 |  M05   | 64.50  |           |</td></tr><tr><td>| CUSR0000SA0 | 1978 |  M04   | 63.90  |           |</td></tr><tr><td>| CUSR0000SA0 | 1978 |  M03   | 63.40  |           |</td></tr><tr><td>| CUSR0000SA0 | 1978 |  M02   | 63.00  |           |</td></tr><tr><td>| CUSR0000SA0 | 1978 |  M01   | 62.70  |           |</td></tr><tr><td>| CUSR0000SA0 | 1977 |  M12   | 62.30  |           |</td></tr><tr><td>| CUSR0000SA0 | 1977 |  M11   | 62.00  |           |</td></tr><tr><td>| CUSR0000SA0 | 1977 |  M10   | 61.60  |           |</td></tr><tr><td>| CUSR0000SA0 | 1977 |  M09   | 61.30  |           |</td></tr><tr><td>| CUSR0000SA0 | 1977 |  M08   | 61.10  |           |</td></tr><tr><td>| CUSR0000SA0 | 1977 |  M07   | 60.80  |           |</td></tr><tr><td>| CUSR0000SA0 | 1977 |  M06   | 60.50  |           |</td></tr><tr><td>| CUSR0000SA0 | 1977 |  M05   | 60.20  |           |</td></tr><tr><td>| CUSR0000SA0 | 1977 |  M04   | 60.00  |           |</td></tr><tr><td>| CUSR0000SA0 | 1977 |  M03   | 59.60  |           |</td></tr><tr><td>| CUSR0000SA0 | 1977 |  M02   | 59.30  |           |</td></tr><tr><td>| CUSR0000SA0 | 1977 |  M01   | 58.70  |           |</td></tr><tr><td>+-------------+------+--------+--------+-----------++-------------+------+--------+--------+-----------+</td></tr><tr><td>|  series id  | year | period | value  | footnotes |</td></tr><tr><td>+-------------+------+--------+--------+-----------+</td></tr><tr><td>| CUSR0000SA0 | 1996 |  M12   | 159.10 |           |</td></tr><tr><td>| CUSR0000SA0 | 1996 |  M11   | 158.70 |           |</td></tr><tr><td>| CUSR0000SA0 | 1996 |  M10   | 158.20 |           |</td></tr><tr><td>| CUSR0000SA0 | 1996 |  M09   | 157.70 |           |</td></tr><tr><td>| CUSR0000SA0 | 1996 |  M08   | 157.20 |           |</td></tr><tr><td>| CUSR0000SA0 | 1996 |  M07   | 157.00 |           |</td></tr><tr><td>| CUSR0000SA0 | 1996 |  M06   | 156.70 |           |</td></tr><tr><td>| CUSR0000SA0 | 1996 |  M05   | 156.40 |           |</td></tr><tr><td>| CUSR0000SA0 | 1996 |  M04   | 156.10 |           |</td></tr><tr><td>| CUSR0000SA0 | 1996 |  M03   | 155.50 |           |</td></tr><tr><td>| CUSR0000SA0 | 1996 |  M02   | 155.00 |           |</td></tr><tr><td>| CUSR0000SA0 | 1996 |  M01   | 154.70 |           |</td></tr><tr><td>| CUSR0000SA0 | 1995 |  M12   | 153.90 |           |</td></tr><tr><td>| CUSR0000SA0 | 1995 |  M11   | 153.70 |           |</td></tr><tr><td>| CUSR0000SA0 | 1995 |  M10   | 153.50 |           |</td></tr><tr><td>| CUSR0000SA0 | 1995 |  M09   | 153.10 |           |</td></tr><tr><td>| CUSR0000SA0 | 1995 |  M08   | 152.90 |           |</td></tr><tr><td>| CUSR0000SA0 | 1995 |  M07   | 152.60 |           |</td></tr><tr><td>| CUSR0000SA0 | 1995 |  M06   | 152.40 |           |</td></tr><tr><td>| CUSR0000SA0 | 1995 |  M05   | 152.10 |           |</td></tr><tr><td>| CUSR0000SA0 | 1995 |  M04   | 151.80 |           |</td></tr><tr><td>| CUSR0000SA0 | 1995 |  M03   | 151.20 |           |</td></tr><tr><td>| CUSR0000SA0 | 1995 |  M02   | 150.90 |           |</td></tr><tr><td>| CUSR0000SA0 | 1995 |  M01   | 150.50 |           |</td></tr><tr><td>| CUSR0000SA0 | 1994 |  M12   | 150.10 |           |</td></tr><tr><td>| CUSR0000SA0 | 1994 |  M11   | 149.80 |           |</td></tr><tr><td>| CUSR0000SA0 | 1994 |  M10   | 149.40 |           |</td></tr><tr><td>| CUSR0000SA0 | 1994 |  M09   | 149.30 |           |</td></tr><tr><td>| CUSR0000SA0 | 1994 |  M08   | 149.00 |           |</td></tr><tr><td>| CUSR0000SA0 | 1994 |  M07   | 148.40 |           |</td></tr><tr><td>| CUSR0000SA0 | 1994 |  M06   | 147.90 |           |</td></tr><tr><td>| CUSR0000SA0 | 1994 |  M05   | 147.50 |           |</td></tr><tr><td>| CUSR0000SA0 | 1994 |  M04   | 147.20 |           |</td></tr><tr><td>| CUSR0000SA0 | 1994 |  M03   | 147.10 |           |</td></tr><tr><td>| CUSR0000SA0 | 1994 |  M02   | 146.70 |           |</td></tr><tr><td>| CUSR0000SA0 | 1994 |  M01   | 146.30 |           |</td></tr><tr><td>| CUSR0000SA0 | 1993 |  M12   | 146.30 |           |</td></tr><tr><td>| CUSR0000SA0 | 1993 |  M11   | 146.00 |           |</td></tr><tr><td>| CUSR0000SA0 | 1993 |  M10   | 145.60 |           |</td></tr><tr><td>| CUSR0000SA0 | 1993 |  M09   | 145.00 |           |</td></tr><tr><td>| CUSR0000SA0 | 1993 |  M08   | 144.80 |           |</td></tr><tr><td>| CUSR0000SA0 | 1993 |  M07   | 144.50 |           |</td></tr><tr><td>| CUSR0000SA0 | 1993 |  M06   | 144.30 |           |</td></tr><tr><td>| CUSR0000SA0 | 1993 |  M05   | 144.20 |           |</td></tr><tr><td>| CUSR0000SA0 | 1993 |  M04   | 143.80 |           |</td></tr><tr><td>| CUSR0000SA0 | 1993 |  M03   | 143.30 |           |</td></tr><tr><td>| CUSR0000SA0 | 1993 |  M02   | 143.10 |           |</td></tr><tr><td>| CUSR0000SA0 | 1993 |  M01   | 142.80 |           |</td></tr><tr><td>| CUSR0000SA0 | 1992 |  M12   | 142.30 |           |</td></tr><tr><td>| CUSR0000SA0 | 1992 |  M11   | 142.10 |           |</td></tr><tr><td>| CUSR0000SA0 | 1992 |  M10   | 141.70 |           |</td></tr><tr><td>| CUSR0000SA0 | 1992 |  M09   | 141.10 |           |</td></tr><tr><td>| CUSR0000SA0 | 1992 |  M08   | 140.80 |           |</td></tr><tr><td>| CUSR0000SA0 | 1992 |  M07   | 140.50 |           |</td></tr><tr><td>| CUSR0000SA0 | 1992 |  M06   | 140.10 |           |</td></tr><tr><td>| CUSR0000SA0 | 1992 |  M05   | 139.70 |           |</td></tr><tr><td>| CUSR0000SA0 | 1992 |  M04   | 139.40 |           |</td></tr><tr><td>| CUSR0000SA0 | 1992 |  M03   | 139.10 |           |</td></tr><tr><td>| CUSR0000SA0 | 1992 |  M02   | 138.60 |           |</td></tr><tr><td>| CUSR0000SA0 | 1992 |  M01   | 138.30 |           |</td></tr><tr><td>| CUSR0000SA0 | 1991 |  M12   | 138.20 |           |</td></tr><tr><td>| CUSR0000SA0 | 1991 |  M11   | 137.80 |           |</td></tr><tr><td>| CUSR0000SA0 | 1991 |  M10   | 137.20 |           |</td></tr><tr><td>| CUSR0000SA0 | 1991 |  M09   | 137.00 |           |</td></tr><tr><td>| CUSR0000SA0 | 1991 |  M08   | 136.60 |           |</td></tr><tr><td>| CUSR0000SA0 | 1991 |  M07   | 136.20 |           |</td></tr><tr><td>| CUSR0000SA0 | 1991 |  M06   | 136.00 |           |</td></tr><tr><td>| CUSR0000SA0 | 1991 |  M05   | 135.60 |           |</td></tr><tr><td>| CUSR0000SA0 | 1991 |  M04   | 135.10 |           |</td></tr><tr><td>| CUSR0000SA0 | 1991 |  M03   | 134.80 |           |</td></tr><tr><td>| CUSR0000SA0 | 1991 |  M02   | 134.80 |           |</td></tr><tr><td>| CUSR0000SA0 | 1991 |  M01   | 134.70 |           |</td></tr><tr><td>| CUSR0000SA0 | 1990 |  M12   | 134.20 |           |</td></tr><tr><td>| CUSR0000SA0 | 1990 |  M11   | 133.70 |           |</td></tr><tr><td>| CUSR0000SA0 | 1990 |  M10   | 133.40 |           |</td></tr><tr><td>| CUSR0000SA0 | 1990 |  M09   | 132.50 |           |</td></tr><tr><td>| CUSR0000SA0 | 1990 |  M08   | 131.60 |           |</td></tr><tr><td>| CUSR0000SA0 | 1990 |  M07   | 130.50 |           |</td></tr><tr><td>| CUSR0000SA0 | 1990 |  M06   | 129.90 |           |</td></tr><tr><td>| CUSR0000SA0 | 1990 |  M05   | 129.10 |           |</td></tr><tr><td>| CUSR0000SA0 | 1990 |  M04   | 128.90 |           |</td></tr><tr><td>| CUSR0000SA0 | 1990 |  M03   | 128.60 |           |</td></tr><tr><td>| CUSR0000SA0 | 1990 |  M02   | 128.00 |           |</td></tr><tr><td>| CUSR0000SA0 | 1990 |  M01   | 127.50 |           |</td></tr><tr><td>| CUSR0000SA0 | 1989 |  M12   | 126.30 |           |</td></tr><tr><td>| CUSR0000SA0 | 1989 |  M11   | 125.90 |           |</td></tr><tr><td>| CUSR0000SA0 | 1989 |  M10   | 125.40 |           |</td></tr><tr><td>| CUSR0000SA0 | 1989 |  M09   | 124.80 |           |</td></tr><tr><td>| CUSR0000SA0 | 1989 |  M08   | 124.50 |           |</td></tr><tr><td>| CUSR0000SA0 | 1989 |  M07   | 124.50 |           |</td></tr><tr><td>| CUSR0000SA0 | 1989 |  M06   | 124.10 |           |</td></tr><tr><td>| CUSR0000SA0 | 1989 |  M05   | 123.70 |           |</td></tr><tr><td>| CUSR0000SA0 | 1989 |  M04   | 123.10 |           |</td></tr><tr><td>| CUSR0000SA0 | 1989 |  M03   | 122.20 |           |</td></tr><tr><td>| CUSR0000SA0 | 1989 |  M02   | 121.60 |           |</td></tr><tr><td>| CUSR0000SA0 | 1989 |  M01   | 121.20 |           |</td></tr><tr><td>| CUSR0000SA0 | 1988 |  M12   | 120.70 |           |</td></tr><tr><td>| CUSR0000SA0 | 1988 |  M11   | 120.30 |           |</td></tr><tr><td>| CUSR0000SA0 | 1988 |  M10   | 119.90 |           |</td></tr><tr><td>| CUSR0000SA0 | 1988 |  M09   | 119.50 |           |</td></tr><tr><td>| CUSR0000SA0 | 1988 |  M08   | 119.00 |           |</td></tr><tr><td>| CUSR0000SA0 | 1988 |  M07   | 118.50 |           |</td></tr><tr><td>| CUSR0000SA0 | 1988 |  M06   | 118.00 |           |</td></tr><tr><td>| CUSR0000SA0 | 1988 |  M05   | 117.50 |           |</td></tr><tr><td>| CUSR0000SA0 | 1988 |  M04   | 117.20 |           |</td></tr><tr><td>| CUSR0000SA0 | 1988 |  M03   | 116.50 |           |</td></tr><tr><td>| CUSR0000SA0 | 1988 |  M02   | 116.20 |           |</td></tr><tr><td>| CUSR0000SA0 | 1988 |  M01   | 116.00 |           |</td></tr><tr><td>| CUSR0000SA0 | 1987 |  M12   | 115.60 |           |</td></tr><tr><td>| CUSR0000SA0 | 1987 |  M11   | 115.40 |           |</td></tr><tr><td>| CUSR0000SA0 | 1987 |  M10   | 115.00 |           |</td></tr><tr><td>| CUSR0000SA0 | 1987 |  M09   | 114.70 |           |</td></tr><tr><td>| CUSR0000SA0 | 1987 |  M08   | 114.30 |           |</td></tr><tr><td>| CUSR0000SA0 | 1987 |  M07   | 113.80 |           |</td></tr><tr><td>| CUSR0000SA0 | 1987 |  M06   | 113.50 |           |</td></tr><tr><td>| CUSR0000SA0 | 1987 |  M05   | 113.00 |           |</td></tr><tr><td>| CUSR0000SA0 | 1987 |  M04   | 112.70 |           |</td></tr><tr><td>| CUSR0000SA0 | 1987 |  M03   | 112.20 |           |</td></tr><tr><td>| CUSR0000SA0 | 1987 |  M02   | 111.80 |           |</td></tr><tr><td>| CUSR0000SA0 | 1987 |  M01   | 111.40 |           |</td></tr><tr><td>+-------------+------+--------+--------+-----------++-------------+------+--------+--------+-----------+</td></tr><tr><td>|  series id  | year | period | value  | footnotes |</td></tr><tr><td>+-------------+------+--------+--------+-----------+</td></tr><tr><td>| CUSR0000SA0 | 2006 |  M12   | 203.1  |           |</td></tr><tr><td>| CUSR0000SA0 | 2006 |  M11   | 202.0  |           |</td></tr><tr><td>| CUSR0000SA0 | 2006 |  M10   | 201.9  |           |</td></tr><tr><td>| CUSR0000SA0 | 2006 |  M09   | 202.8  |           |</td></tr><tr><td>| CUSR0000SA0 | 2006 |  M08   | 203.8  |           |</td></tr><tr><td>| CUSR0000SA0 | 2006 |  M07   | 202.9  |           |</td></tr><tr><td>| CUSR0000SA0 | 2006 |  M06   | 201.8  |           |</td></tr><tr><td>| CUSR0000SA0 | 2006 |  M05   | 201.3  |           |</td></tr><tr><td>| CUSR0000SA0 | 2006 |  M04   | 200.7  |           |</td></tr><tr><td>| CUSR0000SA0 | 2006 |  M03   | 199.7  |           |</td></tr><tr><td>| CUSR0000SA0 | 2006 |  M02   | 199.4  |           |</td></tr><tr><td>| CUSR0000SA0 | 2006 |  M01   | 199.3  |           |</td></tr><tr><td>| CUSR0000SA0 | 2005 |  M12   | 198.1  |           |</td></tr><tr><td>| CUSR0000SA0 | 2005 |  M11   | 198.1  |           |</td></tr><tr><td>| CUSR0000SA0 | 2005 |  M10   | 199.1  |           |</td></tr><tr><td>| CUSR0000SA0 | 2005 |  M09   | 198.8  |           |</td></tr><tr><td>| CUSR0000SA0 | 2005 |  M08   | 196.1  |           |</td></tr><tr><td>| CUSR0000SA0 | 2005 |  M07   | 194.9  |           |</td></tr><tr><td>| CUSR0000SA0 | 2005 |  M06   | 193.7  |           |</td></tr><tr><td>| CUSR0000SA0 | 2005 |  M05   | 193.6  |           |</td></tr><tr><td>| CUSR0000SA0 | 2005 |  M04   | 193.7  |           |</td></tr><tr><td>| CUSR0000SA0 | 2005 |  M03   | 193.1  |           |</td></tr><tr><td>| CUSR0000SA0 | 2005 |  M02   | 192.4  |           |</td></tr><tr><td>| CUSR0000SA0 | 2005 |  M01   | 191.6  |           |</td></tr><tr><td>| CUSR0000SA0 | 2004 |  M12   | 191.7  |           |</td></tr><tr><td>| CUSR0000SA0 | 2004 |  M11   | 191.7  |           |</td></tr><tr><td>| CUSR0000SA0 | 2004 |  M10   | 190.8  |           |</td></tr><tr><td>| CUSR0000SA0 | 2004 |  M09   | 189.8  |           |</td></tr><tr><td>| CUSR0000SA0 | 2004 |  M08   | 189.2  |           |</td></tr><tr><td>| CUSR0000SA0 | 2004 |  M07   | 189.1  |           |</td></tr><tr><td>| CUSR0000SA0 | 2004 |  M06   | 188.9  |           |</td></tr><tr><td>| CUSR0000SA0 | 2004 |  M05   | 188.2  |           |</td></tr><tr><td>| CUSR0000SA0 | 2004 |  M04   | 187.4  |           |</td></tr><tr><td>| CUSR0000SA0 | 2004 |  M03   | 187.1  |           |</td></tr><tr><td>| CUSR0000SA0 | 2004 |  M02   | 186.7  |           |</td></tr><tr><td>| CUSR0000SA0 | 2004 |  M01   | 186.3  |           |</td></tr><tr><td>| CUSR0000SA0 | 2003 |  M12   | 185.5  |           |</td></tr><tr><td>| CUSR0000SA0 | 2003 |  M11   | 185.0  |           |</td></tr><tr><td>| CUSR0000SA0 | 2003 |  M10   | 184.9  |           |</td></tr><tr><td>| CUSR0000SA0 | 2003 |  M09   | 185.1  |           |</td></tr><tr><td>| CUSR0000SA0 | 2003 |  M08   | 184.5  |           |</td></tr><tr><td>| CUSR0000SA0 | 2003 |  M07   | 183.7  |           |</td></tr><tr><td>| CUSR0000SA0 | 2003 |  M06   | 183.1  |           |</td></tr><tr><td>| CUSR0000SA0 | 2003 |  M05   | 182.9  |           |</td></tr><tr><td>| CUSR0000SA0 | 2003 |  M04   | 183.2  |           |</td></tr><tr><td>| CUSR0000SA0 | 2003 |  M03   | 183.9  |           |</td></tr><tr><td>| CUSR0000SA0 | 2003 |  M02   | 183.6  |           |</td></tr><tr><td>| CUSR0000SA0 | 2003 |  M01   | 182.6  |           |</td></tr><tr><td>| CUSR0000SA0 | 2002 |  M12   | 181.8  |           |</td></tr><tr><td>| CUSR0000SA0 | 2002 |  M11   | 181.5  |           |</td></tr><tr><td>| CUSR0000SA0 | 2002 |  M10   | 181.2  |           |</td></tr><tr><td>| CUSR0000SA0 | 2002 |  M09   | 180.8  |           |</td></tr><tr><td>| CUSR0000SA0 | 2002 |  M08   | 180.5  |           |</td></tr><tr><td>| CUSR0000SA0 | 2002 |  M07   | 180.0  |           |</td></tr><tr><td>| CUSR0000SA0 | 2002 |  M06   | 179.6  |           |</td></tr><tr><td>| CUSR0000SA0 | 2002 |  M05   | 179.5  |           |</td></tr><tr><td>| CUSR0000SA0 | 2002 |  M04   | 179.3  |           |</td></tr><tr><td>| CUSR0000SA0 | 2002 |  M03   | 178.5  |           |</td></tr><tr><td>| CUSR0000SA0 | 2002 |  M02   | 178.0  |           |</td></tr><tr><td>| CUSR0000SA0 | 2002 |  M01   | 177.7  |           |</td></tr><tr><td>| CUSR0000SA0 | 2001 |  M12   | 177.40 |           |</td></tr><tr><td>| CUSR0000SA0 | 2001 |  M11   | 177.50 |           |</td></tr><tr><td>| CUSR0000SA0 | 2001 |  M10   | 177.60 |           |</td></tr><tr><td>| CUSR0000SA0 | 2001 |  M09   | 178.10 |           |</td></tr><tr><td>| CUSR0000SA0 | 2001 |  M08   | 177.40 |           |</td></tr><tr><td>| CUSR0000SA0 | 2001 |  M07   | 177.40 |           |</td></tr><tr><td>| CUSR0000SA0 | 2001 |  M06   | 177.70 |           |</td></tr><tr><td>| CUSR0000SA0 | 2001 |  M05   | 177.30 |           |</td></tr><tr><td>| CUSR0000SA0 | 2001 |  M04   | 176.40 |           |</td></tr><tr><td>| CUSR0000SA0 | 2001 |  M03   | 176.10 |           |</td></tr><tr><td>| CUSR0000SA0 | 2001 |  M02   | 176.00 |           |</td></tr><tr><td>| CUSR0000SA0 | 2001 |  M01   | 175.60 |           |</td></tr><tr><td>| CUSR0000SA0 | 2000 |  M12   | 174.60 |           |</td></tr><tr><td>| CUSR0000SA0 | 2000 |  M11   | 174.20 |           |</td></tr><tr><td>| CUSR0000SA0 | 2000 |  M10   | 173.90 |           |</td></tr><tr><td>| CUSR0000SA0 | 2000 |  M09   | 173.60 |           |</td></tr><tr><td>| CUSR0000SA0 | 2000 |  M08   | 172.70 |           |</td></tr><tr><td>| CUSR0000SA0 | 2000 |  M07   | 172.70 |           |</td></tr><tr><td>| CUSR0000SA0 | 2000 |  M06   | 172.20 |           |</td></tr><tr><td>| CUSR0000SA0 | 2000 |  M05   | 171.20 |           |</td></tr><tr><td>| CUSR0000SA0 | 2000 |  M04   | 170.90 |           |</td></tr><tr><td>| CUSR0000SA0 | 2000 |  M03   | 171.00 |           |</td></tr><tr><td>| CUSR0000SA0 | 2000 |  M02   | 170.00 |           |</td></tr><tr><td>| CUSR0000SA0 | 2000 |  M01   | 169.30 |           |</td></tr><tr><td>| CUSR0000SA0 | 1999 |  M12   | 168.80 |           |</td></tr><tr><td>| CUSR0000SA0 | 1999 |  M11   | 168.40 |           |</td></tr><tr><td>| CUSR0000SA0 | 1999 |  M10   | 168.10 |           |</td></tr><tr><td>| CUSR0000SA0 | 1999 |  M09   | 167.80 |           |</td></tr><tr><td>| CUSR0000SA0 | 1999 |  M08   | 167.10 |           |</td></tr><tr><td>| CUSR0000SA0 | 1999 |  M07   | 166.70 |           |</td></tr><tr><td>| CUSR0000SA0 | 1999 |  M06   | 166.00 |           |</td></tr><tr><td>| CUSR0000SA0 | 1999 |  M05   | 166.00 |           |</td></tr><tr><td>| CUSR0000SA0 | 1999 |  M04   | 165.90 |           |</td></tr><tr><td>| CUSR0000SA0 | 1999 |  M03   | 164.80 |           |</td></tr><tr><td>| CUSR0000SA0 | 1999 |  M02   | 164.70 |           |</td></tr><tr><td>| CUSR0000SA0 | 1999 |  M01   | 164.70 |           |</td></tr><tr><td>| CUSR0000SA0 | 1998 |  M12   | 164.40 |           |</td></tr><tr><td>| CUSR0000SA0 | 1998 |  M11   | 164.10 |           |</td></tr><tr><td>| CUSR0000SA0 | 1998 |  M10   | 163.90 |           |</td></tr><tr><td>| CUSR0000SA0 | 1998 |  M09   | 163.50 |           |</td></tr><tr><td>| CUSR0000SA0 | 1998 |  M08   | 163.40 |           |</td></tr><tr><td>| CUSR0000SA0 | 1998 |  M07   | 163.20 |           |</td></tr><tr><td>| CUSR0000SA0 | 1998 |  M06   | 162.80 |           |</td></tr><tr><td>| CUSR0000SA0 | 1998 |  M05   | 162.60 |           |</td></tr><tr><td>| CUSR0000SA0 | 1998 |  M04   | 162.20 |           |</td></tr><tr><td>| CUSR0000SA0 | 1998 |  M03   | 162.00 |           |</td></tr><tr><td>| CUSR0000SA0 | 1998 |  M02   | 162.00 |           |</td></tr><tr><td>| CUSR0000SA0 | 1998 |  M01   | 162.00 |           |</td></tr><tr><td>| CUSR0000SA0 | 1997 |  M12   | 161.80 |           |</td></tr><tr><td>| CUSR0000SA0 | 1997 |  M11   | 161.70 |           |</td></tr><tr><td>| CUSR0000SA0 | 1997 |  M10   | 161.50 |           |</td></tr><tr><td>| CUSR0000SA0 | 1997 |  M09   | 161.20 |           |</td></tr><tr><td>| CUSR0000SA0 | 1997 |  M08   | 160.80 |           |</td></tr><tr><td>| CUSR0000SA0 | 1997 |  M07   | 160.40 |           |</td></tr><tr><td>| CUSR0000SA0 | 1997 |  M06   | 160.20 |           |</td></tr><tr><td>| CUSR0000SA0 | 1997 |  M05   | 159.90 |           |</td></tr><tr><td>| CUSR0000SA0 | 1997 |  M04   | 159.90 |           |</td></tr><tr><td>| CUSR0000SA0 | 1997 |  M03   | 159.80 |           |</td></tr><tr><td>| CUSR0000SA0 | 1997 |  M02   | 159.70 |           |</td></tr><tr><td>| CUSR0000SA0 | 1997 |  M01   | 159.40 |           |</td></tr><tr><td>+-------------+------+--------+--------+-----------++-------------+------+--------+---------+-----------+</td></tr><tr><td>|  series id  | year | period |  value  | footnotes |</td></tr><tr><td>+-------------+------+--------+---------+-----------+</td></tr><tr><td>| CUSR0000SA0 | 2016 |  M12   | 242.637 |           |</td></tr><tr><td>| CUSR0000SA0 | 2016 |  M11   | 242.026 |           |</td></tr><tr><td>| CUSR0000SA0 | 2016 |  M10   | 241.741 |           |</td></tr><tr><td>| CUSR0000SA0 | 2016 |  M09   | 241.176 |           |</td></tr><tr><td>| CUSR0000SA0 | 2016 |  M08   | 240.545 |           |</td></tr><tr><td>| CUSR0000SA0 | 2016 |  M07   | 240.101 |           |</td></tr><tr><td>| CUSR0000SA0 | 2016 |  M06   | 240.222 |           |</td></tr><tr><td>| CUSR0000SA0 | 2016 |  M05   | 239.557 |           |</td></tr><tr><td>| CUSR0000SA0 | 2016 |  M04   | 238.992 |           |</td></tr><tr><td>| CUSR0000SA0 | 2016 |  M03   | 238.080 |           |</td></tr><tr><td>| CUSR0000SA0 | 2016 |  M02   | 237.336 |           |</td></tr><tr><td>| CUSR0000SA0 | 2016 |  M01   | 237.652 |           |</td></tr><tr><td>| CUSR0000SA0 | 2015 |  M12   | 237.761 |           |</td></tr><tr><td>| CUSR0000SA0 | 2015 |  M11   | 238.017 |           |</td></tr><tr><td>| CUSR0000SA0 | 2015 |  M10   | 237.733 |           |</td></tr><tr><td>| CUSR0000SA0 | 2015 |  M09   | 237.498 |           |</td></tr><tr><td>| CUSR0000SA0 | 2015 |  M08   | 238.033 |           |</td></tr><tr><td>| CUSR0000SA0 | 2015 |  M07   | 238.034 |           |</td></tr><tr><td>| CUSR0000SA0 | 2015 |  M06   | 237.657 |           |</td></tr><tr><td>| CUSR0000SA0 | 2015 |  M05   | 237.001 |           |</td></tr><tr><td>| CUSR0000SA0 | 2015 |  M04   | 236.222 |           |</td></tr><tr><td>| CUSR0000SA0 | 2015 |  M03   | 235.976 |           |</td></tr><tr><td>| CUSR0000SA0 | 2015 |  M02   | 235.342 |           |</td></tr><tr><td>| CUSR0000SA0 | 2015 |  M01   | 234.747 |           |</td></tr><tr><td>| CUSR0000SA0 | 2014 |  M12   | 236.252 |           |</td></tr><tr><td>| CUSR0000SA0 | 2014 |  M11   | 236.983 |           |</td></tr><tr><td>| CUSR0000SA0 | 2014 |  M10   | 237.430 |           |</td></tr><tr><td>| CUSR0000SA0 | 2014 |  M09   | 237.477 |           |</td></tr><tr><td>| CUSR0000SA0 | 2014 |  M08   | 237.460 |           |</td></tr><tr><td>| CUSR0000SA0 | 2014 |  M07   | 237.498 |           |</td></tr><tr><td>| CUSR0000SA0 | 2014 |  M06   | 237.231 |           |</td></tr><tr><td>| CUSR0000SA0 | 2014 |  M05   | 236.918 |           |</td></tr><tr><td>| CUSR0000SA0 | 2014 |  M04   | 236.468 |           |</td></tr><tr><td>| CUSR0000SA0 | 2014 |  M03   | 236.028 |           |</td></tr><tr><td>| CUSR0000SA0 | 2014 |  M02   | 235.547 |           |</td></tr><tr><td>| CUSR0000SA0 | 2014 |  M01   | 235.288 |           |</td></tr><tr><td>| CUSR0000SA0 | 2013 |  M12   | 234.719 |           |</td></tr><tr><td>| CUSR0000SA0 | 2013 |  M11   | 234.100 |           |</td></tr><tr><td>| CUSR0000SA0 | 2013 |  M10   | 233.669 |           |</td></tr><tr><td>| CUSR0000SA0 | 2013 |  M09   | 233.544 |           |</td></tr><tr><td>| CUSR0000SA0 | 2013 |  M08   | 233.456 |           |</td></tr><tr><td>| CUSR0000SA0 | 2013 |  M07   | 232.900 |           |</td></tr><tr><td>| CUSR0000SA0 | 2013 |  M06   | 232.445 |           |</td></tr><tr><td>| CUSR0000SA0 | 2013 |  M05   | 231.893 |           |</td></tr><tr><td>| CUSR0000SA0 | 2013 |  M04   | 231.797 |           |</td></tr><tr><td>| CUSR0000SA0 | 2013 |  M03   | 232.282 |           |</td></tr><tr><td>| CUSR0000SA0 | 2013 |  M02   | 232.937 |           |</td></tr><tr><td>| CUSR0000SA0 | 2013 |  M01   | 231.679 |           |</td></tr><tr><td>| CUSR0000SA0 | 2012 |  M12   | 231.221 |           |</td></tr><tr><td>| CUSR0000SA0 | 2012 |  M11   | 231.249 |           |</td></tr><tr><td>| CUSR0000SA0 | 2012 |  M10   | 231.638 |           |</td></tr><tr><td>| CUSR0000SA0 | 2012 |  M09   | 231.015 |           |</td></tr><tr><td>| CUSR0000SA0 | 2012 |  M08   | 229.918 |           |</td></tr><tr><td>| CUSR0000SA0 | 2012 |  M07   | 228.590 |           |</td></tr><tr><td>| CUSR0000SA0 | 2012 |  M06   | 228.524 |           |</td></tr><tr><td>| CUSR0000SA0 | 2012 |  M05   | 228.713 |           |</td></tr><tr><td>| CUSR0000SA0 | 2012 |  M04   | 229.187 |           |</td></tr><tr><td>| CUSR0000SA0 | 2012 |  M03   | 228.807 |           |</td></tr><tr><td>| CUSR0000SA0 | 2012 |  M02   | 228.329 |           |</td></tr><tr><td>| CUSR0000SA0 | 2012 |  M01   | 227.842 |           |</td></tr><tr><td>| CUSR0000SA0 | 2011 |  M12   | 227.223 |           |</td></tr><tr><td>| CUSR0000SA0 | 2011 |  M11   | 227.169 |           |</td></tr><tr><td>| CUSR0000SA0 | 2011 |  M10   | 226.750 |           |</td></tr><tr><td>| CUSR0000SA0 | 2011 |  M09   | 226.597 |           |</td></tr><tr><td>| CUSR0000SA0 | 2011 |  M08   | 226.106 |           |</td></tr><tr><td>| CUSR0000SA0 | 2011 |  M07   | 225.395 |           |</td></tr><tr><td>| CUSR0000SA0 | 2011 |  M06   | 224.806 |           |</td></tr><tr><td>| CUSR0000SA0 | 2011 |  M05   | 224.806 |           |</td></tr><tr><td>| CUSR0000SA0 | 2011 |  M04   | 224.093 |           |</td></tr><tr><td>| CUSR0000SA0 | 2011 |  M03   | 223.046 |           |</td></tr><tr><td>| CUSR0000SA0 | 2011 |  M02   | 221.898 |           |</td></tr><tr><td>| CUSR0000SA0 | 2011 |  M01   | 221.187 |           |</td></tr><tr><td>| CUSR0000SA0 | 2010 |  M12   | 220.472 |           |</td></tr><tr><td>| CUSR0000SA0 | 2010 |  M11   | 219.590 |           |</td></tr><tr><td>| CUSR0000SA0 | 2010 |  M10   | 219.035 |           |</td></tr><tr><td>| CUSR0000SA0 | 2010 |  M09   | 218.275 |           |</td></tr><tr><td>| CUSR0000SA0 | 2010 |  M08   | 217.923 |           |</td></tr><tr><td>| CUSR0000SA0 | 2010 |  M07   | 217.605 |           |</td></tr><tr><td>| CUSR0000SA0 | 2010 |  M06   | 217.199 |           |</td></tr><tr><td>| CUSR0000SA0 | 2010 |  M05   | 217.290 |           |</td></tr><tr><td>| CUSR0000SA0 | 2010 |  M04   | 217.403 |           |</td></tr><tr><td>| CUSR0000SA0 | 2010 |  M03   | 217.353 |           |</td></tr><tr><td>| CUSR0000SA0 | 2010 |  M02   | 217.281 |           |</td></tr><tr><td>| CUSR0000SA0 | 2010 |  M01   | 217.488 |           |</td></tr><tr><td>| CUSR0000SA0 | 2009 |  M12   | 217.347 |           |</td></tr><tr><td>| CUSR0000SA0 | 2009 |  M11   | 217.234 |           |</td></tr><tr><td>| CUSR0000SA0 | 2009 |  M10   | 216.509 |           |</td></tr><tr><td>| CUSR0000SA0 | 2009 |  M09   | 215.861 |           |</td></tr><tr><td>| CUSR0000SA0 | 2009 |  M08   | 215.445 |           |</td></tr><tr><td>| CUSR0000SA0 | 2009 |  M07   | 214.726 |           |</td></tr><tr><td>| CUSR0000SA0 | 2009 |  M06   | 214.790 |           |</td></tr><tr><td>| CUSR0000SA0 | 2009 |  M05   | 213.022 |           |</td></tr><tr><td>| CUSR0000SA0 | 2009 |  M04   | 212.709 |           |</td></tr><tr><td>| CUSR0000SA0 | 2009 |  M03   | 212.495 |           |</td></tr><tr><td>| CUSR0000SA0 | 2009 |  M02   | 212.705 |           |</td></tr><tr><td>| CUSR0000SA0 | 2009 |  M01   | 211.933 |           |</td></tr><tr><td>| CUSR0000SA0 | 2008 |  M12   | 211.398 |           |</td></tr><tr><td>| CUSR0000SA0 | 2008 |  M11   | 213.153 |           |</td></tr><tr><td>| CUSR0000SA0 | 2008 |  M10   | 216.995 |           |</td></tr><tr><td>| CUSR0000SA0 | 2008 |  M09   | 218.877 |           |</td></tr><tr><td>| CUSR0000SA0 | 2008 |  M08   | 218.690 |           |</td></tr><tr><td>| CUSR0000SA0 | 2008 |  M07   | 219.016 |           |</td></tr><tr><td>| CUSR0000SA0 | 2008 |  M06   | 217.463 |           |</td></tr><tr><td>| CUSR0000SA0 | 2008 |  M05   | 215.208 |           |</td></tr><tr><td>| CUSR0000SA0 | 2008 |  M04   | 213.942 |           |</td></tr><tr><td>| CUSR0000SA0 | 2008 |  M03   | 213.448 |           |</td></tr><tr><td>| CUSR0000SA0 | 2008 |  M02   | 212.687 |           |</td></tr><tr><td>| CUSR0000SA0 | 2008 |  M01   | 212.174 |           |</td></tr><tr><td>| CUSR0000SA0 | 2007 |  M12   | 211.445 |           |</td></tr><tr><td>| CUSR0000SA0 | 2007 |  M11   | 210.834 |           |</td></tr><tr><td>| CUSR0000SA0 | 2007 |  M10   | 209.190 |           |</td></tr><tr><td>| CUSR0000SA0 | 2007 |  M09   | 208.547 |           |</td></tr><tr><td>| CUSR0000SA0 | 2007 |  M08   | 207.667 |           |</td></tr><tr><td>| CUSR0000SA0 | 2007 |  M07   | 207.603 |           |</td></tr><tr><td>| CUSR0000SA0 | 2007 |  M06   | 207.234 |           |</td></tr><tr><td>| CUSR0000SA0 | 2007 |  M05   | 206.755 |           |</td></tr><tr><td>| CUSR0000SA0 | 2007 |  M04   | 205.904 |           |</td></tr><tr><td>| CUSR0000SA0 | 2007 |  M03   | 205.288 |           |</td></tr><tr><td>| CUSR0000SA0 | 2007 |  M02   | 204.226 |           |</td></tr><tr><td>| CUSR0000SA0 | 2007 |  M01   | 203.437 |           |</td></tr><tr><td>+-------------+------+--------+---------+-----------++-------------+------+--------+---------+-----------+</td></tr><tr><td>|  series id  | year | period |  value  | footnotes |</td></tr><tr><td>+-------------+------+--------+---------+-----------+</td></tr><tr><td>| CUSR0000SA0 | 2023 |  M11   | 307.917 |           |</td></tr><tr><td>| CUSR0000SA0 | 2023 |  M10   | 307.619 |           |</td></tr><tr><td>| CUSR0000SA0 | 2023 |  M09   | 307.481 |           |</td></tr><tr><td>| CUSR0000SA0 | 2023 |  M08   | 306.269 |           |</td></tr><tr><td>| CUSR0000SA0 | 2023 |  M07   | 304.348 |           |</td></tr><tr><td>| CUSR0000SA0 | 2023 |  M06   | 303.841 |           |</td></tr><tr><td>| CUSR0000SA0 | 2023 |  M05   | 303.294 |           |</td></tr><tr><td>| CUSR0000SA0 | 2023 |  M04   | 302.918 |           |</td></tr><tr><td>| CUSR0000SA0 | 2023 |  M03   | 301.808 |           |</td></tr><tr><td>| CUSR0000SA0 | 2023 |  M02   | 301.648 |           |</td></tr><tr><td>| CUSR0000SA0 | 2023 |  M01   | 300.536 |           |</td></tr><tr><td>| CUSR0000SA0 | 2022 |  M12   | 298.990 |           |</td></tr><tr><td>| CUSR0000SA0 | 2022 |  M11   | 298.598 |           |</td></tr><tr><td>| CUSR0000SA0 | 2022 |  M10   | 297.987 |           |</td></tr><tr><td>| CUSR0000SA0 | 2022 |  M09   | 296.539 |           |</td></tr><tr><td>| CUSR0000SA0 | 2022 |  M08   | 295.320 |           |</td></tr><tr><td>| CUSR0000SA0 | 2022 |  M07   | 294.628 |           |</td></tr><tr><td>| CUSR0000SA0 | 2022 |  M06   | 294.728 |           |</td></tr><tr><td>| CUSR0000SA0 | 2022 |  M05   | 291.268 |           |</td></tr><tr><td>| CUSR0000SA0 | 2022 |  M04   | 288.611 |           |</td></tr><tr><td>| CUSR0000SA0 | 2022 |  M03   | 287.472 |           |</td></tr><tr><td>| CUSR0000SA0 | 2022 |  M02   | 284.610 |           |</td></tr><tr><td>| CUSR0000SA0 | 2022 |  M01   | 282.599 |           |</td></tr><tr><td>| CUSR0000SA0 | 2021 |  M12   | 280.887 |           |</td></tr><tr><td>| CUSR0000SA0 | 2021 |  M11   | 278.711 |           |</td></tr><tr><td>| CUSR0000SA0 | 2021 |  M10   | 276.522 |           |</td></tr><tr><td>| CUSR0000SA0 | 2021 |  M09   | 274.028 |           |</td></tr><tr><td>| CUSR0000SA0 | 2021 |  M08   | 272.870 |           |</td></tr><tr><td>| CUSR0000SA0 | 2021 |  M07   | 271.764 |           |</td></tr><tr><td>| CUSR0000SA0 | 2021 |  M06   | 270.559 |           |</td></tr><tr><td>| CUSR0000SA0 | 2021 |  M05   | 268.444 |           |</td></tr><tr><td>| CUSR0000SA0 | 2021 |  M04   | 266.670 |           |</td></tr><tr><td>| CUSR0000SA0 | 2021 |  M03   | 264.914 |           |</td></tr><tr><td>| CUSR0000SA0 | 2021 |  M02   | 263.638 |           |</td></tr><tr><td>| CUSR0000SA0 | 2021 |  M01   | 262.650 |           |</td></tr><tr><td>| CUSR0000SA0 | 2020 |  M12   | 262.035 |           |</td></tr><tr><td>| CUSR0000SA0 | 2020 |  M11   | 260.813 |           |</td></tr><tr><td>| CUSR0000SA0 | 2020 |  M10   | 260.286 |           |</td></tr><tr><td>| CUSR0000SA0 | 2020 |  M09   | 260.029 |           |</td></tr><tr><td>| CUSR0000SA0 | 2020 |  M08   | 259.411 |           |</td></tr><tr><td>| CUSR0000SA0 | 2020 |  M07   | 258.278 |           |</td></tr><tr><td>| CUSR0000SA0 | 2020 |  M06   | 256.986 |           |</td></tr><tr><td>| CUSR0000SA0 | 2020 |  M05   | 255.868 |           |</td></tr><tr><td>| CUSR0000SA0 | 2020 |  M04   | 256.092 |           |</td></tr><tr><td>| CUSR0000SA0 | 2020 |  M03   | 258.124 |           |</td></tr><tr><td>| CUSR0000SA0 | 2020 |  M02   | 259.248 |           |</td></tr><tr><td>| CUSR0000SA0 | 2020 |  M01   | 259.037 |           |</td></tr><tr><td>| CUSR0000SA0 | 2019 |  M12   | 258.616 |           |</td></tr><tr><td>| CUSR0000SA0 | 2019 |  M11   | 257.803 |           |</td></tr><tr><td>| CUSR0000SA0 | 2019 |  M10   | 257.244 |           |</td></tr><tr><td>| CUSR0000SA0 | 2019 |  M09   | 256.511 |           |</td></tr><tr><td>| CUSR0000SA0 | 2019 |  M08   | 256.059 |           |</td></tr><tr><td>| CUSR0000SA0 | 2019 |  M07   | 255.685 |           |</td></tr><tr><td>| CUSR0000SA0 | 2019 |  M06   | 255.159 |           |</td></tr><tr><td>| CUSR0000SA0 | 2019 |  M05   | 255.290 |           |</td></tr><tr><td>| CUSR0000SA0 | 2019 |  M04   | 255.211 |           |</td></tr><tr><td>| CUSR0000SA0 | 2019 |  M03   | 254.202 |           |</td></tr><tr><td>| CUSR0000SA0 | 2019 |  M02   | 253.322 |           |</td></tr><tr><td>| CUSR0000SA0 | 2019 |  M01   | 252.718 |           |</td></tr><tr><td>| CUSR0000SA0 | 2018 |  M12   | 252.767 |           |</td></tr><tr><td>| CUSR0000SA0 | 2018 |  M11   | 252.594 |           |</td></tr><tr><td>| CUSR0000SA0 | 2018 |  M10   | 252.772 |           |</td></tr><tr><td>| CUSR0000SA0 | 2018 |  M09   | 252.182 |           |</td></tr><tr><td>| CUSR0000SA0 | 2018 |  M08   | 251.663 |           |</td></tr><tr><td>| CUSR0000SA0 | 2018 |  M07   | 251.214 |           |</td></tr><tr><td>| CUSR0000SA0 | 2018 |  M06   | 251.018 |           |</td></tr><tr><td>| CUSR0000SA0 | 2018 |  M05   | 250.792 |           |</td></tr><tr><td>| CUSR0000SA0 | 2018 |  M04   | 250.227 |           |</td></tr><tr><td>| CUSR0000SA0 | 2018 |  M03   | 249.577 |           |</td></tr><tr><td>| CUSR0000SA0 | 2018 |  M02   | 249.529 |           |</td></tr><tr><td>| CUSR0000SA0 | 2018 |  M01   | 248.859 |           |</td></tr><tr><td>| CUSR0000SA0 | 2017 |  M12   | 247.805 |           |</td></tr><tr><td>| CUSR0000SA0 | 2017 |  M11   | 247.284 |           |</td></tr><tr><td>| CUSR0000SA0 | 2017 |  M10   | 246.626 |           |</td></tr><tr><td>| CUSR0000SA0 | 2017 |  M09   | 246.435 |           |</td></tr><tr><td>| CUSR0000SA0 | 2017 |  M08   | 245.183 |           |</td></tr><tr><td>| CUSR0000SA0 | 2017 |  M07   | 244.243 |           |</td></tr><tr><td>| CUSR0000SA0 | 2017 |  M06   | 244.163 |           |</td></tr><tr><td>| CUSR0000SA0 | 2017 |  M05   | 244.004 |           |</td></tr><tr><td>| CUSR0000SA0 | 2017 |  M04   | 244.193 |           |</td></tr><tr><td>| CUSR0000SA0 | 2017 |  M03   | 243.892 |           |</td></tr><tr><td>| CUSR0000SA0 | 2017 |  M02   | 244.006 |           |</td></tr><tr><td>| CUSR0000SA0 | 2017 |  M01   | 243.618 |           |</td></tr><tr><td>+-------------+------+--------+---------+-----------+</td></tr></tbody></table></div>"
      ]
     },
     "metadata": {
      "application/vnd.databricks.v1+output": {
       "addedWidgets": {},
       "aggData": [],
       "aggError": "",
       "aggOverflow": false,
       "aggSchema": [],
       "aggSeriesLimitReached": false,
       "aggType": "",
       "arguments": {},
       "columnCustomDisplayInfos": {},
       "data": [
        [
         "+-------------+------+--------+-------+-----------+"
        ],
        [
         "|  series id  | year | period | value | footnotes |"
        ],
        [
         "+-------------+------+--------+-------+-----------+"
        ],
        [
         "| CUSR0000SA0 | 1956 |  M12   | 27.63 |           |"
        ],
        [
         "| CUSR0000SA0 | 1956 |  M11   | 27.51 |           |"
        ],
        [
         "| CUSR0000SA0 | 1956 |  M10   | 27.51 |           |"
        ],
        [
         "| CUSR0000SA0 | 1956 |  M09   | 27.35 |           |"
        ],
        [
         "| CUSR0000SA0 | 1956 |  M08   | 27.31 |           |"
        ],
        [
         "| CUSR0000SA0 | 1956 |  M07   | 27.29 |           |"
        ],
        [
         "| CUSR0000SA0 | 1956 |  M06   | 27.15 |           |"
        ],
        [
         "| CUSR0000SA0 | 1956 |  M05   | 27.03 |           |"
        ],
        [
         "| CUSR0000SA0 | 1956 |  M04   | 26.93 |           |"
        ],
        [
         "| CUSR0000SA0 | 1956 |  M03   | 26.89 |           |"
        ],
        [
         "| CUSR0000SA0 | 1956 |  M02   | 26.86 |           |"
        ],
        [
         "| CUSR0000SA0 | 1956 |  M01   | 26.83 |           |"
        ],
        [
         "| CUSR0000SA0 | 1955 |  M12   | 26.87 |           |"
        ],
        [
         "| CUSR0000SA0 | 1955 |  M11   | 26.88 |           |"
        ],
        [
         "| CUSR0000SA0 | 1955 |  M10   | 26.82 |           |"
        ],
        [
         "| CUSR0000SA0 | 1955 |  M09   | 26.85 |           |"
        ],
        [
         "| CUSR0000SA0 | 1955 |  M08   | 26.72 |           |"
        ],
        [
         "| CUSR0000SA0 | 1955 |  M07   | 26.76 |           |"
        ],
        [
         "| CUSR0000SA0 | 1955 |  M06   | 26.71 |           |"
        ],
        [
         "| CUSR0000SA0 | 1955 |  M05   | 26.77 |           |"
        ],
        [
         "| CUSR0000SA0 | 1955 |  M04   | 26.79 |           |"
        ],
        [
         "| CUSR0000SA0 | 1955 |  M03   | 26.79 |           |"
        ],
        [
         "| CUSR0000SA0 | 1955 |  M02   | 26.82 |           |"
        ],
        [
         "| CUSR0000SA0 | 1955 |  M01   | 26.77 |           |"
        ],
        [
         "| CUSR0000SA0 | 1954 |  M12   | 26.77 |           |"
        ],
        [
         "| CUSR0000SA0 | 1954 |  M11   | 26.78 |           |"
        ],
        [
         "| CUSR0000SA0 | 1954 |  M10   | 26.72 |           |"
        ],
        [
         "| CUSR0000SA0 | 1954 |  M09   | 26.81 |           |"
        ],
        [
         "| CUSR0000SA0 | 1954 |  M08   | 26.85 |           |"
        ],
        [
         "| CUSR0000SA0 | 1954 |  M07   | 26.86 |           |"
        ],
        [
         "| CUSR0000SA0 | 1954 |  M06   | 26.94 |           |"
        ],
        [
         "| CUSR0000SA0 | 1954 |  M05   | 26.93 |           |"
        ],
        [
         "| CUSR0000SA0 | 1954 |  M04   | 26.86 |           |"
        ],
        [
         "| CUSR0000SA0 | 1954 |  M03   | 26.93 |           |"
        ],
        [
         "| CUSR0000SA0 | 1954 |  M02   | 26.99 |           |"
        ],
        [
         "| CUSR0000SA0 | 1954 |  M01   | 26.94 |           |"
        ],
        [
         "| CUSR0000SA0 | 1953 |  M12   | 26.87 |           |"
        ],
        [
         "| CUSR0000SA0 | 1953 |  M11   | 26.85 |           |"
        ],
        [
         "| CUSR0000SA0 | 1953 |  M10   | 26.95 |           |"
        ],
        [
         "| CUSR0000SA0 | 1953 |  M09   | 26.89 |           |"
        ],
        [
         "| CUSR0000SA0 | 1953 |  M08   | 26.85 |           |"
        ],
        [
         "| CUSR0000SA0 | 1953 |  M07   | 26.79 |           |"
        ],
        [
         "| CUSR0000SA0 | 1953 |  M06   | 26.77 |           |"
        ],
        [
         "| CUSR0000SA0 | 1953 |  M05   | 26.70 |           |"
        ],
        [
         "| CUSR0000SA0 | 1953 |  M04   | 26.69 |           |"
        ],
        [
         "| CUSR0000SA0 | 1953 |  M03   | 26.63 |           |"
        ],
        [
         "| CUSR0000SA0 | 1953 |  M02   | 26.59 |           |"
        ],
        [
         "| CUSR0000SA0 | 1953 |  M01   | 26.64 |           |"
        ],
        [
         "| CUSR0000SA0 | 1952 |  M12   | 26.71 |           |"
        ],
        [
         "| CUSR0000SA0 | 1952 |  M11   | 26.69 |           |"
        ],
        [
         "| CUSR0000SA0 | 1952 |  M10   | 26.69 |           |"
        ],
        [
         "| CUSR0000SA0 | 1952 |  M09   | 26.63 |           |"
        ],
        [
         "| CUSR0000SA0 | 1952 |  M08   | 26.69 |           |"
        ],
        [
         "| CUSR0000SA0 | 1952 |  M07   | 26.68 |           |"
        ],
        [
         "| CUSR0000SA0 | 1952 |  M06   | 26.53 |           |"
        ],
        [
         "| CUSR0000SA0 | 1952 |  M05   | 26.47 |           |"
        ],
        [
         "| CUSR0000SA0 | 1952 |  M04   | 26.46 |           |"
        ],
        [
         "| CUSR0000SA0 | 1952 |  M03   | 26.39 |           |"
        ],
        [
         "| CUSR0000SA0 | 1952 |  M02   | 26.41 |           |"
        ],
        [
         "| CUSR0000SA0 | 1952 |  M01   | 26.45 |           |"
        ],
        [
         "| CUSR0000SA0 | 1951 |  M12   | 26.47 |           |"
        ],
        [
         "| CUSR0000SA0 | 1951 |  M11   | 26.32 |           |"
        ],
        [
         "| CUSR0000SA0 | 1951 |  M10   | 26.16 |           |"
        ],
        [
         "| CUSR0000SA0 | 1951 |  M09   | 26.03 |           |"
        ],
        [
         "| CUSR0000SA0 | 1951 |  M08   | 25.86 |           |"
        ],
        [
         "| CUSR0000SA0 | 1951 |  M07   | 25.91 |           |"
        ],
        [
         "| CUSR0000SA0 | 1951 |  M06   | 25.93 |           |"
        ],
        [
         "| CUSR0000SA0 | 1951 |  M05   | 25.99 |           |"
        ],
        [
         "| CUSR0000SA0 | 1951 |  M04   | 25.92 |           |"
        ],
        [
         "| CUSR0000SA0 | 1951 |  M03   | 25.88 |           |"
        ],
        [
         "| CUSR0000SA0 | 1951 |  M02   | 25.83 |           |"
        ],
        [
         "| CUSR0000SA0 | 1951 |  M01   | 25.38 |           |"
        ],
        [
         "| CUSR0000SA0 | 1950 |  M12   | 24.98 |           |"
        ],
        [
         "| CUSR0000SA0 | 1950 |  M11   | 24.60 |           |"
        ],
        [
         "| CUSR0000SA0 | 1950 |  M10   | 24.50 |           |"
        ],
        [
         "| CUSR0000SA0 | 1950 |  M09   | 24.34 |           |"
        ],
        [
         "| CUSR0000SA0 | 1950 |  M08   | 24.20 |           |"
        ],
        [
         "| CUSR0000SA0 | 1950 |  M07   | 24.07 |           |"
        ],
        [
         "| CUSR0000SA0 | 1950 |  M06   | 23.88 |           |"
        ],
        [
         "| CUSR0000SA0 | 1950 |  M05   | 23.77 |           |"
        ],
        [
         "| CUSR0000SA0 | 1950 |  M04   | 23.65 |           |"
        ],
        [
         "| CUSR0000SA0 | 1950 |  M03   | 23.64 |           |"
        ],
        [
         "| CUSR0000SA0 | 1950 |  M02   | 23.61 |           |"
        ],
        [
         "| CUSR0000SA0 | 1950 |  M01   | 23.51 |           |"
        ],
        [
         "| CUSR0000SA0 | 1949 |  M12   | 23.61 |           |"
        ],
        [
         "| CUSR0000SA0 | 1949 |  M11   | 23.70 |           |"
        ],
        [
         "| CUSR0000SA0 | 1949 |  M10   | 23.67 |           |"
        ],
        [
         "| CUSR0000SA0 | 1949 |  M09   | 23.75 |           |"
        ],
        [
         "| CUSR0000SA0 | 1949 |  M08   | 23.70 |           |"
        ],
        [
         "| CUSR0000SA0 | 1949 |  M07   | 23.70 |           |"
        ],
        [
         "| CUSR0000SA0 | 1949 |  M06   | 23.92 |           |"
        ],
        [
         "| CUSR0000SA0 | 1949 |  M05   | 23.91 |           |"
        ],
        [
         "| CUSR0000SA0 | 1949 |  M04   | 23.92 |           |"
        ],
        [
         "| CUSR0000SA0 | 1949 |  M03   | 23.91 |           |"
        ],
        [
         "| CUSR0000SA0 | 1949 |  M02   | 23.91 |           |"
        ],
        [
         "| CUSR0000SA0 | 1949 |  M01   | 24.01 |           |"
        ],
        [
         "| CUSR0000SA0 | 1948 |  M12   | 24.05 |           |"
        ],
        [
         "| CUSR0000SA0 | 1948 |  M11   | 24.16 |           |"
        ],
        [
         "| CUSR0000SA0 | 1948 |  M10   | 24.31 |           |"
        ],
        [
         "| CUSR0000SA0 | 1948 |  M09   | 24.36 |           |"
        ],
        [
         "| CUSR0000SA0 | 1948 |  M08   | 24.43 |           |"
        ],
        [
         "| CUSR0000SA0 | 1948 |  M07   | 24.40 |           |"
        ],
        [
         "| CUSR0000SA0 | 1948 |  M06   | 24.15 |           |"
        ],
        [
         "| CUSR0000SA0 | 1948 |  M05   | 24.01 |           |"
        ],
        [
         "| CUSR0000SA0 | 1948 |  M04   | 23.82 |           |"
        ],
        [
         "| CUSR0000SA0 | 1948 |  M03   | 23.50 |           |"
        ],
        [
         "| CUSR0000SA0 | 1948 |  M02   | 23.67 |           |"
        ],
        [
         "| CUSR0000SA0 | 1948 |  M01   | 23.68 |           |"
        ],
        [
         "| CUSR0000SA0 | 1947 |  M12   | 23.41 |           |"
        ],
        [
         "| CUSR0000SA0 | 1947 |  M11   | 23.06 |           |"
        ],
        [
         "| CUSR0000SA0 | 1947 |  M10   | 22.91 |           |"
        ],
        [
         "| CUSR0000SA0 | 1947 |  M09   | 22.84 |           |"
        ],
        [
         "| CUSR0000SA0 | 1947 |  M08   | 22.40 |           |"
        ],
        [
         "| CUSR0000SA0 | 1947 |  M07   | 22.23 |           |"
        ],
        [
         "| CUSR0000SA0 | 1947 |  M06   | 22.08 |           |"
        ],
        [
         "| CUSR0000SA0 | 1947 |  M05   | 21.95 |           |"
        ],
        [
         "| CUSR0000SA0 | 1947 |  M04   | 22.00 |           |"
        ],
        [
         "| CUSR0000SA0 | 1947 |  M03   | 22.00 |           |"
        ],
        [
         "| CUSR0000SA0 | 1947 |  M02   | 21.62 |           |"
        ],
        [
         "| CUSR0000SA0 | 1947 |  M01   | 21.48 |           |"
        ],
        [
         "+-------------+------+--------+-------+-----------++-------------+------+--------+-------+-----------+"
        ],
        [
         "|  series id  | year | period | value | footnotes |"
        ],
        [
         "+-------------+------+--------+-------+-----------+"
        ],
        [
         "| CUSR0000SA0 | 1966 |  M12   | 32.92 |           |"
        ],
        [
         "| CUSR0000SA0 | 1966 |  M11   | 32.88 |           |"
        ],
        [
         "| CUSR0000SA0 | 1966 |  M10   | 32.85 |           |"
        ],
        [
         "| CUSR0000SA0 | 1966 |  M09   | 32.75 |           |"
        ],
        [
         "| CUSR0000SA0 | 1966 |  M08   | 32.65 |           |"
        ],
        [
         "| CUSR0000SA0 | 1966 |  M07   | 32.45 |           |"
        ],
        [
         "| CUSR0000SA0 | 1966 |  M06   | 32.38 |           |"
        ],
        [
         "| CUSR0000SA0 | 1966 |  M05   | 32.35 |           |"
        ],
        [
         "| CUSR0000SA0 | 1966 |  M04   | 32.28 |           |"
        ],
        [
         "| CUSR0000SA0 | 1966 |  M03   | 32.18 |           |"
        ],
        [
         "| CUSR0000SA0 | 1966 |  M02   | 32.08 |           |"
        ],
        [
         "| CUSR0000SA0 | 1966 |  M01   | 31.88 |           |"
        ],
        [
         "| CUSR0000SA0 | 1965 |  M12   | 31.85 |           |"
        ],
        [
         "| CUSR0000SA0 | 1965 |  M11   | 31.75 |           |"
        ],
        [
         "| CUSR0000SA0 | 1965 |  M10   | 31.65 |           |"
        ],
        [
         "| CUSR0000SA0 | 1965 |  M09   | 31.62 |           |"
        ],
        [
         "| CUSR0000SA0 | 1965 |  M08   | 31.55 |           |"
        ],
        [
         "| CUSR0000SA0 | 1965 |  M07   | 31.58 |           |"
        ],
        [
         "| CUSR0000SA0 | 1965 |  M06   | 31.61 |           |"
        ],
        [
         "| CUSR0000SA0 | 1965 |  M05   | 31.48 |           |"
        ],
        [
         "| CUSR0000SA0 | 1965 |  M04   | 31.38 |           |"
        ],
        [
         "| CUSR0000SA0 | 1965 |  M03   | 31.31 |           |"
        ],
        [
         "| CUSR0000SA0 | 1965 |  M02   | 31.28 |           |"
        ],
        [
         "| CUSR0000SA0 | 1965 |  M01   | 31.28 |           |"
        ],
        [
         "| CUSR0000SA0 | 1964 |  M12   | 31.25 |           |"
        ],
        [
         "| CUSR0000SA0 | 1964 |  M11   | 31.21 |           |"
        ],
        [
         "| CUSR0000SA0 | 1964 |  M10   | 31.12 |           |"
        ],
        [
         "| CUSR0000SA0 | 1964 |  M09   | 31.08 |           |"
        ],
        [
         "| CUSR0000SA0 | 1964 |  M08   | 31.05 |           |"
        ],
        [
         "| CUSR0000SA0 | 1964 |  M07   | 31.02 |           |"
        ],
        [
         "| CUSR0000SA0 | 1964 |  M06   | 31.01 |           |"
        ],
        [
         "| CUSR0000SA0 | 1964 |  M05   | 30.98 |           |"
        ],
        [
         "| CUSR0000SA0 | 1964 |  M04   | 30.95 |           |"
        ],
        [
         "| CUSR0000SA0 | 1964 |  M03   | 30.94 |           |"
        ],
        [
         "| CUSR0000SA0 | 1964 |  M02   | 30.91 |           |"
        ],
        [
         "| CUSR0000SA0 | 1964 |  M01   | 30.94 |           |"
        ],
        [
         "| CUSR0000SA0 | 1963 |  M12   | 30.88 |           |"
        ],
        [
         "| CUSR0000SA0 | 1963 |  M11   | 30.78 |           |"
        ],
        [
         "| CUSR0000SA0 | 1963 |  M10   | 30.75 |           |"
        ],
        [
         "| CUSR0000SA0 | 1963 |  M09   | 30.72 |           |"
        ],
        [
         "| CUSR0000SA0 | 1963 |  M08   | 30.75 |           |"
        ],
        [
         "| CUSR0000SA0 | 1963 |  M07   | 30.69 |           |"
        ],
        [
         "| CUSR0000SA0 | 1963 |  M06   | 30.61 |           |"
        ],
        [
         "| CUSR0000SA0 | 1963 |  M05   | 30.51 |           |"
        ],
        [
         "| CUSR0000SA0 | 1963 |  M04   | 30.48 |           |"
        ],
        [
         "| CUSR0000SA0 | 1963 |  M03   | 30.51 |           |"
        ],
        [
         "| CUSR0000SA0 | 1963 |  M02   | 30.48 |           |"
        ],
        [
         "| CUSR0000SA0 | 1963 |  M01   | 30.44 |           |"
        ],
        [
         "| CUSR0000SA0 | 1962 |  M12   | 30.38 |           |"
        ],
        [
         "| CUSR0000SA0 | 1962 |  M11   | 30.38 |           |"
        ],
        [
         "| CUSR0000SA0 | 1962 |  M10   | 30.38 |           |"
        ],
        [
         "| CUSR0000SA0 | 1962 |  M09   | 30.42 |           |"
        ],
        [
         "| CUSR0000SA0 | 1962 |  M08   | 30.28 |           |"
        ],
        [
         "| CUSR0000SA0 | 1962 |  M07   | 30.22 |           |"
        ],
        [
         "| CUSR0000SA0 | 1962 |  M06   | 30.21 |           |"
        ],
        [
         "| CUSR0000SA0 | 1962 |  M05   | 30.24 |           |"
        ],
        [
         "| CUSR0000SA0 | 1962 |  M04   | 30.21 |           |"
        ],
        [
         "| CUSR0000SA0 | 1962 |  M03   | 30.17 |           |"
        ],
        [
         "| CUSR0000SA0 | 1962 |  M02   | 30.11 |           |"
        ],
        [
         "| CUSR0000SA0 | 1962 |  M01   | 30.04 |           |"
        ],
        [
         "| CUSR0000SA0 | 1961 |  M12   | 30.01 |           |"
        ],
        [
         "| CUSR0000SA0 | 1961 |  M11   | 29.98 |           |"
        ],
        [
         "| CUSR0000SA0 | 1961 |  M10   | 29.98 |           |"
        ],
        [
         "| CUSR0000SA0 | 1961 |  M09   | 29.98 |           |"
        ],
        [
         "| CUSR0000SA0 | 1961 |  M08   | 29.94 |           |"
        ],
        [
         "| CUSR0000SA0 | 1961 |  M07   | 29.92 |           |"
        ],
        [
         "| CUSR0000SA0 | 1961 |  M06   | 29.84 |           |"
        ],
        [
         "| CUSR0000SA0 | 1961 |  M05   | 29.84 |           |"
        ],
        [
         "| CUSR0000SA0 | 1961 |  M04   | 29.81 |           |"
        ],
        [
         "| CUSR0000SA0 | 1961 |  M03   | 29.84 |           |"
        ],
        [
         "| CUSR0000SA0 | 1961 |  M02   | 29.84 |           |"
        ],
        [
         "| CUSR0000SA0 | 1961 |  M01   | 29.84 |           |"
        ],
        [
         "| CUSR0000SA0 | 1960 |  M12   | 29.81 |           |"
        ],
        [
         "| CUSR0000SA0 | 1960 |  M11   | 29.78 |           |"
        ],
        [
         "| CUSR0000SA0 | 1960 |  M10   | 29.75 |           |"
        ],
        [
         "| CUSR0000SA0 | 1960 |  M09   | 29.61 |           |"
        ],
        [
         "| CUSR0000SA0 | 1960 |  M08   | 29.61 |           |"
        ],
        [
         "| CUSR0000SA0 | 1960 |  M07   | 29.55 |           |"
        ],
        [
         "| CUSR0000SA0 | 1960 |  M06   | 29.61 |           |"
        ],
        [
         "| CUSR0000SA0 | 1960 |  M05   | 29.57 |           |"
        ],
        [
         "| CUSR0000SA0 | 1960 |  M04   | 29.54 |           |"
        ],
        [
         "| CUSR0000SA0 | 1960 |  M03   | 29.41 |           |"
        ],
        [
         "| CUSR0000SA0 | 1960 |  M02   | 29.41 |           |"
        ],
        [
         "| CUSR0000SA0 | 1960 |  M01   | 29.37 |           |"
        ],
        [
         "| CUSR0000SA0 | 1959 |  M12   | 29.41 |           |"
        ],
        [
         "| CUSR0000SA0 | 1959 |  M11   | 29.35 |           |"
        ],
        [
         "| CUSR0000SA0 | 1959 |  M10   | 29.35 |           |"
        ],
        [
         "| CUSR0000SA0 | 1959 |  M09   | 29.25 |           |"
        ],
        [
         "| CUSR0000SA0 | 1959 |  M08   | 29.18 |           |"
        ],
        [
         "| CUSR0000SA0 | 1959 |  M07   | 29.15 |           |"
        ],
        [
         "| CUSR0000SA0 | 1959 |  M06   | 29.11 |           |"
        ],
        [
         "| CUSR0000SA0 | 1959 |  M05   | 29.04 |           |"
        ],
        [
         "| CUSR0000SA0 | 1959 |  M04   | 28.98 |           |"
        ],
        [
         "| CUSR0000SA0 | 1959 |  M03   | 28.97 |           |"
        ],
        [
         "| CUSR0000SA0 | 1959 |  M02   | 29.00 |           |"
        ],
        [
         "| CUSR0000SA0 | 1959 |  M01   | 29.01 |           |"
        ],
        [
         "| CUSR0000SA0 | 1958 |  M12   | 28.97 |           |"
        ],
        [
         "| CUSR0000SA0 | 1958 |  M11   | 28.95 |           |"
        ],
        [
         "| CUSR0000SA0 | 1958 |  M10   | 28.91 |           |"
        ],
        [
         "| CUSR0000SA0 | 1958 |  M09   | 28.91 |           |"
        ],
        [
         "| CUSR0000SA0 | 1958 |  M08   | 28.94 |           |"
        ],
        [
         "| CUSR0000SA0 | 1958 |  M07   | 28.89 |           |"
        ],
        [
         "| CUSR0000SA0 | 1958 |  M06   | 28.91 |           |"
        ],
        [
         "| CUSR0000SA0 | 1958 |  M05   | 28.94 |           |"
        ],
        [
         "| CUSR0000SA0 | 1958 |  M04   | 28.94 |           |"
        ],
        [
         "| CUSR0000SA0 | 1958 |  M03   | 28.87 |           |"
        ],
        [
         "| CUSR0000SA0 | 1958 |  M02   | 28.70 |           |"
        ],
        [
         "| CUSR0000SA0 | 1958 |  M01   | 28.64 |           |"
        ],
        [
         "| CUSR0000SA0 | 1957 |  M12   | 28.47 |           |"
        ],
        [
         "| CUSR0000SA0 | 1957 |  M11   | 28.41 |           |"
        ],
        [
         "| CUSR0000SA0 | 1957 |  M10   | 28.32 |           |"
        ],
        [
         "| CUSR0000SA0 | 1957 |  M09   | 28.32 |           |"
        ],
        [
         "| CUSR0000SA0 | 1957 |  M08   | 28.28 |           |"
        ],
        [
         "| CUSR0000SA0 | 1957 |  M07   | 28.19 |           |"
        ],
        [
         "| CUSR0000SA0 | 1957 |  M06   | 28.11 |           |"
        ],
        [
         "| CUSR0000SA0 | 1957 |  M05   | 28.00 |           |"
        ],
        [
         "| CUSR0000SA0 | 1957 |  M04   | 27.93 |           |"
        ],
        [
         "| CUSR0000SA0 | 1957 |  M03   | 27.86 |           |"
        ],
        [
         "| CUSR0000SA0 | 1957 |  M02   | 27.80 |           |"
        ],
        [
         "| CUSR0000SA0 | 1957 |  M01   | 27.67 |           |"
        ],
        [
         "+-------------+------+--------+-------+-----------++-------------+------+--------+-------+-----------+"
        ],
        [
         "|  series id  | year | period | value | footnotes |"
        ],
        [
         "+-------------+------+--------+-------+-----------+"
        ],
        [
         "| CUSR0000SA0 | 1976 |  M12   | 58.40 |           |"
        ],
        [
         "| CUSR0000SA0 | 1976 |  M11   | 58.10 |           |"
        ],
        [
         "| CUSR0000SA0 | 1976 |  M10   | 57.90 |           |"
        ],
        [
         "| CUSR0000SA0 | 1976 |  M09   | 57.60 |           |"
        ],
        [
         "| CUSR0000SA0 | 1976 |  M08   | 57.30 |           |"
        ],
        [
         "| CUSR0000SA0 | 1976 |  M07   | 57.00 |           |"
        ],
        [
         "| CUSR0000SA0 | 1976 |  M06   | 56.70 |           |"
        ],
        [
         "| CUSR0000SA0 | 1976 |  M05   | 56.40 |           |"
        ],
        [
         "| CUSR0000SA0 | 1976 |  M04   | 56.10 |           |"
        ],
        [
         "| CUSR0000SA0 | 1976 |  M03   | 56.00 |           |"
        ],
        [
         "| CUSR0000SA0 | 1976 |  M02   | 55.90 |           |"
        ],
        [
         "| CUSR0000SA0 | 1976 |  M01   | 55.80 |           |"
        ],
        [
         "| CUSR0000SA0 | 1975 |  M12   | 55.60 |           |"
        ],
        [
         "| CUSR0000SA0 | 1975 |  M11   | 55.30 |           |"
        ],
        [
         "| CUSR0000SA0 | 1975 |  M10   | 54.90 |           |"
        ],
        [
         "| CUSR0000SA0 | 1975 |  M09   | 54.60 |           |"
        ],
        [
         "| CUSR0000SA0 | 1975 |  M08   | 54.20 |           |"
        ],
        [
         "| CUSR0000SA0 | 1975 |  M07   | 54.00 |           |"
        ],
        [
         "| CUSR0000SA0 | 1975 |  M06   | 53.50 |           |"
        ],
        [
         "| CUSR0000SA0 | 1975 |  M05   | 53.10 |           |"
        ],
        [
         "| CUSR0000SA0 | 1975 |  M04   | 53.00 |           |"
        ],
        [
         "| CUSR0000SA0 | 1975 |  M03   | 52.80 |           |"
        ],
        [
         "| CUSR0000SA0 | 1975 |  M02   | 52.60 |           |"
        ],
        [
         "| CUSR0000SA0 | 1975 |  M01   | 52.30 |           |"
        ],
        [
         "| CUSR0000SA0 | 1974 |  M12   | 51.90 |           |"
        ],
        [
         "| CUSR0000SA0 | 1974 |  M11   | 51.50 |           |"
        ],
        [
         "| CUSR0000SA0 | 1974 |  M10   | 51.00 |           |"
        ],
        [
         "| CUSR0000SA0 | 1974 |  M09   | 50.60 |           |"
        ],
        [
         "| CUSR0000SA0 | 1974 |  M08   | 49.90 |           |"
        ],
        [
         "| CUSR0000SA0 | 1974 |  M07   | 49.30 |           |"
        ],
        [
         "| CUSR0000SA0 | 1974 |  M06   | 49.00 |           |"
        ],
        [
         "| CUSR0000SA0 | 1974 |  M05   | 48.60 |           |"
        ],
        [
         "| CUSR0000SA0 | 1974 |  M04   | 48.10 |           |"
        ],
        [
         "| CUSR0000SA0 | 1974 |  M03   | 47.80 |           |"
        ],
        [
         "| CUSR0000SA0 | 1974 |  M02   | 47.30 |           |"
        ],
        [
         "| CUSR0000SA0 | 1974 |  M01   | 46.80 |           |"
        ],
        [
         "| CUSR0000SA0 | 1973 |  M12   | 46.30 |           |"
        ],
        [
         "| CUSR0000SA0 | 1973 |  M11   | 45.90 |           |"
        ],
        [
         "| CUSR0000SA0 | 1973 |  M10   | 45.60 |           |"
        ],
        [
         "| CUSR0000SA0 | 1973 |  M09   | 45.20 |           |"
        ],
        [
         "| CUSR0000SA0 | 1973 |  M08   | 45.00 |           |"
        ],
        [
         "| CUSR0000SA0 | 1973 |  M07   | 44.20 |           |"
        ],
        [
         "| CUSR0000SA0 | 1973 |  M06   | 44.20 |           |"
        ],
        [
         "| CUSR0000SA0 | 1973 |  M05   | 43.90 |           |"
        ],
        [
         "| CUSR0000SA0 | 1973 |  M04   | 43.70 |           |"
        ],
        [
         "| CUSR0000SA0 | 1973 |  M03   | 43.40 |           |"
        ],
        [
         "| CUSR0000SA0 | 1973 |  M02   | 43.00 |           |"
        ],
        [
         "| CUSR0000SA0 | 1973 |  M01   | 42.70 |           |"
        ],
        [
         "| CUSR0000SA0 | 1972 |  M12   | 42.50 |           |"
        ],
        [
         "| CUSR0000SA0 | 1972 |  M11   | 42.40 |           |"
        ],
        [
         "| CUSR0000SA0 | 1972 |  M10   | 42.20 |           |"
        ],
        [
         "| CUSR0000SA0 | 1972 |  M09   | 42.10 |           |"
        ],
        [
         "| CUSR0000SA0 | 1972 |  M08   | 41.90 |           |"
        ],
        [
         "| CUSR0000SA0 | 1972 |  M07   | 41.80 |           |"
        ],
        [
         "| CUSR0000SA0 | 1972 |  M06   | 41.70 |           |"
        ],
        [
         "| CUSR0000SA0 | 1972 |  M05   | 41.60 |           |"
        ],
        [
         "| CUSR0000SA0 | 1972 |  M04   | 41.50 |           |"
        ],
        [
         "| CUSR0000SA0 | 1972 |  M03   | 41.40 |           |"
        ],
        [
         "| CUSR0000SA0 | 1972 |  M02   | 41.40 |           |"
        ],
        [
         "| CUSR0000SA0 | 1972 |  M01   | 41.20 |           |"
        ],
        [
         "| CUSR0000SA0 | 1971 |  M12   | 41.10 |           |"
        ],
        [
         "| CUSR0000SA0 | 1971 |  M11   | 41.00 |           |"
        ],
        [
         "| CUSR0000SA0 | 1971 |  M10   | 40.90 |           |"
        ],
        [
         "| CUSR0000SA0 | 1971 |  M09   | 40.80 |           |"
        ],
        [
         "| CUSR0000SA0 | 1971 |  M08   | 40.70 |           |"
        ],
        [
         "| CUSR0000SA0 | 1971 |  M07   | 40.60 |           |"
        ],
        [
         "| CUSR0000SA0 | 1971 |  M06   | 40.50 |           |"
        ],
        [
         "| CUSR0000SA0 | 1971 |  M05   | 40.30 |           |"
        ],
        [
         "| CUSR0000SA0 | 1971 |  M04   | 40.10 |           |"
        ],
        [
         "| CUSR0000SA0 | 1971 |  M03   | 40.00 |           |"
        ],
        [
         "| CUSR0000SA0 | 1971 |  M02   | 39.90 |           |"
        ],
        [
         "| CUSR0000SA0 | 1971 |  M01   | 39.90 |           |"
        ],
        [
         "| CUSR0000SA0 | 1970 |  M12   | 39.80 |           |"
        ],
        [
         "| CUSR0000SA0 | 1970 |  M11   | 39.60 |           |"
        ],
        [
         "| CUSR0000SA0 | 1970 |  M10   | 39.40 |           |"
        ],
        [
         "| CUSR0000SA0 | 1970 |  M09   | 39.20 |           |"
        ],
        [
         "| CUSR0000SA0 | 1970 |  M08   | 39.00 |           |"
        ],
        [
         "| CUSR0000SA0 | 1970 |  M07   | 38.90 |           |"
        ],
        [
         "| CUSR0000SA0 | 1970 |  M06   | 38.80 |           |"
        ],
        [
         "| CUSR0000SA0 | 1970 |  M05   | 38.60 |           |"
        ],
        [
         "| CUSR0000SA0 | 1970 |  M04   | 38.50 |           |"
        ],
        [
         "| CUSR0000SA0 | 1970 |  M03   | 38.30 |           |"
        ],
        [
         "| CUSR0000SA0 | 1970 |  M02   | 38.10 |           |"
        ],
        [
         "| CUSR0000SA0 | 1970 |  M01   | 37.90 |           |"
        ],
        [
         "| CUSR0000SA0 | 1969 |  M12   | 37.70 |           |"
        ],
        [
         "| CUSR0000SA0 | 1969 |  M11   | 37.50 |           |"
        ],
        [
         "| CUSR0000SA0 | 1969 |  M10   | 37.30 |           |"
        ],
        [
         "| CUSR0000SA0 | 1969 |  M09   | 37.10 |           |"
        ],
        [
         "| CUSR0000SA0 | 1969 |  M08   | 36.90 |           |"
        ],
        [
         "| CUSR0000SA0 | 1969 |  M07   | 36.80 |           |"
        ],
        [
         "| CUSR0000SA0 | 1969 |  M06   | 36.60 |           |"
        ],
        [
         "| CUSR0000SA0 | 1969 |  M05   | 36.40 |           |"
        ],
        [
         "| CUSR0000SA0 | 1969 |  M04   | 36.30 |           |"
        ],
        [
         "| CUSR0000SA0 | 1969 |  M03   | 36.10 |           |"
        ],
        [
         "| CUSR0000SA0 | 1969 |  M02   | 35.80 |           |"
        ],
        [
         "| CUSR0000SA0 | 1969 |  M01   | 35.70 |           |"
        ],
        [
         "| CUSR0000SA0 | 1968 |  M12   | 35.60 |           |"
        ],
        [
         "| CUSR0000SA0 | 1968 |  M11   | 35.40 |           |"
        ],
        [
         "| CUSR0000SA0 | 1968 |  M10   | 35.30 |           |"
        ],
        [
         "| CUSR0000SA0 | 1968 |  M09   | 35.10 |           |"
        ],
        [
         "| CUSR0000SA0 | 1968 |  M08   | 35.00 |           |"
        ],
        [
         "| CUSR0000SA0 | 1968 |  M07   | 34.90 |           |"
        ],
        [
         "| CUSR0000SA0 | 1968 |  M06   | 34.70 |           |"
        ],
        [
         "| CUSR0000SA0 | 1968 |  M05   | 34.50 |           |"
        ],
        [
         "| CUSR0000SA0 | 1968 |  M04   | 34.40 |           |"
        ],
        [
         "| CUSR0000SA0 | 1968 |  M03   | 34.30 |           |"
        ],
        [
         "| CUSR0000SA0 | 1968 |  M02   | 34.20 |           |"
        ],
        [
         "| CUSR0000SA0 | 1968 |  M01   | 34.10 |           |"
        ],
        [
         "| CUSR0000SA0 | 1967 |  M12   | 34.00 |           |"
        ],
        [
         "| CUSR0000SA0 | 1967 |  M11   | 33.90 |           |"
        ],
        [
         "| CUSR0000SA0 | 1967 |  M10   | 33.70 |           |"
        ],
        [
         "| CUSR0000SA0 | 1967 |  M09   | 33.60 |           |"
        ],
        [
         "| CUSR0000SA0 | 1967 |  M08   | 33.50 |           |"
        ],
        [
         "| CUSR0000SA0 | 1967 |  M07   | 33.40 |           |"
        ],
        [
         "| CUSR0000SA0 | 1967 |  M06   | 33.30 |           |"
        ],
        [
         "| CUSR0000SA0 | 1967 |  M05   | 33.10 |           |"
        ],
        [
         "| CUSR0000SA0 | 1967 |  M04   | 33.10 |           |"
        ],
        [
         "| CUSR0000SA0 | 1967 |  M03   | 33.00 |           |"
        ],
        [
         "| CUSR0000SA0 | 1967 |  M02   | 33.00 |           |"
        ],
        [
         "| CUSR0000SA0 | 1967 |  M01   | 32.90 |           |"
        ],
        [
         "+-------------+------+--------+-------+-----------++-------------+------+--------+--------+-----------+"
        ],
        [
         "|  series id  | year | period | value  | footnotes |"
        ],
        [
         "+-------------+------+--------+--------+-----------+"
        ],
        [
         "| CUSR0000SA0 | 1986 |  M12   | 110.80 |           |"
        ],
        [
         "| CUSR0000SA0 | 1986 |  M11   | 110.40 |           |"
        ],
        [
         "| CUSR0000SA0 | 1986 |  M10   | 110.20 |           |"
        ],
        [
         "| CUSR0000SA0 | 1986 |  M09   | 110.00 |           |"
        ],
        [
         "| CUSR0000SA0 | 1986 |  M08   | 109.60 |           |"
        ],
        [
         "| CUSR0000SA0 | 1986 |  M07   | 109.50 |           |"
        ],
        [
         "| CUSR0000SA0 | 1986 |  M06   | 109.40 |           |"
        ],
        [
         "| CUSR0000SA0 | 1986 |  M05   | 109.00 |           |"
        ],
        [
         "| CUSR0000SA0 | 1986 |  M04   | 108.70 |           |"
        ],
        [
         "| CUSR0000SA0 | 1986 |  M03   | 109.10 |           |"
        ],
        [
         "| CUSR0000SA0 | 1986 |  M02   | 109.70 |           |"
        ],
        [
         "| CUSR0000SA0 | 1986 |  M01   | 109.90 |           |"
        ],
        [
         "| CUSR0000SA0 | 1985 |  M12   | 109.50 |           |"
        ],
        [
         "| CUSR0000SA0 | 1985 |  M11   | 109.00 |           |"
        ],
        [
         "| CUSR0000SA0 | 1985 |  M10   | 108.50 |           |"
        ],
        [
         "| CUSR0000SA0 | 1985 |  M09   | 108.10 |           |"
        ],
        [
         "| CUSR0000SA0 | 1985 |  M08   | 107.90 |           |"
        ],
        [
         "| CUSR0000SA0 | 1985 |  M07   | 107.70 |           |"
        ],
        [
         "| CUSR0000SA0 | 1985 |  M06   | 107.50 |           |"
        ],
        [
         "| CUSR0000SA0 | 1985 |  M05   | 107.20 |           |"
        ],
        [
         "| CUSR0000SA0 | 1985 |  M04   | 107.00 |           |"
        ],
        [
         "| CUSR0000SA0 | 1985 |  M03   | 106.80 |           |"
        ],
        [
         "| CUSR0000SA0 | 1985 |  M02   | 106.30 |           |"
        ],
        [
         "| CUSR0000SA0 | 1985 |  M01   | 105.70 |           |"
        ],
        [
         "| CUSR0000SA0 | 1984 |  M12   | 105.50 |           |"
        ],
        [
         "| CUSR0000SA0 | 1984 |  M11   | 105.30 |           |"
        ],
        [
         "| CUSR0000SA0 | 1984 |  M10   | 105.10 |           |"
        ],
        [
         "| CUSR0000SA0 | 1984 |  M09   | 104.70 |           |"
        ],
        [
         "| CUSR0000SA0 | 1984 |  M08   | 104.40 |           |"
        ],
        [
         "| CUSR0000SA0 | 1984 |  M07   | 104.10 |           |"
        ],
        [
         "| CUSR0000SA0 | 1984 |  M06   | 103.70 |           |"
        ],
        [
         "| CUSR0000SA0 | 1984 |  M05   | 103.50 |           |"
        ],
        [
         "| CUSR0000SA0 | 1984 |  M04   | 103.30 |           |"
        ],
        [
         "| CUSR0000SA0 | 1984 |  M03   | 102.90 |           |"
        ],
        [
         "| CUSR0000SA0 | 1984 |  M02   | 102.60 |           |"
        ],
        [
         "| CUSR0000SA0 | 1984 |  M01   | 102.10 |           |"
        ],
        [
         "| CUSR0000SA0 | 1983 |  M12   | 101.40 |           |"
        ],
        [
         "| CUSR0000SA0 | 1983 |  M11   | 101.10 |           |"
        ],
        [
         "| CUSR0000SA0 | 1983 |  M10   | 100.80 |           |"
        ],
        [
         "| CUSR0000SA0 | 1983 |  M09   | 100.40 |           |"
        ],
        [
         "| CUSR0000SA0 | 1983 |  M08   | 100.10 |           |"
        ],
        [
         "| CUSR0000SA0 | 1983 |  M07   | 99.80  |           |"
        ],
        [
         "| CUSR0000SA0 | 1983 |  M06   | 99.40  |           |"
        ],
        [
         "| CUSR0000SA0 | 1983 |  M05   | 99.20  |           |"
        ],
        [
         "| CUSR0000SA0 | 1983 |  M04   | 98.80  |           |"
        ],
        [
         "| CUSR0000SA0 | 1983 |  M03   | 98.10  |           |"
        ],
        [
         "| CUSR0000SA0 | 1983 |  M02   | 98.00  |           |"
        ],
        [
         "| CUSR0000SA0 | 1983 |  M01   | 97.90  |           |"
        ],
        [
         "| CUSR0000SA0 | 1982 |  M12   | 97.70  |           |"
        ],
        [
         "| CUSR0000SA0 | 1982 |  M11   | 98.00  |           |"
        ],
        [
         "| CUSR0000SA0 | 1982 |  M10   | 98.10  |           |"
        ],
        [
         "| CUSR0000SA0 | 1982 |  M09   | 97.70  |           |"
        ],
        [
         "| CUSR0000SA0 | 1982 |  M08   | 97.70  |           |"
        ],
        [
         "| CUSR0000SA0 | 1982 |  M07   | 97.50  |           |"
        ],
        [
         "| CUSR0000SA0 | 1982 |  M06   | 97.00  |           |"
        ],
        [
         "| CUSR0000SA0 | 1982 |  M05   | 95.90  |           |"
        ],
        [
         "| CUSR0000SA0 | 1982 |  M04   | 95.00  |           |"
        ],
        [
         "| CUSR0000SA0 | 1982 |  M03   | 94.70  |           |"
        ],
        [
         "| CUSR0000SA0 | 1982 |  M02   | 94.70  |           |"
        ],
        [
         "| CUSR0000SA0 | 1982 |  M01   | 94.40  |           |"
        ],
        [
         "| CUSR0000SA0 | 1981 |  M12   | 94.10  |           |"
        ],
        [
         "| CUSR0000SA0 | 1981 |  M11   | 93.80  |           |"
        ],
        [
         "| CUSR0000SA0 | 1981 |  M10   | 93.40  |           |"
        ],
        [
         "| CUSR0000SA0 | 1981 |  M09   | 93.10  |           |"
        ],
        [
         "| CUSR0000SA0 | 1981 |  M08   | 92.20  |           |"
        ],
        [
         "| CUSR0000SA0 | 1981 |  M07   | 91.50  |           |"
        ],
        [
         "| CUSR0000SA0 | 1981 |  M06   | 90.50  |           |"
        ],
        [
         "| CUSR0000SA0 | 1981 |  M05   | 89.70  |           |"
        ],
        [
         "| CUSR0000SA0 | 1981 |  M04   | 89.10  |           |"
        ],
        [
         "| CUSR0000SA0 | 1981 |  M03   | 88.60  |           |"
        ],
        [
         "| CUSR0000SA0 | 1981 |  M02   | 88.00  |           |"
        ],
        [
         "| CUSR0000SA0 | 1981 |  M01   | 87.20  |           |"
        ],
        [
         "| CUSR0000SA0 | 1980 |  M12   | 86.40  |           |"
        ],
        [
         "| CUSR0000SA0 | 1980 |  M11   | 85.60  |           |"
        ],
        [
         "| CUSR0000SA0 | 1980 |  M10   | 84.70  |           |"
        ],
        [
         "| CUSR0000SA0 | 1980 |  M09   | 83.90  |           |"
        ],
        [
         "| CUSR0000SA0 | 1980 |  M08   | 83.20  |           |"
        ],
        [
         "| CUSR0000SA0 | 1980 |  M07   | 82.60  |           |"
        ],
        [
         "| CUSR0000SA0 | 1980 |  M06   | 82.50  |           |"
        ],
        [
         "| CUSR0000SA0 | 1980 |  M05   | 81.70  |           |"
        ],
        [
         "| CUSR0000SA0 | 1980 |  M04   | 80.90  |           |"
        ],
        [
         "| CUSR0000SA0 | 1980 |  M03   | 80.10  |           |"
        ],
        [
         "| CUSR0000SA0 | 1980 |  M02   | 79.00  |           |"
        ],
        [
         "| CUSR0000SA0 | 1980 |  M01   | 78.00  |           |"
        ],
        [
         "| CUSR0000SA0 | 1979 |  M12   | 76.90  |           |"
        ],
        [
         "| CUSR0000SA0 | 1979 |  M11   | 76.00  |           |"
        ],
        [
         "| CUSR0000SA0 | 1979 |  M10   | 75.20  |           |"
        ],
        [
         "| CUSR0000SA0 | 1979 |  M09   | 74.40  |           |"
        ],
        [
         "| CUSR0000SA0 | 1979 |  M08   | 73.70  |           |"
        ],
        [
         "| CUSR0000SA0 | 1979 |  M07   | 73.00  |           |"
        ],
        [
         "| CUSR0000SA0 | 1979 |  M06   | 72.20  |           |"
        ],
        [
         "| CUSR0000SA0 | 1979 |  M05   | 71.40  |           |"
        ],
        [
         "| CUSR0000SA0 | 1979 |  M04   | 70.60  |           |"
        ],
        [
         "| CUSR0000SA0 | 1979 |  M03   | 69.90  |           |"
        ],
        [
         "| CUSR0000SA0 | 1979 |  M02   | 69.20  |           |"
        ],
        [
         "| CUSR0000SA0 | 1979 |  M01   | 68.50  |           |"
        ],
        [
         "| CUSR0000SA0 | 1978 |  M12   | 67.90  |           |"
        ],
        [
         "| CUSR0000SA0 | 1978 |  M11   | 67.50  |           |"
        ],
        [
         "| CUSR0000SA0 | 1978 |  M10   | 67.10  |           |"
        ],
        [
         "| CUSR0000SA0 | 1978 |  M09   | 66.50  |           |"
        ],
        [
         "| CUSR0000SA0 | 1978 |  M08   | 65.90  |           |"
        ],
        [
         "| CUSR0000SA0 | 1978 |  M07   | 65.50  |           |"
        ],
        [
         "| CUSR0000SA0 | 1978 |  M06   | 65.00  |           |"
        ],
        [
         "| CUSR0000SA0 | 1978 |  M05   | 64.50  |           |"
        ],
        [
         "| CUSR0000SA0 | 1978 |  M04   | 63.90  |           |"
        ],
        [
         "| CUSR0000SA0 | 1978 |  M03   | 63.40  |           |"
        ],
        [
         "| CUSR0000SA0 | 1978 |  M02   | 63.00  |           |"
        ],
        [
         "| CUSR0000SA0 | 1978 |  M01   | 62.70  |           |"
        ],
        [
         "| CUSR0000SA0 | 1977 |  M12   | 62.30  |           |"
        ],
        [
         "| CUSR0000SA0 | 1977 |  M11   | 62.00  |           |"
        ],
        [
         "| CUSR0000SA0 | 1977 |  M10   | 61.60  |           |"
        ],
        [
         "| CUSR0000SA0 | 1977 |  M09   | 61.30  |           |"
        ],
        [
         "| CUSR0000SA0 | 1977 |  M08   | 61.10  |           |"
        ],
        [
         "| CUSR0000SA0 | 1977 |  M07   | 60.80  |           |"
        ],
        [
         "| CUSR0000SA0 | 1977 |  M06   | 60.50  |           |"
        ],
        [
         "| CUSR0000SA0 | 1977 |  M05   | 60.20  |           |"
        ],
        [
         "| CUSR0000SA0 | 1977 |  M04   | 60.00  |           |"
        ],
        [
         "| CUSR0000SA0 | 1977 |  M03   | 59.60  |           |"
        ],
        [
         "| CUSR0000SA0 | 1977 |  M02   | 59.30  |           |"
        ],
        [
         "| CUSR0000SA0 | 1977 |  M01   | 58.70  |           |"
        ],
        [
         "+-------------+------+--------+--------+-----------++-------------+------+--------+--------+-----------+"
        ],
        [
         "|  series id  | year | period | value  | footnotes |"
        ],
        [
         "+-------------+------+--------+--------+-----------+"
        ],
        [
         "| CUSR0000SA0 | 1996 |  M12   | 159.10 |           |"
        ],
        [
         "| CUSR0000SA0 | 1996 |  M11   | 158.70 |           |"
        ],
        [
         "| CUSR0000SA0 | 1996 |  M10   | 158.20 |           |"
        ],
        [
         "| CUSR0000SA0 | 1996 |  M09   | 157.70 |           |"
        ],
        [
         "| CUSR0000SA0 | 1996 |  M08   | 157.20 |           |"
        ],
        [
         "| CUSR0000SA0 | 1996 |  M07   | 157.00 |           |"
        ],
        [
         "| CUSR0000SA0 | 1996 |  M06   | 156.70 |           |"
        ],
        [
         "| CUSR0000SA0 | 1996 |  M05   | 156.40 |           |"
        ],
        [
         "| CUSR0000SA0 | 1996 |  M04   | 156.10 |           |"
        ],
        [
         "| CUSR0000SA0 | 1996 |  M03   | 155.50 |           |"
        ],
        [
         "| CUSR0000SA0 | 1996 |  M02   | 155.00 |           |"
        ],
        [
         "| CUSR0000SA0 | 1996 |  M01   | 154.70 |           |"
        ],
        [
         "| CUSR0000SA0 | 1995 |  M12   | 153.90 |           |"
        ],
        [
         "| CUSR0000SA0 | 1995 |  M11   | 153.70 |           |"
        ],
        [
         "| CUSR0000SA0 | 1995 |  M10   | 153.50 |           |"
        ],
        [
         "| CUSR0000SA0 | 1995 |  M09   | 153.10 |           |"
        ],
        [
         "| CUSR0000SA0 | 1995 |  M08   | 152.90 |           |"
        ],
        [
         "| CUSR0000SA0 | 1995 |  M07   | 152.60 |           |"
        ],
        [
         "| CUSR0000SA0 | 1995 |  M06   | 152.40 |           |"
        ],
        [
         "| CUSR0000SA0 | 1995 |  M05   | 152.10 |           |"
        ],
        [
         "| CUSR0000SA0 | 1995 |  M04   | 151.80 |           |"
        ],
        [
         "| CUSR0000SA0 | 1995 |  M03   | 151.20 |           |"
        ],
        [
         "| CUSR0000SA0 | 1995 |  M02   | 150.90 |           |"
        ],
        [
         "| CUSR0000SA0 | 1995 |  M01   | 150.50 |           |"
        ],
        [
         "| CUSR0000SA0 | 1994 |  M12   | 150.10 |           |"
        ],
        [
         "| CUSR0000SA0 | 1994 |  M11   | 149.80 |           |"
        ],
        [
         "| CUSR0000SA0 | 1994 |  M10   | 149.40 |           |"
        ],
        [
         "| CUSR0000SA0 | 1994 |  M09   | 149.30 |           |"
        ],
        [
         "| CUSR0000SA0 | 1994 |  M08   | 149.00 |           |"
        ],
        [
         "| CUSR0000SA0 | 1994 |  M07   | 148.40 |           |"
        ],
        [
         "| CUSR0000SA0 | 1994 |  M06   | 147.90 |           |"
        ],
        [
         "| CUSR0000SA0 | 1994 |  M05   | 147.50 |           |"
        ],
        [
         "| CUSR0000SA0 | 1994 |  M04   | 147.20 |           |"
        ],
        [
         "| CUSR0000SA0 | 1994 |  M03   | 147.10 |           |"
        ],
        [
         "| CUSR0000SA0 | 1994 |  M02   | 146.70 |           |"
        ],
        [
         "| CUSR0000SA0 | 1994 |  M01   | 146.30 |           |"
        ],
        [
         "| CUSR0000SA0 | 1993 |  M12   | 146.30 |           |"
        ],
        [
         "| CUSR0000SA0 | 1993 |  M11   | 146.00 |           |"
        ],
        [
         "| CUSR0000SA0 | 1993 |  M10   | 145.60 |           |"
        ],
        [
         "| CUSR0000SA0 | 1993 |  M09   | 145.00 |           |"
        ],
        [
         "| CUSR0000SA0 | 1993 |  M08   | 144.80 |           |"
        ],
        [
         "| CUSR0000SA0 | 1993 |  M07   | 144.50 |           |"
        ],
        [
         "| CUSR0000SA0 | 1993 |  M06   | 144.30 |           |"
        ],
        [
         "| CUSR0000SA0 | 1993 |  M05   | 144.20 |           |"
        ],
        [
         "| CUSR0000SA0 | 1993 |  M04   | 143.80 |           |"
        ],
        [
         "| CUSR0000SA0 | 1993 |  M03   | 143.30 |           |"
        ],
        [
         "| CUSR0000SA0 | 1993 |  M02   | 143.10 |           |"
        ],
        [
         "| CUSR0000SA0 | 1993 |  M01   | 142.80 |           |"
        ],
        [
         "| CUSR0000SA0 | 1992 |  M12   | 142.30 |           |"
        ],
        [
         "| CUSR0000SA0 | 1992 |  M11   | 142.10 |           |"
        ],
        [
         "| CUSR0000SA0 | 1992 |  M10   | 141.70 |           |"
        ],
        [
         "| CUSR0000SA0 | 1992 |  M09   | 141.10 |           |"
        ],
        [
         "| CUSR0000SA0 | 1992 |  M08   | 140.80 |           |"
        ],
        [
         "| CUSR0000SA0 | 1992 |  M07   | 140.50 |           |"
        ],
        [
         "| CUSR0000SA0 | 1992 |  M06   | 140.10 |           |"
        ],
        [
         "| CUSR0000SA0 | 1992 |  M05   | 139.70 |           |"
        ],
        [
         "| CUSR0000SA0 | 1992 |  M04   | 139.40 |           |"
        ],
        [
         "| CUSR0000SA0 | 1992 |  M03   | 139.10 |           |"
        ],
        [
         "| CUSR0000SA0 | 1992 |  M02   | 138.60 |           |"
        ],
        [
         "| CUSR0000SA0 | 1992 |  M01   | 138.30 |           |"
        ],
        [
         "| CUSR0000SA0 | 1991 |  M12   | 138.20 |           |"
        ],
        [
         "| CUSR0000SA0 | 1991 |  M11   | 137.80 |           |"
        ],
        [
         "| CUSR0000SA0 | 1991 |  M10   | 137.20 |           |"
        ],
        [
         "| CUSR0000SA0 | 1991 |  M09   | 137.00 |           |"
        ],
        [
         "| CUSR0000SA0 | 1991 |  M08   | 136.60 |           |"
        ],
        [
         "| CUSR0000SA0 | 1991 |  M07   | 136.20 |           |"
        ],
        [
         "| CUSR0000SA0 | 1991 |  M06   | 136.00 |           |"
        ],
        [
         "| CUSR0000SA0 | 1991 |  M05   | 135.60 |           |"
        ],
        [
         "| CUSR0000SA0 | 1991 |  M04   | 135.10 |           |"
        ],
        [
         "| CUSR0000SA0 | 1991 |  M03   | 134.80 |           |"
        ],
        [
         "| CUSR0000SA0 | 1991 |  M02   | 134.80 |           |"
        ],
        [
         "| CUSR0000SA0 | 1991 |  M01   | 134.70 |           |"
        ],
        [
         "| CUSR0000SA0 | 1990 |  M12   | 134.20 |           |"
        ],
        [
         "| CUSR0000SA0 | 1990 |  M11   | 133.70 |           |"
        ],
        [
         "| CUSR0000SA0 | 1990 |  M10   | 133.40 |           |"
        ],
        [
         "| CUSR0000SA0 | 1990 |  M09   | 132.50 |           |"
        ],
        [
         "| CUSR0000SA0 | 1990 |  M08   | 131.60 |           |"
        ],
        [
         "| CUSR0000SA0 | 1990 |  M07   | 130.50 |           |"
        ],
        [
         "| CUSR0000SA0 | 1990 |  M06   | 129.90 |           |"
        ],
        [
         "| CUSR0000SA0 | 1990 |  M05   | 129.10 |           |"
        ],
        [
         "| CUSR0000SA0 | 1990 |  M04   | 128.90 |           |"
        ],
        [
         "| CUSR0000SA0 | 1990 |  M03   | 128.60 |           |"
        ],
        [
         "| CUSR0000SA0 | 1990 |  M02   | 128.00 |           |"
        ],
        [
         "| CUSR0000SA0 | 1990 |  M01   | 127.50 |           |"
        ],
        [
         "| CUSR0000SA0 | 1989 |  M12   | 126.30 |           |"
        ],
        [
         "| CUSR0000SA0 | 1989 |  M11   | 125.90 |           |"
        ],
        [
         "| CUSR0000SA0 | 1989 |  M10   | 125.40 |           |"
        ],
        [
         "| CUSR0000SA0 | 1989 |  M09   | 124.80 |           |"
        ],
        [
         "| CUSR0000SA0 | 1989 |  M08   | 124.50 |           |"
        ],
        [
         "| CUSR0000SA0 | 1989 |  M07   | 124.50 |           |"
        ],
        [
         "| CUSR0000SA0 | 1989 |  M06   | 124.10 |           |"
        ],
        [
         "| CUSR0000SA0 | 1989 |  M05   | 123.70 |           |"
        ],
        [
         "| CUSR0000SA0 | 1989 |  M04   | 123.10 |           |"
        ],
        [
         "| CUSR0000SA0 | 1989 |  M03   | 122.20 |           |"
        ],
        [
         "| CUSR0000SA0 | 1989 |  M02   | 121.60 |           |"
        ],
        [
         "| CUSR0000SA0 | 1989 |  M01   | 121.20 |           |"
        ],
        [
         "| CUSR0000SA0 | 1988 |  M12   | 120.70 |           |"
        ],
        [
         "| CUSR0000SA0 | 1988 |  M11   | 120.30 |           |"
        ],
        [
         "| CUSR0000SA0 | 1988 |  M10   | 119.90 |           |"
        ],
        [
         "| CUSR0000SA0 | 1988 |  M09   | 119.50 |           |"
        ],
        [
         "| CUSR0000SA0 | 1988 |  M08   | 119.00 |           |"
        ],
        [
         "| CUSR0000SA0 | 1988 |  M07   | 118.50 |           |"
        ],
        [
         "| CUSR0000SA0 | 1988 |  M06   | 118.00 |           |"
        ],
        [
         "| CUSR0000SA0 | 1988 |  M05   | 117.50 |           |"
        ],
        [
         "| CUSR0000SA0 | 1988 |  M04   | 117.20 |           |"
        ],
        [
         "| CUSR0000SA0 | 1988 |  M03   | 116.50 |           |"
        ],
        [
         "| CUSR0000SA0 | 1988 |  M02   | 116.20 |           |"
        ],
        [
         "| CUSR0000SA0 | 1988 |  M01   | 116.00 |           |"
        ],
        [
         "| CUSR0000SA0 | 1987 |  M12   | 115.60 |           |"
        ],
        [
         "| CUSR0000SA0 | 1987 |  M11   | 115.40 |           |"
        ],
        [
         "| CUSR0000SA0 | 1987 |  M10   | 115.00 |           |"
        ],
        [
         "| CUSR0000SA0 | 1987 |  M09   | 114.70 |           |"
        ],
        [
         "| CUSR0000SA0 | 1987 |  M08   | 114.30 |           |"
        ],
        [
         "| CUSR0000SA0 | 1987 |  M07   | 113.80 |           |"
        ],
        [
         "| CUSR0000SA0 | 1987 |  M06   | 113.50 |           |"
        ],
        [
         "| CUSR0000SA0 | 1987 |  M05   | 113.00 |           |"
        ],
        [
         "| CUSR0000SA0 | 1987 |  M04   | 112.70 |           |"
        ],
        [
         "| CUSR0000SA0 | 1987 |  M03   | 112.20 |           |"
        ],
        [
         "| CUSR0000SA0 | 1987 |  M02   | 111.80 |           |"
        ],
        [
         "| CUSR0000SA0 | 1987 |  M01   | 111.40 |           |"
        ],
        [
         "+-------------+------+--------+--------+-----------++-------------+------+--------+--------+-----------+"
        ],
        [
         "|  series id  | year | period | value  | footnotes |"
        ],
        [
         "+-------------+------+--------+--------+-----------+"
        ],
        [
         "| CUSR0000SA0 | 2006 |  M12   | 203.1  |           |"
        ],
        [
         "| CUSR0000SA0 | 2006 |  M11   | 202.0  |           |"
        ],
        [
         "| CUSR0000SA0 | 2006 |  M10   | 201.9  |           |"
        ],
        [
         "| CUSR0000SA0 | 2006 |  M09   | 202.8  |           |"
        ],
        [
         "| CUSR0000SA0 | 2006 |  M08   | 203.8  |           |"
        ],
        [
         "| CUSR0000SA0 | 2006 |  M07   | 202.9  |           |"
        ],
        [
         "| CUSR0000SA0 | 2006 |  M06   | 201.8  |           |"
        ],
        [
         "| CUSR0000SA0 | 2006 |  M05   | 201.3  |           |"
        ],
        [
         "| CUSR0000SA0 | 2006 |  M04   | 200.7  |           |"
        ],
        [
         "| CUSR0000SA0 | 2006 |  M03   | 199.7  |           |"
        ],
        [
         "| CUSR0000SA0 | 2006 |  M02   | 199.4  |           |"
        ],
        [
         "| CUSR0000SA0 | 2006 |  M01   | 199.3  |           |"
        ],
        [
         "| CUSR0000SA0 | 2005 |  M12   | 198.1  |           |"
        ],
        [
         "| CUSR0000SA0 | 2005 |  M11   | 198.1  |           |"
        ],
        [
         "| CUSR0000SA0 | 2005 |  M10   | 199.1  |           |"
        ],
        [
         "| CUSR0000SA0 | 2005 |  M09   | 198.8  |           |"
        ],
        [
         "| CUSR0000SA0 | 2005 |  M08   | 196.1  |           |"
        ],
        [
         "| CUSR0000SA0 | 2005 |  M07   | 194.9  |           |"
        ],
        [
         "| CUSR0000SA0 | 2005 |  M06   | 193.7  |           |"
        ],
        [
         "| CUSR0000SA0 | 2005 |  M05   | 193.6  |           |"
        ],
        [
         "| CUSR0000SA0 | 2005 |  M04   | 193.7  |           |"
        ],
        [
         "| CUSR0000SA0 | 2005 |  M03   | 193.1  |           |"
        ],
        [
         "| CUSR0000SA0 | 2005 |  M02   | 192.4  |           |"
        ],
        [
         "| CUSR0000SA0 | 2005 |  M01   | 191.6  |           |"
        ],
        [
         "| CUSR0000SA0 | 2004 |  M12   | 191.7  |           |"
        ],
        [
         "| CUSR0000SA0 | 2004 |  M11   | 191.7  |           |"
        ],
        [
         "| CUSR0000SA0 | 2004 |  M10   | 190.8  |           |"
        ],
        [
         "| CUSR0000SA0 | 2004 |  M09   | 189.8  |           |"
        ],
        [
         "| CUSR0000SA0 | 2004 |  M08   | 189.2  |           |"
        ],
        [
         "| CUSR0000SA0 | 2004 |  M07   | 189.1  |           |"
        ],
        [
         "| CUSR0000SA0 | 2004 |  M06   | 188.9  |           |"
        ],
        [
         "| CUSR0000SA0 | 2004 |  M05   | 188.2  |           |"
        ],
        [
         "| CUSR0000SA0 | 2004 |  M04   | 187.4  |           |"
        ],
        [
         "| CUSR0000SA0 | 2004 |  M03   | 187.1  |           |"
        ],
        [
         "| CUSR0000SA0 | 2004 |  M02   | 186.7  |           |"
        ],
        [
         "| CUSR0000SA0 | 2004 |  M01   | 186.3  |           |"
        ],
        [
         "| CUSR0000SA0 | 2003 |  M12   | 185.5  |           |"
        ],
        [
         "| CUSR0000SA0 | 2003 |  M11   | 185.0  |           |"
        ],
        [
         "| CUSR0000SA0 | 2003 |  M10   | 184.9  |           |"
        ],
        [
         "| CUSR0000SA0 | 2003 |  M09   | 185.1  |           |"
        ],
        [
         "| CUSR0000SA0 | 2003 |  M08   | 184.5  |           |"
        ],
        [
         "| CUSR0000SA0 | 2003 |  M07   | 183.7  |           |"
        ],
        [
         "| CUSR0000SA0 | 2003 |  M06   | 183.1  |           |"
        ],
        [
         "| CUSR0000SA0 | 2003 |  M05   | 182.9  |           |"
        ],
        [
         "| CUSR0000SA0 | 2003 |  M04   | 183.2  |           |"
        ],
        [
         "| CUSR0000SA0 | 2003 |  M03   | 183.9  |           |"
        ],
        [
         "| CUSR0000SA0 | 2003 |  M02   | 183.6  |           |"
        ],
        [
         "| CUSR0000SA0 | 2003 |  M01   | 182.6  |           |"
        ],
        [
         "| CUSR0000SA0 | 2002 |  M12   | 181.8  |           |"
        ],
        [
         "| CUSR0000SA0 | 2002 |  M11   | 181.5  |           |"
        ],
        [
         "| CUSR0000SA0 | 2002 |  M10   | 181.2  |           |"
        ],
        [
         "| CUSR0000SA0 | 2002 |  M09   | 180.8  |           |"
        ],
        [
         "| CUSR0000SA0 | 2002 |  M08   | 180.5  |           |"
        ],
        [
         "| CUSR0000SA0 | 2002 |  M07   | 180.0  |           |"
        ],
        [
         "| CUSR0000SA0 | 2002 |  M06   | 179.6  |           |"
        ],
        [
         "| CUSR0000SA0 | 2002 |  M05   | 179.5  |           |"
        ],
        [
         "| CUSR0000SA0 | 2002 |  M04   | 179.3  |           |"
        ],
        [
         "| CUSR0000SA0 | 2002 |  M03   | 178.5  |           |"
        ],
        [
         "| CUSR0000SA0 | 2002 |  M02   | 178.0  |           |"
        ],
        [
         "| CUSR0000SA0 | 2002 |  M01   | 177.7  |           |"
        ],
        [
         "| CUSR0000SA0 | 2001 |  M12   | 177.40 |           |"
        ],
        [
         "| CUSR0000SA0 | 2001 |  M11   | 177.50 |           |"
        ],
        [
         "| CUSR0000SA0 | 2001 |  M10   | 177.60 |           |"
        ],
        [
         "| CUSR0000SA0 | 2001 |  M09   | 178.10 |           |"
        ],
        [
         "| CUSR0000SA0 | 2001 |  M08   | 177.40 |           |"
        ],
        [
         "| CUSR0000SA0 | 2001 |  M07   | 177.40 |           |"
        ],
        [
         "| CUSR0000SA0 | 2001 |  M06   | 177.70 |           |"
        ],
        [
         "| CUSR0000SA0 | 2001 |  M05   | 177.30 |           |"
        ],
        [
         "| CUSR0000SA0 | 2001 |  M04   | 176.40 |           |"
        ],
        [
         "| CUSR0000SA0 | 2001 |  M03   | 176.10 |           |"
        ],
        [
         "| CUSR0000SA0 | 2001 |  M02   | 176.00 |           |"
        ],
        [
         "| CUSR0000SA0 | 2001 |  M01   | 175.60 |           |"
        ],
        [
         "| CUSR0000SA0 | 2000 |  M12   | 174.60 |           |"
        ],
        [
         "| CUSR0000SA0 | 2000 |  M11   | 174.20 |           |"
        ],
        [
         "| CUSR0000SA0 | 2000 |  M10   | 173.90 |           |"
        ],
        [
         "| CUSR0000SA0 | 2000 |  M09   | 173.60 |           |"
        ],
        [
         "| CUSR0000SA0 | 2000 |  M08   | 172.70 |           |"
        ],
        [
         "| CUSR0000SA0 | 2000 |  M07   | 172.70 |           |"
        ],
        [
         "| CUSR0000SA0 | 2000 |  M06   | 172.20 |           |"
        ],
        [
         "| CUSR0000SA0 | 2000 |  M05   | 171.20 |           |"
        ],
        [
         "| CUSR0000SA0 | 2000 |  M04   | 170.90 |           |"
        ],
        [
         "| CUSR0000SA0 | 2000 |  M03   | 171.00 |           |"
        ],
        [
         "| CUSR0000SA0 | 2000 |  M02   | 170.00 |           |"
        ],
        [
         "| CUSR0000SA0 | 2000 |  M01   | 169.30 |           |"
        ],
        [
         "| CUSR0000SA0 | 1999 |  M12   | 168.80 |           |"
        ],
        [
         "| CUSR0000SA0 | 1999 |  M11   | 168.40 |           |"
        ],
        [
         "| CUSR0000SA0 | 1999 |  M10   | 168.10 |           |"
        ],
        [
         "| CUSR0000SA0 | 1999 |  M09   | 167.80 |           |"
        ],
        [
         "| CUSR0000SA0 | 1999 |  M08   | 167.10 |           |"
        ],
        [
         "| CUSR0000SA0 | 1999 |  M07   | 166.70 |           |"
        ],
        [
         "| CUSR0000SA0 | 1999 |  M06   | 166.00 |           |"
        ],
        [
         "| CUSR0000SA0 | 1999 |  M05   | 166.00 |           |"
        ],
        [
         "| CUSR0000SA0 | 1999 |  M04   | 165.90 |           |"
        ],
        [
         "| CUSR0000SA0 | 1999 |  M03   | 164.80 |           |"
        ],
        [
         "| CUSR0000SA0 | 1999 |  M02   | 164.70 |           |"
        ],
        [
         "| CUSR0000SA0 | 1999 |  M01   | 164.70 |           |"
        ],
        [
         "| CUSR0000SA0 | 1998 |  M12   | 164.40 |           |"
        ],
        [
         "| CUSR0000SA0 | 1998 |  M11   | 164.10 |           |"
        ],
        [
         "| CUSR0000SA0 | 1998 |  M10   | 163.90 |           |"
        ],
        [
         "| CUSR0000SA0 | 1998 |  M09   | 163.50 |           |"
        ],
        [
         "| CUSR0000SA0 | 1998 |  M08   | 163.40 |           |"
        ],
        [
         "| CUSR0000SA0 | 1998 |  M07   | 163.20 |           |"
        ],
        [
         "| CUSR0000SA0 | 1998 |  M06   | 162.80 |           |"
        ],
        [
         "| CUSR0000SA0 | 1998 |  M05   | 162.60 |           |"
        ],
        [
         "| CUSR0000SA0 | 1998 |  M04   | 162.20 |           |"
        ],
        [
         "| CUSR0000SA0 | 1998 |  M03   | 162.00 |           |"
        ],
        [
         "| CUSR0000SA0 | 1998 |  M02   | 162.00 |           |"
        ],
        [
         "| CUSR0000SA0 | 1998 |  M01   | 162.00 |           |"
        ],
        [
         "| CUSR0000SA0 | 1997 |  M12   | 161.80 |           |"
        ],
        [
         "| CUSR0000SA0 | 1997 |  M11   | 161.70 |           |"
        ],
        [
         "| CUSR0000SA0 | 1997 |  M10   | 161.50 |           |"
        ],
        [
         "| CUSR0000SA0 | 1997 |  M09   | 161.20 |           |"
        ],
        [
         "| CUSR0000SA0 | 1997 |  M08   | 160.80 |           |"
        ],
        [
         "| CUSR0000SA0 | 1997 |  M07   | 160.40 |           |"
        ],
        [
         "| CUSR0000SA0 | 1997 |  M06   | 160.20 |           |"
        ],
        [
         "| CUSR0000SA0 | 1997 |  M05   | 159.90 |           |"
        ],
        [
         "| CUSR0000SA0 | 1997 |  M04   | 159.90 |           |"
        ],
        [
         "| CUSR0000SA0 | 1997 |  M03   | 159.80 |           |"
        ],
        [
         "| CUSR0000SA0 | 1997 |  M02   | 159.70 |           |"
        ],
        [
         "| CUSR0000SA0 | 1997 |  M01   | 159.40 |           |"
        ],
        [
         "+-------------+------+--------+--------+-----------++-------------+------+--------+---------+-----------+"
        ],
        [
         "|  series id  | year | period |  value  | footnotes |"
        ],
        [
         "+-------------+------+--------+---------+-----------+"
        ],
        [
         "| CUSR0000SA0 | 2016 |  M12   | 242.637 |           |"
        ],
        [
         "| CUSR0000SA0 | 2016 |  M11   | 242.026 |           |"
        ],
        [
         "| CUSR0000SA0 | 2016 |  M10   | 241.741 |           |"
        ],
        [
         "| CUSR0000SA0 | 2016 |  M09   | 241.176 |           |"
        ],
        [
         "| CUSR0000SA0 | 2016 |  M08   | 240.545 |           |"
        ],
        [
         "| CUSR0000SA0 | 2016 |  M07   | 240.101 |           |"
        ],
        [
         "| CUSR0000SA0 | 2016 |  M06   | 240.222 |           |"
        ],
        [
         "| CUSR0000SA0 | 2016 |  M05   | 239.557 |           |"
        ],
        [
         "| CUSR0000SA0 | 2016 |  M04   | 238.992 |           |"
        ],
        [
         "| CUSR0000SA0 | 2016 |  M03   | 238.080 |           |"
        ],
        [
         "| CUSR0000SA0 | 2016 |  M02   | 237.336 |           |"
        ],
        [
         "| CUSR0000SA0 | 2016 |  M01   | 237.652 |           |"
        ],
        [
         "| CUSR0000SA0 | 2015 |  M12   | 237.761 |           |"
        ],
        [
         "| CUSR0000SA0 | 2015 |  M11   | 238.017 |           |"
        ],
        [
         "| CUSR0000SA0 | 2015 |  M10   | 237.733 |           |"
        ],
        [
         "| CUSR0000SA0 | 2015 |  M09   | 237.498 |           |"
        ],
        [
         "| CUSR0000SA0 | 2015 |  M08   | 238.033 |           |"
        ],
        [
         "| CUSR0000SA0 | 2015 |  M07   | 238.034 |           |"
        ],
        [
         "| CUSR0000SA0 | 2015 |  M06   | 237.657 |           |"
        ],
        [
         "| CUSR0000SA0 | 2015 |  M05   | 237.001 |           |"
        ],
        [
         "| CUSR0000SA0 | 2015 |  M04   | 236.222 |           |"
        ],
        [
         "| CUSR0000SA0 | 2015 |  M03   | 235.976 |           |"
        ],
        [
         "| CUSR0000SA0 | 2015 |  M02   | 235.342 |           |"
        ],
        [
         "| CUSR0000SA0 | 2015 |  M01   | 234.747 |           |"
        ],
        [
         "| CUSR0000SA0 | 2014 |  M12   | 236.252 |           |"
        ],
        [
         "| CUSR0000SA0 | 2014 |  M11   | 236.983 |           |"
        ],
        [
         "| CUSR0000SA0 | 2014 |  M10   | 237.430 |           |"
        ],
        [
         "| CUSR0000SA0 | 2014 |  M09   | 237.477 |           |"
        ],
        [
         "| CUSR0000SA0 | 2014 |  M08   | 237.460 |           |"
        ],
        [
         "| CUSR0000SA0 | 2014 |  M07   | 237.498 |           |"
        ],
        [
         "| CUSR0000SA0 | 2014 |  M06   | 237.231 |           |"
        ],
        [
         "| CUSR0000SA0 | 2014 |  M05   | 236.918 |           |"
        ],
        [
         "| CUSR0000SA0 | 2014 |  M04   | 236.468 |           |"
        ],
        [
         "| CUSR0000SA0 | 2014 |  M03   | 236.028 |           |"
        ],
        [
         "| CUSR0000SA0 | 2014 |  M02   | 235.547 |           |"
        ],
        [
         "| CUSR0000SA0 | 2014 |  M01   | 235.288 |           |"
        ],
        [
         "| CUSR0000SA0 | 2013 |  M12   | 234.719 |           |"
        ],
        [
         "| CUSR0000SA0 | 2013 |  M11   | 234.100 |           |"
        ],
        [
         "| CUSR0000SA0 | 2013 |  M10   | 233.669 |           |"
        ],
        [
         "| CUSR0000SA0 | 2013 |  M09   | 233.544 |           |"
        ],
        [
         "| CUSR0000SA0 | 2013 |  M08   | 233.456 |           |"
        ],
        [
         "| CUSR0000SA0 | 2013 |  M07   | 232.900 |           |"
        ],
        [
         "| CUSR0000SA0 | 2013 |  M06   | 232.445 |           |"
        ],
        [
         "| CUSR0000SA0 | 2013 |  M05   | 231.893 |           |"
        ],
        [
         "| CUSR0000SA0 | 2013 |  M04   | 231.797 |           |"
        ],
        [
         "| CUSR0000SA0 | 2013 |  M03   | 232.282 |           |"
        ],
        [
         "| CUSR0000SA0 | 2013 |  M02   | 232.937 |           |"
        ],
        [
         "| CUSR0000SA0 | 2013 |  M01   | 231.679 |           |"
        ],
        [
         "| CUSR0000SA0 | 2012 |  M12   | 231.221 |           |"
        ],
        [
         "| CUSR0000SA0 | 2012 |  M11   | 231.249 |           |"
        ],
        [
         "| CUSR0000SA0 | 2012 |  M10   | 231.638 |           |"
        ],
        [
         "| CUSR0000SA0 | 2012 |  M09   | 231.015 |           |"
        ],
        [
         "| CUSR0000SA0 | 2012 |  M08   | 229.918 |           |"
        ],
        [
         "| CUSR0000SA0 | 2012 |  M07   | 228.590 |           |"
        ],
        [
         "| CUSR0000SA0 | 2012 |  M06   | 228.524 |           |"
        ],
        [
         "| CUSR0000SA0 | 2012 |  M05   | 228.713 |           |"
        ],
        [
         "| CUSR0000SA0 | 2012 |  M04   | 229.187 |           |"
        ],
        [
         "| CUSR0000SA0 | 2012 |  M03   | 228.807 |           |"
        ],
        [
         "| CUSR0000SA0 | 2012 |  M02   | 228.329 |           |"
        ],
        [
         "| CUSR0000SA0 | 2012 |  M01   | 227.842 |           |"
        ],
        [
         "| CUSR0000SA0 | 2011 |  M12   | 227.223 |           |"
        ],
        [
         "| CUSR0000SA0 | 2011 |  M11   | 227.169 |           |"
        ],
        [
         "| CUSR0000SA0 | 2011 |  M10   | 226.750 |           |"
        ],
        [
         "| CUSR0000SA0 | 2011 |  M09   | 226.597 |           |"
        ],
        [
         "| CUSR0000SA0 | 2011 |  M08   | 226.106 |           |"
        ],
        [
         "| CUSR0000SA0 | 2011 |  M07   | 225.395 |           |"
        ],
        [
         "| CUSR0000SA0 | 2011 |  M06   | 224.806 |           |"
        ],
        [
         "| CUSR0000SA0 | 2011 |  M05   | 224.806 |           |"
        ],
        [
         "| CUSR0000SA0 | 2011 |  M04   | 224.093 |           |"
        ],
        [
         "| CUSR0000SA0 | 2011 |  M03   | 223.046 |           |"
        ],
        [
         "| CUSR0000SA0 | 2011 |  M02   | 221.898 |           |"
        ],
        [
         "| CUSR0000SA0 | 2011 |  M01   | 221.187 |           |"
        ],
        [
         "| CUSR0000SA0 | 2010 |  M12   | 220.472 |           |"
        ],
        [
         "| CUSR0000SA0 | 2010 |  M11   | 219.590 |           |"
        ],
        [
         "| CUSR0000SA0 | 2010 |  M10   | 219.035 |           |"
        ],
        [
         "| CUSR0000SA0 | 2010 |  M09   | 218.275 |           |"
        ],
        [
         "| CUSR0000SA0 | 2010 |  M08   | 217.923 |           |"
        ],
        [
         "| CUSR0000SA0 | 2010 |  M07   | 217.605 |           |"
        ],
        [
         "| CUSR0000SA0 | 2010 |  M06   | 217.199 |           |"
        ],
        [
         "| CUSR0000SA0 | 2010 |  M05   | 217.290 |           |"
        ],
        [
         "| CUSR0000SA0 | 2010 |  M04   | 217.403 |           |"
        ],
        [
         "| CUSR0000SA0 | 2010 |  M03   | 217.353 |           |"
        ],
        [
         "| CUSR0000SA0 | 2010 |  M02   | 217.281 |           |"
        ],
        [
         "| CUSR0000SA0 | 2010 |  M01   | 217.488 |           |"
        ],
        [
         "| CUSR0000SA0 | 2009 |  M12   | 217.347 |           |"
        ],
        [
         "| CUSR0000SA0 | 2009 |  M11   | 217.234 |           |"
        ],
        [
         "| CUSR0000SA0 | 2009 |  M10   | 216.509 |           |"
        ],
        [
         "| CUSR0000SA0 | 2009 |  M09   | 215.861 |           |"
        ],
        [
         "| CUSR0000SA0 | 2009 |  M08   | 215.445 |           |"
        ],
        [
         "| CUSR0000SA0 | 2009 |  M07   | 214.726 |           |"
        ],
        [
         "| CUSR0000SA0 | 2009 |  M06   | 214.790 |           |"
        ],
        [
         "| CUSR0000SA0 | 2009 |  M05   | 213.022 |           |"
        ],
        [
         "| CUSR0000SA0 | 2009 |  M04   | 212.709 |           |"
        ],
        [
         "| CUSR0000SA0 | 2009 |  M03   | 212.495 |           |"
        ],
        [
         "| CUSR0000SA0 | 2009 |  M02   | 212.705 |           |"
        ],
        [
         "| CUSR0000SA0 | 2009 |  M01   | 211.933 |           |"
        ],
        [
         "| CUSR0000SA0 | 2008 |  M12   | 211.398 |           |"
        ],
        [
         "| CUSR0000SA0 | 2008 |  M11   | 213.153 |           |"
        ],
        [
         "| CUSR0000SA0 | 2008 |  M10   | 216.995 |           |"
        ],
        [
         "| CUSR0000SA0 | 2008 |  M09   | 218.877 |           |"
        ],
        [
         "| CUSR0000SA0 | 2008 |  M08   | 218.690 |           |"
        ],
        [
         "| CUSR0000SA0 | 2008 |  M07   | 219.016 |           |"
        ],
        [
         "| CUSR0000SA0 | 2008 |  M06   | 217.463 |           |"
        ],
        [
         "| CUSR0000SA0 | 2008 |  M05   | 215.208 |           |"
        ],
        [
         "| CUSR0000SA0 | 2008 |  M04   | 213.942 |           |"
        ],
        [
         "| CUSR0000SA0 | 2008 |  M03   | 213.448 |           |"
        ],
        [
         "| CUSR0000SA0 | 2008 |  M02   | 212.687 |           |"
        ],
        [
         "| CUSR0000SA0 | 2008 |  M01   | 212.174 |           |"
        ],
        [
         "| CUSR0000SA0 | 2007 |  M12   | 211.445 |           |"
        ],
        [
         "| CUSR0000SA0 | 2007 |  M11   | 210.834 |           |"
        ],
        [
         "| CUSR0000SA0 | 2007 |  M10   | 209.190 |           |"
        ],
        [
         "| CUSR0000SA0 | 2007 |  M09   | 208.547 |           |"
        ],
        [
         "| CUSR0000SA0 | 2007 |  M08   | 207.667 |           |"
        ],
        [
         "| CUSR0000SA0 | 2007 |  M07   | 207.603 |           |"
        ],
        [
         "| CUSR0000SA0 | 2007 |  M06   | 207.234 |           |"
        ],
        [
         "| CUSR0000SA0 | 2007 |  M05   | 206.755 |           |"
        ],
        [
         "| CUSR0000SA0 | 2007 |  M04   | 205.904 |           |"
        ],
        [
         "| CUSR0000SA0 | 2007 |  M03   | 205.288 |           |"
        ],
        [
         "| CUSR0000SA0 | 2007 |  M02   | 204.226 |           |"
        ],
        [
         "| CUSR0000SA0 | 2007 |  M01   | 203.437 |           |"
        ],
        [
         "+-------------+------+--------+---------+-----------++-------------+------+--------+---------+-----------+"
        ],
        [
         "|  series id  | year | period |  value  | footnotes |"
        ],
        [
         "+-------------+------+--------+---------+-----------+"
        ],
        [
         "| CUSR0000SA0 | 2023 |  M11   | 307.917 |           |"
        ],
        [
         "| CUSR0000SA0 | 2023 |  M10   | 307.619 |           |"
        ],
        [
         "| CUSR0000SA0 | 2023 |  M09   | 307.481 |           |"
        ],
        [
         "| CUSR0000SA0 | 2023 |  M08   | 306.269 |           |"
        ],
        [
         "| CUSR0000SA0 | 2023 |  M07   | 304.348 |           |"
        ],
        [
         "| CUSR0000SA0 | 2023 |  M06   | 303.841 |           |"
        ],
        [
         "| CUSR0000SA0 | 2023 |  M05   | 303.294 |           |"
        ],
        [
         "| CUSR0000SA0 | 2023 |  M04   | 302.918 |           |"
        ],
        [
         "| CUSR0000SA0 | 2023 |  M03   | 301.808 |           |"
        ],
        [
         "| CUSR0000SA0 | 2023 |  M02   | 301.648 |           |"
        ],
        [
         "| CUSR0000SA0 | 2023 |  M01   | 300.536 |           |"
        ],
        [
         "| CUSR0000SA0 | 2022 |  M12   | 298.990 |           |"
        ],
        [
         "| CUSR0000SA0 | 2022 |  M11   | 298.598 |           |"
        ],
        [
         "| CUSR0000SA0 | 2022 |  M10   | 297.987 |           |"
        ],
        [
         "| CUSR0000SA0 | 2022 |  M09   | 296.539 |           |"
        ],
        [
         "| CUSR0000SA0 | 2022 |  M08   | 295.320 |           |"
        ],
        [
         "| CUSR0000SA0 | 2022 |  M07   | 294.628 |           |"
        ],
        [
         "| CUSR0000SA0 | 2022 |  M06   | 294.728 |           |"
        ],
        [
         "| CUSR0000SA0 | 2022 |  M05   | 291.268 |           |"
        ],
        [
         "| CUSR0000SA0 | 2022 |  M04   | 288.611 |           |"
        ],
        [
         "| CUSR0000SA0 | 2022 |  M03   | 287.472 |           |"
        ],
        [
         "| CUSR0000SA0 | 2022 |  M02   | 284.610 |           |"
        ],
        [
         "| CUSR0000SA0 | 2022 |  M01   | 282.599 |           |"
        ],
        [
         "| CUSR0000SA0 | 2021 |  M12   | 280.887 |           |"
        ],
        [
         "| CUSR0000SA0 | 2021 |  M11   | 278.711 |           |"
        ],
        [
         "| CUSR0000SA0 | 2021 |  M10   | 276.522 |           |"
        ],
        [
         "| CUSR0000SA0 | 2021 |  M09   | 274.028 |           |"
        ],
        [
         "| CUSR0000SA0 | 2021 |  M08   | 272.870 |           |"
        ],
        [
         "| CUSR0000SA0 | 2021 |  M07   | 271.764 |           |"
        ],
        [
         "| CUSR0000SA0 | 2021 |  M06   | 270.559 |           |"
        ],
        [
         "| CUSR0000SA0 | 2021 |  M05   | 268.444 |           |"
        ],
        [
         "| CUSR0000SA0 | 2021 |  M04   | 266.670 |           |"
        ],
        [
         "| CUSR0000SA0 | 2021 |  M03   | 264.914 |           |"
        ],
        [
         "| CUSR0000SA0 | 2021 |  M02   | 263.638 |           |"
        ],
        [
         "| CUSR0000SA0 | 2021 |  M01   | 262.650 |           |"
        ],
        [
         "| CUSR0000SA0 | 2020 |  M12   | 262.035 |           |"
        ],
        [
         "| CUSR0000SA0 | 2020 |  M11   | 260.813 |           |"
        ],
        [
         "| CUSR0000SA0 | 2020 |  M10   | 260.286 |           |"
        ],
        [
         "| CUSR0000SA0 | 2020 |  M09   | 260.029 |           |"
        ],
        [
         "| CUSR0000SA0 | 2020 |  M08   | 259.411 |           |"
        ],
        [
         "| CUSR0000SA0 | 2020 |  M07   | 258.278 |           |"
        ],
        [
         "| CUSR0000SA0 | 2020 |  M06   | 256.986 |           |"
        ],
        [
         "| CUSR0000SA0 | 2020 |  M05   | 255.868 |           |"
        ],
        [
         "| CUSR0000SA0 | 2020 |  M04   | 256.092 |           |"
        ],
        [
         "| CUSR0000SA0 | 2020 |  M03   | 258.124 |           |"
        ],
        [
         "| CUSR0000SA0 | 2020 |  M02   | 259.248 |           |"
        ],
        [
         "| CUSR0000SA0 | 2020 |  M01   | 259.037 |           |"
        ],
        [
         "| CUSR0000SA0 | 2019 |  M12   | 258.616 |           |"
        ],
        [
         "| CUSR0000SA0 | 2019 |  M11   | 257.803 |           |"
        ],
        [
         "| CUSR0000SA0 | 2019 |  M10   | 257.244 |           |"
        ],
        [
         "| CUSR0000SA0 | 2019 |  M09   | 256.511 |           |"
        ],
        [
         "| CUSR0000SA0 | 2019 |  M08   | 256.059 |           |"
        ],
        [
         "| CUSR0000SA0 | 2019 |  M07   | 255.685 |           |"
        ],
        [
         "| CUSR0000SA0 | 2019 |  M06   | 255.159 |           |"
        ],
        [
         "| CUSR0000SA0 | 2019 |  M05   | 255.290 |           |"
        ],
        [
         "| CUSR0000SA0 | 2019 |  M04   | 255.211 |           |"
        ],
        [
         "| CUSR0000SA0 | 2019 |  M03   | 254.202 |           |"
        ],
        [
         "| CUSR0000SA0 | 2019 |  M02   | 253.322 |           |"
        ],
        [
         "| CUSR0000SA0 | 2019 |  M01   | 252.718 |           |"
        ],
        [
         "| CUSR0000SA0 | 2018 |  M12   | 252.767 |           |"
        ],
        [
         "| CUSR0000SA0 | 2018 |  M11   | 252.594 |           |"
        ],
        [
         "| CUSR0000SA0 | 2018 |  M10   | 252.772 |           |"
        ],
        [
         "| CUSR0000SA0 | 2018 |  M09   | 252.182 |           |"
        ],
        [
         "| CUSR0000SA0 | 2018 |  M08   | 251.663 |           |"
        ],
        [
         "| CUSR0000SA0 | 2018 |  M07   | 251.214 |           |"
        ],
        [
         "| CUSR0000SA0 | 2018 |  M06   | 251.018 |           |"
        ],
        [
         "| CUSR0000SA0 | 2018 |  M05   | 250.792 |           |"
        ],
        [
         "| CUSR0000SA0 | 2018 |  M04   | 250.227 |           |"
        ],
        [
         "| CUSR0000SA0 | 2018 |  M03   | 249.577 |           |"
        ],
        [
         "| CUSR0000SA0 | 2018 |  M02   | 249.529 |           |"
        ],
        [
         "| CUSR0000SA0 | 2018 |  M01   | 248.859 |           |"
        ],
        [
         "| CUSR0000SA0 | 2017 |  M12   | 247.805 |           |"
        ],
        [
         "| CUSR0000SA0 | 2017 |  M11   | 247.284 |           |"
        ],
        [
         "| CUSR0000SA0 | 2017 |  M10   | 246.626 |           |"
        ],
        [
         "| CUSR0000SA0 | 2017 |  M09   | 246.435 |           |"
        ],
        [
         "| CUSR0000SA0 | 2017 |  M08   | 245.183 |           |"
        ],
        [
         "| CUSR0000SA0 | 2017 |  M07   | 244.243 |           |"
        ],
        [
         "| CUSR0000SA0 | 2017 |  M06   | 244.163 |           |"
        ],
        [
         "| CUSR0000SA0 | 2017 |  M05   | 244.004 |           |"
        ],
        [
         "| CUSR0000SA0 | 2017 |  M04   | 244.193 |           |"
        ],
        [
         "| CUSR0000SA0 | 2017 |  M03   | 243.892 |           |"
        ],
        [
         "| CUSR0000SA0 | 2017 |  M02   | 244.006 |           |"
        ],
        [
         "| CUSR0000SA0 | 2017 |  M01   | 243.618 |           |"
        ],
        [
         "+-------------+------+--------+---------+-----------+"
        ]
       ],
       "datasetInfos": [],
       "dbfsResultPath": null,
       "isJsonSchema": true,
       "metadata": {},
       "overflow": false,
       "plotOptions": {
        "customPlotOptions": {},
        "displayType": "table",
        "pivotAggregation": null,
        "pivotColumns": null,
        "xColumns": null,
        "yColumns": null
       },
       "removedWidgets": [],
       "schema": [
        {
         "metadata": "{}",
         "name": "value",
         "type": "\"string\""
        }
       ],
       "type": "table"
      }
     },
     "output_type": "display_data"
    }
   ],
   "source": [
    "all_items_price = spark.read.text(\n",
    "  'dbfs:/FileStore/my-stuff/CUSR0000SA08.txt'\n",
    ")\n",
    "all_items_price.printSchema()\n",
    "display(all_items_price)"
   ]
  },
  {
   "cell_type": "markdown",
   "metadata": {
    "application/vnd.databricks.v1+cell": {
     "cellMetadata": {
      "byteLimit": 2048000,
      "rowLimit": 10000
     },
     "inputWidgets": {},
     "nuid": "4d9b27d5-e25a-461d-8062-998dbba6809e",
     "showTitle": false,
     "title": ""
    }
   },
   "source": [
    "##### Read & display the all Weekly and hourly earnings as wages from the text file"
   ]
  },
  {
   "cell_type": "code",
   "execution_count": 0,
   "metadata": {
    "application/vnd.databricks.v1+cell": {
     "cellMetadata": {
      "byteLimit": 2048000,
      "rowLimit": 10000
     },
     "inputWidgets": {},
     "nuid": "8d336319-1bdd-4868-bcdf-aa779b749950",
     "showTitle": false,
     "title": ""
    }
   },
   "outputs": [
    {
     "output_type": "stream",
     "name": "stdout",
     "output_type": "stream",
     "text": [
      "root\n |-- value: string (nullable = true)\n\n"
     ]
    },
    {
     "output_type": "display_data",
     "data": {
      "text/html": [
       "<style scoped>\n",
       "  .table-result-container {\n",
       "    max-height: 300px;\n",
       "    overflow: auto;\n",
       "  }\n",
       "  table, th, td {\n",
       "    border: 1px solid black;\n",
       "    border-collapse: collapse;\n",
       "  }\n",
       "  th, td {\n",
       "    padding: 5px;\n",
       "  }\n",
       "  th {\n",
       "    text-align: left;\n",
       "  }\n",
       "</style><div class='table-result-container'><table class='table-result'><thead style='background-color: white'><tr><th>value</th></tr></thead><tbody><tr><td>+---------------+------+--------+-------+-----------+</td></tr><tr><td>|   series id   | year | period | value | footnotes |</td></tr><tr><td>+---------------+------+--------+-------+-----------+</td></tr><tr><td>| LEU0252881500 | 1988 |  Q04   |  392  |           |</td></tr><tr><td>| LEU0252881500 | 1988 |  Q03   |  381  |           |</td></tr><tr><td>| LEU0252881500 | 1988 |  Q02   |  382  |           |</td></tr><tr><td>| LEU0252881500 | 1988 |  Q01   |  385  |           |</td></tr><tr><td>| LEU0252881500 | 1987 |  Q04   |  381  |           |</td></tr><tr><td>| LEU0252881500 | 1987 |  Q03   |  371  |           |</td></tr><tr><td>| LEU0252881500 | 1987 |  Q02   |  371  |           |</td></tr><tr><td>| LEU0252881500 | 1987 |  Q01   |  369  |           |</td></tr><tr><td>| LEU0252881500 | 1986 |  Q04   |  368  |           |</td></tr><tr><td>| LEU0252881500 | 1986 |  Q03   |  354  |           |</td></tr><tr><td>| LEU0252881500 | 1986 |  Q02   |  358  |           |</td></tr><tr><td>| LEU0252881500 | 1986 |  Q01   |  354  |           |</td></tr><tr><td>| LEU0252881500 | 1985 |  Q04   |  351  |           |</td></tr><tr><td>| LEU0252881500 | 1985 |  Q03   |  340  |           |</td></tr><tr><td>| LEU0252881500 | 1985 |  Q02   |  347  |           |</td></tr><tr><td>| LEU0252881500 | 1985 |  Q01   |  336  |           |</td></tr><tr><td>| LEU0252881500 | 1984 |  Q04   |  335  |           |</td></tr><tr><td>| LEU0252881500 | 1984 |  Q03   |  322  |           |</td></tr><tr><td>| LEU0252881500 | 1984 |  Q02   |  323  |           |</td></tr><tr><td>| LEU0252881500 | 1984 |  Q01   |  323  |           |</td></tr><tr><td>| LEU0252881500 | 1983 |  Q04   |  318  |           |</td></tr><tr><td>| LEU0252881500 | 1983 |  Q03   |  311  |           |</td></tr><tr><td>| LEU0252881500 | 1983 |  Q02   |  311  |           |</td></tr><tr><td>| LEU0252881500 | 1983 |  Q01   |  311  |           |</td></tr><tr><td>| LEU0252881500 | 1982 |  Q04   |  308  |           |</td></tr><tr><td>| LEU0252881500 | 1982 |  Q03   |  299  |           |</td></tr><tr><td>| LEU0252881500 | 1982 |  Q02   |  301  |           |</td></tr><tr><td>| LEU0252881500 | 1982 |  Q01   |  298  |           |</td></tr><tr><td>| LEU0252881500 | 1981 |  Q04   |  294  |           |</td></tr><tr><td>| LEU0252881500 | 1981 |  Q03   |  281  |           |</td></tr><tr><td>| LEU0252881500 | 1981 |  Q02   |  279  |           |</td></tr><tr><td>| LEU0252881500 | 1981 |  Q01   |  278  |           |</td></tr><tr><td>| LEU0252881500 | 1980 |  Q04   |  271  |           |</td></tr><tr><td>| LEU0252881500 | 1980 |  Q03   |  262  |           |</td></tr><tr><td>| LEU0252881500 | 1980 |  Q02   |  257  |           |</td></tr><tr><td>| LEU0252881500 | 1980 |  Q01   |  256  |           |</td></tr><tr><td>| LEU0252881500 | 1979 |  Q04   |  249  |           |</td></tr><tr><td>| LEU0252881500 | 1979 |  Q03   |  240  |           |</td></tr><tr><td>| LEU0252881500 | 1979 |  Q02   |  239  |           |</td></tr><tr><td>| LEU0252881500 | 1979 |  Q01   |  234  |           |</td></tr><tr><td>+---------------+------+--------+-------+-----------++---------------+------+--------+-------+-----------+</td></tr><tr><td>|   series id   | year | period | value | footnotes |</td></tr><tr><td>+---------------+------+--------+-------+-----------+</td></tr><tr><td>| LEU0252881500 | 1998 |  Q04   |  541  |           |</td></tr><tr><td>| LEU0252881500 | 1998 |  Q03   |  520  |           |</td></tr><tr><td>| LEU0252881500 | 1998 |  Q02   |  515  |           |</td></tr><tr><td>| LEU0252881500 | 1998 |  Q01   |  521  |           |</td></tr><tr><td>| LEU0252881500 | 1997 |  Q04   |  511  |           |</td></tr><tr><td>| LEU0252881500 | 1997 |  Q03   |  499  |           |</td></tr><tr><td>| LEU0252881500 | 1997 |  Q02   |  499  |           |</td></tr><tr><td>| LEU0252881500 | 1997 |  Q01   |  504  |           |</td></tr><tr><td>| LEU0252881500 | 1996 |  Q04   |  499  |           |</td></tr><tr><td>| LEU0252881500 | 1996 |  Q03   |  488  |           |</td></tr><tr><td>| LEU0252881500 | 1996 |  Q02   |  486  |           |</td></tr><tr><td>| LEU0252881500 | 1996 |  Q01   |  489  |           |</td></tr><tr><td>| LEU0252881500 | 1995 |  Q04   |  484  |           |</td></tr><tr><td>| LEU0252881500 | 1995 |  Q03   |  479  |           |</td></tr><tr><td>| LEU0252881500 | 1995 |  Q02   |  475  |           |</td></tr><tr><td>| LEU0252881500 | 1995 |  Q01   |  478  |           |</td></tr><tr><td>| LEU0252881500 | 1994 |  Q04   |  472  |           |</td></tr><tr><td>| LEU0252881500 | 1994 |  Q03   |  462  |           |</td></tr><tr><td>| LEU0252881500 | 1994 |  Q02   |  465  |           |</td></tr><tr><td>| LEU0252881500 | 1994 |  Q01   |  469  |           |</td></tr><tr><td>| LEU0252881500 | 1993 |  Q04   |  467  |           |</td></tr><tr><td>| LEU0252881500 | 1993 |  Q03   |  456  |           |</td></tr><tr><td>| LEU0252881500 | 1993 |  Q02   |  455  |           |</td></tr><tr><td>| LEU0252881500 | 1993 |  Q01   |  456  |           |</td></tr><tr><td>| LEU0252881500 | 1992 |  Q04   |  445  |           |</td></tr><tr><td>| LEU0252881500 | 1992 |  Q03   |  437  |           |</td></tr><tr><td>| LEU0252881500 | 1992 |  Q02   |  436  |           |</td></tr><tr><td>| LEU0252881500 | 1992 |  Q01   |  443  |           |</td></tr><tr><td>| LEU0252881500 | 1991 |  Q04   |  432  |           |</td></tr><tr><td>| LEU0252881500 | 1991 |  Q03   |  421  |           |</td></tr><tr><td>| LEU0252881500 | 1991 |  Q02   |  422  |           |</td></tr><tr><td>| LEU0252881500 | 1991 |  Q01   |  432  |           |</td></tr><tr><td>| LEU0252881500 | 1990 |  Q04   |  419  |           |</td></tr><tr><td>| LEU0252881500 | 1990 |  Q03   |  406  |           |</td></tr><tr><td>| LEU0252881500 | 1990 |  Q02   |  411  |           |</td></tr><tr><td>| LEU0252881500 | 1990 |  Q01   |  413  |           |</td></tr><tr><td>| LEU0252881500 | 1989 |  Q04   |  408  |           |</td></tr><tr><td>| LEU0252881500 | 1989 |  Q03   |  395  |           |</td></tr><tr><td>| LEU0252881500 | 1989 |  Q02   |  398  |           |</td></tr><tr><td>| LEU0252881500 | 1989 |  Q01   |  397  |           |</td></tr><tr><td>+---------------+------+--------+-------+-----------++---------------+------+--------+-------+-----------+</td></tr><tr><td>|   series id   | year | period | value | footnotes |</td></tr><tr><td>+---------------+------+--------+-------+-----------+</td></tr><tr><td>| LEU0252881500 | 2008 |  Q04   |  728  |           |</td></tr><tr><td>| LEU0252881500 | 2008 |  Q03   |  720  |           |</td></tr><tr><td>| LEU0252881500 | 2008 |  Q02   |  719  |           |</td></tr><tr><td>| LEU0252881500 | 2008 |  Q01   |  719  |           |</td></tr><tr><td>| LEU0252881500 | 2007 |  Q04   |  700  |           |</td></tr><tr><td>| LEU0252881500 | 2007 |  Q03   |  695  |           |</td></tr><tr><td>| LEU0252881500 | 2007 |  Q02   |  690  |           |</td></tr><tr><td>| LEU0252881500 | 2007 |  Q01   |  693  |           |</td></tr><tr><td>| LEU0252881500 | 2006 |  Q04   |  682  |           |</td></tr><tr><td>| LEU0252881500 | 2006 |  Q03   |  675  |           |</td></tr><tr><td>| LEU0252881500 | 2006 |  Q02   |  659  |           |</td></tr><tr><td>| LEU0252881500 | 2006 |  Q01   |  668  |           |</td></tr><tr><td>| LEU0252881500 | 2005 |  Q04   |  659  |           |</td></tr><tr><td>| LEU0252881500 | 2005 |  Q03   |  649  |           |</td></tr><tr><td>| LEU0252881500 | 2005 |  Q02   |  643  |           |</td></tr><tr><td>| LEU0252881500 | 2005 |  Q01   |  653  |           |</td></tr><tr><td>| LEU0252881500 | 2004 |  Q04   |  647  |           |</td></tr><tr><td>| LEU0252881500 | 2004 |  Q03   |  632  |           |</td></tr><tr><td>| LEU0252881500 | 2004 |  Q02   |  639  |           |</td></tr><tr><td>| LEU0252881500 | 2004 |  Q01   |  634  |           |</td></tr><tr><td>| LEU0252881500 | 2003 |  Q04   |  625  |           |</td></tr><tr><td>| LEU0252881500 | 2003 |  Q03   |  618  |           |</td></tr><tr><td>| LEU0252881500 | 2003 |  Q02   |  616  |           |</td></tr><tr><td>| LEU0252881500 | 2003 |  Q01   |  620  |           |</td></tr><tr><td>| LEU0252881500 | 2002 |  Q04   |  613  |           |</td></tr><tr><td>| LEU0252881500 | 2002 |  Q03   |  603  |           |</td></tr><tr><td>| LEU0252881500 | 2002 |  Q02   |  605  |           |</td></tr><tr><td>| LEU0252881500 | 2002 |  Q01   |  611  |           |</td></tr><tr><td>| LEU0252881500 | 2001 |  Q04   |  606  |           |</td></tr><tr><td>| LEU0252881500 | 2001 |  Q03   |  596  |           |</td></tr><tr><td>| LEU0252881500 | 2001 |  Q02   |  592  |           |</td></tr><tr><td>| LEU0252881500 | 2001 |  Q01   |  589  |           |</td></tr><tr><td>| LEU0252881500 | 2000 |  Q04   |  585  |           |</td></tr><tr><td>| LEU0252881500 | 2000 |  Q03   |  574  |           |</td></tr><tr><td>| LEU0252881500 | 2000 |  Q02   |  569  |           |</td></tr><tr><td>| LEU0252881500 | 2000 |  Q01   |  573  |           |</td></tr><tr><td>| LEU0252881500 | 1999 |  Q04   |  568  |           |</td></tr><tr><td>| LEU0252881500 | 1999 |  Q03   |  546  |           |</td></tr><tr><td>| LEU0252881500 | 1999 |  Q02   |  543  |           |</td></tr><tr><td>| LEU0252881500 | 1999 |  Q01   |  538  |           |</td></tr><tr><td>+---------------+------+--------+-------+-----------++---------------+------+--------+-------+-----------+</td></tr><tr><td>|   series id   | year | period | value | footnotes |</td></tr><tr><td>+---------------+------+--------+-------+-----------+</td></tr><tr><td>| LEU0252881500 | 2018 |  Q04   |  900  |           |</td></tr><tr><td>| LEU0252881500 | 2018 |  Q03   |  887  |           |</td></tr><tr><td>| LEU0252881500 | 2018 |  Q02   |  876  |           |</td></tr><tr><td>| LEU0252881500 | 2018 |  Q01   |  881  |           |</td></tr><tr><td>| LEU0252881500 | 2017 |  Q04   |  857  |           |</td></tr><tr><td>| LEU0252881500 | 2017 |  Q03   |  859  |           |</td></tr><tr><td>| LEU0252881500 | 2017 |  Q02   |  859  |           |</td></tr><tr><td>| LEU0252881500 | 2017 |  Q01   |  865  |           |</td></tr><tr><td>| LEU0252881500 | 2016 |  Q04   |  849  |           |</td></tr><tr><td>| LEU0252881500 | 2016 |  Q03   |  827  |           |</td></tr><tr><td>| LEU0252881500 | 2016 |  Q02   |  824  |           |</td></tr><tr><td>| LEU0252881500 | 2016 |  Q01   |  830  |           |</td></tr><tr><td>| LEU0252881500 | 2015 |  Q04   |  825  |           |</td></tr><tr><td>| LEU0252881500 | 2015 |  Q03   |  803  |           |</td></tr><tr><td>| LEU0252881500 | 2015 |  Q02   |  801  |           |</td></tr><tr><td>| LEU0252881500 | 2015 |  Q01   |  808  |           |</td></tr><tr><td>| LEU0252881500 | 2014 |  Q04   |  799  |           |</td></tr><tr><td>| LEU0252881500 | 2014 |  Q03   |  790  |           |</td></tr><tr><td>| LEU0252881500 | 2014 |  Q02   |  780  |           |</td></tr><tr><td>| LEU0252881500 | 2014 |  Q01   |  796  |           |</td></tr><tr><td>| LEU0252881500 | 2013 |  Q04   |  786  |           |</td></tr><tr><td>| LEU0252881500 | 2013 |  Q03   |  771  |           |</td></tr><tr><td>| LEU0252881500 | 2013 |  Q02   |  776  |           |</td></tr><tr><td>| LEU0252881500 | 2013 |  Q01   |  773  |           |</td></tr><tr><td>| LEU0252881500 | 2012 |  Q04   |  775  |           |</td></tr><tr><td>| LEU0252881500 | 2012 |  Q03   |  758  |           |</td></tr><tr><td>| LEU0252881500 | 2012 |  Q02   |  771  |           |</td></tr><tr><td>| LEU0252881500 | 2012 |  Q01   |  769  |           |</td></tr><tr><td>| LEU0252881500 | 2011 |  Q04   |  764  |           |</td></tr><tr><td>| LEU0252881500 | 2011 |  Q03   |  753  |           |</td></tr><tr><td>| LEU0252881500 | 2011 |  Q02   |  753  |           |</td></tr><tr><td>| LEU0252881500 | 2011 |  Q01   |  755  |           |</td></tr><tr><td>| LEU0252881500 | 2010 |  Q04   |  752  |           |</td></tr><tr><td>| LEU0252881500 | 2010 |  Q03   |  740  |           |</td></tr><tr><td>| LEU0252881500 | 2010 |  Q02   |  740  |           |</td></tr><tr><td>| LEU0252881500 | 2010 |  Q01   |  754  |           |</td></tr><tr><td>| LEU0252881500 | 2009 |  Q04   |  748  |           |</td></tr><tr><td>| LEU0252881500 | 2009 |  Q03   |  738  |           |</td></tr><tr><td>| LEU0252881500 | 2009 |  Q02   |  734  |           |</td></tr><tr><td>| LEU0252881500 | 2009 |  Q01   |  738  |           |</td></tr><tr><td>+---------------+------+--------+-------+-----------++---------------+------+--------+-------+-----------+</td></tr><tr><td>|   series id   | year | period | value | footnotes |</td></tr><tr><td>+---------------+------+--------+-------+-----------+</td></tr><tr><td>| LEU0252881500 | 2023 |  Q03   |  1118 |           |</td></tr><tr><td>| LEU0252881500 | 2023 |  Q02   |  1100 |           |</td></tr><tr><td>| LEU0252881500 | 2023 |  Q01   |  1100 |           |</td></tr><tr><td>| LEU0252881500 | 2022 |  Q04   |  1085 |           |</td></tr><tr><td>| LEU0252881500 | 2022 |  Q03   |  1070 |           |</td></tr><tr><td>| LEU0252881500 | 2022 |  Q02   |  1041 |           |</td></tr><tr><td>| LEU0252881500 | 2022 |  Q01   |  1037 |           |</td></tr><tr><td>| LEU0252881500 | 2021 |  Q04   |  1010 |           |</td></tr><tr><td>| LEU0252881500 | 2021 |  Q03   |  1001 |           |</td></tr><tr><td>| LEU0252881500 | 2021 |  Q02   |  990  |           |</td></tr><tr><td>| LEU0252881500 | 2021 |  Q01   |  989  |           |</td></tr><tr><td>| LEU0252881500 | 2020 |  Q04   |  984  |           |</td></tr><tr><td>| LEU0252881500 | 2020 |  Q03   |  994  |           |</td></tr><tr><td>| LEU0252881500 | 2020 |  Q02   |  1002 |           |</td></tr><tr><td>| LEU0252881500 | 2020 |  Q01   |  957  |           |</td></tr><tr><td>| LEU0252881500 | 2019 |  Q04   |  936  |           |</td></tr><tr><td>| LEU0252881500 | 2019 |  Q03   |  919  |           |</td></tr><tr><td>| LEU0252881500 | 2019 |  Q02   |  908  |           |</td></tr><tr><td>| LEU0252881500 | 2019 |  Q01   |  905  |           |</td></tr><tr><td>+---------------+------+--------+-------+-----------+</td></tr></tbody></table></div>"
      ]
     },
     "metadata": {
      "application/vnd.databricks.v1+output": {
       "addedWidgets": {},
       "aggData": [],
       "aggError": "",
       "aggOverflow": false,
       "aggSchema": [],
       "aggSeriesLimitReached": false,
       "aggType": "",
       "arguments": {},
       "columnCustomDisplayInfos": {},
       "data": [
        [
         "+---------------+------+--------+-------+-----------+"
        ],
        [
         "|   series id   | year | period | value | footnotes |"
        ],
        [
         "+---------------+------+--------+-------+-----------+"
        ],
        [
         "| LEU0252881500 | 1988 |  Q04   |  392  |           |"
        ],
        [
         "| LEU0252881500 | 1988 |  Q03   |  381  |           |"
        ],
        [
         "| LEU0252881500 | 1988 |  Q02   |  382  |           |"
        ],
        [
         "| LEU0252881500 | 1988 |  Q01   |  385  |           |"
        ],
        [
         "| LEU0252881500 | 1987 |  Q04   |  381  |           |"
        ],
        [
         "| LEU0252881500 | 1987 |  Q03   |  371  |           |"
        ],
        [
         "| LEU0252881500 | 1987 |  Q02   |  371  |           |"
        ],
        [
         "| LEU0252881500 | 1987 |  Q01   |  369  |           |"
        ],
        [
         "| LEU0252881500 | 1986 |  Q04   |  368  |           |"
        ],
        [
         "| LEU0252881500 | 1986 |  Q03   |  354  |           |"
        ],
        [
         "| LEU0252881500 | 1986 |  Q02   |  358  |           |"
        ],
        [
         "| LEU0252881500 | 1986 |  Q01   |  354  |           |"
        ],
        [
         "| LEU0252881500 | 1985 |  Q04   |  351  |           |"
        ],
        [
         "| LEU0252881500 | 1985 |  Q03   |  340  |           |"
        ],
        [
         "| LEU0252881500 | 1985 |  Q02   |  347  |           |"
        ],
        [
         "| LEU0252881500 | 1985 |  Q01   |  336  |           |"
        ],
        [
         "| LEU0252881500 | 1984 |  Q04   |  335  |           |"
        ],
        [
         "| LEU0252881500 | 1984 |  Q03   |  322  |           |"
        ],
        [
         "| LEU0252881500 | 1984 |  Q02   |  323  |           |"
        ],
        [
         "| LEU0252881500 | 1984 |  Q01   |  323  |           |"
        ],
        [
         "| LEU0252881500 | 1983 |  Q04   |  318  |           |"
        ],
        [
         "| LEU0252881500 | 1983 |  Q03   |  311  |           |"
        ],
        [
         "| LEU0252881500 | 1983 |  Q02   |  311  |           |"
        ],
        [
         "| LEU0252881500 | 1983 |  Q01   |  311  |           |"
        ],
        [
         "| LEU0252881500 | 1982 |  Q04   |  308  |           |"
        ],
        [
         "| LEU0252881500 | 1982 |  Q03   |  299  |           |"
        ],
        [
         "| LEU0252881500 | 1982 |  Q02   |  301  |           |"
        ],
        [
         "| LEU0252881500 | 1982 |  Q01   |  298  |           |"
        ],
        [
         "| LEU0252881500 | 1981 |  Q04   |  294  |           |"
        ],
        [
         "| LEU0252881500 | 1981 |  Q03   |  281  |           |"
        ],
        [
         "| LEU0252881500 | 1981 |  Q02   |  279  |           |"
        ],
        [
         "| LEU0252881500 | 1981 |  Q01   |  278  |           |"
        ],
        [
         "| LEU0252881500 | 1980 |  Q04   |  271  |           |"
        ],
        [
         "| LEU0252881500 | 1980 |  Q03   |  262  |           |"
        ],
        [
         "| LEU0252881500 | 1980 |  Q02   |  257  |           |"
        ],
        [
         "| LEU0252881500 | 1980 |  Q01   |  256  |           |"
        ],
        [
         "| LEU0252881500 | 1979 |  Q04   |  249  |           |"
        ],
        [
         "| LEU0252881500 | 1979 |  Q03   |  240  |           |"
        ],
        [
         "| LEU0252881500 | 1979 |  Q02   |  239  |           |"
        ],
        [
         "| LEU0252881500 | 1979 |  Q01   |  234  |           |"
        ],
        [
         "+---------------+------+--------+-------+-----------++---------------+------+--------+-------+-----------+"
        ],
        [
         "|   series id   | year | period | value | footnotes |"
        ],
        [
         "+---------------+------+--------+-------+-----------+"
        ],
        [
         "| LEU0252881500 | 1998 |  Q04   |  541  |           |"
        ],
        [
         "| LEU0252881500 | 1998 |  Q03   |  520  |           |"
        ],
        [
         "| LEU0252881500 | 1998 |  Q02   |  515  |           |"
        ],
        [
         "| LEU0252881500 | 1998 |  Q01   |  521  |           |"
        ],
        [
         "| LEU0252881500 | 1997 |  Q04   |  511  |           |"
        ],
        [
         "| LEU0252881500 | 1997 |  Q03   |  499  |           |"
        ],
        [
         "| LEU0252881500 | 1997 |  Q02   |  499  |           |"
        ],
        [
         "| LEU0252881500 | 1997 |  Q01   |  504  |           |"
        ],
        [
         "| LEU0252881500 | 1996 |  Q04   |  499  |           |"
        ],
        [
         "| LEU0252881500 | 1996 |  Q03   |  488  |           |"
        ],
        [
         "| LEU0252881500 | 1996 |  Q02   |  486  |           |"
        ],
        [
         "| LEU0252881500 | 1996 |  Q01   |  489  |           |"
        ],
        [
         "| LEU0252881500 | 1995 |  Q04   |  484  |           |"
        ],
        [
         "| LEU0252881500 | 1995 |  Q03   |  479  |           |"
        ],
        [
         "| LEU0252881500 | 1995 |  Q02   |  475  |           |"
        ],
        [
         "| LEU0252881500 | 1995 |  Q01   |  478  |           |"
        ],
        [
         "| LEU0252881500 | 1994 |  Q04   |  472  |           |"
        ],
        [
         "| LEU0252881500 | 1994 |  Q03   |  462  |           |"
        ],
        [
         "| LEU0252881500 | 1994 |  Q02   |  465  |           |"
        ],
        [
         "| LEU0252881500 | 1994 |  Q01   |  469  |           |"
        ],
        [
         "| LEU0252881500 | 1993 |  Q04   |  467  |           |"
        ],
        [
         "| LEU0252881500 | 1993 |  Q03   |  456  |           |"
        ],
        [
         "| LEU0252881500 | 1993 |  Q02   |  455  |           |"
        ],
        [
         "| LEU0252881500 | 1993 |  Q01   |  456  |           |"
        ],
        [
         "| LEU0252881500 | 1992 |  Q04   |  445  |           |"
        ],
        [
         "| LEU0252881500 | 1992 |  Q03   |  437  |           |"
        ],
        [
         "| LEU0252881500 | 1992 |  Q02   |  436  |           |"
        ],
        [
         "| LEU0252881500 | 1992 |  Q01   |  443  |           |"
        ],
        [
         "| LEU0252881500 | 1991 |  Q04   |  432  |           |"
        ],
        [
         "| LEU0252881500 | 1991 |  Q03   |  421  |           |"
        ],
        [
         "| LEU0252881500 | 1991 |  Q02   |  422  |           |"
        ],
        [
         "| LEU0252881500 | 1991 |  Q01   |  432  |           |"
        ],
        [
         "| LEU0252881500 | 1990 |  Q04   |  419  |           |"
        ],
        [
         "| LEU0252881500 | 1990 |  Q03   |  406  |           |"
        ],
        [
         "| LEU0252881500 | 1990 |  Q02   |  411  |           |"
        ],
        [
         "| LEU0252881500 | 1990 |  Q01   |  413  |           |"
        ],
        [
         "| LEU0252881500 | 1989 |  Q04   |  408  |           |"
        ],
        [
         "| LEU0252881500 | 1989 |  Q03   |  395  |           |"
        ],
        [
         "| LEU0252881500 | 1989 |  Q02   |  398  |           |"
        ],
        [
         "| LEU0252881500 | 1989 |  Q01   |  397  |           |"
        ],
        [
         "+---------------+------+--------+-------+-----------++---------------+------+--------+-------+-----------+"
        ],
        [
         "|   series id   | year | period | value | footnotes |"
        ],
        [
         "+---------------+------+--------+-------+-----------+"
        ],
        [
         "| LEU0252881500 | 2008 |  Q04   |  728  |           |"
        ],
        [
         "| LEU0252881500 | 2008 |  Q03   |  720  |           |"
        ],
        [
         "| LEU0252881500 | 2008 |  Q02   |  719  |           |"
        ],
        [
         "| LEU0252881500 | 2008 |  Q01   |  719  |           |"
        ],
        [
         "| LEU0252881500 | 2007 |  Q04   |  700  |           |"
        ],
        [
         "| LEU0252881500 | 2007 |  Q03   |  695  |           |"
        ],
        [
         "| LEU0252881500 | 2007 |  Q02   |  690  |           |"
        ],
        [
         "| LEU0252881500 | 2007 |  Q01   |  693  |           |"
        ],
        [
         "| LEU0252881500 | 2006 |  Q04   |  682  |           |"
        ],
        [
         "| LEU0252881500 | 2006 |  Q03   |  675  |           |"
        ],
        [
         "| LEU0252881500 | 2006 |  Q02   |  659  |           |"
        ],
        [
         "| LEU0252881500 | 2006 |  Q01   |  668  |           |"
        ],
        [
         "| LEU0252881500 | 2005 |  Q04   |  659  |           |"
        ],
        [
         "| LEU0252881500 | 2005 |  Q03   |  649  |           |"
        ],
        [
         "| LEU0252881500 | 2005 |  Q02   |  643  |           |"
        ],
        [
         "| LEU0252881500 | 2005 |  Q01   |  653  |           |"
        ],
        [
         "| LEU0252881500 | 2004 |  Q04   |  647  |           |"
        ],
        [
         "| LEU0252881500 | 2004 |  Q03   |  632  |           |"
        ],
        [
         "| LEU0252881500 | 2004 |  Q02   |  639  |           |"
        ],
        [
         "| LEU0252881500 | 2004 |  Q01   |  634  |           |"
        ],
        [
         "| LEU0252881500 | 2003 |  Q04   |  625  |           |"
        ],
        [
         "| LEU0252881500 | 2003 |  Q03   |  618  |           |"
        ],
        [
         "| LEU0252881500 | 2003 |  Q02   |  616  |           |"
        ],
        [
         "| LEU0252881500 | 2003 |  Q01   |  620  |           |"
        ],
        [
         "| LEU0252881500 | 2002 |  Q04   |  613  |           |"
        ],
        [
         "| LEU0252881500 | 2002 |  Q03   |  603  |           |"
        ],
        [
         "| LEU0252881500 | 2002 |  Q02   |  605  |           |"
        ],
        [
         "| LEU0252881500 | 2002 |  Q01   |  611  |           |"
        ],
        [
         "| LEU0252881500 | 2001 |  Q04   |  606  |           |"
        ],
        [
         "| LEU0252881500 | 2001 |  Q03   |  596  |           |"
        ],
        [
         "| LEU0252881500 | 2001 |  Q02   |  592  |           |"
        ],
        [
         "| LEU0252881500 | 2001 |  Q01   |  589  |           |"
        ],
        [
         "| LEU0252881500 | 2000 |  Q04   |  585  |           |"
        ],
        [
         "| LEU0252881500 | 2000 |  Q03   |  574  |           |"
        ],
        [
         "| LEU0252881500 | 2000 |  Q02   |  569  |           |"
        ],
        [
         "| LEU0252881500 | 2000 |  Q01   |  573  |           |"
        ],
        [
         "| LEU0252881500 | 1999 |  Q04   |  568  |           |"
        ],
        [
         "| LEU0252881500 | 1999 |  Q03   |  546  |           |"
        ],
        [
         "| LEU0252881500 | 1999 |  Q02   |  543  |           |"
        ],
        [
         "| LEU0252881500 | 1999 |  Q01   |  538  |           |"
        ],
        [
         "+---------------+------+--------+-------+-----------++---------------+------+--------+-------+-----------+"
        ],
        [
         "|   series id   | year | period | value | footnotes |"
        ],
        [
         "+---------------+------+--------+-------+-----------+"
        ],
        [
         "| LEU0252881500 | 2018 |  Q04   |  900  |           |"
        ],
        [
         "| LEU0252881500 | 2018 |  Q03   |  887  |           |"
        ],
        [
         "| LEU0252881500 | 2018 |  Q02   |  876  |           |"
        ],
        [
         "| LEU0252881500 | 2018 |  Q01   |  881  |           |"
        ],
        [
         "| LEU0252881500 | 2017 |  Q04   |  857  |           |"
        ],
        [
         "| LEU0252881500 | 2017 |  Q03   |  859  |           |"
        ],
        [
         "| LEU0252881500 | 2017 |  Q02   |  859  |           |"
        ],
        [
         "| LEU0252881500 | 2017 |  Q01   |  865  |           |"
        ],
        [
         "| LEU0252881500 | 2016 |  Q04   |  849  |           |"
        ],
        [
         "| LEU0252881500 | 2016 |  Q03   |  827  |           |"
        ],
        [
         "| LEU0252881500 | 2016 |  Q02   |  824  |           |"
        ],
        [
         "| LEU0252881500 | 2016 |  Q01   |  830  |           |"
        ],
        [
         "| LEU0252881500 | 2015 |  Q04   |  825  |           |"
        ],
        [
         "| LEU0252881500 | 2015 |  Q03   |  803  |           |"
        ],
        [
         "| LEU0252881500 | 2015 |  Q02   |  801  |           |"
        ],
        [
         "| LEU0252881500 | 2015 |  Q01   |  808  |           |"
        ],
        [
         "| LEU0252881500 | 2014 |  Q04   |  799  |           |"
        ],
        [
         "| LEU0252881500 | 2014 |  Q03   |  790  |           |"
        ],
        [
         "| LEU0252881500 | 2014 |  Q02   |  780  |           |"
        ],
        [
         "| LEU0252881500 | 2014 |  Q01   |  796  |           |"
        ],
        [
         "| LEU0252881500 | 2013 |  Q04   |  786  |           |"
        ],
        [
         "| LEU0252881500 | 2013 |  Q03   |  771  |           |"
        ],
        [
         "| LEU0252881500 | 2013 |  Q02   |  776  |           |"
        ],
        [
         "| LEU0252881500 | 2013 |  Q01   |  773  |           |"
        ],
        [
         "| LEU0252881500 | 2012 |  Q04   |  775  |           |"
        ],
        [
         "| LEU0252881500 | 2012 |  Q03   |  758  |           |"
        ],
        [
         "| LEU0252881500 | 2012 |  Q02   |  771  |           |"
        ],
        [
         "| LEU0252881500 | 2012 |  Q01   |  769  |           |"
        ],
        [
         "| LEU0252881500 | 2011 |  Q04   |  764  |           |"
        ],
        [
         "| LEU0252881500 | 2011 |  Q03   |  753  |           |"
        ],
        [
         "| LEU0252881500 | 2011 |  Q02   |  753  |           |"
        ],
        [
         "| LEU0252881500 | 2011 |  Q01   |  755  |           |"
        ],
        [
         "| LEU0252881500 | 2010 |  Q04   |  752  |           |"
        ],
        [
         "| LEU0252881500 | 2010 |  Q03   |  740  |           |"
        ],
        [
         "| LEU0252881500 | 2010 |  Q02   |  740  |           |"
        ],
        [
         "| LEU0252881500 | 2010 |  Q01   |  754  |           |"
        ],
        [
         "| LEU0252881500 | 2009 |  Q04   |  748  |           |"
        ],
        [
         "| LEU0252881500 | 2009 |  Q03   |  738  |           |"
        ],
        [
         "| LEU0252881500 | 2009 |  Q02   |  734  |           |"
        ],
        [
         "| LEU0252881500 | 2009 |  Q01   |  738  |           |"
        ],
        [
         "+---------------+------+--------+-------+-----------++---------------+------+--------+-------+-----------+"
        ],
        [
         "|   series id   | year | period | value | footnotes |"
        ],
        [
         "+---------------+------+--------+-------+-----------+"
        ],
        [
         "| LEU0252881500 | 2023 |  Q03   |  1118 |           |"
        ],
        [
         "| LEU0252881500 | 2023 |  Q02   |  1100 |           |"
        ],
        [
         "| LEU0252881500 | 2023 |  Q01   |  1100 |           |"
        ],
        [
         "| LEU0252881500 | 2022 |  Q04   |  1085 |           |"
        ],
        [
         "| LEU0252881500 | 2022 |  Q03   |  1070 |           |"
        ],
        [
         "| LEU0252881500 | 2022 |  Q02   |  1041 |           |"
        ],
        [
         "| LEU0252881500 | 2022 |  Q01   |  1037 |           |"
        ],
        [
         "| LEU0252881500 | 2021 |  Q04   |  1010 |           |"
        ],
        [
         "| LEU0252881500 | 2021 |  Q03   |  1001 |           |"
        ],
        [
         "| LEU0252881500 | 2021 |  Q02   |  990  |           |"
        ],
        [
         "| LEU0252881500 | 2021 |  Q01   |  989  |           |"
        ],
        [
         "| LEU0252881500 | 2020 |  Q04   |  984  |           |"
        ],
        [
         "| LEU0252881500 | 2020 |  Q03   |  994  |           |"
        ],
        [
         "| LEU0252881500 | 2020 |  Q02   |  1002 |           |"
        ],
        [
         "| LEU0252881500 | 2020 |  Q01   |  957  |           |"
        ],
        [
         "| LEU0252881500 | 2019 |  Q04   |  936  |           |"
        ],
        [
         "| LEU0252881500 | 2019 |  Q03   |  919  |           |"
        ],
        [
         "| LEU0252881500 | 2019 |  Q02   |  908  |           |"
        ],
        [
         "| LEU0252881500 | 2019 |  Q01   |  905  |           |"
        ],
        [
         "+---------------+------+--------+-------+-----------+"
        ]
       ],
       "datasetInfos": [],
       "dbfsResultPath": null,
       "isJsonSchema": true,
       "metadata": {},
       "overflow": false,
       "plotOptions": {
        "customPlotOptions": {},
        "displayType": "table",
        "pivotAggregation": null,
        "pivotColumns": null,
        "xColumns": null,
        "yColumns": null
       },
       "removedWidgets": [],
       "schema": [
        {
         "metadata": "{}",
         "name": "value",
         "type": "\"string\""
        }
       ],
       "type": "table"
      }
     },
     "output_type": "display_data"
    }
   ],
   "source": [
    "wages = spark.read.text(\n",
    "  'dbfs:/FileStore/my-stuff/LEU02528815005.txt'\n",
    ")\n",
    "wages.printSchema()\n",
    "display(wages)"
   ]
  },
  {
   "cell_type": "code",
   "execution_count": 0,
   "metadata": {
    "application/vnd.databricks.v1+cell": {
     "cellMetadata": {
      "byteLimit": 2048000,
      "implicitDf": true,
      "rowLimit": 10000
     },
     "inputWidgets": {},
     "nuid": "35b9239b-0db2-4704-af9f-481c46f38660",
     "showTitle": false,
     "title": ""
    }
   },
   "outputs": [],
   "source": [
    "from pyspark.sql.functions import *\n",
    "from pyspark.sql.functions import regexp_replace"
   ]
  },
  {
   "cell_type": "markdown",
   "metadata": {
    "application/vnd.databricks.v1+cell": {
     "cellMetadata": {
      "byteLimit": 2048000,
      "rowLimit": 10000
     },
     "inputWidgets": {},
     "nuid": "01bb151b-b734-4214-ac7b-87b124cd5676",
     "showTitle": false,
     "title": ""
    }
   },
   "source": [
    "#### Formating of the gas price data by removing nulls, spliting and merging the columns to make a usable dataframe"
   ]
  },
  {
   "cell_type": "code",
   "execution_count": 0,
   "metadata": {
    "application/vnd.databricks.v1+cell": {
     "cellMetadata": {
      "byteLimit": 2048000,
      "rowLimit": 10000
     },
     "inputWidgets": {},
     "nuid": "613c59fb-0132-46f9-b450-46441391b77f",
     "showTitle": false,
     "title": ""
    }
   },
   "outputs": [
    {
     "output_type": "display_data",
     "data": {
      "text/html": [
       "<style scoped>\n",
       "  .table-result-container {\n",
       "    max-height: 300px;\n",
       "    overflow: auto;\n",
       "  }\n",
       "  table, th, td {\n",
       "    border: 1px solid black;\n",
       "    border-collapse: collapse;\n",
       "  }\n",
       "  th, td {\n",
       "    padding: 5px;\n",
       "  }\n",
       "  th {\n",
       "    text-align: left;\n",
       "  }\n",
       "</style><div class='table-result-container'><table class='table-result'><thead style='background-color: white'><tr><th>value</th><th>split_value</th><th>seriesId</th><th>year</th><th>month</th><th>whole_value</th><th>decimal_value</th></tr></thead><tbody><tr><td>+--------------+------+--------+-------+-----------+</td><td> </td><td></td><td>null</td><td>null</td><td>null</td><td>null</td></tr><tr><td>|  series id   | year | period | value | footnotes |</td><td> series id year period value footnotes </td><td>series</td><td>id</td><td>year</td><td>period</td><td>value</td></tr><tr><td>+--------------+------+--------+-------+-----------+</td><td> </td><td></td><td>null</td><td>null</td><td>null</td><td>null</td></tr><tr><td>| APU000074714 | 1985 |  M12   | 1.208 |           |</td><td> APU000074714 1985 M12 1 208 </td><td>APU000074714</td><td>1985</td><td>M12</td><td>1</td><td>208</td></tr><tr><td>| APU000074714 | 1985 |  M11   | 1.207 |           |</td><td> APU000074714 1985 M11 1 207 </td><td>APU000074714</td><td>1985</td><td>M11</td><td>1</td><td>207</td></tr><tr><td>| APU000074714 | 1985 |  M10   | 1.204 |           |</td><td> APU000074714 1985 M10 1 204 </td><td>APU000074714</td><td>1985</td><td>M10</td><td>1</td><td>204</td></tr><tr><td>| APU000074714 | 1985 |  M09   | 1.216 |           |</td><td> APU000074714 1985 M09 1 216 </td><td>APU000074714</td><td>1985</td><td>M09</td><td>1</td><td>216</td></tr><tr><td>| APU000074714 | 1985 |  M08   | 1.229 |           |</td><td> APU000074714 1985 M08 1 229 </td><td>APU000074714</td><td>1985</td><td>M08</td><td>1</td><td>229</td></tr><tr><td>| APU000074714 | 1985 |  M07   | 1.242 |           |</td><td> APU000074714 1985 M07 1 242 </td><td>APU000074714</td><td>1985</td><td>M07</td><td>1</td><td>242</td></tr><tr><td>| APU000074714 | 1985 |  M06   | 1.241 |           |</td><td> APU000074714 1985 M06 1 241 </td><td>APU000074714</td><td>1985</td><td>M06</td><td>1</td><td>241</td></tr><tr><td>| APU000074714 | 1985 |  M05   | 1.231 |           |</td><td> APU000074714 1985 M05 1 231 </td><td>APU000074714</td><td>1985</td><td>M05</td><td>1</td><td>231</td></tr><tr><td>| APU000074714 | 1985 |  M04   | 1.205 |           |</td><td> APU000074714 1985 M04 1 205 </td><td>APU000074714</td><td>1985</td><td>M04</td><td>1</td><td>205</td></tr><tr><td>| APU000074714 | 1985 |  M03   | 1.159 |           |</td><td> APU000074714 1985 M03 1 159 </td><td>APU000074714</td><td>1985</td><td>M03</td><td>1</td><td>159</td></tr><tr><td>| APU000074714 | 1985 |  M02   | 1.131 |           |</td><td> APU000074714 1985 M02 1 131 </td><td>APU000074714</td><td>1985</td><td>M02</td><td>1</td><td>131</td></tr><tr><td>| APU000074714 | 1985 |  M01   | 1.148 |           |</td><td> APU000074714 1985 M01 1 148 </td><td>APU000074714</td><td>1985</td><td>M01</td><td>1</td><td>148</td></tr><tr><td>| APU000074714 | 1984 |  M12   | 1.193 |           |</td><td> APU000074714 1984 M12 1 193 </td><td>APU000074714</td><td>1984</td><td>M12</td><td>1</td><td>193</td></tr><tr><td>| APU000074714 | 1984 |  M11   | 1.207 |           |</td><td> APU000074714 1984 M11 1 207 </td><td>APU000074714</td><td>1984</td><td>M11</td><td>1</td><td>207</td></tr><tr><td>| APU000074714 | 1984 |  M10   | 1.209 |           |</td><td> APU000074714 1984 M10 1 209 </td><td>APU000074714</td><td>1984</td><td>M10</td><td>1</td><td>209</td></tr><tr><td>| APU000074714 | 1984 |  M09   | 1.203 |           |</td><td> APU000074714 1984 M09 1 203 </td><td>APU000074714</td><td>1984</td><td>M09</td><td>1</td><td>203</td></tr><tr><td>| APU000074714 | 1984 |  M08   | 1.196 |           |</td><td> APU000074714 1984 M08 1 196 </td><td>APU000074714</td><td>1984</td><td>M08</td><td>1</td><td>196</td></tr><tr><td>| APU000074714 | 1984 |  M07   | 1.212 |           |</td><td> APU000074714 1984 M07 1 212 </td><td>APU000074714</td><td>1984</td><td>M07</td><td>1</td><td>212</td></tr><tr><td>| APU000074714 | 1984 |  M06   | 1.229 |           |</td><td> APU000074714 1984 M06 1 229 </td><td>APU000074714</td><td>1984</td><td>M06</td><td>1</td><td>229</td></tr><tr><td>| APU000074714 | 1984 |  M05   | 1.236 |           |</td><td> APU000074714 1984 M05 1 236 </td><td>APU000074714</td><td>1984</td><td>M05</td><td>1</td><td>236</td></tr><tr><td>| APU000074714 | 1984 |  M04   | 1.227 |           |</td><td> APU000074714 1984 M04 1 227 </td><td>APU000074714</td><td>1984</td><td>M04</td><td>1</td><td>227</td></tr><tr><td>| APU000074714 | 1984 |  M03   | 1.210 |           |</td><td> APU000074714 1984 M03 1 210 </td><td>APU000074714</td><td>1984</td><td>M03</td><td>1</td><td>210</td></tr><tr><td>| APU000074714 | 1984 |  M02   | 1.209 |           |</td><td> APU000074714 1984 M02 1 209 </td><td>APU000074714</td><td>1984</td><td>M02</td><td>1</td><td>209</td></tr><tr><td>| APU000074714 | 1984 |  M01   | 1.216 |           |</td><td> APU000074714 1984 M01 1 216 </td><td>APU000074714</td><td>1984</td><td>M01</td><td>1</td><td>216</td></tr><tr><td>| APU000074714 | 1983 |  M12   | 1.231 |           |</td><td> APU000074714 1983 M12 1 231 </td><td>APU000074714</td><td>1983</td><td>M12</td><td>1</td><td>231</td></tr><tr><td>| APU000074714 | 1983 |  M11   | 1.241 |           |</td><td> APU000074714 1983 M11 1 241 </td><td>APU000074714</td><td>1983</td><td>M11</td><td>1</td><td>241</td></tr><tr><td>| APU000074714 | 1983 |  M10   | 1.255 |           |</td><td> APU000074714 1983 M10 1 255 </td><td>APU000074714</td><td>1983</td><td>M10</td><td>1</td><td>255</td></tr><tr><td>| APU000074714 | 1983 |  M09   | 1.274 |           |</td><td> APU000074714 1983 M09 1 274 </td><td>APU000074714</td><td>1983</td><td>M09</td><td>1</td><td>274</td></tr><tr><td>| APU000074714 | 1983 |  M08   | 1.285 |           |</td><td> APU000074714 1983 M08 1 285 </td><td>APU000074714</td><td>1983</td><td>M08</td><td>1</td><td>285</td></tr><tr><td>| APU000074714 | 1983 |  M07   | 1.288 |           |</td><td> APU000074714 1983 M07 1 288 </td><td>APU000074714</td><td>1983</td><td>M07</td><td>1</td><td>288</td></tr><tr><td>| APU000074714 | 1983 |  M06   | 1.277 |           |</td><td> APU000074714 1983 M06 1 277 </td><td>APU000074714</td><td>1983</td><td>M06</td><td>1</td><td>277</td></tr><tr><td>| APU000074714 | 1983 |  M05   | 1.259 |           |</td><td> APU000074714 1983 M05 1 259 </td><td>APU000074714</td><td>1983</td><td>M05</td><td>1</td><td>259</td></tr><tr><td>| APU000074714 | 1983 |  M04   | 1.215 |           |</td><td> APU000074714 1983 M04 1 215 </td><td>APU000074714</td><td>1983</td><td>M04</td><td>1</td><td>215</td></tr><tr><td>| APU000074714 | 1983 |  M03   | 1.152 |           |</td><td> APU000074714 1983 M03 1 152 </td><td>APU000074714</td><td>1983</td><td>M03</td><td>1</td><td>152</td></tr><tr><td>| APU000074714 | 1983 |  M02   | 1.187 |           |</td><td> APU000074714 1983 M02 1 187 </td><td>APU000074714</td><td>1983</td><td>M02</td><td>1</td><td>187</td></tr><tr><td>| APU000074714 | 1983 |  M01   | 1.230 |           |</td><td> APU000074714 1983 M01 1 230 </td><td>APU000074714</td><td>1983</td><td>M01</td><td>1</td><td>230</td></tr><tr><td>| APU000074714 | 1982 |  M12   | 1.260 |           |</td><td> APU000074714 1982 M12 1 260 </td><td>APU000074714</td><td>1982</td><td>M12</td><td>1</td><td>260</td></tr><tr><td>| APU000074714 | 1982 |  M11   | 1.283 |           |</td><td> APU000074714 1982 M11 1 283 </td><td>APU000074714</td><td>1982</td><td>M11</td><td>1</td><td>283</td></tr><tr><td>| APU000074714 | 1982 |  M10   | 1.295 |           |</td><td> APU000074714 1982 M10 1 295 </td><td>APU000074714</td><td>1982</td><td>M10</td><td>1</td><td>295</td></tr><tr><td>| APU000074714 | 1982 |  M09   | 1.307 |           |</td><td> APU000074714 1982 M09 1 307 </td><td>APU000074714</td><td>1982</td><td>M09</td><td>1</td><td>307</td></tr><tr><td>| APU000074714 | 1982 |  M08   | 1.323 |           |</td><td> APU000074714 1982 M08 1 323 </td><td>APU000074714</td><td>1982</td><td>M08</td><td>1</td><td>323</td></tr><tr><td>| APU000074714 | 1982 |  M07   | 1.331 |           |</td><td> APU000074714 1982 M07 1 331 </td><td>APU000074714</td><td>1982</td><td>M07</td><td>1</td><td>331</td></tr><tr><td>| APU000074714 | 1982 |  M06   | 1.309 |           |</td><td> APU000074714 1982 M06 1 309 </td><td>APU000074714</td><td>1982</td><td>M06</td><td>1</td><td>309</td></tr><tr><td>| APU000074714 | 1982 |  M05   | 1.237 |           |</td><td> APU000074714 1982 M05 1 237 </td><td>APU000074714</td><td>1982</td><td>M05</td><td>1</td><td>237</td></tr><tr><td>| APU000074714 | 1982 |  M04   | 1.225 |           |</td><td> APU000074714 1982 M04 1 225 </td><td>APU000074714</td><td>1982</td><td>M04</td><td>1</td><td>225</td></tr><tr><td>| APU000074714 | 1982 |  M03   | 1.284 |           |</td><td> APU000074714 1982 M03 1 284 </td><td>APU000074714</td><td>1982</td><td>M03</td><td>1</td><td>284</td></tr><tr><td>| APU000074714 | 1982 |  M02   | 1.334 |           |</td><td> APU000074714 1982 M02 1 334 </td><td>APU000074714</td><td>1982</td><td>M02</td><td>1</td><td>334</td></tr><tr><td>| APU000074714 | 1982 |  M01   | 1.358 |           |</td><td> APU000074714 1982 M01 1 358 </td><td>APU000074714</td><td>1982</td><td>M01</td><td>1</td><td>358</td></tr><tr><td>| APU000074714 | 1981 |  M12   | 1.365 |           |</td><td> APU000074714 1981 M12 1 365 </td><td>APU000074714</td><td>1981</td><td>M12</td><td>1</td><td>365</td></tr><tr><td>| APU000074714 | 1981 |  M11   | 1.369 |           |</td><td> APU000074714 1981 M11 1 369 </td><td>APU000074714</td><td>1981</td><td>M11</td><td>1</td><td>369</td></tr><tr><td>| APU000074714 | 1981 |  M10   | 1.371 |           |</td><td> APU000074714 1981 M10 1 371 </td><td>APU000074714</td><td>1981</td><td>M10</td><td>1</td><td>371</td></tr><tr><td>| APU000074714 | 1981 |  M09   | 1.376 |           |</td><td> APU000074714 1981 M09 1 376 </td><td>APU000074714</td><td>1981</td><td>M09</td><td>1</td><td>376</td></tr><tr><td>| APU000074714 | 1981 |  M08   | 1.376 |           |</td><td> APU000074714 1981 M08 1 376 </td><td>APU000074714</td><td>1981</td><td>M08</td><td>1</td><td>376</td></tr><tr><td>| APU000074714 | 1981 |  M07   | 1.382 |           |</td><td> APU000074714 1981 M07 1 382 </td><td>APU000074714</td><td>1981</td><td>M07</td><td>1</td><td>382</td></tr><tr><td>| APU000074714 | 1981 |  M06   | 1.391 |           |</td><td> APU000074714 1981 M06 1 391 </td><td>APU000074714</td><td>1981</td><td>M06</td><td>1</td><td>391</td></tr><tr><td>| APU000074714 | 1981 |  M05   | 1.400 |           |</td><td> APU000074714 1981 M05 1 400 </td><td>APU000074714</td><td>1981</td><td>M05</td><td>1</td><td>400</td></tr><tr><td>| APU000074714 | 1981 |  M04   | 1.412 |           |</td><td> APU000074714 1981 M04 1 412 </td><td>APU000074714</td><td>1981</td><td>M04</td><td>1</td><td>412</td></tr><tr><td>| APU000074714 | 1981 |  M03   | 1.417 |           |</td><td> APU000074714 1981 M03 1 417 </td><td>APU000074714</td><td>1981</td><td>M03</td><td>1</td><td>417</td></tr><tr><td>| APU000074714 | 1981 |  M02   | 1.382 |           |</td><td> APU000074714 1981 M02 1 382 </td><td>APU000074714</td><td>1981</td><td>M02</td><td>1</td><td>382</td></tr><tr><td>| APU000074714 | 1981 |  M01   | 1.298 |           |</td><td> APU000074714 1981 M01 1 298 </td><td>APU000074714</td><td>1981</td><td>M01</td><td>1</td><td>298</td></tr><tr><td>| APU000074714 | 1980 |  M12   | 1.258 |           |</td><td> APU000074714 1980 M12 1 258 </td><td>APU000074714</td><td>1980</td><td>M12</td><td>1</td><td>258</td></tr><tr><td>| APU000074714 | 1980 |  M11   | 1.250 |           |</td><td> APU000074714 1980 M11 1 250 </td><td>APU000074714</td><td>1980</td><td>M11</td><td>1</td><td>250</td></tr><tr><td>| APU000074714 | 1980 |  M10   | 1.250 |           |</td><td> APU000074714 1980 M10 1 250 </td><td>APU000074714</td><td>1980</td><td>M10</td><td>1</td><td>250</td></tr><tr><td>| APU000074714 | 1980 |  M09   | 1.257 |           |</td><td> APU000074714 1980 M09 1 257 </td><td>APU000074714</td><td>1980</td><td>M09</td><td>1</td><td>257</td></tr><tr><td>| APU000074714 | 1980 |  M08   | 1.267 |           |</td><td> APU000074714 1980 M08 1 267 </td><td>APU000074714</td><td>1980</td><td>M08</td><td>1</td><td>267</td></tr><tr><td>| APU000074714 | 1980 |  M07   | 1.271 |           |</td><td> APU000074714 1980 M07 1 271 </td><td>APU000074714</td><td>1980</td><td>M07</td><td>1</td><td>271</td></tr><tr><td>| APU000074714 | 1980 |  M06   | 1.269 |           |</td><td> APU000074714 1980 M06 1 269 </td><td>APU000074714</td><td>1980</td><td>M06</td><td>1</td><td>269</td></tr><tr><td>| APU000074714 | 1980 |  M05   | 1.266 |           |</td><td> APU000074714 1980 M05 1 266 </td><td>APU000074714</td><td>1980</td><td>M05</td><td>1</td><td>266</td></tr><tr><td>| APU000074714 | 1980 |  M04   | 1.264 |           |</td><td> APU000074714 1980 M04 1 264 </td><td>APU000074714</td><td>1980</td><td>M04</td><td>1</td><td>264</td></tr><tr><td>| APU000074714 | 1980 |  M03   | 1.252 |           |</td><td> APU000074714 1980 M03 1 252 </td><td>APU000074714</td><td>1980</td><td>M03</td><td>1</td><td>252</td></tr><tr><td>| APU000074714 | 1980 |  M02   | 1.207 |           |</td><td> APU000074714 1980 M02 1 207 </td><td>APU000074714</td><td>1980</td><td>M02</td><td>1</td><td>207</td></tr><tr><td>| APU000074714 | 1980 |  M01   | 1.131 |           |</td><td> APU000074714 1980 M01 1 131 </td><td>APU000074714</td><td>1980</td><td>M01</td><td>1</td><td>131</td></tr><tr><td>| APU000074714 | 1979 |  M12   | 1.065 |           |</td><td> APU000074714 1979 M12 1 065 </td><td>APU000074714</td><td>1979</td><td>M12</td><td>1</td><td>065</td></tr><tr><td>| APU000074714 | 1979 |  M11   | 1.041 |           |</td><td> APU000074714 1979 M11 1 041 </td><td>APU000074714</td><td>1979</td><td>M11</td><td>1</td><td>041</td></tr><tr><td>| APU000074714 | 1979 |  M10   | 1.028 |           |</td><td> APU000074714 1979 M10 1 028 </td><td>APU000074714</td><td>1979</td><td>M10</td><td>1</td><td>028</td></tr><tr><td>| APU000074714 | 1979 |  M09   | 1.020 |           |</td><td> APU000074714 1979 M09 1 020 </td><td>APU000074714</td><td>1979</td><td>M09</td><td>1</td><td>020</td></tr><tr><td>| APU000074714 | 1979 |  M08   | 0.988 |           |</td><td> APU000074714 1979 M08 0 988 </td><td>APU000074714</td><td>1979</td><td>M08</td><td>0</td><td>988</td></tr><tr><td>| APU000074714 | 1979 |  M07   | 0.949 |           |</td><td> APU000074714 1979 M07 0 949 </td><td>APU000074714</td><td>1979</td><td>M07</td><td>0</td><td>949</td></tr><tr><td>| APU000074714 | 1979 |  M06   | 0.901 |           |</td><td> APU000074714 1979 M06 0 901 </td><td>APU000074714</td><td>1979</td><td>M06</td><td>0</td><td>901</td></tr><tr><td>| APU000074714 | 1979 |  M05   | 0.844 |           |</td><td> APU000074714 1979 M05 0 844 </td><td>APU000074714</td><td>1979</td><td>M05</td><td>0</td><td>844</td></tr><tr><td>| APU000074714 | 1979 |  M04   | 0.802 |           |</td><td> APU000074714 1979 M04 0 802 </td><td>APU000074714</td><td>1979</td><td>M04</td><td>0</td><td>802</td></tr><tr><td>| APU000074714 | 1979 |  M03   | 0.755 |           |</td><td> APU000074714 1979 M03 0 755 </td><td>APU000074714</td><td>1979</td><td>M03</td><td>0</td><td>755</td></tr><tr><td>| APU000074714 | 1979 |  M02   | 0.730 |           |</td><td> APU000074714 1979 M02 0 730 </td><td>APU000074714</td><td>1979</td><td>M02</td><td>0</td><td>730</td></tr><tr><td>| APU000074714 | 1979 |  M01   | 0.716 |           |</td><td> APU000074714 1979 M01 0 716 </td><td>APU000074714</td><td>1979</td><td>M01</td><td>0</td><td>716</td></tr><tr><td>| APU000074714 | 1978 |  M12   | 0.705 |           |</td><td> APU000074714 1978 M12 0 705 </td><td>APU000074714</td><td>1978</td><td>M12</td><td>0</td><td>705</td></tr><tr><td>| APU000074714 | 1978 |  M11   | 0.695 |           |</td><td> APU000074714 1978 M11 0 695 </td><td>APU000074714</td><td>1978</td><td>M11</td><td>0</td><td>695</td></tr><tr><td>| APU000074714 | 1978 |  M10   | 0.690 |           |</td><td> APU000074714 1978 M10 0 690 </td><td>APU000074714</td><td>1978</td><td>M10</td><td>0</td><td>690</td></tr><tr><td>| APU000074714 | 1978 |  M09   | 0.688 |           |</td><td> APU000074714 1978 M09 0 688 </td><td>APU000074714</td><td>1978</td><td>M09</td><td>0</td><td>688</td></tr><tr><td>| APU000074714 | 1978 |  M08   | 0.682 |           |</td><td> APU000074714 1978 M08 0 682 </td><td>APU000074714</td><td>1978</td><td>M08</td><td>0</td><td>682</td></tr><tr><td>| APU000074714 | 1978 |  M07   | 0.674 |           |</td><td> APU000074714 1978 M07 0 674 </td><td>APU000074714</td><td>1978</td><td>M07</td><td>0</td><td>674</td></tr><tr><td>| APU000074714 | 1978 |  M06   | 0.663 |           |</td><td> APU000074714 1978 M06 0 663 </td><td>APU000074714</td><td>1978</td><td>M06</td><td>0</td><td>663</td></tr><tr><td>| APU000074714 | 1978 |  M05   | 0.655 |           |</td><td> APU000074714 1978 M05 0 655 </td><td>APU000074714</td><td>1978</td><td>M05</td><td>0</td><td>655</td></tr><tr><td>| APU000074714 | 1978 |  M04   | 0.649 |           |</td><td> APU000074714 1978 M04 0 649 </td><td>APU000074714</td><td>1978</td><td>M04</td><td>0</td><td>649</td></tr><tr><td>| APU000074714 | 1978 |  M03   | 0.647 |           |</td><td> APU000074714 1978 M03 0 647 </td><td>APU000074714</td><td>1978</td><td>M03</td><td>0</td><td>647</td></tr><tr><td>| APU000074714 | 1978 |  M02   | 0.647 |           |</td><td> APU000074714 1978 M02 0 647 </td><td>APU000074714</td><td>1978</td><td>M02</td><td>0</td><td>647</td></tr><tr><td>| APU000074714 | 1978 |  M01   | 0.648 |           |</td><td> APU000074714 1978 M01 0 648 </td><td>APU000074714</td><td>1978</td><td>M01</td><td>0</td><td>648</td></tr><tr><td>| APU000074714 | 1977 |  M12   | 0.665 |           |</td><td> APU000074714 1977 M12 0 665 </td><td>APU000074714</td><td>1977</td><td>M12</td><td>0</td><td>665</td></tr></tbody></table></div>"
      ]
     },
     "metadata": {
      "application/vnd.databricks.v1+output": {
       "addedWidgets": {},
       "aggData": [],
       "aggError": "",
       "aggOverflow": false,
       "aggSchema": [],
       "aggSeriesLimitReached": false,
       "aggType": "",
       "arguments": {},
       "columnCustomDisplayInfos": {},
       "data": [
        [
         "+--------------+------+--------+-------+-----------+",
         " ",
         "",
         null,
         null,
         null,
         null
        ],
        [
         "|  series id   | year | period | value | footnotes |",
         " series id year period value footnotes ",
         "series",
         "id",
         "year",
         "period",
         "value"
        ],
        [
         "+--------------+------+--------+-------+-----------+",
         " ",
         "",
         null,
         null,
         null,
         null
        ],
        [
         "| APU000074714 | 1985 |  M12   | 1.208 |           |",
         " APU000074714 1985 M12 1 208 ",
         "APU000074714",
         "1985",
         "M12",
         "1",
         "208"
        ],
        [
         "| APU000074714 | 1985 |  M11   | 1.207 |           |",
         " APU000074714 1985 M11 1 207 ",
         "APU000074714",
         "1985",
         "M11",
         "1",
         "207"
        ],
        [
         "| APU000074714 | 1985 |  M10   | 1.204 |           |",
         " APU000074714 1985 M10 1 204 ",
         "APU000074714",
         "1985",
         "M10",
         "1",
         "204"
        ],
        [
         "| APU000074714 | 1985 |  M09   | 1.216 |           |",
         " APU000074714 1985 M09 1 216 ",
         "APU000074714",
         "1985",
         "M09",
         "1",
         "216"
        ],
        [
         "| APU000074714 | 1985 |  M08   | 1.229 |           |",
         " APU000074714 1985 M08 1 229 ",
         "APU000074714",
         "1985",
         "M08",
         "1",
         "229"
        ],
        [
         "| APU000074714 | 1985 |  M07   | 1.242 |           |",
         " APU000074714 1985 M07 1 242 ",
         "APU000074714",
         "1985",
         "M07",
         "1",
         "242"
        ],
        [
         "| APU000074714 | 1985 |  M06   | 1.241 |           |",
         " APU000074714 1985 M06 1 241 ",
         "APU000074714",
         "1985",
         "M06",
         "1",
         "241"
        ],
        [
         "| APU000074714 | 1985 |  M05   | 1.231 |           |",
         " APU000074714 1985 M05 1 231 ",
         "APU000074714",
         "1985",
         "M05",
         "1",
         "231"
        ],
        [
         "| APU000074714 | 1985 |  M04   | 1.205 |           |",
         " APU000074714 1985 M04 1 205 ",
         "APU000074714",
         "1985",
         "M04",
         "1",
         "205"
        ],
        [
         "| APU000074714 | 1985 |  M03   | 1.159 |           |",
         " APU000074714 1985 M03 1 159 ",
         "APU000074714",
         "1985",
         "M03",
         "1",
         "159"
        ],
        [
         "| APU000074714 | 1985 |  M02   | 1.131 |           |",
         " APU000074714 1985 M02 1 131 ",
         "APU000074714",
         "1985",
         "M02",
         "1",
         "131"
        ],
        [
         "| APU000074714 | 1985 |  M01   | 1.148 |           |",
         " APU000074714 1985 M01 1 148 ",
         "APU000074714",
         "1985",
         "M01",
         "1",
         "148"
        ],
        [
         "| APU000074714 | 1984 |  M12   | 1.193 |           |",
         " APU000074714 1984 M12 1 193 ",
         "APU000074714",
         "1984",
         "M12",
         "1",
         "193"
        ],
        [
         "| APU000074714 | 1984 |  M11   | 1.207 |           |",
         " APU000074714 1984 M11 1 207 ",
         "APU000074714",
         "1984",
         "M11",
         "1",
         "207"
        ],
        [
         "| APU000074714 | 1984 |  M10   | 1.209 |           |",
         " APU000074714 1984 M10 1 209 ",
         "APU000074714",
         "1984",
         "M10",
         "1",
         "209"
        ],
        [
         "| APU000074714 | 1984 |  M09   | 1.203 |           |",
         " APU000074714 1984 M09 1 203 ",
         "APU000074714",
         "1984",
         "M09",
         "1",
         "203"
        ],
        [
         "| APU000074714 | 1984 |  M08   | 1.196 |           |",
         " APU000074714 1984 M08 1 196 ",
         "APU000074714",
         "1984",
         "M08",
         "1",
         "196"
        ],
        [
         "| APU000074714 | 1984 |  M07   | 1.212 |           |",
         " APU000074714 1984 M07 1 212 ",
         "APU000074714",
         "1984",
         "M07",
         "1",
         "212"
        ],
        [
         "| APU000074714 | 1984 |  M06   | 1.229 |           |",
         " APU000074714 1984 M06 1 229 ",
         "APU000074714",
         "1984",
         "M06",
         "1",
         "229"
        ],
        [
         "| APU000074714 | 1984 |  M05   | 1.236 |           |",
         " APU000074714 1984 M05 1 236 ",
         "APU000074714",
         "1984",
         "M05",
         "1",
         "236"
        ],
        [
         "| APU000074714 | 1984 |  M04   | 1.227 |           |",
         " APU000074714 1984 M04 1 227 ",
         "APU000074714",
         "1984",
         "M04",
         "1",
         "227"
        ],
        [
         "| APU000074714 | 1984 |  M03   | 1.210 |           |",
         " APU000074714 1984 M03 1 210 ",
         "APU000074714",
         "1984",
         "M03",
         "1",
         "210"
        ],
        [
         "| APU000074714 | 1984 |  M02   | 1.209 |           |",
         " APU000074714 1984 M02 1 209 ",
         "APU000074714",
         "1984",
         "M02",
         "1",
         "209"
        ],
        [
         "| APU000074714 | 1984 |  M01   | 1.216 |           |",
         " APU000074714 1984 M01 1 216 ",
         "APU000074714",
         "1984",
         "M01",
         "1",
         "216"
        ],
        [
         "| APU000074714 | 1983 |  M12   | 1.231 |           |",
         " APU000074714 1983 M12 1 231 ",
         "APU000074714",
         "1983",
         "M12",
         "1",
         "231"
        ],
        [
         "| APU000074714 | 1983 |  M11   | 1.241 |           |",
         " APU000074714 1983 M11 1 241 ",
         "APU000074714",
         "1983",
         "M11",
         "1",
         "241"
        ],
        [
         "| APU000074714 | 1983 |  M10   | 1.255 |           |",
         " APU000074714 1983 M10 1 255 ",
         "APU000074714",
         "1983",
         "M10",
         "1",
         "255"
        ],
        [
         "| APU000074714 | 1983 |  M09   | 1.274 |           |",
         " APU000074714 1983 M09 1 274 ",
         "APU000074714",
         "1983",
         "M09",
         "1",
         "274"
        ],
        [
         "| APU000074714 | 1983 |  M08   | 1.285 |           |",
         " APU000074714 1983 M08 1 285 ",
         "APU000074714",
         "1983",
         "M08",
         "1",
         "285"
        ],
        [
         "| APU000074714 | 1983 |  M07   | 1.288 |           |",
         " APU000074714 1983 M07 1 288 ",
         "APU000074714",
         "1983",
         "M07",
         "1",
         "288"
        ],
        [
         "| APU000074714 | 1983 |  M06   | 1.277 |           |",
         " APU000074714 1983 M06 1 277 ",
         "APU000074714",
         "1983",
         "M06",
         "1",
         "277"
        ],
        [
         "| APU000074714 | 1983 |  M05   | 1.259 |           |",
         " APU000074714 1983 M05 1 259 ",
         "APU000074714",
         "1983",
         "M05",
         "1",
         "259"
        ],
        [
         "| APU000074714 | 1983 |  M04   | 1.215 |           |",
         " APU000074714 1983 M04 1 215 ",
         "APU000074714",
         "1983",
         "M04",
         "1",
         "215"
        ],
        [
         "| APU000074714 | 1983 |  M03   | 1.152 |           |",
         " APU000074714 1983 M03 1 152 ",
         "APU000074714",
         "1983",
         "M03",
         "1",
         "152"
        ],
        [
         "| APU000074714 | 1983 |  M02   | 1.187 |           |",
         " APU000074714 1983 M02 1 187 ",
         "APU000074714",
         "1983",
         "M02",
         "1",
         "187"
        ],
        [
         "| APU000074714 | 1983 |  M01   | 1.230 |           |",
         " APU000074714 1983 M01 1 230 ",
         "APU000074714",
         "1983",
         "M01",
         "1",
         "230"
        ],
        [
         "| APU000074714 | 1982 |  M12   | 1.260 |           |",
         " APU000074714 1982 M12 1 260 ",
         "APU000074714",
         "1982",
         "M12",
         "1",
         "260"
        ],
        [
         "| APU000074714 | 1982 |  M11   | 1.283 |           |",
         " APU000074714 1982 M11 1 283 ",
         "APU000074714",
         "1982",
         "M11",
         "1",
         "283"
        ],
        [
         "| APU000074714 | 1982 |  M10   | 1.295 |           |",
         " APU000074714 1982 M10 1 295 ",
         "APU000074714",
         "1982",
         "M10",
         "1",
         "295"
        ],
        [
         "| APU000074714 | 1982 |  M09   | 1.307 |           |",
         " APU000074714 1982 M09 1 307 ",
         "APU000074714",
         "1982",
         "M09",
         "1",
         "307"
        ],
        [
         "| APU000074714 | 1982 |  M08   | 1.323 |           |",
         " APU000074714 1982 M08 1 323 ",
         "APU000074714",
         "1982",
         "M08",
         "1",
         "323"
        ],
        [
         "| APU000074714 | 1982 |  M07   | 1.331 |           |",
         " APU000074714 1982 M07 1 331 ",
         "APU000074714",
         "1982",
         "M07",
         "1",
         "331"
        ],
        [
         "| APU000074714 | 1982 |  M06   | 1.309 |           |",
         " APU000074714 1982 M06 1 309 ",
         "APU000074714",
         "1982",
         "M06",
         "1",
         "309"
        ],
        [
         "| APU000074714 | 1982 |  M05   | 1.237 |           |",
         " APU000074714 1982 M05 1 237 ",
         "APU000074714",
         "1982",
         "M05",
         "1",
         "237"
        ],
        [
         "| APU000074714 | 1982 |  M04   | 1.225 |           |",
         " APU000074714 1982 M04 1 225 ",
         "APU000074714",
         "1982",
         "M04",
         "1",
         "225"
        ],
        [
         "| APU000074714 | 1982 |  M03   | 1.284 |           |",
         " APU000074714 1982 M03 1 284 ",
         "APU000074714",
         "1982",
         "M03",
         "1",
         "284"
        ],
        [
         "| APU000074714 | 1982 |  M02   | 1.334 |           |",
         " APU000074714 1982 M02 1 334 ",
         "APU000074714",
         "1982",
         "M02",
         "1",
         "334"
        ],
        [
         "| APU000074714 | 1982 |  M01   | 1.358 |           |",
         " APU000074714 1982 M01 1 358 ",
         "APU000074714",
         "1982",
         "M01",
         "1",
         "358"
        ],
        [
         "| APU000074714 | 1981 |  M12   | 1.365 |           |",
         " APU000074714 1981 M12 1 365 ",
         "APU000074714",
         "1981",
         "M12",
         "1",
         "365"
        ],
        [
         "| APU000074714 | 1981 |  M11   | 1.369 |           |",
         " APU000074714 1981 M11 1 369 ",
         "APU000074714",
         "1981",
         "M11",
         "1",
         "369"
        ],
        [
         "| APU000074714 | 1981 |  M10   | 1.371 |           |",
         " APU000074714 1981 M10 1 371 ",
         "APU000074714",
         "1981",
         "M10",
         "1",
         "371"
        ],
        [
         "| APU000074714 | 1981 |  M09   | 1.376 |           |",
         " APU000074714 1981 M09 1 376 ",
         "APU000074714",
         "1981",
         "M09",
         "1",
         "376"
        ],
        [
         "| APU000074714 | 1981 |  M08   | 1.376 |           |",
         " APU000074714 1981 M08 1 376 ",
         "APU000074714",
         "1981",
         "M08",
         "1",
         "376"
        ],
        [
         "| APU000074714 | 1981 |  M07   | 1.382 |           |",
         " APU000074714 1981 M07 1 382 ",
         "APU000074714",
         "1981",
         "M07",
         "1",
         "382"
        ],
        [
         "| APU000074714 | 1981 |  M06   | 1.391 |           |",
         " APU000074714 1981 M06 1 391 ",
         "APU000074714",
         "1981",
         "M06",
         "1",
         "391"
        ],
        [
         "| APU000074714 | 1981 |  M05   | 1.400 |           |",
         " APU000074714 1981 M05 1 400 ",
         "APU000074714",
         "1981",
         "M05",
         "1",
         "400"
        ],
        [
         "| APU000074714 | 1981 |  M04   | 1.412 |           |",
         " APU000074714 1981 M04 1 412 ",
         "APU000074714",
         "1981",
         "M04",
         "1",
         "412"
        ],
        [
         "| APU000074714 | 1981 |  M03   | 1.417 |           |",
         " APU000074714 1981 M03 1 417 ",
         "APU000074714",
         "1981",
         "M03",
         "1",
         "417"
        ],
        [
         "| APU000074714 | 1981 |  M02   | 1.382 |           |",
         " APU000074714 1981 M02 1 382 ",
         "APU000074714",
         "1981",
         "M02",
         "1",
         "382"
        ],
        [
         "| APU000074714 | 1981 |  M01   | 1.298 |           |",
         " APU000074714 1981 M01 1 298 ",
         "APU000074714",
         "1981",
         "M01",
         "1",
         "298"
        ],
        [
         "| APU000074714 | 1980 |  M12   | 1.258 |           |",
         " APU000074714 1980 M12 1 258 ",
         "APU000074714",
         "1980",
         "M12",
         "1",
         "258"
        ],
        [
         "| APU000074714 | 1980 |  M11   | 1.250 |           |",
         " APU000074714 1980 M11 1 250 ",
         "APU000074714",
         "1980",
         "M11",
         "1",
         "250"
        ],
        [
         "| APU000074714 | 1980 |  M10   | 1.250 |           |",
         " APU000074714 1980 M10 1 250 ",
         "APU000074714",
         "1980",
         "M10",
         "1",
         "250"
        ],
        [
         "| APU000074714 | 1980 |  M09   | 1.257 |           |",
         " APU000074714 1980 M09 1 257 ",
         "APU000074714",
         "1980",
         "M09",
         "1",
         "257"
        ],
        [
         "| APU000074714 | 1980 |  M08   | 1.267 |           |",
         " APU000074714 1980 M08 1 267 ",
         "APU000074714",
         "1980",
         "M08",
         "1",
         "267"
        ],
        [
         "| APU000074714 | 1980 |  M07   | 1.271 |           |",
         " APU000074714 1980 M07 1 271 ",
         "APU000074714",
         "1980",
         "M07",
         "1",
         "271"
        ],
        [
         "| APU000074714 | 1980 |  M06   | 1.269 |           |",
         " APU000074714 1980 M06 1 269 ",
         "APU000074714",
         "1980",
         "M06",
         "1",
         "269"
        ],
        [
         "| APU000074714 | 1980 |  M05   | 1.266 |           |",
         " APU000074714 1980 M05 1 266 ",
         "APU000074714",
         "1980",
         "M05",
         "1",
         "266"
        ],
        [
         "| APU000074714 | 1980 |  M04   | 1.264 |           |",
         " APU000074714 1980 M04 1 264 ",
         "APU000074714",
         "1980",
         "M04",
         "1",
         "264"
        ],
        [
         "| APU000074714 | 1980 |  M03   | 1.252 |           |",
         " APU000074714 1980 M03 1 252 ",
         "APU000074714",
         "1980",
         "M03",
         "1",
         "252"
        ],
        [
         "| APU000074714 | 1980 |  M02   | 1.207 |           |",
         " APU000074714 1980 M02 1 207 ",
         "APU000074714",
         "1980",
         "M02",
         "1",
         "207"
        ],
        [
         "| APU000074714 | 1980 |  M01   | 1.131 |           |",
         " APU000074714 1980 M01 1 131 ",
         "APU000074714",
         "1980",
         "M01",
         "1",
         "131"
        ],
        [
         "| APU000074714 | 1979 |  M12   | 1.065 |           |",
         " APU000074714 1979 M12 1 065 ",
         "APU000074714",
         "1979",
         "M12",
         "1",
         "065"
        ],
        [
         "| APU000074714 | 1979 |  M11   | 1.041 |           |",
         " APU000074714 1979 M11 1 041 ",
         "APU000074714",
         "1979",
         "M11",
         "1",
         "041"
        ],
        [
         "| APU000074714 | 1979 |  M10   | 1.028 |           |",
         " APU000074714 1979 M10 1 028 ",
         "APU000074714",
         "1979",
         "M10",
         "1",
         "028"
        ],
        [
         "| APU000074714 | 1979 |  M09   | 1.020 |           |",
         " APU000074714 1979 M09 1 020 ",
         "APU000074714",
         "1979",
         "M09",
         "1",
         "020"
        ],
        [
         "| APU000074714 | 1979 |  M08   | 0.988 |           |",
         " APU000074714 1979 M08 0 988 ",
         "APU000074714",
         "1979",
         "M08",
         "0",
         "988"
        ],
        [
         "| APU000074714 | 1979 |  M07   | 0.949 |           |",
         " APU000074714 1979 M07 0 949 ",
         "APU000074714",
         "1979",
         "M07",
         "0",
         "949"
        ],
        [
         "| APU000074714 | 1979 |  M06   | 0.901 |           |",
         " APU000074714 1979 M06 0 901 ",
         "APU000074714",
         "1979",
         "M06",
         "0",
         "901"
        ],
        [
         "| APU000074714 | 1979 |  M05   | 0.844 |           |",
         " APU000074714 1979 M05 0 844 ",
         "APU000074714",
         "1979",
         "M05",
         "0",
         "844"
        ],
        [
         "| APU000074714 | 1979 |  M04   | 0.802 |           |",
         " APU000074714 1979 M04 0 802 ",
         "APU000074714",
         "1979",
         "M04",
         "0",
         "802"
        ],
        [
         "| APU000074714 | 1979 |  M03   | 0.755 |           |",
         " APU000074714 1979 M03 0 755 ",
         "APU000074714",
         "1979",
         "M03",
         "0",
         "755"
        ],
        [
         "| APU000074714 | 1979 |  M02   | 0.730 |           |",
         " APU000074714 1979 M02 0 730 ",
         "APU000074714",
         "1979",
         "M02",
         "0",
         "730"
        ],
        [
         "| APU000074714 | 1979 |  M01   | 0.716 |           |",
         " APU000074714 1979 M01 0 716 ",
         "APU000074714",
         "1979",
         "M01",
         "0",
         "716"
        ],
        [
         "| APU000074714 | 1978 |  M12   | 0.705 |           |",
         " APU000074714 1978 M12 0 705 ",
         "APU000074714",
         "1978",
         "M12",
         "0",
         "705"
        ],
        [
         "| APU000074714 | 1978 |  M11   | 0.695 |           |",
         " APU000074714 1978 M11 0 695 ",
         "APU000074714",
         "1978",
         "M11",
         "0",
         "695"
        ],
        [
         "| APU000074714 | 1978 |  M10   | 0.690 |           |",
         " APU000074714 1978 M10 0 690 ",
         "APU000074714",
         "1978",
         "M10",
         "0",
         "690"
        ],
        [
         "| APU000074714 | 1978 |  M09   | 0.688 |           |",
         " APU000074714 1978 M09 0 688 ",
         "APU000074714",
         "1978",
         "M09",
         "0",
         "688"
        ],
        [
         "| APU000074714 | 1978 |  M08   | 0.682 |           |",
         " APU000074714 1978 M08 0 682 ",
         "APU000074714",
         "1978",
         "M08",
         "0",
         "682"
        ],
        [
         "| APU000074714 | 1978 |  M07   | 0.674 |           |",
         " APU000074714 1978 M07 0 674 ",
         "APU000074714",
         "1978",
         "M07",
         "0",
         "674"
        ],
        [
         "| APU000074714 | 1978 |  M06   | 0.663 |           |",
         " APU000074714 1978 M06 0 663 ",
         "APU000074714",
         "1978",
         "M06",
         "0",
         "663"
        ],
        [
         "| APU000074714 | 1978 |  M05   | 0.655 |           |",
         " APU000074714 1978 M05 0 655 ",
         "APU000074714",
         "1978",
         "M05",
         "0",
         "655"
        ],
        [
         "| APU000074714 | 1978 |  M04   | 0.649 |           |",
         " APU000074714 1978 M04 0 649 ",
         "APU000074714",
         "1978",
         "M04",
         "0",
         "649"
        ],
        [
         "| APU000074714 | 1978 |  M03   | 0.647 |           |",
         " APU000074714 1978 M03 0 647 ",
         "APU000074714",
         "1978",
         "M03",
         "0",
         "647"
        ],
        [
         "| APU000074714 | 1978 |  M02   | 0.647 |           |",
         " APU000074714 1978 M02 0 647 ",
         "APU000074714",
         "1978",
         "M02",
         "0",
         "647"
        ],
        [
         "| APU000074714 | 1978 |  M01   | 0.648 |           |",
         " APU000074714 1978 M01 0 648 ",
         "APU000074714",
         "1978",
         "M01",
         "0",
         "648"
        ],
        [
         "| APU000074714 | 1977 |  M12   | 0.665 |           |",
         " APU000074714 1977 M12 0 665 ",
         "APU000074714",
         "1977",
         "M12",
         "0",
         "665"
        ]
       ],
       "datasetInfos": [],
       "dbfsResultPath": null,
       "isJsonSchema": true,
       "metadata": {},
       "overflow": false,
       "plotOptions": {
        "customPlotOptions": {},
        "displayType": "table",
        "pivotAggregation": null,
        "pivotColumns": null,
        "xColumns": null,
        "yColumns": null
       },
       "removedWidgets": [],
       "schema": [
        {
         "metadata": "{}",
         "name": "value",
         "type": "\"string\""
        },
        {
         "metadata": "{}",
         "name": "split_value",
         "type": "\"string\""
        },
        {
         "metadata": "{}",
         "name": "seriesId",
         "type": "\"string\""
        },
        {
         "metadata": "{}",
         "name": "year",
         "type": "\"string\""
        },
        {
         "metadata": "{}",
         "name": "month",
         "type": "\"string\""
        },
        {
         "metadata": "{}",
         "name": "whole_value",
         "type": "\"string\""
        },
        {
         "metadata": "{}",
         "name": "decimal_value",
         "type": "\"string\""
        }
       ],
       "type": "table"
      }
     },
     "output_type": "display_data"
    }
   ],
   "source": [
    "#Remove special characters from each row and replace with space\n",
    "gas_price_chars_removed = gas_price.select(gas_price.value, regexp_replace(gas_price.value, r'\\W+', ' ').alias(\"split_value\")) \n",
    "gas_price_columns_split = gas_price_chars_removed.withColumn(\"seriesId\", split(gas_price_chars_removed.split_value, \" \").getItem(1)).withColumn(\"year\", split(gas_price_chars_removed.split_value, \" \").getItem(2)).withColumn(\"month\", split(gas_price_chars_removed.split_value, \" \").\n",
    "#split everything into it's own column                                                                                                                                                                                                                              \n",
    "getItem(3)).withColumn(\"whole_value\", split(gas_price_chars_removed.split_value, \" \").getItem(4)).withColumn(\"decimal_value\", split(gas_price_chars_removed.split_value, \" \").getItem(5)) \n",
    "display(gas_price_columns_split.take(100))\n"
   ]
  },
  {
   "cell_type": "code",
   "execution_count": 0,
   "metadata": {
    "application/vnd.databricks.v1+cell": {
     "cellMetadata": {
      "byteLimit": 2048000,
      "rowLimit": 10000
     },
     "inputWidgets": {},
     "nuid": "bad94020-fb6d-4de8-8442-24343187168e",
     "showTitle": false,
     "title": ""
    }
   },
   "outputs": [
    {
     "output_type": "display_data",
     "data": {
      "text/html": [
       "<style scoped>\n",
       "  .table-result-container {\n",
       "    max-height: 300px;\n",
       "    overflow: auto;\n",
       "  }\n",
       "  table, th, td {\n",
       "    border: 1px solid black;\n",
       "    border-collapse: collapse;\n",
       "  }\n",
       "  th, td {\n",
       "    padding: 5px;\n",
       "  }\n",
       "  th {\n",
       "    text-align: left;\n",
       "  }\n",
       "</style><div class='table-result-container'><table class='table-result'><thead style='background-color: white'><tr><th>seriesId</th><th>year</th><th>month</th><th>whole_value</th><th>decimal_value</th></tr></thead><tbody><tr><td></td><td>null</td><td>null</td><td>null</td><td>null</td></tr><tr><td>series</td><td>id</td><td>year</td><td>period</td><td>value</td></tr><tr><td></td><td>null</td><td>null</td><td>null</td><td>null</td></tr><tr><td>APU000074714</td><td>1985</td><td>M12</td><td>1</td><td>208</td></tr><tr><td>APU000074714</td><td>1985</td><td>M11</td><td>1</td><td>207</td></tr><tr><td>APU000074714</td><td>1985</td><td>M10</td><td>1</td><td>204</td></tr><tr><td>APU000074714</td><td>1985</td><td>M09</td><td>1</td><td>216</td></tr><tr><td>APU000074714</td><td>1985</td><td>M08</td><td>1</td><td>229</td></tr><tr><td>APU000074714</td><td>1985</td><td>M07</td><td>1</td><td>242</td></tr><tr><td>APU000074714</td><td>1985</td><td>M06</td><td>1</td><td>241</td></tr></tbody></table></div>"
      ]
     },
     "metadata": {
      "application/vnd.databricks.v1+output": {
       "addedWidgets": {},
       "aggData": [],
       "aggError": "",
       "aggOverflow": false,
       "aggSchema": [],
       "aggSeriesLimitReached": false,
       "aggType": "",
       "arguments": {},
       "columnCustomDisplayInfos": {},
       "data": [
        [
         "",
         null,
         null,
         null,
         null
        ],
        [
         "series",
         "id",
         "year",
         "period",
         "value"
        ],
        [
         "",
         null,
         null,
         null,
         null
        ],
        [
         "APU000074714",
         "1985",
         "M12",
         "1",
         "208"
        ],
        [
         "APU000074714",
         "1985",
         "M11",
         "1",
         "207"
        ],
        [
         "APU000074714",
         "1985",
         "M10",
         "1",
         "204"
        ],
        [
         "APU000074714",
         "1985",
         "M09",
         "1",
         "216"
        ],
        [
         "APU000074714",
         "1985",
         "M08",
         "1",
         "229"
        ],
        [
         "APU000074714",
         "1985",
         "M07",
         "1",
         "242"
        ],
        [
         "APU000074714",
         "1985",
         "M06",
         "1",
         "241"
        ]
       ],
       "datasetInfos": [],
       "dbfsResultPath": null,
       "isJsonSchema": true,
       "metadata": {},
       "overflow": false,
       "plotOptions": {
        "customPlotOptions": {},
        "displayType": "table",
        "pivotAggregation": null,
        "pivotColumns": null,
        "xColumns": null,
        "yColumns": null
       },
       "removedWidgets": [],
       "schema": [
        {
         "metadata": "{}",
         "name": "seriesId",
         "type": "\"string\""
        },
        {
         "metadata": "{}",
         "name": "year",
         "type": "\"string\""
        },
        {
         "metadata": "{}",
         "name": "month",
         "type": "\"string\""
        },
        {
         "metadata": "{}",
         "name": "whole_value",
         "type": "\"string\""
        },
        {
         "metadata": "{}",
         "name": "decimal_value",
         "type": "\"string\""
        }
       ],
       "type": "table"
      }
     },
     "output_type": "display_data"
    }
   ],
   "source": [
    "#Drop the original column(value column) from the dataframe\n",
    "gas_price_columns_split_updated_cols = gas_price_columns_split.drop(gas_price_columns_split.value) \n",
    "#Drop split_value column from the dataframe\n",
    "gas_price_columns_split_updated_cols2 = gas_price_columns_split_updated_cols.drop(gas_price_columns_split_updated_cols.split_value) \n",
    "display(gas_price_columns_split_updated_cols2.take(10))\n",
    "\n"
   ]
  },
  {
   "cell_type": "code",
   "execution_count": 0,
   "metadata": {
    "application/vnd.databricks.v1+cell": {
     "cellMetadata": {
      "byteLimit": 2048000,
      "rowLimit": 10000
     },
     "inputWidgets": {},
     "nuid": "5c442262-cde4-46d0-a9bf-449dfca4b7a7",
     "showTitle": false,
     "title": ""
    }
   },
   "outputs": [
    {
     "output_type": "stream",
     "name": "stdout",
     "output_type": "stream",
     "text": [
      "+------------+----+-----+-----------+-------------+\n|    seriesId|year|month|whole_value|decimal_value|\n+------------+----+-----+-----------+-------------+\n|      series|  id| year|     period|        value|\n|APU000074714|1985|  M12|          1|          208|\n|APU000074714|1985|  M11|          1|          207|\n|APU000074714|1985|  M10|          1|          204|\n|APU000074714|1985|  M09|          1|          216|\n|APU000074714|1985|  M08|          1|          229|\n|APU000074714|1985|  M07|          1|          242|\n|APU000074714|1985|  M06|          1|          241|\n|APU000074714|1985|  M05|          1|          231|\n|APU000074714|1985|  M04|          1|          205|\n|APU000074714|1985|  M03|          1|          159|\n|APU000074714|1985|  M02|          1|          131|\n|APU000074714|1985|  M01|          1|          148|\n|APU000074714|1984|  M12|          1|          193|\n|APU000074714|1984|  M11|          1|          207|\n|APU000074714|1984|  M10|          1|          209|\n|APU000074714|1984|  M09|          1|          203|\n|APU000074714|1984|  M08|          1|          196|\n|APU000074714|1984|  M07|          1|          212|\n|APU000074714|1984|  M06|          1|          229|\n+------------+----+-----+-----------+-------------+\nonly showing top 20 rows\n\n+------------+----+-----+-----------+-------------+\n|    seriesId|year|month|whole_value|decimal_value|\n+------------+----+-----+-----------+-------------+\n|APU000074714|1985|  M12|          1|          208|\n|APU000074714|1985|  M11|          1|          207|\n|APU000074714|1985|  M10|          1|          204|\n|APU000074714|1985|  M09|          1|          216|\n|APU000074714|1985|  M08|          1|          229|\n|APU000074714|1985|  M07|          1|          242|\n|APU000074714|1985|  M06|          1|          241|\n|APU000074714|1985|  M05|          1|          231|\n|APU000074714|1985|  M04|          1|          205|\n|APU000074714|1985|  M03|          1|          159|\n|APU000074714|1985|  M02|          1|          131|\n|APU000074714|1985|  M01|          1|          148|\n|APU000074714|1984|  M12|          1|          193|\n|APU000074714|1984|  M11|          1|          207|\n|APU000074714|1984|  M10|          1|          209|\n|APU000074714|1984|  M09|          1|          203|\n|APU000074714|1984|  M08|          1|          196|\n|APU000074714|1984|  M07|          1|          212|\n|APU000074714|1984|  M06|          1|          229|\n|APU000074714|1984|  M05|          1|          236|\n+------------+----+-----+-----------+-------------+\nonly showing top 20 rows\n\n"
     ]
    }
   ],
   "source": [
    "#Drop any column that doesn't have any values\n",
    "df_gas_price_null_value_removed = gas_price_columns_split_updated_cols2.na.drop() \n",
    "df_gas_price_null_value_removed.show()\n",
    "#remove the first column of the dataframe because it contins strings\n",
    "df_gas_price_null_value_removed_new = spark.createDataFrame(df_gas_price_null_value_removed.tail(df_gas_price_null_value_removed.count()-1), df_gas_price_null_value_removed.schema) \n",
    "df_gas_price_null_value_removed_new.show()\n"
   ]
  },
  {
   "cell_type": "code",
   "execution_count": 0,
   "metadata": {
    "application/vnd.databricks.v1+cell": {
     "cellMetadata": {
      "byteLimit": 2048000,
      "rowLimit": 10000
     },
     "inputWidgets": {},
     "nuid": "7f897f3d-4c38-4c31-88a9-06d05ca9269c",
     "showTitle": false,
     "title": ""
    }
   },
   "outputs": [
    {
     "output_type": "stream",
     "name": "stdout",
     "output_type": "stream",
     "text": [
      "+------------+----+-----+-----------+-------------+------------+\n|    seriesId|year|month|whole_value|decimal_value|actual_value|\n+------------+----+-----+-----------+-------------+------------+\n|APU000074714|1985|  M12|          1|          208|       1.208|\n|APU000074714|1985|  M11|          1|          207|       1.207|\n|APU000074714|1985|  M10|          1|          204|       1.204|\n|APU000074714|1985|  M09|          1|          216|       1.216|\n|APU000074714|1985|  M08|          1|          229|       1.229|\n|APU000074714|1985|  M07|          1|          242|       1.242|\n|APU000074714|1985|  M06|          1|          241|       1.241|\n|APU000074714|1985|  M05|          1|          231|       1.231|\n|APU000074714|1985|  M04|          1|          205|       1.205|\n|APU000074714|1985|  M03|          1|          159|       1.159|\n|APU000074714|1985|  M02|          1|          131|       1.131|\n|APU000074714|1985|  M01|          1|          148|       1.148|\n|APU000074714|1984|  M12|          1|          193|       1.193|\n|APU000074714|1984|  M11|          1|          207|       1.207|\n|APU000074714|1984|  M10|          1|          209|       1.209|\n|APU000074714|1984|  M09|          1|          203|       1.203|\n|APU000074714|1984|  M08|          1|          196|       1.196|\n|APU000074714|1984|  M07|          1|          212|       1.212|\n|APU000074714|1984|  M06|          1|          229|       1.229|\n|APU000074714|1984|  M05|          1|          236|       1.236|\n+------------+----+-----+-----------+-------------+------------+\nonly showing top 20 rows\n\n"
     ]
    }
   ],
   "source": [
    "#merge the whole_value and decimal_value to form the original price\n",
    "df_gas_price_null_value_removed_new_combine_values = df_gas_price_null_value_removed_new.withColumn(\"actual_value\", concat_ws('.', df_gas_price_null_value_removed_new.whole_value, df_gas_price_null_value_removed_new.decimal_value))\n",
    "df_gas_price_null_value_removed_new_combine_values.show()"
   ]
  },
  {
   "cell_type": "markdown",
   "metadata": {
    "application/vnd.databricks.v1+cell": {
     "cellMetadata": {
      "byteLimit": 2048000,
      "rowLimit": 10000
     },
     "inputWidgets": {},
     "nuid": "684b770f-36e9-419d-b0e9-0d08c317863b",
     "showTitle": false,
     "title": ""
    }
   },
   "source": [
    "#### Formating of the all items price data by removing nulls, spliting and merging the columns to make a usable dataframe"
   ]
  },
  {
   "cell_type": "code",
   "execution_count": 0,
   "metadata": {
    "application/vnd.databricks.v1+cell": {
     "cellMetadata": {
      "byteLimit": 2048000,
      "rowLimit": 10000
     },
     "inputWidgets": {},
     "nuid": "c8539936-930a-4958-a4f0-5d06f33a8a47",
     "showTitle": false,
     "title": ""
    }
   },
   "outputs": [
    {
     "output_type": "display_data",
     "data": {
      "text/html": [
       "<style scoped>\n",
       "  .table-result-container {\n",
       "    max-height: 300px;\n",
       "    overflow: auto;\n",
       "  }\n",
       "  table, th, td {\n",
       "    border: 1px solid black;\n",
       "    border-collapse: collapse;\n",
       "  }\n",
       "  th, td {\n",
       "    padding: 5px;\n",
       "  }\n",
       "  th {\n",
       "    text-align: left;\n",
       "  }\n",
       "</style><div class='table-result-container'><table class='table-result'><thead style='background-color: white'><tr><th>value</th><th>split_value</th><th>seriesId</th><th>year</th><th>month</th><th>whole_value</th><th>decimal_value</th></tr></thead><tbody><tr><td>+-------------+------+--------+-------+-----------+</td><td> </td><td></td><td>null</td><td>null</td><td>null</td><td>null</td></tr><tr><td>|  series id  | year | period | value | footnotes |</td><td> series id year period value footnotes </td><td>series</td><td>id</td><td>year</td><td>period</td><td>value</td></tr><tr><td>+-------------+------+--------+-------+-----------+</td><td> </td><td></td><td>null</td><td>null</td><td>null</td><td>null</td></tr><tr><td>| CUSR0000SA0 | 1956 |  M12   | 27.63 |           |</td><td> CUSR0000SA0 1956 M12 27 63 </td><td>CUSR0000SA0</td><td>1956</td><td>M12</td><td>27</td><td>63</td></tr><tr><td>| CUSR0000SA0 | 1956 |  M11   | 27.51 |           |</td><td> CUSR0000SA0 1956 M11 27 51 </td><td>CUSR0000SA0</td><td>1956</td><td>M11</td><td>27</td><td>51</td></tr><tr><td>| CUSR0000SA0 | 1956 |  M10   | 27.51 |           |</td><td> CUSR0000SA0 1956 M10 27 51 </td><td>CUSR0000SA0</td><td>1956</td><td>M10</td><td>27</td><td>51</td></tr><tr><td>| CUSR0000SA0 | 1956 |  M09   | 27.35 |           |</td><td> CUSR0000SA0 1956 M09 27 35 </td><td>CUSR0000SA0</td><td>1956</td><td>M09</td><td>27</td><td>35</td></tr><tr><td>| CUSR0000SA0 | 1956 |  M08   | 27.31 |           |</td><td> CUSR0000SA0 1956 M08 27 31 </td><td>CUSR0000SA0</td><td>1956</td><td>M08</td><td>27</td><td>31</td></tr><tr><td>| CUSR0000SA0 | 1956 |  M07   | 27.29 |           |</td><td> CUSR0000SA0 1956 M07 27 29 </td><td>CUSR0000SA0</td><td>1956</td><td>M07</td><td>27</td><td>29</td></tr><tr><td>| CUSR0000SA0 | 1956 |  M06   | 27.15 |           |</td><td> CUSR0000SA0 1956 M06 27 15 </td><td>CUSR0000SA0</td><td>1956</td><td>M06</td><td>27</td><td>15</td></tr><tr><td>| CUSR0000SA0 | 1956 |  M05   | 27.03 |           |</td><td> CUSR0000SA0 1956 M05 27 03 </td><td>CUSR0000SA0</td><td>1956</td><td>M05</td><td>27</td><td>03</td></tr><tr><td>| CUSR0000SA0 | 1956 |  M04   | 26.93 |           |</td><td> CUSR0000SA0 1956 M04 26 93 </td><td>CUSR0000SA0</td><td>1956</td><td>M04</td><td>26</td><td>93</td></tr><tr><td>| CUSR0000SA0 | 1956 |  M03   | 26.89 |           |</td><td> CUSR0000SA0 1956 M03 26 89 </td><td>CUSR0000SA0</td><td>1956</td><td>M03</td><td>26</td><td>89</td></tr><tr><td>| CUSR0000SA0 | 1956 |  M02   | 26.86 |           |</td><td> CUSR0000SA0 1956 M02 26 86 </td><td>CUSR0000SA0</td><td>1956</td><td>M02</td><td>26</td><td>86</td></tr><tr><td>| CUSR0000SA0 | 1956 |  M01   | 26.83 |           |</td><td> CUSR0000SA0 1956 M01 26 83 </td><td>CUSR0000SA0</td><td>1956</td><td>M01</td><td>26</td><td>83</td></tr><tr><td>| CUSR0000SA0 | 1955 |  M12   | 26.87 |           |</td><td> CUSR0000SA0 1955 M12 26 87 </td><td>CUSR0000SA0</td><td>1955</td><td>M12</td><td>26</td><td>87</td></tr><tr><td>| CUSR0000SA0 | 1955 |  M11   | 26.88 |           |</td><td> CUSR0000SA0 1955 M11 26 88 </td><td>CUSR0000SA0</td><td>1955</td><td>M11</td><td>26</td><td>88</td></tr><tr><td>| CUSR0000SA0 | 1955 |  M10   | 26.82 |           |</td><td> CUSR0000SA0 1955 M10 26 82 </td><td>CUSR0000SA0</td><td>1955</td><td>M10</td><td>26</td><td>82</td></tr><tr><td>| CUSR0000SA0 | 1955 |  M09   | 26.85 |           |</td><td> CUSR0000SA0 1955 M09 26 85 </td><td>CUSR0000SA0</td><td>1955</td><td>M09</td><td>26</td><td>85</td></tr><tr><td>| CUSR0000SA0 | 1955 |  M08   | 26.72 |           |</td><td> CUSR0000SA0 1955 M08 26 72 </td><td>CUSR0000SA0</td><td>1955</td><td>M08</td><td>26</td><td>72</td></tr><tr><td>| CUSR0000SA0 | 1955 |  M07   | 26.76 |           |</td><td> CUSR0000SA0 1955 M07 26 76 </td><td>CUSR0000SA0</td><td>1955</td><td>M07</td><td>26</td><td>76</td></tr><tr><td>| CUSR0000SA0 | 1955 |  M06   | 26.71 |           |</td><td> CUSR0000SA0 1955 M06 26 71 </td><td>CUSR0000SA0</td><td>1955</td><td>M06</td><td>26</td><td>71</td></tr><tr><td>| CUSR0000SA0 | 1955 |  M05   | 26.77 |           |</td><td> CUSR0000SA0 1955 M05 26 77 </td><td>CUSR0000SA0</td><td>1955</td><td>M05</td><td>26</td><td>77</td></tr><tr><td>| CUSR0000SA0 | 1955 |  M04   | 26.79 |           |</td><td> CUSR0000SA0 1955 M04 26 79 </td><td>CUSR0000SA0</td><td>1955</td><td>M04</td><td>26</td><td>79</td></tr><tr><td>| CUSR0000SA0 | 1955 |  M03   | 26.79 |           |</td><td> CUSR0000SA0 1955 M03 26 79 </td><td>CUSR0000SA0</td><td>1955</td><td>M03</td><td>26</td><td>79</td></tr><tr><td>| CUSR0000SA0 | 1955 |  M02   | 26.82 |           |</td><td> CUSR0000SA0 1955 M02 26 82 </td><td>CUSR0000SA0</td><td>1955</td><td>M02</td><td>26</td><td>82</td></tr><tr><td>| CUSR0000SA0 | 1955 |  M01   | 26.77 |           |</td><td> CUSR0000SA0 1955 M01 26 77 </td><td>CUSR0000SA0</td><td>1955</td><td>M01</td><td>26</td><td>77</td></tr><tr><td>| CUSR0000SA0 | 1954 |  M12   | 26.77 |           |</td><td> CUSR0000SA0 1954 M12 26 77 </td><td>CUSR0000SA0</td><td>1954</td><td>M12</td><td>26</td><td>77</td></tr><tr><td>| CUSR0000SA0 | 1954 |  M11   | 26.78 |           |</td><td> CUSR0000SA0 1954 M11 26 78 </td><td>CUSR0000SA0</td><td>1954</td><td>M11</td><td>26</td><td>78</td></tr><tr><td>| CUSR0000SA0 | 1954 |  M10   | 26.72 |           |</td><td> CUSR0000SA0 1954 M10 26 72 </td><td>CUSR0000SA0</td><td>1954</td><td>M10</td><td>26</td><td>72</td></tr><tr><td>| CUSR0000SA0 | 1954 |  M09   | 26.81 |           |</td><td> CUSR0000SA0 1954 M09 26 81 </td><td>CUSR0000SA0</td><td>1954</td><td>M09</td><td>26</td><td>81</td></tr><tr><td>| CUSR0000SA0 | 1954 |  M08   | 26.85 |           |</td><td> CUSR0000SA0 1954 M08 26 85 </td><td>CUSR0000SA0</td><td>1954</td><td>M08</td><td>26</td><td>85</td></tr><tr><td>| CUSR0000SA0 | 1954 |  M07   | 26.86 |           |</td><td> CUSR0000SA0 1954 M07 26 86 </td><td>CUSR0000SA0</td><td>1954</td><td>M07</td><td>26</td><td>86</td></tr><tr><td>| CUSR0000SA0 | 1954 |  M06   | 26.94 |           |</td><td> CUSR0000SA0 1954 M06 26 94 </td><td>CUSR0000SA0</td><td>1954</td><td>M06</td><td>26</td><td>94</td></tr><tr><td>| CUSR0000SA0 | 1954 |  M05   | 26.93 |           |</td><td> CUSR0000SA0 1954 M05 26 93 </td><td>CUSR0000SA0</td><td>1954</td><td>M05</td><td>26</td><td>93</td></tr><tr><td>| CUSR0000SA0 | 1954 |  M04   | 26.86 |           |</td><td> CUSR0000SA0 1954 M04 26 86 </td><td>CUSR0000SA0</td><td>1954</td><td>M04</td><td>26</td><td>86</td></tr><tr><td>| CUSR0000SA0 | 1954 |  M03   | 26.93 |           |</td><td> CUSR0000SA0 1954 M03 26 93 </td><td>CUSR0000SA0</td><td>1954</td><td>M03</td><td>26</td><td>93</td></tr><tr><td>| CUSR0000SA0 | 1954 |  M02   | 26.99 |           |</td><td> CUSR0000SA0 1954 M02 26 99 </td><td>CUSR0000SA0</td><td>1954</td><td>M02</td><td>26</td><td>99</td></tr><tr><td>| CUSR0000SA0 | 1954 |  M01   | 26.94 |           |</td><td> CUSR0000SA0 1954 M01 26 94 </td><td>CUSR0000SA0</td><td>1954</td><td>M01</td><td>26</td><td>94</td></tr><tr><td>| CUSR0000SA0 | 1953 |  M12   | 26.87 |           |</td><td> CUSR0000SA0 1953 M12 26 87 </td><td>CUSR0000SA0</td><td>1953</td><td>M12</td><td>26</td><td>87</td></tr><tr><td>| CUSR0000SA0 | 1953 |  M11   | 26.85 |           |</td><td> CUSR0000SA0 1953 M11 26 85 </td><td>CUSR0000SA0</td><td>1953</td><td>M11</td><td>26</td><td>85</td></tr><tr><td>| CUSR0000SA0 | 1953 |  M10   | 26.95 |           |</td><td> CUSR0000SA0 1953 M10 26 95 </td><td>CUSR0000SA0</td><td>1953</td><td>M10</td><td>26</td><td>95</td></tr><tr><td>| CUSR0000SA0 | 1953 |  M09   | 26.89 |           |</td><td> CUSR0000SA0 1953 M09 26 89 </td><td>CUSR0000SA0</td><td>1953</td><td>M09</td><td>26</td><td>89</td></tr><tr><td>| CUSR0000SA0 | 1953 |  M08   | 26.85 |           |</td><td> CUSR0000SA0 1953 M08 26 85 </td><td>CUSR0000SA0</td><td>1953</td><td>M08</td><td>26</td><td>85</td></tr><tr><td>| CUSR0000SA0 | 1953 |  M07   | 26.79 |           |</td><td> CUSR0000SA0 1953 M07 26 79 </td><td>CUSR0000SA0</td><td>1953</td><td>M07</td><td>26</td><td>79</td></tr><tr><td>| CUSR0000SA0 | 1953 |  M06   | 26.77 |           |</td><td> CUSR0000SA0 1953 M06 26 77 </td><td>CUSR0000SA0</td><td>1953</td><td>M06</td><td>26</td><td>77</td></tr><tr><td>| CUSR0000SA0 | 1953 |  M05   | 26.70 |           |</td><td> CUSR0000SA0 1953 M05 26 70 </td><td>CUSR0000SA0</td><td>1953</td><td>M05</td><td>26</td><td>70</td></tr><tr><td>| CUSR0000SA0 | 1953 |  M04   | 26.69 |           |</td><td> CUSR0000SA0 1953 M04 26 69 </td><td>CUSR0000SA0</td><td>1953</td><td>M04</td><td>26</td><td>69</td></tr><tr><td>| CUSR0000SA0 | 1953 |  M03   | 26.63 |           |</td><td> CUSR0000SA0 1953 M03 26 63 </td><td>CUSR0000SA0</td><td>1953</td><td>M03</td><td>26</td><td>63</td></tr><tr><td>| CUSR0000SA0 | 1953 |  M02   | 26.59 |           |</td><td> CUSR0000SA0 1953 M02 26 59 </td><td>CUSR0000SA0</td><td>1953</td><td>M02</td><td>26</td><td>59</td></tr><tr><td>| CUSR0000SA0 | 1953 |  M01   | 26.64 |           |</td><td> CUSR0000SA0 1953 M01 26 64 </td><td>CUSR0000SA0</td><td>1953</td><td>M01</td><td>26</td><td>64</td></tr><tr><td>| CUSR0000SA0 | 1952 |  M12   | 26.71 |           |</td><td> CUSR0000SA0 1952 M12 26 71 </td><td>CUSR0000SA0</td><td>1952</td><td>M12</td><td>26</td><td>71</td></tr><tr><td>| CUSR0000SA0 | 1952 |  M11   | 26.69 |           |</td><td> CUSR0000SA0 1952 M11 26 69 </td><td>CUSR0000SA0</td><td>1952</td><td>M11</td><td>26</td><td>69</td></tr><tr><td>| CUSR0000SA0 | 1952 |  M10   | 26.69 |           |</td><td> CUSR0000SA0 1952 M10 26 69 </td><td>CUSR0000SA0</td><td>1952</td><td>M10</td><td>26</td><td>69</td></tr><tr><td>| CUSR0000SA0 | 1952 |  M09   | 26.63 |           |</td><td> CUSR0000SA0 1952 M09 26 63 </td><td>CUSR0000SA0</td><td>1952</td><td>M09</td><td>26</td><td>63</td></tr><tr><td>| CUSR0000SA0 | 1952 |  M08   | 26.69 |           |</td><td> CUSR0000SA0 1952 M08 26 69 </td><td>CUSR0000SA0</td><td>1952</td><td>M08</td><td>26</td><td>69</td></tr><tr><td>| CUSR0000SA0 | 1952 |  M07   | 26.68 |           |</td><td> CUSR0000SA0 1952 M07 26 68 </td><td>CUSR0000SA0</td><td>1952</td><td>M07</td><td>26</td><td>68</td></tr><tr><td>| CUSR0000SA0 | 1952 |  M06   | 26.53 |           |</td><td> CUSR0000SA0 1952 M06 26 53 </td><td>CUSR0000SA0</td><td>1952</td><td>M06</td><td>26</td><td>53</td></tr><tr><td>| CUSR0000SA0 | 1952 |  M05   | 26.47 |           |</td><td> CUSR0000SA0 1952 M05 26 47 </td><td>CUSR0000SA0</td><td>1952</td><td>M05</td><td>26</td><td>47</td></tr><tr><td>| CUSR0000SA0 | 1952 |  M04   | 26.46 |           |</td><td> CUSR0000SA0 1952 M04 26 46 </td><td>CUSR0000SA0</td><td>1952</td><td>M04</td><td>26</td><td>46</td></tr><tr><td>| CUSR0000SA0 | 1952 |  M03   | 26.39 |           |</td><td> CUSR0000SA0 1952 M03 26 39 </td><td>CUSR0000SA0</td><td>1952</td><td>M03</td><td>26</td><td>39</td></tr><tr><td>| CUSR0000SA0 | 1952 |  M02   | 26.41 |           |</td><td> CUSR0000SA0 1952 M02 26 41 </td><td>CUSR0000SA0</td><td>1952</td><td>M02</td><td>26</td><td>41</td></tr><tr><td>| CUSR0000SA0 | 1952 |  M01   | 26.45 |           |</td><td> CUSR0000SA0 1952 M01 26 45 </td><td>CUSR0000SA0</td><td>1952</td><td>M01</td><td>26</td><td>45</td></tr><tr><td>| CUSR0000SA0 | 1951 |  M12   | 26.47 |           |</td><td> CUSR0000SA0 1951 M12 26 47 </td><td>CUSR0000SA0</td><td>1951</td><td>M12</td><td>26</td><td>47</td></tr><tr><td>| CUSR0000SA0 | 1951 |  M11   | 26.32 |           |</td><td> CUSR0000SA0 1951 M11 26 32 </td><td>CUSR0000SA0</td><td>1951</td><td>M11</td><td>26</td><td>32</td></tr><tr><td>| CUSR0000SA0 | 1951 |  M10   | 26.16 |           |</td><td> CUSR0000SA0 1951 M10 26 16 </td><td>CUSR0000SA0</td><td>1951</td><td>M10</td><td>26</td><td>16</td></tr><tr><td>| CUSR0000SA0 | 1951 |  M09   | 26.03 |           |</td><td> CUSR0000SA0 1951 M09 26 03 </td><td>CUSR0000SA0</td><td>1951</td><td>M09</td><td>26</td><td>03</td></tr><tr><td>| CUSR0000SA0 | 1951 |  M08   | 25.86 |           |</td><td> CUSR0000SA0 1951 M08 25 86 </td><td>CUSR0000SA0</td><td>1951</td><td>M08</td><td>25</td><td>86</td></tr><tr><td>| CUSR0000SA0 | 1951 |  M07   | 25.91 |           |</td><td> CUSR0000SA0 1951 M07 25 91 </td><td>CUSR0000SA0</td><td>1951</td><td>M07</td><td>25</td><td>91</td></tr><tr><td>| CUSR0000SA0 | 1951 |  M06   | 25.93 |           |</td><td> CUSR0000SA0 1951 M06 25 93 </td><td>CUSR0000SA0</td><td>1951</td><td>M06</td><td>25</td><td>93</td></tr><tr><td>| CUSR0000SA0 | 1951 |  M05   | 25.99 |           |</td><td> CUSR0000SA0 1951 M05 25 99 </td><td>CUSR0000SA0</td><td>1951</td><td>M05</td><td>25</td><td>99</td></tr><tr><td>| CUSR0000SA0 | 1951 |  M04   | 25.92 |           |</td><td> CUSR0000SA0 1951 M04 25 92 </td><td>CUSR0000SA0</td><td>1951</td><td>M04</td><td>25</td><td>92</td></tr><tr><td>| CUSR0000SA0 | 1951 |  M03   | 25.88 |           |</td><td> CUSR0000SA0 1951 M03 25 88 </td><td>CUSR0000SA0</td><td>1951</td><td>M03</td><td>25</td><td>88</td></tr><tr><td>| CUSR0000SA0 | 1951 |  M02   | 25.83 |           |</td><td> CUSR0000SA0 1951 M02 25 83 </td><td>CUSR0000SA0</td><td>1951</td><td>M02</td><td>25</td><td>83</td></tr><tr><td>| CUSR0000SA0 | 1951 |  M01   | 25.38 |           |</td><td> CUSR0000SA0 1951 M01 25 38 </td><td>CUSR0000SA0</td><td>1951</td><td>M01</td><td>25</td><td>38</td></tr><tr><td>| CUSR0000SA0 | 1950 |  M12   | 24.98 |           |</td><td> CUSR0000SA0 1950 M12 24 98 </td><td>CUSR0000SA0</td><td>1950</td><td>M12</td><td>24</td><td>98</td></tr><tr><td>| CUSR0000SA0 | 1950 |  M11   | 24.60 |           |</td><td> CUSR0000SA0 1950 M11 24 60 </td><td>CUSR0000SA0</td><td>1950</td><td>M11</td><td>24</td><td>60</td></tr><tr><td>| CUSR0000SA0 | 1950 |  M10   | 24.50 |           |</td><td> CUSR0000SA0 1950 M10 24 50 </td><td>CUSR0000SA0</td><td>1950</td><td>M10</td><td>24</td><td>50</td></tr><tr><td>| CUSR0000SA0 | 1950 |  M09   | 24.34 |           |</td><td> CUSR0000SA0 1950 M09 24 34 </td><td>CUSR0000SA0</td><td>1950</td><td>M09</td><td>24</td><td>34</td></tr><tr><td>| CUSR0000SA0 | 1950 |  M08   | 24.20 |           |</td><td> CUSR0000SA0 1950 M08 24 20 </td><td>CUSR0000SA0</td><td>1950</td><td>M08</td><td>24</td><td>20</td></tr><tr><td>| CUSR0000SA0 | 1950 |  M07   | 24.07 |           |</td><td> CUSR0000SA0 1950 M07 24 07 </td><td>CUSR0000SA0</td><td>1950</td><td>M07</td><td>24</td><td>07</td></tr><tr><td>| CUSR0000SA0 | 1950 |  M06   | 23.88 |           |</td><td> CUSR0000SA0 1950 M06 23 88 </td><td>CUSR0000SA0</td><td>1950</td><td>M06</td><td>23</td><td>88</td></tr><tr><td>| CUSR0000SA0 | 1950 |  M05   | 23.77 |           |</td><td> CUSR0000SA0 1950 M05 23 77 </td><td>CUSR0000SA0</td><td>1950</td><td>M05</td><td>23</td><td>77</td></tr><tr><td>| CUSR0000SA0 | 1950 |  M04   | 23.65 |           |</td><td> CUSR0000SA0 1950 M04 23 65 </td><td>CUSR0000SA0</td><td>1950</td><td>M04</td><td>23</td><td>65</td></tr><tr><td>| CUSR0000SA0 | 1950 |  M03   | 23.64 |           |</td><td> CUSR0000SA0 1950 M03 23 64 </td><td>CUSR0000SA0</td><td>1950</td><td>M03</td><td>23</td><td>64</td></tr><tr><td>| CUSR0000SA0 | 1950 |  M02   | 23.61 |           |</td><td> CUSR0000SA0 1950 M02 23 61 </td><td>CUSR0000SA0</td><td>1950</td><td>M02</td><td>23</td><td>61</td></tr><tr><td>| CUSR0000SA0 | 1950 |  M01   | 23.51 |           |</td><td> CUSR0000SA0 1950 M01 23 51 </td><td>CUSR0000SA0</td><td>1950</td><td>M01</td><td>23</td><td>51</td></tr><tr><td>| CUSR0000SA0 | 1949 |  M12   | 23.61 |           |</td><td> CUSR0000SA0 1949 M12 23 61 </td><td>CUSR0000SA0</td><td>1949</td><td>M12</td><td>23</td><td>61</td></tr><tr><td>| CUSR0000SA0 | 1949 |  M11   | 23.70 |           |</td><td> CUSR0000SA0 1949 M11 23 70 </td><td>CUSR0000SA0</td><td>1949</td><td>M11</td><td>23</td><td>70</td></tr><tr><td>| CUSR0000SA0 | 1949 |  M10   | 23.67 |           |</td><td> CUSR0000SA0 1949 M10 23 67 </td><td>CUSR0000SA0</td><td>1949</td><td>M10</td><td>23</td><td>67</td></tr><tr><td>| CUSR0000SA0 | 1949 |  M09   | 23.75 |           |</td><td> CUSR0000SA0 1949 M09 23 75 </td><td>CUSR0000SA0</td><td>1949</td><td>M09</td><td>23</td><td>75</td></tr><tr><td>| CUSR0000SA0 | 1949 |  M08   | 23.70 |           |</td><td> CUSR0000SA0 1949 M08 23 70 </td><td>CUSR0000SA0</td><td>1949</td><td>M08</td><td>23</td><td>70</td></tr><tr><td>| CUSR0000SA0 | 1949 |  M07   | 23.70 |           |</td><td> CUSR0000SA0 1949 M07 23 70 </td><td>CUSR0000SA0</td><td>1949</td><td>M07</td><td>23</td><td>70</td></tr><tr><td>| CUSR0000SA0 | 1949 |  M06   | 23.92 |           |</td><td> CUSR0000SA0 1949 M06 23 92 </td><td>CUSR0000SA0</td><td>1949</td><td>M06</td><td>23</td><td>92</td></tr><tr><td>| CUSR0000SA0 | 1949 |  M05   | 23.91 |           |</td><td> CUSR0000SA0 1949 M05 23 91 </td><td>CUSR0000SA0</td><td>1949</td><td>M05</td><td>23</td><td>91</td></tr><tr><td>| CUSR0000SA0 | 1949 |  M04   | 23.92 |           |</td><td> CUSR0000SA0 1949 M04 23 92 </td><td>CUSR0000SA0</td><td>1949</td><td>M04</td><td>23</td><td>92</td></tr><tr><td>| CUSR0000SA0 | 1949 |  M03   | 23.91 |           |</td><td> CUSR0000SA0 1949 M03 23 91 </td><td>CUSR0000SA0</td><td>1949</td><td>M03</td><td>23</td><td>91</td></tr><tr><td>| CUSR0000SA0 | 1949 |  M02   | 23.91 |           |</td><td> CUSR0000SA0 1949 M02 23 91 </td><td>CUSR0000SA0</td><td>1949</td><td>M02</td><td>23</td><td>91</td></tr><tr><td>| CUSR0000SA0 | 1949 |  M01   | 24.01 |           |</td><td> CUSR0000SA0 1949 M01 24 01 </td><td>CUSR0000SA0</td><td>1949</td><td>M01</td><td>24</td><td>01</td></tr><tr><td>| CUSR0000SA0 | 1948 |  M12   | 24.05 |           |</td><td> CUSR0000SA0 1948 M12 24 05 </td><td>CUSR0000SA0</td><td>1948</td><td>M12</td><td>24</td><td>05</td></tr></tbody></table></div>"
      ]
     },
     "metadata": {
      "application/vnd.databricks.v1+output": {
       "addedWidgets": {},
       "aggData": [],
       "aggError": "",
       "aggOverflow": false,
       "aggSchema": [],
       "aggSeriesLimitReached": false,
       "aggType": "",
       "arguments": {},
       "columnCustomDisplayInfos": {},
       "data": [
        [
         "+-------------+------+--------+-------+-----------+",
         " ",
         "",
         null,
         null,
         null,
         null
        ],
        [
         "|  series id  | year | period | value | footnotes |",
         " series id year period value footnotes ",
         "series",
         "id",
         "year",
         "period",
         "value"
        ],
        [
         "+-------------+------+--------+-------+-----------+",
         " ",
         "",
         null,
         null,
         null,
         null
        ],
        [
         "| CUSR0000SA0 | 1956 |  M12   | 27.63 |           |",
         " CUSR0000SA0 1956 M12 27 63 ",
         "CUSR0000SA0",
         "1956",
         "M12",
         "27",
         "63"
        ],
        [
         "| CUSR0000SA0 | 1956 |  M11   | 27.51 |           |",
         " CUSR0000SA0 1956 M11 27 51 ",
         "CUSR0000SA0",
         "1956",
         "M11",
         "27",
         "51"
        ],
        [
         "| CUSR0000SA0 | 1956 |  M10   | 27.51 |           |",
         " CUSR0000SA0 1956 M10 27 51 ",
         "CUSR0000SA0",
         "1956",
         "M10",
         "27",
         "51"
        ],
        [
         "| CUSR0000SA0 | 1956 |  M09   | 27.35 |           |",
         " CUSR0000SA0 1956 M09 27 35 ",
         "CUSR0000SA0",
         "1956",
         "M09",
         "27",
         "35"
        ],
        [
         "| CUSR0000SA0 | 1956 |  M08   | 27.31 |           |",
         " CUSR0000SA0 1956 M08 27 31 ",
         "CUSR0000SA0",
         "1956",
         "M08",
         "27",
         "31"
        ],
        [
         "| CUSR0000SA0 | 1956 |  M07   | 27.29 |           |",
         " CUSR0000SA0 1956 M07 27 29 ",
         "CUSR0000SA0",
         "1956",
         "M07",
         "27",
         "29"
        ],
        [
         "| CUSR0000SA0 | 1956 |  M06   | 27.15 |           |",
         " CUSR0000SA0 1956 M06 27 15 ",
         "CUSR0000SA0",
         "1956",
         "M06",
         "27",
         "15"
        ],
        [
         "| CUSR0000SA0 | 1956 |  M05   | 27.03 |           |",
         " CUSR0000SA0 1956 M05 27 03 ",
         "CUSR0000SA0",
         "1956",
         "M05",
         "27",
         "03"
        ],
        [
         "| CUSR0000SA0 | 1956 |  M04   | 26.93 |           |",
         " CUSR0000SA0 1956 M04 26 93 ",
         "CUSR0000SA0",
         "1956",
         "M04",
         "26",
         "93"
        ],
        [
         "| CUSR0000SA0 | 1956 |  M03   | 26.89 |           |",
         " CUSR0000SA0 1956 M03 26 89 ",
         "CUSR0000SA0",
         "1956",
         "M03",
         "26",
         "89"
        ],
        [
         "| CUSR0000SA0 | 1956 |  M02   | 26.86 |           |",
         " CUSR0000SA0 1956 M02 26 86 ",
         "CUSR0000SA0",
         "1956",
         "M02",
         "26",
         "86"
        ],
        [
         "| CUSR0000SA0 | 1956 |  M01   | 26.83 |           |",
         " CUSR0000SA0 1956 M01 26 83 ",
         "CUSR0000SA0",
         "1956",
         "M01",
         "26",
         "83"
        ],
        [
         "| CUSR0000SA0 | 1955 |  M12   | 26.87 |           |",
         " CUSR0000SA0 1955 M12 26 87 ",
         "CUSR0000SA0",
         "1955",
         "M12",
         "26",
         "87"
        ],
        [
         "| CUSR0000SA0 | 1955 |  M11   | 26.88 |           |",
         " CUSR0000SA0 1955 M11 26 88 ",
         "CUSR0000SA0",
         "1955",
         "M11",
         "26",
         "88"
        ],
        [
         "| CUSR0000SA0 | 1955 |  M10   | 26.82 |           |",
         " CUSR0000SA0 1955 M10 26 82 ",
         "CUSR0000SA0",
         "1955",
         "M10",
         "26",
         "82"
        ],
        [
         "| CUSR0000SA0 | 1955 |  M09   | 26.85 |           |",
         " CUSR0000SA0 1955 M09 26 85 ",
         "CUSR0000SA0",
         "1955",
         "M09",
         "26",
         "85"
        ],
        [
         "| CUSR0000SA0 | 1955 |  M08   | 26.72 |           |",
         " CUSR0000SA0 1955 M08 26 72 ",
         "CUSR0000SA0",
         "1955",
         "M08",
         "26",
         "72"
        ],
        [
         "| CUSR0000SA0 | 1955 |  M07   | 26.76 |           |",
         " CUSR0000SA0 1955 M07 26 76 ",
         "CUSR0000SA0",
         "1955",
         "M07",
         "26",
         "76"
        ],
        [
         "| CUSR0000SA0 | 1955 |  M06   | 26.71 |           |",
         " CUSR0000SA0 1955 M06 26 71 ",
         "CUSR0000SA0",
         "1955",
         "M06",
         "26",
         "71"
        ],
        [
         "| CUSR0000SA0 | 1955 |  M05   | 26.77 |           |",
         " CUSR0000SA0 1955 M05 26 77 ",
         "CUSR0000SA0",
         "1955",
         "M05",
         "26",
         "77"
        ],
        [
         "| CUSR0000SA0 | 1955 |  M04   | 26.79 |           |",
         " CUSR0000SA0 1955 M04 26 79 ",
         "CUSR0000SA0",
         "1955",
         "M04",
         "26",
         "79"
        ],
        [
         "| CUSR0000SA0 | 1955 |  M03   | 26.79 |           |",
         " CUSR0000SA0 1955 M03 26 79 ",
         "CUSR0000SA0",
         "1955",
         "M03",
         "26",
         "79"
        ],
        [
         "| CUSR0000SA0 | 1955 |  M02   | 26.82 |           |",
         " CUSR0000SA0 1955 M02 26 82 ",
         "CUSR0000SA0",
         "1955",
         "M02",
         "26",
         "82"
        ],
        [
         "| CUSR0000SA0 | 1955 |  M01   | 26.77 |           |",
         " CUSR0000SA0 1955 M01 26 77 ",
         "CUSR0000SA0",
         "1955",
         "M01",
         "26",
         "77"
        ],
        [
         "| CUSR0000SA0 | 1954 |  M12   | 26.77 |           |",
         " CUSR0000SA0 1954 M12 26 77 ",
         "CUSR0000SA0",
         "1954",
         "M12",
         "26",
         "77"
        ],
        [
         "| CUSR0000SA0 | 1954 |  M11   | 26.78 |           |",
         " CUSR0000SA0 1954 M11 26 78 ",
         "CUSR0000SA0",
         "1954",
         "M11",
         "26",
         "78"
        ],
        [
         "| CUSR0000SA0 | 1954 |  M10   | 26.72 |           |",
         " CUSR0000SA0 1954 M10 26 72 ",
         "CUSR0000SA0",
         "1954",
         "M10",
         "26",
         "72"
        ],
        [
         "| CUSR0000SA0 | 1954 |  M09   | 26.81 |           |",
         " CUSR0000SA0 1954 M09 26 81 ",
         "CUSR0000SA0",
         "1954",
         "M09",
         "26",
         "81"
        ],
        [
         "| CUSR0000SA0 | 1954 |  M08   | 26.85 |           |",
         " CUSR0000SA0 1954 M08 26 85 ",
         "CUSR0000SA0",
         "1954",
         "M08",
         "26",
         "85"
        ],
        [
         "| CUSR0000SA0 | 1954 |  M07   | 26.86 |           |",
         " CUSR0000SA0 1954 M07 26 86 ",
         "CUSR0000SA0",
         "1954",
         "M07",
         "26",
         "86"
        ],
        [
         "| CUSR0000SA0 | 1954 |  M06   | 26.94 |           |",
         " CUSR0000SA0 1954 M06 26 94 ",
         "CUSR0000SA0",
         "1954",
         "M06",
         "26",
         "94"
        ],
        [
         "| CUSR0000SA0 | 1954 |  M05   | 26.93 |           |",
         " CUSR0000SA0 1954 M05 26 93 ",
         "CUSR0000SA0",
         "1954",
         "M05",
         "26",
         "93"
        ],
        [
         "| CUSR0000SA0 | 1954 |  M04   | 26.86 |           |",
         " CUSR0000SA0 1954 M04 26 86 ",
         "CUSR0000SA0",
         "1954",
         "M04",
         "26",
         "86"
        ],
        [
         "| CUSR0000SA0 | 1954 |  M03   | 26.93 |           |",
         " CUSR0000SA0 1954 M03 26 93 ",
         "CUSR0000SA0",
         "1954",
         "M03",
         "26",
         "93"
        ],
        [
         "| CUSR0000SA0 | 1954 |  M02   | 26.99 |           |",
         " CUSR0000SA0 1954 M02 26 99 ",
         "CUSR0000SA0",
         "1954",
         "M02",
         "26",
         "99"
        ],
        [
         "| CUSR0000SA0 | 1954 |  M01   | 26.94 |           |",
         " CUSR0000SA0 1954 M01 26 94 ",
         "CUSR0000SA0",
         "1954",
         "M01",
         "26",
         "94"
        ],
        [
         "| CUSR0000SA0 | 1953 |  M12   | 26.87 |           |",
         " CUSR0000SA0 1953 M12 26 87 ",
         "CUSR0000SA0",
         "1953",
         "M12",
         "26",
         "87"
        ],
        [
         "| CUSR0000SA0 | 1953 |  M11   | 26.85 |           |",
         " CUSR0000SA0 1953 M11 26 85 ",
         "CUSR0000SA0",
         "1953",
         "M11",
         "26",
         "85"
        ],
        [
         "| CUSR0000SA0 | 1953 |  M10   | 26.95 |           |",
         " CUSR0000SA0 1953 M10 26 95 ",
         "CUSR0000SA0",
         "1953",
         "M10",
         "26",
         "95"
        ],
        [
         "| CUSR0000SA0 | 1953 |  M09   | 26.89 |           |",
         " CUSR0000SA0 1953 M09 26 89 ",
         "CUSR0000SA0",
         "1953",
         "M09",
         "26",
         "89"
        ],
        [
         "| CUSR0000SA0 | 1953 |  M08   | 26.85 |           |",
         " CUSR0000SA0 1953 M08 26 85 ",
         "CUSR0000SA0",
         "1953",
         "M08",
         "26",
         "85"
        ],
        [
         "| CUSR0000SA0 | 1953 |  M07   | 26.79 |           |",
         " CUSR0000SA0 1953 M07 26 79 ",
         "CUSR0000SA0",
         "1953",
         "M07",
         "26",
         "79"
        ],
        [
         "| CUSR0000SA0 | 1953 |  M06   | 26.77 |           |",
         " CUSR0000SA0 1953 M06 26 77 ",
         "CUSR0000SA0",
         "1953",
         "M06",
         "26",
         "77"
        ],
        [
         "| CUSR0000SA0 | 1953 |  M05   | 26.70 |           |",
         " CUSR0000SA0 1953 M05 26 70 ",
         "CUSR0000SA0",
         "1953",
         "M05",
         "26",
         "70"
        ],
        [
         "| CUSR0000SA0 | 1953 |  M04   | 26.69 |           |",
         " CUSR0000SA0 1953 M04 26 69 ",
         "CUSR0000SA0",
         "1953",
         "M04",
         "26",
         "69"
        ],
        [
         "| CUSR0000SA0 | 1953 |  M03   | 26.63 |           |",
         " CUSR0000SA0 1953 M03 26 63 ",
         "CUSR0000SA0",
         "1953",
         "M03",
         "26",
         "63"
        ],
        [
         "| CUSR0000SA0 | 1953 |  M02   | 26.59 |           |",
         " CUSR0000SA0 1953 M02 26 59 ",
         "CUSR0000SA0",
         "1953",
         "M02",
         "26",
         "59"
        ],
        [
         "| CUSR0000SA0 | 1953 |  M01   | 26.64 |           |",
         " CUSR0000SA0 1953 M01 26 64 ",
         "CUSR0000SA0",
         "1953",
         "M01",
         "26",
         "64"
        ],
        [
         "| CUSR0000SA0 | 1952 |  M12   | 26.71 |           |",
         " CUSR0000SA0 1952 M12 26 71 ",
         "CUSR0000SA0",
         "1952",
         "M12",
         "26",
         "71"
        ],
        [
         "| CUSR0000SA0 | 1952 |  M11   | 26.69 |           |",
         " CUSR0000SA0 1952 M11 26 69 ",
         "CUSR0000SA0",
         "1952",
         "M11",
         "26",
         "69"
        ],
        [
         "| CUSR0000SA0 | 1952 |  M10   | 26.69 |           |",
         " CUSR0000SA0 1952 M10 26 69 ",
         "CUSR0000SA0",
         "1952",
         "M10",
         "26",
         "69"
        ],
        [
         "| CUSR0000SA0 | 1952 |  M09   | 26.63 |           |",
         " CUSR0000SA0 1952 M09 26 63 ",
         "CUSR0000SA0",
         "1952",
         "M09",
         "26",
         "63"
        ],
        [
         "| CUSR0000SA0 | 1952 |  M08   | 26.69 |           |",
         " CUSR0000SA0 1952 M08 26 69 ",
         "CUSR0000SA0",
         "1952",
         "M08",
         "26",
         "69"
        ],
        [
         "| CUSR0000SA0 | 1952 |  M07   | 26.68 |           |",
         " CUSR0000SA0 1952 M07 26 68 ",
         "CUSR0000SA0",
         "1952",
         "M07",
         "26",
         "68"
        ],
        [
         "| CUSR0000SA0 | 1952 |  M06   | 26.53 |           |",
         " CUSR0000SA0 1952 M06 26 53 ",
         "CUSR0000SA0",
         "1952",
         "M06",
         "26",
         "53"
        ],
        [
         "| CUSR0000SA0 | 1952 |  M05   | 26.47 |           |",
         " CUSR0000SA0 1952 M05 26 47 ",
         "CUSR0000SA0",
         "1952",
         "M05",
         "26",
         "47"
        ],
        [
         "| CUSR0000SA0 | 1952 |  M04   | 26.46 |           |",
         " CUSR0000SA0 1952 M04 26 46 ",
         "CUSR0000SA0",
         "1952",
         "M04",
         "26",
         "46"
        ],
        [
         "| CUSR0000SA0 | 1952 |  M03   | 26.39 |           |",
         " CUSR0000SA0 1952 M03 26 39 ",
         "CUSR0000SA0",
         "1952",
         "M03",
         "26",
         "39"
        ],
        [
         "| CUSR0000SA0 | 1952 |  M02   | 26.41 |           |",
         " CUSR0000SA0 1952 M02 26 41 ",
         "CUSR0000SA0",
         "1952",
         "M02",
         "26",
         "41"
        ],
        [
         "| CUSR0000SA0 | 1952 |  M01   | 26.45 |           |",
         " CUSR0000SA0 1952 M01 26 45 ",
         "CUSR0000SA0",
         "1952",
         "M01",
         "26",
         "45"
        ],
        [
         "| CUSR0000SA0 | 1951 |  M12   | 26.47 |           |",
         " CUSR0000SA0 1951 M12 26 47 ",
         "CUSR0000SA0",
         "1951",
         "M12",
         "26",
         "47"
        ],
        [
         "| CUSR0000SA0 | 1951 |  M11   | 26.32 |           |",
         " CUSR0000SA0 1951 M11 26 32 ",
         "CUSR0000SA0",
         "1951",
         "M11",
         "26",
         "32"
        ],
        [
         "| CUSR0000SA0 | 1951 |  M10   | 26.16 |           |",
         " CUSR0000SA0 1951 M10 26 16 ",
         "CUSR0000SA0",
         "1951",
         "M10",
         "26",
         "16"
        ],
        [
         "| CUSR0000SA0 | 1951 |  M09   | 26.03 |           |",
         " CUSR0000SA0 1951 M09 26 03 ",
         "CUSR0000SA0",
         "1951",
         "M09",
         "26",
         "03"
        ],
        [
         "| CUSR0000SA0 | 1951 |  M08   | 25.86 |           |",
         " CUSR0000SA0 1951 M08 25 86 ",
         "CUSR0000SA0",
         "1951",
         "M08",
         "25",
         "86"
        ],
        [
         "| CUSR0000SA0 | 1951 |  M07   | 25.91 |           |",
         " CUSR0000SA0 1951 M07 25 91 ",
         "CUSR0000SA0",
         "1951",
         "M07",
         "25",
         "91"
        ],
        [
         "| CUSR0000SA0 | 1951 |  M06   | 25.93 |           |",
         " CUSR0000SA0 1951 M06 25 93 ",
         "CUSR0000SA0",
         "1951",
         "M06",
         "25",
         "93"
        ],
        [
         "| CUSR0000SA0 | 1951 |  M05   | 25.99 |           |",
         " CUSR0000SA0 1951 M05 25 99 ",
         "CUSR0000SA0",
         "1951",
         "M05",
         "25",
         "99"
        ],
        [
         "| CUSR0000SA0 | 1951 |  M04   | 25.92 |           |",
         " CUSR0000SA0 1951 M04 25 92 ",
         "CUSR0000SA0",
         "1951",
         "M04",
         "25",
         "92"
        ],
        [
         "| CUSR0000SA0 | 1951 |  M03   | 25.88 |           |",
         " CUSR0000SA0 1951 M03 25 88 ",
         "CUSR0000SA0",
         "1951",
         "M03",
         "25",
         "88"
        ],
        [
         "| CUSR0000SA0 | 1951 |  M02   | 25.83 |           |",
         " CUSR0000SA0 1951 M02 25 83 ",
         "CUSR0000SA0",
         "1951",
         "M02",
         "25",
         "83"
        ],
        [
         "| CUSR0000SA0 | 1951 |  M01   | 25.38 |           |",
         " CUSR0000SA0 1951 M01 25 38 ",
         "CUSR0000SA0",
         "1951",
         "M01",
         "25",
         "38"
        ],
        [
         "| CUSR0000SA0 | 1950 |  M12   | 24.98 |           |",
         " CUSR0000SA0 1950 M12 24 98 ",
         "CUSR0000SA0",
         "1950",
         "M12",
         "24",
         "98"
        ],
        [
         "| CUSR0000SA0 | 1950 |  M11   | 24.60 |           |",
         " CUSR0000SA0 1950 M11 24 60 ",
         "CUSR0000SA0",
         "1950",
         "M11",
         "24",
         "60"
        ],
        [
         "| CUSR0000SA0 | 1950 |  M10   | 24.50 |           |",
         " CUSR0000SA0 1950 M10 24 50 ",
         "CUSR0000SA0",
         "1950",
         "M10",
         "24",
         "50"
        ],
        [
         "| CUSR0000SA0 | 1950 |  M09   | 24.34 |           |",
         " CUSR0000SA0 1950 M09 24 34 ",
         "CUSR0000SA0",
         "1950",
         "M09",
         "24",
         "34"
        ],
        [
         "| CUSR0000SA0 | 1950 |  M08   | 24.20 |           |",
         " CUSR0000SA0 1950 M08 24 20 ",
         "CUSR0000SA0",
         "1950",
         "M08",
         "24",
         "20"
        ],
        [
         "| CUSR0000SA0 | 1950 |  M07   | 24.07 |           |",
         " CUSR0000SA0 1950 M07 24 07 ",
         "CUSR0000SA0",
         "1950",
         "M07",
         "24",
         "07"
        ],
        [
         "| CUSR0000SA0 | 1950 |  M06   | 23.88 |           |",
         " CUSR0000SA0 1950 M06 23 88 ",
         "CUSR0000SA0",
         "1950",
         "M06",
         "23",
         "88"
        ],
        [
         "| CUSR0000SA0 | 1950 |  M05   | 23.77 |           |",
         " CUSR0000SA0 1950 M05 23 77 ",
         "CUSR0000SA0",
         "1950",
         "M05",
         "23",
         "77"
        ],
        [
         "| CUSR0000SA0 | 1950 |  M04   | 23.65 |           |",
         " CUSR0000SA0 1950 M04 23 65 ",
         "CUSR0000SA0",
         "1950",
         "M04",
         "23",
         "65"
        ],
        [
         "| CUSR0000SA0 | 1950 |  M03   | 23.64 |           |",
         " CUSR0000SA0 1950 M03 23 64 ",
         "CUSR0000SA0",
         "1950",
         "M03",
         "23",
         "64"
        ],
        [
         "| CUSR0000SA0 | 1950 |  M02   | 23.61 |           |",
         " CUSR0000SA0 1950 M02 23 61 ",
         "CUSR0000SA0",
         "1950",
         "M02",
         "23",
         "61"
        ],
        [
         "| CUSR0000SA0 | 1950 |  M01   | 23.51 |           |",
         " CUSR0000SA0 1950 M01 23 51 ",
         "CUSR0000SA0",
         "1950",
         "M01",
         "23",
         "51"
        ],
        [
         "| CUSR0000SA0 | 1949 |  M12   | 23.61 |           |",
         " CUSR0000SA0 1949 M12 23 61 ",
         "CUSR0000SA0",
         "1949",
         "M12",
         "23",
         "61"
        ],
        [
         "| CUSR0000SA0 | 1949 |  M11   | 23.70 |           |",
         " CUSR0000SA0 1949 M11 23 70 ",
         "CUSR0000SA0",
         "1949",
         "M11",
         "23",
         "70"
        ],
        [
         "| CUSR0000SA0 | 1949 |  M10   | 23.67 |           |",
         " CUSR0000SA0 1949 M10 23 67 ",
         "CUSR0000SA0",
         "1949",
         "M10",
         "23",
         "67"
        ],
        [
         "| CUSR0000SA0 | 1949 |  M09   | 23.75 |           |",
         " CUSR0000SA0 1949 M09 23 75 ",
         "CUSR0000SA0",
         "1949",
         "M09",
         "23",
         "75"
        ],
        [
         "| CUSR0000SA0 | 1949 |  M08   | 23.70 |           |",
         " CUSR0000SA0 1949 M08 23 70 ",
         "CUSR0000SA0",
         "1949",
         "M08",
         "23",
         "70"
        ],
        [
         "| CUSR0000SA0 | 1949 |  M07   | 23.70 |           |",
         " CUSR0000SA0 1949 M07 23 70 ",
         "CUSR0000SA0",
         "1949",
         "M07",
         "23",
         "70"
        ],
        [
         "| CUSR0000SA0 | 1949 |  M06   | 23.92 |           |",
         " CUSR0000SA0 1949 M06 23 92 ",
         "CUSR0000SA0",
         "1949",
         "M06",
         "23",
         "92"
        ],
        [
         "| CUSR0000SA0 | 1949 |  M05   | 23.91 |           |",
         " CUSR0000SA0 1949 M05 23 91 ",
         "CUSR0000SA0",
         "1949",
         "M05",
         "23",
         "91"
        ],
        [
         "| CUSR0000SA0 | 1949 |  M04   | 23.92 |           |",
         " CUSR0000SA0 1949 M04 23 92 ",
         "CUSR0000SA0",
         "1949",
         "M04",
         "23",
         "92"
        ],
        [
         "| CUSR0000SA0 | 1949 |  M03   | 23.91 |           |",
         " CUSR0000SA0 1949 M03 23 91 ",
         "CUSR0000SA0",
         "1949",
         "M03",
         "23",
         "91"
        ],
        [
         "| CUSR0000SA0 | 1949 |  M02   | 23.91 |           |",
         " CUSR0000SA0 1949 M02 23 91 ",
         "CUSR0000SA0",
         "1949",
         "M02",
         "23",
         "91"
        ],
        [
         "| CUSR0000SA0 | 1949 |  M01   | 24.01 |           |",
         " CUSR0000SA0 1949 M01 24 01 ",
         "CUSR0000SA0",
         "1949",
         "M01",
         "24",
         "01"
        ],
        [
         "| CUSR0000SA0 | 1948 |  M12   | 24.05 |           |",
         " CUSR0000SA0 1948 M12 24 05 ",
         "CUSR0000SA0",
         "1948",
         "M12",
         "24",
         "05"
        ]
       ],
       "datasetInfos": [],
       "dbfsResultPath": null,
       "isJsonSchema": true,
       "metadata": {},
       "overflow": false,
       "plotOptions": {
        "customPlotOptions": {},
        "displayType": "table",
        "pivotAggregation": null,
        "pivotColumns": null,
        "xColumns": null,
        "yColumns": null
       },
       "removedWidgets": [],
       "schema": [
        {
         "metadata": "{}",
         "name": "value",
         "type": "\"string\""
        },
        {
         "metadata": "{}",
         "name": "split_value",
         "type": "\"string\""
        },
        {
         "metadata": "{}",
         "name": "seriesId",
         "type": "\"string\""
        },
        {
         "metadata": "{}",
         "name": "year",
         "type": "\"string\""
        },
        {
         "metadata": "{}",
         "name": "month",
         "type": "\"string\""
        },
        {
         "metadata": "{}",
         "name": "whole_value",
         "type": "\"string\""
        },
        {
         "metadata": "{}",
         "name": "decimal_value",
         "type": "\"string\""
        }
       ],
       "type": "table"
      }
     },
     "output_type": "display_data"
    }
   ],
   "source": [
    "\n",
    "#Remove special characters from each row and replace with space\n",
    "all_items_price_chars_removed = all_items_price.select(all_items_price.value, regexp_replace(all_items_price.value, r'\\W+', ' ').alias(\"split_value\")) \n",
    "all_items_price_columns_split = all_items_price_chars_removed.withColumn(\"seriesId\", split(all_items_price_chars_removed.split_value, \" \").getItem(1)).withColumn(\"year\", split(all_items_price_chars_removed.split_value, \" \").getItem(2)).withColumn(\"month\", split\n",
    "#Split everything into it's own column\n",
    "(all_items_price_chars_removed.split_value, \" \").getItem(3)).withColumn(\"whole_value\", split(all_items_price_chars_removed.split_value, \" \").getItem(4)).withColumn(\"decimal_value\", split(all_items_price_chars_removed.split_value, \" \").getItem(5)) \n",
    "display(all_items_price_columns_split.take(100))\n"
   ]
  },
  {
   "cell_type": "code",
   "execution_count": 0,
   "metadata": {
    "application/vnd.databricks.v1+cell": {
     "cellMetadata": {
      "byteLimit": 2048000,
      "rowLimit": 10000
     },
     "inputWidgets": {},
     "nuid": "2316fd76-d75e-4e37-b7e2-18605dfaaf26",
     "showTitle": false,
     "title": ""
    }
   },
   "outputs": [
    {
     "output_type": "display_data",
     "data": {
      "text/html": [
       "<style scoped>\n",
       "  .table-result-container {\n",
       "    max-height: 300px;\n",
       "    overflow: auto;\n",
       "  }\n",
       "  table, th, td {\n",
       "    border: 1px solid black;\n",
       "    border-collapse: collapse;\n",
       "  }\n",
       "  th, td {\n",
       "    padding: 5px;\n",
       "  }\n",
       "  th {\n",
       "    text-align: left;\n",
       "  }\n",
       "</style><div class='table-result-container'><table class='table-result'><thead style='background-color: white'><tr><th>seriesId</th><th>year</th><th>month</th><th>whole_value</th><th>decimal_value</th></tr></thead><tbody><tr><td></td><td>null</td><td>null</td><td>null</td><td>null</td></tr><tr><td>series</td><td>id</td><td>year</td><td>period</td><td>value</td></tr><tr><td></td><td>null</td><td>null</td><td>null</td><td>null</td></tr><tr><td>CUSR0000SA0</td><td>1956</td><td>M12</td><td>27</td><td>63</td></tr><tr><td>CUSR0000SA0</td><td>1956</td><td>M11</td><td>27</td><td>51</td></tr><tr><td>CUSR0000SA0</td><td>1956</td><td>M10</td><td>27</td><td>51</td></tr><tr><td>CUSR0000SA0</td><td>1956</td><td>M09</td><td>27</td><td>35</td></tr><tr><td>CUSR0000SA0</td><td>1956</td><td>M08</td><td>27</td><td>31</td></tr><tr><td>CUSR0000SA0</td><td>1956</td><td>M07</td><td>27</td><td>29</td></tr><tr><td>CUSR0000SA0</td><td>1956</td><td>M06</td><td>27</td><td>15</td></tr></tbody></table></div>"
      ]
     },
     "metadata": {
      "application/vnd.databricks.v1+output": {
       "addedWidgets": {},
       "aggData": [],
       "aggError": "",
       "aggOverflow": false,
       "aggSchema": [],
       "aggSeriesLimitReached": false,
       "aggType": "",
       "arguments": {},
       "columnCustomDisplayInfos": {},
       "data": [
        [
         "",
         null,
         null,
         null,
         null
        ],
        [
         "series",
         "id",
         "year",
         "period",
         "value"
        ],
        [
         "",
         null,
         null,
         null,
         null
        ],
        [
         "CUSR0000SA0",
         "1956",
         "M12",
         "27",
         "63"
        ],
        [
         "CUSR0000SA0",
         "1956",
         "M11",
         "27",
         "51"
        ],
        [
         "CUSR0000SA0",
         "1956",
         "M10",
         "27",
         "51"
        ],
        [
         "CUSR0000SA0",
         "1956",
         "M09",
         "27",
         "35"
        ],
        [
         "CUSR0000SA0",
         "1956",
         "M08",
         "27",
         "31"
        ],
        [
         "CUSR0000SA0",
         "1956",
         "M07",
         "27",
         "29"
        ],
        [
         "CUSR0000SA0",
         "1956",
         "M06",
         "27",
         "15"
        ]
       ],
       "datasetInfos": [],
       "dbfsResultPath": null,
       "isJsonSchema": true,
       "metadata": {},
       "overflow": false,
       "plotOptions": {
        "customPlotOptions": {},
        "displayType": "table",
        "pivotAggregation": null,
        "pivotColumns": null,
        "xColumns": null,
        "yColumns": null
       },
       "removedWidgets": [],
       "schema": [
        {
         "metadata": "{}",
         "name": "seriesId",
         "type": "\"string\""
        },
        {
         "metadata": "{}",
         "name": "year",
         "type": "\"string\""
        },
        {
         "metadata": "{}",
         "name": "month",
         "type": "\"string\""
        },
        {
         "metadata": "{}",
         "name": "whole_value",
         "type": "\"string\""
        },
        {
         "metadata": "{}",
         "name": "decimal_value",
         "type": "\"string\""
        }
       ],
       "type": "table"
      }
     },
     "output_type": "display_data"
    }
   ],
   "source": [
    "#Drop the original column(value column) from the dataframe\n",
    "all_items_price_columns_split_updated_cols = all_items_price_columns_split.drop(all_items_price_columns_split.value) \n",
    "#Drop split_value column from the dataframe\n",
    "all_items_price_columns_split_updated_cols2 = all_items_price_columns_split_updated_cols.drop(all_items_price_columns_split_updated_cols.split_value) \n",
    "display(all_items_price_columns_split_updated_cols2.take(10))\n",
    "\n"
   ]
  },
  {
   "cell_type": "code",
   "execution_count": 0,
   "metadata": {
    "application/vnd.databricks.v1+cell": {
     "cellMetadata": {
      "byteLimit": 2048000,
      "rowLimit": 10000
     },
     "inputWidgets": {},
     "nuid": "4645cc6b-7088-4a90-83de-c607b51a502a",
     "showTitle": false,
     "title": ""
    }
   },
   "outputs": [
    {
     "output_type": "stream",
     "name": "stdout",
     "output_type": "stream",
     "text": [
      "+-----------+----+-----+-----------+-------------+------------+\n|   seriesId|year|month|whole_value|decimal_value|actual_value|\n+-----------+----+-----+-----------+-------------+------------+\n|CUSR0000SA0|1956|  M12|         27|           63|       27.63|\n|CUSR0000SA0|1956|  M11|         27|           51|       27.51|\n|CUSR0000SA0|1956|  M10|         27|           51|       27.51|\n|CUSR0000SA0|1956|  M09|         27|           35|       27.35|\n|CUSR0000SA0|1956|  M08|         27|           31|       27.31|\n|CUSR0000SA0|1956|  M07|         27|           29|       27.29|\n|CUSR0000SA0|1956|  M06|         27|           15|       27.15|\n|CUSR0000SA0|1956|  M05|         27|           03|       27.03|\n|CUSR0000SA0|1956|  M04|         26|           93|       26.93|\n|CUSR0000SA0|1956|  M03|         26|           89|       26.89|\n|CUSR0000SA0|1956|  M02|         26|           86|       26.86|\n|CUSR0000SA0|1956|  M01|         26|           83|       26.83|\n|CUSR0000SA0|1955|  M12|         26|           87|       26.87|\n|CUSR0000SA0|1955|  M11|         26|           88|       26.88|\n|CUSR0000SA0|1955|  M10|         26|           82|       26.82|\n|CUSR0000SA0|1955|  M09|         26|           85|       26.85|\n|CUSR0000SA0|1955|  M08|         26|           72|       26.72|\n|CUSR0000SA0|1955|  M07|         26|           76|       26.76|\n|CUSR0000SA0|1955|  M06|         26|           71|       26.71|\n|CUSR0000SA0|1955|  M05|         26|           77|       26.77|\n+-----------+----+-----+-----------+-------------+------------+\nonly showing top 20 rows\n\n"
     ]
    }
   ],
   "source": [
    "#Drop any column that doesn't have any values\n",
    "df_all_items_price_null_value_removed = all_items_price_columns_split_updated_cols2.na.drop() \n",
    "#df_all_items_price_null_value_removed.show()\n",
    "df_all_items_price_null_value_removed_new = spark.createDataFrame(df_all_items_price_null_value_removed.tail(df_all_items_price_null_value_removed.count()-1), df_all_items_price_null_value_removed.schema) #remove the first column of the dataframe because it contains strings\n",
    "#df_all_items_price_null_value_removed_new.show()\n",
    "\n",
    "df_all_items_price_null_value_removed_new_combine_values = df_all_items_price_null_value_removed_new.withColumn(\"actual_value\", concat_ws('.', df_all_items_price_null_value_removed_new.whole_value, df_all_items_price_null_value_removed_new.decimal_value)) # merge the whole_value and decimal_value to form the original price\n",
    "df_all_items_price_null_value_removed_new_combine_values.show()"
   ]
  },
  {
   "cell_type": "markdown",
   "metadata": {
    "application/vnd.databricks.v1+cell": {
     "cellMetadata": {
      "byteLimit": 2048000,
      "rowLimit": 10000
     },
     "inputWidgets": {},
     "nuid": "23b1f7dc-a4ec-45f9-939e-b55a75b8afc6",
     "showTitle": false,
     "title": ""
    }
   },
   "source": [
    "### Formating of the weekly wage data by removing nulls, spliting and merging the columns to make a usable dataframe\n"
   ]
  },
  {
   "cell_type": "code",
   "execution_count": 0,
   "metadata": {
    "application/vnd.databricks.v1+cell": {
     "cellMetadata": {
      "byteLimit": 2048000,
      "rowLimit": 10000
     },
     "inputWidgets": {},
     "nuid": "19235e9d-d950-4054-bd69-8287025582f9",
     "showTitle": false,
     "title": ""
    }
   },
   "outputs": [
    {
     "output_type": "stream",
     "name": "stdout",
     "output_type": "stream",
     "text": [
      "root\n |-- value: string (nullable = true)\n |-- split_value: string (nullable = true)\n |-- seriesId: string (nullable = true)\n |-- year: string (nullable = true)\n |-- month: string (nullable = true)\n |-- value1: string (nullable = true)\n\n"
     ]
    },
    {
     "output_type": "display_data",
     "data": {
      "text/html": [
       "<style scoped>\n",
       "  .table-result-container {\n",
       "    max-height: 300px;\n",
       "    overflow: auto;\n",
       "  }\n",
       "  table, th, td {\n",
       "    border: 1px solid black;\n",
       "    border-collapse: collapse;\n",
       "  }\n",
       "  th, td {\n",
       "    padding: 5px;\n",
       "  }\n",
       "  th {\n",
       "    text-align: left;\n",
       "  }\n",
       "</style><div class='table-result-container'><table class='table-result'><thead style='background-color: white'><tr><th>value</th><th>split_value</th><th>seriesId</th><th>year</th><th>month</th><th>value1</th></tr></thead><tbody><tr><td>+---------------+------+--------+-------+-----------+</td><td> </td><td></td><td>null</td><td>null</td><td>null</td></tr><tr><td>|   series id   | year | period | value | footnotes |</td><td> series id year period value footnotes </td><td>series</td><td>id</td><td>year</td><td>period</td></tr><tr><td>+---------------+------+--------+-------+-----------+</td><td> </td><td></td><td>null</td><td>null</td><td>null</td></tr><tr><td>| LEU0252881500 | 1988 |  Q04   |  392  |           |</td><td> LEU0252881500 1988 Q04 392 </td><td>LEU0252881500</td><td>1988</td><td>Q04</td><td>392</td></tr><tr><td>| LEU0252881500 | 1988 |  Q03   |  381  |           |</td><td> LEU0252881500 1988 Q03 381 </td><td>LEU0252881500</td><td>1988</td><td>Q03</td><td>381</td></tr><tr><td>| LEU0252881500 | 1988 |  Q02   |  382  |           |</td><td> LEU0252881500 1988 Q02 382 </td><td>LEU0252881500</td><td>1988</td><td>Q02</td><td>382</td></tr><tr><td>| LEU0252881500 | 1988 |  Q01   |  385  |           |</td><td> LEU0252881500 1988 Q01 385 </td><td>LEU0252881500</td><td>1988</td><td>Q01</td><td>385</td></tr><tr><td>| LEU0252881500 | 1987 |  Q04   |  381  |           |</td><td> LEU0252881500 1987 Q04 381 </td><td>LEU0252881500</td><td>1987</td><td>Q04</td><td>381</td></tr><tr><td>| LEU0252881500 | 1987 |  Q03   |  371  |           |</td><td> LEU0252881500 1987 Q03 371 </td><td>LEU0252881500</td><td>1987</td><td>Q03</td><td>371</td></tr><tr><td>| LEU0252881500 | 1987 |  Q02   |  371  |           |</td><td> LEU0252881500 1987 Q02 371 </td><td>LEU0252881500</td><td>1987</td><td>Q02</td><td>371</td></tr><tr><td>| LEU0252881500 | 1987 |  Q01   |  369  |           |</td><td> LEU0252881500 1987 Q01 369 </td><td>LEU0252881500</td><td>1987</td><td>Q01</td><td>369</td></tr><tr><td>| LEU0252881500 | 1986 |  Q04   |  368  |           |</td><td> LEU0252881500 1986 Q04 368 </td><td>LEU0252881500</td><td>1986</td><td>Q04</td><td>368</td></tr><tr><td>| LEU0252881500 | 1986 |  Q03   |  354  |           |</td><td> LEU0252881500 1986 Q03 354 </td><td>LEU0252881500</td><td>1986</td><td>Q03</td><td>354</td></tr><tr><td>| LEU0252881500 | 1986 |  Q02   |  358  |           |</td><td> LEU0252881500 1986 Q02 358 </td><td>LEU0252881500</td><td>1986</td><td>Q02</td><td>358</td></tr><tr><td>| LEU0252881500 | 1986 |  Q01   |  354  |           |</td><td> LEU0252881500 1986 Q01 354 </td><td>LEU0252881500</td><td>1986</td><td>Q01</td><td>354</td></tr><tr><td>| LEU0252881500 | 1985 |  Q04   |  351  |           |</td><td> LEU0252881500 1985 Q04 351 </td><td>LEU0252881500</td><td>1985</td><td>Q04</td><td>351</td></tr><tr><td>| LEU0252881500 | 1985 |  Q03   |  340  |           |</td><td> LEU0252881500 1985 Q03 340 </td><td>LEU0252881500</td><td>1985</td><td>Q03</td><td>340</td></tr><tr><td>| LEU0252881500 | 1985 |  Q02   |  347  |           |</td><td> LEU0252881500 1985 Q02 347 </td><td>LEU0252881500</td><td>1985</td><td>Q02</td><td>347</td></tr><tr><td>| LEU0252881500 | 1985 |  Q01   |  336  |           |</td><td> LEU0252881500 1985 Q01 336 </td><td>LEU0252881500</td><td>1985</td><td>Q01</td><td>336</td></tr><tr><td>| LEU0252881500 | 1984 |  Q04   |  335  |           |</td><td> LEU0252881500 1984 Q04 335 </td><td>LEU0252881500</td><td>1984</td><td>Q04</td><td>335</td></tr><tr><td>| LEU0252881500 | 1984 |  Q03   |  322  |           |</td><td> LEU0252881500 1984 Q03 322 </td><td>LEU0252881500</td><td>1984</td><td>Q03</td><td>322</td></tr><tr><td>| LEU0252881500 | 1984 |  Q02   |  323  |           |</td><td> LEU0252881500 1984 Q02 323 </td><td>LEU0252881500</td><td>1984</td><td>Q02</td><td>323</td></tr><tr><td>| LEU0252881500 | 1984 |  Q01   |  323  |           |</td><td> LEU0252881500 1984 Q01 323 </td><td>LEU0252881500</td><td>1984</td><td>Q01</td><td>323</td></tr><tr><td>| LEU0252881500 | 1983 |  Q04   |  318  |           |</td><td> LEU0252881500 1983 Q04 318 </td><td>LEU0252881500</td><td>1983</td><td>Q04</td><td>318</td></tr><tr><td>| LEU0252881500 | 1983 |  Q03   |  311  |           |</td><td> LEU0252881500 1983 Q03 311 </td><td>LEU0252881500</td><td>1983</td><td>Q03</td><td>311</td></tr><tr><td>| LEU0252881500 | 1983 |  Q02   |  311  |           |</td><td> LEU0252881500 1983 Q02 311 </td><td>LEU0252881500</td><td>1983</td><td>Q02</td><td>311</td></tr><tr><td>| LEU0252881500 | 1983 |  Q01   |  311  |           |</td><td> LEU0252881500 1983 Q01 311 </td><td>LEU0252881500</td><td>1983</td><td>Q01</td><td>311</td></tr><tr><td>| LEU0252881500 | 1982 |  Q04   |  308  |           |</td><td> LEU0252881500 1982 Q04 308 </td><td>LEU0252881500</td><td>1982</td><td>Q04</td><td>308</td></tr><tr><td>| LEU0252881500 | 1982 |  Q03   |  299  |           |</td><td> LEU0252881500 1982 Q03 299 </td><td>LEU0252881500</td><td>1982</td><td>Q03</td><td>299</td></tr><tr><td>| LEU0252881500 | 1982 |  Q02   |  301  |           |</td><td> LEU0252881500 1982 Q02 301 </td><td>LEU0252881500</td><td>1982</td><td>Q02</td><td>301</td></tr><tr><td>| LEU0252881500 | 1982 |  Q01   |  298  |           |</td><td> LEU0252881500 1982 Q01 298 </td><td>LEU0252881500</td><td>1982</td><td>Q01</td><td>298</td></tr><tr><td>| LEU0252881500 | 1981 |  Q04   |  294  |           |</td><td> LEU0252881500 1981 Q04 294 </td><td>LEU0252881500</td><td>1981</td><td>Q04</td><td>294</td></tr><tr><td>| LEU0252881500 | 1981 |  Q03   |  281  |           |</td><td> LEU0252881500 1981 Q03 281 </td><td>LEU0252881500</td><td>1981</td><td>Q03</td><td>281</td></tr><tr><td>| LEU0252881500 | 1981 |  Q02   |  279  |           |</td><td> LEU0252881500 1981 Q02 279 </td><td>LEU0252881500</td><td>1981</td><td>Q02</td><td>279</td></tr><tr><td>| LEU0252881500 | 1981 |  Q01   |  278  |           |</td><td> LEU0252881500 1981 Q01 278 </td><td>LEU0252881500</td><td>1981</td><td>Q01</td><td>278</td></tr><tr><td>| LEU0252881500 | 1980 |  Q04   |  271  |           |</td><td> LEU0252881500 1980 Q04 271 </td><td>LEU0252881500</td><td>1980</td><td>Q04</td><td>271</td></tr><tr><td>| LEU0252881500 | 1980 |  Q03   |  262  |           |</td><td> LEU0252881500 1980 Q03 262 </td><td>LEU0252881500</td><td>1980</td><td>Q03</td><td>262</td></tr><tr><td>| LEU0252881500 | 1980 |  Q02   |  257  |           |</td><td> LEU0252881500 1980 Q02 257 </td><td>LEU0252881500</td><td>1980</td><td>Q02</td><td>257</td></tr><tr><td>| LEU0252881500 | 1980 |  Q01   |  256  |           |</td><td> LEU0252881500 1980 Q01 256 </td><td>LEU0252881500</td><td>1980</td><td>Q01</td><td>256</td></tr><tr><td>| LEU0252881500 | 1979 |  Q04   |  249  |           |</td><td> LEU0252881500 1979 Q04 249 </td><td>LEU0252881500</td><td>1979</td><td>Q04</td><td>249</td></tr><tr><td>| LEU0252881500 | 1979 |  Q03   |  240  |           |</td><td> LEU0252881500 1979 Q03 240 </td><td>LEU0252881500</td><td>1979</td><td>Q03</td><td>240</td></tr><tr><td>| LEU0252881500 | 1979 |  Q02   |  239  |           |</td><td> LEU0252881500 1979 Q02 239 </td><td>LEU0252881500</td><td>1979</td><td>Q02</td><td>239</td></tr><tr><td>| LEU0252881500 | 1979 |  Q01   |  234  |           |</td><td> LEU0252881500 1979 Q01 234 </td><td>LEU0252881500</td><td>1979</td><td>Q01</td><td>234</td></tr><tr><td>+---------------+------+--------+-------+-----------++---------------+------+--------+-------+-----------+</td><td> </td><td></td><td>null</td><td>null</td><td>null</td></tr><tr><td>|   series id   | year | period | value | footnotes |</td><td> series id year period value footnotes </td><td>series</td><td>id</td><td>year</td><td>period</td></tr><tr><td>+---------------+------+--------+-------+-----------+</td><td> </td><td></td><td>null</td><td>null</td><td>null</td></tr><tr><td>| LEU0252881500 | 1998 |  Q04   |  541  |           |</td><td> LEU0252881500 1998 Q04 541 </td><td>LEU0252881500</td><td>1998</td><td>Q04</td><td>541</td></tr><tr><td>| LEU0252881500 | 1998 |  Q03   |  520  |           |</td><td> LEU0252881500 1998 Q03 520 </td><td>LEU0252881500</td><td>1998</td><td>Q03</td><td>520</td></tr><tr><td>| LEU0252881500 | 1998 |  Q02   |  515  |           |</td><td> LEU0252881500 1998 Q02 515 </td><td>LEU0252881500</td><td>1998</td><td>Q02</td><td>515</td></tr><tr><td>| LEU0252881500 | 1998 |  Q01   |  521  |           |</td><td> LEU0252881500 1998 Q01 521 </td><td>LEU0252881500</td><td>1998</td><td>Q01</td><td>521</td></tr><tr><td>| LEU0252881500 | 1997 |  Q04   |  511  |           |</td><td> LEU0252881500 1997 Q04 511 </td><td>LEU0252881500</td><td>1997</td><td>Q04</td><td>511</td></tr><tr><td>| LEU0252881500 | 1997 |  Q03   |  499  |           |</td><td> LEU0252881500 1997 Q03 499 </td><td>LEU0252881500</td><td>1997</td><td>Q03</td><td>499</td></tr><tr><td>| LEU0252881500 | 1997 |  Q02   |  499  |           |</td><td> LEU0252881500 1997 Q02 499 </td><td>LEU0252881500</td><td>1997</td><td>Q02</td><td>499</td></tr><tr><td>| LEU0252881500 | 1997 |  Q01   |  504  |           |</td><td> LEU0252881500 1997 Q01 504 </td><td>LEU0252881500</td><td>1997</td><td>Q01</td><td>504</td></tr><tr><td>| LEU0252881500 | 1996 |  Q04   |  499  |           |</td><td> LEU0252881500 1996 Q04 499 </td><td>LEU0252881500</td><td>1996</td><td>Q04</td><td>499</td></tr><tr><td>| LEU0252881500 | 1996 |  Q03   |  488  |           |</td><td> LEU0252881500 1996 Q03 488 </td><td>LEU0252881500</td><td>1996</td><td>Q03</td><td>488</td></tr><tr><td>| LEU0252881500 | 1996 |  Q02   |  486  |           |</td><td> LEU0252881500 1996 Q02 486 </td><td>LEU0252881500</td><td>1996</td><td>Q02</td><td>486</td></tr><tr><td>| LEU0252881500 | 1996 |  Q01   |  489  |           |</td><td> LEU0252881500 1996 Q01 489 </td><td>LEU0252881500</td><td>1996</td><td>Q01</td><td>489</td></tr><tr><td>| LEU0252881500 | 1995 |  Q04   |  484  |           |</td><td> LEU0252881500 1995 Q04 484 </td><td>LEU0252881500</td><td>1995</td><td>Q04</td><td>484</td></tr><tr><td>| LEU0252881500 | 1995 |  Q03   |  479  |           |</td><td> LEU0252881500 1995 Q03 479 </td><td>LEU0252881500</td><td>1995</td><td>Q03</td><td>479</td></tr><tr><td>| LEU0252881500 | 1995 |  Q02   |  475  |           |</td><td> LEU0252881500 1995 Q02 475 </td><td>LEU0252881500</td><td>1995</td><td>Q02</td><td>475</td></tr><tr><td>| LEU0252881500 | 1995 |  Q01   |  478  |           |</td><td> LEU0252881500 1995 Q01 478 </td><td>LEU0252881500</td><td>1995</td><td>Q01</td><td>478</td></tr><tr><td>| LEU0252881500 | 1994 |  Q04   |  472  |           |</td><td> LEU0252881500 1994 Q04 472 </td><td>LEU0252881500</td><td>1994</td><td>Q04</td><td>472</td></tr><tr><td>| LEU0252881500 | 1994 |  Q03   |  462  |           |</td><td> LEU0252881500 1994 Q03 462 </td><td>LEU0252881500</td><td>1994</td><td>Q03</td><td>462</td></tr><tr><td>| LEU0252881500 | 1994 |  Q02   |  465  |           |</td><td> LEU0252881500 1994 Q02 465 </td><td>LEU0252881500</td><td>1994</td><td>Q02</td><td>465</td></tr><tr><td>| LEU0252881500 | 1994 |  Q01   |  469  |           |</td><td> LEU0252881500 1994 Q01 469 </td><td>LEU0252881500</td><td>1994</td><td>Q01</td><td>469</td></tr><tr><td>| LEU0252881500 | 1993 |  Q04   |  467  |           |</td><td> LEU0252881500 1993 Q04 467 </td><td>LEU0252881500</td><td>1993</td><td>Q04</td><td>467</td></tr><tr><td>| LEU0252881500 | 1993 |  Q03   |  456  |           |</td><td> LEU0252881500 1993 Q03 456 </td><td>LEU0252881500</td><td>1993</td><td>Q03</td><td>456</td></tr><tr><td>| LEU0252881500 | 1993 |  Q02   |  455  |           |</td><td> LEU0252881500 1993 Q02 455 </td><td>LEU0252881500</td><td>1993</td><td>Q02</td><td>455</td></tr><tr><td>| LEU0252881500 | 1993 |  Q01   |  456  |           |</td><td> LEU0252881500 1993 Q01 456 </td><td>LEU0252881500</td><td>1993</td><td>Q01</td><td>456</td></tr><tr><td>| LEU0252881500 | 1992 |  Q04   |  445  |           |</td><td> LEU0252881500 1992 Q04 445 </td><td>LEU0252881500</td><td>1992</td><td>Q04</td><td>445</td></tr><tr><td>| LEU0252881500 | 1992 |  Q03   |  437  |           |</td><td> LEU0252881500 1992 Q03 437 </td><td>LEU0252881500</td><td>1992</td><td>Q03</td><td>437</td></tr><tr><td>| LEU0252881500 | 1992 |  Q02   |  436  |           |</td><td> LEU0252881500 1992 Q02 436 </td><td>LEU0252881500</td><td>1992</td><td>Q02</td><td>436</td></tr><tr><td>| LEU0252881500 | 1992 |  Q01   |  443  |           |</td><td> LEU0252881500 1992 Q01 443 </td><td>LEU0252881500</td><td>1992</td><td>Q01</td><td>443</td></tr><tr><td>| LEU0252881500 | 1991 |  Q04   |  432  |           |</td><td> LEU0252881500 1991 Q04 432 </td><td>LEU0252881500</td><td>1991</td><td>Q04</td><td>432</td></tr><tr><td>| LEU0252881500 | 1991 |  Q03   |  421  |           |</td><td> LEU0252881500 1991 Q03 421 </td><td>LEU0252881500</td><td>1991</td><td>Q03</td><td>421</td></tr><tr><td>| LEU0252881500 | 1991 |  Q02   |  422  |           |</td><td> LEU0252881500 1991 Q02 422 </td><td>LEU0252881500</td><td>1991</td><td>Q02</td><td>422</td></tr><tr><td>| LEU0252881500 | 1991 |  Q01   |  432  |           |</td><td> LEU0252881500 1991 Q01 432 </td><td>LEU0252881500</td><td>1991</td><td>Q01</td><td>432</td></tr><tr><td>| LEU0252881500 | 1990 |  Q04   |  419  |           |</td><td> LEU0252881500 1990 Q04 419 </td><td>LEU0252881500</td><td>1990</td><td>Q04</td><td>419</td></tr><tr><td>| LEU0252881500 | 1990 |  Q03   |  406  |           |</td><td> LEU0252881500 1990 Q03 406 </td><td>LEU0252881500</td><td>1990</td><td>Q03</td><td>406</td></tr><tr><td>| LEU0252881500 | 1990 |  Q02   |  411  |           |</td><td> LEU0252881500 1990 Q02 411 </td><td>LEU0252881500</td><td>1990</td><td>Q02</td><td>411</td></tr><tr><td>| LEU0252881500 | 1990 |  Q01   |  413  |           |</td><td> LEU0252881500 1990 Q01 413 </td><td>LEU0252881500</td><td>1990</td><td>Q01</td><td>413</td></tr><tr><td>| LEU0252881500 | 1989 |  Q04   |  408  |           |</td><td> LEU0252881500 1989 Q04 408 </td><td>LEU0252881500</td><td>1989</td><td>Q04</td><td>408</td></tr><tr><td>| LEU0252881500 | 1989 |  Q03   |  395  |           |</td><td> LEU0252881500 1989 Q03 395 </td><td>LEU0252881500</td><td>1989</td><td>Q03</td><td>395</td></tr><tr><td>| LEU0252881500 | 1989 |  Q02   |  398  |           |</td><td> LEU0252881500 1989 Q02 398 </td><td>LEU0252881500</td><td>1989</td><td>Q02</td><td>398</td></tr><tr><td>| LEU0252881500 | 1989 |  Q01   |  397  |           |</td><td> LEU0252881500 1989 Q01 397 </td><td>LEU0252881500</td><td>1989</td><td>Q01</td><td>397</td></tr><tr><td>+---------------+------+--------+-------+-----------++---------------+------+--------+-------+-----------+</td><td> </td><td></td><td>null</td><td>null</td><td>null</td></tr><tr><td>|   series id   | year | period | value | footnotes |</td><td> series id year period value footnotes </td><td>series</td><td>id</td><td>year</td><td>period</td></tr><tr><td>+---------------+------+--------+-------+-----------+</td><td> </td><td></td><td>null</td><td>null</td><td>null</td></tr><tr><td>| LEU0252881500 | 2008 |  Q04   |  728  |           |</td><td> LEU0252881500 2008 Q04 728 </td><td>LEU0252881500</td><td>2008</td><td>Q04</td><td>728</td></tr><tr><td>| LEU0252881500 | 2008 |  Q03   |  720  |           |</td><td> LEU0252881500 2008 Q03 720 </td><td>LEU0252881500</td><td>2008</td><td>Q03</td><td>720</td></tr><tr><td>| LEU0252881500 | 2008 |  Q02   |  719  |           |</td><td> LEU0252881500 2008 Q02 719 </td><td>LEU0252881500</td><td>2008</td><td>Q02</td><td>719</td></tr><tr><td>| LEU0252881500 | 2008 |  Q01   |  719  |           |</td><td> LEU0252881500 2008 Q01 719 </td><td>LEU0252881500</td><td>2008</td><td>Q01</td><td>719</td></tr><tr><td>| LEU0252881500 | 2007 |  Q04   |  700  |           |</td><td> LEU0252881500 2007 Q04 700 </td><td>LEU0252881500</td><td>2007</td><td>Q04</td><td>700</td></tr><tr><td>| LEU0252881500 | 2007 |  Q03   |  695  |           |</td><td> LEU0252881500 2007 Q03 695 </td><td>LEU0252881500</td><td>2007</td><td>Q03</td><td>695</td></tr><tr><td>| LEU0252881500 | 2007 |  Q02   |  690  |           |</td><td> LEU0252881500 2007 Q02 690 </td><td>LEU0252881500</td><td>2007</td><td>Q02</td><td>690</td></tr><tr><td>| LEU0252881500 | 2007 |  Q01   |  693  |           |</td><td> LEU0252881500 2007 Q01 693 </td><td>LEU0252881500</td><td>2007</td><td>Q01</td><td>693</td></tr><tr><td>| LEU0252881500 | 2006 |  Q04   |  682  |           |</td><td> LEU0252881500 2006 Q04 682 </td><td>LEU0252881500</td><td>2006</td><td>Q04</td><td>682</td></tr><tr><td>| LEU0252881500 | 2006 |  Q03   |  675  |           |</td><td> LEU0252881500 2006 Q03 675 </td><td>LEU0252881500</td><td>2006</td><td>Q03</td><td>675</td></tr><tr><td>| LEU0252881500 | 2006 |  Q02   |  659  |           |</td><td> LEU0252881500 2006 Q02 659 </td><td>LEU0252881500</td><td>2006</td><td>Q02</td><td>659</td></tr></tbody></table></div>"
      ]
     },
     "metadata": {
      "application/vnd.databricks.v1+output": {
       "addedWidgets": {},
       "aggData": [],
       "aggError": "",
       "aggOverflow": false,
       "aggSchema": [],
       "aggSeriesLimitReached": false,
       "aggType": "",
       "arguments": {},
       "columnCustomDisplayInfos": {},
       "data": [
        [
         "+---------------+------+--------+-------+-----------+",
         " ",
         "",
         null,
         null,
         null
        ],
        [
         "|   series id   | year | period | value | footnotes |",
         " series id year period value footnotes ",
         "series",
         "id",
         "year",
         "period"
        ],
        [
         "+---------------+------+--------+-------+-----------+",
         " ",
         "",
         null,
         null,
         null
        ],
        [
         "| LEU0252881500 | 1988 |  Q04   |  392  |           |",
         " LEU0252881500 1988 Q04 392 ",
         "LEU0252881500",
         "1988",
         "Q04",
         "392"
        ],
        [
         "| LEU0252881500 | 1988 |  Q03   |  381  |           |",
         " LEU0252881500 1988 Q03 381 ",
         "LEU0252881500",
         "1988",
         "Q03",
         "381"
        ],
        [
         "| LEU0252881500 | 1988 |  Q02   |  382  |           |",
         " LEU0252881500 1988 Q02 382 ",
         "LEU0252881500",
         "1988",
         "Q02",
         "382"
        ],
        [
         "| LEU0252881500 | 1988 |  Q01   |  385  |           |",
         " LEU0252881500 1988 Q01 385 ",
         "LEU0252881500",
         "1988",
         "Q01",
         "385"
        ],
        [
         "| LEU0252881500 | 1987 |  Q04   |  381  |           |",
         " LEU0252881500 1987 Q04 381 ",
         "LEU0252881500",
         "1987",
         "Q04",
         "381"
        ],
        [
         "| LEU0252881500 | 1987 |  Q03   |  371  |           |",
         " LEU0252881500 1987 Q03 371 ",
         "LEU0252881500",
         "1987",
         "Q03",
         "371"
        ],
        [
         "| LEU0252881500 | 1987 |  Q02   |  371  |           |",
         " LEU0252881500 1987 Q02 371 ",
         "LEU0252881500",
         "1987",
         "Q02",
         "371"
        ],
        [
         "| LEU0252881500 | 1987 |  Q01   |  369  |           |",
         " LEU0252881500 1987 Q01 369 ",
         "LEU0252881500",
         "1987",
         "Q01",
         "369"
        ],
        [
         "| LEU0252881500 | 1986 |  Q04   |  368  |           |",
         " LEU0252881500 1986 Q04 368 ",
         "LEU0252881500",
         "1986",
         "Q04",
         "368"
        ],
        [
         "| LEU0252881500 | 1986 |  Q03   |  354  |           |",
         " LEU0252881500 1986 Q03 354 ",
         "LEU0252881500",
         "1986",
         "Q03",
         "354"
        ],
        [
         "| LEU0252881500 | 1986 |  Q02   |  358  |           |",
         " LEU0252881500 1986 Q02 358 ",
         "LEU0252881500",
         "1986",
         "Q02",
         "358"
        ],
        [
         "| LEU0252881500 | 1986 |  Q01   |  354  |           |",
         " LEU0252881500 1986 Q01 354 ",
         "LEU0252881500",
         "1986",
         "Q01",
         "354"
        ],
        [
         "| LEU0252881500 | 1985 |  Q04   |  351  |           |",
         " LEU0252881500 1985 Q04 351 ",
         "LEU0252881500",
         "1985",
         "Q04",
         "351"
        ],
        [
         "| LEU0252881500 | 1985 |  Q03   |  340  |           |",
         " LEU0252881500 1985 Q03 340 ",
         "LEU0252881500",
         "1985",
         "Q03",
         "340"
        ],
        [
         "| LEU0252881500 | 1985 |  Q02   |  347  |           |",
         " LEU0252881500 1985 Q02 347 ",
         "LEU0252881500",
         "1985",
         "Q02",
         "347"
        ],
        [
         "| LEU0252881500 | 1985 |  Q01   |  336  |           |",
         " LEU0252881500 1985 Q01 336 ",
         "LEU0252881500",
         "1985",
         "Q01",
         "336"
        ],
        [
         "| LEU0252881500 | 1984 |  Q04   |  335  |           |",
         " LEU0252881500 1984 Q04 335 ",
         "LEU0252881500",
         "1984",
         "Q04",
         "335"
        ],
        [
         "| LEU0252881500 | 1984 |  Q03   |  322  |           |",
         " LEU0252881500 1984 Q03 322 ",
         "LEU0252881500",
         "1984",
         "Q03",
         "322"
        ],
        [
         "| LEU0252881500 | 1984 |  Q02   |  323  |           |",
         " LEU0252881500 1984 Q02 323 ",
         "LEU0252881500",
         "1984",
         "Q02",
         "323"
        ],
        [
         "| LEU0252881500 | 1984 |  Q01   |  323  |           |",
         " LEU0252881500 1984 Q01 323 ",
         "LEU0252881500",
         "1984",
         "Q01",
         "323"
        ],
        [
         "| LEU0252881500 | 1983 |  Q04   |  318  |           |",
         " LEU0252881500 1983 Q04 318 ",
         "LEU0252881500",
         "1983",
         "Q04",
         "318"
        ],
        [
         "| LEU0252881500 | 1983 |  Q03   |  311  |           |",
         " LEU0252881500 1983 Q03 311 ",
         "LEU0252881500",
         "1983",
         "Q03",
         "311"
        ],
        [
         "| LEU0252881500 | 1983 |  Q02   |  311  |           |",
         " LEU0252881500 1983 Q02 311 ",
         "LEU0252881500",
         "1983",
         "Q02",
         "311"
        ],
        [
         "| LEU0252881500 | 1983 |  Q01   |  311  |           |",
         " LEU0252881500 1983 Q01 311 ",
         "LEU0252881500",
         "1983",
         "Q01",
         "311"
        ],
        [
         "| LEU0252881500 | 1982 |  Q04   |  308  |           |",
         " LEU0252881500 1982 Q04 308 ",
         "LEU0252881500",
         "1982",
         "Q04",
         "308"
        ],
        [
         "| LEU0252881500 | 1982 |  Q03   |  299  |           |",
         " LEU0252881500 1982 Q03 299 ",
         "LEU0252881500",
         "1982",
         "Q03",
         "299"
        ],
        [
         "| LEU0252881500 | 1982 |  Q02   |  301  |           |",
         " LEU0252881500 1982 Q02 301 ",
         "LEU0252881500",
         "1982",
         "Q02",
         "301"
        ],
        [
         "| LEU0252881500 | 1982 |  Q01   |  298  |           |",
         " LEU0252881500 1982 Q01 298 ",
         "LEU0252881500",
         "1982",
         "Q01",
         "298"
        ],
        [
         "| LEU0252881500 | 1981 |  Q04   |  294  |           |",
         " LEU0252881500 1981 Q04 294 ",
         "LEU0252881500",
         "1981",
         "Q04",
         "294"
        ],
        [
         "| LEU0252881500 | 1981 |  Q03   |  281  |           |",
         " LEU0252881500 1981 Q03 281 ",
         "LEU0252881500",
         "1981",
         "Q03",
         "281"
        ],
        [
         "| LEU0252881500 | 1981 |  Q02   |  279  |           |",
         " LEU0252881500 1981 Q02 279 ",
         "LEU0252881500",
         "1981",
         "Q02",
         "279"
        ],
        [
         "| LEU0252881500 | 1981 |  Q01   |  278  |           |",
         " LEU0252881500 1981 Q01 278 ",
         "LEU0252881500",
         "1981",
         "Q01",
         "278"
        ],
        [
         "| LEU0252881500 | 1980 |  Q04   |  271  |           |",
         " LEU0252881500 1980 Q04 271 ",
         "LEU0252881500",
         "1980",
         "Q04",
         "271"
        ],
        [
         "| LEU0252881500 | 1980 |  Q03   |  262  |           |",
         " LEU0252881500 1980 Q03 262 ",
         "LEU0252881500",
         "1980",
         "Q03",
         "262"
        ],
        [
         "| LEU0252881500 | 1980 |  Q02   |  257  |           |",
         " LEU0252881500 1980 Q02 257 ",
         "LEU0252881500",
         "1980",
         "Q02",
         "257"
        ],
        [
         "| LEU0252881500 | 1980 |  Q01   |  256  |           |",
         " LEU0252881500 1980 Q01 256 ",
         "LEU0252881500",
         "1980",
         "Q01",
         "256"
        ],
        [
         "| LEU0252881500 | 1979 |  Q04   |  249  |           |",
         " LEU0252881500 1979 Q04 249 ",
         "LEU0252881500",
         "1979",
         "Q04",
         "249"
        ],
        [
         "| LEU0252881500 | 1979 |  Q03   |  240  |           |",
         " LEU0252881500 1979 Q03 240 ",
         "LEU0252881500",
         "1979",
         "Q03",
         "240"
        ],
        [
         "| LEU0252881500 | 1979 |  Q02   |  239  |           |",
         " LEU0252881500 1979 Q02 239 ",
         "LEU0252881500",
         "1979",
         "Q02",
         "239"
        ],
        [
         "| LEU0252881500 | 1979 |  Q01   |  234  |           |",
         " LEU0252881500 1979 Q01 234 ",
         "LEU0252881500",
         "1979",
         "Q01",
         "234"
        ],
        [
         "+---------------+------+--------+-------+-----------++---------------+------+--------+-------+-----------+",
         " ",
         "",
         null,
         null,
         null
        ],
        [
         "|   series id   | year | period | value | footnotes |",
         " series id year period value footnotes ",
         "series",
         "id",
         "year",
         "period"
        ],
        [
         "+---------------+------+--------+-------+-----------+",
         " ",
         "",
         null,
         null,
         null
        ],
        [
         "| LEU0252881500 | 1998 |  Q04   |  541  |           |",
         " LEU0252881500 1998 Q04 541 ",
         "LEU0252881500",
         "1998",
         "Q04",
         "541"
        ],
        [
         "| LEU0252881500 | 1998 |  Q03   |  520  |           |",
         " LEU0252881500 1998 Q03 520 ",
         "LEU0252881500",
         "1998",
         "Q03",
         "520"
        ],
        [
         "| LEU0252881500 | 1998 |  Q02   |  515  |           |",
         " LEU0252881500 1998 Q02 515 ",
         "LEU0252881500",
         "1998",
         "Q02",
         "515"
        ],
        [
         "| LEU0252881500 | 1998 |  Q01   |  521  |           |",
         " LEU0252881500 1998 Q01 521 ",
         "LEU0252881500",
         "1998",
         "Q01",
         "521"
        ],
        [
         "| LEU0252881500 | 1997 |  Q04   |  511  |           |",
         " LEU0252881500 1997 Q04 511 ",
         "LEU0252881500",
         "1997",
         "Q04",
         "511"
        ],
        [
         "| LEU0252881500 | 1997 |  Q03   |  499  |           |",
         " LEU0252881500 1997 Q03 499 ",
         "LEU0252881500",
         "1997",
         "Q03",
         "499"
        ],
        [
         "| LEU0252881500 | 1997 |  Q02   |  499  |           |",
         " LEU0252881500 1997 Q02 499 ",
         "LEU0252881500",
         "1997",
         "Q02",
         "499"
        ],
        [
         "| LEU0252881500 | 1997 |  Q01   |  504  |           |",
         " LEU0252881500 1997 Q01 504 ",
         "LEU0252881500",
         "1997",
         "Q01",
         "504"
        ],
        [
         "| LEU0252881500 | 1996 |  Q04   |  499  |           |",
         " LEU0252881500 1996 Q04 499 ",
         "LEU0252881500",
         "1996",
         "Q04",
         "499"
        ],
        [
         "| LEU0252881500 | 1996 |  Q03   |  488  |           |",
         " LEU0252881500 1996 Q03 488 ",
         "LEU0252881500",
         "1996",
         "Q03",
         "488"
        ],
        [
         "| LEU0252881500 | 1996 |  Q02   |  486  |           |",
         " LEU0252881500 1996 Q02 486 ",
         "LEU0252881500",
         "1996",
         "Q02",
         "486"
        ],
        [
         "| LEU0252881500 | 1996 |  Q01   |  489  |           |",
         " LEU0252881500 1996 Q01 489 ",
         "LEU0252881500",
         "1996",
         "Q01",
         "489"
        ],
        [
         "| LEU0252881500 | 1995 |  Q04   |  484  |           |",
         " LEU0252881500 1995 Q04 484 ",
         "LEU0252881500",
         "1995",
         "Q04",
         "484"
        ],
        [
         "| LEU0252881500 | 1995 |  Q03   |  479  |           |",
         " LEU0252881500 1995 Q03 479 ",
         "LEU0252881500",
         "1995",
         "Q03",
         "479"
        ],
        [
         "| LEU0252881500 | 1995 |  Q02   |  475  |           |",
         " LEU0252881500 1995 Q02 475 ",
         "LEU0252881500",
         "1995",
         "Q02",
         "475"
        ],
        [
         "| LEU0252881500 | 1995 |  Q01   |  478  |           |",
         " LEU0252881500 1995 Q01 478 ",
         "LEU0252881500",
         "1995",
         "Q01",
         "478"
        ],
        [
         "| LEU0252881500 | 1994 |  Q04   |  472  |           |",
         " LEU0252881500 1994 Q04 472 ",
         "LEU0252881500",
         "1994",
         "Q04",
         "472"
        ],
        [
         "| LEU0252881500 | 1994 |  Q03   |  462  |           |",
         " LEU0252881500 1994 Q03 462 ",
         "LEU0252881500",
         "1994",
         "Q03",
         "462"
        ],
        [
         "| LEU0252881500 | 1994 |  Q02   |  465  |           |",
         " LEU0252881500 1994 Q02 465 ",
         "LEU0252881500",
         "1994",
         "Q02",
         "465"
        ],
        [
         "| LEU0252881500 | 1994 |  Q01   |  469  |           |",
         " LEU0252881500 1994 Q01 469 ",
         "LEU0252881500",
         "1994",
         "Q01",
         "469"
        ],
        [
         "| LEU0252881500 | 1993 |  Q04   |  467  |           |",
         " LEU0252881500 1993 Q04 467 ",
         "LEU0252881500",
         "1993",
         "Q04",
         "467"
        ],
        [
         "| LEU0252881500 | 1993 |  Q03   |  456  |           |",
         " LEU0252881500 1993 Q03 456 ",
         "LEU0252881500",
         "1993",
         "Q03",
         "456"
        ],
        [
         "| LEU0252881500 | 1993 |  Q02   |  455  |           |",
         " LEU0252881500 1993 Q02 455 ",
         "LEU0252881500",
         "1993",
         "Q02",
         "455"
        ],
        [
         "| LEU0252881500 | 1993 |  Q01   |  456  |           |",
         " LEU0252881500 1993 Q01 456 ",
         "LEU0252881500",
         "1993",
         "Q01",
         "456"
        ],
        [
         "| LEU0252881500 | 1992 |  Q04   |  445  |           |",
         " LEU0252881500 1992 Q04 445 ",
         "LEU0252881500",
         "1992",
         "Q04",
         "445"
        ],
        [
         "| LEU0252881500 | 1992 |  Q03   |  437  |           |",
         " LEU0252881500 1992 Q03 437 ",
         "LEU0252881500",
         "1992",
         "Q03",
         "437"
        ],
        [
         "| LEU0252881500 | 1992 |  Q02   |  436  |           |",
         " LEU0252881500 1992 Q02 436 ",
         "LEU0252881500",
         "1992",
         "Q02",
         "436"
        ],
        [
         "| LEU0252881500 | 1992 |  Q01   |  443  |           |",
         " LEU0252881500 1992 Q01 443 ",
         "LEU0252881500",
         "1992",
         "Q01",
         "443"
        ],
        [
         "| LEU0252881500 | 1991 |  Q04   |  432  |           |",
         " LEU0252881500 1991 Q04 432 ",
         "LEU0252881500",
         "1991",
         "Q04",
         "432"
        ],
        [
         "| LEU0252881500 | 1991 |  Q03   |  421  |           |",
         " LEU0252881500 1991 Q03 421 ",
         "LEU0252881500",
         "1991",
         "Q03",
         "421"
        ],
        [
         "| LEU0252881500 | 1991 |  Q02   |  422  |           |",
         " LEU0252881500 1991 Q02 422 ",
         "LEU0252881500",
         "1991",
         "Q02",
         "422"
        ],
        [
         "| LEU0252881500 | 1991 |  Q01   |  432  |           |",
         " LEU0252881500 1991 Q01 432 ",
         "LEU0252881500",
         "1991",
         "Q01",
         "432"
        ],
        [
         "| LEU0252881500 | 1990 |  Q04   |  419  |           |",
         " LEU0252881500 1990 Q04 419 ",
         "LEU0252881500",
         "1990",
         "Q04",
         "419"
        ],
        [
         "| LEU0252881500 | 1990 |  Q03   |  406  |           |",
         " LEU0252881500 1990 Q03 406 ",
         "LEU0252881500",
         "1990",
         "Q03",
         "406"
        ],
        [
         "| LEU0252881500 | 1990 |  Q02   |  411  |           |",
         " LEU0252881500 1990 Q02 411 ",
         "LEU0252881500",
         "1990",
         "Q02",
         "411"
        ],
        [
         "| LEU0252881500 | 1990 |  Q01   |  413  |           |",
         " LEU0252881500 1990 Q01 413 ",
         "LEU0252881500",
         "1990",
         "Q01",
         "413"
        ],
        [
         "| LEU0252881500 | 1989 |  Q04   |  408  |           |",
         " LEU0252881500 1989 Q04 408 ",
         "LEU0252881500",
         "1989",
         "Q04",
         "408"
        ],
        [
         "| LEU0252881500 | 1989 |  Q03   |  395  |           |",
         " LEU0252881500 1989 Q03 395 ",
         "LEU0252881500",
         "1989",
         "Q03",
         "395"
        ],
        [
         "| LEU0252881500 | 1989 |  Q02   |  398  |           |",
         " LEU0252881500 1989 Q02 398 ",
         "LEU0252881500",
         "1989",
         "Q02",
         "398"
        ],
        [
         "| LEU0252881500 | 1989 |  Q01   |  397  |           |",
         " LEU0252881500 1989 Q01 397 ",
         "LEU0252881500",
         "1989",
         "Q01",
         "397"
        ],
        [
         "+---------------+------+--------+-------+-----------++---------------+------+--------+-------+-----------+",
         " ",
         "",
         null,
         null,
         null
        ],
        [
         "|   series id   | year | period | value | footnotes |",
         " series id year period value footnotes ",
         "series",
         "id",
         "year",
         "period"
        ],
        [
         "+---------------+------+--------+-------+-----------+",
         " ",
         "",
         null,
         null,
         null
        ],
        [
         "| LEU0252881500 | 2008 |  Q04   |  728  |           |",
         " LEU0252881500 2008 Q04 728 ",
         "LEU0252881500",
         "2008",
         "Q04",
         "728"
        ],
        [
         "| LEU0252881500 | 2008 |  Q03   |  720  |           |",
         " LEU0252881500 2008 Q03 720 ",
         "LEU0252881500",
         "2008",
         "Q03",
         "720"
        ],
        [
         "| LEU0252881500 | 2008 |  Q02   |  719  |           |",
         " LEU0252881500 2008 Q02 719 ",
         "LEU0252881500",
         "2008",
         "Q02",
         "719"
        ],
        [
         "| LEU0252881500 | 2008 |  Q01   |  719  |           |",
         " LEU0252881500 2008 Q01 719 ",
         "LEU0252881500",
         "2008",
         "Q01",
         "719"
        ],
        [
         "| LEU0252881500 | 2007 |  Q04   |  700  |           |",
         " LEU0252881500 2007 Q04 700 ",
         "LEU0252881500",
         "2007",
         "Q04",
         "700"
        ],
        [
         "| LEU0252881500 | 2007 |  Q03   |  695  |           |",
         " LEU0252881500 2007 Q03 695 ",
         "LEU0252881500",
         "2007",
         "Q03",
         "695"
        ],
        [
         "| LEU0252881500 | 2007 |  Q02   |  690  |           |",
         " LEU0252881500 2007 Q02 690 ",
         "LEU0252881500",
         "2007",
         "Q02",
         "690"
        ],
        [
         "| LEU0252881500 | 2007 |  Q01   |  693  |           |",
         " LEU0252881500 2007 Q01 693 ",
         "LEU0252881500",
         "2007",
         "Q01",
         "693"
        ],
        [
         "| LEU0252881500 | 2006 |  Q04   |  682  |           |",
         " LEU0252881500 2006 Q04 682 ",
         "LEU0252881500",
         "2006",
         "Q04",
         "682"
        ],
        [
         "| LEU0252881500 | 2006 |  Q03   |  675  |           |",
         " LEU0252881500 2006 Q03 675 ",
         "LEU0252881500",
         "2006",
         "Q03",
         "675"
        ],
        [
         "| LEU0252881500 | 2006 |  Q02   |  659  |           |",
         " LEU0252881500 2006 Q02 659 ",
         "LEU0252881500",
         "2006",
         "Q02",
         "659"
        ]
       ],
       "datasetInfos": [],
       "dbfsResultPath": null,
       "isJsonSchema": true,
       "metadata": {},
       "overflow": false,
       "plotOptions": {
        "customPlotOptions": {},
        "displayType": "table",
        "pivotAggregation": null,
        "pivotColumns": null,
        "xColumns": null,
        "yColumns": null
       },
       "removedWidgets": [],
       "schema": [
        {
         "metadata": "{}",
         "name": "value",
         "type": "\"string\""
        },
        {
         "metadata": "{}",
         "name": "split_value",
         "type": "\"string\""
        },
        {
         "metadata": "{}",
         "name": "seriesId",
         "type": "\"string\""
        },
        {
         "metadata": "{}",
         "name": "year",
         "type": "\"string\""
        },
        {
         "metadata": "{}",
         "name": "month",
         "type": "\"string\""
        },
        {
         "metadata": "{}",
         "name": "value1",
         "type": "\"string\""
        }
       ],
       "type": "table"
      }
     },
     "output_type": "display_data"
    }
   ],
   "source": [
    "\n",
    "wages_chars_removed = wages.select(wages.value, regexp_replace(wages.value, r'\\W+', ' ').alias(\"split_value\"))\n",
    "wages_columns_split = wages_chars_removed.withColumn(\"seriesId\", split(wages_chars_removed.split_value, \" \").getItem(1)).withColumn(\"year\", split(wages_chars_removed.split_value, \" \").getItem(2)).withColumn(\"month\", split(wages_chars_removed.split_value, \" \").getItem(3)).withColumn(\"value1\", split(wages_chars_removed.split_value, \" \").getItem(4)) #split the date and time into separate columns\n",
    "wages_columns_split.printSchema()\n",
    "display(wages_columns_split.take(100))\n"
   ]
  },
  {
   "cell_type": "code",
   "execution_count": 0,
   "metadata": {
    "application/vnd.databricks.v1+cell": {
     "cellMetadata": {
      "byteLimit": 2048000,
      "rowLimit": 10000
     },
     "inputWidgets": {},
     "nuid": "bd86c65e-e7da-41f1-95b1-e7dacce6d1f2",
     "showTitle": false,
     "title": ""
    }
   },
   "outputs": [
    {
     "output_type": "display_data",
     "data": {
      "text/html": [
       "<style scoped>\n",
       "  .table-result-container {\n",
       "    max-height: 300px;\n",
       "    overflow: auto;\n",
       "  }\n",
       "  table, th, td {\n",
       "    border: 1px solid black;\n",
       "    border-collapse: collapse;\n",
       "  }\n",
       "  th, td {\n",
       "    padding: 5px;\n",
       "  }\n",
       "  th {\n",
       "    text-align: left;\n",
       "  }\n",
       "</style><div class='table-result-container'><table class='table-result'><thead style='background-color: white'><tr><th>seriesId</th><th>year</th><th>month</th><th>whole_value</th><th>decimal_value</th></tr></thead><tbody><tr><td></td><td>null</td><td>null</td><td>null</td><td>null</td></tr><tr><td>series</td><td>id</td><td>year</td><td>period</td><td>value</td></tr><tr><td></td><td>null</td><td>null</td><td>null</td><td>null</td></tr><tr><td>APU000074714</td><td>1985</td><td>M12</td><td>1</td><td>208</td></tr><tr><td>APU000074714</td><td>1985</td><td>M11</td><td>1</td><td>207</td></tr><tr><td>APU000074714</td><td>1985</td><td>M10</td><td>1</td><td>204</td></tr><tr><td>APU000074714</td><td>1985</td><td>M09</td><td>1</td><td>216</td></tr><tr><td>APU000074714</td><td>1985</td><td>M08</td><td>1</td><td>229</td></tr><tr><td>APU000074714</td><td>1985</td><td>M07</td><td>1</td><td>242</td></tr><tr><td>APU000074714</td><td>1985</td><td>M06</td><td>1</td><td>241</td></tr></tbody></table></div>"
      ]
     },
     "metadata": {
      "application/vnd.databricks.v1+output": {
       "addedWidgets": {},
       "aggData": [],
       "aggError": "",
       "aggOverflow": false,
       "aggSchema": [],
       "aggSeriesLimitReached": false,
       "aggType": "",
       "arguments": {},
       "columnCustomDisplayInfos": {},
       "data": [
        [
         "",
         null,
         null,
         null,
         null
        ],
        [
         "series",
         "id",
         "year",
         "period",
         "value"
        ],
        [
         "",
         null,
         null,
         null,
         null
        ],
        [
         "APU000074714",
         "1985",
         "M12",
         "1",
         "208"
        ],
        [
         "APU000074714",
         "1985",
         "M11",
         "1",
         "207"
        ],
        [
         "APU000074714",
         "1985",
         "M10",
         "1",
         "204"
        ],
        [
         "APU000074714",
         "1985",
         "M09",
         "1",
         "216"
        ],
        [
         "APU000074714",
         "1985",
         "M08",
         "1",
         "229"
        ],
        [
         "APU000074714",
         "1985",
         "M07",
         "1",
         "242"
        ],
        [
         "APU000074714",
         "1985",
         "M06",
         "1",
         "241"
        ]
       ],
       "datasetInfos": [],
       "dbfsResultPath": null,
       "isJsonSchema": true,
       "metadata": {},
       "overflow": false,
       "plotOptions": {
        "customPlotOptions": {},
        "displayType": "table",
        "pivotAggregation": null,
        "pivotColumns": null,
        "xColumns": null,
        "yColumns": null
       },
       "removedWidgets": [],
       "schema": [
        {
         "metadata": "{}",
         "name": "seriesId",
         "type": "\"string\""
        },
        {
         "metadata": "{}",
         "name": "year",
         "type": "\"string\""
        },
        {
         "metadata": "{}",
         "name": "month",
         "type": "\"string\""
        },
        {
         "metadata": "{}",
         "name": "whole_value",
         "type": "\"string\""
        },
        {
         "metadata": "{}",
         "name": "decimal_value",
         "type": "\"string\""
        }
       ],
       "type": "table"
      }
     },
     "output_type": "display_data"
    }
   ],
   "source": [
    "wages_columns_split_updated_cols = wages_columns_split.drop(wages_columns_split.value)\n",
    "wages_columns_split_updated_cols2 = wages_columns_split_updated_cols.drop(wages_columns_split_updated_cols.split_value)\n",
    "display(gas_price_columns_split_updated_cols2.take(10))\n",
    "\n"
   ]
  },
  {
   "cell_type": "code",
   "execution_count": 0,
   "metadata": {
    "application/vnd.databricks.v1+cell": {
     "cellMetadata": {
      "byteLimit": 2048000,
      "rowLimit": 10000
     },
     "inputWidgets": {},
     "nuid": "ae589c20-af94-460b-a302-ded043f013ce",
     "showTitle": false,
     "title": ""
    }
   },
   "outputs": [
    {
     "output_type": "stream",
     "name": "stdout",
     "output_type": "stream",
     "text": [
      "+-------------+----+-----+------+\n|     seriesId|year|month|value1|\n+-------------+----+-----+------+\n|LEU0252881500|1988|  Q04|   392|\n|LEU0252881500|1988|  Q03|   381|\n|LEU0252881500|1988|  Q02|   382|\n|LEU0252881500|1988|  Q01|   385|\n|LEU0252881500|1987|  Q04|   381|\n|LEU0252881500|1987|  Q03|   371|\n|LEU0252881500|1987|  Q02|   371|\n|LEU0252881500|1987|  Q01|   369|\n|LEU0252881500|1986|  Q04|   368|\n|LEU0252881500|1986|  Q03|   354|\n|LEU0252881500|1986|  Q02|   358|\n|LEU0252881500|1986|  Q01|   354|\n|LEU0252881500|1985|  Q04|   351|\n|LEU0252881500|1985|  Q03|   340|\n|LEU0252881500|1985|  Q02|   347|\n|LEU0252881500|1985|  Q01|   336|\n|LEU0252881500|1984|  Q04|   335|\n|LEU0252881500|1984|  Q03|   322|\n|LEU0252881500|1984|  Q02|   323|\n|LEU0252881500|1984|  Q01|   323|\n+-------------+----+-----+------+\nonly showing top 20 rows\n\n"
     ]
    }
   ],
   "source": [
    "df_wages_null_value_removed = wages_columns_split_updated_cols2.na.drop()\n",
    "df_wages_null_value_removed_new = spark.createDataFrame(df_wages_null_value_removed.tail(df_wages_null_value_removed.count()-1), df_wages_null_value_removed.schema)\n",
    "df_wages_null_value_removed_new.show()"
   ]
  },
  {
   "cell_type": "code",
   "execution_count": 0,
   "metadata": {
    "application/vnd.databricks.v1+cell": {
     "cellMetadata": {
      "byteLimit": 2048000,
      "rowLimit": 10000
     },
     "inputWidgets": {},
     "nuid": "01c27c87-2ee6-4add-941e-9cc46d481f3c",
     "showTitle": false,
     "title": ""
    }
   },
   "outputs": [],
   "source": [
    "import pyspark.sql.functions as f"
   ]
  },
  {
   "cell_type": "markdown",
   "metadata": {
    "application/vnd.databricks.v1+cell": {
     "cellMetadata": {
      "byteLimit": 2048000,
      "rowLimit": 10000
     },
     "inputWidgets": {},
     "nuid": "97cc9cf3-fe56-46be-be0c-d46d77fa4f4b",
     "showTitle": false,
     "title": ""
    }
   },
   "source": [
    "#### Calulate the average of gas price for each year by grouping by year and aggregating by it's actual_value"
   ]
  },
  {
   "cell_type": "markdown",
   "metadata": {
    "application/vnd.databricks.v1+cell": {
     "cellMetadata": {
      "byteLimit": 2048000,
      "rowLimit": 10000
     },
     "inputWidgets": {},
     "nuid": "d89a6225-272d-4850-91ab-1e823f79276f",
     "showTitle": false,
     "title": ""
    }
   },
   "source": [
    "######seclect only the year and the price of gasoline"
   ]
  },
  {
   "cell_type": "code",
   "execution_count": 0,
   "metadata": {
    "application/vnd.databricks.v1+cell": {
     "cellMetadata": {
      "byteLimit": 2048000,
      "rowLimit": 10000
     },
     "inputWidgets": {},
     "nuid": "09d33037-3014-46d7-bd3d-3727a3e4be88",
     "showTitle": false,
     "title": ""
    }
   },
   "outputs": [
    {
     "output_type": "display_data",
     "data": {
      "text/html": [
       "<style scoped>\n",
       "  .table-result-container {\n",
       "    max-height: 300px;\n",
       "    overflow: auto;\n",
       "  }\n",
       "  table, th, td {\n",
       "    border: 1px solid black;\n",
       "    border-collapse: collapse;\n",
       "  }\n",
       "  th, td {\n",
       "    padding: 5px;\n",
       "  }\n",
       "  th {\n",
       "    text-align: left;\n",
       "  }\n",
       "</style><div class='table-result-container'><table class='table-result'><thead style='background-color: white'><tr><th>year</th><th>actual_value</th></tr></thead><tbody><tr><td>1985</td><td>1.2079999446868896</td></tr><tr><td>1985</td><td>1.2070000171661377</td></tr><tr><td>1985</td><td>1.2039999961853027</td></tr><tr><td>1985</td><td>1.215999960899353</td></tr><tr><td>1985</td><td>1.2289999723434448</td></tr></tbody></table></div>"
      ]
     },
     "metadata": {
      "application/vnd.databricks.v1+output": {
       "addedWidgets": {},
       "aggData": [],
       "aggError": "",
       "aggOverflow": false,
       "aggSchema": [],
       "aggSeriesLimitReached": false,
       "aggType": "",
       "arguments": {},
       "columnCustomDisplayInfos": {},
       "data": [
        [
         "1985",
         1.2079999446868896
        ],
        [
         "1985",
         1.2070000171661377
        ],
        [
         "1985",
         1.2039999961853027
        ],
        [
         "1985",
         1.215999960899353
        ],
        [
         "1985",
         1.2289999723434448
        ]
       ],
       "datasetInfos": [],
       "dbfsResultPath": null,
       "isJsonSchema": true,
       "metadata": {},
       "overflow": false,
       "plotOptions": {
        "customPlotOptions": {},
        "displayType": "table",
        "pivotAggregation": null,
        "pivotColumns": null,
        "xColumns": null,
        "yColumns": null
       },
       "removedWidgets": [],
       "schema": [
        {
         "metadata": "{}",
         "name": "year",
         "type": "\"string\""
        },
        {
         "metadata": "{}",
         "name": "actual_value",
         "type": "\"double\""
        }
       ],
       "type": "table"
      }
     },
     "output_type": "display_data"
    }
   ],
   "source": [
    "df_gas_price_workable = df_gas_price_null_value_removed_new_combine_values.select(df_gas_price_null_value_removed_new_combine_values.year, df_gas_price_null_value_removed_new_combine_values.actual_value.cast('float')) \n",
    "display(df_gas_price_workable.take(5))\n"
   ]
  },
  {
   "cell_type": "markdown",
   "metadata": {
    "application/vnd.databricks.v1+cell": {
     "cellMetadata": {
      "byteLimit": 2048000,
      "rowLimit": 10000
     },
     "inputWidgets": {},
     "nuid": "cc5dc2ca-f4a1-43c1-93f8-247e2f04e2b9",
     "showTitle": false,
     "title": ""
    }
   },
   "source": [
    "######Group and sort by year, and take avg values of all the years"
   ]
  },
  {
   "cell_type": "code",
   "execution_count": 0,
   "metadata": {
    "application/vnd.databricks.v1+cell": {
     "cellMetadata": {
      "byteLimit": 2048000,
      "rowLimit": 10000
     },
     "inputWidgets": {},
     "nuid": "e83a786e-6789-4a7d-806d-69ce049dda45",
     "showTitle": false,
     "title": ""
    }
   },
   "outputs": [
    {
     "output_type": "display_data",
     "data": {
      "text/html": [
       "<style scoped>\n",
       "  .table-result-container {\n",
       "    max-height: 300px;\n",
       "    overflow: auto;\n",
       "  }\n",
       "  table, th, td {\n",
       "    border: 1px solid black;\n",
       "    border-collapse: collapse;\n",
       "  }\n",
       "  th, td {\n",
       "    padding: 5px;\n",
       "  }\n",
       "  th {\n",
       "    text-align: left;\n",
       "  }\n",
       "</style><div class='table-result-container'><table class='table-result'><thead style='background-color: white'><tr><th>year</th><th>gas avg</th></tr></thead><tbody><tr><td>1976</td><td>0.6143333415190378</td></tr><tr><td>1977</td><td>0.6563333372275034</td></tr><tr><td>1978</td><td>0.6702499985694885</td></tr><tr><td>1979</td><td>0.9032500038544337</td></tr><tr><td>1980</td><td>1.2451666792233784</td></tr><tr><td>1981</td><td>1.378250002861023</td></tr><tr><td>1982</td><td>1.2955000003178914</td></tr><tr><td>1983</td><td>1.2411666611830394</td></tr><tr><td>1984</td><td>1.2122499843438466</td></tr><tr><td>1985</td><td>1.2017500003178914</td></tr><tr><td>1986</td><td>0.9274166623751322</td></tr><tr><td>1987</td><td>0.9484166701634725</td></tr><tr><td>1988</td><td>0.9461666643619537</td></tr><tr><td>1989</td><td>1.022166669368744</td></tr><tr><td>1990</td><td>1.1643333435058594</td></tr><tr><td>1991</td><td>1.1400833229223888</td></tr><tr><td>1992</td><td>1.1265000104904175</td></tr><tr><td>1993</td><td>1.1079166730244954</td></tr><tr><td>1994</td><td>1.1118333339691162</td></tr><tr><td>1995</td><td>1.1471666594346364</td></tr><tr><td>1996</td><td>1.2309166491031647</td></tr><tr><td>1997</td><td>1.2336666683355968</td></tr><tr><td>1998</td><td>1.0593333492676418</td></tr><tr><td>1999</td><td>1.1650833388169606</td></tr><tr><td>2000</td><td>1.5100000003973644</td></tr><tr><td>2001</td><td>1.4610000054041545</td></tr><tr><td>2002</td><td>1.357500006755193</td></tr><tr><td>2003</td><td>1.5907500286897023</td></tr><tr><td>2004</td><td>1.8801666696866353</td></tr><tr><td>2005</td><td>2.2953333655993142</td></tr><tr><td>2006</td><td>2.5889166792233786</td></tr><tr><td>2007</td><td>2.8005833427111306</td></tr><tr><td>2008</td><td>3.2662500043710074</td></tr><tr><td>2009</td><td>2.350166688362757</td></tr><tr><td>2010</td><td>2.787499984105428</td></tr><tr><td>2011</td><td>3.5266667008399963</td></tr><tr><td>2012</td><td>3.644083340962728</td></tr><tr><td>2013</td><td>3.525999963283539</td></tr><tr><td>2014</td><td>3.3672499855359397</td></tr><tr><td>2015</td><td>2.44774999221166</td></tr><tr><td>2016</td><td>2.1417499780654907</td></tr><tr><td>2017</td><td>2.4075000087420144</td></tr><tr><td>2018</td><td>2.735333343346914</td></tr><tr><td>2019</td><td>2.6362499992052713</td></tr><tr><td>2020</td><td>2.174416651328405</td></tr><tr><td>2021</td><td>3.0505000154177346</td></tr><tr><td>2022</td><td>4.093666613101959</td></tr><tr><td>2023</td><td>3.69145451892506</td></tr><tr><td>id</td><td>null</td></tr></tbody></table></div>"
      ]
     },
     "metadata": {
      "application/vnd.databricks.v1+output": {
       "addedWidgets": {},
       "aggData": [],
       "aggError": "",
       "aggOverflow": false,
       "aggSchema": [],
       "aggSeriesLimitReached": false,
       "aggType": "",
       "arguments": {},
       "columnCustomDisplayInfos": {},
       "data": [
        [
         "1976",
         0.6143333415190378
        ],
        [
         "1977",
         0.6563333372275034
        ],
        [
         "1978",
         0.6702499985694885
        ],
        [
         "1979",
         0.9032500038544337
        ],
        [
         "1980",
         1.2451666792233784
        ],
        [
         "1981",
         1.378250002861023
        ],
        [
         "1982",
         1.2955000003178914
        ],
        [
         "1983",
         1.2411666611830394
        ],
        [
         "1984",
         1.2122499843438466
        ],
        [
         "1985",
         1.2017500003178914
        ],
        [
         "1986",
         0.9274166623751322
        ],
        [
         "1987",
         0.9484166701634725
        ],
        [
         "1988",
         0.9461666643619537
        ],
        [
         "1989",
         1.022166669368744
        ],
        [
         "1990",
         1.1643333435058594
        ],
        [
         "1991",
         1.1400833229223888
        ],
        [
         "1992",
         1.1265000104904175
        ],
        [
         "1993",
         1.1079166730244954
        ],
        [
         "1994",
         1.1118333339691162
        ],
        [
         "1995",
         1.1471666594346364
        ],
        [
         "1996",
         1.2309166491031647
        ],
        [
         "1997",
         1.2336666683355968
        ],
        [
         "1998",
         1.0593333492676418
        ],
        [
         "1999",
         1.1650833388169606
        ],
        [
         "2000",
         1.5100000003973644
        ],
        [
         "2001",
         1.4610000054041545
        ],
        [
         "2002",
         1.357500006755193
        ],
        [
         "2003",
         1.5907500286897023
        ],
        [
         "2004",
         1.8801666696866353
        ],
        [
         "2005",
         2.2953333655993142
        ],
        [
         "2006",
         2.5889166792233786
        ],
        [
         "2007",
         2.8005833427111306
        ],
        [
         "2008",
         3.2662500043710074
        ],
        [
         "2009",
         2.350166688362757
        ],
        [
         "2010",
         2.787499984105428
        ],
        [
         "2011",
         3.5266667008399963
        ],
        [
         "2012",
         3.644083340962728
        ],
        [
         "2013",
         3.525999963283539
        ],
        [
         "2014",
         3.3672499855359397
        ],
        [
         "2015",
         2.44774999221166
        ],
        [
         "2016",
         2.1417499780654907
        ],
        [
         "2017",
         2.4075000087420144
        ],
        [
         "2018",
         2.735333343346914
        ],
        [
         "2019",
         2.6362499992052713
        ],
        [
         "2020",
         2.174416651328405
        ],
        [
         "2021",
         3.0505000154177346
        ],
        [
         "2022",
         4.093666613101959
        ],
        [
         "2023",
         3.69145451892506
        ],
        [
         "id",
         null
        ]
       ],
       "datasetInfos": [],
       "dbfsResultPath": null,
       "isJsonSchema": true,
       "metadata": {},
       "overflow": false,
       "plotOptions": {
        "customPlotOptions": {},
        "displayType": "table",
        "pivotAggregation": null,
        "pivotColumns": null,
        "xColumns": null,
        "yColumns": null
       },
       "removedWidgets": [],
       "schema": [
        {
         "metadata": "{}",
         "name": "year",
         "type": "\"string\""
        },
        {
         "metadata": "{}",
         "name": "gas avg",
         "type": "\"double\""
        }
       ],
       "type": "table"
      }
     },
     "output_type": "display_data"
    },
    {
     "output_type": "display_data",
     "data": {
      "text/plain": [
       "Databricks visualization. Run in Databricks to view."
      ]
     },
     "metadata": {
      "application/vnd.databricks.v1.subcommand+json": {
       "baseErrorDetails": null,
       "bindings": {},
       "collapsed": false,
       "command": "#Calulate the average of all items price for each year by grouping by year and aggregating by it's actual_value\ngas_price_grouped_aggregated = df_gas_price_workable.groupBy(\"year\").agg(avg(\"actual_value\").alias(\"gas avg\")) \ngas_price_grouped_aggregated_sorted = gas_price_grouped_aggregated.orderBy(col(\"year\")) # sort by year\ndisplay(gas_price_grouped_aggregated_sorted) \n",
       "commandTitle": "Visualization 1",
       "commandType": "auto",
       "commandVersion": 0,
       "commentThread": [],
       "commentsVisible": false,
       "contentSha256Hex": null,
       "customPlotOptions": {
        "plotlyBar": [
         {
          "key": "grouped",
          "value": false
         },
         {
          "key": "stacked",
          "value": true
         },
         {
          "key": "100_stacked",
          "value": false
         }
        ]
       },
       "datasetPreviewNameToCmdIdMap": {},
       "diffDeletes": [],
       "diffInserts": [],
       "displayType": "plotlyBar",
       "error": null,
       "errorDetails": null,
       "errorSummary": null,
       "errorTraceType": null,
       "finishTime": 0,
       "globalVars": {},
       "guid": "",
       "height": "auto",
       "hideCommandCode": false,
       "hideCommandResult": false,
       "iPythonMetadata": null,
       "inputWidgets": {},
       "isLockedInExamMode": false,
       "latestUser": "a user",
       "latestUserId": null,
       "listResultMetadata": null,
       "metadata": {
        "byteLimit": 2048000,
        "rowLimit": 10000
       },
       "nuid": "c85c127f-5032-4cbb-a562-ea90dcf8d8b7",
       "origId": 0,
       "parentHierarchy": [],
       "pivotAggregation": "sum",
       "pivotColumns": [],
       "position": 28.0,
       "resultDbfsErrorMessage": null,
       "resultDbfsStatus": "INLINED_IN_TREE",
       "results": null,
       "showCommandTitle": false,
       "startTime": 0,
       "state": "finished",
       "streamStates": {},
       "subcommandOptions": null,
       "submitTime": 0,
       "subtype": "tableResultSubCmd.visualization",
       "tableResultIndex": 0,
       "useConsistentColors": false,
       "version": "CommandV1",
       "width": "auto",
       "workflows": [],
       "xColumns": [
        "year"
       ],
       "yColumns": [
        "gas avg"
       ]
      }
     },
     "output_type": "display_data"
    }
   ],
   "source": [
    "#Calulate the average of all items price for each year by grouping by year and aggregating by it's actual_value\n",
    "gas_price_grouped_aggregated = df_gas_price_workable.groupBy(\"year\").agg(avg(\"actual_value\").alias(\"gas avg\")) \n",
    "gas_price_grouped_aggregated_sorted = gas_price_grouped_aggregated.orderBy(col(\"year\")) # sort by year\n",
    "display(gas_price_grouped_aggregated_sorted) \n"
   ]
  },
  {
   "cell_type": "code",
   "execution_count": 0,
   "metadata": {
    "application/vnd.databricks.v1+cell": {
     "cellMetadata": {
      "byteLimit": 2048000,
      "rowLimit": 10000
     },
     "inputWidgets": {},
     "nuid": "1ffc868e-8ef1-4439-b10b-6516219b47e9",
     "showTitle": false,
     "title": ""
    }
   },
   "outputs": [
    {
     "output_type": "display_data",
     "data": {
      "text/html": [
       "<style scoped>\n",
       "  .table-result-container {\n",
       "    max-height: 300px;\n",
       "    overflow: auto;\n",
       "  }\n",
       "  table, th, td {\n",
       "    border: 1px solid black;\n",
       "    border-collapse: collapse;\n",
       "  }\n",
       "  th, td {\n",
       "    padding: 5px;\n",
       "  }\n",
       "  th {\n",
       "    text-align: left;\n",
       "  }\n",
       "</style><div class='table-result-container'><table class='table-result'><thead style='background-color: white'><tr><th>year</th><th>actual_value</th></tr></thead><tbody><tr><td>1956</td><td>27.6299991607666</td></tr><tr><td>1956</td><td>27.510000228881836</td></tr><tr><td>1956</td><td>27.510000228881836</td></tr><tr><td>1956</td><td>27.350000381469727</td></tr><tr><td>1956</td><td>27.309999465942383</td></tr></tbody></table></div>"
      ]
     },
     "metadata": {
      "application/vnd.databricks.v1+output": {
       "addedWidgets": {},
       "aggData": [],
       "aggError": "",
       "aggOverflow": false,
       "aggSchema": [],
       "aggSeriesLimitReached": false,
       "aggType": "",
       "arguments": {},
       "columnCustomDisplayInfos": {},
       "data": [
        [
         "1956",
         27.6299991607666
        ],
        [
         "1956",
         27.510000228881836
        ],
        [
         "1956",
         27.510000228881836
        ],
        [
         "1956",
         27.350000381469727
        ],
        [
         "1956",
         27.309999465942383
        ]
       ],
       "datasetInfos": [],
       "dbfsResultPath": null,
       "isJsonSchema": true,
       "metadata": {},
       "overflow": false,
       "plotOptions": {
        "customPlotOptions": {},
        "displayType": "table",
        "pivotAggregation": null,
        "pivotColumns": null,
        "xColumns": null,
        "yColumns": null
       },
       "removedWidgets": [],
       "schema": [
        {
         "metadata": "{}",
         "name": "year",
         "type": "\"string\""
        },
        {
         "metadata": "{}",
         "name": "actual_value",
         "type": "\"double\""
        }
       ],
       "type": "table"
      }
     },
     "output_type": "display_data"
    },
    {
     "output_type": "display_data",
     "data": {
      "text/html": [
       "<style scoped>\n",
       "  .table-result-container {\n",
       "    max-height: 300px;\n",
       "    overflow: auto;\n",
       "  }\n",
       "  table, th, td {\n",
       "    border: 1px solid black;\n",
       "    border-collapse: collapse;\n",
       "  }\n",
       "  th, td {\n",
       "    padding: 5px;\n",
       "  }\n",
       "  th {\n",
       "    text-align: left;\n",
       "  }\n",
       "</style><div class='table-result-container'><table class='table-result'><thead style='background-color: white'><tr><th>year</th><th>all items avg</th></tr></thead><tbody><tr><td>1947</td><td>22.331666628519695</td></tr><tr><td>1948</td><td>24.044999917348225</td></tr><tr><td>1949</td><td>23.80916690826416</td></tr><tr><td>1950</td><td>24.0625</td></tr><tr><td>1951</td><td>25.973333199818928</td></tr><tr><td>1952</td><td>26.56666660308838</td></tr><tr><td>1953</td><td>26.768333594004314</td></tr><tr><td>1954</td><td>26.865000247955322</td></tr><tr><td>1955</td><td>26.795833428700764</td></tr><tr><td>1956</td><td>27.190833409627277</td></tr><tr><td>1957</td><td>28.113333384195965</td></tr><tr><td>1958</td><td>28.880833466847736</td></tr><tr><td>1959</td><td>29.15000009536743</td></tr><tr><td>1960</td><td>29.585000197092693</td></tr><tr><td>1961</td><td>29.90166664123535</td></tr><tr><td>1962</td><td>30.25333309173584</td></tr><tr><td>1963</td><td>30.63333336512248</td></tr><tr><td>1964</td><td>31.038333415985107</td></tr><tr><td>1965</td><td>31.528333346048992</td></tr><tr><td>1966</td><td>32.47083330154419</td></tr><tr><td>1967</td><td>33.375</td></tr><tr><td>1968</td><td>34.791666666666664</td></tr><tr><td>1969</td><td>36.68333307902018</td></tr><tr><td>1970</td><td>38.84166653951009</td></tr><tr><td>1971</td><td>40.48333326975504</td></tr><tr><td>1972</td><td>41.80833371480306</td></tr><tr><td>1973</td><td>44.425000508626304</td></tr><tr><td>1974</td><td>49.31666628519694</td></tr><tr><td>1975</td><td>53.824999491373696</td></tr><tr><td>1976</td><td>56.93333339691162</td></tr><tr><td>1977</td><td>60.61666615804037</td></tr><tr><td>1978</td><td>65.24166711171468</td></tr><tr><td>1979</td><td>72.58333269755046</td></tr><tr><td>1980</td><td>82.38333257039388</td></tr><tr><td>1981</td><td>90.9333324432373</td></tr><tr><td>1982</td><td>96.53333218892415</td></tr><tr><td>1983</td><td>99.58333396911621</td></tr><tr><td>1984</td><td>103.93333307902019</td></tr><tr><td>1985</td><td>107.59999974568684</td></tr><tr><td>1986</td><td>109.69166628519694</td></tr><tr><td>1987</td><td>113.61666679382324</td></tr><tr><td>1988</td><td>118.27499961853027</td></tr><tr><td>1989</td><td>123.94166628519694</td></tr><tr><td>1990</td><td>130.65833282470703</td></tr><tr><td>1991</td><td>136.16666793823242</td></tr><tr><td>1992</td><td>140.3083356221517</td></tr><tr><td>1993</td><td>144.47500228881836</td></tr><tr><td>1994</td><td>148.22499974568686</td></tr><tr><td>1995</td><td>152.3833325703939</td></tr><tr><td>1996</td><td>156.85833231608072</td></tr><tr><td>1997</td><td>160.52499771118164</td></tr><tr><td>1998</td><td>163.0083325703939</td></tr><tr><td>1999</td><td>166.58333333333334</td></tr><tr><td>2000</td><td>172.19166564941406</td></tr><tr><td>2001</td><td>177.04166666666666</td></tr><tr><td>2002</td><td>179.8666674296061</td></tr><tr><td>2003</td><td>184.0</td></tr><tr><td>2004</td><td>188.90833282470703</td></tr><tr><td>2005</td><td>195.26666895548502</td></tr><tr><td>2006</td><td>201.55833307902017</td></tr><tr><td>2007</td><td>207.34416707356772</td></tr><tr><td>2008</td><td>215.25424830118814</td></tr><tr><td>2009</td><td>214.5646654764811</td></tr><tr><td>2010</td><td>218.07616678873697</td></tr><tr><td>2011</td><td>224.92300160725912</td></tr><tr><td>2012</td><td>229.58608118693033</td></tr><tr><td>2013</td><td>232.9517504374186</td></tr><tr><td>2014</td><td>236.7150001525879</td></tr><tr><td>2015</td><td>237.00174967447916</td></tr><tr><td>2016</td><td>240.00541559855142</td></tr><tr><td>2017</td><td>245.1209971110026</td></tr><tr><td>2018</td><td>251.0995012919108</td></tr><tr><td>2019</td><td>255.65166346232095</td></tr><tr><td>2020</td><td>258.85058212280273</td></tr><tr><td>2021</td><td>270.9714177449544</td></tr><tr><td>2022</td><td>292.6124954223633</td></tr><tr><td>2023</td><td>304.3344560102983</td></tr><tr><td>id</td><td>null</td></tr></tbody></table></div>"
      ]
     },
     "metadata": {
      "application/vnd.databricks.v1+output": {
       "addedWidgets": {},
       "aggData": [],
       "aggError": "",
       "aggOverflow": false,
       "aggSchema": [],
       "aggSeriesLimitReached": false,
       "aggType": "",
       "arguments": {},
       "columnCustomDisplayInfos": {},
       "data": [
        [
         "1947",
         22.331666628519695
        ],
        [
         "1948",
         24.044999917348225
        ],
        [
         "1949",
         23.80916690826416
        ],
        [
         "1950",
         24.0625
        ],
        [
         "1951",
         25.973333199818928
        ],
        [
         "1952",
         26.56666660308838
        ],
        [
         "1953",
         26.768333594004314
        ],
        [
         "1954",
         26.865000247955322
        ],
        [
         "1955",
         26.795833428700764
        ],
        [
         "1956",
         27.190833409627277
        ],
        [
         "1957",
         28.113333384195965
        ],
        [
         "1958",
         28.880833466847736
        ],
        [
         "1959",
         29.15000009536743
        ],
        [
         "1960",
         29.585000197092693
        ],
        [
         "1961",
         29.90166664123535
        ],
        [
         "1962",
         30.25333309173584
        ],
        [
         "1963",
         30.63333336512248
        ],
        [
         "1964",
         31.038333415985107
        ],
        [
         "1965",
         31.528333346048992
        ],
        [
         "1966",
         32.47083330154419
        ],
        [
         "1967",
         33.375
        ],
        [
         "1968",
         34.791666666666664
        ],
        [
         "1969",
         36.68333307902018
        ],
        [
         "1970",
         38.84166653951009
        ],
        [
         "1971",
         40.48333326975504
        ],
        [
         "1972",
         41.80833371480306
        ],
        [
         "1973",
         44.425000508626304
        ],
        [
         "1974",
         49.31666628519694
        ],
        [
         "1975",
         53.824999491373696
        ],
        [
         "1976",
         56.93333339691162
        ],
        [
         "1977",
         60.61666615804037
        ],
        [
         "1978",
         65.24166711171468
        ],
        [
         "1979",
         72.58333269755046
        ],
        [
         "1980",
         82.38333257039388
        ],
        [
         "1981",
         90.9333324432373
        ],
        [
         "1982",
         96.53333218892415
        ],
        [
         "1983",
         99.58333396911621
        ],
        [
         "1984",
         103.93333307902019
        ],
        [
         "1985",
         107.59999974568684
        ],
        [
         "1986",
         109.69166628519694
        ],
        [
         "1987",
         113.61666679382324
        ],
        [
         "1988",
         118.27499961853027
        ],
        [
         "1989",
         123.94166628519694
        ],
        [
         "1990",
         130.65833282470703
        ],
        [
         "1991",
         136.16666793823242
        ],
        [
         "1992",
         140.3083356221517
        ],
        [
         "1993",
         144.47500228881836
        ],
        [
         "1994",
         148.22499974568686
        ],
        [
         "1995",
         152.3833325703939
        ],
        [
         "1996",
         156.85833231608072
        ],
        [
         "1997",
         160.52499771118164
        ],
        [
         "1998",
         163.0083325703939
        ],
        [
         "1999",
         166.58333333333334
        ],
        [
         "2000",
         172.19166564941406
        ],
        [
         "2001",
         177.04166666666666
        ],
        [
         "2002",
         179.8666674296061
        ],
        [
         "2003",
         184.0
        ],
        [
         "2004",
         188.90833282470703
        ],
        [
         "2005",
         195.26666895548502
        ],
        [
         "2006",
         201.55833307902017
        ],
        [
         "2007",
         207.34416707356772
        ],
        [
         "2008",
         215.25424830118814
        ],
        [
         "2009",
         214.5646654764811
        ],
        [
         "2010",
         218.07616678873697
        ],
        [
         "2011",
         224.92300160725912
        ],
        [
         "2012",
         229.58608118693033
        ],
        [
         "2013",
         232.9517504374186
        ],
        [
         "2014",
         236.7150001525879
        ],
        [
         "2015",
         237.00174967447916
        ],
        [
         "2016",
         240.00541559855142
        ],
        [
         "2017",
         245.1209971110026
        ],
        [
         "2018",
         251.0995012919108
        ],
        [
         "2019",
         255.65166346232095
        ],
        [
         "2020",
         258.85058212280273
        ],
        [
         "2021",
         270.9714177449544
        ],
        [
         "2022",
         292.6124954223633
        ],
        [
         "2023",
         304.3344560102983
        ],
        [
         "id",
         null
        ]
       ],
       "datasetInfos": [],
       "dbfsResultPath": null,
       "isJsonSchema": true,
       "metadata": {},
       "overflow": false,
       "plotOptions": {
        "customPlotOptions": {},
        "displayType": "table",
        "pivotAggregation": null,
        "pivotColumns": null,
        "xColumns": null,
        "yColumns": null
       },
       "removedWidgets": [],
       "schema": [
        {
         "metadata": "{}",
         "name": "year",
         "type": "\"string\""
        },
        {
         "metadata": "{}",
         "name": "all items avg",
         "type": "\"double\""
        }
       ],
       "type": "table"
      }
     },
     "output_type": "display_data"
    }
   ],
   "source": [
    "\n",
    "#select only the year and the price of gasoline\n",
    "df_all_items_price_workable = df_all_items_price_null_value_removed_new_combine_values.select(df_all_items_price_null_value_removed_new_combine_values.year, df_all_items_price_null_value_removed_new_combine_values.actual_value.cast('float')) \n",
    "display(df_all_items_price_workable.take(5))\n",
    "\n",
    "#group by year, and take avg values of all the years\n",
    "all_tems_grouped_aggregated = df_all_items_price_workable.groupBy(\"year\").agg(avg(\"actual_value\").alias(\"all items avg\")) \n",
    "# sort by year\n",
    "all_tems_grouped_aggregated_sorted = all_tems_grouped_aggregated.orderBy(col(\"year\")) \n",
    "display(all_tems_grouped_aggregated_sorted)  "
   ]
  },
  {
   "cell_type": "code",
   "execution_count": 0,
   "metadata": {
    "application/vnd.databricks.v1+cell": {
     "cellMetadata": {
      "byteLimit": 2048000,
      "rowLimit": 10000
     },
     "inputWidgets": {},
     "nuid": "a4c92574-3a52-46d0-8d5c-d3d059ce9c83",
     "showTitle": false,
     "title": ""
    }
   },
   "outputs": [
    {
     "output_type": "display_data",
     "data": {
      "text/html": [
       "<style scoped>\n",
       "  .table-result-container {\n",
       "    max-height: 300px;\n",
       "    overflow: auto;\n",
       "  }\n",
       "  table, th, td {\n",
       "    border: 1px solid black;\n",
       "    border-collapse: collapse;\n",
       "  }\n",
       "  th, td {\n",
       "    padding: 5px;\n",
       "  }\n",
       "  th {\n",
       "    text-align: left;\n",
       "  }\n",
       "</style><div class='table-result-container'><table class='table-result'><thead style='background-color: white'><tr><th>year</th><th>actual_value</th></tr></thead><tbody><tr><td>1985</td><td>1.2079999446868896</td></tr><tr><td>1985</td><td>1.2070000171661377</td></tr><tr><td>1985</td><td>1.2039999961853027</td></tr><tr><td>1985</td><td>1.215999960899353</td></tr><tr><td>1985</td><td>1.2289999723434448</td></tr></tbody></table></div>"
      ]
     },
     "metadata": {
      "application/vnd.databricks.v1+output": {
       "addedWidgets": {},
       "aggData": [],
       "aggError": "",
       "aggOverflow": false,
       "aggSchema": [],
       "aggSeriesLimitReached": false,
       "aggType": "",
       "arguments": {},
       "columnCustomDisplayInfos": {},
       "data": [
        [
         "1985",
         1.2079999446868896
        ],
        [
         "1985",
         1.2070000171661377
        ],
        [
         "1985",
         1.2039999961853027
        ],
        [
         "1985",
         1.215999960899353
        ],
        [
         "1985",
         1.2289999723434448
        ]
       ],
       "datasetInfos": [],
       "dbfsResultPath": null,
       "isJsonSchema": true,
       "metadata": {},
       "overflow": false,
       "plotOptions": {
        "customPlotOptions": {},
        "displayType": "table",
        "pivotAggregation": null,
        "pivotColumns": null,
        "xColumns": null,
        "yColumns": null
       },
       "removedWidgets": [],
       "schema": [
        {
         "metadata": "{}",
         "name": "year",
         "type": "\"string\""
        },
        {
         "metadata": "{}",
         "name": "actual_value",
         "type": "\"double\""
        }
       ],
       "type": "table"
      }
     },
     "output_type": "display_data"
    },
    {
     "output_type": "display_data",
     "data": {
      "text/html": [
       "<style scoped>\n",
       "  .table-result-container {\n",
       "    max-height: 300px;\n",
       "    overflow: auto;\n",
       "  }\n",
       "  table, th, td {\n",
       "    border: 1px solid black;\n",
       "    border-collapse: collapse;\n",
       "  }\n",
       "  th, td {\n",
       "    padding: 5px;\n",
       "  }\n",
       "  th {\n",
       "    text-align: left;\n",
       "  }\n",
       "</style><div class='table-result-container'><table class='table-result'><thead style='background-color: white'><tr><th>year</th><th>weekly wage avg</th></tr></thead><tbody><tr><td>1979</td><td>240.5</td></tr><tr><td>1980</td><td>261.5</td></tr><tr><td>1981</td><td>283.0</td></tr><tr><td>1982</td><td>301.5</td></tr><tr><td>1983</td><td>312.75</td></tr><tr><td>1984</td><td>325.75</td></tr><tr><td>1985</td><td>343.5</td></tr><tr><td>1986</td><td>358.5</td></tr><tr><td>1987</td><td>373.0</td></tr><tr><td>1988</td><td>385.0</td></tr><tr><td>1989</td><td>399.5</td></tr><tr><td>1990</td><td>412.25</td></tr><tr><td>1991</td><td>426.75</td></tr><tr><td>1992</td><td>440.25</td></tr><tr><td>1993</td><td>458.5</td></tr><tr><td>1994</td><td>467.0</td></tr><tr><td>1995</td><td>479.0</td></tr><tr><td>1996</td><td>490.5</td></tr><tr><td>1997</td><td>503.25</td></tr><tr><td>1998</td><td>524.25</td></tr><tr><td>1999</td><td>548.75</td></tr><tr><td>2000</td><td>575.25</td></tr><tr><td>2001</td><td>595.75</td></tr><tr><td>2002</td><td>608.0</td></tr><tr><td>2003</td><td>619.75</td></tr><tr><td>2004</td><td>638.0</td></tr><tr><td>2005</td><td>651.0</td></tr><tr><td>2006</td><td>671.0</td></tr><tr><td>2007</td><td>694.5</td></tr><tr><td>2008</td><td>721.5</td></tr><tr><td>2009</td><td>739.5</td></tr><tr><td>2010</td><td>746.5</td></tr><tr><td>2011</td><td>756.25</td></tr><tr><td>2012</td><td>768.25</td></tr><tr><td>2013</td><td>776.5</td></tr><tr><td>2014</td><td>791.25</td></tr><tr><td>2015</td><td>809.25</td></tr><tr><td>2016</td><td>832.5</td></tr><tr><td>2017</td><td>860.0</td></tr><tr><td>2018</td><td>886.0</td></tr><tr><td>2019</td><td>917.0</td></tr><tr><td>2020</td><td>984.25</td></tr><tr><td>2021</td><td>997.5</td></tr><tr><td>2022</td><td>1058.25</td></tr><tr><td>2023</td><td>1106.0</td></tr><tr><td>id</td><td>null</td></tr></tbody></table></div>"
      ]
     },
     "metadata": {
      "application/vnd.databricks.v1+output": {
       "addedWidgets": {},
       "aggData": [],
       "aggError": "",
       "aggOverflow": false,
       "aggSchema": [],
       "aggSeriesLimitReached": false,
       "aggType": "",
       "arguments": {},
       "columnCustomDisplayInfos": {},
       "data": [
        [
         "1979",
         240.5
        ],
        [
         "1980",
         261.5
        ],
        [
         "1981",
         283.0
        ],
        [
         "1982",
         301.5
        ],
        [
         "1983",
         312.75
        ],
        [
         "1984",
         325.75
        ],
        [
         "1985",
         343.5
        ],
        [
         "1986",
         358.5
        ],
        [
         "1987",
         373.0
        ],
        [
         "1988",
         385.0
        ],
        [
         "1989",
         399.5
        ],
        [
         "1990",
         412.25
        ],
        [
         "1991",
         426.75
        ],
        [
         "1992",
         440.25
        ],
        [
         "1993",
         458.5
        ],
        [
         "1994",
         467.0
        ],
        [
         "1995",
         479.0
        ],
        [
         "1996",
         490.5
        ],
        [
         "1997",
         503.25
        ],
        [
         "1998",
         524.25
        ],
        [
         "1999",
         548.75
        ],
        [
         "2000",
         575.25
        ],
        [
         "2001",
         595.75
        ],
        [
         "2002",
         608.0
        ],
        [
         "2003",
         619.75
        ],
        [
         "2004",
         638.0
        ],
        [
         "2005",
         651.0
        ],
        [
         "2006",
         671.0
        ],
        [
         "2007",
         694.5
        ],
        [
         "2008",
         721.5
        ],
        [
         "2009",
         739.5
        ],
        [
         "2010",
         746.5
        ],
        [
         "2011",
         756.25
        ],
        [
         "2012",
         768.25
        ],
        [
         "2013",
         776.5
        ],
        [
         "2014",
         791.25
        ],
        [
         "2015",
         809.25
        ],
        [
         "2016",
         832.5
        ],
        [
         "2017",
         860.0
        ],
        [
         "2018",
         886.0
        ],
        [
         "2019",
         917.0
        ],
        [
         "2020",
         984.25
        ],
        [
         "2021",
         997.5
        ],
        [
         "2022",
         1058.25
        ],
        [
         "2023",
         1106.0
        ],
        [
         "id",
         null
        ]
       ],
       "datasetInfos": [],
       "dbfsResultPath": null,
       "isJsonSchema": true,
       "metadata": {},
       "overflow": false,
       "plotOptions": {
        "customPlotOptions": {},
        "displayType": "table",
        "pivotAggregation": null,
        "pivotColumns": null,
        "xColumns": null,
        "yColumns": null
       },
       "removedWidgets": [],
       "schema": [
        {
         "metadata": "{}",
         "name": "year",
         "type": "\"string\""
        },
        {
         "metadata": "{}",
         "name": "weekly wage avg",
         "type": "\"double\""
        }
       ],
       "type": "table"
      }
     },
     "output_type": "display_data"
    }
   ],
   "source": [
    "# Calculate the average of all weekly wages for each year by grouping by year and aggregating by the weekly wage\n",
    "\n",
    "df_wages_workable = df_wages_null_value_removed_new.select(df_wages_null_value_removed_new.year, df_wages_null_value_removed_new.value1.cast('float'))\n",
    "display(df_gas_price_workable.take(5))\n",
    "\n",
    "#group by year, and take avg values of all the years\n",
    "weekly_wages_grouped_aggregated = df_wages_workable.groupBy(\"year\").agg(avg(\"value1\").alias(\"weekly wage avg\")) \n",
    "weekly_wages_grouped_aggregated_sorted = weekly_wages_grouped_aggregated.orderBy(col(\"year\"))\n",
    "display(weekly_wages_grouped_aggregated_sorted)"
   ]
  },
  {
   "cell_type": "code",
   "execution_count": 0,
   "metadata": {
    "application/vnd.databricks.v1+cell": {
     "cellMetadata": {
      "byteLimit": 2048000,
      "rowLimit": 10000
     },
     "inputWidgets": {},
     "nuid": "5d25f080-68ed-4ef6-b076-852b06d4a62d",
     "showTitle": false,
     "title": ""
    }
   },
   "outputs": [
    {
     "output_type": "display_data",
     "data": {
      "application/vnd.databricks.v1+bamboolib_hint": "{\"pd.DataFrames\": [], \"version\": \"0.0.1\"}",
      "text/plain": []
     },
     "metadata": {},
     "output_type": "display_data"
    }
   ],
   "source": [
    "from pyspark.sql.functions import *\n",
    "import yfinance as yf\n",
    "import pandas as pd\n",
    "\n",
    "from datetime import date, datetime"
   ]
  },
  {
   "cell_type": "markdown",
   "metadata": {
    "application/vnd.databricks.v1+cell": {
     "cellMetadata": {
      "byteLimit": 2048000,
      "rowLimit": 10000
     },
     "inputWidgets": {},
     "nuid": "14f0d59d-048f-405d-949e-22f2d566552c",
     "showTitle": false,
     "title": ""
    }
   },
   "source": [
    "#### BTC data from yahoo finance"
   ]
  },
  {
   "cell_type": "code",
   "execution_count": 0,
   "metadata": {
    "application/vnd.databricks.v1+cell": {
     "cellMetadata": {
      "byteLimit": 2048000,
      "rowLimit": 10000
     },
     "inputWidgets": {},
     "nuid": "4e63c596-d6d9-4a5e-887a-4f36e9646f78",
     "showTitle": false,
     "title": ""
    }
   },
   "outputs": [],
   "source": [
    "\n",
    "btc = yf.Ticker(\"BTC-USD\")"
   ]
  },
  {
   "cell_type": "code",
   "execution_count": 0,
   "metadata": {
    "application/vnd.databricks.v1+cell": {
     "cellMetadata": {
      "byteLimit": 2048000,
      "rowLimit": 10000
     },
     "inputWidgets": {},
     "nuid": "66ebff25-ed15-4a74-8da2-25dd96a794f2",
     "showTitle": false,
     "title": ""
    }
   },
   "outputs": [],
   "source": [
    "#Get max historical market data in 3 month intervals\n",
    "btc_price_data = btc.history(period=\"max\", interval=\"3mo\")"
   ]
  },
  {
   "cell_type": "code",
   "execution_count": 0,
   "metadata": {
    "application/vnd.databricks.v1+cell": {
     "cellMetadata": {
      "byteLimit": 2048000,
      "rowLimit": 10000
     },
     "inputWidgets": {},
     "nuid": "390a1119-cb91-4679-837b-bf262575b2ad",
     "showTitle": false,
     "title": ""
    }
   },
   "outputs": [
    {
     "output_type": "stream",
     "name": "stdout",
     "output_type": "stream",
     "text": [
      "Date\n2014-09-01 00:00:00+00:00      378.046997\n2014-12-01 00:00:00+00:00      254.263000\n2015-03-01 00:00:00+00:00      230.190002\n2015-06-01 00:00:00+00:00      230.056000\n2015-09-01 00:00:00+00:00      377.321014\n2015-12-01 00:00:00+00:00      437.696991\n2016-03-01 00:00:00+00:00      531.385986\n2016-06-01 00:00:00+00:00      575.471985\n2016-09-01 00:00:00+00:00      745.690979\n2016-12-01 00:00:00+00:00     1179.969971\n2017-03-01 00:00:00+00:00     2286.409912\n2017-06-01 00:00:00+00:00     4703.390137\n2017-09-01 00:00:00+00:00    10233.599609\n2017-12-01 00:00:00+00:00    10397.900391\n2018-03-01 00:00:00+00:00     7494.169922\n2018-06-01 00:00:00+00:00     7037.580078\n2018-09-01 00:00:00+00:00     4017.268555\n2018-12-01 00:00:00+00:00     3854.785400\n2019-03-01 00:00:00+00:00     8574.501953\n2019-06-01 00:00:00+00:00     9630.664062\n2019-09-01 00:00:00+00:00     7569.629883\n2019-12-01 00:00:00+00:00     8599.508789\n2020-03-01 00:00:00+00:00     9461.058594\n2020-06-01 00:00:00+00:00    11680.820312\n2020-09-01 00:00:00+00:00    19625.835938\n2020-12-01 00:00:00+00:00    45137.769531\n2021-03-01 00:00:00+00:00    37332.855469\n2021-06-01 00:00:00+00:00    47166.687500\n2021-09-01 00:00:00+00:00    57005.425781\n2021-12-01 00:00:00+00:00    43193.234375\n2022-03-01 00:00:00+00:00    31792.310547\n2022-06-01 00:00:00+00:00    20049.763672\n2022-09-01 00:00:00+00:00    17168.566406\n2022-12-01 00:00:00+00:00    23147.353516\n2023-03-01 00:00:00+00:00    27219.658203\n2023-06-01 00:00:00+00:00    25931.472656\n2023-09-01 00:00:00+00:00    37712.746094\n2023-12-01 00:00:00+00:00    41566.316406\nName: Close, dtype: float64"
     ]
    }
   ],
   "source": [
    "# Get the closing data from history\n",
    "btc_price_closing = btc_price_data.Close\n",
    "display(btc_price_closing)\n"
   ]
  },
  {
   "cell_type": "code",
   "execution_count": 0,
   "metadata": {
    "application/vnd.databricks.v1+cell": {
     "cellMetadata": {
      "byteLimit": 2048000,
      "rowLimit": 10000
     },
     "inputWidgets": {},
     "nuid": "a49f7940-22c3-4f0f-8d52-327f2f12071a",
     "showTitle": false,
     "title": ""
    }
   },
   "outputs": [],
   "source": [
    "# Creating a list of quarterly dates\n",
    "# Data is collect quarterly (MM-dd) \n",
    "\n",
    "# variables\n",
    "quarterly = ['-03-01', '-06-01', '-09-01', '-12-01']\n",
    "dates = []\n",
    "starting_year = 2014\n",
    "year_count = starting_year\n",
    "ending_date = date.today() # - 90\n",
    "index = 2\n",
    "run_loop = True\n",
    "\n",
    "# Loop that creates quartely dates\n",
    "while run_loop:\n",
    "    # Set a quarterly date\n",
    "    newDate = str(year_count)+quarterly[index]\n",
    "    datetimeFormat = datetime.strptime(newDate, \"%Y-%m-%d\").date()\n",
    "    \n",
    "    # Compare the todays date to quarterly date to stop loop\n",
    "    date1 = datetime(ending_date.year, ending_date.month, ending_date.day)\n",
    "    date2 = datetime(datetimeFormat.year, datetimeFormat.month, datetimeFormat.day)\n",
    "    \n",
    "    if (date1 < date2) == True:\n",
    "        run_loop = False\n",
    "    else:\n",
    "        dates.append(newDate)\n",
    "        \n",
    "    index+=1  \n",
    "    if index == 4:\n",
    "        index = 0\n",
    "        year_count+=1"
   ]
  },
  {
   "cell_type": "code",
   "execution_count": 0,
   "metadata": {
    "application/vnd.databricks.v1+cell": {
     "cellMetadata": {
      "byteLimit": 2048000,
      "rowLimit": 10000
     },
     "inputWidgets": {},
     "nuid": "740011fa-ba24-4010-9a49-ca93f94dca5b",
     "showTitle": false,
     "title": ""
    }
   },
   "outputs": [
    {
     "output_type": "stream",
     "name": "stdout",
     "output_type": "stream",
     "text": [
      "['2014-09-01', '2014-12-01', '2015-03-01', '2015-06-01', '2015-09-01', '2015-12-01', '2016-03-01', '2016-06-01', '2016-09-01', '2016-12-01', '2017-03-01', '2017-06-01', '2017-09-01', '2017-12-01', '2018-03-01', '2018-06-01', '2018-09-01', '2018-12-01', '2019-03-01', '2019-06-01', '2019-09-01', '2019-12-01', '2020-03-01', '2020-06-01', '2020-09-01', '2020-12-01', '2021-03-01', '2021-06-01', '2021-09-01', '2021-12-01', '2022-03-01', '2022-06-01', '2022-09-01', '2022-12-01', '2023-03-01', '2023-06-01', '2023-09-01', '2023-12-01']\n2023-12-18\n"
     ]
    }
   ],
   "source": [
    "print(dates)    \n",
    "print(str(date.today()))"
   ]
  },
  {
   "cell_type": "code",
   "execution_count": 0,
   "metadata": {
    "application/vnd.databricks.v1+cell": {
     "cellMetadata": {
      "byteLimit": 2048000,
      "rowLimit": 10000
     },
     "inputWidgets": {},
     "nuid": "803dbdf6-a02e-4072-8af8-f6fafb6e0753",
     "showTitle": false,
     "title": ""
    }
   },
   "outputs": [
    {
     "output_type": "stream",
     "name": "stdout",
     "output_type": "stream",
     "text": [
      "Out[31]: 38"
     ]
    }
   ],
   "source": [
    "len(dates)"
   ]
  },
  {
   "cell_type": "code",
   "execution_count": 0,
   "metadata": {
    "application/vnd.databricks.v1+cell": {
     "cellMetadata": {
      "byteLimit": 2048000,
      "rowLimit": 10000
     },
     "inputWidgets": {},
     "nuid": "eaa02c57-5bf4-43fb-8534-398b88f5e27f",
     "showTitle": false,
     "title": ""
    }
   },
   "outputs": [
    {
     "output_type": "stream",
     "name": "stdout",
     "output_type": "stream",
     "text": [
      "[378.0469970703125, 254.26300048828125, 230.19000244140625, 230.05599975585938, 377.3210144042969, 437.6969909667969, 531.385986328125, 575.4719848632812, 745.6909790039062, 1179.969970703125, 2286.409912109375, 4703.39013671875, 10233.599609375, 10397.900390625, 7494.169921875, 7037.580078125, 4017.2685546875, 3854.785400390625, 8574.501953125, 9630.6640625, 7569.6298828125, 8599.5087890625, 9461.05859375, 11680.8203125, 19625.8359375, 45137.76953125, 37332.85546875, 47166.6875, 57005.42578125, 43193.234375, 31792.310546875, 20049.763671875, 17168.56640625, 23147.353515625, 27219.658203125, 25931.47265625, 37712.74609375, 41566.31640625]\n"
     ]
    }
   ],
   "source": [
    "#Putting price to list\n",
    "price = []\n",
    "\n",
    "for i in btc_price_closing:\n",
    "    price.append(i)\n",
    "    \n",
    "print(price)    \n",
    "\n",
    "# Length price list\n",
    "#len(price)\n",
    "\n",
    "#Creating PD dataframe\n",
    "price2 = price[:]"
   ]
  },
  {
   "cell_type": "code",
   "execution_count": 0,
   "metadata": {
    "application/vnd.databricks.v1+cell": {
     "cellMetadata": {
      "byteLimit": 2048000,
      "rowLimit": 10000
     },
     "inputWidgets": {},
     "nuid": "2151ecee-78a5-4774-962f-65b239bb2667",
     "showTitle": false,
     "title": ""
    }
   },
   "outputs": [],
   "source": [
    "try:\n",
    "    # try statement to keep length of dates equal to the length of prices\n",
    "    if len(dates) != len(price): # The price list collected a date that is no a quarterly date price\n",
    "        price2.pop()\n",
    "    else:\n",
    "        pass\n",
    "except ValueError:\n",
    "    print(\"Price list not the same length as dates list.\")"
   ]
  },
  {
   "cell_type": "code",
   "execution_count": 0,
   "metadata": {
    "application/vnd.databricks.v1+cell": {
     "cellMetadata": {
      "byteLimit": 2048000,
      "rowLimit": 10000
     },
     "inputWidgets": {},
     "nuid": "4d200eea-33e4-46da-a73f-b581332b0adc",
     "showTitle": false,
     "title": ""
    }
   },
   "outputs": [
    {
     "output_type": "stream",
     "name": "stdout",
     "output_type": "stream",
     "text": [
      "Out[34]: 38"
     ]
    }
   ],
   "source": [
    "len(price2)"
   ]
  },
  {
   "cell_type": "code",
   "execution_count": 0,
   "metadata": {
    "application/vnd.databricks.v1+cell": {
     "cellMetadata": {
      "byteLimit": 2048000,
      "rowLimit": 10000
     },
     "inputWidgets": {},
     "nuid": "4a4247e1-2b37-4085-908a-bc600374c754",
     "showTitle": false,
     "title": ""
    }
   },
   "outputs": [],
   "source": [
    "# PD dataframe\n",
    "prices = {\"Date\": dates, \"BTC Price\": price2}\n",
    "#print(prices)\n",
    "btc_price = pd.DataFrame(prices)"
   ]
  },
  {
   "cell_type": "code",
   "execution_count": 0,
   "metadata": {
    "application/vnd.databricks.v1+cell": {
     "cellMetadata": {
      "byteLimit": 2048000,
      "rowLimit": 10000
     },
     "inputWidgets": {},
     "nuid": "844fc61e-838c-4bc8-befb-81df05a3b607",
     "showTitle": false,
     "title": ""
    }
   },
   "outputs": [
    {
     "output_type": "stream",
     "name": "stdout",
     "output_type": "stream",
     "text": [
      "+----------+------------------+\n|      Date|         BTC Price|\n+----------+------------------+\n|2014-09-01| 378.0469970703125|\n|2014-12-01|254.26300048828125|\n|2015-03-01|230.19000244140625|\n|2015-06-01|230.05599975585938|\n|2015-09-01| 377.3210144042969|\n|2015-12-01| 437.6969909667969|\n|2016-03-01|  531.385986328125|\n|2016-06-01| 575.4719848632812|\n|2016-09-01| 745.6909790039062|\n|2016-12-01| 1179.969970703125|\n|2017-03-01| 2286.409912109375|\n|2017-06-01|  4703.39013671875|\n|2017-09-01|   10233.599609375|\n|2017-12-01|   10397.900390625|\n|2018-03-01|    7494.169921875|\n|2018-06-01|    7037.580078125|\n|2018-09-01|   4017.2685546875|\n|2018-12-01| 3854.785400390625|\n|2019-03-01|    8574.501953125|\n|2019-06-01|      9630.6640625|\n+----------+------------------+\nonly showing top 20 rows\n\n"
     ]
    }
   ],
   "source": [
    "#Convert pandas DF to spark DF\n",
    "btc_rdd = spark.createDataFrame(btc_price)\n",
    "btc_rdd.show()"
   ]
  },
  {
   "cell_type": "code",
   "execution_count": 0,
   "metadata": {
    "application/vnd.databricks.v1+cell": {
     "cellMetadata": {
      "byteLimit": 2048000,
      "rowLimit": 10000
     },
     "inputWidgets": {},
     "nuid": "df7de096-5406-4518-bea7-56ebfb9a88eb",
     "showTitle": false,
     "title": ""
    }
   },
   "outputs": [
    {
     "output_type": "stream",
     "name": "stdout",
     "output_type": "stream",
     "text": [
      "root\n |-- Date: string (nullable = true)\n |-- BTC Price: double (nullable = true)\n\n"
     ]
    }
   ],
   "source": [
    "# Show Schema\n",
    "btc_rdd.printSchema()"
   ]
  },
  {
   "cell_type": "code",
   "execution_count": 0,
   "metadata": {
    "application/vnd.databricks.v1+cell": {
     "cellMetadata": {
      "byteLimit": 2048000,
      "rowLimit": 10000
     },
     "inputWidgets": {},
     "nuid": "47904a25-0f3a-430f-bd92-f32136433b2e",
     "showTitle": false,
     "title": ""
    }
   },
   "outputs": [
    {
     "output_type": "display_data",
     "data": {
      "text/html": [
       "<style scoped>\n",
       "  .table-result-container {\n",
       "    max-height: 300px;\n",
       "    overflow: auto;\n",
       "  }\n",
       "  table, th, td {\n",
       "    border: 1px solid black;\n",
       "    border-collapse: collapse;\n",
       "  }\n",
       "  th, td {\n",
       "    padding: 5px;\n",
       "  }\n",
       "  th {\n",
       "    text-align: left;\n",
       "  }\n",
       "</style><div class='table-result-container'><table class='table-result'><thead style='background-color: white'><tr><th>Date</th><th>BTC Price</th></tr></thead><tbody><tr><td>2014-09-01</td><td>378.0469970703125</td></tr><tr><td>2014-12-01</td><td>254.26300048828125</td></tr><tr><td>2015-03-01</td><td>230.19000244140625</td></tr><tr><td>2015-06-01</td><td>230.05599975585938</td></tr><tr><td>2015-09-01</td><td>377.3210144042969</td></tr><tr><td>2015-12-01</td><td>437.6969909667969</td></tr><tr><td>2016-03-01</td><td>531.385986328125</td></tr><tr><td>2016-06-01</td><td>575.4719848632812</td></tr><tr><td>2016-09-01</td><td>745.6909790039062</td></tr><tr><td>2016-12-01</td><td>1179.969970703125</td></tr><tr><td>2017-03-01</td><td>2286.409912109375</td></tr><tr><td>2017-06-01</td><td>4703.39013671875</td></tr><tr><td>2017-09-01</td><td>10233.599609375</td></tr><tr><td>2017-12-01</td><td>10397.900390625</td></tr><tr><td>2018-03-01</td><td>7494.169921875</td></tr><tr><td>2018-06-01</td><td>7037.580078125</td></tr><tr><td>2018-09-01</td><td>4017.2685546875</td></tr><tr><td>2018-12-01</td><td>3854.785400390625</td></tr><tr><td>2019-03-01</td><td>8574.501953125</td></tr><tr><td>2019-06-01</td><td>9630.6640625</td></tr><tr><td>2019-09-01</td><td>7569.6298828125</td></tr><tr><td>2019-12-01</td><td>8599.5087890625</td></tr><tr><td>2020-03-01</td><td>9461.05859375</td></tr><tr><td>2020-06-01</td><td>11680.8203125</td></tr><tr><td>2020-09-01</td><td>19625.8359375</td></tr><tr><td>2020-12-01</td><td>45137.76953125</td></tr><tr><td>2021-03-01</td><td>37332.85546875</td></tr><tr><td>2021-06-01</td><td>47166.6875</td></tr><tr><td>2021-09-01</td><td>57005.42578125</td></tr><tr><td>2021-12-01</td><td>43193.234375</td></tr><tr><td>2022-03-01</td><td>31792.310546875</td></tr><tr><td>2022-06-01</td><td>20049.763671875</td></tr><tr><td>2022-09-01</td><td>17168.56640625</td></tr><tr><td>2022-12-01</td><td>23147.353515625</td></tr><tr><td>2023-03-01</td><td>27219.658203125</td></tr><tr><td>2023-06-01</td><td>25931.47265625</td></tr><tr><td>2023-09-01</td><td>37712.74609375</td></tr><tr><td>2023-12-01</td><td>41566.31640625</td></tr></tbody></table></div>"
      ]
     },
     "metadata": {
      "application/vnd.databricks.v1+output": {
       "addedWidgets": {},
       "aggData": [],
       "aggError": "",
       "aggOverflow": false,
       "aggSchema": [],
       "aggSeriesLimitReached": false,
       "aggType": "",
       "arguments": {},
       "columnCustomDisplayInfos": {},
       "data": [
        [
         "2014-09-01",
         378.0469970703125
        ],
        [
         "2014-12-01",
         254.26300048828125
        ],
        [
         "2015-03-01",
         230.19000244140625
        ],
        [
         "2015-06-01",
         230.05599975585938
        ],
        [
         "2015-09-01",
         377.3210144042969
        ],
        [
         "2015-12-01",
         437.6969909667969
        ],
        [
         "2016-03-01",
         531.385986328125
        ],
        [
         "2016-06-01",
         575.4719848632812
        ],
        [
         "2016-09-01",
         745.6909790039062
        ],
        [
         "2016-12-01",
         1179.969970703125
        ],
        [
         "2017-03-01",
         2286.409912109375
        ],
        [
         "2017-06-01",
         4703.39013671875
        ],
        [
         "2017-09-01",
         10233.599609375
        ],
        [
         "2017-12-01",
         10397.900390625
        ],
        [
         "2018-03-01",
         7494.169921875
        ],
        [
         "2018-06-01",
         7037.580078125
        ],
        [
         "2018-09-01",
         4017.2685546875
        ],
        [
         "2018-12-01",
         3854.785400390625
        ],
        [
         "2019-03-01",
         8574.501953125
        ],
        [
         "2019-06-01",
         9630.6640625
        ],
        [
         "2019-09-01",
         7569.6298828125
        ],
        [
         "2019-12-01",
         8599.5087890625
        ],
        [
         "2020-03-01",
         9461.05859375
        ],
        [
         "2020-06-01",
         11680.8203125
        ],
        [
         "2020-09-01",
         19625.8359375
        ],
        [
         "2020-12-01",
         45137.76953125
        ],
        [
         "2021-03-01",
         37332.85546875
        ],
        [
         "2021-06-01",
         47166.6875
        ],
        [
         "2021-09-01",
         57005.42578125
        ],
        [
         "2021-12-01",
         43193.234375
        ],
        [
         "2022-03-01",
         31792.310546875
        ],
        [
         "2022-06-01",
         20049.763671875
        ],
        [
         "2022-09-01",
         17168.56640625
        ],
        [
         "2022-12-01",
         23147.353515625
        ],
        [
         "2023-03-01",
         27219.658203125
        ],
        [
         "2023-06-01",
         25931.47265625
        ],
        [
         "2023-09-01",
         37712.74609375
        ],
        [
         "2023-12-01",
         41566.31640625
        ]
       ],
       "datasetInfos": [],
       "dbfsResultPath": null,
       "isJsonSchema": true,
       "metadata": {},
       "overflow": false,
       "plotOptions": {
        "customPlotOptions": {},
        "displayType": "table",
        "pivotAggregation": null,
        "pivotColumns": null,
        "xColumns": null,
        "yColumns": null
       },
       "removedWidgets": [],
       "schema": [
        {
         "metadata": "{}",
         "name": "Date",
         "type": "\"string\""
        },
        {
         "metadata": "{}",
         "name": "BTC Price",
         "type": "\"double\""
        }
       ],
       "type": "table"
      }
     },
     "output_type": "display_data"
    },
    {
     "output_type": "stream",
     "name": "stdout",
     "output_type": "stream",
     "text": [
      "root\n |-- Date: string (nullable = true)\n |-- BTC Price: double (nullable = true)\n |-- year: string (nullable = true)\n |-- month: string (nullable = true)\n |-- day: string (nullable = true)\n\n+----------+------------------+----+-----+---+\n|      Date|         BTC Price|year|month|day|\n+----------+------------------+----+-----+---+\n|2014-09-01| 378.0469970703125|2014|   09| 01|\n|2014-12-01|254.26300048828125|2014|   12| 01|\n|2015-03-01|230.19000244140625|2015|   03| 01|\n|2015-06-01|230.05599975585938|2015|   06| 01|\n|2015-09-01| 377.3210144042969|2015|   09| 01|\n|2015-12-01| 437.6969909667969|2015|   12| 01|\n|2016-03-01|  531.385986328125|2016|   03| 01|\n|2016-06-01| 575.4719848632812|2016|   06| 01|\n|2016-09-01| 745.6909790039062|2016|   09| 01|\n|2016-12-01| 1179.969970703125|2016|   12| 01|\n|2017-03-01| 2286.409912109375|2017|   03| 01|\n|2017-06-01|  4703.39013671875|2017|   06| 01|\n|2017-09-01|   10233.599609375|2017|   09| 01|\n|2017-12-01|   10397.900390625|2017|   12| 01|\n|2018-03-01|    7494.169921875|2018|   03| 01|\n|2018-06-01|    7037.580078125|2018|   06| 01|\n|2018-09-01|   4017.2685546875|2018|   09| 01|\n|2018-12-01| 3854.785400390625|2018|   12| 01|\n|2019-03-01|    8574.501953125|2019|   03| 01|\n|2019-06-01|      9630.6640625|2019|   06| 01|\n+----------+------------------+----+-----+---+\nonly showing top 20 rows\n\n"
     ]
    }
   ],
   "source": [
    "#Show data\n",
    "display(btc_rdd)\n",
    "\n",
    "#Show top 5 records\n",
    "btc_rdd.take(5)\n",
    "\n",
    "#btc_df = btc_rdd.toDF()\n",
    "#split the date and time into separate columns\n",
    "btc_rdd_columns_split = btc_rdd.withColumn(\"year\", split(btc_rdd.Date, \"-\").getItem(0)).withColumn(\"month\", split(btc_rdd.Date, \"-\").getItem(1)).withColumn(\"day\", split(btc_rdd.Date, \"-\").getItem(2)) \n",
    "btc_rdd_columns_split.printSchema()\n",
    "btc_rdd_columns_split.show()\n"
   ]
  },
  {
   "cell_type": "code",
   "execution_count": 0,
   "metadata": {
    "application/vnd.databricks.v1+cell": {
     "cellMetadata": {
      "byteLimit": 2048000,
      "rowLimit": 10000
     },
     "inputWidgets": {},
     "nuid": "870c3c7a-41c4-4fe8-bf90-43f86e543c6e",
     "showTitle": false,
     "title": ""
    }
   },
   "outputs": [
    {
     "output_type": "display_data",
     "data": {
      "text/html": [
       "<style scoped>\n",
       "  .table-result-container {\n",
       "    max-height: 300px;\n",
       "    overflow: auto;\n",
       "  }\n",
       "  table, th, td {\n",
       "    border: 1px solid black;\n",
       "    border-collapse: collapse;\n",
       "  }\n",
       "  th, td {\n",
       "    padding: 5px;\n",
       "  }\n",
       "  th {\n",
       "    text-align: left;\n",
       "  }\n",
       "</style><div class='table-result-container'><table class='table-result'><thead style='background-color: white'><tr><th>year</th><th>BTC avg</th></tr></thead><tbody><tr><td>2014</td><td>316.1549987792969</td></tr><tr><td>2015</td><td>318.81600189208984</td></tr><tr><td>2016</td><td>758.1297302246094</td></tr><tr><td>2017</td><td>6905.325012207031</td></tr><tr><td>2018</td><td>5600.950988769531</td></tr><tr><td>2019</td><td>8593.576171875</td></tr><tr><td>2020</td><td>21476.37109375</td></tr><tr><td>2021</td><td>46174.55078125</td></tr><tr><td>2022</td><td>23039.49853515625</td></tr><tr><td>2023</td><td>33107.54833984375</td></tr></tbody></table></div>"
      ]
     },
     "metadata": {
      "application/vnd.databricks.v1+output": {
       "addedWidgets": {},
       "aggData": [],
       "aggError": "",
       "aggOverflow": false,
       "aggSchema": [],
       "aggSeriesLimitReached": false,
       "aggType": "",
       "arguments": {},
       "columnCustomDisplayInfos": {},
       "data": [
        [
         "2014",
         316.1549987792969
        ],
        [
         "2015",
         318.81600189208984
        ],
        [
         "2016",
         758.1297302246094
        ],
        [
         "2017",
         6905.325012207031
        ],
        [
         "2018",
         5600.950988769531
        ],
        [
         "2019",
         8593.576171875
        ],
        [
         "2020",
         21476.37109375
        ],
        [
         "2021",
         46174.55078125
        ],
        [
         "2022",
         23039.49853515625
        ],
        [
         "2023",
         33107.54833984375
        ]
       ],
       "datasetInfos": [],
       "dbfsResultPath": null,
       "isJsonSchema": true,
       "metadata": {},
       "overflow": false,
       "plotOptions": {
        "customPlotOptions": {},
        "displayType": "table",
        "pivotAggregation": null,
        "pivotColumns": null,
        "xColumns": null,
        "yColumns": null
       },
       "removedWidgets": [],
       "schema": [
        {
         "metadata": "{}",
         "name": "year",
         "type": "\"string\""
        },
        {
         "metadata": "{}",
         "name": "BTC avg",
         "type": "\"double\""
        }
       ],
       "type": "table"
      }
     },
     "output_type": "display_data"
    }
   ],
   "source": [
    "#group by year, and take avg values of all the years\n",
    "btc_grouped_and_aggregated = btc_rdd_columns_split.groupBy(\"year\").agg(avg(\"BTC Price\").alias(\"BTC avg\")) \n",
    "#sort by year\n",
    "btc_grouped_and_aggregated_sorted = btc_grouped_and_aggregated.orderBy(col(\"year\")) \n",
    "display(btc_grouped_and_aggregated_sorted)  \n"
   ]
  },
  {
   "cell_type": "code",
   "execution_count": 0,
   "metadata": {
    "application/vnd.databricks.v1+cell": {
     "cellMetadata": {
      "byteLimit": 2048000,
      "rowLimit": 10000
     },
     "inputWidgets": {},
     "nuid": "d1444706-49a1-404f-a587-24575eabf23d",
     "showTitle": false,
     "title": ""
    }
   },
   "outputs": [
    {
     "output_type": "display_data",
     "data": {
      "text/html": [
       "<style scoped>\n",
       "  .table-result-container {\n",
       "    max-height: 300px;\n",
       "    overflow: auto;\n",
       "  }\n",
       "  table, th, td {\n",
       "    border: 1px solid black;\n",
       "    border-collapse: collapse;\n",
       "  }\n",
       "  th, td {\n",
       "    padding: 5px;\n",
       "  }\n",
       "  th {\n",
       "    text-align: left;\n",
       "  }\n",
       "</style><div class='table-result-container'><table class='table-result'><thead style='background-color: white'><tr><th>year</th><th>gas avg</th><th>all items avg</th></tr></thead><tbody><tr><td>id</td><td>null</td><td>null</td></tr><tr><td>1976</td><td>0.6143333415190378</td><td>56.93333339691162</td></tr><tr><td>1984</td><td>1.2122499843438466</td><td>103.93333307902019</td></tr><tr><td>1982</td><td>1.2955000003178914</td><td>96.53333218892415</td></tr><tr><td>1981</td><td>1.378250002861023</td><td>90.9333324432373</td></tr><tr><td>1978</td><td>0.6702499985694885</td><td>65.24166711171468</td></tr><tr><td>1983</td><td>1.2411666611830394</td><td>99.58333396911621</td></tr><tr><td>1980</td><td>1.2451666792233784</td><td>82.38333257039388</td></tr><tr><td>1986</td><td>0.9274166623751322</td><td>109.69166628519694</td></tr><tr><td>1985</td><td>1.2017500003178914</td><td>107.59999974568684</td></tr><tr><td>1979</td><td>0.9032500038544337</td><td>72.58333269755046</td></tr><tr><td>1977</td><td>0.6563333372275034</td><td>60.61666615804037</td></tr><tr><td>1995</td><td>1.1471666594346364</td><td>152.3833325703939</td></tr><tr><td>1989</td><td>1.022166669368744</td><td>123.94166628519694</td></tr><tr><td>1992</td><td>1.1265000104904175</td><td>140.3083356221517</td></tr><tr><td>1994</td><td>1.1118333339691162</td><td>148.22499974568686</td></tr><tr><td>1996</td><td>1.2309166491031647</td><td>156.85833231608072</td></tr><tr><td>1993</td><td>1.1079166730244954</td><td>144.47500228881836</td></tr><tr><td>1990</td><td>1.1643333435058594</td><td>130.65833282470703</td></tr><tr><td>1991</td><td>1.1400833229223888</td><td>136.16666793823242</td></tr><tr><td>1987</td><td>0.9484166701634725</td><td>113.61666679382324</td></tr><tr><td>1988</td><td>0.9461666643619537</td><td>118.27499961853027</td></tr><tr><td>2005</td><td>2.2953333655993142</td><td>195.26666895548502</td></tr><tr><td>2000</td><td>1.5100000003973644</td><td>172.19166564941406</td></tr><tr><td>2002</td><td>1.357500006755193</td><td>179.8666674296061</td></tr><tr><td>2006</td><td>2.5889166792233786</td><td>201.55833307902017</td></tr><tr><td>2004</td><td>1.8801666696866353</td><td>188.90833282470703</td></tr><tr><td>1999</td><td>1.1650833388169606</td><td>166.58333333333334</td></tr><tr><td>2001</td><td>1.4610000054041545</td><td>177.04166666666666</td></tr><tr><td>2003</td><td>1.5907500286897023</td><td>184.0</td></tr><tr><td>2016</td><td>2.1417499780654907</td><td>240.00541559855142</td></tr><tr><td>2012</td><td>3.644083340962728</td><td>229.58608118693033</td></tr><tr><td>2014</td><td>3.3672499855359397</td><td>236.7150001525879</td></tr><tr><td>2013</td><td>3.525999963283539</td><td>232.9517504374186</td></tr><tr><td>2009</td><td>2.350166688362757</td><td>214.5646654764811</td></tr><tr><td>2011</td><td>3.5266667008399963</td><td>224.92300160725912</td></tr><tr><td>1997</td><td>1.2336666683355968</td><td>160.52499771118164</td></tr><tr><td>2015</td><td>2.44774999221166</td><td>237.00174967447916</td></tr><tr><td>1998</td><td>1.0593333492676418</td><td>163.0083325703939</td></tr><tr><td>2010</td><td>2.787499984105428</td><td>218.07616678873697</td></tr><tr><td>2020</td><td>2.174416651328405</td><td>258.85058212280273</td></tr><tr><td>2019</td><td>2.6362499992052713</td><td>255.65166346232095</td></tr><tr><td>2017</td><td>2.4075000087420144</td><td>245.1209971110026</td></tr><tr><td>2018</td><td>2.735333343346914</td><td>251.0995012919108</td></tr><tr><td>2022</td><td>4.093666613101959</td><td>292.6124954223633</td></tr><tr><td>2008</td><td>3.2662500043710074</td><td>215.25424830118814</td></tr><tr><td>2007</td><td>2.8005833427111306</td><td>207.34416707356772</td></tr><tr><td>2023</td><td>3.69145451892506</td><td>304.3344560102983</td></tr><tr><td>2021</td><td>3.0505000154177346</td><td>270.9714177449544</td></tr></tbody></table></div>"
      ]
     },
     "metadata": {
      "application/vnd.databricks.v1+output": {
       "addedWidgets": {},
       "aggData": [],
       "aggError": "",
       "aggOverflow": false,
       "aggSchema": [],
       "aggSeriesLimitReached": false,
       "aggType": "",
       "arguments": {},
       "columnCustomDisplayInfos": {},
       "data": [
        [
         "id",
         null,
         null
        ],
        [
         "1976",
         0.6143333415190378,
         56.93333339691162
        ],
        [
         "1984",
         1.2122499843438466,
         103.93333307902019
        ],
        [
         "1982",
         1.2955000003178914,
         96.53333218892415
        ],
        [
         "1981",
         1.378250002861023,
         90.9333324432373
        ],
        [
         "1978",
         0.6702499985694885,
         65.24166711171468
        ],
        [
         "1983",
         1.2411666611830394,
         99.58333396911621
        ],
        [
         "1980",
         1.2451666792233784,
         82.38333257039388
        ],
        [
         "1986",
         0.9274166623751322,
         109.69166628519694
        ],
        [
         "1985",
         1.2017500003178914,
         107.59999974568684
        ],
        [
         "1979",
         0.9032500038544337,
         72.58333269755046
        ],
        [
         "1977",
         0.6563333372275034,
         60.61666615804037
        ],
        [
         "1995",
         1.1471666594346364,
         152.3833325703939
        ],
        [
         "1989",
         1.022166669368744,
         123.94166628519694
        ],
        [
         "1992",
         1.1265000104904175,
         140.3083356221517
        ],
        [
         "1994",
         1.1118333339691162,
         148.22499974568686
        ],
        [
         "1996",
         1.2309166491031647,
         156.85833231608072
        ],
        [
         "1993",
         1.1079166730244954,
         144.47500228881836
        ],
        [
         "1990",
         1.1643333435058594,
         130.65833282470703
        ],
        [
         "1991",
         1.1400833229223888,
         136.16666793823242
        ],
        [
         "1987",
         0.9484166701634725,
         113.61666679382324
        ],
        [
         "1988",
         0.9461666643619537,
         118.27499961853027
        ],
        [
         "2005",
         2.2953333655993142,
         195.26666895548502
        ],
        [
         "2000",
         1.5100000003973644,
         172.19166564941406
        ],
        [
         "2002",
         1.357500006755193,
         179.8666674296061
        ],
        [
         "2006",
         2.5889166792233786,
         201.55833307902017
        ],
        [
         "2004",
         1.8801666696866353,
         188.90833282470703
        ],
        [
         "1999",
         1.1650833388169606,
         166.58333333333334
        ],
        [
         "2001",
         1.4610000054041545,
         177.04166666666666
        ],
        [
         "2003",
         1.5907500286897023,
         184.0
        ],
        [
         "2016",
         2.1417499780654907,
         240.00541559855142
        ],
        [
         "2012",
         3.644083340962728,
         229.58608118693033
        ],
        [
         "2014",
         3.3672499855359397,
         236.7150001525879
        ],
        [
         "2013",
         3.525999963283539,
         232.9517504374186
        ],
        [
         "2009",
         2.350166688362757,
         214.5646654764811
        ],
        [
         "2011",
         3.5266667008399963,
         224.92300160725912
        ],
        [
         "1997",
         1.2336666683355968,
         160.52499771118164
        ],
        [
         "2015",
         2.44774999221166,
         237.00174967447916
        ],
        [
         "1998",
         1.0593333492676418,
         163.0083325703939
        ],
        [
         "2010",
         2.787499984105428,
         218.07616678873697
        ],
        [
         "2020",
         2.174416651328405,
         258.85058212280273
        ],
        [
         "2019",
         2.6362499992052713,
         255.65166346232095
        ],
        [
         "2017",
         2.4075000087420144,
         245.1209971110026
        ],
        [
         "2018",
         2.735333343346914,
         251.0995012919108
        ],
        [
         "2022",
         4.093666613101959,
         292.6124954223633
        ],
        [
         "2008",
         3.2662500043710074,
         215.25424830118814
        ],
        [
         "2007",
         2.8005833427111306,
         207.34416707356772
        ],
        [
         "2023",
         3.69145451892506,
         304.3344560102983
        ],
        [
         "2021",
         3.0505000154177346,
         270.9714177449544
        ]
       ],
       "datasetInfos": [],
       "dbfsResultPath": null,
       "isJsonSchema": true,
       "metadata": {},
       "overflow": false,
       "plotOptions": {
        "customPlotOptions": {},
        "displayType": "table",
        "pivotAggregation": null,
        "pivotColumns": null,
        "xColumns": null,
        "yColumns": null
       },
       "removedWidgets": [],
       "schema": [
        {
         "metadata": "{}",
         "name": "year",
         "type": "\"string\""
        },
        {
         "metadata": "{}",
         "name": "gas avg",
         "type": "\"double\""
        },
        {
         "metadata": "{}",
         "name": "all items avg",
         "type": "\"double\""
        }
       ],
       "type": "table"
      }
     },
     "output_type": "display_data"
    }
   ],
   "source": [
    "#Do Join to the two data sets for gas price and all items price by year, \n",
    "gas_all_items_avg_price_joined = gas_price_grouped_aggregated_sorted.join(all_tems_grouped_aggregated_sorted,[\"year\"])\n",
    "display(gas_all_items_avg_price_joined)"
   ]
  },
  {
   "cell_type": "code",
   "execution_count": 0,
   "metadata": {
    "application/vnd.databricks.v1+cell": {
     "cellMetadata": {
      "byteLimit": 2048000,
      "rowLimit": 10000
     },
     "inputWidgets": {},
     "nuid": "5ed48964-dac2-4f73-a4af-4ff8ae054006",
     "showTitle": false,
     "title": ""
    }
   },
   "outputs": [
    {
     "output_type": "display_data",
     "data": {
      "text/html": [
       "<style scoped>\n",
       "  .table-result-container {\n",
       "    max-height: 300px;\n",
       "    overflow: auto;\n",
       "  }\n",
       "  table, th, td {\n",
       "    border: 1px solid black;\n",
       "    border-collapse: collapse;\n",
       "  }\n",
       "  th, td {\n",
       "    padding: 5px;\n",
       "  }\n",
       "  th {\n",
       "    text-align: left;\n",
       "  }\n",
       "</style><div class='table-result-container'><table class='table-result'><thead style='background-color: white'><tr><th>year</th><th>gas avg</th><th>all items avg</th><th>weekly wage avg</th></tr></thead><tbody><tr><td>1979</td><td>0.9032500038544337</td><td>72.58333269755046</td><td>240.5</td></tr><tr><td>1980</td><td>1.2451666792233784</td><td>82.38333257039388</td><td>261.5</td></tr><tr><td>1981</td><td>1.378250002861023</td><td>90.9333324432373</td><td>283.0</td></tr><tr><td>1982</td><td>1.2955000003178914</td><td>96.53333218892415</td><td>301.5</td></tr><tr><td>1983</td><td>1.2411666611830394</td><td>99.58333396911621</td><td>312.75</td></tr><tr><td>1984</td><td>1.2122499843438466</td><td>103.93333307902019</td><td>325.75</td></tr><tr><td>1985</td><td>1.2017500003178914</td><td>107.59999974568684</td><td>343.5</td></tr><tr><td>1986</td><td>0.9274166623751322</td><td>109.69166628519694</td><td>358.5</td></tr><tr><td>1987</td><td>0.9484166701634725</td><td>113.61666679382324</td><td>373.0</td></tr><tr><td>1988</td><td>0.9461666643619537</td><td>118.27499961853027</td><td>385.0</td></tr><tr><td>1989</td><td>1.022166669368744</td><td>123.94166628519694</td><td>399.5</td></tr><tr><td>1990</td><td>1.1643333435058594</td><td>130.65833282470703</td><td>412.25</td></tr><tr><td>1991</td><td>1.1400833229223888</td><td>136.16666793823242</td><td>426.75</td></tr><tr><td>1992</td><td>1.1265000104904175</td><td>140.3083356221517</td><td>440.25</td></tr><tr><td>1993</td><td>1.1079166730244954</td><td>144.47500228881836</td><td>458.5</td></tr><tr><td>1994</td><td>1.1118333339691162</td><td>148.22499974568686</td><td>467.0</td></tr><tr><td>1995</td><td>1.1471666594346364</td><td>152.3833325703939</td><td>479.0</td></tr><tr><td>1996</td><td>1.2309166491031647</td><td>156.85833231608072</td><td>490.5</td></tr><tr><td>1997</td><td>1.2336666683355968</td><td>160.52499771118164</td><td>503.25</td></tr><tr><td>1998</td><td>1.0593333492676418</td><td>163.0083325703939</td><td>524.25</td></tr><tr><td>1999</td><td>1.1650833388169606</td><td>166.58333333333334</td><td>548.75</td></tr><tr><td>2000</td><td>1.5100000003973644</td><td>172.19166564941406</td><td>575.25</td></tr><tr><td>2001</td><td>1.4610000054041545</td><td>177.04166666666666</td><td>595.75</td></tr><tr><td>2002</td><td>1.357500006755193</td><td>179.8666674296061</td><td>608.0</td></tr><tr><td>2003</td><td>1.5907500286897023</td><td>184.0</td><td>619.75</td></tr><tr><td>2004</td><td>1.8801666696866353</td><td>188.90833282470703</td><td>638.0</td></tr><tr><td>2005</td><td>2.2953333655993142</td><td>195.26666895548502</td><td>651.0</td></tr><tr><td>2006</td><td>2.5889166792233786</td><td>201.55833307902017</td><td>671.0</td></tr><tr><td>2007</td><td>2.8005833427111306</td><td>207.34416707356772</td><td>694.5</td></tr><tr><td>2008</td><td>3.2662500043710074</td><td>215.25424830118814</td><td>721.5</td></tr><tr><td>2009</td><td>2.350166688362757</td><td>214.5646654764811</td><td>739.5</td></tr><tr><td>2010</td><td>2.787499984105428</td><td>218.07616678873697</td><td>746.5</td></tr><tr><td>2011</td><td>3.5266667008399963</td><td>224.92300160725912</td><td>756.25</td></tr><tr><td>2012</td><td>3.644083340962728</td><td>229.58608118693033</td><td>768.25</td></tr><tr><td>2013</td><td>3.525999963283539</td><td>232.9517504374186</td><td>776.5</td></tr><tr><td>2014</td><td>3.3672499855359397</td><td>236.7150001525879</td><td>791.25</td></tr><tr><td>2015</td><td>2.44774999221166</td><td>237.00174967447916</td><td>809.25</td></tr><tr><td>2016</td><td>2.1417499780654907</td><td>240.00541559855142</td><td>832.5</td></tr><tr><td>2017</td><td>2.4075000087420144</td><td>245.1209971110026</td><td>860.0</td></tr><tr><td>2018</td><td>2.735333343346914</td><td>251.0995012919108</td><td>886.0</td></tr><tr><td>2019</td><td>2.6362499992052713</td><td>255.65166346232095</td><td>917.0</td></tr><tr><td>2020</td><td>2.174416651328405</td><td>258.85058212280273</td><td>984.25</td></tr><tr><td>2021</td><td>3.0505000154177346</td><td>270.9714177449544</td><td>997.5</td></tr><tr><td>2022</td><td>4.093666613101959</td><td>292.6124954223633</td><td>1058.25</td></tr><tr><td>2023</td><td>3.69145451892506</td><td>304.3344560102983</td><td>1106.0</td></tr></tbody></table></div>"
      ]
     },
     "metadata": {
      "application/vnd.databricks.v1+output": {
       "addedWidgets": {},
       "aggData": [],
       "aggError": "",
       "aggOverflow": false,
       "aggSchema": [],
       "aggSeriesLimitReached": false,
       "aggType": "",
       "arguments": {},
       "columnCustomDisplayInfos": {},
       "data": [
        [
         "1979",
         0.9032500038544337,
         72.58333269755046,
         240.5
        ],
        [
         "1980",
         1.2451666792233784,
         82.38333257039388,
         261.5
        ],
        [
         "1981",
         1.378250002861023,
         90.9333324432373,
         283.0
        ],
        [
         "1982",
         1.2955000003178914,
         96.53333218892415,
         301.5
        ],
        [
         "1983",
         1.2411666611830394,
         99.58333396911621,
         312.75
        ],
        [
         "1984",
         1.2122499843438466,
         103.93333307902019,
         325.75
        ],
        [
         "1985",
         1.2017500003178914,
         107.59999974568684,
         343.5
        ],
        [
         "1986",
         0.9274166623751322,
         109.69166628519694,
         358.5
        ],
        [
         "1987",
         0.9484166701634725,
         113.61666679382324,
         373.0
        ],
        [
         "1988",
         0.9461666643619537,
         118.27499961853027,
         385.0
        ],
        [
         "1989",
         1.022166669368744,
         123.94166628519694,
         399.5
        ],
        [
         "1990",
         1.1643333435058594,
         130.65833282470703,
         412.25
        ],
        [
         "1991",
         1.1400833229223888,
         136.16666793823242,
         426.75
        ],
        [
         "1992",
         1.1265000104904175,
         140.3083356221517,
         440.25
        ],
        [
         "1993",
         1.1079166730244954,
         144.47500228881836,
         458.5
        ],
        [
         "1994",
         1.1118333339691162,
         148.22499974568686,
         467.0
        ],
        [
         "1995",
         1.1471666594346364,
         152.3833325703939,
         479.0
        ],
        [
         "1996",
         1.2309166491031647,
         156.85833231608072,
         490.5
        ],
        [
         "1997",
         1.2336666683355968,
         160.52499771118164,
         503.25
        ],
        [
         "1998",
         1.0593333492676418,
         163.0083325703939,
         524.25
        ],
        [
         "1999",
         1.1650833388169606,
         166.58333333333334,
         548.75
        ],
        [
         "2000",
         1.5100000003973644,
         172.19166564941406,
         575.25
        ],
        [
         "2001",
         1.4610000054041545,
         177.04166666666666,
         595.75
        ],
        [
         "2002",
         1.357500006755193,
         179.8666674296061,
         608.0
        ],
        [
         "2003",
         1.5907500286897023,
         184.0,
         619.75
        ],
        [
         "2004",
         1.8801666696866353,
         188.90833282470703,
         638.0
        ],
        [
         "2005",
         2.2953333655993142,
         195.26666895548502,
         651.0
        ],
        [
         "2006",
         2.5889166792233786,
         201.55833307902017,
         671.0
        ],
        [
         "2007",
         2.8005833427111306,
         207.34416707356772,
         694.5
        ],
        [
         "2008",
         3.2662500043710074,
         215.25424830118814,
         721.5
        ],
        [
         "2009",
         2.350166688362757,
         214.5646654764811,
         739.5
        ],
        [
         "2010",
         2.787499984105428,
         218.07616678873697,
         746.5
        ],
        [
         "2011",
         3.5266667008399963,
         224.92300160725912,
         756.25
        ],
        [
         "2012",
         3.644083340962728,
         229.58608118693033,
         768.25
        ],
        [
         "2013",
         3.525999963283539,
         232.9517504374186,
         776.5
        ],
        [
         "2014",
         3.3672499855359397,
         236.7150001525879,
         791.25
        ],
        [
         "2015",
         2.44774999221166,
         237.00174967447916,
         809.25
        ],
        [
         "2016",
         2.1417499780654907,
         240.00541559855142,
         832.5
        ],
        [
         "2017",
         2.4075000087420144,
         245.1209971110026,
         860.0
        ],
        [
         "2018",
         2.735333343346914,
         251.0995012919108,
         886.0
        ],
        [
         "2019",
         2.6362499992052713,
         255.65166346232095,
         917.0
        ],
        [
         "2020",
         2.174416651328405,
         258.85058212280273,
         984.25
        ],
        [
         "2021",
         3.0505000154177346,
         270.9714177449544,
         997.5
        ],
        [
         "2022",
         4.093666613101959,
         292.6124954223633,
         1058.25
        ],
        [
         "2023",
         3.69145451892506,
         304.3344560102983,
         1106.0
        ]
       ],
       "datasetInfos": [],
       "dbfsResultPath": null,
       "isJsonSchema": true,
       "metadata": {},
       "overflow": false,
       "plotOptions": {
        "customPlotOptions": {},
        "displayType": "table",
        "pivotAggregation": null,
        "pivotColumns": null,
        "xColumns": null,
        "yColumns": null
       },
       "removedWidgets": [],
       "schema": [
        {
         "metadata": "{}",
         "name": "year",
         "type": "\"string\""
        },
        {
         "metadata": "{}",
         "name": "gas avg",
         "type": "\"double\""
        },
        {
         "metadata": "{}",
         "name": "all items avg",
         "type": "\"double\""
        },
        {
         "metadata": "{}",
         "name": "weekly wage avg",
         "type": "\"double\""
        }
       ],
       "type": "table"
      }
     },
     "output_type": "display_data"
    }
   ],
   "source": [
    "# Join the dataframe with the weekly wage dataframe\n",
    "wage_gas_all_items_avg_price_joined = gas_all_items_avg_price_joined.join(weekly_wages_grouped_aggregated,[\"year\"])\n",
    "wage_gas_all_items_avg_price_joined_sorted = wage_gas_all_items_avg_price_joined.orderBy(col(\"year\"))\n",
    "wage_gas_all_items_avg_price_joined_sorted_null_value_removed = wage_gas_all_items_avg_price_joined_sorted.na.drop()\n",
    "display(wage_gas_all_items_avg_price_joined_sorted_null_value_removed)"
   ]
  },
  {
   "cell_type": "markdown",
   "metadata": {
    "application/vnd.databricks.v1+cell": {
     "cellMetadata": {
      "byteLimit": 2048000,
      "rowLimit": 10000
     },
     "inputWidgets": {},
     "nuid": "ffc22758-5d8b-486f-b58e-015d9f9729ea",
     "showTitle": false,
     "title": ""
    }
   },
   "source": [
    "#### Visualization of trends comparing the %change in gas price, BTC price, all items price, and weekly wage"
   ]
  },
  {
   "cell_type": "code",
   "execution_count": 0,
   "metadata": {
    "application/vnd.databricks.v1+cell": {
     "cellMetadata": {
      "byteLimit": 2048000,
      "rowLimit": 10000
     },
     "inputWidgets": {},
     "nuid": "99977066-bed5-493a-bbec-580d095523b6",
     "showTitle": false,
     "title": ""
    }
   },
   "outputs": [
    {
     "output_type": "display_data",
     "data": {
      "text/html": [
       "<style scoped>\n",
       "  .table-result-container {\n",
       "    max-height: 300px;\n",
       "    overflow: auto;\n",
       "  }\n",
       "  table, th, td {\n",
       "    border: 1px solid black;\n",
       "    border-collapse: collapse;\n",
       "  }\n",
       "  th, td {\n",
       "    padding: 5px;\n",
       "  }\n",
       "  th {\n",
       "    text-align: left;\n",
       "  }\n",
       "</style><div class='table-result-container'><table class='table-result'><thead style='background-color: white'><tr><th>year</th><th>gas avg</th><th>all items avg</th><th>weekly wage avg</th><th>BTC avg</th></tr></thead><tbody><tr><td>2016</td><td>2.1417499780654907</td><td>240.00541559855142</td><td>832.5</td><td>758.1297302246094</td></tr><tr><td>2014</td><td>3.3672499855359397</td><td>236.7150001525879</td><td>791.25</td><td>316.1549987792969</td></tr><tr><td>2015</td><td>2.44774999221166</td><td>237.00174967447916</td><td>809.25</td><td>318.81600189208984</td></tr><tr><td>2020</td><td>2.174416651328405</td><td>258.85058212280273</td><td>984.25</td><td>21476.37109375</td></tr><tr><td>2019</td><td>2.6362499992052713</td><td>255.65166346232095</td><td>917.0</td><td>8593.576171875</td></tr><tr><td>2017</td><td>2.4075000087420144</td><td>245.1209971110026</td><td>860.0</td><td>6905.325012207031</td></tr><tr><td>2018</td><td>2.735333343346914</td><td>251.0995012919108</td><td>886.0</td><td>5600.950988769531</td></tr><tr><td>2022</td><td>4.093666613101959</td><td>292.6124954223633</td><td>1058.25</td><td>23039.49853515625</td></tr><tr><td>2023</td><td>3.69145451892506</td><td>304.3344560102983</td><td>1106.0</td><td>33107.54833984375</td></tr><tr><td>2021</td><td>3.0505000154177346</td><td>270.9714177449544</td><td>997.5</td><td>46174.55078125</td></tr></tbody></table></div>"
      ]
     },
     "metadata": {
      "application/vnd.databricks.v1+output": {
       "addedWidgets": {},
       "aggData": [],
       "aggError": "",
       "aggOverflow": false,
       "aggSchema": [],
       "aggSeriesLimitReached": false,
       "aggType": "",
       "arguments": {},
       "columnCustomDisplayInfos": {},
       "data": [
        [
         "2016",
         2.1417499780654907,
         240.00541559855142,
         832.5,
         758.1297302246094
        ],
        [
         "2014",
         3.3672499855359397,
         236.7150001525879,
         791.25,
         316.1549987792969
        ],
        [
         "2015",
         2.44774999221166,
         237.00174967447916,
         809.25,
         318.81600189208984
        ],
        [
         "2020",
         2.174416651328405,
         258.85058212280273,
         984.25,
         21476.37109375
        ],
        [
         "2019",
         2.6362499992052713,
         255.65166346232095,
         917.0,
         8593.576171875
        ],
        [
         "2017",
         2.4075000087420144,
         245.1209971110026,
         860.0,
         6905.325012207031
        ],
        [
         "2018",
         2.735333343346914,
         251.0995012919108,
         886.0,
         5600.950988769531
        ],
        [
         "2022",
         4.093666613101959,
         292.6124954223633,
         1058.25,
         23039.49853515625
        ],
        [
         "2023",
         3.69145451892506,
         304.3344560102983,
         1106.0,
         33107.54833984375
        ],
        [
         "2021",
         3.0505000154177346,
         270.9714177449544,
         997.5,
         46174.55078125
        ]
       ],
       "datasetInfos": [],
       "dbfsResultPath": null,
       "isJsonSchema": true,
       "metadata": {},
       "overflow": false,
       "plotOptions": {
        "customPlotOptions": {},
        "displayType": "table",
        "pivotAggregation": null,
        "pivotColumns": null,
        "xColumns": null,
        "yColumns": null
       },
       "removedWidgets": [],
       "schema": [
        {
         "metadata": "{}",
         "name": "year",
         "type": "\"string\""
        },
        {
         "metadata": "{}",
         "name": "gas avg",
         "type": "\"double\""
        },
        {
         "metadata": "{}",
         "name": "all items avg",
         "type": "\"double\""
        },
        {
         "metadata": "{}",
         "name": "weekly wage avg",
         "type": "\"double\""
        },
        {
         "metadata": "{}",
         "name": "BTC avg",
         "type": "\"double\""
        }
       ],
       "type": "table"
      }
     },
     "output_type": "display_data"
    },
    {
     "output_type": "display_data",
     "data": {
      "text/plain": [
       "Databricks visualization. Run in Databricks to view."
      ]
     },
     "metadata": {
      "application/vnd.databricks.v1.subcommand+json": {
       "baseErrorDetails": null,
       "bindings": {},
       "collapsed": false,
       "command": "all_data_joined = wage_gas_all_items_avg_price_joined_sorted.join(btc_grouped_and_aggregated_sorted,[\"year\"])\ndisplay(all_data_joined)",
       "commandTitle": "Visualization 1",
       "commandType": "auto",
       "commandVersion": 0,
       "commentThread": [],
       "commentsVisible": false,
       "contentSha256Hex": null,
       "customPlotOptions": {
        "barChart": [
         {
          "key": "grouped",
          "value": true
         },
         {
          "key": "stacked",
          "value": false
         },
         {
          "key": "100_stacked",
          "value": false
         }
        ],
        "boxPlot": [],
        "histogram": [
         {
          "key": "bins",
          "value": "20"
         }
        ],
        "lineChart": [],
        "mgLine": [
         {
          "key": "param",
          "value": "{\"top\":20,\"bottom\":50,\"area\":false,\"missing_is_hidden\":true,\"legend_target\":\".dummy\",\"animate_on_load\":false,\"transition_on_update\":false,\"legend\":[\"weekly wage avg\",\"all items avg\",\"gas avg\",\"BTC avg\"],\"x_label\":\"year\",\"colors\":[\"#d62728\",\"#ff7f0e\",\"#2ca02c\",\"#1f77b4\"]}"
         }
        ],
        "plotlyBar": [
         {
          "key": "grouped",
          "value": true
         },
         {
          "key": "stacked",
          "value": false
         },
         {
          "key": "100_stacked",
          "value": false
         }
        ],
        "plotlyLine": [
         {
          "key": "yRange",
          "value": "1,500000"
         },
         {
          "key": "showPoints",
          "value": false
         },
         {
          "key": "logScale",
          "value": true
         }
        ],
        "quantilePlot": [],
        "scatterPlot": [
         {
          "key": "loess",
          "value": false
         },
         {
          "key": "bandwidth",
          "value": "0.34"
         }
        ]
       },
       "datasetPreviewNameToCmdIdMap": {},
       "diffDeletes": [],
       "diffInserts": [],
       "displayType": "plotlyLine",
       "error": null,
       "errorDetails": null,
       "errorSummary": null,
       "errorTraceType": null,
       "finishTime": 0,
       "globalVars": {},
       "guid": "",
       "height": "auto",
       "hideCommandCode": false,
       "hideCommandResult": false,
       "iPythonMetadata": null,
       "inputWidgets": {},
       "isLockedInExamMode": false,
       "latestUser": "a user",
       "latestUserId": null,
       "listResultMetadata": null,
       "metadata": {
        "byteLimit": 2048000,
        "rowLimit": 10000
       },
       "nuid": "fa52be6a-096f-46d6-a7c2-af602a0cab10",
       "origId": 0,
       "parentHierarchy": [],
       "pivotAggregation": "sum",
       "pivotColumns": [],
       "position": 41.0,
       "resultDbfsErrorMessage": null,
       "resultDbfsStatus": "INLINED_IN_TREE",
       "results": null,
       "showCommandTitle": false,
       "startTime": 0,
       "state": "finished",
       "streamStates": {},
       "subcommandOptions": null,
       "submitTime": 0,
       "subtype": "tableResultSubCmd.visualization",
       "tableResultIndex": 0,
       "useConsistentColors": false,
       "version": "CommandV1",
       "width": "auto",
       "workflows": [],
       "xColumns": [
        "year"
       ],
       "yColumns": [
        "weekly wage avg",
        "all items avg",
        "gas avg",
        "BTC avg"
       ]
      }
     },
     "output_type": "display_data"
    }
   ],
   "source": [
    "all_data_joined = wage_gas_all_items_avg_price_joined_sorted.join(btc_grouped_and_aggregated_sorted,[\"year\"])\n",
    "display(all_data_joined)"
   ]
  },
  {
   "cell_type": "code",
   "execution_count": 0,
   "metadata": {
    "application/vnd.databricks.v1+cell": {
     "cellMetadata": {
      "byteLimit": 2048000,
      "rowLimit": 10000
     },
     "inputWidgets": {},
     "nuid": "c4ed1e75-bb51-4d42-b517-10557b70e96a",
     "showTitle": false,
     "title": ""
    }
   },
   "outputs": [
    {
     "output_type": "display_data",
     "data": {
      "text/html": [
       "<style scoped>\n",
       "  .table-result-container {\n",
       "    max-height: 300px;\n",
       "    overflow: auto;\n",
       "  }\n",
       "  table, th, td {\n",
       "    border: 1px solid black;\n",
       "    border-collapse: collapse;\n",
       "  }\n",
       "  th, td {\n",
       "    padding: 5px;\n",
       "  }\n",
       "  th {\n",
       "    text-align: left;\n",
       "  }\n",
       "</style><div class='table-result-container'><table class='table-result'><thead style='background-color: white'><tr><th>year</th><th>gas price(% change) year over year</th></tr></thead><tbody><tr><td>1976</td><td>null</td></tr><tr><td>1977</td><td>6.84</td></tr><tr><td>1978</td><td>2.12</td></tr><tr><td>1979</td><td>34.76</td></tr><tr><td>1980</td><td>37.85</td></tr><tr><td>1981</td><td>10.69</td></tr><tr><td>1982</td><td>-6.0</td></tr><tr><td>1983</td><td>-4.19</td></tr><tr><td>1984</td><td>-2.33</td></tr><tr><td>1985</td><td>-0.87</td></tr><tr><td>1986</td><td>-22.83</td></tr><tr><td>1987</td><td>2.26</td></tr><tr><td>1988</td><td>-0.24</td></tr><tr><td>1989</td><td>8.03</td></tr><tr><td>1990</td><td>13.91</td></tr><tr><td>1991</td><td>-2.08</td></tr><tr><td>1992</td><td>-1.19</td></tr><tr><td>1993</td><td>-1.65</td></tr><tr><td>1994</td><td>0.35</td></tr><tr><td>1995</td><td>3.18</td></tr><tr><td>1996</td><td>7.3</td></tr><tr><td>1997</td><td>0.22</td></tr><tr><td>1998</td><td>-14.13</td></tr><tr><td>1999</td><td>9.98</td></tr><tr><td>2000</td><td>29.6</td></tr><tr><td>2001</td><td>-3.25</td></tr><tr><td>2002</td><td>-7.08</td></tr><tr><td>2003</td><td>17.18</td></tr><tr><td>2004</td><td>18.19</td></tr><tr><td>2005</td><td>22.08</td></tr><tr><td>2006</td><td>12.79</td></tr><tr><td>2007</td><td>8.18</td></tr><tr><td>2008</td><td>16.63</td></tr><tr><td>2009</td><td>-28.05</td></tr><tr><td>2010</td><td>18.61</td></tr><tr><td>2011</td><td>26.52</td></tr><tr><td>2012</td><td>3.33</td></tr><tr><td>2013</td><td>-3.24</td></tr><tr><td>2014</td><td>-4.5</td></tr><tr><td>2015</td><td>-27.31</td></tr><tr><td>2016</td><td>-12.5</td></tr><tr><td>2017</td><td>12.41</td></tr><tr><td>2018</td><td>13.62</td></tr><tr><td>2019</td><td>-3.62</td></tr><tr><td>2020</td><td>-17.52</td></tr><tr><td>2021</td><td>40.29</td></tr><tr><td>2022</td><td>34.2</td></tr><tr><td>2023</td><td>-9.83</td></tr><tr><td>id</td><td>null</td></tr></tbody></table></div>"
      ]
     },
     "metadata": {
      "application/vnd.databricks.v1+output": {
       "addedWidgets": {},
       "aggData": [],
       "aggError": "",
       "aggOverflow": false,
       "aggSchema": [],
       "aggSeriesLimitReached": false,
       "aggType": "",
       "arguments": {},
       "columnCustomDisplayInfos": {},
       "data": [
        [
         "1976",
         null
        ],
        [
         "1977",
         6.84
        ],
        [
         "1978",
         2.12
        ],
        [
         "1979",
         34.76
        ],
        [
         "1980",
         37.85
        ],
        [
         "1981",
         10.69
        ],
        [
         "1982",
         -6.0
        ],
        [
         "1983",
         -4.19
        ],
        [
         "1984",
         -2.33
        ],
        [
         "1985",
         -0.87
        ],
        [
         "1986",
         -22.83
        ],
        [
         "1987",
         2.26
        ],
        [
         "1988",
         -0.24
        ],
        [
         "1989",
         8.03
        ],
        [
         "1990",
         13.91
        ],
        [
         "1991",
         -2.08
        ],
        [
         "1992",
         -1.19
        ],
        [
         "1993",
         -1.65
        ],
        [
         "1994",
         0.35
        ],
        [
         "1995",
         3.18
        ],
        [
         "1996",
         7.3
        ],
        [
         "1997",
         0.22
        ],
        [
         "1998",
         -14.13
        ],
        [
         "1999",
         9.98
        ],
        [
         "2000",
         29.6
        ],
        [
         "2001",
         -3.25
        ],
        [
         "2002",
         -7.08
        ],
        [
         "2003",
         17.18
        ],
        [
         "2004",
         18.19
        ],
        [
         "2005",
         22.08
        ],
        [
         "2006",
         12.79
        ],
        [
         "2007",
         8.18
        ],
        [
         "2008",
         16.63
        ],
        [
         "2009",
         -28.05
        ],
        [
         "2010",
         18.61
        ],
        [
         "2011",
         26.52
        ],
        [
         "2012",
         3.33
        ],
        [
         "2013",
         -3.24
        ],
        [
         "2014",
         -4.5
        ],
        [
         "2015",
         -27.31
        ],
        [
         "2016",
         -12.5
        ],
        [
         "2017",
         12.41
        ],
        [
         "2018",
         13.62
        ],
        [
         "2019",
         -3.62
        ],
        [
         "2020",
         -17.52
        ],
        [
         "2021",
         40.29
        ],
        [
         "2022",
         34.2
        ],
        [
         "2023",
         -9.83
        ],
        [
         "id",
         null
        ]
       ],
       "datasetInfos": [],
       "dbfsResultPath": null,
       "isJsonSchema": true,
       "metadata": {},
       "overflow": false,
       "plotOptions": {
        "customPlotOptions": {},
        "displayType": "table",
        "pivotAggregation": null,
        "pivotColumns": null,
        "xColumns": null,
        "yColumns": null
       },
       "removedWidgets": [],
       "schema": [
        {
         "metadata": "{}",
         "name": "year",
         "type": "\"string\""
        },
        {
         "metadata": "{}",
         "name": "gas price(% change) year over year",
         "type": "\"double\""
        }
       ],
       "type": "table"
      }
     },
     "output_type": "display_data"
    }
   ],
   "source": [
    "from pyspark.sql.window import Window\n",
    "W = Window.orderBy('year')\n",
    "\n",
    "percent_change = gas_price_grouped_aggregated_sorted.withColumn('gas avg-1',f.lag(gas_price_grouped_aggregated_sorted['gas avg']).over(W))\\\n",
    "  .withColumn('gas price(% change) year over year', f.round(((f.col('gas avg') - f.col('gas avg-1'))/f.col('gas avg-1')*100),2))\n",
    "#percent_change.show()\n",
    "gas_price_percent_change_only = percent_change.select(col(\"year\"), col(\"gas price(% change) year over year\"))\n",
    "display(gas_price_percent_change_only)"
   ]
  },
  {
   "cell_type": "markdown",
   "metadata": {
    "application/vnd.databricks.v1+cell": {
     "cellMetadata": {
      "byteLimit": 2048000,
      "rowLimit": 10000
     },
     "inputWidgets": {},
     "nuid": "bf481ada-cb95-4eb5-9d18-f3ddd4eaf208",
     "showTitle": false,
     "title": ""
    }
   },
   "source": [
    "#### Visualization for inflation percentage change of gas price change over time between 1947 to 2023"
   ]
  },
  {
   "cell_type": "code",
   "execution_count": 0,
   "metadata": {
    "application/vnd.databricks.v1+cell": {
     "cellMetadata": {
      "byteLimit": 2048000,
      "rowLimit": 10000
     },
     "inputWidgets": {},
     "nuid": "c4e63d6e-36de-4f66-8695-7aef5ea1eec7",
     "showTitle": false,
     "title": ""
    }
   },
   "outputs": [
    {
     "output_type": "display_data",
     "data": {
      "text/html": [
       "<style scoped>\n",
       "  .table-result-container {\n",
       "    max-height: 300px;\n",
       "    overflow: auto;\n",
       "  }\n",
       "  table, th, td {\n",
       "    border: 1px solid black;\n",
       "    border-collapse: collapse;\n",
       "  }\n",
       "  th, td {\n",
       "    padding: 5px;\n",
       "  }\n",
       "  th {\n",
       "    text-align: left;\n",
       "  }\n",
       "</style><div class='table-result-container'><table class='table-result'><thead style='background-color: white'><tr><th>year</th><th>gas price(% change) year over year</th></tr></thead><tbody><tr><td>2021</td><td>40.29</td></tr><tr><td>1980</td><td>37.85</td></tr><tr><td>1979</td><td>34.76</td></tr><tr><td>2022</td><td>34.2</td></tr><tr><td>2000</td><td>29.6</td></tr><tr><td>2011</td><td>26.52</td></tr><tr><td>2005</td><td>22.08</td></tr><tr><td>2010</td><td>18.61</td></tr><tr><td>2004</td><td>18.19</td></tr><tr><td>2003</td><td>17.18</td></tr><tr><td>2008</td><td>16.63</td></tr><tr><td>1990</td><td>13.91</td></tr><tr><td>2018</td><td>13.62</td></tr><tr><td>2006</td><td>12.79</td></tr><tr><td>2017</td><td>12.41</td></tr><tr><td>1981</td><td>10.69</td></tr><tr><td>1999</td><td>9.98</td></tr><tr><td>2007</td><td>8.18</td></tr><tr><td>1989</td><td>8.03</td></tr><tr><td>1996</td><td>7.3</td></tr><tr><td>1977</td><td>6.84</td></tr><tr><td>2012</td><td>3.33</td></tr><tr><td>1995</td><td>3.18</td></tr><tr><td>1987</td><td>2.26</td></tr><tr><td>1978</td><td>2.12</td></tr><tr><td>1994</td><td>0.35</td></tr><tr><td>1997</td><td>0.22</td></tr><tr><td>1988</td><td>-0.24</td></tr><tr><td>1985</td><td>-0.87</td></tr><tr><td>1992</td><td>-1.19</td></tr><tr><td>1993</td><td>-1.65</td></tr><tr><td>1991</td><td>-2.08</td></tr><tr><td>1984</td><td>-2.33</td></tr><tr><td>2013</td><td>-3.24</td></tr><tr><td>2001</td><td>-3.25</td></tr><tr><td>2019</td><td>-3.62</td></tr><tr><td>1983</td><td>-4.19</td></tr><tr><td>2014</td><td>-4.5</td></tr><tr><td>1982</td><td>-6.0</td></tr><tr><td>2002</td><td>-7.08</td></tr><tr><td>2023</td><td>-9.83</td></tr><tr><td>2016</td><td>-12.5</td></tr><tr><td>1998</td><td>-14.13</td></tr><tr><td>2020</td><td>-17.52</td></tr><tr><td>1986</td><td>-22.83</td></tr><tr><td>2015</td><td>-27.31</td></tr><tr><td>2009</td><td>-28.05</td></tr></tbody></table></div>"
      ]
     },
     "metadata": {
      "application/vnd.databricks.v1+output": {
       "addedWidgets": {},
       "aggData": [],
       "aggError": "",
       "aggOverflow": false,
       "aggSchema": [],
       "aggSeriesLimitReached": false,
       "aggType": "",
       "arguments": {},
       "columnCustomDisplayInfos": {},
       "data": [
        [
         "2021",
         40.29
        ],
        [
         "1980",
         37.85
        ],
        [
         "1979",
         34.76
        ],
        [
         "2022",
         34.2
        ],
        [
         "2000",
         29.6
        ],
        [
         "2011",
         26.52
        ],
        [
         "2005",
         22.08
        ],
        [
         "2010",
         18.61
        ],
        [
         "2004",
         18.19
        ],
        [
         "2003",
         17.18
        ],
        [
         "2008",
         16.63
        ],
        [
         "1990",
         13.91
        ],
        [
         "2018",
         13.62
        ],
        [
         "2006",
         12.79
        ],
        [
         "2017",
         12.41
        ],
        [
         "1981",
         10.69
        ],
        [
         "1999",
         9.98
        ],
        [
         "2007",
         8.18
        ],
        [
         "1989",
         8.03
        ],
        [
         "1996",
         7.3
        ],
        [
         "1977",
         6.84
        ],
        [
         "2012",
         3.33
        ],
        [
         "1995",
         3.18
        ],
        [
         "1987",
         2.26
        ],
        [
         "1978",
         2.12
        ],
        [
         "1994",
         0.35
        ],
        [
         "1997",
         0.22
        ],
        [
         "1988",
         -0.24
        ],
        [
         "1985",
         -0.87
        ],
        [
         "1992",
         -1.19
        ],
        [
         "1993",
         -1.65
        ],
        [
         "1991",
         -2.08
        ],
        [
         "1984",
         -2.33
        ],
        [
         "2013",
         -3.24
        ],
        [
         "2001",
         -3.25
        ],
        [
         "2019",
         -3.62
        ],
        [
         "1983",
         -4.19
        ],
        [
         "2014",
         -4.5
        ],
        [
         "1982",
         -6.0
        ],
        [
         "2002",
         -7.08
        ],
        [
         "2023",
         -9.83
        ],
        [
         "2016",
         -12.5
        ],
        [
         "1998",
         -14.13
        ],
        [
         "2020",
         -17.52
        ],
        [
         "1986",
         -22.83
        ],
        [
         "2015",
         -27.31
        ],
        [
         "2009",
         -28.05
        ]
       ],
       "datasetInfos": [],
       "dbfsResultPath": null,
       "isJsonSchema": true,
       "metadata": {},
       "overflow": false,
       "plotOptions": {
        "customPlotOptions": {},
        "displayType": "table",
        "pivotAggregation": null,
        "pivotColumns": null,
        "xColumns": null,
        "yColumns": null
       },
       "removedWidgets": [],
       "schema": [
        {
         "metadata": "{}",
         "name": "year",
         "type": "\"string\""
        },
        {
         "metadata": "{}",
         "name": "gas price(% change) year over year",
         "type": "\"double\""
        }
       ],
       "type": "table"
      }
     },
     "output_type": "display_data"
    },
    {
     "output_type": "display_data",
     "data": {
      "text/plain": [
       "Databricks visualization. Run in Databricks to view."
      ]
     },
     "metadata": {
      "application/vnd.databricks.v1.subcommand+json": {
       "baseErrorDetails": null,
       "bindings": {},
       "collapsed": false,
       "command": "# When was the highest inflation rate for gas price between 1976 to 2023\ngas_price_percent_change_sorted_by_inflation = gas_price_percent_change_only.sort(col('gas price(% change) year over year').desc()).na.drop()\ndisplay(gas_price_percent_change_sorted_by_inflation)\n\n#select the highest inflation for gas price\ndisplay(gas_price_percent_change_sorted_by_inflation.take(1))",
       "commandTitle": "Visualization 1",
       "commandType": "auto",
       "commandVersion": 0,
       "commentThread": [],
       "commentsVisible": false,
       "contentSha256Hex": null,
       "customPlotOptions": {
        "plotlyBar": [
         {
          "key": "grouped",
          "value": true
         },
         {
          "key": "stacked",
          "value": false
         },
         {
          "key": "100_stacked",
          "value": false
         }
        ],
        "plotlyLine": [
         {
          "key": "yRange",
          "value": ""
         },
         {
          "key": "showPoints",
          "value": false
         },
         {
          "key": "logScale",
          "value": false
         }
        ]
       },
       "datasetPreviewNameToCmdIdMap": {},
       "diffDeletes": [],
       "diffInserts": [],
       "displayType": "plotlyLine",
       "error": null,
       "errorDetails": null,
       "errorSummary": null,
       "errorTraceType": null,
       "finishTime": 0,
       "globalVars": {},
       "guid": "",
       "height": "auto",
       "hideCommandCode": false,
       "hideCommandResult": false,
       "iPythonMetadata": null,
       "inputWidgets": {},
       "isLockedInExamMode": false,
       "latestUser": "a user",
       "latestUserId": null,
       "listResultMetadata": null,
       "metadata": {
        "byteLimit": 2048000,
        "rowLimit": 10000
       },
       "nuid": "66598c6f-a16f-4f11-8f27-9d73df515481",
       "origId": 0,
       "parentHierarchy": [],
       "pivotAggregation": "sum",
       "pivotColumns": [],
       "position": 43.0,
       "resultDbfsErrorMessage": null,
       "resultDbfsStatus": "INLINED_IN_TREE",
       "results": null,
       "showCommandTitle": false,
       "startTime": 0,
       "state": "finished",
       "streamStates": {},
       "subcommandOptions": null,
       "submitTime": 0,
       "subtype": "tableResultSubCmd.visualization",
       "tableResultIndex": 0,
       "useConsistentColors": false,
       "version": "CommandV1",
       "width": "auto",
       "workflows": [],
       "xColumns": [
        "year"
       ],
       "yColumns": [
        "gas price(% change) year over year"
       ]
      }
     },
     "output_type": "display_data"
    },
    {
     "output_type": "display_data",
     "data": {
      "text/html": [
       "<style scoped>\n",
       "  .table-result-container {\n",
       "    max-height: 300px;\n",
       "    overflow: auto;\n",
       "  }\n",
       "  table, th, td {\n",
       "    border: 1px solid black;\n",
       "    border-collapse: collapse;\n",
       "  }\n",
       "  th, td {\n",
       "    padding: 5px;\n",
       "  }\n",
       "  th {\n",
       "    text-align: left;\n",
       "  }\n",
       "</style><div class='table-result-container'><table class='table-result'><thead style='background-color: white'><tr><th>year</th><th>gas price(% change) year over year</th></tr></thead><tbody><tr><td>2021</td><td>40.29</td></tr></tbody></table></div>"
      ]
     },
     "metadata": {
      "application/vnd.databricks.v1+output": {
       "addedWidgets": {},
       "aggData": [],
       "aggError": "",
       "aggOverflow": false,
       "aggSchema": [],
       "aggSeriesLimitReached": false,
       "aggType": "",
       "arguments": {},
       "columnCustomDisplayInfos": {},
       "data": [
        [
         "2021",
         40.29
        ]
       ],
       "datasetInfos": [],
       "dbfsResultPath": null,
       "isJsonSchema": true,
       "metadata": {},
       "overflow": false,
       "plotOptions": {
        "customPlotOptions": {},
        "displayType": "table",
        "pivotAggregation": null,
        "pivotColumns": null,
        "xColumns": null,
        "yColumns": null
       },
       "removedWidgets": [],
       "schema": [
        {
         "metadata": "{}",
         "name": "year",
         "type": "\"string\""
        },
        {
         "metadata": "{}",
         "name": "gas price(% change) year over year",
         "type": "\"double\""
        }
       ],
       "type": "table"
      }
     },
     "output_type": "display_data"
    }
   ],
   "source": [
    "# When was the highest inflation rate for gas price between 1976 to 2023\n",
    "gas_price_percent_change_sorted_by_inflation = gas_price_percent_change_only.sort(col('gas price(% change) year over year').desc()).na.drop()\n",
    "display(gas_price_percent_change_sorted_by_inflation)\n",
    "\n",
    "#select the highest inflation for gas price\n",
    "display(gas_price_percent_change_sorted_by_inflation.take(1))"
   ]
  },
  {
   "cell_type": "code",
   "execution_count": 0,
   "metadata": {
    "application/vnd.databricks.v1+cell": {
     "cellMetadata": {
      "byteLimit": 2048000,
      "rowLimit": 10000
     },
     "inputWidgets": {},
     "nuid": "fd9bd2d7-f652-476c-bb25-29403d8d48b6",
     "showTitle": false,
     "title": ""
    }
   },
   "outputs": [
    {
     "output_type": "display_data",
     "data": {
      "text/html": [
       "<style scoped>\n",
       "  .table-result-container {\n",
       "    max-height: 300px;\n",
       "    overflow: auto;\n",
       "  }\n",
       "  table, th, td {\n",
       "    border: 1px solid black;\n",
       "    border-collapse: collapse;\n",
       "  }\n",
       "  th, td {\n",
       "    padding: 5px;\n",
       "  }\n",
       "  th {\n",
       "    text-align: left;\n",
       "  }\n",
       "</style><div class='table-result-container'><table class='table-result'><thead style='background-color: white'><tr><th>year</th><th>gas price(% change) year over year</th></tr></thead><tbody><tr><td>2009</td><td>-28.05</td></tr><tr><td>2015</td><td>-27.31</td></tr><tr><td>1986</td><td>-22.83</td></tr><tr><td>2020</td><td>-17.52</td></tr><tr><td>1998</td><td>-14.13</td></tr><tr><td>2016</td><td>-12.5</td></tr><tr><td>2023</td><td>-9.83</td></tr><tr><td>2002</td><td>-7.08</td></tr><tr><td>1982</td><td>-6.0</td></tr><tr><td>2014</td><td>-4.5</td></tr><tr><td>1983</td><td>-4.19</td></tr><tr><td>2019</td><td>-3.62</td></tr><tr><td>2001</td><td>-3.25</td></tr><tr><td>2013</td><td>-3.24</td></tr><tr><td>1984</td><td>-2.33</td></tr><tr><td>1991</td><td>-2.08</td></tr><tr><td>1993</td><td>-1.65</td></tr><tr><td>1992</td><td>-1.19</td></tr><tr><td>1985</td><td>-0.87</td></tr><tr><td>1988</td><td>-0.24</td></tr><tr><td>1997</td><td>0.22</td></tr><tr><td>1994</td><td>0.35</td></tr><tr><td>1978</td><td>2.12</td></tr><tr><td>1987</td><td>2.26</td></tr><tr><td>1995</td><td>3.18</td></tr><tr><td>2012</td><td>3.33</td></tr><tr><td>1977</td><td>6.84</td></tr><tr><td>1996</td><td>7.3</td></tr><tr><td>1989</td><td>8.03</td></tr><tr><td>2007</td><td>8.18</td></tr><tr><td>1999</td><td>9.98</td></tr><tr><td>1981</td><td>10.69</td></tr><tr><td>2017</td><td>12.41</td></tr><tr><td>2006</td><td>12.79</td></tr><tr><td>2018</td><td>13.62</td></tr><tr><td>1990</td><td>13.91</td></tr><tr><td>2008</td><td>16.63</td></tr><tr><td>2003</td><td>17.18</td></tr><tr><td>2004</td><td>18.19</td></tr><tr><td>2010</td><td>18.61</td></tr><tr><td>2005</td><td>22.08</td></tr><tr><td>2011</td><td>26.52</td></tr><tr><td>2000</td><td>29.6</td></tr><tr><td>2022</td><td>34.2</td></tr><tr><td>1979</td><td>34.76</td></tr><tr><td>1980</td><td>37.85</td></tr><tr><td>2021</td><td>40.29</td></tr></tbody></table></div>"
      ]
     },
     "metadata": {
      "application/vnd.databricks.v1+output": {
       "addedWidgets": {},
       "aggData": [],
       "aggError": "",
       "aggOverflow": false,
       "aggSchema": [],
       "aggSeriesLimitReached": false,
       "aggType": "",
       "arguments": {},
       "columnCustomDisplayInfos": {},
       "data": [
        [
         "2009",
         -28.05
        ],
        [
         "2015",
         -27.31
        ],
        [
         "1986",
         -22.83
        ],
        [
         "2020",
         -17.52
        ],
        [
         "1998",
         -14.13
        ],
        [
         "2016",
         -12.5
        ],
        [
         "2023",
         -9.83
        ],
        [
         "2002",
         -7.08
        ],
        [
         "1982",
         -6.0
        ],
        [
         "2014",
         -4.5
        ],
        [
         "1983",
         -4.19
        ],
        [
         "2019",
         -3.62
        ],
        [
         "2001",
         -3.25
        ],
        [
         "2013",
         -3.24
        ],
        [
         "1984",
         -2.33
        ],
        [
         "1991",
         -2.08
        ],
        [
         "1993",
         -1.65
        ],
        [
         "1992",
         -1.19
        ],
        [
         "1985",
         -0.87
        ],
        [
         "1988",
         -0.24
        ],
        [
         "1997",
         0.22
        ],
        [
         "1994",
         0.35
        ],
        [
         "1978",
         2.12
        ],
        [
         "1987",
         2.26
        ],
        [
         "1995",
         3.18
        ],
        [
         "2012",
         3.33
        ],
        [
         "1977",
         6.84
        ],
        [
         "1996",
         7.3
        ],
        [
         "1989",
         8.03
        ],
        [
         "2007",
         8.18
        ],
        [
         "1999",
         9.98
        ],
        [
         "1981",
         10.69
        ],
        [
         "2017",
         12.41
        ],
        [
         "2006",
         12.79
        ],
        [
         "2018",
         13.62
        ],
        [
         "1990",
         13.91
        ],
        [
         "2008",
         16.63
        ],
        [
         "2003",
         17.18
        ],
        [
         "2004",
         18.19
        ],
        [
         "2010",
         18.61
        ],
        [
         "2005",
         22.08
        ],
        [
         "2011",
         26.52
        ],
        [
         "2000",
         29.6
        ],
        [
         "2022",
         34.2
        ],
        [
         "1979",
         34.76
        ],
        [
         "1980",
         37.85
        ],
        [
         "2021",
         40.29
        ]
       ],
       "datasetInfos": [],
       "dbfsResultPath": null,
       "isJsonSchema": true,
       "metadata": {},
       "overflow": false,
       "plotOptions": {
        "customPlotOptions": {},
        "displayType": "table",
        "pivotAggregation": null,
        "pivotColumns": null,
        "xColumns": null,
        "yColumns": null
       },
       "removedWidgets": [],
       "schema": [
        {
         "metadata": "{}",
         "name": "year",
         "type": "\"string\""
        },
        {
         "metadata": "{}",
         "name": "gas price(% change) year over year",
         "type": "\"double\""
        }
       ],
       "type": "table"
      }
     },
     "output_type": "display_data"
    },
    {
     "output_type": "display_data",
     "data": {
      "text/html": [
       "<style scoped>\n",
       "  .table-result-container {\n",
       "    max-height: 300px;\n",
       "    overflow: auto;\n",
       "  }\n",
       "  table, th, td {\n",
       "    border: 1px solid black;\n",
       "    border-collapse: collapse;\n",
       "  }\n",
       "  th, td {\n",
       "    padding: 5px;\n",
       "  }\n",
       "  th {\n",
       "    text-align: left;\n",
       "  }\n",
       "</style><div class='table-result-container'><table class='table-result'><thead style='background-color: white'><tr><th>year</th><th>gas price(% change) year over year</th></tr></thead><tbody><tr><td>2009</td><td>-28.05</td></tr></tbody></table></div>"
      ]
     },
     "metadata": {
      "application/vnd.databricks.v1+output": {
       "addedWidgets": {},
       "aggData": [],
       "aggError": "",
       "aggOverflow": false,
       "aggSchema": [],
       "aggSeriesLimitReached": false,
       "aggType": "",
       "arguments": {},
       "columnCustomDisplayInfos": {},
       "data": [
        [
         "2009",
         -28.05
        ]
       ],
       "datasetInfos": [],
       "dbfsResultPath": null,
       "isJsonSchema": true,
       "metadata": {},
       "overflow": false,
       "plotOptions": {
        "customPlotOptions": {},
        "displayType": "table",
        "pivotAggregation": null,
        "pivotColumns": null,
        "xColumns": null,
        "yColumns": null
       },
       "removedWidgets": [],
       "schema": [
        {
         "metadata": "{}",
         "name": "year",
         "type": "\"string\""
        },
        {
         "metadata": "{}",
         "name": "gas price(% change) year over year",
         "type": "\"double\""
        }
       ],
       "type": "table"
      }
     },
     "output_type": "display_data"
    }
   ],
   "source": [
    "# When was the lowest inflation rate for gas price between 1976 to 2023\n",
    "gas_price_percent_change_sorted_by_inflation = gas_price_percent_change_only.sort(col('gas price(% change) year over year').asc()).na.drop()\n",
    "display(gas_price_percent_change_sorted_by_inflation)\n",
    "\n",
    "#select the lowest inflation for gas price\n",
    "display(gas_price_percent_change_sorted_by_inflation.take(1))"
   ]
  },
  {
   "cell_type": "markdown",
   "metadata": {
    "application/vnd.databricks.v1+cell": {
     "cellMetadata": {
      "byteLimit": 2048000,
      "rowLimit": 10000
     },
     "inputWidgets": {},
     "nuid": "5cecc42e-8dab-419b-9506-3400ca8ee946",
     "showTitle": false,
     "title": ""
    }
   },
   "source": [
    "#### Visualization of inflation percentage change all items change over time between 1947 to 2023"
   ]
  },
  {
   "cell_type": "code",
   "execution_count": 0,
   "metadata": {
    "application/vnd.databricks.v1+cell": {
     "cellMetadata": {
      "byteLimit": 2048000,
      "rowLimit": 10000
     },
     "inputWidgets": {},
     "nuid": "54451faf-9e01-416e-ae12-5d7b9ede62dd",
     "showTitle": false,
     "title": ""
    }
   },
   "outputs": [
    {
     "output_type": "display_data",
     "data": {
      "text/html": [
       "<style scoped>\n",
       "  .table-result-container {\n",
       "    max-height: 300px;\n",
       "    overflow: auto;\n",
       "  }\n",
       "  table, th, td {\n",
       "    border: 1px solid black;\n",
       "    border-collapse: collapse;\n",
       "  }\n",
       "  th, td {\n",
       "    padding: 5px;\n",
       "  }\n",
       "  th {\n",
       "    text-align: left;\n",
       "  }\n",
       "</style><div class='table-result-container'><table class='table-result'><thead style='background-color: white'><tr><th>year</th><th>all items price(% change) year over year</th></tr></thead><tbody><tr><td>1947</td><td>null</td></tr><tr><td>1948</td><td>7.67</td></tr><tr><td>1949</td><td>-0.98</td></tr><tr><td>1950</td><td>1.06</td></tr><tr><td>1951</td><td>7.94</td></tr><tr><td>1952</td><td>2.28</td></tr><tr><td>1953</td><td>0.76</td></tr><tr><td>1954</td><td>0.36</td></tr><tr><td>1955</td><td>-0.26</td></tr><tr><td>1956</td><td>1.47</td></tr><tr><td>1957</td><td>3.39</td></tr><tr><td>1958</td><td>2.73</td></tr><tr><td>1959</td><td>0.93</td></tr><tr><td>1960</td><td>1.49</td></tr><tr><td>1961</td><td>1.07</td></tr><tr><td>1962</td><td>1.18</td></tr><tr><td>1963</td><td>1.26</td></tr><tr><td>1964</td><td>1.32</td></tr><tr><td>1965</td><td>1.58</td></tr><tr><td>1966</td><td>2.99</td></tr><tr><td>1967</td><td>2.78</td></tr><tr><td>1968</td><td>4.24</td></tr><tr><td>1969</td><td>5.44</td></tr><tr><td>1970</td><td>5.88</td></tr><tr><td>1971</td><td>4.23</td></tr><tr><td>1972</td><td>3.27</td></tr><tr><td>1973</td><td>6.26</td></tr><tr><td>1974</td><td>11.01</td></tr><tr><td>1975</td><td>9.14</td></tr><tr><td>1976</td><td>5.77</td></tr><tr><td>1977</td><td>6.47</td></tr><tr><td>1978</td><td>7.63</td></tr><tr><td>1979</td><td>11.25</td></tr><tr><td>1980</td><td>13.5</td></tr><tr><td>1981</td><td>10.38</td></tr><tr><td>1982</td><td>6.16</td></tr><tr><td>1983</td><td>3.16</td></tr><tr><td>1984</td><td>4.37</td></tr><tr><td>1985</td><td>3.53</td></tr><tr><td>1986</td><td>1.94</td></tr><tr><td>1987</td><td>3.58</td></tr><tr><td>1988</td><td>4.1</td></tr><tr><td>1989</td><td>4.79</td></tr><tr><td>1990</td><td>5.42</td></tr><tr><td>1991</td><td>4.22</td></tr><tr><td>1992</td><td>3.04</td></tr><tr><td>1993</td><td>2.97</td></tr><tr><td>1994</td><td>2.6</td></tr><tr><td>1995</td><td>2.81</td></tr><tr><td>1996</td><td>2.94</td></tr><tr><td>1997</td><td>2.34</td></tr><tr><td>1998</td><td>1.55</td></tr><tr><td>1999</td><td>2.19</td></tr><tr><td>2000</td><td>3.37</td></tr><tr><td>2001</td><td>2.82</td></tr><tr><td>2002</td><td>1.6</td></tr><tr><td>2003</td><td>2.3</td></tr><tr><td>2004</td><td>2.67</td></tr><tr><td>2005</td><td>3.37</td></tr><tr><td>2006</td><td>3.22</td></tr><tr><td>2007</td><td>2.87</td></tr><tr><td>2008</td><td>3.81</td></tr><tr><td>2009</td><td>-0.32</td></tr><tr><td>2010</td><td>1.64</td></tr><tr><td>2011</td><td>3.14</td></tr><tr><td>2012</td><td>2.07</td></tr><tr><td>2013</td><td>1.47</td></tr><tr><td>2014</td><td>1.62</td></tr><tr><td>2015</td><td>0.12</td></tr><tr><td>2016</td><td>1.27</td></tr><tr><td>2017</td><td>2.13</td></tr><tr><td>2018</td><td>2.44</td></tr><tr><td>2019</td><td>1.81</td></tr><tr><td>2020</td><td>1.25</td></tr><tr><td>2021</td><td>4.68</td></tr><tr><td>2022</td><td>7.99</td></tr><tr><td>2023</td><td>4.01</td></tr><tr><td>id</td><td>null</td></tr></tbody></table></div>"
      ]
     },
     "metadata": {
      "application/vnd.databricks.v1+output": {
       "addedWidgets": {},
       "aggData": [],
       "aggError": "",
       "aggOverflow": false,
       "aggSchema": [],
       "aggSeriesLimitReached": false,
       "aggType": "",
       "arguments": {},
       "columnCustomDisplayInfos": {},
       "data": [
        [
         "1947",
         null
        ],
        [
         "1948",
         7.67
        ],
        [
         "1949",
         -0.98
        ],
        [
         "1950",
         1.06
        ],
        [
         "1951",
         7.94
        ],
        [
         "1952",
         2.28
        ],
        [
         "1953",
         0.76
        ],
        [
         "1954",
         0.36
        ],
        [
         "1955",
         -0.26
        ],
        [
         "1956",
         1.47
        ],
        [
         "1957",
         3.39
        ],
        [
         "1958",
         2.73
        ],
        [
         "1959",
         0.93
        ],
        [
         "1960",
         1.49
        ],
        [
         "1961",
         1.07
        ],
        [
         "1962",
         1.18
        ],
        [
         "1963",
         1.26
        ],
        [
         "1964",
         1.32
        ],
        [
         "1965",
         1.58
        ],
        [
         "1966",
         2.99
        ],
        [
         "1967",
         2.78
        ],
        [
         "1968",
         4.24
        ],
        [
         "1969",
         5.44
        ],
        [
         "1970",
         5.88
        ],
        [
         "1971",
         4.23
        ],
        [
         "1972",
         3.27
        ],
        [
         "1973",
         6.26
        ],
        [
         "1974",
         11.01
        ],
        [
         "1975",
         9.14
        ],
        [
         "1976",
         5.77
        ],
        [
         "1977",
         6.47
        ],
        [
         "1978",
         7.63
        ],
        [
         "1979",
         11.25
        ],
        [
         "1980",
         13.5
        ],
        [
         "1981",
         10.38
        ],
        [
         "1982",
         6.16
        ],
        [
         "1983",
         3.16
        ],
        [
         "1984",
         4.37
        ],
        [
         "1985",
         3.53
        ],
        [
         "1986",
         1.94
        ],
        [
         "1987",
         3.58
        ],
        [
         "1988",
         4.1
        ],
        [
         "1989",
         4.79
        ],
        [
         "1990",
         5.42
        ],
        [
         "1991",
         4.22
        ],
        [
         "1992",
         3.04
        ],
        [
         "1993",
         2.97
        ],
        [
         "1994",
         2.6
        ],
        [
         "1995",
         2.81
        ],
        [
         "1996",
         2.94
        ],
        [
         "1997",
         2.34
        ],
        [
         "1998",
         1.55
        ],
        [
         "1999",
         2.19
        ],
        [
         "2000",
         3.37
        ],
        [
         "2001",
         2.82
        ],
        [
         "2002",
         1.6
        ],
        [
         "2003",
         2.3
        ],
        [
         "2004",
         2.67
        ],
        [
         "2005",
         3.37
        ],
        [
         "2006",
         3.22
        ],
        [
         "2007",
         2.87
        ],
        [
         "2008",
         3.81
        ],
        [
         "2009",
         -0.32
        ],
        [
         "2010",
         1.64
        ],
        [
         "2011",
         3.14
        ],
        [
         "2012",
         2.07
        ],
        [
         "2013",
         1.47
        ],
        [
         "2014",
         1.62
        ],
        [
         "2015",
         0.12
        ],
        [
         "2016",
         1.27
        ],
        [
         "2017",
         2.13
        ],
        [
         "2018",
         2.44
        ],
        [
         "2019",
         1.81
        ],
        [
         "2020",
         1.25
        ],
        [
         "2021",
         4.68
        ],
        [
         "2022",
         7.99
        ],
        [
         "2023",
         4.01
        ],
        [
         "id",
         null
        ]
       ],
       "datasetInfos": [],
       "dbfsResultPath": null,
       "isJsonSchema": true,
       "metadata": {},
       "overflow": false,
       "plotOptions": {
        "customPlotOptions": {},
        "displayType": "table",
        "pivotAggregation": null,
        "pivotColumns": null,
        "xColumns": null,
        "yColumns": null
       },
       "removedWidgets": [],
       "schema": [
        {
         "metadata": "{}",
         "name": "year",
         "type": "\"string\""
        },
        {
         "metadata": "{}",
         "name": "all items price(% change) year over year",
         "type": "\"double\""
        }
       ],
       "type": "table"
      }
     },
     "output_type": "display_data"
    },
    {
     "output_type": "display_data",
     "data": {
      "text/plain": [
       "Databricks visualization. Run in Databricks to view."
      ]
     },
     "metadata": {
      "application/vnd.databricks.v1.subcommand+json": {
       "baseErrorDetails": null,
       "bindings": {},
       "collapsed": false,
       "command": "all_items_percent_change = all_tems_grouped_aggregated_sorted.withColumn('all items avg-1',f.lag(all_tems_grouped_aggregated_sorted['all items avg']).over(W))\\\n  .withColumn('all items price(% change) year over year', f.round(((f.col('all items avg') - f.col('all items avg-1'))/f.col('all items avg-1')*100),2))\n#percent_change.show()\nall_items_percent_change_only = all_items_percent_change.select(col(\"year\"), col(\"all items price(% change) year over year\"))\ndisplay(all_items_percent_change_only)",
       "commandTitle": "Visualization 1",
       "commandType": "auto",
       "commandVersion": 0,
       "commentThread": [],
       "commentsVisible": false,
       "contentSha256Hex": null,
       "customPlotOptions": {
        "plotlyBar": [
         {
          "key": "grouped",
          "value": true
         },
         {
          "key": "stacked",
          "value": false
         },
         {
          "key": "100_stacked",
          "value": false
         }
        ],
        "plotlyLine": [
         {
          "key": "yRange",
          "value": ""
         },
         {
          "key": "showPoints",
          "value": false
         },
         {
          "key": "logScale",
          "value": false
         }
        ]
       },
       "datasetPreviewNameToCmdIdMap": {},
       "diffDeletes": [],
       "diffInserts": [],
       "displayType": "plotlyLine",
       "error": null,
       "errorDetails": null,
       "errorSummary": null,
       "errorTraceType": null,
       "finishTime": 0,
       "globalVars": {},
       "guid": "",
       "height": "auto",
       "hideCommandCode": false,
       "hideCommandResult": false,
       "iPythonMetadata": null,
       "inputWidgets": {},
       "isLockedInExamMode": false,
       "latestUser": "a user",
       "latestUserId": null,
       "listResultMetadata": null,
       "metadata": {
        "byteLimit": 2048000,
        "rowLimit": 10000
       },
       "nuid": "dc38fe4b-8eff-46ad-a042-d37c5814f7bd",
       "origId": 0,
       "parentHierarchy": [],
       "pivotAggregation": "sum",
       "pivotColumns": [],
       "position": 45.0,
       "resultDbfsErrorMessage": null,
       "resultDbfsStatus": "INLINED_IN_TREE",
       "results": null,
       "showCommandTitle": false,
       "startTime": 0,
       "state": "finished",
       "streamStates": {},
       "subcommandOptions": null,
       "submitTime": 0,
       "subtype": "tableResultSubCmd.visualization",
       "tableResultIndex": 0,
       "useConsistentColors": false,
       "version": "CommandV1",
       "width": "auto",
       "workflows": [],
       "xColumns": [
        "year"
       ],
       "yColumns": [
        "all items price(% change) year over year"
       ]
      }
     },
     "output_type": "display_data"
    }
   ],
   "source": [
    "all_items_percent_change = all_tems_grouped_aggregated_sorted.withColumn('all items avg-1',f.lag(all_tems_grouped_aggregated_sorted['all items avg']).over(W))\\\n",
    "  .withColumn('all items price(% change) year over year', f.round(((f.col('all items avg') - f.col('all items avg-1'))/f.col('all items avg-1')*100),2))\n",
    "#percent_change.show()\n",
    "all_items_percent_change_only = all_items_percent_change.select(col(\"year\"), col(\"all items price(% change) year over year\"))\n",
    "display(all_items_percent_change_only)"
   ]
  },
  {
   "cell_type": "code",
   "execution_count": 0,
   "metadata": {
    "application/vnd.databricks.v1+cell": {
     "cellMetadata": {
      "byteLimit": 2048000,
      "rowLimit": 10000
     },
     "inputWidgets": {},
     "nuid": "f1a0a159-1f01-48a7-8a5d-7b948300a843",
     "showTitle": false,
     "title": ""
    }
   },
   "outputs": [
    {
     "output_type": "display_data",
     "data": {
      "text/html": [
       "<style scoped>\n",
       "  .table-result-container {\n",
       "    max-height: 300px;\n",
       "    overflow: auto;\n",
       "  }\n",
       "  table, th, td {\n",
       "    border: 1px solid black;\n",
       "    border-collapse: collapse;\n",
       "  }\n",
       "  th, td {\n",
       "    padding: 5px;\n",
       "  }\n",
       "  th {\n",
       "    text-align: left;\n",
       "  }\n",
       "</style><div class='table-result-container'><table class='table-result'><thead style='background-color: white'><tr><th>year</th><th>all items price(% change) year over year</th></tr></thead><tbody><tr><td>1980</td><td>13.5</td></tr></tbody></table></div>"
      ]
     },
     "metadata": {
      "application/vnd.databricks.v1+output": {
       "addedWidgets": {},
       "aggData": [],
       "aggError": "",
       "aggOverflow": false,
       "aggSchema": [],
       "aggSeriesLimitReached": false,
       "aggType": "",
       "arguments": {},
       "columnCustomDisplayInfos": {},
       "data": [
        [
         "1980",
         13.5
        ]
       ],
       "datasetInfos": [],
       "dbfsResultPath": null,
       "isJsonSchema": true,
       "metadata": {},
       "overflow": false,
       "plotOptions": {
        "customPlotOptions": {},
        "displayType": "table",
        "pivotAggregation": null,
        "pivotColumns": null,
        "xColumns": null,
        "yColumns": null
       },
       "removedWidgets": [],
       "schema": [
        {
         "metadata": "{}",
         "name": "year",
         "type": "\"string\""
        },
        {
         "metadata": "{}",
         "name": "all items price(% change) year over year",
         "type": "\"double\""
        }
       ],
       "type": "table"
      }
     },
     "output_type": "display_data"
    }
   ],
   "source": [
    "#When was the highest inflation rate for all items between 1947 to 2023\n",
    "all_items_percent_change_sorted_by_inflation = all_items_percent_change_only.sort(col('all items price(% change) year over year').desc()).na.drop()\n",
    "#display(all_items_percent_change_sorted_by_inflation)\n",
    "\n",
    "#select the highest inflation for all items price\n",
    "display(all_items_percent_change_sorted_by_inflation.take(1))"
   ]
  },
  {
   "cell_type": "code",
   "execution_count": 0,
   "metadata": {
    "application/vnd.databricks.v1+cell": {
     "cellMetadata": {
      "byteLimit": 2048000,
      "rowLimit": 10000
     },
     "inputWidgets": {},
     "nuid": "b922211e-05d0-43ac-a9f1-22bcf107aad4",
     "showTitle": false,
     "title": ""
    }
   },
   "outputs": [
    {
     "output_type": "display_data",
     "data": {
      "text/html": [
       "<style scoped>\n",
       "  .table-result-container {\n",
       "    max-height: 300px;\n",
       "    overflow: auto;\n",
       "  }\n",
       "  table, th, td {\n",
       "    border: 1px solid black;\n",
       "    border-collapse: collapse;\n",
       "  }\n",
       "  th, td {\n",
       "    padding: 5px;\n",
       "  }\n",
       "  th {\n",
       "    text-align: left;\n",
       "  }\n",
       "</style><div class='table-result-container'><table class='table-result'><thead style='background-color: white'><tr><th>year</th><th>all items price(% change) year over year</th></tr></thead><tbody><tr><td>1949</td><td>-0.98</td></tr><tr><td>2009</td><td>-0.32</td></tr><tr><td>1955</td><td>-0.26</td></tr><tr><td>2015</td><td>0.12</td></tr><tr><td>1954</td><td>0.36</td></tr><tr><td>1953</td><td>0.76</td></tr><tr><td>1959</td><td>0.93</td></tr><tr><td>1950</td><td>1.06</td></tr><tr><td>1961</td><td>1.07</td></tr><tr><td>1962</td><td>1.18</td></tr><tr><td>2020</td><td>1.25</td></tr><tr><td>1963</td><td>1.26</td></tr><tr><td>2016</td><td>1.27</td></tr><tr><td>1964</td><td>1.32</td></tr><tr><td>1956</td><td>1.47</td></tr><tr><td>2013</td><td>1.47</td></tr><tr><td>1960</td><td>1.49</td></tr><tr><td>1998</td><td>1.55</td></tr><tr><td>1965</td><td>1.58</td></tr><tr><td>2002</td><td>1.6</td></tr><tr><td>2014</td><td>1.62</td></tr><tr><td>2010</td><td>1.64</td></tr><tr><td>2019</td><td>1.81</td></tr><tr><td>1986</td><td>1.94</td></tr><tr><td>2012</td><td>2.07</td></tr><tr><td>2017</td><td>2.13</td></tr><tr><td>1999</td><td>2.19</td></tr><tr><td>1952</td><td>2.28</td></tr><tr><td>2003</td><td>2.3</td></tr><tr><td>1997</td><td>2.34</td></tr><tr><td>2018</td><td>2.44</td></tr><tr><td>1994</td><td>2.6</td></tr><tr><td>2004</td><td>2.67</td></tr><tr><td>1958</td><td>2.73</td></tr><tr><td>1967</td><td>2.78</td></tr><tr><td>1995</td><td>2.81</td></tr><tr><td>2001</td><td>2.82</td></tr><tr><td>2007</td><td>2.87</td></tr><tr><td>1996</td><td>2.94</td></tr><tr><td>1993</td><td>2.97</td></tr><tr><td>1966</td><td>2.99</td></tr><tr><td>1992</td><td>3.04</td></tr><tr><td>2011</td><td>3.14</td></tr><tr><td>1983</td><td>3.16</td></tr><tr><td>2006</td><td>3.22</td></tr><tr><td>1972</td><td>3.27</td></tr><tr><td>2000</td><td>3.37</td></tr><tr><td>2005</td><td>3.37</td></tr><tr><td>1957</td><td>3.39</td></tr><tr><td>1985</td><td>3.53</td></tr><tr><td>1987</td><td>3.58</td></tr><tr><td>2008</td><td>3.81</td></tr><tr><td>2023</td><td>4.01</td></tr><tr><td>1988</td><td>4.1</td></tr><tr><td>1991</td><td>4.22</td></tr><tr><td>1971</td><td>4.23</td></tr><tr><td>1968</td><td>4.24</td></tr><tr><td>1984</td><td>4.37</td></tr><tr><td>2021</td><td>4.68</td></tr><tr><td>1989</td><td>4.79</td></tr><tr><td>1990</td><td>5.42</td></tr><tr><td>1969</td><td>5.44</td></tr><tr><td>1976</td><td>5.77</td></tr><tr><td>1970</td><td>5.88</td></tr><tr><td>1982</td><td>6.16</td></tr><tr><td>1973</td><td>6.26</td></tr><tr><td>1977</td><td>6.47</td></tr><tr><td>1978</td><td>7.63</td></tr><tr><td>1948</td><td>7.67</td></tr><tr><td>1951</td><td>7.94</td></tr><tr><td>2022</td><td>7.99</td></tr><tr><td>1975</td><td>9.14</td></tr><tr><td>1981</td><td>10.38</td></tr><tr><td>1974</td><td>11.01</td></tr><tr><td>1979</td><td>11.25</td></tr><tr><td>1980</td><td>13.5</td></tr></tbody></table></div>"
      ]
     },
     "metadata": {
      "application/vnd.databricks.v1+output": {
       "addedWidgets": {},
       "aggData": [],
       "aggError": "",
       "aggOverflow": false,
       "aggSchema": [],
       "aggSeriesLimitReached": false,
       "aggType": "",
       "arguments": {},
       "columnCustomDisplayInfos": {},
       "data": [
        [
         "1949",
         -0.98
        ],
        [
         "2009",
         -0.32
        ],
        [
         "1955",
         -0.26
        ],
        [
         "2015",
         0.12
        ],
        [
         "1954",
         0.36
        ],
        [
         "1953",
         0.76
        ],
        [
         "1959",
         0.93
        ],
        [
         "1950",
         1.06
        ],
        [
         "1961",
         1.07
        ],
        [
         "1962",
         1.18
        ],
        [
         "2020",
         1.25
        ],
        [
         "1963",
         1.26
        ],
        [
         "2016",
         1.27
        ],
        [
         "1964",
         1.32
        ],
        [
         "1956",
         1.47
        ],
        [
         "2013",
         1.47
        ],
        [
         "1960",
         1.49
        ],
        [
         "1998",
         1.55
        ],
        [
         "1965",
         1.58
        ],
        [
         "2002",
         1.6
        ],
        [
         "2014",
         1.62
        ],
        [
         "2010",
         1.64
        ],
        [
         "2019",
         1.81
        ],
        [
         "1986",
         1.94
        ],
        [
         "2012",
         2.07
        ],
        [
         "2017",
         2.13
        ],
        [
         "1999",
         2.19
        ],
        [
         "1952",
         2.28
        ],
        [
         "2003",
         2.3
        ],
        [
         "1997",
         2.34
        ],
        [
         "2018",
         2.44
        ],
        [
         "1994",
         2.6
        ],
        [
         "2004",
         2.67
        ],
        [
         "1958",
         2.73
        ],
        [
         "1967",
         2.78
        ],
        [
         "1995",
         2.81
        ],
        [
         "2001",
         2.82
        ],
        [
         "2007",
         2.87
        ],
        [
         "1996",
         2.94
        ],
        [
         "1993",
         2.97
        ],
        [
         "1966",
         2.99
        ],
        [
         "1992",
         3.04
        ],
        [
         "2011",
         3.14
        ],
        [
         "1983",
         3.16
        ],
        [
         "2006",
         3.22
        ],
        [
         "1972",
         3.27
        ],
        [
         "2000",
         3.37
        ],
        [
         "2005",
         3.37
        ],
        [
         "1957",
         3.39
        ],
        [
         "1985",
         3.53
        ],
        [
         "1987",
         3.58
        ],
        [
         "2008",
         3.81
        ],
        [
         "2023",
         4.01
        ],
        [
         "1988",
         4.1
        ],
        [
         "1991",
         4.22
        ],
        [
         "1971",
         4.23
        ],
        [
         "1968",
         4.24
        ],
        [
         "1984",
         4.37
        ],
        [
         "2021",
         4.68
        ],
        [
         "1989",
         4.79
        ],
        [
         "1990",
         5.42
        ],
        [
         "1969",
         5.44
        ],
        [
         "1976",
         5.77
        ],
        [
         "1970",
         5.88
        ],
        [
         "1982",
         6.16
        ],
        [
         "1973",
         6.26
        ],
        [
         "1977",
         6.47
        ],
        [
         "1978",
         7.63
        ],
        [
         "1948",
         7.67
        ],
        [
         "1951",
         7.94
        ],
        [
         "2022",
         7.99
        ],
        [
         "1975",
         9.14
        ],
        [
         "1981",
         10.38
        ],
        [
         "1974",
         11.01
        ],
        [
         "1979",
         11.25
        ],
        [
         "1980",
         13.5
        ]
       ],
       "datasetInfos": [],
       "dbfsResultPath": null,
       "isJsonSchema": true,
       "metadata": {},
       "overflow": false,
       "plotOptions": {
        "customPlotOptions": {},
        "displayType": "table",
        "pivotAggregation": null,
        "pivotColumns": null,
        "xColumns": null,
        "yColumns": null
       },
       "removedWidgets": [],
       "schema": [
        {
         "metadata": "{}",
         "name": "year",
         "type": "\"string\""
        },
        {
         "metadata": "{}",
         "name": "all items price(% change) year over year",
         "type": "\"double\""
        }
       ],
       "type": "table"
      }
     },
     "output_type": "display_data"
    },
    {
     "output_type": "display_data",
     "data": {
      "text/html": [
       "<style scoped>\n",
       "  .table-result-container {\n",
       "    max-height: 300px;\n",
       "    overflow: auto;\n",
       "  }\n",
       "  table, th, td {\n",
       "    border: 1px solid black;\n",
       "    border-collapse: collapse;\n",
       "  }\n",
       "  th, td {\n",
       "    padding: 5px;\n",
       "  }\n",
       "  th {\n",
       "    text-align: left;\n",
       "  }\n",
       "</style><div class='table-result-container'><table class='table-result'><thead style='background-color: white'><tr><th>year</th><th>all items price(% change) year over year</th></tr></thead><tbody><tr><td>1949</td><td>-0.98</td></tr></tbody></table></div>"
      ]
     },
     "metadata": {
      "application/vnd.databricks.v1+output": {
       "addedWidgets": {},
       "aggData": [],
       "aggError": "",
       "aggOverflow": false,
       "aggSchema": [],
       "aggSeriesLimitReached": false,
       "aggType": "",
       "arguments": {},
       "columnCustomDisplayInfos": {},
       "data": [
        [
         "1949",
         -0.98
        ]
       ],
       "datasetInfos": [],
       "dbfsResultPath": null,
       "isJsonSchema": true,
       "metadata": {},
       "overflow": false,
       "plotOptions": {
        "customPlotOptions": {},
        "displayType": "table",
        "pivotAggregation": null,
        "pivotColumns": null,
        "xColumns": null,
        "yColumns": null
       },
       "removedWidgets": [],
       "schema": [
        {
         "metadata": "{}",
         "name": "year",
         "type": "\"string\""
        },
        {
         "metadata": "{}",
         "name": "all items price(% change) year over year",
         "type": "\"double\""
        }
       ],
       "type": "table"
      }
     },
     "output_type": "display_data"
    }
   ],
   "source": [
    "# When was the lowest inflation rate for all items between 1947 to 2023\n",
    "all_items_percent_change_sorted_by_inflation = all_items_percent_change_only.sort(col('all items price(% change) year over year').asc()).na.drop()\n",
    "display(all_items_percent_change_sorted_by_inflation)\n",
    "\n",
    "#select the lowest inflation for all items price\n",
    "display(all_items_percent_change_sorted_by_inflation.take(1))"
   ]
  },
  {
   "cell_type": "code",
   "execution_count": 0,
   "metadata": {
    "application/vnd.databricks.v1+cell": {
     "cellMetadata": {
      "byteLimit": 2048000,
      "rowLimit": 10000
     },
     "inputWidgets": {},
     "nuid": "b773d304-84e5-42a0-82a5-f7831c794b65",
     "showTitle": false,
     "title": ""
    }
   },
   "outputs": [
    {
     "output_type": "display_data",
     "data": {
      "text/html": [
       "<style scoped>\n",
       "  .table-result-container {\n",
       "    max-height: 300px;\n",
       "    overflow: auto;\n",
       "  }\n",
       "  table, th, td {\n",
       "    border: 1px solid black;\n",
       "    border-collapse: collapse;\n",
       "  }\n",
       "  th, td {\n",
       "    padding: 5px;\n",
       "  }\n",
       "  th {\n",
       "    text-align: left;\n",
       "  }\n",
       "</style><div class='table-result-container'><table class='table-result'><thead style='background-color: white'><tr><th>year</th><th>BTC price (% change) year over year</th></tr></thead><tbody><tr><td>2014</td><td>null</td></tr><tr><td>2015</td><td>0.84</td></tr><tr><td>2016</td><td>137.8</td></tr><tr><td>2017</td><td>810.84</td></tr><tr><td>2018</td><td>-18.89</td></tr><tr><td>2019</td><td>53.43</td></tr><tr><td>2020</td><td>149.91</td></tr><tr><td>2021</td><td>115.0</td></tr><tr><td>2022</td><td>-50.1</td></tr><tr><td>2023</td><td>43.7</td></tr></tbody></table></div>"
      ]
     },
     "metadata": {
      "application/vnd.databricks.v1+output": {
       "addedWidgets": {},
       "aggData": [],
       "aggError": "",
       "aggOverflow": false,
       "aggSchema": [],
       "aggSeriesLimitReached": false,
       "aggType": "",
       "arguments": {},
       "columnCustomDisplayInfos": {},
       "data": [
        [
         "2014",
         null
        ],
        [
         "2015",
         0.84
        ],
        [
         "2016",
         137.8
        ],
        [
         "2017",
         810.84
        ],
        [
         "2018",
         -18.89
        ],
        [
         "2019",
         53.43
        ],
        [
         "2020",
         149.91
        ],
        [
         "2021",
         115.0
        ],
        [
         "2022",
         -50.1
        ],
        [
         "2023",
         43.7
        ]
       ],
       "datasetInfos": [],
       "dbfsResultPath": null,
       "isJsonSchema": true,
       "metadata": {},
       "overflow": false,
       "plotOptions": {
        "customPlotOptions": {},
        "displayType": "table",
        "pivotAggregation": null,
        "pivotColumns": null,
        "xColumns": null,
        "yColumns": null
       },
       "removedWidgets": [],
       "schema": [
        {
         "metadata": "{}",
         "name": "year",
         "type": "\"string\""
        },
        {
         "metadata": "{}",
         "name": "BTC price (% change) year over year",
         "type": "\"double\""
        }
       ],
       "type": "table"
      }
     },
     "output_type": "display_data"
    }
   ],
   "source": [
    "btc_percent_change = btc_grouped_and_aggregated_sorted.withColumn('BTC avg-1',f.lag(btc_grouped_and_aggregated_sorted['BTC avg']).over(W))\\\n",
    "  .withColumn('BTC price (% change) year over year', f.round(((f.col('BTC avg') - f.col('BTC avg-1'))/f.col('BTC avg-1')*100),2))\n",
    "#btc_percent_change.show()\n",
    "btc_percent_change_change_only = btc_percent_change.select(col(\"year\"), col(\"BTC price (% change) year over year\"))\n",
    "display(btc_percent_change_change_only)"
   ]
  },
  {
   "cell_type": "markdown",
   "metadata": {
    "application/vnd.databricks.v1+cell": {
     "cellMetadata": {
      "byteLimit": 2048000,
      "rowLimit": 10000
     },
     "inputWidgets": {},
     "nuid": "6d0e9879-dafc-426f-a813-8d4c04a1be95",
     "showTitle": false,
     "title": ""
    }
   },
   "source": [
    "#### Visualization of BTC index percentage price change year over year"
   ]
  },
  {
   "cell_type": "code",
   "execution_count": 0,
   "metadata": {
    "application/vnd.databricks.v1+cell": {
     "cellMetadata": {
      "byteLimit": 2048000,
      "rowLimit": 10000
     },
     "inputWidgets": {},
     "nuid": "29a1ffbf-70f2-407d-bf47-7e7b052fc2b7",
     "showTitle": false,
     "title": ""
    }
   },
   "outputs": [
    {
     "output_type": "display_data",
     "data": {
      "text/html": [
       "<style scoped>\n",
       "  .table-result-container {\n",
       "    max-height: 300px;\n",
       "    overflow: auto;\n",
       "  }\n",
       "  table, th, td {\n",
       "    border: 1px solid black;\n",
       "    border-collapse: collapse;\n",
       "  }\n",
       "  th, td {\n",
       "    padding: 5px;\n",
       "  }\n",
       "  th {\n",
       "    text-align: left;\n",
       "  }\n",
       "</style><div class='table-result-container'><table class='table-result'><thead style='background-color: white'><tr><th>year</th><th>BTC price (% change) year over year</th></tr></thead><tbody><tr><td>2017</td><td>810.84</td></tr><tr><td>2020</td><td>149.91</td></tr><tr><td>2016</td><td>137.8</td></tr><tr><td>2021</td><td>115.0</td></tr><tr><td>2019</td><td>53.43</td></tr><tr><td>2023</td><td>43.7</td></tr><tr><td>2015</td><td>0.84</td></tr><tr><td>2018</td><td>-18.89</td></tr><tr><td>2022</td><td>-50.1</td></tr></tbody></table></div>"
      ]
     },
     "metadata": {
      "application/vnd.databricks.v1+output": {
       "addedWidgets": {},
       "aggData": [],
       "aggError": "",
       "aggOverflow": false,
       "aggSchema": [],
       "aggSeriesLimitReached": false,
       "aggType": "",
       "arguments": {},
       "columnCustomDisplayInfos": {},
       "data": [
        [
         "2017",
         810.84
        ],
        [
         "2020",
         149.91
        ],
        [
         "2016",
         137.8
        ],
        [
         "2021",
         115.0
        ],
        [
         "2019",
         53.43
        ],
        [
         "2023",
         43.7
        ],
        [
         "2015",
         0.84
        ],
        [
         "2018",
         -18.89
        ],
        [
         "2022",
         -50.1
        ]
       ],
       "datasetInfos": [],
       "dbfsResultPath": null,
       "isJsonSchema": true,
       "metadata": {},
       "overflow": false,
       "plotOptions": {
        "customPlotOptions": {},
        "displayType": "table",
        "pivotAggregation": null,
        "pivotColumns": null,
        "xColumns": null,
        "yColumns": null
       },
       "removedWidgets": [],
       "schema": [
        {
         "metadata": "{}",
         "name": "year",
         "type": "\"string\""
        },
        {
         "metadata": "{}",
         "name": "BTC price (% change) year over year",
         "type": "\"double\""
        }
       ],
       "type": "table"
      }
     },
     "output_type": "display_data"
    },
    {
     "output_type": "display_data",
     "data": {
      "text/plain": [
       "Databricks visualization. Run in Databricks to view."
      ]
     },
     "metadata": {
      "application/vnd.databricks.v1.subcommand+json": {
       "baseErrorDetails": null,
       "bindings": {},
       "collapsed": false,
       "command": "# When was the highest index change for BTC between 2014 to 2023\nbtc_percent_change_change_sorted_by_inflation = btc_percent_change_change_only.sort(col('BTC price (% change) year over year').desc()).na.drop()\ndisplay(btc_percent_change_change_sorted_by_inflation)\n\n#select the highest inflation for BTC for all time\ndisplay(btc_percent_change_change_sorted_by_inflation.take(1))",
       "commandTitle": "Visualization 1",
       "commandType": "auto",
       "commandVersion": 0,
       "commentThread": [],
       "commentsVisible": false,
       "contentSha256Hex": null,
       "customPlotOptions": {
        "areaChart": [
         {
          "key": "grouped",
          "value": true
         },
         {
          "key": "stacked",
          "value": false
         },
         {
          "key": "100_stacked",
          "value": false
         }
        ],
        "barChart": [
         {
          "key": "grouped",
          "value": true
         },
         {
          "key": "stacked",
          "value": false
         },
         {
          "key": "100_stacked",
          "value": false
         }
        ],
        "mapPlot": [],
        "plotlyBar": [
         {
          "key": "grouped",
          "value": true
         },
         {
          "key": "stacked",
          "value": false
         },
         {
          "key": "100_stacked",
          "value": false
         }
        ],
        "plotlyLine": [
         {
          "key": "yRange",
          "value": ""
         },
         {
          "key": "showPoints",
          "value": true
         },
         {
          "key": "logScale",
          "value": false
         }
        ]
       },
       "datasetPreviewNameToCmdIdMap": {},
       "diffDeletes": [],
       "diffInserts": [],
       "displayType": "plotlyLine",
       "error": null,
       "errorDetails": null,
       "errorSummary": null,
       "errorTraceType": null,
       "finishTime": 0,
       "globalVars": {},
       "guid": "",
       "height": "auto",
       "hideCommandCode": false,
       "hideCommandResult": false,
       "iPythonMetadata": null,
       "inputWidgets": {},
       "isLockedInExamMode": false,
       "latestUser": "a user",
       "latestUserId": null,
       "listResultMetadata": null,
       "metadata": {
        "byteLimit": 2048000,
        "rowLimit": 10000
       },
       "nuid": "a37e5839-7fd7-4758-940f-bd193e70c220",
       "origId": 0,
       "parentHierarchy": [],
       "pivotAggregation": "max",
       "pivotColumns": [],
       "position": 49.0,
       "resultDbfsErrorMessage": null,
       "resultDbfsStatus": "INLINED_IN_TREE",
       "results": null,
       "showCommandTitle": false,
       "startTime": 0,
       "state": "finished",
       "streamStates": {},
       "subcommandOptions": null,
       "submitTime": 0,
       "subtype": "tableResultSubCmd.visualization",
       "tableResultIndex": 0,
       "useConsistentColors": false,
       "version": "CommandV1",
       "width": "auto",
       "workflows": [],
       "xColumns": [
        "year"
       ],
       "yColumns": [
        "BTC price (% change) year over year"
       ]
      }
     },
     "output_type": "display_data"
    },
    {
     "output_type": "display_data",
     "data": {
      "text/html": [
       "<style scoped>\n",
       "  .table-result-container {\n",
       "    max-height: 300px;\n",
       "    overflow: auto;\n",
       "  }\n",
       "  table, th, td {\n",
       "    border: 1px solid black;\n",
       "    border-collapse: collapse;\n",
       "  }\n",
       "  th, td {\n",
       "    padding: 5px;\n",
       "  }\n",
       "  th {\n",
       "    text-align: left;\n",
       "  }\n",
       "</style><div class='table-result-container'><table class='table-result'><thead style='background-color: white'><tr><th>year</th><th>BTC price (% change) year over year</th></tr></thead><tbody><tr><td>2017</td><td>810.84</td></tr></tbody></table></div>"
      ]
     },
     "metadata": {
      "application/vnd.databricks.v1+output": {
       "addedWidgets": {},
       "aggData": [],
       "aggError": "",
       "aggOverflow": false,
       "aggSchema": [],
       "aggSeriesLimitReached": false,
       "aggType": "",
       "arguments": {},
       "columnCustomDisplayInfos": {},
       "data": [
        [
         "2017",
         810.84
        ]
       ],
       "datasetInfos": [],
       "dbfsResultPath": null,
       "isJsonSchema": true,
       "metadata": {},
       "overflow": false,
       "plotOptions": {
        "customPlotOptions": {},
        "displayType": "table",
        "pivotAggregation": null,
        "pivotColumns": null,
        "xColumns": null,
        "yColumns": null
       },
       "removedWidgets": [],
       "schema": [
        {
         "metadata": "{}",
         "name": "year",
         "type": "\"string\""
        },
        {
         "metadata": "{}",
         "name": "BTC price (% change) year over year",
         "type": "\"double\""
        }
       ],
       "type": "table"
      }
     },
     "output_type": "display_data"
    }
   ],
   "source": [
    "# When was the highest index change for BTC between 2014 to 2023\n",
    "btc_percent_change_change_sorted_by_inflation = btc_percent_change_change_only.sort(col('BTC price (% change) year over year').desc()).na.drop()\n",
    "display(btc_percent_change_change_sorted_by_inflation)\n",
    "\n",
    "#select the highest inflation for BTC for all time\n",
    "display(btc_percent_change_change_sorted_by_inflation.take(1))"
   ]
  },
  {
   "cell_type": "code",
   "execution_count": 0,
   "metadata": {
    "application/vnd.databricks.v1+cell": {
     "cellMetadata": {
      "byteLimit": 2048000,
      "rowLimit": 10000
     },
     "inputWidgets": {},
     "nuid": "ce4865af-b6f4-436a-b9d3-4101e20e9057",
     "showTitle": false,
     "title": ""
    }
   },
   "outputs": [
    {
     "output_type": "display_data",
     "data": {
      "text/html": [
       "<style scoped>\n",
       "  .table-result-container {\n",
       "    max-height: 300px;\n",
       "    overflow: auto;\n",
       "  }\n",
       "  table, th, td {\n",
       "    border: 1px solid black;\n",
       "    border-collapse: collapse;\n",
       "  }\n",
       "  th, td {\n",
       "    padding: 5px;\n",
       "  }\n",
       "  th {\n",
       "    text-align: left;\n",
       "  }\n",
       "</style><div class='table-result-container'><table class='table-result'><thead style='background-color: white'><tr><th>year</th><th>BTC price (% change) year over year</th></tr></thead><tbody><tr><td>2022</td><td>-50.1</td></tr></tbody></table></div>"
      ]
     },
     "metadata": {
      "application/vnd.databricks.v1+output": {
       "addedWidgets": {},
       "aggData": [],
       "aggError": "",
       "aggOverflow": false,
       "aggSchema": [],
       "aggSeriesLimitReached": false,
       "aggType": "",
       "arguments": {},
       "columnCustomDisplayInfos": {},
       "data": [
        [
         "2022",
         -50.1
        ]
       ],
       "datasetInfos": [],
       "dbfsResultPath": null,
       "isJsonSchema": true,
       "metadata": {},
       "overflow": false,
       "plotOptions": {
        "customPlotOptions": {},
        "displayType": "table",
        "pivotAggregation": null,
        "pivotColumns": null,
        "xColumns": null,
        "yColumns": null
       },
       "removedWidgets": [],
       "schema": [
        {
         "metadata": "{}",
         "name": "year",
         "type": "\"string\""
        },
        {
         "metadata": "{}",
         "name": "BTC price (% change) year over year",
         "type": "\"double\""
        }
       ],
       "type": "table"
      }
     },
     "output_type": "display_data"
    }
   ],
   "source": [
    "# When was the lowest index change for BTC between 2014 to 2023\n",
    "btc_percent_change_change_sorted_by_inflation = btc_percent_change_change_only.sort(col('BTC price (% change) year over year').asc()).na.drop()\n",
    "#display(btc_percent_change_change_sorted_by_inflation)\n",
    "\n",
    "#select the lowest inflation for BTC for all time\n",
    "display(btc_percent_change_change_sorted_by_inflation.take(1))"
   ]
  },
  {
   "cell_type": "code",
   "execution_count": 0,
   "metadata": {
    "application/vnd.databricks.v1+cell": {
     "cellMetadata": {
      "byteLimit": 2048000,
      "rowLimit": 10000
     },
     "inputWidgets": {},
     "nuid": "f3f9cc41-e22c-4b46-b492-9c3f3bb9927b",
     "showTitle": false,
     "title": ""
    }
   },
   "outputs": [
    {
     "output_type": "display_data",
     "data": {
      "text/html": [
       "<style scoped>\n",
       "  .table-result-container {\n",
       "    max-height: 300px;\n",
       "    overflow: auto;\n",
       "  }\n",
       "  table, th, td {\n",
       "    border: 1px solid black;\n",
       "    border-collapse: collapse;\n",
       "  }\n",
       "  th, td {\n",
       "    padding: 5px;\n",
       "  }\n",
       "  th {\n",
       "    text-align: left;\n",
       "  }\n",
       "</style><div class='table-result-container'><table class='table-result'><thead style='background-color: white'><tr><th>year</th><th>weekly wage (% change) year over year</th></tr></thead><tbody><tr><td>1979</td><td>null</td></tr><tr><td>1980</td><td>8.73</td></tr><tr><td>1981</td><td>8.22</td></tr><tr><td>1982</td><td>6.54</td></tr><tr><td>1983</td><td>3.73</td></tr><tr><td>1984</td><td>4.16</td></tr><tr><td>1985</td><td>5.45</td></tr><tr><td>1986</td><td>4.37</td></tr><tr><td>1987</td><td>4.04</td></tr><tr><td>1988</td><td>3.22</td></tr><tr><td>1989</td><td>3.77</td></tr><tr><td>1990</td><td>3.19</td></tr><tr><td>1991</td><td>3.52</td></tr><tr><td>1992</td><td>3.16</td></tr><tr><td>1993</td><td>4.15</td></tr><tr><td>1994</td><td>1.85</td></tr><tr><td>1995</td><td>2.57</td></tr><tr><td>1996</td><td>2.4</td></tr><tr><td>1997</td><td>2.6</td></tr><tr><td>1998</td><td>4.17</td></tr><tr><td>1999</td><td>4.67</td></tr><tr><td>2000</td><td>4.83</td></tr><tr><td>2001</td><td>3.56</td></tr><tr><td>2002</td><td>2.06</td></tr><tr><td>2003</td><td>1.93</td></tr><tr><td>2004</td><td>2.94</td></tr><tr><td>2005</td><td>2.04</td></tr><tr><td>2006</td><td>3.07</td></tr><tr><td>2007</td><td>3.5</td></tr><tr><td>2008</td><td>3.89</td></tr><tr><td>2009</td><td>2.49</td></tr><tr><td>2010</td><td>0.95</td></tr><tr><td>2011</td><td>1.31</td></tr><tr><td>2012</td><td>1.59</td></tr><tr><td>2013</td><td>1.07</td></tr><tr><td>2014</td><td>1.9</td></tr><tr><td>2015</td><td>2.27</td></tr><tr><td>2016</td><td>2.87</td></tr><tr><td>2017</td><td>3.3</td></tr><tr><td>2018</td><td>3.02</td></tr><tr><td>2019</td><td>3.5</td></tr><tr><td>2020</td><td>7.33</td></tr><tr><td>2021</td><td>1.35</td></tr><tr><td>2022</td><td>6.09</td></tr><tr><td>2023</td><td>4.51</td></tr><tr><td>id</td><td>null</td></tr></tbody></table></div>"
      ]
     },
     "metadata": {
      "application/vnd.databricks.v1+output": {
       "addedWidgets": {},
       "aggData": [],
       "aggError": "",
       "aggOverflow": false,
       "aggSchema": [],
       "aggSeriesLimitReached": false,
       "aggType": "",
       "arguments": {},
       "columnCustomDisplayInfos": {},
       "data": [
        [
         "1979",
         null
        ],
        [
         "1980",
         8.73
        ],
        [
         "1981",
         8.22
        ],
        [
         "1982",
         6.54
        ],
        [
         "1983",
         3.73
        ],
        [
         "1984",
         4.16
        ],
        [
         "1985",
         5.45
        ],
        [
         "1986",
         4.37
        ],
        [
         "1987",
         4.04
        ],
        [
         "1988",
         3.22
        ],
        [
         "1989",
         3.77
        ],
        [
         "1990",
         3.19
        ],
        [
         "1991",
         3.52
        ],
        [
         "1992",
         3.16
        ],
        [
         "1993",
         4.15
        ],
        [
         "1994",
         1.85
        ],
        [
         "1995",
         2.57
        ],
        [
         "1996",
         2.4
        ],
        [
         "1997",
         2.6
        ],
        [
         "1998",
         4.17
        ],
        [
         "1999",
         4.67
        ],
        [
         "2000",
         4.83
        ],
        [
         "2001",
         3.56
        ],
        [
         "2002",
         2.06
        ],
        [
         "2003",
         1.93
        ],
        [
         "2004",
         2.94
        ],
        [
         "2005",
         2.04
        ],
        [
         "2006",
         3.07
        ],
        [
         "2007",
         3.5
        ],
        [
         "2008",
         3.89
        ],
        [
         "2009",
         2.49
        ],
        [
         "2010",
         0.95
        ],
        [
         "2011",
         1.31
        ],
        [
         "2012",
         1.59
        ],
        [
         "2013",
         1.07
        ],
        [
         "2014",
         1.9
        ],
        [
         "2015",
         2.27
        ],
        [
         "2016",
         2.87
        ],
        [
         "2017",
         3.3
        ],
        [
         "2018",
         3.02
        ],
        [
         "2019",
         3.5
        ],
        [
         "2020",
         7.33
        ],
        [
         "2021",
         1.35
        ],
        [
         "2022",
         6.09
        ],
        [
         "2023",
         4.51
        ],
        [
         "id",
         null
        ]
       ],
       "datasetInfos": [],
       "dbfsResultPath": null,
       "isJsonSchema": true,
       "metadata": {},
       "overflow": false,
       "plotOptions": {
        "customPlotOptions": {},
        "displayType": "table",
        "pivotAggregation": null,
        "pivotColumns": null,
        "xColumns": null,
        "yColumns": null
       },
       "removedWidgets": [],
       "schema": [
        {
         "metadata": "{}",
         "name": "year",
         "type": "\"string\""
        },
        {
         "metadata": "{}",
         "name": "weekly wage (% change) year over year",
         "type": "\"double\""
        }
       ],
       "type": "table"
      }
     },
     "output_type": "display_data"
    }
   ],
   "source": [
    "weekly_wage_percent_change = weekly_wages_grouped_aggregated_sorted.withColumn('weekly wage avg-1',f.lag(weekly_wages_grouped_aggregated_sorted['weekly wage avg']).over(W))\\\n",
    "  .withColumn('weekly wage (% change) year over year', f.round(((f.col('weekly wage avg') - f.col('weekly wage avg-1'))/f.col('weekly wage avg-1')*100),2))\n",
    "#weekly_wage_percent_change.show()\n",
    "weekly_wage_percent_change_only = weekly_wage_percent_change.select(col(\"year\"), col(\"weekly wage (% change) year over year\"))\n",
    "display(weekly_wage_percent_change_only)"
   ]
  },
  {
   "cell_type": "markdown",
   "metadata": {
    "application/vnd.databricks.v1+cell": {
     "cellMetadata": {
      "byteLimit": 2048000,
      "rowLimit": 10000
     },
     "inputWidgets": {},
     "nuid": "5300bffe-8a37-49b4-a65b-6ebb334ad958",
     "showTitle": false,
     "title": ""
    }
   },
   "source": [
    "#### Visualization of weekly wage change for U.S full time employees between 1979 to 2023"
   ]
  },
  {
   "cell_type": "code",
   "execution_count": 0,
   "metadata": {
    "application/vnd.databricks.v1+cell": {
     "cellMetadata": {
      "byteLimit": 2048000,
      "rowLimit": 10000
     },
     "inputWidgets": {},
     "nuid": "083eb9f0-6e53-412f-9826-f06d46d1d2f2",
     "showTitle": false,
     "title": ""
    }
   },
   "outputs": [
    {
     "output_type": "display_data",
     "data": {
      "text/html": [
       "<style scoped>\n",
       "  .table-result-container {\n",
       "    max-height: 300px;\n",
       "    overflow: auto;\n",
       "  }\n",
       "  table, th, td {\n",
       "    border: 1px solid black;\n",
       "    border-collapse: collapse;\n",
       "  }\n",
       "  th, td {\n",
       "    padding: 5px;\n",
       "  }\n",
       "  th {\n",
       "    text-align: left;\n",
       "  }\n",
       "</style><div class='table-result-container'><table class='table-result'><thead style='background-color: white'><tr><th>year</th><th>weekly wage (% change) year over year</th></tr></thead><tbody><tr><td>1980</td><td>8.73</td></tr><tr><td>1981</td><td>8.22</td></tr><tr><td>2020</td><td>7.33</td></tr><tr><td>1982</td><td>6.54</td></tr><tr><td>2022</td><td>6.09</td></tr><tr><td>1985</td><td>5.45</td></tr><tr><td>2000</td><td>4.83</td></tr><tr><td>1999</td><td>4.67</td></tr><tr><td>2023</td><td>4.51</td></tr><tr><td>1986</td><td>4.37</td></tr><tr><td>1998</td><td>4.17</td></tr><tr><td>1984</td><td>4.16</td></tr><tr><td>1993</td><td>4.15</td></tr><tr><td>1987</td><td>4.04</td></tr><tr><td>2008</td><td>3.89</td></tr><tr><td>1989</td><td>3.77</td></tr><tr><td>1983</td><td>3.73</td></tr><tr><td>2001</td><td>3.56</td></tr><tr><td>1991</td><td>3.52</td></tr><tr><td>2007</td><td>3.5</td></tr><tr><td>2019</td><td>3.5</td></tr><tr><td>2017</td><td>3.3</td></tr><tr><td>1988</td><td>3.22</td></tr><tr><td>1990</td><td>3.19</td></tr><tr><td>1992</td><td>3.16</td></tr><tr><td>2006</td><td>3.07</td></tr><tr><td>2018</td><td>3.02</td></tr><tr><td>2004</td><td>2.94</td></tr><tr><td>2016</td><td>2.87</td></tr><tr><td>1997</td><td>2.6</td></tr><tr><td>1995</td><td>2.57</td></tr><tr><td>2009</td><td>2.49</td></tr><tr><td>1996</td><td>2.4</td></tr><tr><td>2015</td><td>2.27</td></tr><tr><td>2002</td><td>2.06</td></tr><tr><td>2005</td><td>2.04</td></tr><tr><td>2003</td><td>1.93</td></tr><tr><td>2014</td><td>1.9</td></tr><tr><td>1994</td><td>1.85</td></tr><tr><td>2012</td><td>1.59</td></tr><tr><td>2021</td><td>1.35</td></tr><tr><td>2011</td><td>1.31</td></tr><tr><td>2013</td><td>1.07</td></tr><tr><td>2010</td><td>0.95</td></tr></tbody></table></div>"
      ]
     },
     "metadata": {
      "application/vnd.databricks.v1+output": {
       "addedWidgets": {},
       "aggData": [],
       "aggError": "",
       "aggOverflow": false,
       "aggSchema": [],
       "aggSeriesLimitReached": false,
       "aggType": "",
       "arguments": {},
       "columnCustomDisplayInfos": {},
       "data": [
        [
         "1980",
         8.73
        ],
        [
         "1981",
         8.22
        ],
        [
         "2020",
         7.33
        ],
        [
         "1982",
         6.54
        ],
        [
         "2022",
         6.09
        ],
        [
         "1985",
         5.45
        ],
        [
         "2000",
         4.83
        ],
        [
         "1999",
         4.67
        ],
        [
         "2023",
         4.51
        ],
        [
         "1986",
         4.37
        ],
        [
         "1998",
         4.17
        ],
        [
         "1984",
         4.16
        ],
        [
         "1993",
         4.15
        ],
        [
         "1987",
         4.04
        ],
        [
         "2008",
         3.89
        ],
        [
         "1989",
         3.77
        ],
        [
         "1983",
         3.73
        ],
        [
         "2001",
         3.56
        ],
        [
         "1991",
         3.52
        ],
        [
         "2007",
         3.5
        ],
        [
         "2019",
         3.5
        ],
        [
         "2017",
         3.3
        ],
        [
         "1988",
         3.22
        ],
        [
         "1990",
         3.19
        ],
        [
         "1992",
         3.16
        ],
        [
         "2006",
         3.07
        ],
        [
         "2018",
         3.02
        ],
        [
         "2004",
         2.94
        ],
        [
         "2016",
         2.87
        ],
        [
         "1997",
         2.6
        ],
        [
         "1995",
         2.57
        ],
        [
         "2009",
         2.49
        ],
        [
         "1996",
         2.4
        ],
        [
         "2015",
         2.27
        ],
        [
         "2002",
         2.06
        ],
        [
         "2005",
         2.04
        ],
        [
         "2003",
         1.93
        ],
        [
         "2014",
         1.9
        ],
        [
         "1994",
         1.85
        ],
        [
         "2012",
         1.59
        ],
        [
         "2021",
         1.35
        ],
        [
         "2011",
         1.31
        ],
        [
         "2013",
         1.07
        ],
        [
         "2010",
         0.95
        ]
       ],
       "datasetInfos": [],
       "dbfsResultPath": null,
       "isJsonSchema": true,
       "metadata": {},
       "overflow": false,
       "plotOptions": {
        "customPlotOptions": {},
        "displayType": "table",
        "pivotAggregation": null,
        "pivotColumns": null,
        "xColumns": null,
        "yColumns": null
       },
       "removedWidgets": [],
       "schema": [
        {
         "metadata": "{}",
         "name": "year",
         "type": "\"string\""
        },
        {
         "metadata": "{}",
         "name": "weekly wage (% change) year over year",
         "type": "\"double\""
        }
       ],
       "type": "table"
      }
     },
     "output_type": "display_data"
    },
    {
     "output_type": "display_data",
     "data": {
      "text/plain": [
       "Databricks visualization. Run in Databricks to view."
      ]
     },
     "metadata": {
      "application/vnd.databricks.v1.subcommand+json": {
       "baseErrorDetails": null,
       "bindings": {},
       "collapsed": false,
       "command": "# When was the highest index change for weekly wage change for U.S full time employees between 1979 to 2023\nweekly_wage_percent_change_change_sorted_by_inflation = weekly_wage_percent_change_only.sort(col('weekly wage (% change) year over year').desc()).na.drop()\ndisplay(weekly_wage_percent_change_change_sorted_by_inflation)\n\n#select the highest inflation for weekly wage\ndisplay(weekly_wage_percent_change_change_sorted_by_inflation.take(1))",
       "commandTitle": "Visualization 1",
       "commandType": "auto",
       "commandVersion": 0,
       "commentThread": [],
       "commentsVisible": false,
       "contentSha256Hex": null,
       "customPlotOptions": {
        "plotlyBar": [
         {
          "key": "grouped",
          "value": true
         },
         {
          "key": "stacked",
          "value": false
         },
         {
          "key": "100_stacked",
          "value": false
         }
        ],
        "plotlyLine": [
         {
          "key": "yRange",
          "value": ""
         },
         {
          "key": "showPoints",
          "value": false
         },
         {
          "key": "logScale",
          "value": false
         }
        ]
       },
       "datasetPreviewNameToCmdIdMap": {},
       "diffDeletes": [],
       "diffInserts": [],
       "displayType": "plotlyLine",
       "error": null,
       "errorDetails": null,
       "errorSummary": null,
       "errorTraceType": null,
       "finishTime": 0,
       "globalVars": {},
       "guid": "",
       "height": "auto",
       "hideCommandCode": false,
       "hideCommandResult": false,
       "iPythonMetadata": null,
       "inputWidgets": {},
       "isLockedInExamMode": false,
       "latestUser": "a user",
       "latestUserId": null,
       "listResultMetadata": null,
       "metadata": {
        "byteLimit": 2048000,
        "rowLimit": 10000
       },
       "nuid": "c39a20e7-5a38-4773-9e9f-6a5e32d2ecec",
       "origId": 0,
       "parentHierarchy": [],
       "pivotAggregation": "sum",
       "pivotColumns": [],
       "position": 52.0,
       "resultDbfsErrorMessage": null,
       "resultDbfsStatus": "INLINED_IN_TREE",
       "results": null,
       "showCommandTitle": false,
       "startTime": 0,
       "state": "finished",
       "streamStates": {},
       "subcommandOptions": null,
       "submitTime": 0,
       "subtype": "tableResultSubCmd.visualization",
       "tableResultIndex": 0,
       "useConsistentColors": false,
       "version": "CommandV1",
       "width": "auto",
       "workflows": [],
       "xColumns": [
        "year"
       ],
       "yColumns": [
        "weekly wage (% change) year over year"
       ]
      }
     },
     "output_type": "display_data"
    },
    {
     "output_type": "display_data",
     "data": {
      "text/html": [
       "<style scoped>\n",
       "  .table-result-container {\n",
       "    max-height: 300px;\n",
       "    overflow: auto;\n",
       "  }\n",
       "  table, th, td {\n",
       "    border: 1px solid black;\n",
       "    border-collapse: collapse;\n",
       "  }\n",
       "  th, td {\n",
       "    padding: 5px;\n",
       "  }\n",
       "  th {\n",
       "    text-align: left;\n",
       "  }\n",
       "</style><div class='table-result-container'><table class='table-result'><thead style='background-color: white'><tr><th>year</th><th>weekly wage (% change) year over year</th></tr></thead><tbody><tr><td>1980</td><td>8.73</td></tr></tbody></table></div>"
      ]
     },
     "metadata": {
      "application/vnd.databricks.v1+output": {
       "addedWidgets": {},
       "aggData": [],
       "aggError": "",
       "aggOverflow": false,
       "aggSchema": [],
       "aggSeriesLimitReached": false,
       "aggType": "",
       "arguments": {},
       "columnCustomDisplayInfos": {},
       "data": [
        [
         "1980",
         8.73
        ]
       ],
       "datasetInfos": [],
       "dbfsResultPath": null,
       "isJsonSchema": true,
       "metadata": {},
       "overflow": false,
       "plotOptions": {
        "customPlotOptions": {},
        "displayType": "table",
        "pivotAggregation": null,
        "pivotColumns": null,
        "xColumns": null,
        "yColumns": null
       },
       "removedWidgets": [],
       "schema": [
        {
         "metadata": "{}",
         "name": "year",
         "type": "\"string\""
        },
        {
         "metadata": "{}",
         "name": "weekly wage (% change) year over year",
         "type": "\"double\""
        }
       ],
       "type": "table"
      }
     },
     "output_type": "display_data"
    }
   ],
   "source": [
    "# When was the highest index change for weekly wage change for U.S full time employees between 1979 to 2023\n",
    "weekly_wage_percent_change_change_sorted_by_inflation = weekly_wage_percent_change_only.sort(col('weekly wage (% change) year over year').desc()).na.drop()\n",
    "display(weekly_wage_percent_change_change_sorted_by_inflation)\n",
    "\n",
    "#select the highest inflation for weekly wage\n",
    "display(weekly_wage_percent_change_change_sorted_by_inflation.take(1))"
   ]
  },
  {
   "cell_type": "code",
   "execution_count": 0,
   "metadata": {
    "application/vnd.databricks.v1+cell": {
     "cellMetadata": {
      "byteLimit": 2048000,
      "rowLimit": 10000
     },
     "inputWidgets": {},
     "nuid": "be0fa296-149b-4c76-a68b-226e479ae37f",
     "showTitle": false,
     "title": ""
    }
   },
   "outputs": [
    {
     "output_type": "display_data",
     "data": {
      "text/html": [
       "<style scoped>\n",
       "  .table-result-container {\n",
       "    max-height: 300px;\n",
       "    overflow: auto;\n",
       "  }\n",
       "  table, th, td {\n",
       "    border: 1px solid black;\n",
       "    border-collapse: collapse;\n",
       "  }\n",
       "  th, td {\n",
       "    padding: 5px;\n",
       "  }\n",
       "  th {\n",
       "    text-align: left;\n",
       "  }\n",
       "</style><div class='table-result-container'><table class='table-result'><thead style='background-color: white'><tr><th>year</th><th>weekly wage (% change) year over year</th></tr></thead><tbody><tr><td>2010</td><td>0.95</td></tr><tr><td>2013</td><td>1.07</td></tr><tr><td>2011</td><td>1.31</td></tr><tr><td>2021</td><td>1.35</td></tr><tr><td>2012</td><td>1.59</td></tr><tr><td>1994</td><td>1.85</td></tr><tr><td>2014</td><td>1.9</td></tr><tr><td>2003</td><td>1.93</td></tr><tr><td>2005</td><td>2.04</td></tr><tr><td>2002</td><td>2.06</td></tr><tr><td>2015</td><td>2.27</td></tr><tr><td>1996</td><td>2.4</td></tr><tr><td>2009</td><td>2.49</td></tr><tr><td>1995</td><td>2.57</td></tr><tr><td>1997</td><td>2.6</td></tr><tr><td>2016</td><td>2.87</td></tr><tr><td>2004</td><td>2.94</td></tr><tr><td>2018</td><td>3.02</td></tr><tr><td>2006</td><td>3.07</td></tr><tr><td>1992</td><td>3.16</td></tr><tr><td>1990</td><td>3.19</td></tr><tr><td>1988</td><td>3.22</td></tr><tr><td>2017</td><td>3.3</td></tr><tr><td>2007</td><td>3.5</td></tr><tr><td>2019</td><td>3.5</td></tr><tr><td>1991</td><td>3.52</td></tr><tr><td>2001</td><td>3.56</td></tr><tr><td>1983</td><td>3.73</td></tr><tr><td>1989</td><td>3.77</td></tr><tr><td>2008</td><td>3.89</td></tr><tr><td>1987</td><td>4.04</td></tr><tr><td>1993</td><td>4.15</td></tr><tr><td>1984</td><td>4.16</td></tr><tr><td>1998</td><td>4.17</td></tr><tr><td>1986</td><td>4.37</td></tr><tr><td>2023</td><td>4.51</td></tr><tr><td>1999</td><td>4.67</td></tr><tr><td>2000</td><td>4.83</td></tr><tr><td>1985</td><td>5.45</td></tr><tr><td>2022</td><td>6.09</td></tr><tr><td>1982</td><td>6.54</td></tr><tr><td>2020</td><td>7.33</td></tr><tr><td>1981</td><td>8.22</td></tr><tr><td>1980</td><td>8.73</td></tr></tbody></table></div>"
      ]
     },
     "metadata": {
      "application/vnd.databricks.v1+output": {
       "addedWidgets": {},
       "aggData": [],
       "aggError": "",
       "aggOverflow": false,
       "aggSchema": [],
       "aggSeriesLimitReached": false,
       "aggType": "",
       "arguments": {},
       "columnCustomDisplayInfos": {},
       "data": [
        [
         "2010",
         0.95
        ],
        [
         "2013",
         1.07
        ],
        [
         "2011",
         1.31
        ],
        [
         "2021",
         1.35
        ],
        [
         "2012",
         1.59
        ],
        [
         "1994",
         1.85
        ],
        [
         "2014",
         1.9
        ],
        [
         "2003",
         1.93
        ],
        [
         "2005",
         2.04
        ],
        [
         "2002",
         2.06
        ],
        [
         "2015",
         2.27
        ],
        [
         "1996",
         2.4
        ],
        [
         "2009",
         2.49
        ],
        [
         "1995",
         2.57
        ],
        [
         "1997",
         2.6
        ],
        [
         "2016",
         2.87
        ],
        [
         "2004",
         2.94
        ],
        [
         "2018",
         3.02
        ],
        [
         "2006",
         3.07
        ],
        [
         "1992",
         3.16
        ],
        [
         "1990",
         3.19
        ],
        [
         "1988",
         3.22
        ],
        [
         "2017",
         3.3
        ],
        [
         "2007",
         3.5
        ],
        [
         "2019",
         3.5
        ],
        [
         "1991",
         3.52
        ],
        [
         "2001",
         3.56
        ],
        [
         "1983",
         3.73
        ],
        [
         "1989",
         3.77
        ],
        [
         "2008",
         3.89
        ],
        [
         "1987",
         4.04
        ],
        [
         "1993",
         4.15
        ],
        [
         "1984",
         4.16
        ],
        [
         "1998",
         4.17
        ],
        [
         "1986",
         4.37
        ],
        [
         "2023",
         4.51
        ],
        [
         "1999",
         4.67
        ],
        [
         "2000",
         4.83
        ],
        [
         "1985",
         5.45
        ],
        [
         "2022",
         6.09
        ],
        [
         "1982",
         6.54
        ],
        [
         "2020",
         7.33
        ],
        [
         "1981",
         8.22
        ],
        [
         "1980",
         8.73
        ]
       ],
       "datasetInfos": [],
       "dbfsResultPath": null,
       "isJsonSchema": true,
       "metadata": {},
       "overflow": false,
       "plotOptions": {
        "customPlotOptions": {},
        "displayType": "table",
        "pivotAggregation": null,
        "pivotColumns": null,
        "xColumns": null,
        "yColumns": null
       },
       "removedWidgets": [],
       "schema": [
        {
         "metadata": "{}",
         "name": "year",
         "type": "\"string\""
        },
        {
         "metadata": "{}",
         "name": "weekly wage (% change) year over year",
         "type": "\"double\""
        }
       ],
       "type": "table"
      }
     },
     "output_type": "display_data"
    },
    {
     "output_type": "display_data",
     "data": {
      "text/html": [
       "<style scoped>\n",
       "  .table-result-container {\n",
       "    max-height: 300px;\n",
       "    overflow: auto;\n",
       "  }\n",
       "  table, th, td {\n",
       "    border: 1px solid black;\n",
       "    border-collapse: collapse;\n",
       "  }\n",
       "  th, td {\n",
       "    padding: 5px;\n",
       "  }\n",
       "  th {\n",
       "    text-align: left;\n",
       "  }\n",
       "</style><div class='table-result-container'><table class='table-result'><thead style='background-color: white'><tr><th>year</th><th>weekly wage (% change) year over year</th></tr></thead><tbody><tr><td>2010</td><td>0.95</td></tr></tbody></table></div>"
      ]
     },
     "metadata": {
      "application/vnd.databricks.v1+output": {
       "addedWidgets": {},
       "aggData": [],
       "aggError": "",
       "aggOverflow": false,
       "aggSchema": [],
       "aggSeriesLimitReached": false,
       "aggType": "",
       "arguments": {},
       "columnCustomDisplayInfos": {},
       "data": [
        [
         "2010",
         0.95
        ]
       ],
       "datasetInfos": [],
       "dbfsResultPath": null,
       "isJsonSchema": true,
       "metadata": {},
       "overflow": false,
       "plotOptions": {
        "customPlotOptions": {},
        "displayType": "table",
        "pivotAggregation": null,
        "pivotColumns": null,
        "xColumns": null,
        "yColumns": null
       },
       "removedWidgets": [],
       "schema": [
        {
         "metadata": "{}",
         "name": "year",
         "type": "\"string\""
        },
        {
         "metadata": "{}",
         "name": "weekly wage (% change) year over year",
         "type": "\"double\""
        }
       ],
       "type": "table"
      }
     },
     "output_type": "display_data"
    }
   ],
   "source": [
    "# When was the lowest index change for weekly change for U.S full time employess between 1979 to 2023\n",
    "weekly_wage_percent_change_change_sorted_by_inflation = weekly_wage_percent_change_only.sort(col('weekly wage (% change) year over year').asc()).na.drop()\n",
    "display(weekly_wage_percent_change_change_sorted_by_inflation)\n",
    "\n",
    "#select the lowest inflation for weekly wage\n",
    "display(weekly_wage_percent_change_change_sorted_by_inflation.take(1))"
   ]
  },
  {
   "cell_type": "code",
   "execution_count": 0,
   "metadata": {
    "application/vnd.databricks.v1+cell": {
     "cellMetadata": {
      "byteLimit": 2048000,
      "rowLimit": 10000
     },
     "inputWidgets": {},
     "nuid": "3749406b-c58b-488e-a056-41c24f006256",
     "showTitle": false,
     "title": ""
    }
   },
   "outputs": [],
   "source": []
  }
 ],
 "metadata": {
  "application/vnd.databricks.v1+notebook": {
   "dashboards": [
    {
     "elements": [
      {
       "dashboardResultIndex": 0,
       "elementNUID": "99977066-bed5-493a-bbec-580d095523b6",
       "elementType": "command",
       "guid": "d7b9f714-ae8c-4c5e-8a52-0d5028d04d44",
       "options": null,
       "position": {
        "height": 6,
        "width": 12,
        "x": 0,
        "y": 0,
        "z": null
       },
       "resultIndex": null
      }
     ],
     "globalVars": {},
     "guid": "",
     "layoutOption": {
      "grid": true,
      "stack": false
     },
     "nuid": "c4a5455b-53fb-40a3-af30-89da37d21d55",
     "origId": 2478740793495223,
     "title": "Untitled",
     "version": "DashboardViewV1",
     "width": 1024
    }
   ],
   "environmentMetadata": null,
   "language": "python",
   "notebookMetadata": {
    "mostRecentlyExecutedCommandWithImplicitDF": {
     "commandId": -1,
     "dataframes": [
      "_sqldf"
     ]
    },
    "pythonIndentUnit": 4
   },
   "notebookName": "Data Lake Engineering Project- Inflation Analysis",
   "widgets": {}
  }
 },
 "nbformat": 4,
 "nbformat_minor": 0
}
